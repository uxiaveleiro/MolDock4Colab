{
  "cells": [
    {
      "cell_type": "code",
      "source": [
        "%%capture\n",
        "%%bash\n",
        "\n",
        "## Loading Enviromet\n",
        "\n",
        "## packages installation for running notebook\n",
        "pip install nglview\n",
        "pip install ipywidgets==7.0.0\n",
        "# pip install biopython\n",
        "pip install rdkit-pypi\n",
        "\n",
        "# pip install \"biobb_io==3.8.0\"\n",
        "# pip install \"biobb_structure_utils>=3.8.0\"\n",
        "# pip install \"biobb_vs>=3.8.1\""
      ],
      "metadata": {
        "id": "IfJrFb9h2vH5"
      },
      "id": "IfJrFb9h2vH5",
      "execution_count": 39,
      "outputs": []
    },
    {
      "cell_type": "code",
      "source": [
        "from google.colab import output\n",
        "output.enable_custom_widget_manager()"
      ],
      "metadata": {
        "id": "dbI0WqDG3trW"
      },
      "id": "dbI0WqDG3trW",
      "execution_count": 40,
      "outputs": []
    },
    {
      "cell_type": "code",
      "source": [
        "# import drive (it may ask for permission)\n",
        "from google.colab import drive\n",
        "drive.mount('/content/drive')\n",
        "\n",
        "PATHWDIR = '/content/drive/MyDrive/MolDock4Colab'"
      ],
      "metadata": {
        "id": "b7O1VBRO24DQ",
        "colab": {
          "base_uri": "https://localhost:8080/"
        },
        "outputId": "066bbeb7-e58c-4e7b-9dea-78ee18c972d3"
      },
      "id": "b7O1VBRO24DQ",
      "execution_count": 41,
      "outputs": [
        {
          "output_type": "stream",
          "name": "stdout",
          "text": [
            "Drive already mounted at /content/drive; to attempt to forcibly remount, call drive.mount(\"/content/drive\", force_remount=True).\n"
          ]
        }
      ]
    },
    {
      "cell_type": "code",
      "source": [
        "import os\n",
        "### INSTAL SMINA !!!\n",
        "SMINA = os.path.join(PATHWDIR, 'smina.static')\n",
        "SMINA\n",
        "\n",
        "! wget https://sourceforge.net/projects/smina/files/smina.static/download -O '{SMINA}'\n",
        "! chmod u+x '{SMINA}'"
      ],
      "metadata": {
        "id": "yTNs0s16-gzh",
        "colab": {
          "base_uri": "https://localhost:8080/"
        },
        "outputId": "754495fe-dab2-4fe4-cafc-d80a0753d985"
      },
      "id": "yTNs0s16-gzh",
      "execution_count": 42,
      "outputs": [
        {
          "output_type": "stream",
          "name": "stdout",
          "text": [
            "--2023-04-19 14:18:05--  https://sourceforge.net/projects/smina/files/smina.static/download\n",
            "Resolving sourceforge.net (sourceforge.net)... 104.18.11.128, 104.18.10.128, 2606:4700::6812:a80, ...\n",
            "Connecting to sourceforge.net (sourceforge.net)|104.18.11.128|:443... connected.\n",
            "HTTP request sent, awaiting response... 302 Found\n",
            "Location: https://downloads.sourceforge.net/project/smina/smina.static?ts=gAAAAABkP_geqNeQVVVZHK76N3H3yEkyhg5uP-_lgaiO1ByF4oWyBKBt_eSupFs2JlFGbl-pkmoPzD1eaXmVFwO3sneN28n6hQ%3D%3D&use_mirror=cfhcable&r= [following]\n",
            "--2023-04-19 14:18:06--  https://downloads.sourceforge.net/project/smina/smina.static?ts=gAAAAABkP_geqNeQVVVZHK76N3H3yEkyhg5uP-_lgaiO1ByF4oWyBKBt_eSupFs2JlFGbl-pkmoPzD1eaXmVFwO3sneN28n6hQ%3D%3D&use_mirror=cfhcable&r=\n",
            "Resolving downloads.sourceforge.net (downloads.sourceforge.net)... 204.68.111.105\n",
            "Connecting to downloads.sourceforge.net (downloads.sourceforge.net)|204.68.111.105|:443... connected.\n",
            "HTTP request sent, awaiting response... 302 Found\n",
            "Location: https://cfhcable.dl.sourceforge.net/project/smina/smina.static [following]\n",
            "--2023-04-19 14:18:06--  https://cfhcable.dl.sourceforge.net/project/smina/smina.static\n",
            "Resolving cfhcable.dl.sourceforge.net (cfhcable.dl.sourceforge.net)... 146.71.73.6\n",
            "Connecting to cfhcable.dl.sourceforge.net (cfhcable.dl.sourceforge.net)|146.71.73.6|:443... connected.\n",
            "HTTP request sent, awaiting response... 200 OK\n",
            "Length: 9853920 (9.4M) [application/octet-stream]\n",
            "Saving to: ‘/content/drive/MyDrive/MolDock4Colab/smina.static’\n",
            "\n",
            "/content/drive/MyDr 100%[===================>]   9.40M  6.59MB/s    in 1.4s    \n",
            "\n",
            "2023-04-19 14:18:08 (6.59 MB/s) - ‘/content/drive/MyDrive/MolDock4Colab/smina.static’ saved [9853920/9853920]\n",
            "\n"
          ]
        }
      ]
    },
    {
      "cell_type": "markdown",
      "id": "8e0b817d",
      "metadata": {
        "id": "8e0b817d"
      },
      "source": [
        "# 3. Running Molecular Docking as in a Virtual Screening Experiment"
      ]
    },
    {
      "cell_type": "markdown",
      "id": "fba3089a",
      "metadata": {
        "id": "fba3089a"
      },
      "source": [
        "Virtual Screening (VS) methods are utilized to sift through vast databases of compounds and identify promising drug candidates or biologically active molecules through computer-based screening. One of the most popular techniques employed in this regard is Molecular Docking, which simulates the interactions between molecules to predict their binding affinities and determine their suitability for therapeutic use\n",
        "\n",
        "\n",
        "You can take a look to [this article](https://www.sciencedirect.com/science/article/pii/B9780128191323000142?via%3Dihub) were some basics of VS are prsented."
      ]
    },
    {
      "cell_type": "markdown",
      "id": "993ae52d",
      "metadata": {
        "id": "993ae52d"
      },
      "source": [
        "For running this notebook we need the files obtained in previous steps: receptor in pdbqt, box.pdb, and chemical library created with Data Warrior.\n",
        "This notebook uses SMINA. \n",
        "\n",
        "**Outline:**\n",
        "    \n",
        "    3.1. Load Target\n",
        "    3.2. Load Chemical Library\n",
        "    3.3. Perform VS with SMINA\n",
        "    \n",
        "\n",
        "\n",
        "About SMINA:\n",
        "\n",
        "SMINA is a fork of Autodock Vina (http://vina.scripps.edu/) that \n",
        "focuses on improving scoring and minimization.  Changes from the\n",
        "standard Vina (version 1.1.2) include:\n",
        "\n",
        " - **comprehensive support for ligand molecular formats (via OpenBabel)**\n",
        " -support for multi-ligand files (e.g., an sdf file)*\n",
        " -support for addition term types (e.g., desolvation, electrostatics)\n",
        " -support for custom, user-parameterized scoring functions (see --custom_scoring)\n",
        " -automatic box creation based on a user-specified bound ligand\n",
        " -allow the output of more than 20 docking poses\n",
        " -vastly improved minimization algorithms (--minimize goes to convergence)\n",
        " \n",
        "For workflows where AutoDock Vina is used for minimization (local_only) \n",
        "as opposed to of docking, these changes make Vina much easer to use and \n",
        "10-20x faster. Docking performance is about the same since partial charge \n",
        "calculation and file i/o isn't such a big part of the performance.\n",
        "\n",
        "If you find smina useful, please cite our paper: \n",
        "http://pubs.acs.org/doi/abs/10.1021/ci300604z\n",
        "\n",
        "**Non-pdbqt ligand files must have partial charges added.  This is done\n",
        "using OpenBabel and will get different results than the prepare_ligand4.py\n",
        "script that comes with AutoDock Tools.**\n",
        "\n",
        "\n",
        "Pre-built binaries are provided that were built on Ubuntu 14.04.  The main\n",
        "dependencies are boost (1.54) and openbabel.  A static binary is provided\n",
        "in case these dependencies cannot be met (however, it probably still will\n",
        "not work if the kernel is older than 2.6.24).\n",
        "\n",
        "```\n",
        "Input:\n",
        "  -r [ --receptor ] arg rigid part of the receptor (***PDBQT***)\n",
        "\n",
        "  -l [ --ligand ] arg   ligand(s)\n",
        "\n",
        "\n",
        "Search space (required):\n",
        "  --center_x arg        X coordinate of the center\n",
        "  --center_y arg        Y coordinate of the center\n",
        "  --center_z arg        Z coordinate of the center\n",
        "  --size_x arg          size in the X dimension (Angstroms)\n",
        "  --size_y arg          size in the Y dimension (Angstroms)\n",
        "  --size_z arg          size in the Z dimension (Angstroms)\n",
        "  \n",
        "  or\n",
        "  \n",
        "  --autobox_ligand arg  Ligand to use for autobox\n",
        "\n",
        "\n",
        "Scoring and minimization options:\n",
        "\n",
        "  --score_only                 score provided ligand pose\n",
        "\n",
        "\n",
        "Output (optional):\n",
        "  -o [ --out ] arg      output file name, format taken from file extension\n",
        "  --log arg             optionally, write log file\n",
        "\n",
        "\n",
        "Misc (optional):\n",
        "  --cpu arg                  the number of CPUs to use (the default is to try \n",
        "                             to detect the number of CPUs or, failing that, use\n",
        "                             1)\n",
        "  --seed arg                 explicit random seed\n",
        "  --exhaustiveness arg (=8)  exhaustiveness of the global search (roughly \n",
        "                             proportional to time)\n",
        "  --num_modes arg (=9)       maximum number of binding modes to generate\n",
        "  --energy_range arg (=3)    maximum energy difference between the best binding\n",
        "                             mode and the worst one displayed (kcal/mol)\n",
        "  --min_rmsd_filter arg (=1) rmsd value used to filter final poses to remove \n",
        "                             redundancy\n",
        "  -q [ --quiet ]             Suppress output messages\n",
        "  --addH arg                 automatically add hydrogens in ligands (on by \n",
        "                             default)\n",
        "\n",
        "\n",
        "Configuration file (optional):\n",
        "  --config arg          the above options can be put here\n",
        "  ```\n",
        "  \n",
        "\n"
      ]
    },
    {
      "cell_type": "markdown",
      "id": "5f60d6e6",
      "metadata": {
        "id": "5f60d6e6"
      },
      "source": [
        "## 3.1. Load Target"
      ]
    },
    {
      "cell_type": "code",
      "execution_count": 43,
      "id": "9185b92a",
      "metadata": {
        "id": "9185b92a",
        "colab": {
          "base_uri": "https://localhost:8080/"
        },
        "outputId": "aaabb5bc-4b56-470a-b1c7-351dd1a21c8c"
      },
      "outputs": [
        {
          "output_type": "stream",
          "name": "stdout",
          "text": [
            "['19.365', '-3.578', '-4.566', '11.884', '12.914', '13.647']\n"
          ]
        }
      ],
      "source": [
        "import os\n",
        "import re\n",
        "\n",
        "PATH = os.path.join(PATHWDIR, 'Output') # your output path\n",
        "\n",
        "if not os.path.exists(PATH):\n",
        "   os.makedirs(PATH)\n",
        "\n",
        "pdb_code = \"2BRC\"         # 2BRC + Hsp90 Inhibitor\n",
        "ligand_code = \"CT5\"       # Hsp90 Inhibitor\n",
        "\n",
        "## Load\n",
        "ProteinForDocking = os.path.join(PATH, 'prep_receptor.pdbqt') # Protein in pdbqt\n",
        "LigandFromProtein = os.path.join(PATH, 'pdb_ligand.pdb') # Crystalized ligand\n",
        "output_box = os.path.join(PATH, \"box.pdb\") # box size\n",
        "\n",
        "## Extract box information from pdb file.\n",
        "with open(output_box) as file:\n",
        "    lines = file.readlines()\n",
        "    \n",
        "pattern = '[-+]?\\d+\\.\\d+'\n",
        "box_data = re.findall(pattern, lines[0])\n",
        "print(box_data)\n",
        "x, y, z, x_size, y_size, z_size = box_data"
      ]
    },
    {
      "cell_type": "markdown",
      "id": "a9fe2817",
      "metadata": {
        "id": "a9fe2817"
      },
      "source": [
        "## 3.2.  Load Chemical Library"
      ]
    },
    {
      "cell_type": "markdown",
      "id": "77f65ebb",
      "metadata": {
        "id": "77f65ebb"
      },
      "source": [
        "Copy to your folder your chemical library built in Data Warrior.\n"
      ]
    },
    {
      "cell_type": "code",
      "execution_count": 44,
      "id": "9fc964fa",
      "metadata": {
        "id": "9fc964fa"
      },
      "outputs": [],
      "source": [
        "# You may need to change the file's name to coincide with yours. \n",
        "ConfoutputFilePath = os.path.join(PATH, 'DockingCompoundsPubChem.sdf')"
      ]
    },
    {
      "cell_type": "markdown",
      "id": "aa617486",
      "metadata": {
        "id": "aa617486"
      },
      "source": [
        "## 3.3. Perform VS with SMINA"
      ]
    },
    {
      "cell_type": "code",
      "source": [
        "# You can uncomment this to make sure that your SMINA will execute \n",
        "# ! '{SMINA}' --help # test"
      ],
      "metadata": {
        "id": "vr3GERXY-WT1"
      },
      "id": "vr3GERXY-WT1",
      "execution_count": null,
      "outputs": []
    },
    {
      "cell_type": "markdown",
      "id": "c5ce5d41",
      "metadata": {
        "id": "c5ce5d41"
      },
      "source": [
        "### 3.3.1. Score only !\n",
        "\n",
        "In molecular docking, scoring is the process of evaluating how well a ligand (small molecule) fits into a binding site on a protein or other macromolecule. Scoring functions are used to predict the binding affinity between the ligand and the target molecule, which can help to identify promising lead compounds for drug development.\n",
        "\n",
        "AutoDock Vina is a popular software tool for molecular docking that uses a scoring function to rank the predicted binding poses of ligands in a binding site. The \"score only\" option in Vina allows users to quickly evaluate the binding affinity of a set of ligands without performing a full docking simulation. Instead, the ligands are placed in the binding site and scored based on their predicted binding affinity, using a simplified version of the Vina scoring function.\n"
      ]
    },
    {
      "cell_type": "code",
      "execution_count": 45,
      "id": "d660905f",
      "metadata": {
        "id": "d660905f"
      },
      "outputs": [],
      "source": [
        "DockedScoreOnly = os.path.join(PATH, 'DockedScoreOnly.pdb')\n",
        "LogScoreOnly = os.path.join(PATH, 'OutputScoreonly.txt')\n",
        "# --score_only   "
      ]
    },
    {
      "cell_type": "code",
      "execution_count": 46,
      "id": "1714568f",
      "metadata": {
        "id": "1714568f",
        "colab": {
          "base_uri": "https://localhost:8080/"
        },
        "outputId": "36751f46-2d75-4d25-bb65-ff8149bc5497"
      },
      "outputs": [
        {
          "output_type": "stream",
          "name": "stdout",
          "text": [
            "   _______  _______ _________ _        _______ \n",
            "  (  ____ \\(       )\\__   __/( (    /|(  ___  )\n",
            "  | (    \\/| () () |   ) (   |  \\  ( || (   ) |\n",
            "  | (_____ | || || |   | |   |   \\ | || (___) |\n",
            "  (_____  )| |(_)| |   | |   | (\\ \\) ||  ___  |\n",
            "        ) || |   | |   | |   | | \\   || (   ) |\n",
            "  /\\____) || )   ( |___) (___| )  \\  || )   ( |\n",
            "  \\_______)|/     \\|\\_______/|/    )_)|/     \\|\n",
            "\n",
            "\n",
            "smina is based off AutoDock Vina. Please cite appropriately.\n",
            "\n",
            "Weights      Terms\n",
            "-0.035579    gauss(o=0,_w=0.5,_c=8)\n",
            "-0.005156    gauss(o=3,_w=2,_c=8)\n",
            "0.840245     repulsion(o=0,_c=8)\n",
            "-0.035069    hydrophobic(g=0.5,_b=1.5,_c=8)\n",
            "-0.587439    non_dir_h_bond(g=-0.7,_b=0,_c=8)\n",
            "1.923        num_tors_div\n",
            "\n",
            "## Name gauss(o=0,_w=0.5,_c=8) gauss(o=3,_w=2,_c=8) repulsion(o=0,_c=8) hydrophobic(g=0.5,_b=1.5,_c=8) non_dir_h_bond(g=-0.7,_b=0,_c=8) num_tors_div\n",
            "Affinity: -8.13113 (kcal/mol)\n",
            "Intramolecular energy: -0.90629\n",
            "Term values, before weighting:\n",
            "##  78.34360 1374.94447 2.84795 29.69333 1.75715 0.00000\n",
            "Refine time 0.00201\n",
            "Loop time 0.01504\n"
          ]
        }
      ],
      "source": [
        "! '{SMINA}' --seed 0  -r '{ProteinForDocking}' -l '{LigandFromProtein}' -o '{DockedScoreOnly}' --log '{LogScoreOnly}' --score_only "
      ]
    },
    {
      "cell_type": "markdown",
      "id": "196d0eb7",
      "metadata": {
        "id": "196d0eb7"
      },
      "source": [
        "For this the score only is:"
      ]
    },
    {
      "cell_type": "code",
      "execution_count": 48,
      "id": "1418148e",
      "metadata": {
        "id": "1418148e",
        "colab": {
          "base_uri": "https://localhost:8080/"
        },
        "outputId": "dc7edd8b-36b2-45d8-b304-16072eed3bd5"
      },
      "outputs": [
        {
          "output_type": "stream",
          "name": "stdout",
          "text": [
            "Affinity in score only: -8.13113 kcal/mol\n"
          ]
        }
      ],
      "source": [
        "# Extract affinity\n",
        "with open(LogScoreOnly) as file:\n",
        "    lines = file.readlines()\n",
        "#lines\n",
        "pattern = '(?<=Affinity: )[-+]?\\d+\\.\\d+'\n",
        "list_app = [re.findall(pattern, line) for line in lines]\n",
        "\n",
        "affinity_so = [value for value in list_app if value][0][0]\n",
        "print(f'Affinity in score only: {affinity_so} kcal/mol')"
      ]
    },
    {
      "cell_type": "markdown",
      "id": "19d0fed4",
      "metadata": {
        "id": "19d0fed4"
      },
      "source": [
        "### 3.3.2. VS with SMINA\n",
        "\n",
        "Now we will execute several simulations (as much as ligands you have in the chemical library)"
      ]
    },
    {
      "cell_type": "code",
      "execution_count": 49,
      "id": "c6708c45",
      "metadata": {
        "id": "c6708c45"
      },
      "outputs": [],
      "source": [
        "DockedFilePath = os.path.join(PATH, 'All_Docked.sdf') # try with uncompressed file !!\n",
        "LogOuputDockingVS = os.path.join(PATH, 'OutputDockingVS.txt')\n",
        "ExhaustivenessValue = 8\n",
        "nmodes = 8"
      ]
    },
    {
      "cell_type": "markdown",
      "id": "53305420",
      "metadata": {
        "id": "53305420"
      },
      "source": [
        "Our ligand is now the Confoutut File path (our sdd file)"
      ]
    },
    {
      "cell_type": "code",
      "execution_count": 50,
      "id": "9fe13ed1",
      "metadata": {
        "id": "9fe13ed1",
        "colab": {
          "base_uri": "https://localhost:8080/"
        },
        "outputId": "62cbb8e8-f6ed-498e-88c6-30218aa77115"
      },
      "outputs": [
        {
          "output_type": "stream",
          "name": "stdout",
          "text": [
            "   _______  _______ _________ _        _______ \n",
            "  (  ____ \\(       )\\__   __/( (    /|(  ___  )\n",
            "  | (    \\/| () () |   ) (   |  \\  ( || (   ) |\n",
            "  | (_____ | || || |   | |   |   \\ | || (___) |\n",
            "  (_____  )| |(_)| |   | |   | (\\ \\) ||  ___  |\n",
            "        ) || |   | |   | |   | | \\   || (   ) |\n",
            "  /\\____) || )   ( |___) (___| )  \\  || )   ( |\n",
            "  \\_______)|/     \\|\\_______/|/    )_)|/     \\|\n",
            "\n",
            "\n",
            "smina is based off AutoDock Vina. Please cite appropriately.\n",
            "\n",
            "Weights      Terms\n",
            "-0.035579    gauss(o=0,_w=0.5,_c=8)\n",
            "-0.005156    gauss(o=3,_w=2,_c=8)\n",
            "0.840245     repulsion(o=0,_c=8)\n",
            "-0.035069    hydrophobic(g=0.5,_b=1.5,_c=8)\n",
            "-0.587439    non_dir_h_bond(g=-0.7,_b=0,_c=8)\n",
            "1.923        num_tors_div\n",
            "\n",
            "Using random seed: 0\n",
            "\n",
            "0%   10   20   30   40   50   60   70   80   90   100%\n",
            "|----|----|----|----|----|----|----|----|----|----|\n",
            "***************************************************\n",
            "\n",
            "mode |   affinity | dist from best mode\n",
            "     | (kcal/mol) | rmsd l.b.| rmsd u.b.\n",
            "-----+------------+----------+----------\n",
            "1       -6.3       0.000      0.000    \n",
            "2       -6.2       0.140      1.148    \n",
            "3       -6.1       2.144      4.457    \n",
            "4       -6.0       3.095      5.245    \n",
            "5       -5.7       3.044      4.935    \n",
            "6       -5.7       2.864      4.243    \n",
            "7       -5.6       3.019      4.590    \n",
            "8       -5.5       1.848      2.375    \n",
            "Refine time 47.567\n",
            "Using random seed: 0\n",
            "\n",
            "0%   10   20   30   40   50   60   70   80   90   100%\n",
            "|----|----|----|----|----|----|----|----|----|----|\n",
            "***************************************************\n",
            "\n",
            "mode |   affinity | dist from best mode\n",
            "     | (kcal/mol) | rmsd l.b.| rmsd u.b.\n",
            "-----+------------+----------+----------\n",
            "1       -6.3       0.000      0.000    \n",
            "2       -6.2       0.068      1.140    \n",
            "3       -6.1       2.174      4.469    \n",
            "4       -6.1       1.747      1.990    \n",
            "5       -5.9       2.902      4.688    \n",
            "6       -5.9       2.623      4.477    \n",
            "7       -5.7       2.724      4.300    \n",
            "8       -5.5       3.416      4.671    \n",
            "Refine time 49.206\n",
            "Using random seed: 0\n",
            "\n",
            "0%   10   20   30   40   50   60   70   80   90   100%\n",
            "|----|----|----|----|----|----|----|----|----|----|\n",
            "***************************************************\n",
            "\n",
            "mode |   affinity | dist from best mode\n",
            "     | (kcal/mol) | rmsd l.b.| rmsd u.b.\n",
            "-----+------------+----------+----------\n",
            "1       -6.9       0.000      0.000    \n",
            "2       -6.6       2.258      3.071    \n",
            "3       -6.6       2.506      5.258    \n",
            "4       -6.4       1.938      2.475    \n",
            "5       -6.4       3.035      5.676    \n",
            "6       -6.3       1.072      1.683    \n",
            "7       -6.3       2.826      3.799    \n",
            "8       -6.2       3.013      5.650    \n",
            "Refine time 34.272\n",
            "Using random seed: 0\n",
            "\n",
            "0%   10   20   30   40   50   60   70   80   90   100%\n",
            "|----|----|----|----|----|----|----|----|----|----|\n",
            "***************************************************\n",
            "\n",
            "mode |   affinity | dist from best mode\n",
            "     | (kcal/mol) | rmsd l.b.| rmsd u.b.\n",
            "-----+------------+----------+----------\n",
            "1       -7.5       0.000      0.000    \n",
            "2       -7.1       2.056      2.741    \n",
            "3       -6.8       3.112      4.056    \n",
            "4       -6.7       3.011      5.552    \n",
            "5       -6.7       2.975      5.665    \n",
            "6       -6.4       3.186      4.188    \n",
            "7       -6.4       3.096      4.677    \n",
            "8       -6.3       2.064      2.848    \n",
            "Refine time 29.866\n",
            "Using random seed: 0\n",
            "\n",
            "0%   10   20   30   40   50   60   70   80   90   100%\n",
            "|----|----|----|----|----|----|----|----|----|----|\n",
            "***************************************************\n",
            "\n",
            "mode |   affinity | dist from best mode\n",
            "     | (kcal/mol) | rmsd l.b.| rmsd u.b.\n",
            "-----+------------+----------+----------\n",
            "1       -8.0       0.000      0.000    \n",
            "2       -7.9       2.205      5.131    \n",
            "3       -7.6       2.421      4.369    \n",
            "4       -7.0       3.319      4.808    \n",
            "5       -6.8       1.867      5.157    \n",
            "6       -6.5       1.379      1.820    \n",
            "7       -6.4       2.083      2.923    \n",
            "8       -6.3       2.328      5.953    \n",
            "Refine time 27.660\n",
            "Using random seed: 0\n",
            "\n",
            "0%   10   20   30   40   50   60   70   80   90   100%\n",
            "|----|----|----|----|----|----|----|----|----|----|\n",
            "***************************************************\n",
            "\n",
            "mode |   affinity | dist from best mode\n",
            "     | (kcal/mol) | rmsd l.b.| rmsd u.b.\n",
            "-----+------------+----------+----------\n",
            "1       -7.7       0.000      0.000    \n",
            "2       -7.5       2.053      4.494    \n",
            "3       -7.5       2.931      4.166    \n",
            "4       -7.3       3.498      5.454    \n",
            "5       -7.3       2.619      4.586    \n",
            "6       -7.1       3.031      3.853    \n",
            "7       -6.3       2.931      4.707    \n",
            "8       -6.1       3.145      5.593    \n",
            "Refine time 32.861\n",
            "Using random seed: 0\n",
            "\n",
            "0%   10   20   30   40   50   60   70   80   90   100%\n",
            "|----|----|----|----|----|----|----|----|----|----|\n",
            "***************************************************\n",
            "\n",
            "mode |   affinity | dist from best mode\n",
            "     | (kcal/mol) | rmsd l.b.| rmsd u.b.\n",
            "-----+------------+----------+----------\n",
            "1       -4.3       0.000      0.000    \n",
            "2       -4.2       2.877      4.270    \n",
            "3       -4.2       2.862      3.532    \n",
            "4       -4.1       2.110      2.654    \n",
            "5       -4.1       1.973      3.131    \n",
            "6       -4.0       2.713      4.182    \n",
            "7       -3.9       2.184      3.016    \n",
            "8       -3.9       2.252      2.879    \n",
            "Refine time 6.448\n",
            "Using random seed: 0\n",
            "\n",
            "0%   10   20   30   40   50   60   70   80   90   100%\n",
            "|----|----|----|----|----|----|----|----|----|----|\n",
            "***************************************************\n",
            "\n",
            "mode |   affinity | dist from best mode\n",
            "     | (kcal/mol) | rmsd l.b.| rmsd u.b.\n",
            "-----+------------+----------+----------\n",
            "1       -4.7       0.000      0.000    \n",
            "2       -4.7       0.112      2.859    \n",
            "3       -4.6       1.723      3.633    \n",
            "4       -4.6       1.729      2.818    \n",
            "5       -4.6       2.608      3.761    \n",
            "6       -4.6       2.508      3.334    \n",
            "7       -4.5       2.166      3.483    \n",
            "8       -4.5       2.240      2.585    \n",
            "Refine time 3.880\n",
            "Using random seed: 0\n",
            "\n",
            "0%   10   20   30   40   50   60   70   80   90   100%\n",
            "|----|----|----|----|----|----|----|----|----|----|\n",
            "***************************************************\n",
            "\n",
            "mode |   affinity | dist from best mode\n",
            "     | (kcal/mol) | rmsd l.b.| rmsd u.b.\n",
            "-----+------------+----------+----------\n",
            "1       -6.9       0.000      0.000    \n",
            "2       -6.9       2.128      3.042    \n",
            "3       -6.7       1.399      2.208    \n",
            "4       -6.6       2.500      5.477    \n",
            "5       -6.6       3.042      5.698    \n",
            "6       -6.5       2.779      3.761    \n",
            "7       -6.5       2.874      5.669    \n",
            "8       -6.5       1.880      5.268    \n",
            "Refine time 32.304\n",
            "Using random seed: 0\n",
            "\n",
            "0%   10   20   30   40   50   60   70   80   90   100%\n",
            "|----|----|----|----|----|----|----|----|----|----|\n",
            "***************************************************\n",
            "\n",
            "mode |   affinity | dist from best mode\n",
            "     | (kcal/mol) | rmsd l.b.| rmsd u.b.\n",
            "-----+------------+----------+----------\n",
            "1       -7.2       0.000      0.000    \n",
            "2       -6.6       2.498      2.941    \n",
            "3       -6.6       1.332      2.034    \n",
            "4       -6.6       1.922      2.371    \n",
            "5       -6.5       2.803      5.468    \n",
            "6       -6.5       3.065      5.634    \n",
            "7       -5.9       2.483      3.222    \n",
            "8       -5.9       2.921      5.461    \n",
            "Refine time 24.599\n",
            "Loop time 295.875\n"
          ]
        }
      ],
      "source": [
        "# the \\ is only for splitting the line and read it better\n",
        "# random seed can be removed !\n",
        "\n",
        "! '{SMINA}' --seed 0 \\\n",
        "--center_x '{x}' --center_y '{y}' --center_z '{y}' \\\n",
        "--size_x '{x_size}' --size_y '{y_size}' --size_z '{z_size}' \\\n",
        "-r '{ProteinForDocking}' -l '{ConfoutputFilePath}' \\\n",
        "--num_modes '{nmodes}' \\\n",
        "-o '{DockedFilePath}' --exhaustiveness '{ExhaustivenessValue}' --log '{LogOuputDockingVS}'\n"
      ]
    },
    {
      "cell_type": "markdown",
      "id": "2e08c02c",
      "metadata": {
        "id": "2e08c02c"
      },
      "source": [
        "We also have the results in  the output file."
      ]
    },
    {
      "cell_type": "code",
      "execution_count": 51,
      "id": "064c9748",
      "metadata": {
        "id": "064c9748",
        "colab": {
          "base_uri": "https://localhost:8080/",
          "height": 142
        },
        "outputId": "a8b2d513-9063-4fc4-e60f-03cf11d3ad62"
      },
      "outputs": [
        {
          "output_type": "execute_result",
          "data": {
            "text/plain": [
              "  minimizedAffinity         ID  \\\n",
              "0          -6.26799  129716650   \n",
              "1          -6.21852  129716650   \n",
              "2          -6.10948  129716650   \n",
              "\n",
              "                                           Molecule  \n",
              "0  <rdkit.Chem.rdchem.Mol object at 0x7f876ca66510>  \n",
              "1  <rdkit.Chem.rdchem.Mol object at 0x7f876ca66dd0>  \n",
              "2  <rdkit.Chem.rdchem.Mol object at 0x7f874c732f90>  "
            ],
            "text/html": [
              "\n",
              "  <div id=\"df-57a3b2c4-1199-429d-9d34-37ba9c9ce62e\">\n",
              "    <div class=\"colab-df-container\">\n",
              "      <div>\n",
              "<style scoped>\n",
              "    .dataframe tbody tr th:only-of-type {\n",
              "        vertical-align: middle;\n",
              "    }\n",
              "\n",
              "    .dataframe tbody tr th {\n",
              "        vertical-align: top;\n",
              "    }\n",
              "\n",
              "    .dataframe thead th {\n",
              "        text-align: right;\n",
              "    }\n",
              "</style>\n",
              "<table border=\"1\" class=\"dataframe\">\n",
              "  <thead>\n",
              "    <tr style=\"text-align: right;\">\n",
              "      <th></th>\n",
              "      <th>minimizedAffinity</th>\n",
              "      <th>ID</th>\n",
              "      <th>Molecule</th>\n",
              "    </tr>\n",
              "  </thead>\n",
              "  <tbody>\n",
              "    <tr>\n",
              "      <th>0</th>\n",
              "      <td>-6.26799</td>\n",
              "      <td>129716650</td>\n",
              "      <td>&lt;rdkit.Chem.rdchem.Mol object at 0x7f876ca66510&gt;</td>\n",
              "    </tr>\n",
              "    <tr>\n",
              "      <th>1</th>\n",
              "      <td>-6.21852</td>\n",
              "      <td>129716650</td>\n",
              "      <td>&lt;rdkit.Chem.rdchem.Mol object at 0x7f876ca66dd0&gt;</td>\n",
              "    </tr>\n",
              "    <tr>\n",
              "      <th>2</th>\n",
              "      <td>-6.10948</td>\n",
              "      <td>129716650</td>\n",
              "      <td>&lt;rdkit.Chem.rdchem.Mol object at 0x7f874c732f90&gt;</td>\n",
              "    </tr>\n",
              "  </tbody>\n",
              "</table>\n",
              "</div>\n",
              "      <button class=\"colab-df-convert\" onclick=\"convertToInteractive('df-57a3b2c4-1199-429d-9d34-37ba9c9ce62e')\"\n",
              "              title=\"Convert this dataframe to an interactive table.\"\n",
              "              style=\"display:none;\">\n",
              "        \n",
              "  <svg xmlns=\"http://www.w3.org/2000/svg\" height=\"24px\"viewBox=\"0 0 24 24\"\n",
              "       width=\"24px\">\n",
              "    <path d=\"M0 0h24v24H0V0z\" fill=\"none\"/>\n",
              "    <path d=\"M18.56 5.44l.94 2.06.94-2.06 2.06-.94-2.06-.94-.94-2.06-.94 2.06-2.06.94zm-11 1L8.5 8.5l.94-2.06 2.06-.94-2.06-.94L8.5 2.5l-.94 2.06-2.06.94zm10 10l.94 2.06.94-2.06 2.06-.94-2.06-.94-.94-2.06-.94 2.06-2.06.94z\"/><path d=\"M17.41 7.96l-1.37-1.37c-.4-.4-.92-.59-1.43-.59-.52 0-1.04.2-1.43.59L10.3 9.45l-7.72 7.72c-.78.78-.78 2.05 0 2.83L4 21.41c.39.39.9.59 1.41.59.51 0 1.02-.2 1.41-.59l7.78-7.78 2.81-2.81c.8-.78.8-2.07 0-2.86zM5.41 20L4 18.59l7.72-7.72 1.47 1.35L5.41 20z\"/>\n",
              "  </svg>\n",
              "      </button>\n",
              "      \n",
              "  <style>\n",
              "    .colab-df-container {\n",
              "      display:flex;\n",
              "      flex-wrap:wrap;\n",
              "      gap: 12px;\n",
              "    }\n",
              "\n",
              "    .colab-df-convert {\n",
              "      background-color: #E8F0FE;\n",
              "      border: none;\n",
              "      border-radius: 50%;\n",
              "      cursor: pointer;\n",
              "      display: none;\n",
              "      fill: #1967D2;\n",
              "      height: 32px;\n",
              "      padding: 0 0 0 0;\n",
              "      width: 32px;\n",
              "    }\n",
              "\n",
              "    .colab-df-convert:hover {\n",
              "      background-color: #E2EBFA;\n",
              "      box-shadow: 0px 1px 2px rgba(60, 64, 67, 0.3), 0px 1px 3px 1px rgba(60, 64, 67, 0.15);\n",
              "      fill: #174EA6;\n",
              "    }\n",
              "\n",
              "    [theme=dark] .colab-df-convert {\n",
              "      background-color: #3B4455;\n",
              "      fill: #D2E3FC;\n",
              "    }\n",
              "\n",
              "    [theme=dark] .colab-df-convert:hover {\n",
              "      background-color: #434B5C;\n",
              "      box-shadow: 0px 1px 3px 1px rgba(0, 0, 0, 0.15);\n",
              "      filter: drop-shadow(0px 1px 2px rgba(0, 0, 0, 0.3));\n",
              "      fill: #FFFFFF;\n",
              "    }\n",
              "  </style>\n",
              "\n",
              "      <script>\n",
              "        const buttonEl =\n",
              "          document.querySelector('#df-57a3b2c4-1199-429d-9d34-37ba9c9ce62e button.colab-df-convert');\n",
              "        buttonEl.style.display =\n",
              "          google.colab.kernel.accessAllowed ? 'block' : 'none';\n",
              "\n",
              "        async function convertToInteractive(key) {\n",
              "          const element = document.querySelector('#df-57a3b2c4-1199-429d-9d34-37ba9c9ce62e');\n",
              "          const dataTable =\n",
              "            await google.colab.kernel.invokeFunction('convertToInteractive',\n",
              "                                                     [key], {});\n",
              "          if (!dataTable) return;\n",
              "\n",
              "          const docLinkHtml = 'Like what you see? Visit the ' +\n",
              "            '<a target=\"_blank\" href=https://colab.research.google.com/notebooks/data_table.ipynb>data table notebook</a>'\n",
              "            + ' to learn more about interactive tables.';\n",
              "          element.innerHTML = '';\n",
              "          dataTable['output_type'] = 'display_data';\n",
              "          await google.colab.output.renderOutput(dataTable, element);\n",
              "          const docLink = document.createElement('div');\n",
              "          docLink.innerHTML = docLinkHtml;\n",
              "          element.appendChild(docLink);\n",
              "        }\n",
              "      </script>\n",
              "    </div>\n",
              "  </div>\n",
              "  "
            ]
          },
          "metadata": {},
          "execution_count": 51
        }
      ],
      "source": [
        "from rdkit.Chem import PandasTools\n",
        "from rdkit import RDLogger\n",
        "\n",
        "def disable_rdkit_logging():\n",
        "    \"\"\"\n",
        "    Disables RDKit whiny logging.\n",
        "    \"\"\"\n",
        "    import rdkit.rdBase as rkrb\n",
        "    import rdkit.RDLogger as rkl\n",
        "    logger = rkl.logger()\n",
        "    logger.setLevel(rkl.ERROR)\n",
        "    rkrb.DisableLog('rdApp.error')\n",
        "    \n",
        "\n",
        "disable_rdkit_logging()\n",
        "\n",
        "DockedFilePath\n",
        "FILE_TEST = os.path.join(PATH, 'All_Docked.sdf')\n",
        "\n",
        "df_pandas = PandasTools.LoadSDF(FILE_TEST,molColName='Molecule')\n",
        "df_pandas[:3]"
      ]
    },
    {
      "cell_type": "code",
      "execution_count": 58,
      "id": "76970366",
      "metadata": {
        "id": "76970366",
        "colab": {
          "base_uri": "https://localhost:8080/",
          "height": 35
        },
        "outputId": "f4018666-830f-471d-e2cd-8cb79471e467"
      },
      "outputs": [
        {
          "output_type": "execute_result",
          "data": {
            "text/plain": [
              "'/content/drive/MyDrive/MolDock4Colab/Output/All_Docked.sdf'"
            ],
            "application/vnd.google.colaboratory.intrinsic+json": {
              "type": "string"
            }
          },
          "metadata": {},
          "execution_count": 58
        }
      ],
      "source": [
        "DockedFilePath"
      ]
    },
    {
      "cell_type": "markdown",
      "id": "55243ba4",
      "metadata": {
        "id": "55243ba4"
      },
      "source": [
        "### 3.3.3. Visualization"
      ]
    },
    {
      "cell_type": "code",
      "execution_count": 59,
      "id": "173a79c6",
      "metadata": {
        "id": "173a79c6",
        "colab": {
          "base_uri": "https://localhost:8080/",
          "height": 79,
          "referenced_widgets": [
            "89e096fb4309493f910e65155be4a695",
            "23f5db6bcc3b4015baa6c4b9998a3733",
            "d3e5d0514abe47e8a0072982fd6ecfcf",
            "d35b145844f444dc97e898dbcf342728",
            "459d5c140b834f2ca8d22f845fe097d2",
            "85eead3abb684b45a1da7f908d761997"
          ]
        },
        "outputId": "5e8cb6f7-b5fd-4c92-d4a7-a42d32b0f81b"
      },
      "outputs": [
        {
          "output_type": "display_data",
          "data": {
            "text/plain": [
              "A Jupyter Widget"
            ],
            "application/vnd.jupyter.widget-view+json": {
              "version_major": 2,
              "version_minor": 0,
              "model_id": "89e096fb4309493f910e65155be4a695"
            }
          },
          "metadata": {
            "application/vnd.jupyter.widget-view+json": {
              "colab": {
                "custom_widget_manager": {
                  "url": "https://ssl.gstatic.com/colaboratory-static/widgets/colab-cdn-widget-manager/b3e629b1971e1542/manager.min.js"
                }
              }
            }
          }
        },
        {
          "output_type": "display_data",
          "data": {
            "text/plain": [
              "A Jupyter Widget"
            ],
            "application/vnd.jupyter.widget-view+json": {
              "version_major": 2,
              "version_minor": 0,
              "model_id": "d35b145844f444dc97e898dbcf342728"
            }
          },
          "metadata": {
            "application/vnd.jupyter.widget-view+json": {
              "colab": {
                "custom_widget_manager": {
                  "url": "https://ssl.gstatic.com/colaboratory-static/widgets/colab-cdn-widget-manager/b3e629b1971e1542/manager.min.js"
                }
              }
            }
          }
        }
      ],
      "source": [
        "import ipywidgets\n",
        "\n",
        "exs_models = range(1, len(df_pandas.ID.unique())+1)\n",
        "exs_models\n",
        "assert len(exs_models) == len(df_pandas.ID.unique()) , 'shape problem'\n",
        "\n",
        "exs_nmodes = range(1,nmodes+1)\n",
        "\n",
        "assert len(exs_nmodes) == nmodes, 'shape problem 2'\n",
        "\n",
        "mdsel_molecule = ipywidgets.Dropdown(\n",
        "    options=exs_models,\n",
        "    description='Sel. molecule:',\n",
        "    disabled=False,\n",
        ")\n",
        "\n",
        "\n",
        "mdsel_mode = ipywidgets.Dropdown(\n",
        "    options=exs_nmodes,\n",
        "    description='Sel. mode:',\n",
        "    disabled=False,\n",
        ")\n",
        "\n",
        "display(mdsel_molecule)\n",
        "\n",
        "display(mdsel_mode)\n",
        "\n",
        "# call as  mdsel_molecule.value, mdsel_mode.value"
      ]
    },
    {
      "cell_type": "code",
      "execution_count": 60,
      "id": "48a28d4f",
      "metadata": {
        "id": "48a28d4f",
        "colab": {
          "base_uri": "https://localhost:8080/"
        },
        "outputId": "df230195-4adf-42c8-e56a-08ca9b51ef2f"
      },
      "outputs": [
        {
          "output_type": "stream",
          "name": "stdout",
          "text": [
            "Molecule: 1, nmodel: 1, Model 1\n"
          ]
        }
      ],
      "source": [
        "nmolecule =  mdsel_molecule.value #3\n",
        "nmodel = mdsel_mode.value \n",
        "assert nmodel <= nmodes, 'over selecting'\n",
        "\n",
        "models = f'/{nmodel + (nmolecule-1)*nmodes}'\n",
        "\n",
        "print(f'Molecule: {nmolecule}, nmodel: {nmodel}, Model {models[1:]}')\n"
      ]
    },
    {
      "cell_type": "markdown",
      "id": "291985c6",
      "metadata": {
        "id": "291985c6"
      },
      "source": [
        "DockedFilePath"
      ]
    },
    {
      "cell_type": "code",
      "execution_count": 61,
      "id": "f11863af",
      "metadata": {
        "id": "f11863af",
        "colab": {
          "base_uri": "https://localhost:8080/",
          "height": 35
        },
        "outputId": "aac16bed-b642-4c03-af2a-b8f9348f0575"
      },
      "outputs": [
        {
          "output_type": "execute_result",
          "data": {
            "text/plain": [
              "'/content/drive/MyDrive/MolDock4Colab/Output/All_Docked.sdf'"
            ],
            "application/vnd.google.colaboratory.intrinsic+json": {
              "type": "string"
            }
          },
          "metadata": {},
          "execution_count": 61
        }
      ],
      "source": [
        "#models = 'all'\n",
        "# un compres file for execution\n",
        "FILE_TEST = os.path.join(PATH, 'All_Docked.sdf')\n",
        "FILE_TEST # shoiuld be uncompressed DockedFilePath"
      ]
    },
    {
      "cell_type": "code",
      "execution_count": 62,
      "id": "ab7ba052",
      "metadata": {
        "scrolled": true,
        "id": "ab7ba052",
        "colab": {
          "base_uri": "https://localhost:8080/",
          "height": 346,
          "referenced_widgets": [
            "258f19b88ad246a5a52adca5bf5c0fb6",
            "921b945bfdc3443aa8dbe8ee81194c38",
            "63277ca49f194808b6366c4b828c1a9c",
            "f37e65fd6290475ab5d7f89d89899555",
            "88ed921272d448e48852c263959c376c",
            "3b9da58a954d4ab3a6c3c6b74aae3697",
            "c64f14da864146fe8ee3b00602cb25a8",
            "f7f4fefec1f448f9be8910f04e7a8cce",
            "6ae343725902487aa4b778af19012ae5",
            "a46b5e1f949d45839d8c45868fe0296a",
            "a1171aef618248e0b415733af66abee2",
            "18bd24c3fd4f4d3cad9f0cf357479e92",
            "0c0ce9ea3917479697d73052a97334aa",
            "2fcec2c0beba47139f20943fc9a9e55d",
            "61f1b984e81d4f4ba88c88ffcfe9f922",
            "75052991e0394a2081ca441c4629af18",
            "fbe8c9eb97c647d8b1c729b848f3e32d",
            "8cc895d2f7d54af0ab91cef8377b3946",
            "fa375be989de4d599f3e2e050e375e74",
            "130946101dbf4bceb3adced42f4a72c3",
            "b89f9a0c224d4552828c9135db7be93f",
            "d097cb80dc4b42feaa72df71d792c741",
            "c11e3cd61da34a4fbeb98d84cb3d2960",
            "bc7f1f6609b04771a1eccb886534a675",
            "aa94d23836784bfb818a49dd1a3b94e7",
            "dda06711214745d6ac81273f29f0a09c",
            "22ee14d1d82a49d3a08964c2f3aabd9e",
            "1481fb3f66774902ba9a1128759161ca"
          ]
        },
        "outputId": "805fa0d0-a4c6-4b7c-b86b-5ffcec57a28e"
      },
      "outputs": [
        {
          "output_type": "stream",
          "name": "stdout",
          "text": [
            "Molecule: 1, nmodel: 1, Model 1\n"
          ]
        },
        {
          "output_type": "display_data",
          "data": {
            "text/plain": [
              "A Jupyter Widget"
            ],
            "application/vnd.jupyter.widget-view+json": {
              "version_major": 2,
              "version_minor": 0,
              "model_id": "a1171aef618248e0b415733af66abee2"
            }
          },
          "metadata": {
            "application/vnd.jupyter.widget-view+json": {
              "colab": {
                "custom_widget_manager": {
                  "url": "https://ssl.gstatic.com/colaboratory-static/widgets/colab-cdn-widget-manager/b3e629b1971e1542/manager.min.js"
                }
              }
            }
          }
        }
      ],
      "source": [
        "import nglview as nv\n",
        "from ipywidgets import HBox\n",
        "from google.colab import output\n",
        "output.enable_custom_widget_manager()\n",
        "\n",
        "#models = 'all'\n",
        "models = f'/{nmodel + (nmolecule-1)*nmodes}'\n",
        "print(f'Molecule: {nmolecule}, nmodel: {nmodel}, Model {models[1:]}')\n",
        "\n",
        "v0 = nv.show_structure_file(FILE_TEST, default=False)\n",
        "v0.add_representation(repr_type='licorice', \n",
        "                        selection=models,\n",
        "                       colorScheme= 'partialCharge')\n",
        "v0.center()\n",
        "v1 = nv.show_structure_file(FILE_TEST, default=False)\n",
        "v1.add_representation(repr_type='ball+stick', \n",
        "                        selection=models)\n",
        "v1.center()\n",
        "\n",
        "v0._set_size('500px', '')\n",
        "v1._set_size('500px', '')\n",
        "\n",
        "def on_change(change):\n",
        "    v1._set_camera_orientation(change['new'])\n",
        "    \n",
        "v0.observe(on_change, ['_camera_orientation'])\n",
        "\n",
        "HBox([v0, v1])"
      ]
    },
    {
      "cell_type": "markdown",
      "id": "17da44c6",
      "metadata": {
        "id": "17da44c6"
      },
      "source": [
        "Let us see it all together, the protein structure and the docked ligand. "
      ]
    },
    {
      "cell_type": "code",
      "execution_count": 64,
      "id": "40b56dc4",
      "metadata": {
        "id": "40b56dc4",
        "colab": {
          "base_uri": "https://localhost:8080/",
          "height": 102,
          "referenced_widgets": [
            "18f09068c3894342906620e28104b430",
            "68e97a13db934826b350a0ede83662d9",
            "61d40f6ebb974f238e94556851938650",
            "2e6e214a1b7c47059668c20ec13cc594",
            "475613b6b5c84cc5a9f93ed447e81613",
            "ceda49a32fbd47ddb51b2719f6ad387e",
            "ea9990643eec4cc8817314a219fdfb8e"
          ]
        },
        "outputId": "b232bf45-6ebd-431c-d69e-9bbfd395c410"
      },
      "outputs": [
        {
          "output_type": "stream",
          "name": "stdout",
          "text": [
            "Molecule: 1, nmodel: 1, Model 1\n",
            "minimizedAffinity                                            -6.26799\n",
            "ID                                                          129716650\n",
            "Molecule             <rdkit.Chem.rdchem.Mol object at 0x7f876ca66510>\n",
            "Name: 0, dtype: object\n"
          ]
        }
      ],
      "source": [
        "print(f'Molecule: {nmolecule}, nmodel: {nmodel}, Model {models[1:]}')\n",
        "print(df_pandas.iloc[int(models[1:])-1]) # as model correspond to row index -1 because starting value\n",
        "\n",
        "\n",
        "import numpy as np\n",
        "bindingsite_data = os.path.join(PATH, 'bindingsite.npy')\n",
        "bindingSite = np.load(bindingsite_data)\n",
        "\n",
        "\n",
        "view = nv.NGLWidget()\n",
        "\n",
        "# v1 = Experimental Structure\n",
        "v1 = view.add_component(ProteinForDocking)\n",
        "\n",
        "v1.add_representation(repr_type='licorice', \n",
        "                     selection='STI',\n",
        "                     radius=0.5)\n",
        "\n",
        "# v2 = Docking result\n",
        "v2 = view.add_component(FILE_TEST, default=False)\n",
        "v2.add_representation(repr_type='ball+stick', colorScheme='element', #color= 'green', \n",
        "                        selection=models)\n",
        "v2.center()\n",
        "\n",
        "# v3 = surface\n",
        "#view.add_representation(repr_type='surface', \n",
        "#                        selection=', '.join(str(v) for v in bindingSite), \n",
        "#                        color='pink',\n",
        "#                        lowResolution= True,\n",
        "#                        smooth=0.4)\n",
        "\n",
        "view._remote_call('setSize', target='Widget', args=['','500px'])"
      ]
    },
    {
      "cell_type": "code",
      "execution_count": 72,
      "id": "3fb1b96d",
      "metadata": {
        "id": "3fb1b96d",
        "colab": {
          "base_uri": "https://localhost:8080/",
          "height": 317,
          "referenced_widgets": [
            "61d40f6ebb974f238e94556851938650",
            "ce1de2206c0e438ab962a3b8aee886c6",
            "247ac70d85924719844cad9bd1ea39e0",
            "4040a31c71a14a5480093a5237e0641b",
            "8f46482ac67e4b64ac88c0023c66e68d",
            "b061a7add81a4718a880e482c3406f01",
            "18f09068c3894342906620e28104b430",
            "68e97a13db934826b350a0ede83662d9",
            "59b906a350a64ebea4190487a1e8286d",
            "2e6e214a1b7c47059668c20ec13cc594",
            "475613b6b5c84cc5a9f93ed447e81613",
            "ceda49a32fbd47ddb51b2719f6ad387e",
            "ea9990643eec4cc8817314a219fdfb8e"
          ]
        },
        "outputId": "b6733ce6-eee9-4679-89ac-bb08a952c24c"
      },
      "outputs": [
        {
          "output_type": "display_data",
          "data": {
            "text/plain": [
              "A Jupyter Widget"
            ],
            "application/vnd.jupyter.widget-view+json": {
              "version_major": 2,
              "version_minor": 0,
              "model_id": "61d40f6ebb974f238e94556851938650"
            }
          },
          "metadata": {
            "application/vnd.jupyter.widget-view+json": {
              "colab": {
                "custom_widget_manager": {
                  "url": "https://ssl.gstatic.com/colaboratory-static/widgets/colab-cdn-widget-manager/b3e629b1971e1542/manager.min.js"
                }
              }
            }
          }
        }
      ],
      "source": [
        "view"
      ]
    },
    {
      "cell_type": "markdown",
      "source": [
        "If the visualization is not working in your google colab, please visualize it in Pymol in your personal laptop.\n",
        "You have to load the receptor, the score only molecule (i.e, the cristalized ligand) and all the poses from your candidates.\n",
        "\n",
        "```\n",
        "load prep_receptor.pdbqt\n",
        "load All_Docked.sdf\n",
        "load DockedScoreOnly.pdb\n",
        "```\n",
        "\n",
        "Later try to answer... binds any of your molecules better than the known ligand?\n",
        "\n"
      ],
      "metadata": {
        "id": "PRhXs8e762jI"
      },
      "id": "PRhXs8e762jI"
    }
  ],
  "metadata": {
    "kernelspec": {
      "display_name": "Python 3 (ipykernel)",
      "language": "python",
      "name": "python3"
    },
    "language_info": {
      "codemirror_mode": {
        "name": "ipython",
        "version": 3
      },
      "file_extension": ".py",
      "mimetype": "text/x-python",
      "name": "python",
      "nbconvert_exporter": "python",
      "pygments_lexer": "ipython3",
      "version": "3.9.6"
    },
    "colab": {
      "provenance": [],
      "toc_visible": true
    },
    "widgets": {
      "application/vnd.jupyter.widget-state+json": {
        "89e096fb4309493f910e65155be4a695": {
          "model_module": "@jupyter-widgets/controls",
          "model_name": "DropdownModel",
          "model_module_version": "1.0.0",
          "state": {
            "_dom_classes": [],
            "_model_module": "@jupyter-widgets/controls",
            "_model_module_version": "1.0.0",
            "_model_name": "DropdownModel",
            "_options_labels": [
              "1",
              "2",
              "3",
              "4",
              "5",
              "6",
              "7",
              "8",
              "9",
              "10"
            ],
            "_view_count": null,
            "_view_module": "@jupyter-widgets/controls",
            "_view_module_version": "1.0.0",
            "_view_name": "DropdownView",
            "description": "Sel. molecule:",
            "disabled": false,
            "index": 0,
            "layout": "IPY_MODEL_23f5db6bcc3b4015baa6c4b9998a3733",
            "style": "IPY_MODEL_d3e5d0514abe47e8a0072982fd6ecfcf"
          }
        },
        "23f5db6bcc3b4015baa6c4b9998a3733": {
          "model_module": "@jupyter-widgets/base",
          "model_name": "LayoutModel",
          "model_module_version": "1.0.0",
          "state": {
            "_model_module": "@jupyter-widgets/base",
            "_model_module_version": "1.0.0",
            "_model_name": "LayoutModel",
            "_view_count": null,
            "_view_module": "@jupyter-widgets/base",
            "_view_module_version": "1.0.0",
            "_view_name": "LayoutView",
            "align_content": null,
            "align_items": null,
            "align_self": null,
            "border": null,
            "bottom": null,
            "display": null,
            "flex": null,
            "flex_flow": null,
            "height": null,
            "justify_content": null,
            "left": null,
            "margin": null,
            "max_height": null,
            "max_width": null,
            "min_height": null,
            "min_width": null,
            "order": null,
            "overflow": null,
            "overflow_x": null,
            "overflow_y": null,
            "padding": null,
            "right": null,
            "top": null,
            "visibility": null,
            "width": null
          }
        },
        "d3e5d0514abe47e8a0072982fd6ecfcf": {
          "model_module": "@jupyter-widgets/controls",
          "model_name": "DescriptionStyleModel",
          "model_module_version": "1.0.0",
          "state": {
            "_model_module": "@jupyter-widgets/controls",
            "_model_module_version": "1.0.0",
            "_model_name": "DescriptionStyleModel",
            "_view_count": null,
            "_view_module": "@jupyter-widgets/base",
            "_view_module_version": "1.0.0",
            "_view_name": "StyleView",
            "description_width": ""
          }
        },
        "d35b145844f444dc97e898dbcf342728": {
          "model_module": "@jupyter-widgets/controls",
          "model_name": "DropdownModel",
          "model_module_version": "1.0.0",
          "state": {
            "_dom_classes": [],
            "_model_module": "@jupyter-widgets/controls",
            "_model_module_version": "1.0.0",
            "_model_name": "DropdownModel",
            "_options_labels": [
              "1",
              "2",
              "3",
              "4",
              "5",
              "6",
              "7",
              "8"
            ],
            "_view_count": null,
            "_view_module": "@jupyter-widgets/controls",
            "_view_module_version": "1.0.0",
            "_view_name": "DropdownView",
            "description": "Sel. mode:",
            "disabled": false,
            "index": 0,
            "layout": "IPY_MODEL_459d5c140b834f2ca8d22f845fe097d2",
            "style": "IPY_MODEL_85eead3abb684b45a1da7f908d761997"
          }
        },
        "459d5c140b834f2ca8d22f845fe097d2": {
          "model_module": "@jupyter-widgets/base",
          "model_name": "LayoutModel",
          "model_module_version": "1.0.0",
          "state": {
            "_model_module": "@jupyter-widgets/base",
            "_model_module_version": "1.0.0",
            "_model_name": "LayoutModel",
            "_view_count": null,
            "_view_module": "@jupyter-widgets/base",
            "_view_module_version": "1.0.0",
            "_view_name": "LayoutView",
            "align_content": null,
            "align_items": null,
            "align_self": null,
            "border": null,
            "bottom": null,
            "display": null,
            "flex": null,
            "flex_flow": null,
            "height": null,
            "justify_content": null,
            "left": null,
            "margin": null,
            "max_height": null,
            "max_width": null,
            "min_height": null,
            "min_width": null,
            "order": null,
            "overflow": null,
            "overflow_x": null,
            "overflow_y": null,
            "padding": null,
            "right": null,
            "top": null,
            "visibility": null,
            "width": null
          }
        },
        "85eead3abb684b45a1da7f908d761997": {
          "model_module": "@jupyter-widgets/controls",
          "model_name": "DescriptionStyleModel",
          "model_module_version": "1.0.0",
          "state": {
            "_model_module": "@jupyter-widgets/controls",
            "_model_module_version": "1.0.0",
            "_model_name": "DescriptionStyleModel",
            "_view_count": null,
            "_view_module": "@jupyter-widgets/base",
            "_view_module_version": "1.0.0",
            "_view_name": "StyleView",
            "description_width": ""
          }
        },
        "258f19b88ad246a5a52adca5bf5c0fb6": {
          "model_module": "@jupyter-widgets/controls",
          "model_name": "PlayModel",
          "model_module_version": "1.0.0",
          "state": {
            "_dom_classes": [],
            "_model_module": "@jupyter-widgets/controls",
            "_model_module_version": "1.0.0",
            "_model_name": "PlayModel",
            "_playing": false,
            "_repeat": false,
            "_view_count": null,
            "_view_module": "@jupyter-widgets/controls",
            "_view_module_version": "1.0.0",
            "_view_name": "PlayView",
            "description": "",
            "disabled": false,
            "interval": 100,
            "layout": "IPY_MODEL_f37e65fd6290475ab5d7f89d89899555",
            "max": 0,
            "min": 0,
            "show_repeat": true,
            "step": 1,
            "style": "IPY_MODEL_88ed921272d448e48852c263959c376c",
            "value": 0
          }
        },
        "921b945bfdc3443aa8dbe8ee81194c38": {
          "model_module": "@jupyter-widgets/controls",
          "model_name": "IntSliderModel",
          "model_module_version": "1.0.0",
          "state": {
            "_dom_classes": [],
            "_model_module": "@jupyter-widgets/controls",
            "_model_module_version": "1.0.0",
            "_model_name": "IntSliderModel",
            "_view_count": null,
            "_view_module": "@jupyter-widgets/controls",
            "_view_module_version": "1.0.0",
            "_view_name": "IntSliderView",
            "continuous_update": true,
            "description": "",
            "disabled": false,
            "layout": "IPY_MODEL_3b9da58a954d4ab3a6c3c6b74aae3697",
            "max": 0,
            "min": 0,
            "orientation": "horizontal",
            "readout": true,
            "readout_format": "d",
            "step": 1,
            "style": "IPY_MODEL_c64f14da864146fe8ee3b00602cb25a8",
            "value": 0
          }
        },
        "63277ca49f194808b6366c4b828c1a9c": {
          "model_module": "nglview-js-widgets",
          "model_name": "NGLModel",
          "model_module_version": "3.0.1",
          "state": {
            "_camera_orientation": [
              25.608330863847495,
              7.0620778558510775,
              -10.934986861640128,
              0,
              -12.162221942451026,
              21.581913604182528,
              -14.54423781237071,
              0,
              4.639745545706953,
              17.594929737800292,
              22.228915846968203,
              0,
              -17.46690034866333,
              3.2421498894691467,
              5.3953500390052795,
              1
            ],
            "_camera_str": "orthographic",
            "_dom_classes": [],
            "_gui_theme": null,
            "_ibtn_fullscreen": "IPY_MODEL_fa375be989de4d599f3e2e050e375e74",
            "_igui": null,
            "_iplayer": "IPY_MODEL_130946101dbf4bceb3adced42f4a72c3",
            "_model_module": "nglview-js-widgets",
            "_model_module_version": "3.0.1",
            "_model_name": "NGLModel",
            "_ngl_color_dict": {},
            "_ngl_coordinate_resource": {},
            "_ngl_full_stage_parameters": {
              "impostor": true,
              "quality": "medium",
              "workerDefault": true,
              "sampleLevel": 0,
              "backgroundColor": "white",
              "rotateSpeed": 2,
              "zoomSpeed": 1.2,
              "panSpeed": 1,
              "clipNear": 0,
              "clipFar": 100,
              "clipDist": 10,
              "fogNear": 50,
              "fogFar": 100,
              "cameraFov": 40,
              "cameraEyeSep": 0.3,
              "cameraType": "perspective",
              "lightColor": 14540253,
              "lightIntensity": 1,
              "ambientColor": 14540253,
              "ambientIntensity": 0.2,
              "hoverTimeout": 0,
              "tooltip": true,
              "mousePreset": "default"
            },
            "_ngl_msg_archive": [
              {
                "target": "Stage",
                "type": "call_method",
                "methodName": "loadFile",
                "reconstruc_color_scheme": false,
                "args": [
                  {
                    "type": "blob",
                    "data": "129716650\n\n\n 18 19  0  0  0  0  0  0  0  0999 V2000\n   17.5258   -3.3694   -4.1684 C   0  0  0  0  0  0  0  0  0  0  0  0\n   18.4831   -3.5792   -3.3274 N   0  0  0  0  0  0  0  0  0  0  0  0\n   17.4239   -0.5023   -8.3442 Cl  0  0  0  0  0  0  0  0  0  0  0  0\n   17.0636   -1.9592   -7.4984 C   0  0  0  0  0  0  0  0  0  0  0  0\n   15.9344   -2.7457   -7.9435 C   0  0  0  0  0  0  0  0  0  0  0  0\n   17.8118   -2.3470   -6.4534 C   0  0  0  0  0  0  0  0  0  0  0  0\n   15.5592   -3.8626   -7.3022 C   0  0  0  0  0  0  0  0  0  0  0  0\n   17.5324   -3.6240   -5.6958 C   0  0  0  0  0  0  0  0  0  0  0  0\n   16.2787   -4.3303   -6.1415 C   0  0  0  0  0  0  0  0  0  0  0  0\n   16.2621   -2.7927   -3.5977 C   0  0  0  0  0  0  0  0  0  0  0  0\n   15.5947   -3.5021   -2.5905 C   0  0  0  0  0  0  0  0  0  0  0  0\n   15.7282   -1.5850   -4.0619 C   0  0  0  0  0  0  0  0  0  0  0  0\n   14.4172   -2.9968   -2.0373 C   0  0  0  0  0  0  0  0  0  0  0  0\n   14.5489   -1.0833   -3.5054 C   0  0  0  0  0  0  0  0  0  0  0  0\n   13.8970   -1.7866   -2.4928 C   0  0  0  0  0  0  0  0  0  0  0  0\n   19.7850   -4.1289   -3.6793 C   0  0  0  0  0  0  0  0  0  0  0  0\n   19.7561   -5.5850   -3.4689 C   0  0  0  0  0  0  0  0  0  0  0  0\n   19.7435   -6.7527   -3.3140 O   0  0  0  0  0  0  0  0  0  0  0  0\n  3  4  1  0  0  0\n  4  5  1  0  0  0\n  4  6  2  0  0  0\n  5  7  2  0  0  0\n  6  8  1  0  0  0\n  7  9  1  0  0  0\n  8  1  1  0  0  0\n  1  2  2  0  0  0\n  1 10  1  0  0  0\n  2 16  1  0  0  0\n 10 11  2  0  0  0\n 10 12  1  0  0  0\n 16 17  1  0  0  0\n 11 13  1  0  0  0\n 12 14  2  0  0  0\n 17 18  2  0  0  0\n 13 15  2  0  0  0\n  8  9  1  0  0  0\n 14 15  1  0  0  0\nM  CHG 1   9  -1\nM  CHG 1  17  -1\nM  END\n> <minimizedAffinity>\n-6.26799\n\n$$$$\n129716650\n\n\n 18 19  0  0  0  0  0  0  0  0999 V2000\n   17.4949   -3.4279   -4.0336 C   0  0  0  0  0  0  0  0  0  0  0  0\n   18.4621   -3.5994   -3.1952 N   0  0  0  0  0  0  0  0  0  0  0  0\n   17.4979   -0.6620   -8.2783 Cl  0  0  0  0  0  0  0  0  0  0  0  0\n   17.0864   -2.0845   -7.3980 C   0  0  0  0  0  0  0  0  0  0  0  0\n   15.9314   -2.8423   -7.8264 C   0  0  0  0  0  0  0  0  0  0  0  0\n   17.8193   -2.4722   -6.3422 C   0  0  0  0  0  0  0  0  0  0  0  0\n   15.5171   -3.9297   -7.1589 C   0  0  0  0  0  0  0  0  0  0  0  0\n   17.4949   -3.7199   -5.5543 C   0  0  0  0  0  0  0  0  0  0  0  0\n   16.2183   -4.3933   -5.9855 C   0  0  0  0  0  0  0  0  0  0  0  0\n   16.2251   -2.8607   -3.4673 C   0  0  0  0  0  0  0  0  0  0  0  0\n   15.7488   -1.6436   -3.9726 C   0  0  0  0  0  0  0  0  0  0  0  0\n   15.5256   -3.5028   -2.4389 C   0  0  0  0  0  0  0  0  0  0  0  0\n   14.5722   -1.0863   -3.4697 C   0  0  0  0  0  0  0  0  0  0  0  0\n   14.3484   -2.9408   -1.9384 C   0  0  0  0  0  0  0  0  0  0  0  0\n   13.8714   -1.7367   -2.4555 C   0  0  0  0  0  0  0  0  0  0  0  0\n   19.7714   -4.1337   -3.5438 C   0  0  0  0  0  0  0  0  0  0  0  0\n   19.7375   -5.5981   -3.4023 C   0  0  0  0  0  0  0  0  0  0  0  0\n   19.7259   -6.7697   -3.2813 O   0  0  0  0  0  0  0  0  0  0  0  0\n  3  4  1  0  0  0\n  4  5  1  0  0  0\n  4  6  2  0  0  0\n  5  7  2  0  0  0\n  6  8  1  0  0  0\n  7  9  1  0  0  0\n  8  1  1  0  0  0\n  1  2  2  0  0  0\n  1 10  1  0  0  0\n  2 16  1  0  0  0\n 10 11  2  0  0  0\n 10 12  1  0  0  0\n 16 17  1  0  0  0\n 11 13  1  0  0  0\n 12 14  2  0  0  0\n 17 18  2  0  0  0\n 13 15  2  0  0  0\n  8  9  1  0  0  0\n 14 15  1  0  0  0\nM  CHG 1   9  -1\nM  CHG 1  17  -1\nM  END\n> <minimizedAffinity>\n-6.21852\n\n$$$$\n129716650\n\n\n 18 19  0  0  0  0  0  0  0  0999 V2000\n   17.3854   -3.4619   -5.1902 C   0  0  0  0  0  0  0  0  0  0  0  0\n   18.4813   -4.1316   -5.0550 N   0  0  0  0  0  0  0  0  0  0  0  0\n   13.3703   -4.1473   -2.1774 Cl  0  0  0  0  0  0  0  0  0  0  0  0\n   14.4198   -3.1353   -3.0950 C   0  0  0  0  0  0  0  0  0  0  0  0\n   13.8909   -1.8917   -3.6103 C   0  0  0  0  0  0  0  0  0  0  0  0\n   15.6918   -3.4978   -3.3250 C   0  0  0  0  0  0  0  0  0  0  0  0\n   14.6306   -1.0779   -4.3784 C   0  0  0  0  0  0  0  0  0  0  0  0\n   16.6435   -2.6302   -4.1152 C   0  0  0  0  0  0  0  0  0  0  0  0\n   15.9946   -1.4098   -4.7143 C   0  0  0  0  0  0  0  0  0  0  0  0\n   16.7460   -3.5116   -6.5480 C   0  0  0  0  0  0  0  0  0  0  0  0\n   17.1982   -2.6275   -7.5364 C   0  0  0  0  0  0  0  0  0  0  0  0\n   15.7018   -4.3973   -6.8386 C   0  0  0  0  0  0  0  0  0  0  0  0\n   16.6268   -2.6450   -8.8097 C   0  0  0  0  0  0  0  0  0  0  0  0\n   15.1326   -4.4109   -8.1145 C   0  0  0  0  0  0  0  0  0  0  0  0\n   15.5969   -3.5387   -9.0986 C   0  0  0  0  0  0  0  0  0  0  0  0\n   19.2519   -4.2132   -3.8219 C   0  0  0  0  0  0  0  0  0  0  0  0\n   19.5727   -5.6248   -3.5574 C   0  0  0  0  0  0  0  0  0  0  0  0\n   19.8287   -6.7579   -3.3625 O   0  0  0  0  0  0  0  0  0  0  0  0\n  3  4  1  0  0  0\n  4  5  1  0  0  0\n  4  6  2  0  0  0\n  5  7  2  0  0  0\n  6  8  1  0  0  0\n  7  9  1  0  0  0\n  8  1  1  0  0  0\n  1  2  2  0  0  0\n  1 10  1  0  0  0\n  2 16  1  0  0  0\n 10 11  2  0  0  0\n 10 12  1  0  0  0\n 16 17  1  0  0  0\n 11 13  1  0  0  0\n 12 14  2  0  0  0\n 17 18  2  0  0  0\n 13 15  2  0  0  0\n  8  9  1  0  0  0\n 14 15  1  0  0  0\nM  CHG 1   9  -1\nM  CHG 1  17  -1\nM  END\n> <minimizedAffinity>\n-6.10948\n\n$$$$\n129716650\n\n\n 18 19  0  0  0  0  0  0  0  0999 V2000\n   15.6382   -3.4230   -4.7574 C   0  0  0  0  0  0  0  0  0  0  0  0\n   14.3986   -3.2206   -4.4571 N   0  0  0  0  0  0  0  0  0  0  0  0\n   18.7997   -2.2011   -0.9918 Cl  0  0  0  0  0  0  0  0  0  0  0  0\n   18.3900   -3.1292   -2.3840 C   0  0  0  0  0  0  0  0  0  0  0  0\n   19.4660   -3.6655   -3.1880 C   0  0  0  0  0  0  0  0  0  0  0  0\n   17.1055   -3.3428   -2.7106 C   0  0  0  0  0  0  0  0  0  0  0  0\n   19.2263   -4.3514   -4.3157 C   0  0  0  0  0  0  0  0  0  0  0  0\n   16.7092   -4.1612   -3.9172 C   0  0  0  0  0  0  0  0  0  0  0  0\n   17.8764   -4.5903   -4.7675 C   0  0  0  0  0  0  0  0  0  0  0  0\n   16.0987   -2.8588   -6.0706 C   0  0  0  0  0  0  0  0  0  0  0  0\n   15.8308   -3.5788   -7.2423 C   0  0  0  0  0  0  0  0  0  0  0  0\n   16.8039   -1.6521   -6.1473 C   0  0  0  0  0  0  0  0  0  0  0  0\n   16.2444   -3.0851   -8.4806 C   0  0  0  0  0  0  0  0  0  0  0  0\n   17.2163   -1.1621   -7.3890 C   0  0  0  0  0  0  0  0  0  0  0  0\n   16.9338   -1.8760   -8.5533 C   0  0  0  0  0  0  0  0  0  0  0  0\n   13.7599   -3.6830   -3.2327 C   0  0  0  0  0  0  0  0  0  0  0  0\n   13.5320   -2.5262   -2.3522 C   0  0  0  0  0  0  0  0  0  0  0  0\n   13.3659   -1.5950   -1.6501 O   0  0  0  0  0  0  0  0  0  0  0  0\n  3  4  1  0  0  0\n  4  5  1  0  0  0\n  4  6  2  0  0  0\n  5  7  2  0  0  0\n  6  8  1  0  0  0\n  7  9  1  0  0  0\n  8  1  1  0  0  0\n  1  2  2  0  0  0\n  1 10  1  0  0  0\n  2 16  1  0  0  0\n 10 11  2  0  0  0\n 10 12  1  0  0  0\n 16 17  1  0  0  0\n 11 13  1  0  0  0\n 12 14  2  0  0  0\n 17 18  2  0  0  0\n 13 15  2  0  0  0\n  8  9  1  0  0  0\n 14 15  1  0  0  0\nM  CHG 1   9  -1\nM  CHG 1  17  -1\nM  END\n> <minimizedAffinity>\n-5.98422\n\n$$$$\n129716650\n\n\n 18 19  0  0  0  0  0  0  0  0999 V2000\n   17.1686   -3.4894   -6.2429 C   0  0  0  0  0  0  0  0  0  0  0  0\n   17.8460   -2.5070   -6.7364 N   0  0  0  0  0  0  0  0  0  0  0  0\n   18.1572   -2.4615   -1.3814 Cl  0  0  0  0  0  0  0  0  0  0  0  0\n   18.3270   -3.4438   -2.7864 C   0  0  0  0  0  0  0  0  0  0  0  0\n   19.5224   -4.2472   -2.9174 C   0  0  0  0  0  0  0  0  0  0  0  0\n   17.3740   -3.4566   -3.7318 C   0  0  0  0  0  0  0  0  0  0  0  0\n   19.7508   -4.9950   -4.0074 C   0  0  0  0  0  0  0  0  0  0  0  0\n   17.4838   -4.3143   -4.9708 C   0  0  0  0  0  0  0  0  0  0  0  0\n   18.8013   -5.0342   -5.0940 C   0  0  0  0  0  0  0  0  0  0  0  0\n   15.9383   -3.8900   -7.0050 C   0  0  0  0  0  0  0  0  0  0  0  0\n   15.9105   -3.6867   -8.3910 C   0  0  0  0  0  0  0  0  0  0  0  0\n   14.8197   -4.4352   -6.3642 C   0  0  0  0  0  0  0  0  0  0  0  0\n   14.7834   -4.0464   -9.1315 C   0  0  0  0  0  0  0  0  0  0  0  0\n   13.6935   -4.7933   -7.1096 C   0  0  0  0  0  0  0  0  0  0  0  0\n   13.6774   -4.6022   -8.4909 C   0  0  0  0  0  0  0  0  0  0  0  0\n   19.0668   -1.9700   -6.1514 C   0  0  0  0  0  0  0  0  0  0  0  0\n   20.2134   -2.4119   -6.9611 C   0  0  0  0  0  0  0  0  0  0  0  0\n   21.1414   -2.7547   -7.6006 O   0  0  0  0  0  0  0  0  0  0  0  0\n  3  4  1  0  0  0\n  4  5  1  0  0  0\n  4  6  2  0  0  0\n  5  7  2  0  0  0\n  6  8  1  0  0  0\n  7  9  1  0  0  0\n  8  1  1  0  0  0\n  1  2  2  0  0  0\n  1 10  1  0  0  0\n  2 16  1  0  0  0\n 10 11  2  0  0  0\n 10 12  1  0  0  0\n 16 17  1  0  0  0\n 11 13  1  0  0  0\n 12 14  2  0  0  0\n 17 18  2  0  0  0\n 13 15  2  0  0  0\n  8  9  1  0  0  0\n 14 15  1  0  0  0\nM  CHG 1   9  -1\nM  CHG 1  17  -1\nM  END\n> <minimizedAffinity>\n-5.70625\n\n$$$$\n129716650\n\n\n 18 19  0  0  0  0  0  0  0  0999 V2000\n   16.0377   -3.6183   -5.4021 C   0  0  0  0  0  0  0  0  0  0  0  0\n   14.8013   -3.4189   -5.0868 N   0  0  0  0  0  0  0  0  0  0  0  0\n   17.0650    0.0119   -8.7835 Cl  0  0  0  0  0  0  0  0  0  0  0  0\n   16.6640   -1.6148   -8.3829 C   0  0  0  0  0  0  0  0  0  0  0  0\n   15.9505   -2.4034   -9.3631 C   0  0  0  0  0  0  0  0  0  0  0  0\n   17.0041   -2.1300   -7.1908 C   0  0  0  0  0  0  0  0  0  0  0  0\n   15.5563   -3.6590   -9.1032 C   0  0  0  0  0  0  0  0  0  0  0  0\n   16.6794   -3.5556   -6.8100 C   0  0  0  0  0  0  0  0  0  0  0  0\n   15.8394   -4.2784   -7.8305 C   0  0  0  0  0  0  0  0  0  0  0  0\n   16.9580   -3.9707   -4.2691 C   0  0  0  0  0  0  0  0  0  0  0  0\n   18.1813   -4.5869   -4.5639 C   0  0  0  0  0  0  0  0  0  0  0  0\n   16.6139   -3.7210   -2.9355 C   0  0  0  0  0  0  0  0  0  0  0  0\n   19.0614   -4.9292   -3.5361 C   0  0  0  0  0  0  0  0  0  0  0  0\n   17.4979   -4.0658   -1.9100 C   0  0  0  0  0  0  0  0  0  0  0  0\n   18.7205   -4.6655   -2.2106 C   0  0  0  0  0  0  0  0  0  0  0  0\n   13.7533   -3.0706   -6.0362 C   0  0  0  0  0  0  0  0  0  0  0  0\n   13.6114   -1.6062   -6.0678 C   0  0  0  0  0  0  0  0  0  0  0  0\n   13.4940   -0.4349   -6.1099 O   0  0  0  0  0  0  0  0  0  0  0  0\n  3  4  1  0  0  0\n  4  5  1  0  0  0\n  4  6  2  0  0  0\n  5  7  2  0  0  0\n  6  8  1  0  0  0\n  7  9  1  0  0  0\n  8  1  1  0  0  0\n  1  2  2  0  0  0\n  1 10  1  0  0  0\n  2 16  1  0  0  0\n 10 11  2  0  0  0\n 10 12  1  0  0  0\n 16 17  1  0  0  0\n 11 13  1  0  0  0\n 12 14  2  0  0  0\n 17 18  2  0  0  0\n 13 15  2  0  0  0\n  8  9  1  0  0  0\n 14 15  1  0  0  0\nM  CHG 1   9  -1\nM  CHG 1  17  -1\nM  END\n> <minimizedAffinity>\n-5.67799\n\n$$$$\n129716650\n\n\n 18 19  0  0  0  0  0  0  0  0999 V2000\n   17.3283   -2.8754   -5.5521 C   0  0  0  0  0  0  0  0  0  0  0  0\n   17.5435   -2.1818   -6.6199 N   0  0  0  0  0  0  0  0  0  0  0  0\n   19.8657   -6.5435   -3.1491 Cl  0  0  0  0  0  0  0  0  0  0  0  0\n   18.9949   -5.0571   -3.1534 C   0  0  0  0  0  0  0  0  0  0  0  0\n   18.3016   -4.6685   -1.9450 C   0  0  0  0  0  0  0  0  0  0  0  0\n   18.9615   -4.2865   -4.2521 C   0  0  0  0  0  0  0  0  0  0  0  0\n   17.5584   -3.5531   -1.8888 C   0  0  0  0  0  0  0  0  0  0  0  0\n   18.2180   -2.9717   -4.2884 C   0  0  0  0  0  0  0  0  0  0  0  0\n   17.4291   -2.6876   -3.0368 C   0  0  0  0  0  0  0  0  0  0  0  0\n   16.0736   -3.7005   -5.5441 C   0  0  0  0  0  0  0  0  0  0  0  0\n   15.1131   -3.4533   -4.5544 C   0  0  0  0  0  0  0  0  0  0  0  0\n   15.8548   -4.7176   -6.4804 C   0  0  0  0  0  0  0  0  0  0  0  0\n   13.9353   -4.2012   -4.5159 C   0  0  0  0  0  0  0  0  0  0  0  0\n   14.6745   -5.4640   -6.4376 C   0  0  0  0  0  0  0  0  0  0  0  0\n   13.7155   -5.2034   -5.4592 C   0  0  0  0  0  0  0  0  0  0  0  0\n   18.7001   -1.3211   -6.8258 C   0  0  0  0  0  0  0  0  0  0  0  0\n   19.8784   -2.1652   -7.0801 C   0  0  0  0  0  0  0  0  0  0  0  0\n   20.8316   -2.8269   -7.2831 O   0  0  0  0  0  0  0  0  0  0  0  0\n  3  4  1  0  0  0\n  4  5  1  0  0  0\n  4  6  2  0  0  0\n  5  7  2  0  0  0\n  6  8  1  0  0  0\n  7  9  1  0  0  0\n  8  1  1  0  0  0\n  1  2  2  0  0  0\n  1 10  1  0  0  0\n  2 16  1  0  0  0\n 10 11  2  0  0  0\n 10 12  1  0  0  0\n 16 17  1  0  0  0\n 11 13  1  0  0  0\n 12 14  2  0  0  0\n 17 18  2  0  0  0\n 13 15  2  0  0  0\n  8  9  1  0  0  0\n 14 15  1  0  0  0\nM  CHG 1   9  -1\nM  CHG 1  17  -1\nM  END\n> <minimizedAffinity>\n-5.59522\n\n$$$$\n129716650\n\n\n 18 19  0  0  0  0  0  0  0  0999 V2000\n   16.8107   -3.3039   -4.6677 C   0  0  0  0  0  0  0  0  0  0  0  0\n   18.0022   -3.2427   -4.1734 N   0  0  0  0  0  0  0  0  0  0  0  0\n   14.9522   -1.3397   -8.9521 Cl  0  0  0  0  0  0  0  0  0  0  0  0\n   15.1153   -2.6318   -7.8245 C   0  0  0  0  0  0  0  0  0  0  0  0\n   14.0486   -3.6051   -7.7424 C   0  0  0  0  0  0  0  0  0  0  0  0\n   16.2033   -2.7257   -7.0437 C   0  0  0  0  0  0  0  0  0  0  0  0\n   14.0788   -4.6075   -6.8515 C   0  0  0  0  0  0  0  0  0  0  0  0\n   16.3854   -3.8513   -6.0524 C   0  0  0  0  0  0  0  0  0  0  0  0\n   15.1888   -4.7596   -5.9413 C   0  0  0  0  0  0  0  0  0  0  0  0\n   15.7096   -2.7624   -3.8021 C   0  0  0  0  0  0  0  0  0  0  0  0\n   15.0692   -1.5786   -4.1915 C   0  0  0  0  0  0  0  0  0  0  0  0\n   15.3282   -3.3954   -2.6134 C   0  0  0  0  0  0  0  0  0  0  0  0\n   14.0420   -1.0459   -3.4110 C   0  0  0  0  0  0  0  0  0  0  0  0\n   14.2997   -2.8582   -1.8352 C   0  0  0  0  0  0  0  0  0  0  0  0\n   13.6560   -1.6877   -2.2355 C   0  0  0  0  0  0  0  0  0  0  0  0\n   19.2025   -3.7109   -4.8524 C   0  0  0  0  0  0  0  0  0  0  0  0\n   19.6049   -2.7053   -5.8486 C   0  0  0  0  0  0  0  0  0  0  0  0\n   19.9430   -1.9004   -6.6394 O   0  0  0  0  0  0  0  0  0  0  0  0\n  3  4  1  0  0  0\n  4  5  1  0  0  0\n  4  6  2  0  0  0\n  5  7  2  0  0  0\n  6  8  1  0  0  0\n  7  9  1  0  0  0\n  8  1  1  0  0  0\n  1  2  2  0  0  0\n  1 10  1  0  0  0\n  2 16  1  0  0  0\n 10 11  2  0  0  0\n 10 12  1  0  0  0\n 16 17  1  0  0  0\n 11 13  1  0  0  0\n 12 14  2  0  0  0\n 17 18  2  0  0  0\n 13 15  2  0  0  0\n  8  9  1  0  0  0\n 14 15  1  0  0  0\nM  CHG 1   9  -1\nM  CHG 1  17  -1\nM  END\n> <minimizedAffinity>\n-5.53865\n\n$$$$\n129817097\n\n\n 18 19  0  0  0  0  0  0  0  0999 V2000\n   17.5257   -3.3667   -4.1868 C   0  0  0  0  0  0  0  0  0  0  0  0\n   18.5057   -3.5781   -3.3709 N   0  0  0  0  0  0  0  0  0  0  0  0\n   17.4167   -0.4892   -8.3441 Cl  0  0  0  0  0  0  0  0  0  0  0  0\n   17.0324   -1.9359   -7.4917 C   0  0  0  0  0  0  0  0  0  0  0  0\n   15.8588   -2.6763   -7.8983 C   0  0  0  0  0  0  0  0  0  0  0  0\n   17.8047   -2.3595   -6.4791 C   0  0  0  0  0  0  0  0  0  0  0  0\n   15.4714   -3.7889   -7.2567 C   0  0  0  0  0  0  0  0  0  0  0  0\n   17.5036   -3.6254   -5.7137 C   0  0  0  0  0  0  0  0  0  0  0  0\n   16.2177   -4.2940   -6.1293 C   0  0  0  0  0  0  0  0  0  0  0  0\n   16.2757   -2.7903   -3.5874 C   0  0  0  0  0  0  0  0  0  0  0  0\n   15.6627   -3.4705   -2.5267 C   0  0  0  0  0  0  0  0  0  0  0  0\n   15.6975   -1.6141   -4.0792 C   0  0  0  0  0  0  0  0  0  0  0  0\n   14.4985   -2.9645   -1.9463 C   0  0  0  0  0  0  0  0  0  0  0  0\n   14.5321   -1.1113   -3.4950 C   0  0  0  0  0  0  0  0  0  0  0  0\n   13.9366   -1.7833   -2.4280 C   0  0  0  0  0  0  0  0  0  0  0  0\n   19.7777   -4.1443   -3.7978 C   0  0  0  0  0  0  0  0  0  0  0  0\n   19.7295   -5.5904   -3.5121 C   0  0  0  0  0  0  0  0  0  0  0  0\n   19.7135   -6.7493   -3.3020 O   0  0  0  0  0  0  0  0  0  0  0  0\n  3  4  1  0  0  0\n  4  5  1  0  0  0\n  4  6  2  0  0  0\n  5  7  2  0  0  0\n  6  8  1  0  0  0\n  7  9  1  0  0  0\n  8  1  1  0  0  0\n  1  2  2  0  0  0\n  1 10  1  0  0  0\n  2 16  1  0  0  0\n 10 11  2  0  0  0\n 10 12  1  0  0  0\n 16 17  1  0  0  0\n 11 13  1  0  0  0\n 12 14  2  0  0  0\n 17 18  2  0  0  0\n 13 15  2  0  0  0\n  8  9  1  0  0  0\n 14 15  1  0  0  0\nM  CHG 1   9  -1\nM  CHG 1  17  -1\nM  END\n> <minimizedAffinity>\n-6.28345\n\n$$$$\n129817097\n\n\n 18 19  0  0  0  0  0  0  0  0999 V2000\n   17.5061   -3.3874   -4.1649 C   0  0  0  0  0  0  0  0  0  0  0  0\n   18.4850   -3.5769   -3.3424 N   0  0  0  0  0  0  0  0  0  0  0  0\n   17.4248   -0.5073   -8.3211 Cl  0  0  0  0  0  0  0  0  0  0  0  0\n   17.0391   -1.9566   -7.4736 C   0  0  0  0  0  0  0  0  0  0  0  0\n   15.8733   -2.7025   -7.8926 C   0  0  0  0  0  0  0  0  0  0  0  0\n   17.8032   -2.3771   -6.4536 C   0  0  0  0  0  0  0  0  0  0  0  0\n   15.4850   -3.8176   -7.2557 C   0  0  0  0  0  0  0  0  0  0  0  0\n   17.5007   -3.6451   -5.6922 C   0  0  0  0  0  0  0  0  0  0  0  0\n   16.2224   -4.3198   -6.1212 C   0  0  0  0  0  0  0  0  0  0  0  0\n   16.2389   -2.8408   -3.5739 C   0  0  0  0  0  0  0  0  0  0  0  0\n   15.7632   -1.6039   -4.0290 C   0  0  0  0  0  0  0  0  0  0  0  0\n   15.5434   -3.5195   -2.5663 C   0  0  0  0  0  0  0  0  0  0  0  0\n   14.5891   -1.0646   -3.5008 C   0  0  0  0  0  0  0  0  0  0  0  0\n   14.3685   -2.9759   -2.0405 C   0  0  0  0  0  0  0  0  0  0  0  0\n   13.8905   -1.7529   -2.5103 C   0  0  0  0  0  0  0  0  0  0  0  0\n   19.7727   -4.1131   -3.7608 C   0  0  0  0  0  0  0  0  0  0  0  0\n   19.7388   -5.5677   -3.5200 C   0  0  0  0  0  0  0  0  0  0  0  0\n   19.7390   -6.7281   -3.3177 O   0  0  0  0  0  0  0  0  0  0  0  0\n  3  4  1  0  0  0\n  4  5  1  0  0  0\n  4  6  2  0  0  0\n  5  7  2  0  0  0\n  6  8  1  0  0  0\n  7  9  1  0  0  0\n  8  1  1  0  0  0\n  1  2  2  0  0  0\n  1 10  1  0  0  0\n  2 16  1  0  0  0\n 10 11  2  0  0  0\n 10 12  1  0  0  0\n 16 17  1  0  0  0\n 11 13  1  0  0  0\n 12 14  2  0  0  0\n 17 18  2  0  0  0\n 13 15  2  0  0  0\n  8  9  1  0  0  0\n 14 15  1  0  0  0\nM  CHG 1   9  -1\nM  CHG 1  17  -1\nM  END\n> <minimizedAffinity>\n-6.24131\n\n$$$$\n129817097\n\n\n 18 19  0  0  0  0  0  0  0  0999 V2000\n   17.3464   -3.4087   -5.4365 C   0  0  0  0  0  0  0  0  0  0  0  0\n   18.4720   -4.0360   -5.3354 N   0  0  0  0  0  0  0  0  0  0  0  0\n   13.3666   -4.1660   -2.4094 Cl  0  0  0  0  0  0  0  0  0  0  0  0\n   14.4041   -3.1352   -3.3197 C   0  0  0  0  0  0  0  0  0  0  0  0\n   13.8596   -1.8962   -3.8288 C   0  0  0  0  0  0  0  0  0  0  0  0\n   15.6817   -3.4778   -3.5468 C   0  0  0  0  0  0  0  0  0  0  0  0\n   14.5928   -1.0617   -4.5809 C   0  0  0  0  0  0  0  0  0  0  0  0\n   16.6221   -2.5972   -4.3338 C   0  0  0  0  0  0  0  0  0  0  0  0\n   15.9635   -1.3701   -4.9113 C   0  0  0  0  0  0  0  0  0  0  0  0\n   16.6579   -3.4912   -6.7681 C   0  0  0  0  0  0  0  0  0  0  0  0\n   17.0816   -2.6411   -7.7983 C   0  0  0  0  0  0  0  0  0  0  0  0\n   15.5921   -4.3703   -6.9931 C   0  0  0  0  0  0  0  0  0  0  0  0\n   16.4633   -2.6894   -9.0488 C   0  0  0  0  0  0  0  0  0  0  0  0\n   14.9761   -4.4153   -8.2465 C   0  0  0  0  0  0  0  0  0  0  0  0\n   15.4141   -3.5792   -9.2731 C   0  0  0  0  0  0  0  0  0  0  0  0\n   19.2646   -4.0397   -4.1137 C   0  0  0  0  0  0  0  0  0  0  0  0\n   19.5601   -5.4478   -3.7894 C   0  0  0  0  0  0  0  0  0  0  0  0\n   19.8082   -6.5755   -3.5567 O   0  0  0  0  0  0  0  0  0  0  0  0\n  3  4  1  0  0  0\n  4  5  1  0  0  0\n  4  6  2  0  0  0\n  5  7  2  0  0  0\n  6  8  1  0  0  0\n  7  9  1  0  0  0\n  8  1  1  0  0  0\n  1  2  2  0  0  0\n  1 10  1  0  0  0\n  2 16  1  0  0  0\n 10 11  2  0  0  0\n 10 12  1  0  0  0\n 16 17  1  0  0  0\n 11 13  1  0  0  0\n 12 14  2  0  0  0\n 17 18  2  0  0  0\n 13 15  2  0  0  0\n  8  9  1  0  0  0\n 14 15  1  0  0  0\nM  CHG 1   9  -1\nM  CHG 1  17  -1\nM  END\n> <minimizedAffinity>\n-6.09064\n\n$$$$\n129817097\n\n\n 18 19  0  0  0  0  0  0  0  0999 V2000\n   16.4931   -3.7212   -4.4609 C   0  0  0  0  0  0  0  0  0  0  0  0\n   17.6605   -3.6477   -3.9111 N   0  0  0  0  0  0  0  0  0  0  0  0\n   15.9626   -2.7167   -9.3889 Cl  0  0  0  0  0  0  0  0  0  0  0  0\n   15.5389   -3.5903   -7.9659 C   0  0  0  0  0  0  0  0  0  0  0  0\n   14.1995   -4.1264   -7.8676 C   0  0  0  0  0  0  0  0  0  0  0  0\n   16.4314   -3.7656   -6.9791 C   0  0  0  0  0  0  0  0  0  0  0  0\n   13.7823   -4.7816   -6.7739 C   0  0  0  0  0  0  0  0  0  0  0  0\n   16.0987   -4.5309   -5.7210 C   0  0  0  0  0  0  0  0  0  0  0  0\n   14.6612   -4.9795   -5.6463 C   0  0  0  0  0  0  0  0  0  0  0  0\n   15.4026   -2.9179   -3.8131 C   0  0  0  0  0  0  0  0  0  0  0  0\n   14.9544   -3.2954   -2.5403 C   0  0  0  0  0  0  0  0  0  0  0  0\n   14.8086   -1.8271   -4.4587 C   0  0  0  0  0  0  0  0  0  0  0  0\n   13.9412   -2.5723   -1.9087 C   0  0  0  0  0  0  0  0  0  0  0  0\n   13.7947   -1.1061   -3.8226 C   0  0  0  0  0  0  0  0  0  0  0  0\n   13.3653   -1.4760   -2.5484 C   0  0  0  0  0  0  0  0  0  0  0  0\n   18.8155   -4.3780   -4.4145 C   0  0  0  0  0  0  0  0  0  0  0  0\n   19.5740   -3.4536   -5.2779 C   0  0  0  0  0  0  0  0  0  0  0  0\n   20.1559   -2.7115   -5.9837 O   0  0  0  0  0  0  0  0  0  0  0  0\n  3  4  1  0  0  0\n  4  5  1  0  0  0\n  4  6  2  0  0  0\n  5  7  2  0  0  0\n  6  8  1  0  0  0\n  7  9  1  0  0  0\n  8  1  1  0  0  0\n  1  2  2  0  0  0\n  1 10  1  0  0  0\n  2 16  1  0  0  0\n 10 11  2  0  0  0\n 10 12  1  0  0  0\n 16 17  1  0  0  0\n 11 13  1  0  0  0\n 12 14  2  0  0  0\n 17 18  2  0  0  0\n 13 15  2  0  0  0\n  8  9  1  0  0  0\n 14 15  1  0  0  0\nM  CHG 1   9  -1\nM  CHG 1  17  -1\nM  END\n> <minimizedAffinity>\n-6.07599\n\n$$$$\n129817097\n\n\n 18 19  0  0  0  0  0  0  0  0999 V2000\n   17.2848   -2.7996   -5.5919 C   0  0  0  0  0  0  0  0  0  0  0  0\n   18.0778   -2.1182   -6.3519 N   0  0  0  0  0  0  0  0  0  0  0  0\n   13.5814   -1.2549   -2.5139 Cl  0  0  0  0  0  0  0  0  0  0  0  0\n   14.2118   -2.3223   -3.7101 C   0  0  0  0  0  0  0  0  0  0  0  0\n   13.6852   -3.6677   -3.7699 C   0  0  0  0  0  0  0  0  0  0  0  0\n   15.1650   -1.9110   -4.5605 C   0  0  0  0  0  0  0  0  0  0  0  0\n   14.1547   -4.5688   -4.6457 C   0  0  0  0  0  0  0  0  0  0  0  0\n   15.7364   -2.8153   -5.6258 C   0  0  0  0  0  0  0  0  0  0  0  0\n   15.2095   -4.2269   -5.5696 C   0  0  0  0  0  0  0  0  0  0  0  0\n   17.9402   -3.6588   -4.5496 C   0  0  0  0  0  0  0  0  0  0  0  0\n   18.8053   -4.6794   -4.9659 C   0  0  0  0  0  0  0  0  0  0  0  0\n   17.6861   -3.4833   -3.1843 C   0  0  0  0  0  0  0  0  0  0  0  0\n   19.4308   -5.4984   -4.0244 C   0  0  0  0  0  0  0  0  0  0  0  0\n   18.3146   -4.3055   -2.2454 C   0  0  0  0  0  0  0  0  0  0  0  0\n   19.1883   -5.3081   -2.6651 C   0  0  0  0  0  0  0  0  0  0  0  0\n   17.5949   -1.2496   -7.4163 C   0  0  0  0  0  0  0  0  0  0  0  0\n   17.0710   -2.1197   -8.4858 C   0  0  0  0  0  0  0  0  0  0  0  0\n   16.6284   -2.8187   -9.3242 O   0  0  0  0  0  0  0  0  0  0  0  0\n  3  4  1  0  0  0\n  4  5  1  0  0  0\n  4  6  2  0  0  0\n  5  7  2  0  0  0\n  6  8  1  0  0  0\n  7  9  1  0  0  0\n  8  1  1  0  0  0\n  1  2  2  0  0  0\n  1 10  1  0  0  0\n  2 16  1  0  0  0\n 10 11  2  0  0  0\n 10 12  1  0  0  0\n 16 17  1  0  0  0\n 11 13  1  0  0  0\n 12 14  2  0  0  0\n 17 18  2  0  0  0\n 13 15  2  0  0  0\n  8  9  1  0  0  0\n 14 15  1  0  0  0\nM  CHG 1   9  -1\nM  CHG 1  17  -1\nM  END\n> <minimizedAffinity>\n-5.90128\n\n$$$$\n129817097\n\n\n 18 19  0  0  0  0  0  0  0  0999 V2000\n   15.8573   -3.2708   -4.1810 C   0  0  0  0  0  0  0  0  0  0  0  0\n   15.0837   -3.6291   -3.2094 N   0  0  0  0  0  0  0  0  0  0  0  0\n   15.2488   -4.2142   -9.1120 Cl  0  0  0  0  0  0  0  0  0  0  0  0\n   15.6707   -3.1685   -7.8097 C   0  0  0  0  0  0  0  0  0  0  0  0\n   16.6182   -2.1068   -8.0664 C   0  0  0  0  0  0  0  0  0  0  0  0\n   15.1316   -3.3393   -6.5926 C   0  0  0  0  0  0  0  0  0  0  0  0\n   17.0276   -1.2786   -7.0938 C   0  0  0  0  0  0  0  0  0  0  0  0\n   15.4718   -2.4390   -5.4294 C   0  0  0  0  0  0  0  0  0  0  0  0\n   16.5330   -1.4155   -5.7448 C   0  0  0  0  0  0  0  0  0  0  0  0\n   17.2850   -3.7272   -4.0955 C   0  0  0  0  0  0  0  0  0  0  0  0\n   18.0515   -3.3354   -2.9899 C   0  0  0  0  0  0  0  0  0  0  0  0\n   17.8712   -4.5047   -5.1013 C   0  0  0  0  0  0  0  0  0  0  0  0\n   19.3827   -3.7400   -2.8785 C   0  0  0  0  0  0  0  0  0  0  0  0\n   19.2041   -4.9074   -4.9854 C   0  0  0  0  0  0  0  0  0  0  0  0\n   19.9566   -4.5291   -3.8739 C   0  0  0  0  0  0  0  0  0  0  0  0\n   13.6781   -3.2542   -3.1426 C   0  0  0  0  0  0  0  0  0  0  0  0\n   13.4936   -2.4714   -1.9063 C   0  0  0  0  0  0  0  0  0  0  0  0\n   13.3653   -1.8267   -0.9289 O   0  0  0  0  0  0  0  0  0  0  0  0\n  3  4  1  0  0  0\n  4  5  1  0  0  0\n  4  6  2  0  0  0\n  5  7  2  0  0  0\n  6  8  1  0  0  0\n  7  9  1  0  0  0\n  8  1  1  0  0  0\n  1  2  2  0  0  0\n  1 10  1  0  0  0\n  2 16  1  0  0  0\n 10 11  2  0  0  0\n 10 12  1  0  0  0\n 16 17  1  0  0  0\n 11 13  1  0  0  0\n 12 14  2  0  0  0\n 17 18  2  0  0  0\n 13 15  2  0  0  0\n  8  9  1  0  0  0\n 14 15  1  0  0  0\nM  CHG 1   9  -1\nM  CHG 1  17  -1\nM  END\n> <minimizedAffinity>\n-5.88681\n\n$$$$\n129817097\n\n\n 18 19  0  0  0  0  0  0  0  0999 V2000\n   18.6021   -3.5993   -4.8092 C   0  0  0  0  0  0  0  0  0  0  0  0\n   19.7265   -3.1716   -5.2820 N   0  0  0  0  0  0  0  0  0  0  0  0\n   14.3564   -1.8862   -2.6610 Cl  0  0  0  0  0  0  0  0  0  0  0  0\n   15.1844   -2.8017   -3.8625 C   0  0  0  0  0  0  0  0  0  0  0  0\n   14.5059   -3.9398   -4.4415 C   0  0  0  0  0  0  0  0  0  0  0  0\n   16.4249   -2.4631   -4.2469 C   0  0  0  0  0  0  0  0  0  0  0  0\n   15.1006   -4.7255   -5.3516 C   0  0  0  0  0  0  0  0  0  0  0  0\n   17.1789   -3.2370   -5.3014 C   0  0  0  0  0  0  0  0  0  0  0  0\n   16.4494   -4.4618   -5.7923 C   0  0  0  0  0  0  0  0  0  0  0  0\n   18.6875   -4.5394   -3.6418 C   0  0  0  0  0  0  0  0  0  0  0  0\n   19.4640   -5.6990   -3.7673 C   0  0  0  0  0  0  0  0  0  0  0  0\n   17.9914   -4.3002   -2.4511 C   0  0  0  0  0  0  0  0  0  0  0  0\n   19.5649   -6.5961   -2.7027 C   0  0  0  0  0  0  0  0  0  0  0  0\n   18.0954   -5.2011   -1.3880 C   0  0  0  0  0  0  0  0  0  0  0  0\n   18.8841   -6.3444   -1.5128 C   0  0  0  0  0  0  0  0  0  0  0  0\n   19.8092   -2.2657   -6.4191 C   0  0  0  0  0  0  0  0  0  0  0  0\n   20.9060   -2.7455   -7.2806 C   0  0  0  0  0  0  0  0  0  0  0  0\n   21.7659   -3.1520   -7.9754 O   0  0  0  0  0  0  0  0  0  0  0  0\n  3  4  1  0  0  0\n  4  5  1  0  0  0\n  4  6  2  0  0  0\n  5  7  2  0  0  0\n  6  8  1  0  0  0\n  7  9  1  0  0  0\n  8  1  1  0  0  0\n  1  2  2  0  0  0\n  1 10  1  0  0  0\n  2 16  1  0  0  0\n 10 11  2  0  0  0\n 10 12  1  0  0  0\n 16 17  1  0  0  0\n 11 13  1  0  0  0\n 12 14  2  0  0  0\n 17 18  2  0  0  0\n 13 15  2  0  0  0\n  8  9  1  0  0  0\n 14 15  1  0  0  0\nM  CHG 1   9  -1\nM  CHG 1  17  -1\nM  END\n> <minimizedAffinity>\n-5.71780\n\n$$$$\n129817097\n\n\n 18 19  0  0  0  0  0  0  0  0999 V2000\n   15.6931   -2.6765   -6.1252 C   0  0  0  0  0  0  0  0  0  0  0  0\n   14.7620   -2.1371   -6.8413 N   0  0  0  0  0  0  0  0  0  0  0  0\n   19.3495   -5.5600   -4.1526 Cl  0  0  0  0  0  0  0  0  0  0  0  0\n   18.8083   -4.3072   -5.2038 C   0  0  0  0  0  0  0  0  0  0  0  0\n   19.7379   -3.2536   -5.5452 C   0  0  0  0  0  0  0  0  0  0  0  0\n   17.5573   -4.3142   -5.6897 C   0  0  0  0  0  0  0  0  0  0  0  0\n   19.3778   -2.2224   -6.3239 C   0  0  0  0  0  0  0  0  0  0  0  0\n   17.0498   -3.2377   -6.6185 C   0  0  0  0  0  0  0  0  0  0  0  0\n   18.0397   -2.1255   -6.8560 C   0  0  0  0  0  0  0  0  0  0  0  0\n   15.4195   -2.7849   -4.6530 C   0  0  0  0  0  0  0  0  0  0  0  0\n   14.2858   -3.4914   -4.2297 C   0  0  0  0  0  0  0  0  0  0  0  0\n   16.2484   -2.1767   -3.7030 C   0  0  0  0  0  0  0  0  0  0  0  0\n   13.9997   -3.6111   -2.8688 C   0  0  0  0  0  0  0  0  0  0  0  0\n   15.9580   -2.2992   -2.3417 C   0  0  0  0  0  0  0  0  0  0  0  0\n   14.8381   -3.0187   -1.9259 C   0  0  0  0  0  0  0  0  0  0  0  0\n   14.8837   -1.9502   -8.2804 C   0  0  0  0  0  0  0  0  0  0  0  0\n   15.0482   -0.5043   -8.5203 C   0  0  0  0  0  0  0  0  0  0  0  0\n   15.1983    0.6517   -8.6896 O   0  0  0  0  0  0  0  0  0  0  0  0\n  3  4  1  0  0  0\n  4  5  1  0  0  0\n  4  6  2  0  0  0\n  5  7  2  0  0  0\n  6  8  1  0  0  0\n  7  9  1  0  0  0\n  8  1  1  0  0  0\n  1  2  2  0  0  0\n  1 10  1  0  0  0\n  2 16  1  0  0  0\n 10 11  2  0  0  0\n 10 12  1  0  0  0\n 16 17  1  0  0  0\n 11 13  1  0  0  0\n 12 14  2  0  0  0\n 17 18  2  0  0  0\n 13 15  2  0  0  0\n  8  9  1  0  0  0\n 14 15  1  0  0  0\nM  CHG 1   9  -1\nM  CHG 1  17  -1\nM  END\n> <minimizedAffinity>\n-5.45957\n\n$$$$\n13925\n\n\n 18 19  0  0  0  0  0  0  0  0999 V2000\n   20.4250   -7.1183   -2.7165 Cl  0  0  0  0  0  0  0  0  0  0  0  0\n   19.4278   -5.7295   -2.8959 C   0  0  0  0  0  0  0  0  0  0  0  0\n   19.4882   -4.9772   -4.0598 C   0  0  0  0  0  0  0  0  0  0  0  0\n   18.5533   -5.3689   -1.8780 C   0  0  0  0  0  0  0  0  0  0  0  0\n   18.6581   -3.8540   -4.2018 C   0  0  0  0  0  0  0  0  0  0  0  0\n   17.7449   -4.2333   -2.0179 C   0  0  0  0  0  0  0  0  0  0  0  0\n   17.7910   -3.4298   -3.1687 C   0  0  0  0  0  0  0  0  0  0  0  0\n   16.9995   -2.3003   -3.2980 N   0  0  0  0  0  0  0  0  0  0  0  0\n   15.5619   -2.3194   -3.4463 C   0  0  0  0  0  0  0  0  0  0  0  0\n   17.4188   -1.3914   -3.1275 H   0  0  0  0  0  0  0  0  0  0  0  0\n   18.7673   -3.1346   -5.4896 C   0  0  0  0  0  0  0  0  0  0  0  0\n   19.7912   -2.4933   -5.7117 O   0  0  0  0  0  0  0  0  0  0  0  0\n   17.6885   -3.2058   -6.5153 C   0  0  0  0  0  0  0  0  0  0  0  0\n   17.6702   -2.2352   -7.5259 C   0  0  0  0  0  0  0  0  0  0  0  0\n   16.7177   -4.2152   -6.5142 C   0  0  0  0  0  0  0  0  0  0  0  0\n   16.6831   -2.2627   -8.5126 C   0  0  0  0  0  0  0  0  0  0  0  0\n   15.7308   -4.2391   -7.5031 C   0  0  0  0  0  0  0  0  0  0  0  0\n   15.7130   -3.2633   -8.4991 C   0  0  0  0  0  0  0  0  0  0  0  0\n  1  2  1  0  0  0\n  2  3  2  0  0  0\n  2  4  1  0  0  0\n  3  5  1  0  0  0\n  4  6  2  0  0  0\n  5  7  2  0  0  0\n  5 11  1  0  0  0\n  7  8  1  0  0  0\n 11 12  2  0  0  0\n 11 13  1  0  0  0\n  8  9  1  0  0  0\n 13 14  2  0  0  0\n 13 15  1  0  0  0\n 14 16  1  0  0  0\n 15 17  2  0  0  0\n 16 18  2  0  0  0\n  6  7  1  0  0  0\n 17 18  1  0  0  0\n  8 10  1  0  0  0\nM  END\n> <minimizedAffinity>\n-6.86788\n\n$$$$\n13925\n\n\n 18 19  0  0  0  0  0  0  0  0999 V2000\n   14.2073   -1.9331   -2.4248 Cl  0  0  0  0  0  0  0  0  0  0  0  0\n   15.7260   -2.6654   -2.7606 C   0  0  0  0  0  0  0  0  0  0  0  0\n   16.2731   -2.5773   -4.0323 C   0  0  0  0  0  0  0  0  0  0  0  0\n   16.4093   -3.3356   -1.7531 C   0  0  0  0  0  0  0  0  0  0  0  0\n   17.5211   -3.1659   -4.2911 C   0  0  0  0  0  0  0  0  0  0  0  0\n   17.6434   -3.9401   -2.0255 C   0  0  0  0  0  0  0  0  0  0  0  0\n   18.2225   -3.8958   -3.3041 C   0  0  0  0  0  0  0  0  0  0  0  0\n   19.4369   -4.5059   -3.5728 N   0  0  0  0  0  0  0  0  0  0  0  0\n   19.7362   -5.8929   -3.2975 C   0  0  0  0  0  0  0  0  0  0  0  0\n   20.1175   -4.0055   -4.1362 H   0  0  0  0  0  0  0  0  0  0  0  0\n   18.0399   -2.9911   -5.6652 C   0  0  0  0  0  0  0  0  0  0  0  0\n   19.2357   -2.7488   -5.8080 O   0  0  0  0  0  0  0  0  0  0  0  0\n   17.1560   -3.1379   -6.8559 C   0  0  0  0  0  0  0  0  0  0  0  0\n   17.2429   -2.1731   -7.8685 C   0  0  0  0  0  0  0  0  0  0  0  0\n   16.2685   -4.2112   -7.0037 C   0  0  0  0  0  0  0  0  0  0  0  0\n   16.4396   -2.2701   -9.0061 C   0  0  0  0  0  0  0  0  0  0  0  0\n   15.4656   -4.3044   -8.1434 C   0  0  0  0  0  0  0  0  0  0  0  0\n   15.5501   -3.3343   -9.1415 C   0  0  0  0  0  0  0  0  0  0  0  0\n  1  2  1  0  0  0\n  2  3  2  0  0  0\n  2  4  1  0  0  0\n  3  5  1  0  0  0\n  4  6  2  0  0  0\n  5  7  2  0  0  0\n  5 11  1  0  0  0\n  7  8  1  0  0  0\n 11 12  2  0  0  0\n 11 13  1  0  0  0\n  8  9  1  0  0  0\n 13 14  2  0  0  0\n 13 15  1  0  0  0\n 14 16  1  0  0  0\n 15 17  2  0  0  0\n 16 18  2  0  0  0\n  6  7  1  0  0  0\n 17 18  1  0  0  0\n  8 10  1  0  0  0\nM  END\n> <minimizedAffinity>\n-6.62162\n\n$$$$\n13925\n\n\n 18 19  0  0  0  0  0  0  0  0999 V2000\n   18.4939   -1.7943   -7.6205 Cl  0  0  0  0  0  0  0  0  0  0  0  0\n   17.5180   -2.3560   -6.3215 C   0  0  0  0  0  0  0  0  0  0  0  0\n   18.1031   -2.6981   -5.1111 C   0  0  0  0  0  0  0  0  0  0  0  0\n   16.1414   -2.4556   -6.4825 C   0  0  0  0  0  0  0  0  0  0  0  0\n   17.2947   -3.1409   -4.0523 C   0  0  0  0  0  0  0  0  0  0  0  0\n   15.3441   -2.9202   -5.4284 C   0  0  0  0  0  0  0  0  0  0  0  0\n   15.8971   -3.2999   -4.1946 C   0  0  0  0  0  0  0  0  0  0  0  0\n   15.1070   -3.7712   -3.1589 N   0  0  0  0  0  0  0  0  0  0  0  0\n   14.1886   -2.9590   -2.3935 C   0  0  0  0  0  0  0  0  0  0  0  0\n   15.0424   -4.7743   -3.0151 H   0  0  0  0  0  0  0  0  0  0  0  0\n   18.0027   -3.4498   -2.7908 C   0  0  0  0  0  0  0  0  0  0  0  0\n   17.9923   -2.6066   -1.8975 O   0  0  0  0  0  0  0  0  0  0  0  0\n   18.6838   -4.7584   -2.5803 C   0  0  0  0  0  0  0  0  0  0  0  0\n   18.2670   -5.5570   -1.5068 C   0  0  0  0  0  0  0  0  0  0  0  0\n   19.6994   -5.2204   -3.4267 C   0  0  0  0  0  0  0  0  0  0  0  0\n   18.8704   -6.7937   -1.2717 C   0  0  0  0  0  0  0  0  0  0  0  0\n   20.3015   -6.4584   -3.1877 C   0  0  0  0  0  0  0  0  0  0  0  0\n   19.8886   -7.2423   -2.1109 C   0  0  0  0  0  0  0  0  0  0  0  0\n  1  2  1  0  0  0\n  2  3  2  0  0  0\n  2  4  1  0  0  0\n  3  5  1  0  0  0\n  4  6  2  0  0  0\n  5  7  2  0  0  0\n  5 11  1  0  0  0\n  7  8  1  0  0  0\n 11 12  2  0  0  0\n 11 13  1  0  0  0\n  8  9  1  0  0  0\n 13 14  2  0  0  0\n 13 15  1  0  0  0\n 14 16  1  0  0  0\n 15 17  2  0  0  0\n 16 18  2  0  0  0\n  6  7  1  0  0  0\n 17 18  1  0  0  0\n  8 10  1  0  0  0\nM  END\n> <minimizedAffinity>\n-6.55908\n\n$$$$\n13925\n\n\n 18 19  0  0  0  0  0  0  0  0999 V2000\n   20.2403   -5.1872   -3.4026 Cl  0  0  0  0  0  0  0  0  0  0  0  0\n   18.6896   -4.4590   -3.2592 C   0  0  0  0  0  0  0  0  0  0  0  0\n   17.7750   -4.5634   -4.2970 C   0  0  0  0  0  0  0  0  0  0  0  0\n   18.3502   -3.7759   -2.0977 C   0  0  0  0  0  0  0  0  0  0  0  0\n   16.5061   -3.9780   -4.1627 C   0  0  0  0  0  0  0  0  0  0  0  0\n   17.0902   -3.1748   -1.9808 C   0  0  0  0  0  0  0  0  0  0  0  0\n   16.1429   -3.2354   -3.0158 C   0  0  0  0  0  0  0  0  0  0  0  0\n   14.9027   -2.6287   -2.9017 N   0  0  0  0  0  0  0  0  0  0  0  0\n   13.8334   -3.1027   -2.0526 C   0  0  0  0  0  0  0  0  0  0  0  0\n   14.7717   -1.7102   -3.3141 H   0  0  0  0  0  0  0  0  0  0  0  0\n   15.5870   -4.1705   -5.3056 C   0  0  0  0  0  0  0  0  0  0  0  0\n   14.5431   -4.7888   -5.1136 O   0  0  0  0  0  0  0  0  0  0  0  0\n   15.8879   -3.6042   -6.6508 C   0  0  0  0  0  0  0  0  0  0  0  0\n   15.4030   -4.2810   -7.7780 C   0  0  0  0  0  0  0  0  0  0  0  0\n   16.6115   -2.4172   -6.8204 C   0  0  0  0  0  0  0  0  0  0  0  0\n   15.6538   -3.7872   -9.0594 C   0  0  0  0  0  0  0  0  0  0  0  0\n   16.8612   -1.9264   -8.1047 C   0  0  0  0  0  0  0  0  0  0  0  0\n   16.3845   -2.6116   -9.2217 C   0  0  0  0  0  0  0  0  0  0  0  0\n  1  2  1  0  0  0\n  2  3  2  0  0  0\n  2  4  1  0  0  0\n  3  5  1  0  0  0\n  4  6  2  0  0  0\n  5  7  2  0  0  0\n  5 11  1  0  0  0\n  7  8  1  0  0  0\n 11 12  2  0  0  0\n 11 13  1  0  0  0\n  8  9  1  0  0  0\n 13 14  2  0  0  0\n 13 15  1  0  0  0\n 14 16  1  0  0  0\n 15 17  2  0  0  0\n 16 18  2  0  0  0\n  6  7  1  0  0  0\n 17 18  1  0  0  0\n  8 10  1  0  0  0\nM  END\n> <minimizedAffinity>\n-6.41370\n\n$$$$\n13925\n\n\n 18 19  0  0  0  0  0  0  0  0999 V2000\n   17.1731   -0.0843   -8.6681 Cl  0  0  0  0  0  0  0  0  0  0  0  0\n   16.6430   -1.5828   -8.0128 C   0  0  0  0  0  0  0  0  0  0  0  0\n   16.7179   -1.8081   -6.6461 C   0  0  0  0  0  0  0  0  0  0  0  0\n   16.1291   -2.5628   -8.8533 C   0  0  0  0  0  0  0  0  0  0  0  0\n   16.2679   -3.0295   -6.1204 C   0  0  0  0  0  0  0  0  0  0  0  0\n   15.7034   -3.7878   -8.3235 C   0  0  0  0  0  0  0  0  0  0  0  0\n   15.7834   -4.0672   -6.9495 C   0  0  0  0  0  0  0  0  0  0  0  0\n   15.3736   -5.2847   -6.4309 N   0  0  0  0  0  0  0  0  0  0  0  0\n   14.0211   -5.5873   -6.0205 C   0  0  0  0  0  0  0  0  0  0  0  0\n   16.0130   -6.0720   -6.4768 H   0  0  0  0  0  0  0  0  0  0  0  0\n   16.3550   -3.1658   -4.6501 C   0  0  0  0  0  0  0  0  0  0  0  0\n   15.4959   -2.6177   -3.9641 O   0  0  0  0  0  0  0  0  0  0  0  0\n   17.4288   -3.9731   -4.0051 C   0  0  0  0  0  0  0  0  0  0  0  0\n   17.3939   -4.1301   -2.6130 C   0  0  0  0  0  0  0  0  0  0  0  0\n   18.4465   -4.5926   -4.7412 C   0  0  0  0  0  0  0  0  0  0  0  0\n   18.3743   -4.8819   -1.9631 C   0  0  0  0  0  0  0  0  0  0  0  0\n   19.4265   -5.3436   -4.0871 C   0  0  0  0  0  0  0  0  0  0  0  0\n   19.3909   -5.4861   -2.7004 C   0  0  0  0  0  0  0  0  0  0  0  0\n  1  2  1  0  0  0\n  2  3  2  0  0  0\n  2  4  1  0  0  0\n  3  5  1  0  0  0\n  4  6  2  0  0  0\n  5  7  2  0  0  0\n  5 11  1  0  0  0\n  7  8  1  0  0  0\n 11 12  2  0  0  0\n 11 13  1  0  0  0\n  8  9  1  0  0  0\n 13 14  2  0  0  0\n 13 15  1  0  0  0\n 14 16  1  0  0  0\n 15 17  2  0  0  0\n 16 18  2  0  0  0\n  6  7  1  0  0  0\n 17 18  1  0  0  0\n  8 10  1  0  0  0\nM  END\n> <minimizedAffinity>\n-6.40926\n\n$$$$\n13925\n\n\n 18 19  0  0  0  0  0  0  0  0999 V2000\n   20.0852   -6.2206   -3.3145 Cl  0  0  0  0  0  0  0  0  0  0  0  0\n   18.9469   -4.9353   -3.4020 C   0  0  0  0  0  0  0  0  0  0  0  0\n   18.7014   -4.3066   -4.6140 C   0  0  0  0  0  0  0  0  0  0  0  0\n   18.2651   -4.5353   -2.2591 C   0  0  0  0  0  0  0  0  0  0  0  0\n   17.7583   -3.2686   -4.6766 C   0  0  0  0  0  0  0  0  0  0  0  0\n   17.3425   -3.4832   -2.3254 C   0  0  0  0  0  0  0  0  0  0  0  0\n   17.0809   -2.8034   -3.5261 C   0  0  0  0  0  0  0  0  0  0  0  0\n   16.1774   -1.7549   -3.5852 N   0  0  0  0  0  0  0  0  0  0  0  0\n   14.7513   -1.8900   -3.3927 C   0  0  0  0  0  0  0  0  0  0  0  0\n   16.5364   -0.8056   -3.6124 H   0  0  0  0  0  0  0  0  0  0  0  0\n   17.5386   -2.6820   -6.0166 C   0  0  0  0  0  0  0  0  0  0  0  0\n   18.2414   -1.7341   -6.3581 O   0  0  0  0  0  0  0  0  0  0  0  0\n   16.5209   -3.2378   -6.9527 C   0  0  0  0  0  0  0  0  0  0  0  0\n   15.4949   -4.0307   -6.4211 C   0  0  0  0  0  0  0  0  0  0  0  0\n   16.5443   -2.9756   -8.3282 C   0  0  0  0  0  0  0  0  0  0  0  0\n   14.5149   -4.5695   -7.2565 C   0  0  0  0  0  0  0  0  0  0  0  0\n   15.5620   -3.5174   -9.1614 C   0  0  0  0  0  0  0  0  0  0  0  0\n   14.5506   -4.3143   -8.6262 C   0  0  0  0  0  0  0  0  0  0  0  0\n  1  2  1  0  0  0\n  2  3  2  0  0  0\n  2  4  1  0  0  0\n  3  5  1  0  0  0\n  4  6  2  0  0  0\n  5  7  2  0  0  0\n  5 11  1  0  0  0\n  7  8  1  0  0  0\n 11 12  2  0  0  0\n 11 13  1  0  0  0\n  8  9  1  0  0  0\n 13 14  2  0  0  0\n 13 15  1  0  0  0\n 14 16  1  0  0  0\n 15 17  2  0  0  0\n 16 18  2  0  0  0\n  6  7  1  0  0  0\n 17 18  1  0  0  0\n  8 10  1  0  0  0\nM  END\n> <minimizedAffinity>\n-6.28856\n\n$$$$\n13925\n\n\n 18 19  0  0  0  0  0  0  0  0999 V2000\n   13.8542   -2.2637   -1.5149 Cl  0  0  0  0  0  0  0  0  0  0  0  0\n   15.1022   -3.0146   -2.4282 C   0  0  0  0  0  0  0  0  0  0  0  0\n   14.8384   -3.4904   -3.7042 C   0  0  0  0  0  0  0  0  0  0  0  0\n   16.3780   -3.1334   -1.8904 C   0  0  0  0  0  0  0  0  0  0  0  0\n   15.8690   -4.0878   -4.4469 C   0  0  0  0  0  0  0  0  0  0  0  0\n   17.3953   -3.7516   -2.6290 C   0  0  0  0  0  0  0  0  0  0  0  0\n   17.1663   -4.2686   -3.9145 C   0  0  0  0  0  0  0  0  0  0  0  0\n   18.1714   -4.8908   -4.6368 N   0  0  0  0  0  0  0  0  0  0  0  0\n   19.4583   -4.3002   -4.9269 C   0  0  0  0  0  0  0  0  0  0  0  0\n   18.0745   -5.8783   -4.8522 H   0  0  0  0  0  0  0  0  0  0  0  0\n   15.5026   -4.5336   -5.8090 C   0  0  0  0  0  0  0  0  0  0  0  0\n   14.8688   -5.5792   -5.9270 O   0  0  0  0  0  0  0  0  0  0  0  0\n   15.8538   -3.7283   -7.0127 C   0  0  0  0  0  0  0  0  0  0  0  0\n   15.3126   -4.1117   -8.2472 C   0  0  0  0  0  0  0  0  0  0  0  0\n   16.6793   -2.5989   -6.9451 C   0  0  0  0  0  0  0  0  0  0  0  0\n   15.6075   -3.3859   -9.4026 C   0  0  0  0  0  0  0  0  0  0  0  0\n   16.9728   -1.8754   -8.1040 C   0  0  0  0  0  0  0  0  0  0  0  0\n   16.4391   -2.2698   -9.3304 C   0  0  0  0  0  0  0  0  0  0  0  0\n  1  2  1  0  0  0\n  2  3  2  0  0  0\n  2  4  1  0  0  0\n  3  5  1  0  0  0\n  4  6  2  0  0  0\n  5  7  2  0  0  0\n  5 11  1  0  0  0\n  7  8  1  0  0  0\n 11 12  2  0  0  0\n 11 13  1  0  0  0\n  8  9  1  0  0  0\n 13 14  2  0  0  0\n 13 15  1  0  0  0\n 14 16  1  0  0  0\n 15 17  2  0  0  0\n 16 18  2  0  0  0\n  6  7  1  0  0  0\n 17 18  1  0  0  0\n  8 10  1  0  0  0\nM  END\n> <minimizedAffinity>\n-6.27738\n\n$$$$\n13925\n\n\n 18 19  0  0  0  0  0  0  0  0999 V2000\n   17.1209    0.6740   -9.0577 Cl  0  0  0  0  0  0  0  0  0  0  0  0\n   16.8316   -0.8978   -8.4243 C   0  0  0  0  0  0  0  0  0  0  0  0\n   17.5185   -1.3303   -7.2994 C   0  0  0  0  0  0  0  0  0  0  0  0\n   15.9004   -1.7295   -9.0344 C   0  0  0  0  0  0  0  0  0  0  0  0\n   17.2630   -2.6099   -6.7819 C   0  0  0  0  0  0  0  0  0  0  0  0\n   15.6679   -3.0138   -8.5254 C   0  0  0  0  0  0  0  0  0  0  0  0\n   16.3580   -3.5008   -7.4034 C   0  0  0  0  0  0  0  0  0  0  0  0\n   16.1348   -4.7761   -6.9106 N   0  0  0  0  0  0  0  0  0  0  0  0\n   14.9150   -5.2029   -6.2633 C   0  0  0  0  0  0  0  0  0  0  0  0\n   16.7962   -5.5099   -7.1452 H   0  0  0  0  0  0  0  0  0  0  0  0\n   18.0170   -2.9703   -5.5614 C   0  0  0  0  0  0  0  0  0  0  0  0\n   19.2277   -3.1536   -5.6596 O   0  0  0  0  0  0  0  0  0  0  0  0\n   17.3466   -3.0763   -4.2347 C   0  0  0  0  0  0  0  0  0  0  0  0\n   17.9999   -3.7843   -3.2170 C   0  0  0  0  0  0  0  0  0  0  0  0\n   16.1091   -2.4766   -3.9694 C   0  0  0  0  0  0  0  0  0  0  0  0\n   17.4151   -3.9067   -1.9554 C   0  0  0  0  0  0  0  0  0  0  0  0\n   15.5266   -2.6020   -2.7055 C   0  0  0  0  0  0  0  0  0  0  0  0\n   16.1780   -3.3174   -1.7014 C   0  0  0  0  0  0  0  0  0  0  0  0\n  1  2  1  0  0  0\n  2  3  2  0  0  0\n  2  4  1  0  0  0\n  3  5  1  0  0  0\n  4  6  2  0  0  0\n  5  7  2  0  0  0\n  5 11  1  0  0  0\n  7  8  1  0  0  0\n 11 12  2  0  0  0\n 11 13  1  0  0  0\n  8  9  1  0  0  0\n 13 14  2  0  0  0\n 13 15  1  0  0  0\n 14 16  1  0  0  0\n 15 17  2  0  0  0\n 16 18  2  0  0  0\n  6  7  1  0  0  0\n 17 18  1  0  0  0\n  8 10  1  0  0  0\nM  END\n> <minimizedAffinity>\n-6.24492\n\n$$$$\n2997\n\n\n 20 22  0  0  0  0  0  0  0  0999 V2000\n   13.6981   -1.0721   -2.9773 Cl  0  0  0  0  0  0  0  0  0  0  0  0\n   15.0250   -2.1652   -3.0253 C   0  0  0  0  0  0  0  0  0  0  0  0\n   15.8069   -2.2539   -4.1746 C   0  0  0  0  0  0  0  0  0  0  0  0\n   15.3037   -2.9621   -1.9188 C   0  0  0  0  0  0  0  0  0  0  0  0\n   16.8846   -3.1535   -4.2239 C   0  0  0  0  0  0  0  0  0  0  0  0\n   16.3881   -3.8411   -1.9533 C   0  0  0  0  0  0  0  0  0  0  0  0\n   17.6433   -3.2825   -5.5047 C   0  0  0  0  0  0  0  0  0  0  0  0\n   17.1987   -3.9245   -3.0927 C   0  0  0  0  0  0  0  0  0  0  0  0\n   18.9302   -3.3442   -5.5917 N   0  0  0  0  0  0  0  0  0  0  0  0\n   18.2898   -4.8003   -3.0249 N   0  0  0  0  0  0  0  0  0  0  0  0\n   19.7386   -3.3177   -4.3739 C   0  0  0  0  0  0  0  0  0  0  0  0\n   19.5263   -4.5995   -3.5843 C   0  0  0  0  0  0  0  0  0  0  0  0\n   20.4229   -5.4193   -3.3831 O   0  0  0  0  0  0  0  0  0  0  0  0\n   18.2364   -5.6229   -2.4369 H   0  0  0  0  0  0  0  0  0  0  0  0\n   16.8729   -3.3477   -6.7881 C   0  0  0  0  0  0  0  0  0  0  0  0\n   17.1215   -2.3897   -7.7783 C   0  0  0  0  0  0  0  0  0  0  0  0\n   15.9377   -4.3636   -7.0236 C   0  0  0  0  0  0  0  0  0  0  0  0\n   16.4173   -2.4288   -8.9827 C   0  0  0  0  0  0  0  0  0  0  0  0\n   15.2354   -4.3984   -8.2301 C   0  0  0  0  0  0  0  0  0  0  0  0\n   15.4723   -3.4297   -9.2057 C   0  0  0  0  0  0  0  0  0  0  0  0\n  1  2  1  0  0  0\n  2  3  2  0  0  0\n  2  4  1  0  0  0\n  3  5  1  0  0  0\n  4  6  2  0  0  0\n  5  7  1  0  0  0\n  5  8  2  0  0  0\n  7  9  2  0  0  0\n  7 15  1  0  0  0\n  8 10  1  0  0  0\n  9 11  1  0  0  0\n 15 16  2  0  0  0\n 15 17  1  0  0  0\n 10 12  1  0  0  0\n 16 18  1  0  0  0\n 17 19  2  0  0  0\n 12 13  2  0  0  0\n 18 20  2  0  0  0\n  6  8  1  0  0  0\n 11 12  1  0  0  0\n 19 20  1  0  0  0\n 10 14  1  0  0  0\nM  END\n> <minimizedAffinity>\n-7.53299\n\n$$$$\n2997\n\n\n 20 22  0  0  0  0  0  0  0  0999 V2000\n   16.2266   -3.3652   -1.5983 Cl  0  0  0  0  0  0  0  0  0  0  0  0\n   17.3886   -3.5097   -2.8579 C   0  0  0  0  0  0  0  0  0  0  0  0\n   17.1044   -3.0006   -4.1229 C   0  0  0  0  0  0  0  0  0  0  0  0\n   18.6024   -4.1433   -2.6084 C   0  0  0  0  0  0  0  0  0  0  0  0\n   18.0448   -3.1262   -5.1587 C   0  0  0  0  0  0  0  0  0  0  0  0\n   19.5507   -4.2502   -3.6277 C   0  0  0  0  0  0  0  0  0  0  0  0\n   17.6668   -2.6468   -6.5225 C   0  0  0  0  0  0  0  0  0  0  0  0\n   19.2899   -3.7219   -4.8986 C   0  0  0  0  0  0  0  0  0  0  0  0\n   18.4395   -1.9647   -7.3004 N   0  0  0  0  0  0  0  0  0  0  0  0\n   20.3134   -3.8351   -5.8483 N   0  0  0  0  0  0  0  0  0  0  0  0\n   19.7976   -1.6411   -6.8667 C   0  0  0  0  0  0  0  0  0  0  0  0\n   20.6366   -2.9076   -6.8061 C   0  0  0  0  0  0  0  0  0  0  0  0\n   21.6124   -3.1007   -7.5319 O   0  0  0  0  0  0  0  0  0  0  0  0\n   20.9613   -4.6116   -5.7968 H   0  0  0  0  0  0  0  0  0  0  0  0\n   16.2992   -2.9725   -7.0408 C   0  0  0  0  0  0  0  0  0  0  0  0\n   15.3444   -1.9520   -7.1247 C   0  0  0  0  0  0  0  0  0  0  0  0\n   15.9734   -4.2656   -7.4694 C   0  0  0  0  0  0  0  0  0  0  0  0\n   14.0635   -2.2296   -7.6043 C   0  0  0  0  0  0  0  0  0  0  0  0\n   14.6903   -4.5385   -7.9482 C   0  0  0  0  0  0  0  0  0  0  0  0\n   13.7363   -3.5227   -8.0111 C   0  0  0  0  0  0  0  0  0  0  0  0\n  1  2  1  0  0  0\n  2  3  2  0  0  0\n  2  4  1  0  0  0\n  3  5  1  0  0  0\n  4  6  2  0  0  0\n  5  7  1  0  0  0\n  5  8  2  0  0  0\n  7  9  2  0  0  0\n  7 15  1  0  0  0\n  8 10  1  0  0  0\n  9 11  1  0  0  0\n 15 16  2  0  0  0\n 15 17  1  0  0  0\n 10 12  1  0  0  0\n 16 18  1  0  0  0\n 17 19  2  0  0  0\n 12 13  2  0  0  0\n 18 20  2  0  0  0\n  6  8  1  0  0  0\n 11 12  1  0  0  0\n 19 20  1  0  0  0\n 10 14  1  0  0  0\nM  END\n> <minimizedAffinity>\n-7.07474\n\n$$$$\n2997\n\n\n 20 22  0  0  0  0  0  0  0  0999 V2000\n   20.0329   -5.6977   -4.1521 Cl  0  0  0  0  0  0  0  0  0  0  0  0\n   18.7203   -4.7004   -3.6620 C   0  0  0  0  0  0  0  0  0  0  0  0\n   17.6341   -4.5181   -4.5148 C   0  0  0  0  0  0  0  0  0  0  0  0\n   18.7555   -4.0734   -2.4200 C   0  0  0  0  0  0  0  0  0  0  0  0\n   16.5646   -3.6952   -4.1248 C   0  0  0  0  0  0  0  0  0  0  0  0\n   17.6845   -3.2732   -2.0170 C   0  0  0  0  0  0  0  0  0  0  0  0\n   15.4611   -3.4545   -5.1030 C   0  0  0  0  0  0  0  0  0  0  0  0\n   16.5739   -3.0994   -2.8530 C   0  0  0  0  0  0  0  0  0  0  0  0\n   14.2038   -3.4699   -4.8087 N   0  0  0  0  0  0  0  0  0  0  0  0\n   15.5265   -2.3159   -2.3516 N   0  0  0  0  0  0  0  0  0  0  0  0\n   13.7882   -3.7080   -3.4275 C   0  0  0  0  0  0  0  0  0  0  0  0\n   14.1865   -2.5268   -2.5568 C   0  0  0  0  0  0  0  0  0  0  0  0\n   13.3657   -1.8028   -1.9926 O   0  0  0  0  0  0  0  0  0  0  0  0\n   15.7268   -1.5741   -1.6921 H   0  0  0  0  0  0  0  0  0  0  0  0\n   15.8200   -3.1724   -6.5301 C   0  0  0  0  0  0  0  0  0  0  0  0\n   15.3570   -4.0361   -7.5299 C   0  0  0  0  0  0  0  0  0  0  0  0\n   16.5794   -2.0485   -6.8800 C   0  0  0  0  0  0  0  0  0  0  0  0\n   15.6774   -3.7951   -8.8667 C   0  0  0  0  0  0  0  0  0  0  0  0\n   16.8976   -1.8117   -8.2189 C   0  0  0  0  0  0  0  0  0  0  0  0\n   16.4507   -2.6864   -9.2094 C   0  0  0  0  0  0  0  0  0  0  0  0\n  1  2  1  0  0  0\n  2  3  2  0  0  0\n  2  4  1  0  0  0\n  3  5  1  0  0  0\n  4  6  2  0  0  0\n  5  7  1  0  0  0\n  5  8  2  0  0  0\n  7  9  2  0  0  0\n  7 15  1  0  0  0\n  8 10  1  0  0  0\n  9 11  1  0  0  0\n 15 16  2  0  0  0\n 15 17  1  0  0  0\n 10 12  1  0  0  0\n 16 18  1  0  0  0\n 17 19  2  0  0  0\n 12 13  2  0  0  0\n 18 20  2  0  0  0\n  6  8  1  0  0  0\n 11 12  1  0  0  0\n 19 20  1  0  0  0\n 10 14  1  0  0  0\nM  END\n> <minimizedAffinity>\n-6.81567\n\n$$$$\n2997\n\n\n 20 22  0  0  0  0  0  0  0  0999 V2000\n   17.5086   -0.1770   -8.1402 Cl  0  0  0  0  0  0  0  0  0  0  0  0\n   16.7559   -1.6719   -7.7446 C   0  0  0  0  0  0  0  0  0  0  0  0\n   16.5811   -2.0264   -6.4090 C   0  0  0  0  0  0  0  0  0  0  0  0\n   16.3347   -2.5235   -8.7617 C   0  0  0  0  0  0  0  0  0  0  0  0\n   15.9778   -3.2514   -6.0800 C   0  0  0  0  0  0  0  0  0  0  0  0\n   15.7129   -3.7319   -8.4408 C   0  0  0  0  0  0  0  0  0  0  0  0\n   15.8892   -3.6343   -4.6383 C   0  0  0  0  0  0  0  0  0  0  0  0\n   15.5079   -4.0916   -7.1026 C   0  0  0  0  0  0  0  0  0  0  0  0\n   14.8461   -4.1515   -4.0797 N   0  0  0  0  0  0  0  0  0  0  0  0\n   14.8381   -5.3002   -6.8724 N   0  0  0  0  0  0  0  0  0  0  0  0\n   13.6563   -4.4242   -4.8841 C   0  0  0  0  0  0  0  0  0  0  0  0\n   13.9420   -5.5509   -5.8643 C   0  0  0  0  0  0  0  0  0  0  0  0\n   13.3660   -6.6384   -5.8221 O   0  0  0  0  0  0  0  0  0  0  0  0\n   14.9179   -6.0534   -7.5444 H   0  0  0  0  0  0  0  0  0  0  0  0\n   17.0858   -3.4107   -3.7647 C   0  0  0  0  0  0  0  0  0  0  0  0\n   16.9119   -2.7920   -2.5209 C   0  0  0  0  0  0  0  0  0  0  0  0\n   18.3614   -3.8367   -4.1564 C   0  0  0  0  0  0  0  0  0  0  0  0\n   18.0106   -2.5726   -1.6886 C   0  0  0  0  0  0  0  0  0  0  0  0\n   19.4576   -3.6147   -3.3203 C   0  0  0  0  0  0  0  0  0  0  0  0\n   19.2823   -2.9798   -2.0906 C   0  0  0  0  0  0  0  0  0  0  0  0\n  1  2  1  0  0  0\n  2  3  2  0  0  0\n  2  4  1  0  0  0\n  3  5  1  0  0  0\n  4  6  2  0  0  0\n  5  7  1  0  0  0\n  5  8  2  0  0  0\n  7  9  2  0  0  0\n  7 15  1  0  0  0\n  8 10  1  0  0  0\n  9 11  1  0  0  0\n 15 16  2  0  0  0\n 15 17  1  0  0  0\n 10 12  1  0  0  0\n 16 18  1  0  0  0\n 17 19  2  0  0  0\n 12 13  2  0  0  0\n 18 20  2  0  0  0\n  6  8  1  0  0  0\n 11 12  1  0  0  0\n 19 20  1  0  0  0\n 10 14  1  0  0  0\nM  END\n> <minimizedAffinity>\n-6.71854\n\n$$$$\n2997\n\n\n 20 22  0  0  0  0  0  0  0  0999 V2000\n   19.8482   -2.0439   -6.9921 Cl  0  0  0  0  0  0  0  0  0  0  0  0\n   18.4233   -2.5194   -6.1548 C   0  0  0  0  0  0  0  0  0  0  0  0\n   18.5208   -3.0594   -4.8746 C   0  0  0  0  0  0  0  0  0  0  0  0\n   17.1814   -2.3710   -6.7654 C   0  0  0  0  0  0  0  0  0  0  0  0\n   17.3614   -3.4605   -4.1906 C   0  0  0  0  0  0  0  0  0  0  0  0\n   16.0234   -2.7460   -6.0812 C   0  0  0  0  0  0  0  0  0  0  0  0\n   17.5153   -4.1163   -2.8568 C   0  0  0  0  0  0  0  0  0  0  0  0\n   16.1028   -3.2680   -4.7836 C   0  0  0  0  0  0  0  0  0  0  0  0\n   16.7871   -3.8552   -1.8229 N   0  0  0  0  0  0  0  0  0  0  0  0\n   14.8896   -3.5771   -4.1554 N   0  0  0  0  0  0  0  0  0  0  0  0\n   15.7068   -2.8760   -1.9288 C   0  0  0  0  0  0  0  0  0  0  0  0\n   14.6033   -3.4183   -2.8231 C   0  0  0  0  0  0  0  0  0  0  0  0\n   13.4670   -3.6595   -2.4145 O   0  0  0  0  0  0  0  0  0  0  0  0\n   14.0917   -3.8530   -4.7144 H   0  0  0  0  0  0  0  0  0  0  0  0\n   18.5837   -5.1534   -2.6895 C   0  0  0  0  0  0  0  0  0  0  0  0\n   18.4537   -6.1032   -1.6692 C   0  0  0  0  0  0  0  0  0  0  0  0\n   19.6864   -5.2065   -3.5517 C   0  0  0  0  0  0  0  0  0  0  0  0\n   19.4352   -7.0797   -1.4927 C   0  0  0  0  0  0  0  0  0  0  0  0\n   20.6659   -6.1852   -3.3709 C   0  0  0  0  0  0  0  0  0  0  0  0\n   20.5420   -7.1171   -2.3402 C   0  0  0  0  0  0  0  0  0  0  0  0\n  1  2  1  0  0  0\n  2  3  2  0  0  0\n  2  4  1  0  0  0\n  3  5  1  0  0  0\n  4  6  2  0  0  0\n  5  7  1  0  0  0\n  5  8  2  0  0  0\n  7  9  2  0  0  0\n  7 15  1  0  0  0\n  8 10  1  0  0  0\n  9 11  1  0  0  0\n 15 16  2  0  0  0\n 15 17  1  0  0  0\n 10 12  1  0  0  0\n 16 18  1  0  0  0\n 17 19  2  0  0  0\n 12 13  2  0  0  0\n 18 20  2  0  0  0\n  6  8  1  0  0  0\n 11 12  1  0  0  0\n 19 20  1  0  0  0\n 10 14  1  0  0  0\nM  END\n> <minimizedAffinity>\n-6.68820\n\n$$$$\n2997\n\n\n 20 22  0  0  0  0  0  0  0  0999 V2000\n   20.2654   -6.3516   -3.2543 Cl  0  0  0  0  0  0  0  0  0  0  0  0\n   18.8950   -5.3619   -2.9379 C   0  0  0  0  0  0  0  0  0  0  0  0\n   18.1832   -4.8063   -3.9985 C   0  0  0  0  0  0  0  0  0  0  0  0\n   18.5110   -5.1138   -1.6233 C   0  0  0  0  0  0  0  0  0  0  0  0\n   17.0702   -3.9875   -3.7458 C   0  0  0  0  0  0  0  0  0  0  0  0\n   17.3913   -4.3200   -1.3664 C   0  0  0  0  0  0  0  0  0  0  0  0\n   16.3879   -3.3393   -4.9064 C   0  0  0  0  0  0  0  0  0  0  0  0\n   16.6505   -3.7739   -2.4225 C   0  0  0  0  0  0  0  0  0  0  0  0\n   15.1074   -3.2664   -5.0570 N   0  0  0  0  0  0  0  0  0  0  0  0\n   15.5179   -3.0264   -2.0750 N   0  0  0  0  0  0  0  0  0  0  0  0\n   14.2266   -3.8194   -4.0297 C   0  0  0  0  0  0  0  0  0  0  0  0\n   14.3295   -2.9902   -2.7594 C   0  0  0  0  0  0  0  0  0  0  0  0\n   13.3851   -2.3471   -2.3002 O   0  0  0  0  0  0  0  0  0  0  0  0\n   15.4963   -2.5301   -1.1927 H   0  0  0  0  0  0  0  0  0  0  0  0\n   17.2331   -2.7241   -5.9797 C   0  0  0  0  0  0  0  0  0  0  0  0\n   16.6263   -2.3262   -7.1770 C   0  0  0  0  0  0  0  0  0  0  0  0\n   18.6053   -2.5132   -5.7928 C   0  0  0  0  0  0  0  0  0  0  0  0\n   17.3917   -1.7505   -8.1921 C   0  0  0  0  0  0  0  0  0  0  0  0\n   19.3670   -1.9370   -6.8115 C   0  0  0  0  0  0  0  0  0  0  0  0\n   18.7613   -1.5606   -8.0105 C   0  0  0  0  0  0  0  0  0  0  0  0\n  1  2  1  0  0  0\n  2  3  2  0  0  0\n  2  4  1  0  0  0\n  3  5  1  0  0  0\n  4  6  2  0  0  0\n  5  7  1  0  0  0\n  5  8  2  0  0  0\n  7  9  2  0  0  0\n  7 15  1  0  0  0\n  8 10  1  0  0  0\n  9 11  1  0  0  0\n 15 16  2  0  0  0\n 15 17  1  0  0  0\n 10 12  1  0  0  0\n 16 18  1  0  0  0\n 17 19  2  0  0  0\n 12 13  2  0  0  0\n 18 20  2  0  0  0\n  6  8  1  0  0  0\n 11 12  1  0  0  0\n 19 20  1  0  0  0\n 10 14  1  0  0  0\nM  END\n> <minimizedAffinity>\n-6.44190\n\n$$$$\n2997\n\n\n 20 22  0  0  0  0  0  0  0  0999 V2000\n   14.2296   -4.5205   -9.3829 Cl  0  0  0  0  0  0  0  0  0  0  0  0\n   14.2390   -4.3577   -7.6709 C   0  0  0  0  0  0  0  0  0  0  0  0\n   15.1272   -3.4721   -7.0651 C   0  0  0  0  0  0  0  0  0  0  0  0\n   13.3658   -5.1193   -6.8999 C   0  0  0  0  0  0  0  0  0  0  0  0\n   15.1476   -3.3437   -5.6665 C   0  0  0  0  0  0  0  0  0  0  0  0\n   13.3651   -4.9787   -5.5107 C   0  0  0  0  0  0  0  0  0  0  0  0\n   16.1746   -2.4499   -5.0508 C   0  0  0  0  0  0  0  0  0  0  0  0\n   14.2352   -4.0745   -4.8880 C   0  0  0  0  0  0  0  0  0  0  0  0\n   15.9426   -1.6198   -4.0892 N   0  0  0  0  0  0  0  0  0  0  0  0\n   14.1372   -3.9661   -3.4948 N   0  0  0  0  0  0  0  0  0  0  0  0\n   14.6011   -1.5368   -3.5144 C   0  0  0  0  0  0  0  0  0  0  0  0\n   14.2821   -2.8173   -2.7591 C   0  0  0  0  0  0  0  0  0  0  0  0\n   14.0948   -2.8491   -1.5425 O   0  0  0  0  0  0  0  0  0  0  0  0\n   13.8360   -4.7647   -2.9499 H   0  0  0  0  0  0  0  0  0  0  0  0\n   17.5780   -2.5086   -5.5723 C   0  0  0  0  0  0  0  0  0  0  0  0\n   18.4798   -3.4099   -4.9940 C   0  0  0  0  0  0  0  0  0  0  0  0\n   17.9898   -1.7044   -6.6427 C   0  0  0  0  0  0  0  0  0  0  0  0\n   19.7926   -3.4840   -5.4619 C   0  0  0  0  0  0  0  0  0  0  0  0\n   19.3045   -1.7819   -7.1072 C   0  0  0  0  0  0  0  0  0  0  0  0\n   20.2048   -2.6673   -6.5144 C   0  0  0  0  0  0  0  0  0  0  0  0\n  1  2  1  0  0  0\n  2  3  2  0  0  0\n  2  4  1  0  0  0\n  3  5  1  0  0  0\n  4  6  2  0  0  0\n  5  7  1  0  0  0\n  5  8  2  0  0  0\n  7  9  2  0  0  0\n  7 15  1  0  0  0\n  8 10  1  0  0  0\n  9 11  1  0  0  0\n 15 16  2  0  0  0\n 15 17  1  0  0  0\n 10 12  1  0  0  0\n 16 18  1  0  0  0\n 17 19  2  0  0  0\n 12 13  2  0  0  0\n 18 20  2  0  0  0\n  6  8  1  0  0  0\n 11 12  1  0  0  0\n 19 20  1  0  0  0\n 10 14  1  0  0  0\nM  END\n> <minimizedAffinity>\n-6.39735\n\n$$$$\n2997\n\n\n 20 22  0  0  0  0  0  0  0  0999 V2000\n   16.1667   -2.5315   -1.2140 Cl  0  0  0  0  0  0  0  0  0  0  0  0\n   17.2821   -2.8407   -2.4860 C   0  0  0  0  0  0  0  0  0  0  0  0\n   16.8995   -2.6287   -3.8084 C   0  0  0  0  0  0  0  0  0  0  0  0\n   18.5576   -3.3105   -2.1870 C   0  0  0  0  0  0  0  0  0  0  0  0\n   17.8022   -2.8909   -4.8520 C   0  0  0  0  0  0  0  0  0  0  0  0\n   19.4673   -3.5504   -3.2188 C   0  0  0  0  0  0  0  0  0  0  0  0\n   17.3246   -2.7358   -6.2594 C   0  0  0  0  0  0  0  0  0  0  0  0\n   19.1059   -3.3190   -4.5523 C   0  0  0  0  0  0  0  0  0  0  0  0\n   17.9988   -2.1702   -7.2044 N   0  0  0  0  0  0  0  0  0  0  0  0\n   20.0939   -3.5448   -5.5193 N   0  0  0  0  0  0  0  0  0  0  0  0\n   19.3394   -1.6570   -6.9280 C   0  0  0  0  0  0  0  0  0  0  0  0\n   20.2910   -2.8129   -6.6629 C   0  0  0  0  0  0  0  0  0  0  0  0\n   21.2484   -3.0739   -7.3919 O   0  0  0  0  0  0  0  0  0  0  0  0\n   20.8108   -4.2397   -5.3507 H   0  0  0  0  0  0  0  0  0  0  0  0\n   15.9711   -3.2693   -6.6175 C   0  0  0  0  0  0  0  0  0  0  0  0\n   15.7093   -4.6326   -6.4365 C   0  0  0  0  0  0  0  0  0  0  0  0\n   14.9609   -2.4256   -7.0970 C   0  0  0  0  0  0  0  0  0  0  0  0\n   14.4564   -5.1541   -6.7623 C   0  0  0  0  0  0  0  0  0  0  0  0\n   13.7089   -2.9521   -7.4218 C   0  0  0  0  0  0  0  0  0  0  0  0\n   13.4594   -4.3148   -7.2586 C   0  0  0  0  0  0  0  0  0  0  0  0\n  1  2  1  0  0  0\n  2  3  2  0  0  0\n  2  4  1  0  0  0\n  3  5  1  0  0  0\n  4  6  2  0  0  0\n  5  7  1  0  0  0\n  5  8  2  0  0  0\n  7  9  2  0  0  0\n  7 15  1  0  0  0\n  8 10  1  0  0  0\n  9 11  1  0  0  0\n 15 16  2  0  0  0\n 15 17  1  0  0  0\n 10 12  1  0  0  0\n 16 18  1  0  0  0\n 17 19  2  0  0  0\n 12 13  2  0  0  0\n 18 20  2  0  0  0\n  6  8  1  0  0  0\n 11 12  1  0  0  0\n 19 20  1  0  0  0\n 10 14  1  0  0  0\nM  END\n> <minimizedAffinity>\n-6.27635\n\n$$$$\n63134\n\n\n 19 21  0  0  0  0  0  0  0  0999 V2000\n   13.3650   -4.5126   -4.1768 Cl  0  0  0  0  0  0  0  0  0  0  0  0\n   14.7325   -3.8282   -4.9639 C   0  0  0  0  0  0  0  0  0  0  0  0\n   16.0140   -4.1325   -4.5146 C   0  0  0  0  0  0  0  0  0  0  0  0\n   14.5504   -2.9715   -6.0442 C   0  0  0  0  0  0  0  0  0  0  0  0\n   17.1250   -3.5789   -5.1660 C   0  0  0  0  0  0  0  0  0  0  0  0\n   15.6605   -2.4025   -6.6756 C   0  0  0  0  0  0  0  0  0  0  0  0\n   18.5180   -3.8529   -4.7576 C   0  0  0  0  0  0  0  0  0  0  0  0\n   16.9608   -2.6954   -6.2364 C   0  0  0  0  0  0  0  0  0  0  0  0\n   19.5344   -3.2599   -5.2942 N   0  0  0  0  0  0  0  0  0  0  0  0\n   18.1106   -2.1073   -6.8215 N   0  0  0  0  0  0  0  0  0  0  0  0\n   19.3891   -2.3613   -6.3181 C   0  0  0  0  0  0  0  0  0  0  0  0\n   17.9753   -1.1888   -7.9402 C   0  0  0  0  0  0  0  0  0  0  0  0\n   20.3779   -1.8005   -6.7861 O   0  0  0  0  0  0  0  0  0  0  0  0\n   18.8086   -4.8398   -3.6914 C   0  0  0  0  0  0  0  0  0  0  0  0\n   19.7356   -5.8640   -3.9097 C   0  0  0  0  0  0  0  0  0  0  0  0\n   18.1774   -4.7027   -2.4526 C   0  0  0  0  0  0  0  0  0  0  0  0\n   20.0008   -6.7789   -2.8906 C   0  0  0  0  0  0  0  0  0  0  0  0\n   18.4475   -5.6208   -1.4379 C   0  0  0  0  0  0  0  0  0  0  0  0\n   19.3537   -6.6596   -1.6592 C   0  0  0  0  0  0  0  0  0  0  0  0\n  1  2  1  0  0  0\n  2  3  2  0  0  0\n  2  4  1  0  0  0\n  3  5  1  0  0  0\n  4  6  2  0  0  0\n  5  7  1  0  0  0\n  5  8  2  0  0  0\n  7  9  2  0  0  0\n  7 14  1  0  0  0\n  8 10  1  0  0  0\n  9 11  1  0  0  0\n 14 15  2  0  0  0\n 14 16  1  0  0  0\n 10 12  1  0  0  0\n 11 13  2  0  0  0\n 15 17  1  0  0  0\n 16 18  2  0  0  0\n 17 19  2  0  0  0\n  6  8  1  0  0  0\n 10 11  1  0  0  0\n 18 19  1  0  0  0\nM  END\n> <minimizedAffinity>\n-7.98731\n\n$$$$\n63134\n\n\n 19 21  0  0  0  0  0  0  0  0999 V2000\n   13.3650   -1.1246   -3.1073 Cl  0  0  0  0  0  0  0  0  0  0  0  0\n   14.7476   -2.1473   -3.0832 C   0  0  0  0  0  0  0  0  0  0  0  0\n   15.4186   -2.4323   -4.2686 C   0  0  0  0  0  0  0  0  0  0  0  0\n   15.1865   -2.6867   -1.8788 C   0  0  0  0  0  0  0  0  0  0  0  0\n   16.5503   -3.2592   -4.2412 C   0  0  0  0  0  0  0  0  0  0  0  0\n   16.3013   -3.5304   -1.8596 C   0  0  0  0  0  0  0  0  0  0  0  0\n   17.3231   -3.6080   -5.4509 C   0  0  0  0  0  0  0  0  0  0  0  0\n   16.9904   -3.8313   -3.0445 C   0  0  0  0  0  0  0  0  0  0  0  0\n   18.3025   -4.4525   -5.4366 N   0  0  0  0  0  0  0  0  0  0  0  0\n   18.0989   -4.7149   -3.0749 N   0  0  0  0  0  0  0  0  0  0  0  0\n   18.7221   -5.0531   -4.2789 C   0  0  0  0  0  0  0  0  0  0  0  0\n   18.5858   -5.3224   -1.8471 C   0  0  0  0  0  0  0  0  0  0  0  0\n   19.6415   -5.8685   -4.3100 O   0  0  0  0  0  0  0  0  0  0  0  0\n   16.9953   -2.9894   -6.7568 C   0  0  0  0  0  0  0  0  0  0  0  0\n   17.4775   -1.7161   -7.0767 C   0  0  0  0  0  0  0  0  0  0  0  0\n   16.2377   -3.7163   -7.6784 C   0  0  0  0  0  0  0  0  0  0  0  0\n   17.1639   -1.1541   -8.3143 C   0  0  0  0  0  0  0  0  0  0  0  0\n   15.9282   -3.1485   -8.9141 C   0  0  0  0  0  0  0  0  0  0  0  0\n   16.3865   -1.8676   -9.2285 C   0  0  0  0  0  0  0  0  0  0  0  0\n  1  2  1  0  0  0\n  2  3  2  0  0  0\n  2  4  1  0  0  0\n  3  5  1  0  0  0\n  4  6  2  0  0  0\n  5  7  1  0  0  0\n  5  8  2  0  0  0\n  7  9  2  0  0  0\n  7 14  1  0  0  0\n  8 10  1  0  0  0\n  9 11  1  0  0  0\n 14 15  2  0  0  0\n 14 16  1  0  0  0\n 10 12  1  0  0  0\n 11 13  2  0  0  0\n 15 17  1  0  0  0\n 16 18  2  0  0  0\n 17 19  2  0  0  0\n  6  8  1  0  0  0\n 10 11  1  0  0  0\n 18 19  1  0  0  0\nM  END\n> <minimizedAffinity>\n-7.86146\n\n$$$$\n63134\n\n\n 19 21  0  0  0  0  0  0  0  0999 V2000\n   19.4834   -6.4737   -2.2540 Cl  0  0  0  0  0  0  0  0  0  0  0  0\n   19.2554   -5.2461   -3.4367 C   0  0  0  0  0  0  0  0  0  0  0  0\n   18.0262   -4.6012   -3.5370 C   0  0  0  0  0  0  0  0  0  0  0  0\n   20.3004   -4.9058   -4.2891 C   0  0  0  0  0  0  0  0  0  0  0  0\n   17.8494   -3.5949   -4.4969 C   0  0  0  0  0  0  0  0  0  0  0  0\n   20.1119   -3.9185   -5.2609 C   0  0  0  0  0  0  0  0  0  0  0  0\n   16.5806   -2.8577   -4.6674 C   0  0  0  0  0  0  0  0  0  0  0  0\n   18.8795   -3.2579   -5.3793 C   0  0  0  0  0  0  0  0  0  0  0  0\n   16.3893   -2.0045   -5.6203 N   0  0  0  0  0  0  0  0  0  0  0  0\n   18.6338   -2.2815   -6.3776 N   0  0  0  0  0  0  0  0  0  0  0  0\n   17.3753   -1.6910   -6.5184 C   0  0  0  0  0  0  0  0  0  0  0  0\n   19.6855   -1.9035   -7.3075 C   0  0  0  0  0  0  0  0  0  0  0  0\n   17.1472   -0.8925   -7.4248 O   0  0  0  0  0  0  0  0  0  0  0  0\n   15.4530   -3.0753   -3.7312 C   0  0  0  0  0  0  0  0  0  0  0  0\n   14.4161   -3.9524   -4.0653 C   0  0  0  0  0  0  0  0  0  0  0  0\n   15.4667   -2.4273   -2.4936 C   0  0  0  0  0  0  0  0  0  0  0  0\n   13.3672   -4.1495   -3.1670 C   0  0  0  0  0  0  0  0  0  0  0  0\n   14.4149   -2.6291   -1.6001 C   0  0  0  0  0  0  0  0  0  0  0  0\n   13.3650   -3.4847   -1.9393 C   0  0  0  0  0  0  0  0  0  0  0  0\n  1  2  1  0  0  0\n  2  3  2  0  0  0\n  2  4  1  0  0  0\n  3  5  1  0  0  0\n  4  6  2  0  0  0\n  5  7  1  0  0  0\n  5  8  2  0  0  0\n  7  9  2  0  0  0\n  7 14  1  0  0  0\n  8 10  1  0  0  0\n  9 11  1  0  0  0\n 14 15  2  0  0  0\n 14 16  1  0  0  0\n 10 12  1  0  0  0\n 11 13  2  0  0  0\n 15 17  1  0  0  0\n 16 18  2  0  0  0\n 17 19  2  0  0  0\n  6  8  1  0  0  0\n 10 11  1  0  0  0\n 18 19  1  0  0  0\nM  END\n> <minimizedAffinity>\n-7.63839\n\n$$$$\n63134\n\n\n 19 21  0  0  0  0  0  0  0  0999 V2000\n   19.8825   -4.2465   -4.2458 Cl  0  0  0  0  0  0  0  0  0  0  0  0\n   18.9386   -3.2104   -5.2426 C   0  0  0  0  0  0  0  0  0  0  0  0\n   17.5930   -3.0070   -4.9514 C   0  0  0  0  0  0  0  0  0  0  0  0\n   19.5246   -2.5831   -6.3368 C   0  0  0  0  0  0  0  0  0  0  0  0\n   16.8311   -2.1541   -5.7621 C   0  0  0  0  0  0  0  0  0  0  0  0\n   18.7549   -1.7524   -7.1568 C   0  0  0  0  0  0  0  0  0  0  0  0\n   15.3997   -1.8793   -5.5215 C   0  0  0  0  0  0  0  0  0  0  0  0\n   17.3961   -1.5359   -6.8810 C   0  0  0  0  0  0  0  0  0  0  0  0\n   14.6764   -1.1754   -6.3302 N   0  0  0  0  0  0  0  0  0  0  0  0\n   16.5709   -0.7353   -7.7106 N   0  0  0  0  0  0  0  0  0  0  0  0\n   15.2048   -0.5945   -7.4529 C   0  0  0  0  0  0  0  0  0  0  0  0\n   17.1283   -0.0732   -8.8788 C   0  0  0  0  0  0  0  0  0  0  0  0\n   14.4795    0.0477   -8.2096 O   0  0  0  0  0  0  0  0  0  0  0  0\n   14.7237   -2.4144   -4.3166 C   0  0  0  0  0  0  0  0  0  0  0  0\n   14.7603   -1.7050   -3.1118 C   0  0  0  0  0  0  0  0  0  0  0  0\n   14.0124   -3.6127   -4.4161 C   0  0  0  0  0  0  0  0  0  0  0  0\n   14.1112   -2.2219   -1.9905 C   0  0  0  0  0  0  0  0  0  0  0  0\n   13.3654   -4.1237   -3.2911 C   0  0  0  0  0  0  0  0  0  0  0  0\n   13.4197   -3.4316   -2.0797 C   0  0  0  0  0  0  0  0  0  0  0  0\n  1  2  1  0  0  0\n  2  3  2  0  0  0\n  2  4  1  0  0  0\n  3  5  1  0  0  0\n  4  6  2  0  0  0\n  5  7  1  0  0  0\n  5  8  2  0  0  0\n  7  9  2  0  0  0\n  7 14  1  0  0  0\n  8 10  1  0  0  0\n  9 11  1  0  0  0\n 14 15  2  0  0  0\n 14 16  1  0  0  0\n 10 12  1  0  0  0\n 11 13  2  0  0  0\n 15 17  1  0  0  0\n 16 18  2  0  0  0\n 17 19  2  0  0  0\n  6  8  1  0  0  0\n 10 11  1  0  0  0\n 18 19  1  0  0  0\nM  END\n> <minimizedAffinity>\n-7.00591\n\n$$$$\n63134\n\n\n 19 21  0  0  0  0  0  0  0  0999 V2000\n   13.3653   -1.8938   -3.2700 Cl  0  0  0  0  0  0  0  0  0  0  0  0\n   14.9964   -2.4039   -3.4628 C   0  0  0  0  0  0  0  0  0  0  0  0\n   15.6029   -2.3259   -4.7130 C   0  0  0  0  0  0  0  0  0  0  0  0\n   15.7005   -2.8947   -2.3685 C   0  0  0  0  0  0  0  0  0  0  0  0\n   16.9356   -2.7346   -4.8620 C   0  0  0  0  0  0  0  0  0  0  0  0\n   17.0217   -3.3238   -2.5269 C   0  0  0  0  0  0  0  0  0  0  0  0\n   17.6559   -2.6806   -6.1506 C   0  0  0  0  0  0  0  0  0  0  0  0\n   17.6503   -3.2549   -3.7796 C   0  0  0  0  0  0  0  0  0  0  0  0\n   18.8492   -3.1544   -6.3060 N   0  0  0  0  0  0  0  0  0  0  0  0\n   18.9734   -3.7183   -3.9920 N   0  0  0  0  0  0  0  0  0  0  0  0\n   19.5498   -3.7039   -5.2647 C   0  0  0  0  0  0  0  0  0  0  0  0\n   19.7466   -4.2597   -2.8863 C   0  0  0  0  0  0  0  0  0  0  0  0\n   20.6728   -4.1652   -5.4576 O   0  0  0  0  0  0  0  0  0  0  0  0\n   17.0215   -2.0684   -7.3414 C   0  0  0  0  0  0  0  0  0  0  0  0\n   16.2728   -2.8524   -8.2252 C   0  0  0  0  0  0  0  0  0  0  0  0\n   17.1447   -0.6911   -7.5406 C   0  0  0  0  0  0  0  0  0  0  0  0\n   15.6772   -2.2558   -9.3366 C   0  0  0  0  0  0  0  0  0  0  0  0\n   16.5463   -0.1011   -8.6537 C   0  0  0  0  0  0  0  0  0  0  0  0\n   15.8185   -0.8836   -9.5522 C   0  0  0  0  0  0  0  0  0  0  0  0\n  1  2  1  0  0  0\n  2  3  2  0  0  0\n  2  4  1  0  0  0\n  3  5  1  0  0  0\n  4  6  2  0  0  0\n  5  7  1  0  0  0\n  5  8  2  0  0  0\n  7  9  2  0  0  0\n  7 14  1  0  0  0\n  8 10  1  0  0  0\n  9 11  1  0  0  0\n 14 15  2  0  0  0\n 14 16  1  0  0  0\n 10 12  1  0  0  0\n 11 13  2  0  0  0\n 15 17  1  0  0  0\n 16 18  2  0  0  0\n 17 19  2  0  0  0\n  6  8  1  0  0  0\n 10 11  1  0  0  0\n 18 19  1  0  0  0\nM  END\n> <minimizedAffinity>\n-6.82876\n\n$$$$\n63134\n\n\n 19 21  0  0  0  0  0  0  0  0999 V2000\n   13.3650   -6.2609   -5.7158 Cl  0  0  0  0  0  0  0  0  0  0  0  0\n   14.4832   -5.1172   -6.3478 C   0  0  0  0  0  0  0  0  0  0  0  0\n   15.6685   -4.8583   -5.6659 C   0  0  0  0  0  0  0  0  0  0  0  0\n   14.1958   -4.4545   -7.5362 C   0  0  0  0  0  0  0  0  0  0  0  0\n   16.5802   -3.9318   -6.1908 C   0  0  0  0  0  0  0  0  0  0  0  0\n   15.0969   -3.5135   -8.0435 C   0  0  0  0  0  0  0  0  0  0  0  0\n   17.8621   -3.6019   -5.5347 C   0  0  0  0  0  0  0  0  0  0  0  0\n   16.2966   -3.2371   -7.3699 C   0  0  0  0  0  0  0  0  0  0  0  0\n   18.6510   -2.6728   -5.9669 N   0  0  0  0  0  0  0  0  0  0  0  0\n   17.2170   -2.2605   -7.8275 N   0  0  0  0  0  0  0  0  0  0  0  0\n   18.3695   -1.9546   -7.0991 C   0  0  0  0  0  0  0  0  0  0  0  0\n   16.9552   -1.5242   -9.0534 C   0  0  0  0  0  0  0  0  0  0  0  0\n   19.1328   -1.0630   -7.4648 O   0  0  0  0  0  0  0  0  0  0  0  0\n   18.3005   -4.3404   -4.3273 C   0  0  0  0  0  0  0  0  0  0  0  0\n   17.7135   -4.0768   -3.0856 C   0  0  0  0  0  0  0  0  0  0  0  0\n   19.2741   -5.3337   -4.4583 C   0  0  0  0  0  0  0  0  0  0  0  0\n   18.1349   -4.7881   -1.9620 C   0  0  0  0  0  0  0  0  0  0  0  0\n   19.6905   -6.0413   -3.3308 C   0  0  0  0  0  0  0  0  0  0  0  0\n   19.1251   -5.7646   -2.0846 C   0  0  0  0  0  0  0  0  0  0  0  0\n  1  2  1  0  0  0\n  2  3  2  0  0  0\n  2  4  1  0  0  0\n  3  5  1  0  0  0\n  4  6  2  0  0  0\n  5  7  1  0  0  0\n  5  8  2  0  0  0\n  7  9  2  0  0  0\n  7 14  1  0  0  0\n  8 10  1  0  0  0\n  9 11  1  0  0  0\n 14 15  2  0  0  0\n 14 16  1  0  0  0\n 10 12  1  0  0  0\n 11 13  2  0  0  0\n 15 17  1  0  0  0\n 16 18  2  0  0  0\n 17 19  2  0  0  0\n  6  8  1  0  0  0\n 10 11  1  0  0  0\n 18 19  1  0  0  0\nM  END\n> <minimizedAffinity>\n-6.50370\n\n$$$$\n63134\n\n\n 19 21  0  0  0  0  0  0  0  0999 V2000\n   13.3650   -6.0286   -6.1961 Cl  0  0  0  0  0  0  0  0  0  0  0  0\n   14.1131   -4.6866   -6.9691 C   0  0  0  0  0  0  0  0  0  0  0  0\n   15.2303   -4.0900   -6.3923 C   0  0  0  0  0  0  0  0  0  0  0  0\n   13.5957   -4.2025   -8.1658 C   0  0  0  0  0  0  0  0  0  0  0  0\n   15.8412   -3.0023   -7.0317 C   0  0  0  0  0  0  0  0  0  0  0  0\n   14.1937   -3.1023   -8.7876 C   0  0  0  0  0  0  0  0  0  0  0  0\n   17.0318   -2.3147   -6.4915 C   0  0  0  0  0  0  0  0  0  0  0  0\n   15.3198   -2.4857   -8.2210 C   0  0  0  0  0  0  0  0  0  0  0  0\n   17.5291   -1.2489   -7.0296 N   0  0  0  0  0  0  0  0  0  0  0  0\n   15.9303   -1.3428   -8.7968 N   0  0  0  0  0  0  0  0  0  0  0  0\n   17.0065   -0.7058   -8.1737 C   0  0  0  0  0  0  0  0  0  0  0  0\n   15.4165   -0.7838  -10.0366 C   0  0  0  0  0  0  0  0  0  0  0  0\n   17.4925    0.3218   -8.6416 O   0  0  0  0  0  0  0  0  0  0  0  0\n   17.7154   -2.8324   -5.2832 C   0  0  0  0  0  0  0  0  0  0  0  0\n   18.9658   -3.4502   -5.3886 C   0  0  0  0  0  0  0  0  0  0  0  0\n   17.1130   -2.6522   -4.0357 C   0  0  0  0  0  0  0  0  0  0  0  0\n   19.5965   -3.9244   -4.2382 C   0  0  0  0  0  0  0  0  0  0  0  0\n   17.7493   -3.1284   -2.8896 C   0  0  0  0  0  0  0  0  0  0  0  0\n   18.9862   -3.7679   -2.9923 C   0  0  0  0  0  0  0  0  0  0  0  0\n  1  2  1  0  0  0\n  2  3  2  0  0  0\n  2  4  1  0  0  0\n  3  5  1  0  0  0\n  4  6  2  0  0  0\n  5  7  1  0  0  0\n  5  8  2  0  0  0\n  7  9  2  0  0  0\n  7 14  1  0  0  0\n  8 10  1  0  0  0\n  9 11  1  0  0  0\n 14 15  2  0  0  0\n 14 16  1  0  0  0\n 10 12  1  0  0  0\n 11 13  2  0  0  0\n 15 17  1  0  0  0\n 16 18  2  0  0  0\n 17 19  2  0  0  0\n  6  8  1  0  0  0\n 10 11  1  0  0  0\n 18 19  1  0  0  0\nM  END\n> <minimizedAffinity>\n-6.38097\n\n$$$$\n63134\n\n\n 19 21  0  0  0  0  0  0  0  0999 V2000\n   13.3672   -1.4577   -4.0115 Cl  0  0  0  0  0  0  0  0  0  0  0  0\n   14.9886   -1.7925   -4.4770 C   0  0  0  0  0  0  0  0  0  0  0  0\n   15.4530   -1.3717   -5.7196 C   0  0  0  0  0  0  0  0  0  0  0  0\n   15.8270   -2.4850   -3.6099 C   0  0  0  0  0  0  0  0  0  0  0  0\n   16.7784   -1.6395   -6.0897 C   0  0  0  0  0  0  0  0  0  0  0  0\n   17.1409   -2.7710   -3.9931 C   0  0  0  0  0  0  0  0  0  0  0  0\n   17.3528   -1.2247   -7.3859 C   0  0  0  0  0  0  0  0  0  0  0  0\n   17.6274   -2.3568   -5.2425 C   0  0  0  0  0  0  0  0  0  0  0  0\n   18.5419   -1.5635   -7.7652 N   0  0  0  0  0  0  0  0  0  0  0  0\n   18.9388   -2.6628   -5.6863 N   0  0  0  0  0  0  0  0  0  0  0  0\n   19.3737   -2.3001   -6.9637 C   0  0  0  0  0  0  0  0  0  0  0  0\n   19.8494   -3.4023   -4.8274 C   0  0  0  0  0  0  0  0  0  0  0  0\n   20.4884   -2.6225   -7.3695 O   0  0  0  0  0  0  0  0  0  0  0  0\n   16.5679   -0.3865   -8.3223 C   0  0  0  0  0  0  0  0  0  0  0  0\n   17.0218    0.8866   -8.6816 C   0  0  0  0  0  0  0  0  0  0  0  0\n   15.3945   -0.9063   -8.8743 C   0  0  0  0  0  0  0  0  0  0  0  0\n   16.2722    1.6574   -9.5704 C   0  0  0  0  0  0  0  0  0  0  0  0\n   14.6501   -0.1304   -9.7626 C   0  0  0  0  0  0  0  0  0  0  0  0\n   15.0862    1.1509  -10.1054 C   0  0  0  0  0  0  0  0  0  0  0  0\n  1  2  1  0  0  0\n  2  3  2  0  0  0\n  2  4  1  0  0  0\n  3  5  1  0  0  0\n  4  6  2  0  0  0\n  5  7  1  0  0  0\n  5  8  2  0  0  0\n  7  9  2  0  0  0\n  7 14  1  0  0  0\n  8 10  1  0  0  0\n  9 11  1  0  0  0\n 14 15  2  0  0  0\n 14 16  1  0  0  0\n 10 12  1  0  0  0\n 11 13  2  0  0  0\n 15 17  1  0  0  0\n 16 18  2  0  0  0\n 17 19  2  0  0  0\n  6  8  1  0  0  0\n 10 11  1  0  0  0\n 18 19  1  0  0  0\nM  END\n> <minimizedAffinity>\n-6.32569\n\n$$$$\n3810484\n\n\n 22 24  0  0  0  0  0  0  0  0999 V2000\n   16.5056   -0.3863   -8.0324 Cl  0  0  0  0  0  0  0  0  0  0  0  0\n   17.5583   -1.3996   -7.1233 C   0  0  0  0  0  0  0  0  0  0  0  0\n   17.0725   -2.0729   -6.0007 C   0  0  0  0  0  0  0  0  0  0  0  0\n   18.8871   -1.5396   -7.5155 C   0  0  0  0  0  0  0  0  0  0  0  0\n   17.9187   -2.9031   -5.2491 C   0  0  0  0  0  0  0  0  0  0  0  0\n   19.7399   -2.3604   -6.7792 C   0  0  0  0  0  0  0  0  0  0  0  0\n   17.4380   -3.6365   -4.0474 C   0  0  0  0  0  0  0  0  0  0  0  0\n   19.2526   -3.0337   -5.6561 C   0  0  0  0  0  0  0  0  0  0  0  0\n   18.2960   -4.4262   -3.3556 C   0  0  0  0  0  0  0  0  0  0  0  0\n   20.1149   -3.8503   -4.9294 N   0  0  0  0  0  0  0  0  0  0  0  0\n   17.9969   -5.1624   -2.2295 N   0  0  0  0  0  0  0  0  0  0  0  0\n   19.7373   -4.5480   -3.8212 C   0  0  0  0  0  0  0  0  0  0  0  0\n   20.5399   -5.2572   -3.2139 O   0  0  0  0  0  0  0  0  0  0  0  0\n   21.0812   -3.9598   -5.2040 H   0  0  0  0  0  0  0  0  0  0  0  0\n   18.7493   -5.7099   -1.8188 H   0  0  0  0  0  0  0  0  0  0  0  0\n   17.0682   -5.1572   -1.8303 H   0  0  0  0  0  0  0  0  0  0  0  0\n   16.0420   -3.5508   -3.5526 C   0  0  0  0  0  0  0  0  0  0  0  0\n   15.7572   -2.8796   -2.3563 C   0  0  0  0  0  0  0  0  0  0  0  0\n   14.9986   -4.1404   -4.2781 C   0  0  0  0  0  0  0  0  0  0  0  0\n   14.4437   -2.8020   -1.8910 C   0  0  0  0  0  0  0  0  0  0  0  0\n   13.6862   -4.0608   -3.8099 C   0  0  0  0  0  0  0  0  0  0  0  0\n   13.4099   -3.3927   -2.6173 C   0  0  0  0  0  0  0  0  0  0  0  0\n  1  2  1  0  0  0\n  2  3  2  0  0  0\n  2  4  1  0  0  0\n  3  5  1  0  0  0\n  4  6  2  0  0  0\n  5  7  1  0  0  0\n  5  8  2  0  0  0\n  7  9  2  0  0  0\n  7 17  1  0  0  0\n  8 10  1  0  0  0\n  9 11  1  0  0  0\n  9 12  1  0  0  0\n 17 18  2  0  0  0\n 17 19  1  0  0  0\n 12 13  2  0  0  0\n 18 20  1  0  0  0\n 19 21  2  0  0  0\n 20 22  2  0  0  0\n  6  8  1  0  0  0\n 10 12  1  0  0  0\n 21 22  1  0  0  0\n 10 14  1  0  0  0\n 11 15  1  0  0  0\n 11 16  1  0  0  0\nM  END\n> <minimizedAffinity>\n-7.70113\n\n$$$$\n3810484\n\n\n 22 24  0  0  0  0  0  0  0  0999 V2000\n   13.3659   -1.2413   -3.0887 Cl  0  0  0  0  0  0  0  0  0  0  0  0\n   14.7658   -2.2247   -2.9026 C   0  0  0  0  0  0  0  0  0  0  0  0\n   15.4961   -2.6098   -4.0287 C   0  0  0  0  0  0  0  0  0  0  0  0\n   15.1587   -2.6286   -1.6291 C   0  0  0  0  0  0  0  0  0  0  0  0\n   16.6402   -3.4116   -3.8932 C   0  0  0  0  0  0  0  0  0  0  0  0\n   16.2926   -3.4252   -1.4782 C   0  0  0  0  0  0  0  0  0  0  0  0\n   17.4438   -3.8421   -5.0687 C   0  0  0  0  0  0  0  0  0  0  0  0\n   17.0226   -3.8098   -2.6058 C   0  0  0  0  0  0  0  0  0  0  0  0\n   18.5410   -4.6169   -4.8838 C   0  0  0  0  0  0  0  0  0  0  0  0\n   18.1531   -4.6056   -2.4412 N   0  0  0  0  0  0  0  0  0  0  0  0\n   19.3787   -5.0905   -5.8704 N   0  0  0  0  0  0  0  0  0  0  0  0\n   18.9310   -5.0330   -3.4754 C   0  0  0  0  0  0  0  0  0  0  0  0\n   19.9219   -5.7362   -3.2757 O   0  0  0  0  0  0  0  0  0  0  0  0\n   18.4482   -4.9050   -1.5223 H   0  0  0  0  0  0  0  0  0  0  0  0\n   20.1660   -5.6634   -5.5762 H   0  0  0  0  0  0  0  0  0  0  0  0\n   19.2158   -4.8764   -6.8449 H   0  0  0  0  0  0  0  0  0  0  0  0\n   17.1050   -3.4628   -6.4624 C   0  0  0  0  0  0  0  0  0  0  0  0\n   17.6958   -2.3372   -7.0510 C   0  0  0  0  0  0  0  0  0  0  0  0\n   16.1917   -4.2277   -7.1997 C   0  0  0  0  0  0  0  0  0  0  0  0\n   17.3741   -1.9805   -8.3614 C   0  0  0  0  0  0  0  0  0  0  0  0\n   15.8724   -3.8682   -8.5099 C   0  0  0  0  0  0  0  0  0  0  0  0\n   16.4628   -2.7453   -9.0893 C   0  0  0  0  0  0  0  0  0  0  0  0\n  1  2  1  0  0  0\n  2  3  2  0  0  0\n  2  4  1  0  0  0\n  3  5  1  0  0  0\n  4  6  2  0  0  0\n  5  7  1  0  0  0\n  5  8  2  0  0  0\n  7  9  2  0  0  0\n  7 17  1  0  0  0\n  8 10  1  0  0  0\n  9 11  1  0  0  0\n  9 12  1  0  0  0\n 17 18  2  0  0  0\n 17 19  1  0  0  0\n 12 13  2  0  0  0\n 18 20  1  0  0  0\n 19 21  2  0  0  0\n 20 22  2  0  0  0\n  6  8  1  0  0  0\n 10 12  1  0  0  0\n 21 22  1  0  0  0\n 10 14  1  0  0  0\n 11 15  1  0  0  0\n 11 16  1  0  0  0\nM  END\n> <minimizedAffinity>\n-7.54611\n\n$$$$\n3810484\n\n\n 22 24  0  0  0  0  0  0  0  0999 V2000\n   18.1276   -6.0524   -1.0191 Cl  0  0  0  0  0  0  0  0  0  0  0  0\n   18.6638   -5.2416   -2.4391 C   0  0  0  0  0  0  0  0  0  0  0  0\n   17.8094   -4.3514   -3.0926 C   0  0  0  0  0  0  0  0  0  0  0  0\n   19.9469   -5.4805   -2.9248 C   0  0  0  0  0  0  0  0  0  0  0  0\n   18.2324   -3.6823   -4.2517 C   0  0  0  0  0  0  0  0  0  0  0  0\n   20.3815   -4.8238   -4.0750 C   0  0  0  0  0  0  0  0  0  0  0  0\n   17.3511   -2.7271   -4.9754 C   0  0  0  0  0  0  0  0  0  0  0  0\n   19.5255   -3.9331   -4.7280 C   0  0  0  0  0  0  0  0  0  0  0  0\n   17.8076   -2.1064   -6.0911 C   0  0  0  0  0  0  0  0  0  0  0  0\n   19.9719   -3.2838   -5.8759 N   0  0  0  0  0  0  0  0  0  0  0  0\n   17.1104   -1.2018   -6.8625 N   0  0  0  0  0  0  0  0  0  0  0  0\n   19.2150   -2.3987   -6.5837 C   0  0  0  0  0  0  0  0  0  0  0  0\n   19.6577   -1.8508   -7.5936 O   0  0  0  0  0  0  0  0  0  0  0  0\n   20.9007   -3.4489   -6.2381 H   0  0  0  0  0  0  0  0  0  0  0  0\n   17.5878   -0.8182   -7.6746 H   0  0  0  0  0  0  0  0  0  0  0  0\n   16.1644   -0.9322   -6.6292 H   0  0  0  0  0  0  0  0  0  0  0  0\n   15.9706   -2.4081   -4.5354 C   0  0  0  0  0  0  0  0  0  0  0  0\n   14.8862   -3.1512   -5.0197 C   0  0  0  0  0  0  0  0  0  0  0  0\n   15.7417   -1.3616   -3.6326 C   0  0  0  0  0  0  0  0  0  0  0  0\n   13.5880   -2.8483   -4.6066 C   0  0  0  0  0  0  0  0  0  0  0  0\n   14.4421   -1.0615   -3.2215 C   0  0  0  0  0  0  0  0  0  0  0  0\n   13.3669   -1.8040   -3.7089 C   0  0  0  0  0  0  0  0  0  0  0  0\n  1  2  1  0  0  0\n  2  3  2  0  0  0\n  2  4  1  0  0  0\n  3  5  1  0  0  0\n  4  6  2  0  0  0\n  5  7  1  0  0  0\n  5  8  2  0  0  0\n  7  9  2  0  0  0\n  7 17  1  0  0  0\n  8 10  1  0  0  0\n  9 11  1  0  0  0\n  9 12  1  0  0  0\n 17 18  2  0  0  0\n 17 19  1  0  0  0\n 12 13  2  0  0  0\n 18 20  1  0  0  0\n 19 21  2  0  0  0\n 20 22  2  0  0  0\n  6  8  1  0  0  0\n 10 12  1  0  0  0\n 21 22  1  0  0  0\n 10 14  1  0  0  0\n 11 15  1  0  0  0\n 11 16  1  0  0  0\nM  END\n> <minimizedAffinity>\n-7.52808\n\n$$$$\n3810484\n\n\n 22 24  0  0  0  0  0  0  0  0999 V2000\n   19.8776   -5.5295   -4.0945 Cl  0  0  0  0  0  0  0  0  0  0  0  0\n   18.5049   -4.6239   -3.5876 C   0  0  0  0  0  0  0  0  0  0  0  0\n   17.6920   -4.0069   -4.5405 C   0  0  0  0  0  0  0  0  0  0  0  0\n   18.2163   -4.5140   -2.2297 C   0  0  0  0  0  0  0  0  0  0  0  0\n   16.5689   -3.2649   -4.1427 C   0  0  0  0  0  0  0  0  0  0  0  0\n   17.1044   -3.7805   -1.8188 C   0  0  0  0  0  0  0  0  0  0  0  0\n   15.6794   -2.5935   -5.1280 C   0  0  0  0  0  0  0  0  0  0  0  0\n   16.2917   -3.1636   -2.7734 C   0  0  0  0  0  0  0  0  0  0  0  0\n   14.6066   -1.8883   -4.6918 C   0  0  0  0  0  0  0  0  0  0  0  0\n   15.1843   -2.4338   -2.3497 N   0  0  0  0  0  0  0  0  0  0  0  0\n   13.6983   -1.2166   -5.4813 N   0  0  0  0  0  0  0  0  0  0  0  0\n   14.3315   -1.7962   -3.2003 C   0  0  0  0  0  0  0  0  0  0  0  0\n   13.3652   -1.1632   -2.7737 O   0  0  0  0  0  0  0  0  0  0  0  0\n   14.9645   -2.3468   -1.3672 H   0  0  0  0  0  0  0  0  0  0  0  0\n   12.9413   -0.7297   -5.0075 H   0  0  0  0  0  0  0  0  0  0  0  0\n   13.7826   -1.2094   -6.4886 H   0  0  0  0  0  0  0  0  0  0  0  0\n   15.9049   -2.6533   -6.5931 C   0  0  0  0  0  0  0  0  0  0  0  0\n   16.6552   -1.6581   -7.2329 C   0  0  0  0  0  0  0  0  0  0  0  0\n   15.3691   -3.7054   -7.3472 C   0  0  0  0  0  0  0  0  0  0  0  0\n   16.8644   -1.7147   -8.6116 C   0  0  0  0  0  0  0  0  0  0  0  0\n   15.5803   -3.7589   -8.7258 C   0  0  0  0  0  0  0  0  0  0  0  0\n   16.3267   -2.7639   -9.3567 C   0  0  0  0  0  0  0  0  0  0  0  0\n  1  2  1  0  0  0\n  2  3  2  0  0  0\n  2  4  1  0  0  0\n  3  5  1  0  0  0\n  4  6  2  0  0  0\n  5  7  1  0  0  0\n  5  8  2  0  0  0\n  7  9  2  0  0  0\n  7 17  1  0  0  0\n  8 10  1  0  0  0\n  9 11  1  0  0  0\n  9 12  1  0  0  0\n 17 18  2  0  0  0\n 17 19  1  0  0  0\n 12 13  2  0  0  0\n 18 20  1  0  0  0\n 19 21  2  0  0  0\n 20 22  2  0  0  0\n  6  8  1  0  0  0\n 10 12  1  0  0  0\n 21 22  1  0  0  0\n 10 14  1  0  0  0\n 11 15  1  0  0  0\n 11 16  1  0  0  0\nM  END\n> <minimizedAffinity>\n-7.26939\n\n$$$$\n3810484\n\n\n 22 24  0  0  0  0  0  0  0  0999 V2000\n   13.5497   -3.2616   -2.3574 Cl  0  0  0  0  0  0  0  0  0  0  0  0\n   14.7458   -2.8069   -3.5081 C   0  0  0  0  0  0  0  0  0  0  0  0\n   15.9899   -3.4408   -3.5009 C   0  0  0  0  0  0  0  0  0  0  0  0\n   14.4623   -1.8095   -4.4376 C   0  0  0  0  0  0  0  0  0  0  0  0\n   16.9757   -3.0811   -4.4332 C   0  0  0  0  0  0  0  0  0  0  0  0\n   15.4311   -1.4411   -5.3698 C   0  0  0  0  0  0  0  0  0  0  0  0\n   18.3124   -3.7333   -4.4568 C   0  0  0  0  0  0  0  0  0  0  0  0\n   16.6756   -2.0762   -5.3617 C   0  0  0  0  0  0  0  0  0  0  0  0\n   19.2301   -3.3492   -5.3781 C   0  0  0  0  0  0  0  0  0  0  0  0\n   17.6343   -1.6987   -6.2980 N   0  0  0  0  0  0  0  0  0  0  0  0\n   20.5025   -3.8590   -5.5214 N   0  0  0  0  0  0  0  0  0  0  0  0\n   18.8757   -2.2562   -6.3724 C   0  0  0  0  0  0  0  0  0  0  0  0\n   19.6878   -1.8859   -7.2207 O   0  0  0  0  0  0  0  0  0  0  0  0\n   17.4405   -0.9763   -6.9775 H   0  0  0  0  0  0  0  0  0  0  0  0\n   21.0790   -3.4683   -6.2627 H   0  0  0  0  0  0  0  0  0  0  0  0\n   20.8463   -4.5905   -4.9143 H   0  0  0  0  0  0  0  0  0  0  0  0\n   18.7066   -4.8040   -3.5085 C   0  0  0  0  0  0  0  0  0  0  0  0\n   19.6132   -5.7968   -3.9022 C   0  0  0  0  0  0  0  0  0  0  0  0\n   18.1750   -4.8297   -2.2126 C   0  0  0  0  0  0  0  0  0  0  0  0\n   19.9812   -6.8046   -3.0096 C   0  0  0  0  0  0  0  0  0  0  0  0\n   18.5452   -5.8390   -1.3225 C   0  0  0  0  0  0  0  0  0  0  0  0\n   19.4469   -6.8254   -1.7214 C   0  0  0  0  0  0  0  0  0  0  0  0\n  1  2  1  0  0  0\n  2  3  2  0  0  0\n  2  4  1  0  0  0\n  3  5  1  0  0  0\n  4  6  2  0  0  0\n  5  7  1  0  0  0\n  5  8  2  0  0  0\n  7  9  2  0  0  0\n  7 17  1  0  0  0\n  8 10  1  0  0  0\n  9 11  1  0  0  0\n  9 12  1  0  0  0\n 17 18  2  0  0  0\n 17 19  1  0  0  0\n 12 13  2  0  0  0\n 18 20  1  0  0  0\n 19 21  2  0  0  0\n 20 22  2  0  0  0\n  6  8  1  0  0  0\n 10 12  1  0  0  0\n 21 22  1  0  0  0\n 10 14  1  0  0  0\n 11 15  1  0  0  0\n 11 16  1  0  0  0\nM  END\n> <minimizedAffinity>\n-7.25652\n\n$$$$\n3810484\n\n\n 22 24  0  0  0  0  0  0  0  0999 V2000\n   19.6285   -6.3904   -2.4279 Cl  0  0  0  0  0  0  0  0  0  0  0  0\n   19.3457   -5.2083   -3.6461 C   0  0  0  0  0  0  0  0  0  0  0  0\n   18.1229   -4.5355   -3.6874 C   0  0  0  0  0  0  0  0  0  0  0  0\n   20.3399   -4.9325   -4.5814 C   0  0  0  0  0  0  0  0  0  0  0  0\n   17.8772   -3.5686   -4.6748 C   0  0  0  0  0  0  0  0  0  0  0  0\n   20.1109   -3.9750   -5.5682 C   0  0  0  0  0  0  0  0  0  0  0  0\n   16.5875   -2.8312   -4.7512 C   0  0  0  0  0  0  0  0  0  0  0  0\n   18.8869   -3.3024   -5.6085 C   0  0  0  0  0  0  0  0  0  0  0  0\n   16.4002   -1.9064   -5.7250 C   0  0  0  0  0  0  0  0  0  0  0  0\n   18.6710   -2.3484   -6.5994 N   0  0  0  0  0  0  0  0  0  0  0  0\n   15.2657   -1.1487   -5.9206 N   0  0  0  0  0  0  0  0  0  0  0  0\n   17.5138   -1.6394   -6.7236 C   0  0  0  0  0  0  0  0  0  0  0  0\n   17.3735   -0.8058   -7.6189 O   0  0  0  0  0  0  0  0  0  0  0  0\n   19.3847   -2.1396   -7.2836 H   0  0  0  0  0  0  0  0  0  0  0  0\n   15.2733   -0.4926   -6.6977 H   0  0  0  0  0  0  0  0  0  0  0  0\n   14.4610   -1.2425   -5.3159 H   0  0  0  0  0  0  0  0  0  0  0  0\n   15.4704   -3.0554   -3.8011 C   0  0  0  0  0  0  0  0  0  0  0  0\n   15.4631   -2.4130   -2.5561 C   0  0  0  0  0  0  0  0  0  0  0  0\n   14.4149   -3.9112   -4.1421 C   0  0  0  0  0  0  0  0  0  0  0  0\n   14.4126   -2.6270   -1.6626 C   0  0  0  0  0  0  0  0  0  0  0  0\n   13.3660   -4.1227   -3.2461 C   0  0  0  0  0  0  0  0  0  0  0  0\n   13.3658   -3.4815   -2.0076 C   0  0  0  0  0  0  0  0  0  0  0  0\n  1  2  1  0  0  0\n  2  3  2  0  0  0\n  2  4  1  0  0  0\n  3  5  1  0  0  0\n  4  6  2  0  0  0\n  5  7  1  0  0  0\n  5  8  2  0  0  0\n  7  9  2  0  0  0\n  7 17  1  0  0  0\n  8 10  1  0  0  0\n  9 11  1  0  0  0\n  9 12  1  0  0  0\n 17 18  2  0  0  0\n 17 19  1  0  0  0\n 12 13  2  0  0  0\n 18 20  1  0  0  0\n 19 21  2  0  0  0\n 20 22  2  0  0  0\n  6  8  1  0  0  0\n 10 12  1  0  0  0\n 21 22  1  0  0  0\n 10 14  1  0  0  0\n 11 15  1  0  0  0\n 11 16  1  0  0  0\nM  END\n> <minimizedAffinity>\n-7.14312\n\n$$$$\n3810484\n\n\n 22 24  0  0  0  0  0  0  0  0999 V2000\n   13.7533   -3.3845   -1.9065 Cl  0  0  0  0  0  0  0  0  0  0  0  0\n   15.2976   -3.3008   -2.6614 C   0  0  0  0  0  0  0  0  0  0  0  0\n   15.3888   -2.9827   -4.0179 C   0  0  0  0  0  0  0  0  0  0  0  0\n   16.4442   -3.5514   -1.9120 C   0  0  0  0  0  0  0  0  0  0  0  0\n   16.6411   -2.9105   -4.6477 C   0  0  0  0  0  0  0  0  0  0  0  0\n   17.6952   -3.4837   -2.5233 C   0  0  0  0  0  0  0  0  0  0  0  0\n   16.7788   -2.5748   -6.0904 C   0  0  0  0  0  0  0  0  0  0  0  0\n   17.7852   -3.1652   -3.8808 C   0  0  0  0  0  0  0  0  0  0  0  0\n   18.0119   -2.5180   -6.6513 C   0  0  0  0  0  0  0  0  0  0  0  0\n   19.0407   -3.1010   -4.4791 N   0  0  0  0  0  0  0  0  0  0  0  0\n   18.2947   -2.2216   -7.9672 N   0  0  0  0  0  0  0  0  0  0  0  0\n   19.2344   -2.7992   -5.7939 C   0  0  0  0  0  0  0  0  0  0  0  0\n   20.3672   -2.7552   -6.2747 O   0  0  0  0  0  0  0  0  0  0  0  0\n   19.8800   -3.2808   -3.9459 H   0  0  0  0  0  0  0  0  0  0  0  0\n   19.2739   -2.2170   -8.2425 H   0  0  0  0  0  0  0  0  0  0  0  0\n   17.5586   -2.0175   -8.6293 H   0  0  0  0  0  0  0  0  0  0  0  0\n   15.6173   -2.2924   -6.9692 C   0  0  0  0  0  0  0  0  0  0  0  0\n   14.9919   -3.3329   -7.6685 C   0  0  0  0  0  0  0  0  0  0  0  0\n   15.1378   -0.9832   -7.1061 C   0  0  0  0  0  0  0  0  0  0  0  0\n   13.9009   -3.0650   -8.4966 C   0  0  0  0  0  0  0  0  0  0  0  0\n   14.0465   -0.7190   -7.9350 C   0  0  0  0  0  0  0  0  0  0  0  0\n   13.4296   -1.7591   -8.6297 C   0  0  0  0  0  0  0  0  0  0  0  0\n  1  2  1  0  0  0\n  2  3  2  0  0  0\n  2  4  1  0  0  0\n  3  5  1  0  0  0\n  4  6  2  0  0  0\n  5  7  1  0  0  0\n  5  8  2  0  0  0\n  7  9  2  0  0  0\n  7 17  1  0  0  0\n  8 10  1  0  0  0\n  9 11  1  0  0  0\n  9 12  1  0  0  0\n 17 18  2  0  0  0\n 17 19  1  0  0  0\n 12 13  2  0  0  0\n 18 20  1  0  0  0\n 19 21  2  0  0  0\n 20 22  2  0  0  0\n  6  8  1  0  0  0\n 10 12  1  0  0  0\n 21 22  1  0  0  0\n 10 14  1  0  0  0\n 11 15  1  0  0  0\n 11 16  1  0  0  0\nM  END\n> <minimizedAffinity>\n-6.28978\n\n$$$$\n3810484\n\n\n 22 24  0  0  0  0  0  0  0  0999 V2000\n   20.7716   -6.4224   -3.3673 Cl  0  0  0  0  0  0  0  0  0  0  0  0\n   19.3540   -5.5621   -2.9071 C   0  0  0  0  0  0  0  0  0  0  0  0\n   18.7954   -4.6289   -3.7828 C   0  0  0  0  0  0  0  0  0  0  0  0\n   18.7753   -5.8044   -1.6638 C   0  0  0  0  0  0  0  0  0  0  0  0\n   17.6393   -3.9195   -3.4218 C   0  0  0  0  0  0  0  0  0  0  0  0\n   17.6270   -5.1077   -1.2909 C   0  0  0  0  0  0  0  0  0  0  0  0\n   17.0153   -2.9177   -4.3273 C   0  0  0  0  0  0  0  0  0  0  0  0\n   17.0690   -4.1742   -2.1680 C   0  0  0  0  0  0  0  0  0  0  0  0\n   15.8985   -2.2590   -3.9311 C   0  0  0  0  0  0  0  0  0  0  0  0\n   15.9221   -3.4850   -1.7832 N   0  0  0  0  0  0  0  0  0  0  0  0\n   15.2127   -1.3093   -4.6572 N   0  0  0  0  0  0  0  0  0  0  0  0\n   15.3027   -2.5565   -2.5652 C   0  0  0  0  0  0  0  0  0  0  0  0\n   14.2893   -1.9745   -2.1774 O   0  0  0  0  0  0  0  0  0  0  0  0\n   15.4930   -3.6520   -0.8837 H   0  0  0  0  0  0  0  0  0  0  0  0\n   14.3874   -0.9007   -4.2255 H   0  0  0  0  0  0  0  0  0  0  0  0\n   15.5187   -1.0321   -5.5799 H   0  0  0  0  0  0  0  0  0  0  0  0\n   17.5581   -2.5918   -5.6691 C   0  0  0  0  0  0  0  0  0  0  0  0\n   16.7495   -2.7152   -6.8064 C   0  0  0  0  0  0  0  0  0  0  0  0\n   18.8830   -2.1584   -5.8082 C   0  0  0  0  0  0  0  0  0  0  0  0\n   17.2624   -2.4105   -8.0681 C   0  0  0  0  0  0  0  0  0  0  0  0\n   19.3927   -1.8545   -7.0714 C   0  0  0  0  0  0  0  0  0  0  0  0\n   18.5829   -1.9812   -8.1998 C   0  0  0  0  0  0  0  0  0  0  0  0\n  1  2  1  0  0  0\n  2  3  2  0  0  0\n  2  4  1  0  0  0\n  3  5  1  0  0  0\n  4  6  2  0  0  0\n  5  7  1  0  0  0\n  5  8  2  0  0  0\n  7  9  2  0  0  0\n  7 17  1  0  0  0\n  8 10  1  0  0  0\n  9 11  1  0  0  0\n  9 12  1  0  0  0\n 17 18  2  0  0  0\n 17 19  1  0  0  0\n 12 13  2  0  0  0\n 18 20  1  0  0  0\n 19 21  2  0  0  0\n 20 22  2  0  0  0\n  6  8  1  0  0  0\n 10 12  1  0  0  0\n 21 22  1  0  0  0\n 10 14  1  0  0  0\n 11 15  1  0  0  0\n 11 16  1  0  0  0\nM  END\n> <minimizedAffinity>\n-6.10552\n\n$$$$\n24381\n\n\n 10 10  0  0  0  0  0  0  0  0999 V2000\n   17.2376   -3.3409   -1.8165 Cl  0  0  0  0  0  0  0  0  0  0  0  0\n   18.2397   -4.4982   -2.5771 C   0  0  0  0  0  0  0  0  0  0  0  0\n   18.6162   -5.5257   -1.8263 N   0  0  0  0  0  0  0  0  0  0  0  0\n   18.5450   -4.2581   -3.8463 N   0  0  0  0  0  0  0  0  0  0  0  0\n   19.3875   -6.3877   -2.4624 C   0  0  0  0  0  0  0  0  0  0  0  0\n   19.3216   -5.1962   -4.3637 C   0  0  0  0  0  0  0  0  0  0  0  0\n   19.7719   -6.2751   -3.7279 N   0  0  0  0  0  0  0  0  0  0  0  0\n   19.8241   -7.4778   -1.7687 N   0  0  0  0  0  0  0  0  0  0  0  0\n   19.5426   -7.5794   -0.8087 H   0  0  0  0  0  0  0  0  0  0  0  0\n   20.4121   -8.1417   -2.2422 H   0  0  0  0  0  0  0  0  0  0  0  0\n  1  2  1  0  0  0\n  2  3  2  0  0  0\n  2  4  1  0  0  0\n  3  5  1  0  0  0\n  4  6  2  0  0  0\n  5  7  2  0  0  0\n  5  8  1  0  0  0\n  6  7  1  0  0  0\n  8  9  1  0  0  0\n  8 10  1  0  0  0\nM  END\n> <minimizedAffinity>\n-4.28004\n\n$$$$\n24381\n\n\n 10 10  0  0  0  0  0  0  0  0999 V2000\n   20.0026   -5.5807   -3.4486 Cl  0  0  0  0  0  0  0  0  0  0  0  0\n   19.2539   -4.4911   -4.5323 C   0  0  0  0  0  0  0  0  0  0  0  0\n   20.0602   -3.6347   -5.1468 N   0  0  0  0  0  0  0  0  0  0  0  0\n   17.9374   -4.6064   -4.6555 N   0  0  0  0  0  0  0  0  0  0  0  0\n   19.4308   -2.8178   -5.9710 C   0  0  0  0  0  0  0  0  0  0  0  0\n   17.4327   -3.7311   -5.5098 C   0  0  0  0  0  0  0  0  0  0  0  0\n   18.1220   -2.8198   -6.1921 N   0  0  0  0  0  0  0  0  0  0  0  0\n   20.1801   -1.9011   -6.6480 N   0  0  0  0  0  0  0  0  0  0  0  0\n   21.1735   -1.8852   -6.4928 H   0  0  0  0  0  0  0  0  0  0  0  0\n   19.7123   -1.2733   -7.2787 H   0  0  0  0  0  0  0  0  0  0  0  0\n  1  2  1  0  0  0\n  2  3  2  0  0  0\n  2  4  1  0  0  0\n  3  5  1  0  0  0\n  4  6  2  0  0  0\n  5  7  2  0  0  0\n  5  8  1  0  0  0\n  6  7  1  0  0  0\n  8  9  1  0  0  0\n  8 10  1  0  0  0\nM  END\n> <minimizedAffinity>\n-4.19826\n\n$$$$\n24381\n\n\n 10 10  0  0  0  0  0  0  0  0999 V2000\n   19.7443   -1.7984   -7.0340 Cl  0  0  0  0  0  0  0  0  0  0  0  0\n   19.1969   -2.8896   -5.8374 C   0  0  0  0  0  0  0  0  0  0  0  0\n   20.1260   -3.6550   -5.2786 N   0  0  0  0  0  0  0  0  0  0  0  0\n   17.8947   -2.8665   -5.5817 N   0  0  0  0  0  0  0  0  0  0  0  0\n   19.6493   -4.4776   -4.3628 C   0  0  0  0  0  0  0  0  0  0  0  0\n   17.5494   -3.7368   -4.6467 C   0  0  0  0  0  0  0  0  0  0  0  0\n   18.3736   -4.5623   -4.0062 N   0  0  0  0  0  0  0  0  0  0  0  0\n   20.5329   -5.3044   -3.7336 N   0  0  0  0  0  0  0  0  0  0  0  0\n   21.5037   -5.2538   -3.9911 H   0  0  0  0  0  0  0  0  0  0  0  0\n   20.1821   -5.9356   -3.0340 H   0  0  0  0  0  0  0  0  0  0  0  0\n  1  2  1  0  0  0\n  2  3  2  0  0  0\n  2  4  1  0  0  0\n  3  5  1  0  0  0\n  4  6  2  0  0  0\n  5  7  2  0  0  0\n  5  8  1  0  0  0\n  6  7  1  0  0  0\n  8  9  1  0  0  0\n  8 10  1  0  0  0\nM  END\n> <minimizedAffinity>\n-4.17878\n\n$$$$\n24381\n\n\n 10 10  0  0  0  0  0  0  0  0999 V2000\n   18.6672   -2.5219   -1.2341 Cl  0  0  0  0  0  0  0  0  0  0  0  0\n   18.1949   -3.2753   -2.6941 C   0  0  0  0  0  0  0  0  0  0  0  0\n   19.1160   -4.0243   -3.2873 N   0  0  0  0  0  0  0  0  0  0  0  0\n   16.9517   -3.0390   -3.0943 N   0  0  0  0  0  0  0  0  0  0  0  0\n   18.6988   -4.5815   -4.4089 C   0  0  0  0  0  0  0  0  0  0  0  0\n   16.6620   -3.6553   -4.2288 C   0  0  0  0  0  0  0  0  0  0  0  0\n   17.4858   -4.4330   -4.9270 N   0  0  0  0  0  0  0  0  0  0  0  0\n   19.5793   -5.3704   -5.0891 N   0  0  0  0  0  0  0  0  0  0  0  0\n   20.5029   -5.4942   -4.7112 H   0  0  0  0  0  0  0  0  0  0  0  0\n   19.2735   -5.8005   -5.9448 H   0  0  0  0  0  0  0  0  0  0  0  0\n  1  2  1  0  0  0\n  2  3  2  0  0  0\n  2  4  1  0  0  0\n  3  5  1  0  0  0\n  4  6  2  0  0  0\n  5  7  2  0  0  0\n  5  8  1  0  0  0\n  6  7  1  0  0  0\n  8  9  1  0  0  0\n  8 10  1  0  0  0\nM  END\n> <minimizedAffinity>\n-4.14765\n\n$$$$\n24381\n\n\n 10 10  0  0  0  0  0  0  0  0999 V2000\n   19.4597   -7.1239   -1.7574 Cl  0  0  0  0  0  0  0  0  0  0  0  0\n   19.2185   -5.6579   -2.6029 C   0  0  0  0  0  0  0  0  0  0  0  0\n   19.9353   -5.4986   -3.7083 N   0  0  0  0  0  0  0  0  0  0  0  0\n   18.3370   -4.8193   -2.0724 N   0  0  0  0  0  0  0  0  0  0  0  0\n   19.7102   -4.3510   -4.3208 C   0  0  0  0  0  0  0  0  0  0  0  0\n   18.2062   -3.7104   -2.7824 C   0  0  0  0  0  0  0  0  0  0  0  0\n   18.8593   -3.4209   -3.9052 N   0  0  0  0  0  0  0  0  0  0  0  0\n   20.4036   -4.0995   -5.4681 N   0  0  0  0  0  0  0  0  0  0  0  0\n   21.0526   -4.7932   -5.7978 H   0  0  0  0  0  0  0  0  0  0  0  0\n   20.2409   -3.2289   -5.9438 H   0  0  0  0  0  0  0  0  0  0  0  0\n  1  2  1  0  0  0\n  2  3  2  0  0  0\n  2  4  1  0  0  0\n  3  5  1  0  0  0\n  4  6  2  0  0  0\n  5  7  2  0  0  0\n  5  8  1  0  0  0\n  6  7  1  0  0  0\n  8  9  1  0  0  0\n  8 10  1  0  0  0\nM  END\n> <minimizedAffinity>\n-4.10508\n\n$$$$\n24381\n\n\n 10 10  0  0  0  0  0  0  0  0999 V2000\n   15.9805   -4.3952   -5.3417 Cl  0  0  0  0  0  0  0  0  0  0  0  0\n   17.6580   -4.0695   -5.2991 C   0  0  0  0  0  0  0  0  0  0  0  0\n   18.0762   -3.0674   -6.0621 N   0  0  0  0  0  0  0  0  0  0  0  0\n   18.3817   -4.8503   -4.5064 N   0  0  0  0  0  0  0  0  0  0  0  0\n   19.3778   -2.8595   -5.9912 C   0  0  0  0  0  0  0  0  0  0  0  0\n   19.6670   -4.5367   -4.5275 C   0  0  0  0  0  0  0  0  0  0  0  0\n   20.2207   -3.5607   -5.2431 N   0  0  0  0  0  0  0  0  0  0  0  0\n   19.8988   -1.8478   -6.7431 N   0  0  0  0  0  0  0  0  0  0  0  0\n   19.2748   -1.3059   -7.3160 H   0  0  0  0  0  0  0  0  0  0  0  0\n   20.8890   -1.6794   -6.6977 H   0  0  0  0  0  0  0  0  0  0  0  0\n  1  2  1  0  0  0\n  2  3  2  0  0  0\n  2  4  1  0  0  0\n  3  5  1  0  0  0\n  4  6  2  0  0  0\n  5  7  2  0  0  0\n  5  8  1  0  0  0\n  6  7  1  0  0  0\n  8  9  1  0  0  0\n  8 10  1  0  0  0\nM  END\n> <minimizedAffinity>\n-3.99202\n\n$$$$\n24381\n\n\n 10 10  0  0  0  0  0  0  0  0999 V2000\n   20.5121   -6.8710   -2.7315 Cl  0  0  0  0  0  0  0  0  0  0  0  0\n   19.5695   -5.4839   -3.0628 C   0  0  0  0  0  0  0  0  0  0  0  0\n   18.4646   -5.3448   -2.3409 N   0  0  0  0  0  0  0  0  0  0  0  0\n   20.0334   -4.6786   -4.0103 N   0  0  0  0  0  0  0  0  0  0  0  0\n   17.7756   -4.2584   -2.6371 C   0  0  0  0  0  0  0  0  0  0  0  0\n   19.2508   -3.6302   -4.2082 C   0  0  0  0  0  0  0  0  0  0  0  0\n   18.1192   -3.3674   -3.5589 N   0  0  0  0  0  0  0  0  0  0  0  0\n   16.6226   -4.0321   -1.9446 N   0  0  0  0  0  0  0  0  0  0  0  0\n   16.3468   -4.6968   -1.2423 H   0  0  0  0  0  0  0  0  0  0  0  0\n   16.0890   -3.2079   -2.1609 H   0  0  0  0  0  0  0  0  0  0  0  0\n  1  2  1  0  0  0\n  2  3  2  0  0  0\n  2  4  1  0  0  0\n  3  5  1  0  0  0\n  4  6  2  0  0  0\n  5  7  2  0  0  0\n  5  8  1  0  0  0\n  6  7  1  0  0  0\n  8  9  1  0  0  0\n  8 10  1  0  0  0\nM  END\n> <minimizedAffinity>\n-3.93095\n\n$$$$\n24381\n\n\n 10 10  0  0  0  0  0  0  0  0999 V2000\n   18.0464   -2.7182   -1.4515 Cl  0  0  0  0  0  0  0  0  0  0  0  0\n   18.3585   -3.4915   -2.9438 C   0  0  0  0  0  0  0  0  0  0  0  0\n   17.2989   -3.7423   -3.7024 N   0  0  0  0  0  0  0  0  0  0  0  0\n   19.6313   -3.7668   -3.2007 N   0  0  0  0  0  0  0  0  0  0  0  0\n   17.5966   -4.3395   -4.8414 C   0  0  0  0  0  0  0  0  0  0  0  0\n   19.7914   -4.3633   -4.3709 C   0  0  0  0  0  0  0  0  0  0  0  0\n   18.8217   -4.6734   -5.2280 N   0  0  0  0  0  0  0  0  0  0  0  0\n   16.5688   -4.6372   -5.6872 N   0  0  0  0  0  0  0  0  0  0  0  0\n   15.6338   -4.3914   -5.4105 H   0  0  0  0  0  0  0  0  0  0  0  0\n   16.7827   -5.0920   -6.5579 H   0  0  0  0  0  0  0  0  0  0  0  0\n  1  2  1  0  0  0\n  2  3  2  0  0  0\n  2  4  1  0  0  0\n  3  5  1  0  0  0\n  4  6  2  0  0  0\n  5  7  2  0  0  0\n  5  8  1  0  0  0\n  6  7  1  0  0  0\n  8  9  1  0  0  0\n  8 10  1  0  0  0\nM  END\n> <minimizedAffinity>\n-3.89237\n\n$$$$\n13615\n\n\n 11 11  0  0  0  0  0  0  0  0999 V2000\n   16.6319   -3.5053   -1.7953 Cl  0  0  0  0  0  0  0  0  0  0  0  0\n   17.9851   -4.0773   -2.6677 C   0  0  0  0  0  0  0  0  0  0  0  0\n   18.5163   -5.2067   -2.2392 N   0  0  0  0  0  0  0  0  0  0  0  0\n   18.3733   -3.3301   -3.6939 N   0  0  0  0  0  0  0  0  0  0  0  0\n   19.5506   -5.5570   -2.9799 C   0  0  0  0  0  0  0  0  0  0  0  0\n   19.4208   -3.8063   -4.3409 C   0  0  0  0  0  0  0  0  0  0  0  0\n   20.3367   -7.0071   -2.5346 Cl  0  0  0  0  0  0  0  0  0  0  0  0\n   20.0560   -4.9208   -4.0298 N   0  0  0  0  0  0  0  0  0  0  0  0\n   19.8806   -3.0945   -5.4091 N   0  0  0  0  0  0  0  0  0  0  0  0\n   19.4085   -2.2423   -5.6606 H   0  0  0  0  0  0  0  0  0  0  0  0\n   20.6783   -3.4426   -5.9140 H   0  0  0  0  0  0  0  0  0  0  0  0\n  1  2  1  0  0  0\n  2  3  2  0  0  0\n  2  4  1  0  0  0\n  3  5  1  0  0  0\n  4  6  2  0  0  0\n  5  7  1  0  0  0\n  5  8  2  0  0  0\n  6  9  1  0  0  0\n  6  8  1  0  0  0\n  9 10  1  0  0  0\n  9 11  1  0  0  0\nM  END\n> <minimizedAffinity>\n-4.70868\n\n$$$$\n13615\n\n\n 11 11  0  0  0  0  0  0  0  0999 V2000\n   20.4760   -6.9872   -2.6370 Cl  0  0  0  0  0  0  0  0  0  0  0  0\n   19.6531   -5.5507   -3.0599 C   0  0  0  0  0  0  0  0  0  0  0  0\n   18.6260   -5.2251   -2.2982 N   0  0  0  0  0  0  0  0  0  0  0  0\n   20.1261   -4.8991   -4.1152 N   0  0  0  0  0  0  0  0  0  0  0  0\n   18.0646   -4.1043   -2.7105 C   0  0  0  0  0  0  0  0  0  0  0  0\n   19.4631   -3.7958   -4.4083 C   0  0  0  0  0  0  0  0  0  0  0  0\n   16.7167   -3.5640   -1.8102 Cl  0  0  0  0  0  0  0  0  0  0  0  0\n   18.4186   -3.3441   -3.7396 N   0  0  0  0  0  0  0  0  0  0  0  0\n   19.8887   -3.0694   -5.4809 N   0  0  0  0  0  0  0  0  0  0  0  0\n   20.6835   -3.3988   -6.0024 H   0  0  0  0  0  0  0  0  0  0  0  0\n   19.3950   -2.2255   -5.7190 H   0  0  0  0  0  0  0  0  0  0  0  0\n  1  2  1  0  0  0\n  2  3  2  0  0  0\n  2  4  1  0  0  0\n  3  5  1  0  0  0\n  4  6  2  0  0  0\n  5  7  1  0  0  0\n  5  8  2  0  0  0\n  6  9  1  0  0  0\n  6  8  1  0  0  0\n  9 10  1  0  0  0\n  9 11  1  0  0  0\nM  END\n> <minimizedAffinity>\n-4.67470\n\n$$$$\n13615\n\n\n 11 11  0  0  0  0  0  0  0  0999 V2000\n   20.1361   -3.9473   -5.5058 Cl  0  0  0  0  0  0  0  0  0  0  0  0\n   19.4399   -4.4964   -4.0453 C   0  0  0  0  0  0  0  0  0  0  0  0\n   18.5526   -3.6942   -3.4882 N   0  0  0  0  0  0  0  0  0  0  0  0\n   19.8587   -5.6785   -3.6102 N   0  0  0  0  0  0  0  0  0  0  0  0\n   18.0794   -4.2116   -2.3703 C   0  0  0  0  0  0  0  0  0  0  0  0\n   19.2970   -6.0661   -2.4802 C   0  0  0  0  0  0  0  0  0  0  0  0\n   16.9164   -3.2735   -1.5418 Cl  0  0  0  0  0  0  0  0  0  0  0  0\n   18.3961   -5.3725   -1.8097 N   0  0  0  0  0  0  0  0  0  0  0  0\n   19.6754   -7.2717   -1.9679 N   0  0  0  0  0  0  0  0  0  0  0  0\n   20.3613   -7.8140   -2.4657 H   0  0  0  0  0  0  0  0  0  0  0  0\n   19.2577   -7.5831   -1.1070 H   0  0  0  0  0  0  0  0  0  0  0  0\n  1  2  1  0  0  0\n  2  3  2  0  0  0\n  2  4  1  0  0  0\n  3  5  1  0  0  0\n  4  6  2  0  0  0\n  5  7  1  0  0  0\n  5  8  2  0  0  0\n  6  9  1  0  0  0\n  6  8  1  0  0  0\n  9 10  1  0  0  0\n  9 11  1  0  0  0\nM  END\n> <minimizedAffinity>\n-4.60263\n\n$$$$\n13615\n\n\n 11 11  0  0  0  0  0  0  0  0999 V2000\n   17.0517   -3.2251   -1.4675 Cl  0  0  0  0  0  0  0  0  0  0  0  0\n   18.1648   -4.1945   -2.3281 C   0  0  0  0  0  0  0  0  0  0  0  0\n   18.6293   -3.6847   -3.4531 N   0  0  0  0  0  0  0  0  0  0  0  0\n   18.4560   -5.3690   -1.7823 N   0  0  0  0  0  0  0  0  0  0  0  0\n   19.4774   -4.5112   -4.0353 C   0  0  0  0  0  0  0  0  0  0  0  0\n   19.3188   -6.0867   -2.4775 C   0  0  0  0  0  0  0  0  0  0  0  0\n   20.1583   -3.9746   -5.5076 Cl  0  0  0  0  0  0  0  0  0  0  0  0\n   19.8672   -5.7095   -3.6174 N   0  0  0  0  0  0  0  0  0  0  0  0\n   19.6691   -7.3075   -1.9817 N   0  0  0  0  0  0  0  0  0  0  0  0\n   19.2607   -7.6114   -1.1138 H   0  0  0  0  0  0  0  0  0  0  0  0\n   20.3256   -7.8683   -2.4985 H   0  0  0  0  0  0  0  0  0  0  0  0\n  1  2  1  0  0  0\n  2  3  2  0  0  0\n  2  4  1  0  0  0\n  3  5  1  0  0  0\n  4  6  2  0  0  0\n  5  7  1  0  0  0\n  5  8  2  0  0  0\n  6  9  1  0  0  0\n  6  8  1  0  0  0\n  9 10  1  0  0  0\n  9 11  1  0  0  0\nM  END\n> <minimizedAffinity>\n-4.59281\n\n$$$$\n13615\n\n\n 11 11  0  0  0  0  0  0  0  0999 V2000\n   19.6779   -1.8105   -6.9941 Cl  0  0  0  0  0  0  0  0  0  0  0  0\n   19.1480   -2.9548   -5.8413 C   0  0  0  0  0  0  0  0  0  0  0  0\n   17.8457   -3.0116   -5.6366 N   0  0  0  0  0  0  0  0  0  0  0  0\n   20.0980   -3.6779   -5.2610 N   0  0  0  0  0  0  0  0  0  0  0  0\n   17.5457   -3.9239   -4.7317 C   0  0  0  0  0  0  0  0  0  0  0  0\n   19.6474   -4.5494   -4.3777 C   0  0  0  0  0  0  0  0  0  0  0  0\n   15.8860   -4.1040   -4.3681 Cl  0  0  0  0  0  0  0  0  0  0  0  0\n   18.3756   -4.7198   -4.0683 N   0  0  0  0  0  0  0  0  0  0  0  0\n   20.5633   -5.3311   -3.7379 N   0  0  0  0  0  0  0  0  0  0  0  0\n   21.5374   -5.2147   -3.9612 H   0  0  0  0  0  0  0  0  0  0  0  0\n   20.2377   -6.0009   -3.0612 H   0  0  0  0  0  0  0  0  0  0  0  0\n  1  2  1  0  0  0\n  2  3  2  0  0  0\n  2  4  1  0  0  0\n  3  5  1  0  0  0\n  4  6  2  0  0  0\n  5  7  1  0  0  0\n  5  8  2  0  0  0\n  6  9  1  0  0  0\n  6  8  1  0  0  0\n  9 10  1  0  0  0\n  9 11  1  0  0  0\nM  END\n> <minimizedAffinity>\n-4.57292\n\n$$$$\n13615\n\n\n 11 11  0  0  0  0  0  0  0  0999 V2000\n   15.9948   -3.7501   -3.9076 Cl  0  0  0  0  0  0  0  0  0  0  0  0\n   17.6125   -3.7163   -4.4563 C   0  0  0  0  0  0  0  0  0  0  0  0\n   17.8817   -2.8511   -5.4156 N   0  0  0  0  0  0  0  0  0  0  0  0\n   18.4448   -4.5644   -3.8646 N   0  0  0  0  0  0  0  0  0  0  0  0\n   19.1533   -2.9070   -5.7635 C   0  0  0  0  0  0  0  0  0  0  0  0\n   19.6838   -4.5068   -4.3167 C   0  0  0  0  0  0  0  0  0  0  0  0\n   19.6412   -1.8351   -7.0012 Cl  0  0  0  0  0  0  0  0  0  0  0  0\n   20.1012   -3.6945   -5.2697 N   0  0  0  0  0  0  0  0  0  0  0  0\n   20.5997   -5.3483   -3.7581 N   0  0  0  0  0  0  0  0  0  0  0  0\n   20.2991   -5.9746   -3.0302 H   0  0  0  0  0  0  0  0  0  0  0  0\n   21.5489   -5.3182   -4.0905 H   0  0  0  0  0  0  0  0  0  0  0  0\n  1  2  1  0  0  0\n  2  3  2  0  0  0\n  2  4  1  0  0  0\n  3  5  1  0  0  0\n  4  6  2  0  0  0\n  5  7  1  0  0  0\n  5  8  2  0  0  0\n  6  9  1  0  0  0\n  6  8  1  0  0  0\n  9 10  1  0  0  0\n  9 11  1  0  0  0\nM  END\n> <minimizedAffinity>\n-4.55645\n\n$$$$\n13615\n\n\n 11 11  0  0  0  0  0  0  0  0999 V2000\n   20.1025   -5.5235   -3.4232 Cl  0  0  0  0  0  0  0  0  0  0  0  0\n   19.3016   -4.4938   -4.5267 C   0  0  0  0  0  0  0  0  0  0  0  0\n   18.0034   -4.6871   -4.6628 N   0  0  0  0  0  0  0  0  0  0  0  0\n   20.0626   -3.5972   -5.1422 N   0  0  0  0  0  0  0  0  0  0  0  0\n   17.4857   -3.8427   -5.5348 C   0  0  0  0  0  0  0  0  0  0  0  0\n   19.4064   -2.8220   -5.9856 C   0  0  0  0  0  0  0  0  0  0  0  0\n   15.8051   -3.9824   -5.8089 Cl  0  0  0  0  0  0  0  0  0  0  0  0\n   18.1106   -2.8971   -6.2259 N   0  0  0  0  0  0  0  0  0  0  0  0\n   20.1195   -1.8741   -6.6578 N   0  0  0  0  0  0  0  0  0  0  0  0\n   21.1085   -1.8026   -6.4871 H   0  0  0  0  0  0  0  0  0  0  0  0\n   19.6355   -1.2743   -7.3048 H   0  0  0  0  0  0  0  0  0  0  0  0\n  1  2  1  0  0  0\n  2  3  2  0  0  0\n  2  4  1  0  0  0\n  3  5  1  0  0  0\n  4  6  2  0  0  0\n  5  7  1  0  0  0\n  5  8  2  0  0  0\n  6  9  1  0  0  0\n  6  8  1  0  0  0\n  9 10  1  0  0  0\n  9 11  1  0  0  0\nM  END\n> <minimizedAffinity>\n-4.51298\n\n$$$$\n13615\n\n\n 11 11  0  0  0  0  0  0  0  0999 V2000\n   15.5897   -4.4747   -5.1125 Cl  0  0  0  0  0  0  0  0  0  0  0  0\n   17.1198   -4.0865   -4.4588 C   0  0  0  0  0  0  0  0  0  0  0  0\n   17.1205   -3.6056   -3.2300 N   0  0  0  0  0  0  0  0  0  0  0  0\n   18.1626   -4.3060   -5.2503 N   0  0  0  0  0  0  0  0  0  0  0  0\n   18.3477   -3.3404   -2.8237 C   0  0  0  0  0  0  0  0  0  0  0  0\n   19.3252   -3.9935   -4.7084 C   0  0  0  0  0  0  0  0  0  0  0  0\n   18.4956   -2.7091   -1.2430 Cl  0  0  0  0  0  0  0  0  0  0  0  0\n   19.4826   -3.5041   -3.4926 N   0  0  0  0  0  0  0  0  0  0  0  0\n   20.4457   -4.1907   -5.4598 N   0  0  0  0  0  0  0  0  0  0  0  0\n   20.3444   -4.5630   -6.3891 H   0  0  0  0  0  0  0  0  0  0  0  0\n   21.3404   -3.9578   -5.0628 H   0  0  0  0  0  0  0  0  0  0  0  0\n  1  2  1  0  0  0\n  2  3  2  0  0  0\n  2  4  1  0  0  0\n  3  5  1  0  0  0\n  4  6  2  0  0  0\n  5  7  1  0  0  0\n  5  8  2  0  0  0\n  6  9  1  0  0  0\n  6  8  1  0  0  0\n  9 10  1  0  0  0\n  9 11  1  0  0  0\nM  END\n> <minimizedAffinity>\n-4.50381\n\n$$$$\n151265\n\n\n 19 20  0  0  0  0  0  0  0  0999 V2000\n   15.8386   -2.8428   -1.5189 Cl  0  0  0  0  0  0  0  0  0  0  0  0\n   17.1543   -3.7596   -2.1412 C   0  0  0  0  0  0  0  0  0  0  0  0\n   17.7261   -3.4147   -3.3595 C   0  0  0  0  0  0  0  0  0  0  0  0\n   17.6333   -4.8520   -1.4266 C   0  0  0  0  0  0  0  0  0  0  0  0\n   18.7915   -4.1726   -3.8733 C   0  0  0  0  0  0  0  0  0  0  0  0\n   18.7076   -5.5928   -1.9284 C   0  0  0  0  0  0  0  0  0  0  0  0\n   19.3149   -5.2671   -3.1533 C   0  0  0  0  0  0  0  0  0  0  0  0\n   19.2578   -3.7952   -5.2376 C   0  0  0  0  0  0  0  0  0  0  0  0\n   20.5115   -3.9676   -5.5358 N   0  0  0  0  0  0  0  0  0  0  0  0\n   20.7206   -3.6174   -6.4758 H   0  0  0  0  0  0  0  0  0  0  0  0\n   18.3050   -3.1820   -6.2082 C   0  0  0  0  0  0  0  0  0  0  0  0\n   18.5903   -1.9471   -6.8019 C   0  0  0  0  0  0  0  0  0  0  0  0\n   17.1315   -3.8648   -6.5523 C   0  0  0  0  0  0  0  0  0  0  0  0\n   17.7015   -1.3962   -7.7272 C   0  0  0  0  0  0  0  0  0  0  0  0\n   16.2454   -3.3093   -7.4771 C   0  0  0  0  0  0  0  0  0  0  0  0\n   16.5312   -2.0767   -8.0635 C   0  0  0  0  0  0  0  0  0  0  0  0\n   20.4588   -5.9777   -3.5125 N   0  0  0  0  0  0  0  0  0  0  0  0\n   20.8463   -7.1213   -2.7071 C   0  0  0  0  0  0  0  0  0  0  0  0\n   20.6646   -6.0468   -4.5031 H   0  0  0  0  0  0  0  0  0  0  0  0\n  1  2  1  0  0  0\n  2  3  2  0  0  0\n  2  4  1  0  0  0\n  3  5  1  0  0  0\n  4  6  2  0  0  0\n  5  7  2  0  0  0\n  5  8  1  0  0  0\n  7 17  1  0  0  0\n  8  9  2  0  0  0\n  8 11  1  0  0  0\n 17 18  1  0  0  0\n 11 12  2  0  0  0\n 11 13  1  0  0  0\n 12 14  1  0  0  0\n 13 15  2  0  0  0\n 14 16  2  0  0  0\n  6  7  1  0  0  0\n 15 16  1  0  0  0\n 17 19  1  0  0  0\n  9 10  1  0  0  0\nM  END\n> <minimizedAffinity>\n-6.93963\n\n$$$$\n151265\n\n\n 19 20  0  0  0  0  0  0  0  0999 V2000\n   20.3015   -7.0082   -2.7724 Cl  0  0  0  0  0  0  0  0  0  0  0  0\n   19.3232   -5.6111   -2.9959 C   0  0  0  0  0  0  0  0  0  0  0  0\n   19.3216   -4.9531   -4.2195 C   0  0  0  0  0  0  0  0  0  0  0  0\n   18.5455   -5.1379   -1.9448 C   0  0  0  0  0  0  0  0  0  0  0  0\n   18.5328   -3.8043   -4.3965 C   0  0  0  0  0  0  0  0  0  0  0  0\n   17.7444   -4.0069   -2.1284 C   0  0  0  0  0  0  0  0  0  0  0  0\n   17.7125   -3.3216   -3.3551 C   0  0  0  0  0  0  0  0  0  0  0  0\n   18.6889   -3.1048   -5.7032 C   0  0  0  0  0  0  0  0  0  0  0  0\n   19.7730   -2.4194   -5.9156 N   0  0  0  0  0  0  0  0  0  0  0  0\n   19.7367   -1.9390   -6.8200 H   0  0  0  0  0  0  0  0  0  0  0  0\n   17.5904   -3.1546   -6.7115 C   0  0  0  0  0  0  0  0  0  0  0  0\n   17.5347   -2.2180   -7.7500 C   0  0  0  0  0  0  0  0  0  0  0  0\n   16.6264   -4.1680   -6.6362 C   0  0  0  0  0  0  0  0  0  0  0  0\n   16.5150   -2.2911   -8.7011 C   0  0  0  0  0  0  0  0  0  0  0  0\n   15.6083   -4.2361   -7.5888 C   0  0  0  0  0  0  0  0  0  0  0  0\n   15.5538   -3.2986   -8.6198 C   0  0  0  0  0  0  0  0  0  0  0  0\n   16.7904   -2.2851   -3.4884 N   0  0  0  0  0  0  0  0  0  0  0  0\n   15.3755   -2.6039   -3.4308 C   0  0  0  0  0  0  0  0  0  0  0  0\n   17.0544   -1.3834   -3.1069 H   0  0  0  0  0  0  0  0  0  0  0  0\n  1  2  1  0  0  0\n  2  3  2  0  0  0\n  2  4  1  0  0  0\n  3  5  1  0  0  0\n  4  6  2  0  0  0\n  5  7  2  0  0  0\n  5  8  1  0  0  0\n  7 17  1  0  0  0\n  8  9  2  0  0  0\n  8 11  1  0  0  0\n 17 18  1  0  0  0\n 11 12  2  0  0  0\n 11 13  1  0  0  0\n 12 14  1  0  0  0\n 13 15  2  0  0  0\n 14 16  2  0  0  0\n  6  7  1  0  0  0\n 15 16  1  0  0  0\n 17 19  1  0  0  0\n  9 10  1  0  0  0\nM  END\n> <minimizedAffinity>\n-6.92552\n\n$$$$\n151265\n\n\n 19 20  0  0  0  0  0  0  0  0999 V2000\n   14.1200   -1.7493   -2.6370 Cl  0  0  0  0  0  0  0  0  0  0  0  0\n   15.6389   -2.5107   -2.9059 C   0  0  0  0  0  0  0  0  0  0  0  0\n   16.2756   -2.3756   -4.1334 C   0  0  0  0  0  0  0  0  0  0  0  0\n   16.2187   -3.2700   -1.8957 C   0  0  0  0  0  0  0  0  0  0  0  0\n   17.5093   -3.0093   -4.3565 C   0  0  0  0  0  0  0  0  0  0  0  0\n   17.4567   -3.8828   -2.1112 C   0  0  0  0  0  0  0  0  0  0  0  0\n   18.1322   -3.7605   -3.3377 C   0  0  0  0  0  0  0  0  0  0  0  0\n   18.0536   -2.9013   -5.7396 C   0  0  0  0  0  0  0  0  0  0  0  0\n   19.3058   -2.5865   -5.8919 N   0  0  0  0  0  0  0  0  0  0  0  0\n   19.5447   -2.4851   -6.8832 H   0  0  0  0  0  0  0  0  0  0  0  0\n   17.1532   -3.0981   -6.9129 C   0  0  0  0  0  0  0  0  0  0  0  0\n   16.3010   -4.2064   -6.9778 C   0  0  0  0  0  0  0  0  0  0  0  0\n   17.1375   -2.1473   -7.9412 C   0  0  0  0  0  0  0  0  0  0  0  0\n   15.4457   -4.3655   -8.0700 C   0  0  0  0  0  0  0  0  0  0  0  0\n   16.2814   -2.3114   -9.0317 C   0  0  0  0  0  0  0  0  0  0  0  0\n   15.4367   -3.4193   -9.0948 C   0  0  0  0  0  0  0  0  0  0  0  0\n   19.4168   -4.2948   -3.4199 N   0  0  0  0  0  0  0  0  0  0  0  0\n   19.5618   -5.7132   -3.6917 C   0  0  0  0  0  0  0  0  0  0  0  0\n   20.1395   -3.6966   -3.8049 H   0  0  0  0  0  0  0  0  0  0  0  0\n  1  2  1  0  0  0\n  2  3  2  0  0  0\n  2  4  1  0  0  0\n  3  5  1  0  0  0\n  4  6  2  0  0  0\n  5  7  2  0  0  0\n  5  8  1  0  0  0\n  7 17  1  0  0  0\n  8  9  2  0  0  0\n  8 11  1  0  0  0\n 17 18  1  0  0  0\n 11 12  2  0  0  0\n 11 13  1  0  0  0\n 12 14  1  0  0  0\n 13 15  2  0  0  0\n 14 16  2  0  0  0\n  6  7  1  0  0  0\n 15 16  1  0  0  0\n 17 19  1  0  0  0\n  9 10  1  0  0  0\nM  END\n> <minimizedAffinity>\n-6.72735\n\n$$$$\n151265\n\n\n 19 20  0  0  0  0  0  0  0  0999 V2000\n   17.1053    0.4983   -9.0149 Cl  0  0  0  0  0  0  0  0  0  0  0  0\n   16.9497   -1.0521   -8.2862 C   0  0  0  0  0  0  0  0  0  0  0  0\n   17.7683   -1.4035   -7.2200 C   0  0  0  0  0  0  0  0  0  0  0  0\n   16.0116   -1.9540   -8.7763 C   0  0  0  0  0  0  0  0  0  0  0  0\n   17.6498   -2.6751   -6.6348 C   0  0  0  0  0  0  0  0  0  0  0  0\n   15.8796   -3.2113   -8.1795 C   0  0  0  0  0  0  0  0  0  0  0  0\n   16.6855   -3.5968   -7.0944 C   0  0  0  0  0  0  0  0  0  0  0  0\n   18.6489   -2.9986   -5.5775 C   0  0  0  0  0  0  0  0  0  0  0  0\n   19.9109   -2.9847   -5.8897 N   0  0  0  0  0  0  0  0  0  0  0  0\n   20.4918   -3.2803   -5.0990 H   0  0  0  0  0  0  0  0  0  0  0  0\n   18.1904   -3.3826   -4.2106 C   0  0  0  0  0  0  0  0  0  0  0  0\n   18.8123   -4.4284   -3.5191 C   0  0  0  0  0  0  0  0  0  0  0  0\n   17.1507   -2.6678   -3.6025 C   0  0  0  0  0  0  0  0  0  0  0  0\n   18.3893   -4.7614   -2.2307 C   0  0  0  0  0  0  0  0  0  0  0  0\n   16.7306   -3.0052   -2.3147 C   0  0  0  0  0  0  0  0  0  0  0  0\n   17.3501   -4.0506   -1.6303 C   0  0  0  0  0  0  0  0  0  0  0  0\n   16.3978   -4.8146   -6.4809 N   0  0  0  0  0  0  0  0  0  0  0  0\n   15.1011   -4.9848   -5.8514 C   0  0  0  0  0  0  0  0  0  0  0  0\n   16.7950   -5.6468   -6.9029 H   0  0  0  0  0  0  0  0  0  0  0  0\n  1  2  1  0  0  0\n  2  3  2  0  0  0\n  2  4  1  0  0  0\n  3  5  1  0  0  0\n  4  6  2  0  0  0\n  5  7  2  0  0  0\n  5  8  1  0  0  0\n  7 17  1  0  0  0\n  8  9  2  0  0  0\n  8 11  1  0  0  0\n 17 18  1  0  0  0\n 11 12  2  0  0  0\n 11 13  1  0  0  0\n 12 14  1  0  0  0\n 13 15  2  0  0  0\n 14 16  2  0  0  0\n  6  7  1  0  0  0\n 15 16  1  0  0  0\n 17 19  1  0  0  0\n  9 10  1  0  0  0\nM  END\n> <minimizedAffinity>\n-6.63305\n\n$$$$\n151265\n\n\n 19 20  0  0  0  0  0  0  0  0999 V2000\n   14.1552   -4.7018   -9.5196 Cl  0  0  0  0  0  0  0  0  0  0  0  0\n   15.3616   -3.8230   -8.6644 C   0  0  0  0  0  0  0  0  0  0  0  0\n   15.8146   -4.2830   -7.4342 C   0  0  0  0  0  0  0  0  0  0  0  0\n   15.8708   -2.6467   -9.2033 C   0  0  0  0  0  0  0  0  0  0  0  0\n   16.7898   -3.5571   -6.7303 C   0  0  0  0  0  0  0  0  0  0  0  0\n   16.8567   -1.9362   -8.5122 C   0  0  0  0  0  0  0  0  0  0  0  0\n   17.3435   -2.3768   -7.2695 C   0  0  0  0  0  0  0  0  0  0  0  0\n   17.1238   -4.0681   -5.3707 C   0  0  0  0  0  0  0  0  0  0  0  0\n   18.1585   -4.8434   -5.2350 N   0  0  0  0  0  0  0  0  0  0  0  0\n   18.2490   -5.1755   -4.2699 H   0  0  0  0  0  0  0  0  0  0  0  0\n   16.2461   -3.7327   -4.2117 C   0  0  0  0  0  0  0  0  0  0  0  0\n   14.8560   -3.6787   -4.3640 C   0  0  0  0  0  0  0  0  0  0  0  0\n   16.8176   -3.5033   -2.9537 C   0  0  0  0  0  0  0  0  0  0  0  0\n   14.0448   -3.3877   -3.2654 C   0  0  0  0  0  0  0  0  0  0  0  0\n   16.0025   -3.2117   -1.8586 C   0  0  0  0  0  0  0  0  0  0  0  0\n   14.6178   -3.1546   -2.0152 C   0  0  0  0  0  0  0  0  0  0  0  0\n   18.4149   -1.6790   -6.7149 N   0  0  0  0  0  0  0  0  0  0  0  0\n   19.7632   -2.0763   -7.0767 C   0  0  0  0  0  0  0  0  0  0  0  0\n   18.2787   -0.6889   -6.5433 H   0  0  0  0  0  0  0  0  0  0  0  0\n  1  2  1  0  0  0\n  2  3  2  0  0  0\n  2  4  1  0  0  0\n  3  5  1  0  0  0\n  4  6  2  0  0  0\n  5  7  2  0  0  0\n  5  8  1  0  0  0\n  7 17  1  0  0  0\n  8  9  2  0  0  0\n  8 11  1  0  0  0\n 17 18  1  0  0  0\n 11 12  2  0  0  0\n 11 13  1  0  0  0\n 12 14  1  0  0  0\n 13 15  2  0  0  0\n 14 16  2  0  0  0\n  6  7  1  0  0  0\n 15 16  1  0  0  0\n 17 19  1  0  0  0\n  9 10  1  0  0  0\nM  END\n> <minimizedAffinity>\n-6.58991\n\n$$$$\n151265\n\n\n 19 20  0  0  0  0  0  0  0  0999 V2000\n   20.4772   -4.8877   -3.5319 Cl  0  0  0  0  0  0  0  0  0  0  0  0\n   18.8075   -4.4785   -3.4734 C   0  0  0  0  0  0  0  0  0  0  0  0\n   18.0262   -4.5843   -4.6174 C   0  0  0  0  0  0  0  0  0  0  0  0\n   18.2479   -4.0310   -2.2817 C   0  0  0  0  0  0  0  0  0  0  0  0\n   16.6659   -4.2366   -4.5718 C   0  0  0  0  0  0  0  0  0  0  0  0\n   16.8891   -3.7057   -2.2319 C   0  0  0  0  0  0  0  0  0  0  0  0\n   16.0679   -3.8085   -3.3679 C   0  0  0  0  0  0  0  0  0  0  0  0\n   15.9429   -4.2722   -5.8745 C   0  0  0  0  0  0  0  0  0  0  0  0\n   15.1337   -5.2623   -6.1094 N   0  0  0  0  0  0  0  0  0  0  0  0\n   14.7447   -5.2068   -7.0557 H   0  0  0  0  0  0  0  0  0  0  0  0\n   16.1972   -3.2164   -6.8975 C   0  0  0  0  0  0  0  0  0  0  0  0\n   16.0551   -3.4979   -8.2611 C   0  0  0  0  0  0  0  0  0  0  0  0\n   16.5485   -1.9243   -6.4868 C   0  0  0  0  0  0  0  0  0  0  0  0\n   16.2723   -2.4939   -9.2068 C   0  0  0  0  0  0  0  0  0  0  0  0\n   16.7657   -0.9241   -7.4362 C   0  0  0  0  0  0  0  0  0  0  0  0\n   16.6271   -1.2095   -8.7943 C   0  0  0  0  0  0  0  0  0  0  0  0\n   14.7025   -3.5885   -3.1958 N   0  0  0  0  0  0  0  0  0  0  0  0\n   14.2595   -2.8659   -2.0175 C   0  0  0  0  0  0  0  0  0  0  0  0\n   14.1513   -3.4433   -4.0345 H   0  0  0  0  0  0  0  0  0  0  0  0\n  1  2  1  0  0  0\n  2  3  2  0  0  0\n  2  4  1  0  0  0\n  3  5  1  0  0  0\n  4  6  2  0  0  0\n  5  7  2  0  0  0\n  5  8  1  0  0  0\n  7 17  1  0  0  0\n  8  9  2  0  0  0\n  8 11  1  0  0  0\n 17 18  1  0  0  0\n 11 12  2  0  0  0\n 11 13  1  0  0  0\n 12 14  1  0  0  0\n 13 15  2  0  0  0\n 14 16  2  0  0  0\n  6  7  1  0  0  0\n 15 16  1  0  0  0\n 17 19  1  0  0  0\n  9 10  1  0  0  0\nM  END\n> <minimizedAffinity>\n-6.54782\n\n$$$$\n151265\n\n\n 19 20  0  0  0  0  0  0  0  0999 V2000\n   17.0970   -0.0595   -8.7632 Cl  0  0  0  0  0  0  0  0  0  0  0  0\n   16.6745   -1.5272   -7.9718 C   0  0  0  0  0  0  0  0  0  0  0  0\n   16.7540   -1.6175   -6.5877 C   0  0  0  0  0  0  0  0  0  0  0  0\n   16.2659   -2.6235   -8.7232 C   0  0  0  0  0  0  0  0  0  0  0  0\n   16.4219   -2.8209   -5.9436 C   0  0  0  0  0  0  0  0  0  0  0  0\n   15.9152   -3.8142   -8.0798 C   0  0  0  0  0  0  0  0  0  0  0  0\n   15.9762   -3.9379   -6.6811 C   0  0  0  0  0  0  0  0  0  0  0  0\n   16.6512   -2.8538   -4.4714 C   0  0  0  0  0  0  0  0  0  0  0  0\n   16.0115   -2.0042   -3.7236 N   0  0  0  0  0  0  0  0  0  0  0  0\n   16.2966   -2.0854   -2.7427 H   0  0  0  0  0  0  0  0  0  0  0  0\n   17.6390   -3.8100   -3.8917 C   0  0  0  0  0  0  0  0  0  0  0  0\n   17.5607   -4.1852   -2.5457 C   0  0  0  0  0  0  0  0  0  0  0  0\n   18.6322   -4.3614   -4.7110 C   0  0  0  0  0  0  0  0  0  0  0  0\n   18.4768   -5.0998   -2.0222 C   0  0  0  0  0  0  0  0  0  0  0  0\n   19.5465   -5.2746   -4.1827 C   0  0  0  0  0  0  0  0  0  0  0  0\n   19.4677   -5.6430   -2.8400 C   0  0  0  0  0  0  0  0  0  0  0  0\n   15.4859   -5.1148   -6.1181 N   0  0  0  0  0  0  0  0  0  0  0  0\n   14.0647   -5.2107   -5.8392 C   0  0  0  0  0  0  0  0  0  0  0  0\n   15.9401   -5.9791   -6.3919 H   0  0  0  0  0  0  0  0  0  0  0  0\n  1  2  1  0  0  0\n  2  3  2  0  0  0\n  2  4  1  0  0  0\n  3  5  1  0  0  0\n  4  6  2  0  0  0\n  5  7  2  0  0  0\n  5  8  1  0  0  0\n  7 17  1  0  0  0\n  8  9  2  0  0  0\n  8 11  1  0  0  0\n 17 18  1  0  0  0\n 11 12  2  0  0  0\n 11 13  1  0  0  0\n 12 14  1  0  0  0\n 13 15  2  0  0  0\n 14 16  2  0  0  0\n  6  7  1  0  0  0\n 15 16  1  0  0  0\n 17 19  1  0  0  0\n  9 10  1  0  0  0\nM  END\n> <minimizedAffinity>\n-6.51647\n\n$$$$\n151265\n\n\n 19 20  0  0  0  0  0  0  0  0999 V2000\n   18.2667   -1.8292   -0.6853 Cl  0  0  0  0  0  0  0  0  0  0  0  0\n   17.8889   -2.6631   -2.1416 C   0  0  0  0  0  0  0  0  0  0  0  0\n   18.6982   -3.7062   -2.5743 C   0  0  0  0  0  0  0  0  0  0  0  0\n   16.7796   -2.2810   -2.8878 C   0  0  0  0  0  0  0  0  0  0  0  0\n   18.3965   -4.3774   -3.7710 C   0  0  0  0  0  0  0  0  0  0  0  0\n   16.4678   -2.9634   -4.0675 C   0  0  0  0  0  0  0  0  0  0  0  0\n   17.2599   -4.0282   -4.5303 C   0  0  0  0  0  0  0  0  0  0  0  0\n   19.3876   -5.4006   -4.2088 C   0  0  0  0  0  0  0  0  0  0  0  0\n   19.6325   -5.5249   -5.4796 N   0  0  0  0  0  0  0  0  0  0  0  0\n   20.2822   -6.2969   -5.6582 H   0  0  0  0  0  0  0  0  0  0  0  0\n   20.0331   -6.2923   -3.2017 C   0  0  0  0  0  0  0  0  0  0  0  0\n   21.3957   -6.5987   -3.2922 C   0  0  0  0  0  0  0  0  0  0  0  0\n   19.2751   -6.7993   -2.1386 C   0  0  0  0  0  0  0  0  0  0  0  0\n   21.9925   -7.4147   -2.3291 C   0  0  0  0  0  0  0  0  0  0  0  0\n   19.8761   -7.6156   -1.1788 C   0  0  0  0  0  0  0  0  0  0  0  0\n   21.2333   -7.9220   -1.2746 C   0  0  0  0  0  0  0  0  0  0  0  0\n   16.8031   -4.7328   -5.6426 N   0  0  0  0  0  0  0  0  0  0  0  0\n   16.3422   -3.9834   -6.7970 C   0  0  0  0  0  0  0  0  0  0  0  0\n   17.2563   -5.6173   -5.8442 H   0  0  0  0  0  0  0  0  0  0  0  0\n  1  2  1  0  0  0\n  2  3  2  0  0  0\n  2  4  1  0  0  0\n  3  5  1  0  0  0\n  4  6  2  0  0  0\n  5  7  2  0  0  0\n  5  8  1  0  0  0\n  7 17  1  0  0  0\n  8  9  2  0  0  0\n  8 11  1  0  0  0\n 17 18  1  0  0  0\n 11 12  2  0  0  0\n 11 13  1  0  0  0\n 12 14  1  0  0  0\n 13 15  2  0  0  0\n 14 16  2  0  0  0\n  6  7  1  0  0  0\n 15 16  1  0  0  0\n 17 19  1  0  0  0\n  9 10  1  0  0  0\nM  END\n> <minimizedAffinity>\n-6.49720\n\n$$$$\n12421745\n\n\n 18 19  0  0  0  0  0  0  0  0999 V2000\n   19.6445   -7.0717   -1.9049 Cl  0  0  0  0  0  0  0  0  0  0  0  0\n   18.9894   -5.5474   -2.4029 C   0  0  0  0  0  0  0  0  0  0  0  0\n   19.3224   -4.9964   -3.6554 C   0  0  0  0  0  0  0  0  0  0  0  0\n   18.1380   -4.8805   -1.5155 C   0  0  0  0  0  0  0  0  0  0  0  0\n   20.1150   -5.7060   -4.5656 N   0  0  0  0  0  0  0  0  0  0  0  0\n   18.7065   -3.7803   -4.0158 C   0  0  0  0  0  0  0  0  0  0  0  0\n   17.5837   -3.6528   -1.8689 C   0  0  0  0  0  0  0  0  0  0  0  0\n   17.8663   -3.1012   -3.1167 C   0  0  0  0  0  0  0  0  0  0  0  0\n   20.5270   -5.1655   -5.3281 H   0  0  0  0  0  0  0  0  0  0  0  0\n   20.6453   -6.4976   -4.2203 H   0  0  0  0  0  0  0  0  0  0  0  0\n   18.9772   -3.1746   -5.3465 C   0  0  0  0  0  0  0  0  0  0  0  0\n   20.1150   -2.7978   -5.6194 O   0  0  0  0  0  0  0  0  0  0  0  0\n   17.8938   -3.0186   -6.3521 C   0  0  0  0  0  0  0  0  0  0  0  0\n   17.9101   -1.8909   -7.1815 C   0  0  0  0  0  0  0  0  0  0  0  0\n   16.8911   -3.9833   -6.5097 C   0  0  0  0  0  0  0  0  0  0  0  0\n   16.9126   -1.7134   -8.1412 C   0  0  0  0  0  0  0  0  0  0  0  0\n   15.8953   -3.8016   -7.4718 C   0  0  0  0  0  0  0  0  0  0  0  0\n   15.9043   -2.6663   -8.2826 C   0  0  0  0  0  0  0  0  0  0  0  0\n  1  2  1  0  0  0\n  2  3  2  0  0  0\n  2  4  1  0  0  0\n  3  5  1  0  0  0\n  3  6  1  0  0  0\n  4  7  2  0  0  0\n  6 11  1  0  0  0\n  6  8  2  0  0  0\n 11 12  2  0  0  0\n 11 13  1  0  0  0\n 13 14  2  0  0  0\n 13 15  1  0  0  0\n 14 16  1  0  0  0\n 15 17  2  0  0  0\n 16 18  2  0  0  0\n  7  8  1  0  0  0\n 17 18  1  0  0  0\n  5  9  1  0  0  0\n  5 10  1  0  0  0\nM  END\n> <minimizedAffinity>\n-7.16125\n\n$$$$\n12421745\n\n\n 18 19  0  0  0  0  0  0  0  0999 V2000\n   18.7356   -2.3923   -1.1561 Cl  0  0  0  0  0  0  0  0  0  0  0  0\n   18.6047   -3.3076   -2.6209 C   0  0  0  0  0  0  0  0  0  0  0  0\n   17.3940   -3.3456   -3.3393 C   0  0  0  0  0  0  0  0  0  0  0  0\n   19.7313   -4.0163   -3.0518 C   0  0  0  0  0  0  0  0  0  0  0  0\n   16.2962   -2.5738   -2.9400 N   0  0  0  0  0  0  0  0  0  0  0  0\n   17.3791   -4.0651   -4.5518 C   0  0  0  0  0  0  0  0  0  0  0  0\n   19.6785   -4.7663   -4.2240 C   0  0  0  0  0  0  0  0  0  0  0  0\n   18.5050   -4.7924   -4.9746 C   0  0  0  0  0  0  0  0  0  0  0  0\n   15.3904   -2.8327   -3.3348 H   0  0  0  0  0  0  0  0  0  0  0  0\n   16.2995   -2.1890   -2.0025 H   0  0  0  0  0  0  0  0  0  0  0  0\n   16.1460   -4.0994   -5.3818 C   0  0  0  0  0  0  0  0  0  0  0  0\n   15.1020   -4.5303   -4.8965 O   0  0  0  0  0  0  0  0  0  0  0  0\n   16.1556   -3.6199   -6.7887 C   0  0  0  0  0  0  0  0  0  0  0  0\n   16.8842   -2.4644   -7.0952 C   0  0  0  0  0  0  0  0  0  0  0  0\n   15.4895   -4.3126   -7.8072 C   0  0  0  0  0  0  0  0  0  0  0  0\n   16.9210   -1.9874   -8.4062 C   0  0  0  0  0  0  0  0  0  0  0  0\n   15.5297   -3.8317   -9.1177 C   0  0  0  0  0  0  0  0  0  0  0  0\n   16.2407   -2.6688   -9.4150 C   0  0  0  0  0  0  0  0  0  0  0  0\n  1  2  1  0  0  0\n  2  3  2  0  0  0\n  2  4  1  0  0  0\n  3  5  1  0  0  0\n  3  6  1  0  0  0\n  4  7  2  0  0  0\n  6 11  1  0  0  0\n  6  8  2  0  0  0\n 11 12  2  0  0  0\n 11 13  1  0  0  0\n 13 14  2  0  0  0\n 13 15  1  0  0  0\n 14 16  1  0  0  0\n 15 17  2  0  0  0\n 16 18  2  0  0  0\n  7  8  1  0  0  0\n 17 18  1  0  0  0\n  5  9  1  0  0  0\n  5 10  1  0  0  0\nM  END\n> <minimizedAffinity>\n-6.64534\n\n$$$$\n12421745\n\n\n 18 19  0  0  0  0  0  0  0  0999 V2000\n   18.2112   -5.3572   -1.3996 Cl  0  0  0  0  0  0  0  0  0  0  0  0\n   17.5561   -4.1486   -2.4536 C   0  0  0  0  0  0  0  0  0  0  0  0\n   18.0900   -3.9520   -3.7418 C   0  0  0  0  0  0  0  0  0  0  0  0\n   16.4971   -3.3692   -1.9759 C   0  0  0  0  0  0  0  0  0  0  0  0\n   19.0993   -4.7864   -4.2371 N   0  0  0  0  0  0  0  0  0  0  0  0\n   17.4688   -2.9893   -4.5637 C   0  0  0  0  0  0  0  0  0  0  0  0\n   15.9338   -2.3852   -2.7846 C   0  0  0  0  0  0  0  0  0  0  0  0\n   16.4175   -2.1934   -4.0770 C   0  0  0  0  0  0  0  0  0  0  0  0\n   19.6134   -4.4448   -5.0510 H   0  0  0  0  0  0  0  0  0  0  0  0\n   19.6080   -5.3632   -3.5771 H   0  0  0  0  0  0  0  0  0  0  0  0\n   17.9534   -2.7723   -5.9525 C   0  0  0  0  0  0  0  0  0  0  0  0\n   19.0930   -2.3498   -6.1365 O   0  0  0  0  0  0  0  0  0  0  0  0\n   17.0817   -3.0591   -7.1218 C   0  0  0  0  0  0  0  0  0  0  0  0\n   16.1740   -4.1213   -7.0334 C   0  0  0  0  0  0  0  0  0  0  0  0\n   17.1237   -2.2751   -8.2813 C   0  0  0  0  0  0  0  0  0  0  0  0\n   15.3355   -4.4168   -8.1090 C   0  0  0  0  0  0  0  0  0  0  0  0\n   16.2823   -2.5743   -9.3549 C   0  0  0  0  0  0  0  0  0  0  0  0\n   15.3932   -3.6461   -9.2698 C   0  0  0  0  0  0  0  0  0  0  0  0\n  1  2  1  0  0  0\n  2  3  2  0  0  0\n  2  4  1  0  0  0\n  3  5  1  0  0  0\n  3  6  1  0  0  0\n  4  7  2  0  0  0\n  6 11  1  0  0  0\n  6  8  2  0  0  0\n 11 12  2  0  0  0\n 11 13  1  0  0  0\n 13 14  2  0  0  0\n 13 15  1  0  0  0\n 14 16  1  0  0  0\n 15 17  2  0  0  0\n 16 18  2  0  0  0\n  7  8  1  0  0  0\n 17 18  1  0  0  0\n  5  9  1  0  0  0\n  5 10  1  0  0  0\nM  END\n> <minimizedAffinity>\n-6.64098\n\n$$$$\n12421745\n\n\n 18 19  0  0  0  0  0  0  0  0999 V2000\n   18.2013   -5.6030   -1.1699 Cl  0  0  0  0  0  0  0  0  0  0  0  0\n   18.4797   -4.8287   -2.6943 C   0  0  0  0  0  0  0  0  0  0  0  0\n   17.4581   -4.0914   -3.3235 C   0  0  0  0  0  0  0  0  0  0  0  0\n   19.7409   -4.9759   -3.2815 C   0  0  0  0  0  0  0  0  0  0  0  0\n   16.2248   -3.8883   -2.6927 N   0  0  0  0  0  0  0  0  0  0  0  0\n   17.7753   -3.4422   -4.5343 C   0  0  0  0  0  0  0  0  0  0  0  0\n   20.0161   -4.3719   -4.5058 C   0  0  0  0  0  0  0  0  0  0  0  0\n   19.0362   -3.6058   -5.1334 C   0  0  0  0  0  0  0  0  0  0  0  0\n   15.4551   -3.5773   -3.2880 H   0  0  0  0  0  0  0  0  0  0  0  0\n   15.9898   -4.4787   -1.9033 H   0  0  0  0  0  0  0  0  0  0  0  0\n   16.7549   -2.6060   -5.2200 C   0  0  0  0  0  0  0  0  0  0  0  0\n   16.1906   -1.7087   -4.5975 O   0  0  0  0  0  0  0  0  0  0  0  0\n   16.4072   -2.8373   -6.6465 C   0  0  0  0  0  0  0  0  0  0  0  0\n   16.7373   -1.8501   -7.5827 C   0  0  0  0  0  0  0  0  0  0  0  0\n   15.7975   -4.0237   -7.0726 C   0  0  0  0  0  0  0  0  0  0  0  0\n   16.4316   -2.0347   -8.9318 C   0  0  0  0  0  0  0  0  0  0  0  0\n   15.4941   -4.2042   -8.4237 C   0  0  0  0  0  0  0  0  0  0  0  0\n   15.8069   -3.2092   -9.3503 C   0  0  0  0  0  0  0  0  0  0  0  0\n  1  2  1  0  0  0\n  2  3  2  0  0  0\n  2  4  1  0  0  0\n  3  5  1  0  0  0\n  3  6  1  0  0  0\n  4  7  2  0  0  0\n  6 11  1  0  0  0\n  6  8  2  0  0  0\n 11 12  2  0  0  0\n 11 13  1  0  0  0\n 13 14  2  0  0  0\n 13 15  1  0  0  0\n 14 16  1  0  0  0\n 15 17  2  0  0  0\n 16 18  2  0  0  0\n  7  8  1  0  0  0\n 17 18  1  0  0  0\n  5  9  1  0  0  0\n  5 10  1  0  0  0\nM  END\n> <minimizedAffinity>\n-6.57491\n\n$$$$\n12421745\n\n\n 18 19  0  0  0  0  0  0  0  0999 V2000\n   17.3439   -0.3091   -8.4864 Cl  0  0  0  0  0  0  0  0  0  0  0  0\n   17.2354   -1.7440   -7.5219 C   0  0  0  0  0  0  0  0  0  0  0  0\n   18.3577   -2.2256   -6.8208 C   0  0  0  0  0  0  0  0  0  0  0  0\n   16.0067   -2.4115   -7.4791 C   0  0  0  0  0  0  0  0  0  0  0  0\n   19.5610   -1.5098   -6.8104 N   0  0  0  0  0  0  0  0  0  0  0  0\n   18.1791   -3.3664   -6.0116 C   0  0  0  0  0  0  0  0  0  0  0  0\n   15.8666   -3.5687   -6.7172 C   0  0  0  0  0  0  0  0  0  0  0  0\n   16.9501   -4.0477   -5.9837 C   0  0  0  0  0  0  0  0  0  0  0  0\n   20.3924   -2.0218   -6.5103 H   0  0  0  0  0  0  0  0  0  0  0  0\n   19.6904   -0.7843   -7.5061 H   0  0  0  0  0  0  0  0  0  0  0  0\n   19.3128   -3.8924   -5.2061 C   0  0  0  0  0  0  0  0  0  0  0  0\n   20.4595   -3.7908   -5.6371 O   0  0  0  0  0  0  0  0  0  0  0  0\n   19.0813   -4.5383   -3.8875 C   0  0  0  0  0  0  0  0  0  0  0  0\n   18.2962   -3.8660   -2.9434 C   0  0  0  0  0  0  0  0  0  0  0  0\n   19.5954   -5.8060   -3.5883 C   0  0  0  0  0  0  0  0  0  0  0  0\n   18.0524   -4.4439   -1.6967 C   0  0  0  0  0  0  0  0  0  0  0  0\n   19.3484   -6.3805   -2.3396 C   0  0  0  0  0  0  0  0  0  0  0  0\n   18.5819   -5.6981   -1.3946 C   0  0  0  0  0  0  0  0  0  0  0  0\n  1  2  1  0  0  0\n  2  3  2  0  0  0\n  2  4  1  0  0  0\n  3  5  1  0  0  0\n  3  6  1  0  0  0\n  4  7  2  0  0  0\n  6 11  1  0  0  0\n  6  8  2  0  0  0\n 11 12  2  0  0  0\n 11 13  1  0  0  0\n 13 14  2  0  0  0\n 13 15  1  0  0  0\n 14 16  1  0  0  0\n 15 17  2  0  0  0\n 16 18  2  0  0  0\n  7  8  1  0  0  0\n 17 18  1  0  0  0\n  5  9  1  0  0  0\n  5 10  1  0  0  0\nM  END\n> <minimizedAffinity>\n-6.52966\n\n$$$$\n12421745\n\n\n 18 19  0  0  0  0  0  0  0  0999 V2000\n   16.3871   -2.3899   -9.5897 Cl  0  0  0  0  0  0  0  0  0  0  0  0\n   16.0598   -3.2202   -8.1050 C   0  0  0  0  0  0  0  0  0  0  0  0\n   16.7271   -2.8611   -6.9181 C   0  0  0  0  0  0  0  0  0  0  0  0\n   15.1287   -4.2640   -8.1314 C   0  0  0  0  0  0  0  0  0  0  0  0\n   17.6008   -1.7675   -6.8868 N   0  0  0  0  0  0  0  0  0  0  0  0\n   16.3677   -3.5432   -5.7376 C   0  0  0  0  0  0  0  0  0  0  0  0\n   14.8289   -4.9622   -6.9643 C   0  0  0  0  0  0  0  0  0  0  0  0\n   15.4465   -4.6043   -5.7678 C   0  0  0  0  0  0  0  0  0  0  0  0\n   18.2360   -1.7153   -6.0886 H   0  0  0  0  0  0  0  0  0  0  0  0\n   17.9357   -1.3991   -7.7695 H   0  0  0  0  0  0  0  0  0  0  0  0\n   16.9989   -3.1738   -4.4430 C   0  0  0  0  0  0  0  0  0  0  0  0\n   16.8391   -2.0408   -3.9936 O   0  0  0  0  0  0  0  0  0  0  0  0\n   17.8192   -4.1532   -3.6833 C   0  0  0  0  0  0  0  0  0  0  0  0\n   18.8065   -4.8712   -4.3687 C   0  0  0  0  0  0  0  0  0  0  0  0\n   17.6515   -4.3428   -2.3061 C   0  0  0  0  0  0  0  0  0  0  0  0\n   19.6000   -5.7952   -3.6875 C   0  0  0  0  0  0  0  0  0  0  0  0\n   18.4483   -5.2682   -1.6286 C   0  0  0  0  0  0  0  0  0  0  0  0\n   19.4175   -5.9958   -2.3196 C   0  0  0  0  0  0  0  0  0  0  0  0\n  1  2  1  0  0  0\n  2  3  2  0  0  0\n  2  4  1  0  0  0\n  3  5  1  0  0  0\n  3  6  1  0  0  0\n  4  7  2  0  0  0\n  6 11  1  0  0  0\n  6  8  2  0  0  0\n 11 12  2  0  0  0\n 11 13  1  0  0  0\n 13 14  2  0  0  0\n 13 15  1  0  0  0\n 14 16  1  0  0  0\n 15 17  2  0  0  0\n 16 18  2  0  0  0\n  7  8  1  0  0  0\n 17 18  1  0  0  0\n  5  9  1  0  0  0\n  5 10  1  0  0  0\nM  END\n> <minimizedAffinity>\n-6.45131\n\n$$$$\n12421745\n\n\n 18 19  0  0  0  0  0  0  0  0999 V2000\n   16.2081   -3.4189   -1.7524 Cl  0  0  0  0  0  0  0  0  0  0  0  0\n   17.0980   -3.5851   -3.2294 C   0  0  0  0  0  0  0  0  0  0  0  0\n   16.4286   -3.7095   -4.4620 C   0  0  0  0  0  0  0  0  0  0  0  0\n   18.4946   -3.6087   -3.1519 C   0  0  0  0  0  0  0  0  0  0  0  0\n   15.0340   -3.6098   -4.5365 N   0  0  0  0  0  0  0  0  0  0  0  0\n   17.2191   -3.7838   -5.6273 C   0  0  0  0  0  0  0  0  0  0  0  0\n   19.2563   -3.7388   -4.3105 C   0  0  0  0  0  0  0  0  0  0  0  0\n   18.6217   -3.8267   -5.5477 C   0  0  0  0  0  0  0  0  0  0  0  0\n   14.5981   -3.9575   -5.3923 H   0  0  0  0  0  0  0  0  0  0  0  0\n   14.5030   -3.6981   -3.6779 H   0  0  0  0  0  0  0  0  0  0  0  0\n   16.5705   -3.8638   -6.9628 C   0  0  0  0  0  0  0  0  0  0  0  0\n   16.1150   -4.9376   -7.3507 O   0  0  0  0  0  0  0  0  0  0  0  0\n   16.4635   -2.6655   -7.8357 C   0  0  0  0  0  0  0  0  0  0  0  0\n   16.9417   -1.4420   -7.3517 C   0  0  0  0  0  0  0  0  0  0  0  0\n   15.9348   -2.7424   -9.1301 C   0  0  0  0  0  0  0  0  0  0  0  0\n   16.8632   -0.2966   -8.1450 C   0  0  0  0  0  0  0  0  0  0  0  0\n   15.8588   -1.5936   -9.9205 C   0  0  0  0  0  0  0  0  0  0  0  0\n   16.3184   -0.3725   -9.4265 C   0  0  0  0  0  0  0  0  0  0  0  0\n  1  2  1  0  0  0\n  2  3  2  0  0  0\n  2  4  1  0  0  0\n  3  5  1  0  0  0\n  3  6  1  0  0  0\n  4  7  2  0  0  0\n  6 11  1  0  0  0\n  6  8  2  0  0  0\n 11 12  2  0  0  0\n 11 13  1  0  0  0\n 13 14  2  0  0  0\n 13 15  1  0  0  0\n 14 16  1  0  0  0\n 15 17  2  0  0  0\n 16 18  2  0  0  0\n  7  8  1  0  0  0\n 17 18  1  0  0  0\n  5  9  1  0  0  0\n  5 10  1  0  0  0\nM  END\n> <minimizedAffinity>\n-5.91728\n\n$$$$\n12421745\n\n\n 18 19  0  0  0  0  0  0  0  0999 V2000\n   14.1224   -1.2427   -3.7039 Cl  0  0  0  0  0  0  0  0  0  0  0  0\n   15.1721   -2.3847   -4.4751 C   0  0  0  0  0  0  0  0  0  0  0  0\n   16.4870   -2.5804   -4.0105 C   0  0  0  0  0  0  0  0  0  0  0  0\n   14.6759   -3.0872   -5.5784 C   0  0  0  0  0  0  0  0  0  0  0  0\n   16.9484   -1.9276   -2.8610 N   0  0  0  0  0  0  0  0  0  0  0  0\n   17.2638   -3.5669   -4.6520 C   0  0  0  0  0  0  0  0  0  0  0  0\n   15.4792   -4.0179   -6.2327 C   0  0  0  0  0  0  0  0  0  0  0  0\n   16.7719   -4.2589   -5.7722 C   0  0  0  0  0  0  0  0  0  0  0  0\n   17.9605   -1.9069   -2.7249 H   0  0  0  0  0  0  0  0  0  0  0  0\n   16.4191   -1.1343   -2.5182 H   0  0  0  0  0  0  0  0  0  0  0  0\n   18.6415   -3.8568   -4.1740 C   0  0  0  0  0  0  0  0  0  0  0  0\n   19.5732   -3.1472   -4.5474 O   0  0  0  0  0  0  0  0  0  0  0  0\n   18.9097   -4.9905   -3.2509 C   0  0  0  0  0  0  0  0  0  0  0  0\n   19.8841   -5.9289   -3.6114 C   0  0  0  0  0  0  0  0  0  0  0  0\n   18.2421   -5.1167   -2.0264 C   0  0  0  0  0  0  0  0  0  0  0  0\n   20.1671   -7.0036   -2.7673 C   0  0  0  0  0  0  0  0  0  0  0  0\n   18.5291   -6.1935   -1.1848 C   0  0  0  0  0  0  0  0  0  0  0  0\n   19.4868   -7.1371   -1.5573 C   0  0  0  0  0  0  0  0  0  0  0  0\n  1  2  1  0  0  0\n  2  3  2  0  0  0\n  2  4  1  0  0  0\n  3  5  1  0  0  0\n  3  6  1  0  0  0\n  4  7  2  0  0  0\n  6 11  1  0  0  0\n  6  8  2  0  0  0\n 11 12  2  0  0  0\n 11 13  1  0  0  0\n 13 14  2  0  0  0\n 13 15  1  0  0  0\n 14 16  1  0  0  0\n 15 17  2  0  0  0\n 16 18  2  0  0  0\n  7  8  1  0  0  0\n 17 18  1  0  0  0\n  5  9  1  0  0  0\n  5 10  1  0  0  0\nM  END\n> <minimizedAffinity>\n-5.85108\n\n$$$$\n",
                    "binary": false
                  }
                ],
                "kwargs": {
                  "defaultRepresentation": false,
                  "ext": "sdf"
                }
              },
              {
                "component_index": 0,
                "target": "compList",
                "type": "call_method",
                "methodName": "addRepresentation",
                "reconstruc_color_scheme": false,
                "args": [
                  "licorice"
                ],
                "kwargs": {
                  "sele": "/1",
                  "colorScheme": "partialCharge"
                }
              },
              {
                "target": "Widget",
                "type": "call_method",
                "methodName": "setSize",
                "reconstruc_color_scheme": false,
                "args": [
                  "500px",
                  ""
                ],
                "kwargs": {}
              }
            ],
            "_ngl_original_stage_parameters": {
              "impostor": true,
              "quality": "medium",
              "workerDefault": true,
              "sampleLevel": 0,
              "backgroundColor": "white",
              "rotateSpeed": 2,
              "zoomSpeed": 1.2,
              "panSpeed": 1,
              "clipNear": 0,
              "clipFar": 100,
              "clipDist": 10,
              "fogNear": 50,
              "fogFar": 100,
              "cameraFov": 40,
              "cameraEyeSep": 0.3,
              "cameraType": "perspective",
              "lightColor": 14540253,
              "lightIntensity": 1,
              "ambientColor": 14540253,
              "ambientIntensity": 0.2,
              "hoverTimeout": 0,
              "tooltip": true,
              "mousePreset": "default"
            },
            "_ngl_repr_dict": {
              "0": {
                "0": {
                  "type": "licorice",
                  "params": {
                    "lazy": false,
                    "visible": true,
                    "quality": "medium",
                    "sphereDetail": 1,
                    "radialSegments": 10,
                    "openEnded": true,
                    "disableImpostor": false,
                    "lineOnly": false,
                    "cylinderOnly": false,
                    "multipleBond": "off",
                    "bondScale": 0.4,
                    "bondSpacing": 1,
                    "linewidth": 2,
                    "radiusType": "size",
                    "radiusData": {},
                    "radiusSize": 0.15,
                    "radiusScale": 1,
                    "assembly": "default",
                    "defaultAssembly": "",
                    "clipNear": 0,
                    "clipRadius": 0,
                    "clipCenter": {
                      "x": 0,
                      "y": 0,
                      "z": 0
                    },
                    "flatShaded": false,
                    "opacity": 1,
                    "depthWrite": true,
                    "side": "double",
                    "wireframe": false,
                    "colorScheme": "partialCharge",
                    "colorScale": "",
                    "colorReverse": false,
                    "colorValue": 9474192,
                    "colorMode": "hcl",
                    "roughness": 0.4,
                    "metalness": 0,
                    "diffuse": 16777215,
                    "diffuseInterior": false,
                    "useInteriorColor": true,
                    "interiorColor": 2236962,
                    "interiorDarkening": 0,
                    "matrix": {
                      "elements": [
                        1,
                        0,
                        0,
                        0,
                        0,
                        1,
                        0,
                        0,
                        0,
                        0,
                        1,
                        0,
                        0,
                        0,
                        0,
                        1
                      ]
                    },
                    "disablePicking": false,
                    "sele": "/1"
                  }
                },
                "1": {
                  "type": "licorice",
                  "params": {
                    "lazy": false,
                    "visible": true,
                    "quality": "medium",
                    "sphereDetail": 1,
                    "radialSegments": 10,
                    "openEnded": true,
                    "disableImpostor": false,
                    "lineOnly": false,
                    "cylinderOnly": false,
                    "multipleBond": "off",
                    "bondScale": 0.4,
                    "bondSpacing": 1,
                    "linewidth": 2,
                    "radiusType": "size",
                    "radiusData": {},
                    "radiusSize": 0.15,
                    "radiusScale": 1,
                    "assembly": "default",
                    "defaultAssembly": "",
                    "clipNear": 0,
                    "clipRadius": 0,
                    "clipCenter": {
                      "x": 0,
                      "y": 0,
                      "z": 0
                    },
                    "flatShaded": false,
                    "opacity": 1,
                    "depthWrite": true,
                    "side": "double",
                    "wireframe": false,
                    "colorScheme": "partialCharge",
                    "colorScale": "",
                    "colorReverse": false,
                    "colorValue": 9474192,
                    "colorMode": "hcl",
                    "roughness": 0.4,
                    "metalness": 0,
                    "diffuse": 16777215,
                    "diffuseInterior": false,
                    "useInteriorColor": true,
                    "interiorColor": 2236962,
                    "interiorDarkening": 0,
                    "matrix": {
                      "elements": [
                        1,
                        0,
                        0,
                        0,
                        0,
                        1,
                        0,
                        0,
                        0,
                        0,
                        1,
                        0,
                        0,
                        0,
                        0,
                        1
                      ]
                    },
                    "disablePicking": false,
                    "sele": "/1"
                  }
                }
              },
              "1": {}
            },
            "_ngl_serialize": false,
            "_ngl_version": "2.0.0-dev.36",
            "_ngl_view_id": [
              "8509ABAB-4B99-4F19-A982-7B0824BE8B1F"
            ],
            "_player_dict": {},
            "_scene_position": {},
            "_scene_rotation": {},
            "_synced_model_ids": [],
            "_synced_repr_model_ids": [],
            "_view_count": null,
            "_view_height": "",
            "_view_module": "nglview-js-widgets",
            "_view_module_version": "3.0.1",
            "_view_name": "NGLView",
            "_view_width": "",
            "background": "white",
            "frame": 0,
            "gui_style": null,
            "layout": "IPY_MODEL_fbe8c9eb97c647d8b1c729b848f3e32d",
            "max_frame": 0,
            "n_components": 2,
            "picked": {}
          }
        },
        "f37e65fd6290475ab5d7f89d89899555": {
          "model_module": "@jupyter-widgets/base",
          "model_name": "LayoutModel",
          "model_module_version": "1.0.0",
          "state": {
            "_model_module": "@jupyter-widgets/base",
            "_model_module_version": "1.0.0",
            "_model_name": "LayoutModel",
            "_view_count": null,
            "_view_module": "@jupyter-widgets/base",
            "_view_module_version": "1.0.0",
            "_view_name": "LayoutView",
            "align_content": null,
            "align_items": null,
            "align_self": null,
            "border": null,
            "bottom": null,
            "display": null,
            "flex": null,
            "flex_flow": null,
            "height": null,
            "justify_content": null,
            "left": null,
            "margin": null,
            "max_height": null,
            "max_width": null,
            "min_height": null,
            "min_width": null,
            "order": null,
            "overflow": null,
            "overflow_x": null,
            "overflow_y": null,
            "padding": null,
            "right": null,
            "top": null,
            "visibility": null,
            "width": null
          }
        },
        "88ed921272d448e48852c263959c376c": {
          "model_module": "@jupyter-widgets/controls",
          "model_name": "DescriptionStyleModel",
          "model_module_version": "1.0.0",
          "state": {
            "_model_module": "@jupyter-widgets/controls",
            "_model_module_version": "1.0.0",
            "_model_name": "DescriptionStyleModel",
            "_view_count": null,
            "_view_module": "@jupyter-widgets/base",
            "_view_module_version": "1.0.0",
            "_view_name": "StyleView",
            "description_width": ""
          }
        },
        "3b9da58a954d4ab3a6c3c6b74aae3697": {
          "model_module": "@jupyter-widgets/base",
          "model_name": "LayoutModel",
          "model_module_version": "1.0.0",
          "state": {
            "_model_module": "@jupyter-widgets/base",
            "_model_module_version": "1.0.0",
            "_model_name": "LayoutModel",
            "_view_count": null,
            "_view_module": "@jupyter-widgets/base",
            "_view_module_version": "1.0.0",
            "_view_name": "LayoutView",
            "align_content": null,
            "align_items": null,
            "align_self": null,
            "border": null,
            "bottom": null,
            "display": null,
            "flex": null,
            "flex_flow": null,
            "height": null,
            "justify_content": null,
            "left": null,
            "margin": null,
            "max_height": null,
            "max_width": null,
            "min_height": null,
            "min_width": null,
            "order": null,
            "overflow": null,
            "overflow_x": null,
            "overflow_y": null,
            "padding": null,
            "right": null,
            "top": null,
            "visibility": null,
            "width": null
          }
        },
        "c64f14da864146fe8ee3b00602cb25a8": {
          "model_module": "@jupyter-widgets/controls",
          "model_name": "SliderStyleModel",
          "model_module_version": "1.0.0",
          "state": {
            "_model_module": "@jupyter-widgets/controls",
            "_model_module_version": "1.0.0",
            "_model_name": "SliderStyleModel",
            "_view_count": null,
            "_view_module": "@jupyter-widgets/base",
            "_view_module_version": "1.0.0",
            "_view_name": "StyleView",
            "description_width": "",
            "handle_color": null
          }
        },
        "f7f4fefec1f448f9be8910f04e7a8cce": {
          "model_module": "@jupyter-widgets/controls",
          "model_name": "PlayModel",
          "model_module_version": "1.0.0",
          "state": {
            "_dom_classes": [],
            "_model_module": "@jupyter-widgets/controls",
            "_model_module_version": "1.0.0",
            "_model_name": "PlayModel",
            "_playing": false,
            "_repeat": false,
            "_view_count": null,
            "_view_module": "@jupyter-widgets/controls",
            "_view_module_version": "1.0.0",
            "_view_name": "PlayView",
            "description": "",
            "disabled": false,
            "interval": 100,
            "layout": "IPY_MODEL_18bd24c3fd4f4d3cad9f0cf357479e92",
            "max": 0,
            "min": 0,
            "show_repeat": true,
            "step": 1,
            "style": "IPY_MODEL_0c0ce9ea3917479697d73052a97334aa",
            "value": 0
          }
        },
        "6ae343725902487aa4b778af19012ae5": {
          "model_module": "@jupyter-widgets/controls",
          "model_name": "IntSliderModel",
          "model_module_version": "1.0.0",
          "state": {
            "_dom_classes": [],
            "_model_module": "@jupyter-widgets/controls",
            "_model_module_version": "1.0.0",
            "_model_name": "IntSliderModel",
            "_view_count": null,
            "_view_module": "@jupyter-widgets/controls",
            "_view_module_version": "1.0.0",
            "_view_name": "IntSliderView",
            "continuous_update": true,
            "description": "",
            "disabled": false,
            "layout": "IPY_MODEL_2fcec2c0beba47139f20943fc9a9e55d",
            "max": 0,
            "min": 0,
            "orientation": "horizontal",
            "readout": true,
            "readout_format": "d",
            "step": 1,
            "style": "IPY_MODEL_61f1b984e81d4f4ba88c88ffcfe9f922",
            "value": 0
          }
        },
        "a46b5e1f949d45839d8c45868fe0296a": {
          "model_module": "nglview-js-widgets",
          "model_name": "NGLModel",
          "model_module_version": "3.0.1",
          "state": {
            "_camera_orientation": [
              9.329399208415326,
              2.5727933580847853,
              -3.9837371015476637,
              0,
              -4.430832464862431,
              7.862530703990497,
              -5.298627288719318,
              0,
              1.690310807506626,
              6.41002822248348,
              8.098240803324186,
              0,
              -17.46690034866333,
              3.2421498894691467,
              5.3953500390052795,
              1
            ],
            "_camera_str": "orthographic",
            "_dom_classes": [],
            "_gui_theme": null,
            "_ibtn_fullscreen": "IPY_MODEL_b89f9a0c224d4552828c9135db7be93f",
            "_igui": null,
            "_iplayer": "IPY_MODEL_d097cb80dc4b42feaa72df71d792c741",
            "_model_module": "nglview-js-widgets",
            "_model_module_version": "3.0.1",
            "_model_name": "NGLModel",
            "_ngl_color_dict": {},
            "_ngl_coordinate_resource": {},
            "_ngl_full_stage_parameters": {
              "impostor": true,
              "quality": "medium",
              "workerDefault": true,
              "sampleLevel": 0,
              "backgroundColor": "white",
              "rotateSpeed": 2,
              "zoomSpeed": 1.2,
              "panSpeed": 1,
              "clipNear": 0,
              "clipFar": 100,
              "clipDist": 10,
              "fogNear": 50,
              "fogFar": 100,
              "cameraFov": 40,
              "cameraEyeSep": 0.3,
              "cameraType": "perspective",
              "lightColor": 14540253,
              "lightIntensity": 1,
              "ambientColor": 14540253,
              "ambientIntensity": 0.2,
              "hoverTimeout": 0,
              "tooltip": true,
              "mousePreset": "default"
            },
            "_ngl_msg_archive": [
              {
                "target": "Stage",
                "type": "call_method",
                "methodName": "loadFile",
                "reconstruc_color_scheme": false,
                "args": [
                  {
                    "type": "blob",
                    "data": "129716650\n\n\n 18 19  0  0  0  0  0  0  0  0999 V2000\n   17.5258   -3.3694   -4.1684 C   0  0  0  0  0  0  0  0  0  0  0  0\n   18.4831   -3.5792   -3.3274 N   0  0  0  0  0  0  0  0  0  0  0  0\n   17.4239   -0.5023   -8.3442 Cl  0  0  0  0  0  0  0  0  0  0  0  0\n   17.0636   -1.9592   -7.4984 C   0  0  0  0  0  0  0  0  0  0  0  0\n   15.9344   -2.7457   -7.9435 C   0  0  0  0  0  0  0  0  0  0  0  0\n   17.8118   -2.3470   -6.4534 C   0  0  0  0  0  0  0  0  0  0  0  0\n   15.5592   -3.8626   -7.3022 C   0  0  0  0  0  0  0  0  0  0  0  0\n   17.5324   -3.6240   -5.6958 C   0  0  0  0  0  0  0  0  0  0  0  0\n   16.2787   -4.3303   -6.1415 C   0  0  0  0  0  0  0  0  0  0  0  0\n   16.2621   -2.7927   -3.5977 C   0  0  0  0  0  0  0  0  0  0  0  0\n   15.5947   -3.5021   -2.5905 C   0  0  0  0  0  0  0  0  0  0  0  0\n   15.7282   -1.5850   -4.0619 C   0  0  0  0  0  0  0  0  0  0  0  0\n   14.4172   -2.9968   -2.0373 C   0  0  0  0  0  0  0  0  0  0  0  0\n   14.5489   -1.0833   -3.5054 C   0  0  0  0  0  0  0  0  0  0  0  0\n   13.8970   -1.7866   -2.4928 C   0  0  0  0  0  0  0  0  0  0  0  0\n   19.7850   -4.1289   -3.6793 C   0  0  0  0  0  0  0  0  0  0  0  0\n   19.7561   -5.5850   -3.4689 C   0  0  0  0  0  0  0  0  0  0  0  0\n   19.7435   -6.7527   -3.3140 O   0  0  0  0  0  0  0  0  0  0  0  0\n  3  4  1  0  0  0\n  4  5  1  0  0  0\n  4  6  2  0  0  0\n  5  7  2  0  0  0\n  6  8  1  0  0  0\n  7  9  1  0  0  0\n  8  1  1  0  0  0\n  1  2  2  0  0  0\n  1 10  1  0  0  0\n  2 16  1  0  0  0\n 10 11  2  0  0  0\n 10 12  1  0  0  0\n 16 17  1  0  0  0\n 11 13  1  0  0  0\n 12 14  2  0  0  0\n 17 18  2  0  0  0\n 13 15  2  0  0  0\n  8  9  1  0  0  0\n 14 15  1  0  0  0\nM  CHG 1   9  -1\nM  CHG 1  17  -1\nM  END\n> <minimizedAffinity>\n-6.26799\n\n$$$$\n129716650\n\n\n 18 19  0  0  0  0  0  0  0  0999 V2000\n   17.4949   -3.4279   -4.0336 C   0  0  0  0  0  0  0  0  0  0  0  0\n   18.4621   -3.5994   -3.1952 N   0  0  0  0  0  0  0  0  0  0  0  0\n   17.4979   -0.6620   -8.2783 Cl  0  0  0  0  0  0  0  0  0  0  0  0\n   17.0864   -2.0845   -7.3980 C   0  0  0  0  0  0  0  0  0  0  0  0\n   15.9314   -2.8423   -7.8264 C   0  0  0  0  0  0  0  0  0  0  0  0\n   17.8193   -2.4722   -6.3422 C   0  0  0  0  0  0  0  0  0  0  0  0\n   15.5171   -3.9297   -7.1589 C   0  0  0  0  0  0  0  0  0  0  0  0\n   17.4949   -3.7199   -5.5543 C   0  0  0  0  0  0  0  0  0  0  0  0\n   16.2183   -4.3933   -5.9855 C   0  0  0  0  0  0  0  0  0  0  0  0\n   16.2251   -2.8607   -3.4673 C   0  0  0  0  0  0  0  0  0  0  0  0\n   15.7488   -1.6436   -3.9726 C   0  0  0  0  0  0  0  0  0  0  0  0\n   15.5256   -3.5028   -2.4389 C   0  0  0  0  0  0  0  0  0  0  0  0\n   14.5722   -1.0863   -3.4697 C   0  0  0  0  0  0  0  0  0  0  0  0\n   14.3484   -2.9408   -1.9384 C   0  0  0  0  0  0  0  0  0  0  0  0\n   13.8714   -1.7367   -2.4555 C   0  0  0  0  0  0  0  0  0  0  0  0\n   19.7714   -4.1337   -3.5438 C   0  0  0  0  0  0  0  0  0  0  0  0\n   19.7375   -5.5981   -3.4023 C   0  0  0  0  0  0  0  0  0  0  0  0\n   19.7259   -6.7697   -3.2813 O   0  0  0  0  0  0  0  0  0  0  0  0\n  3  4  1  0  0  0\n  4  5  1  0  0  0\n  4  6  2  0  0  0\n  5  7  2  0  0  0\n  6  8  1  0  0  0\n  7  9  1  0  0  0\n  8  1  1  0  0  0\n  1  2  2  0  0  0\n  1 10  1  0  0  0\n  2 16  1  0  0  0\n 10 11  2  0  0  0\n 10 12  1  0  0  0\n 16 17  1  0  0  0\n 11 13  1  0  0  0\n 12 14  2  0  0  0\n 17 18  2  0  0  0\n 13 15  2  0  0  0\n  8  9  1  0  0  0\n 14 15  1  0  0  0\nM  CHG 1   9  -1\nM  CHG 1  17  -1\nM  END\n> <minimizedAffinity>\n-6.21852\n\n$$$$\n129716650\n\n\n 18 19  0  0  0  0  0  0  0  0999 V2000\n   17.3854   -3.4619   -5.1902 C   0  0  0  0  0  0  0  0  0  0  0  0\n   18.4813   -4.1316   -5.0550 N   0  0  0  0  0  0  0  0  0  0  0  0\n   13.3703   -4.1473   -2.1774 Cl  0  0  0  0  0  0  0  0  0  0  0  0\n   14.4198   -3.1353   -3.0950 C   0  0  0  0  0  0  0  0  0  0  0  0\n   13.8909   -1.8917   -3.6103 C   0  0  0  0  0  0  0  0  0  0  0  0\n   15.6918   -3.4978   -3.3250 C   0  0  0  0  0  0  0  0  0  0  0  0\n   14.6306   -1.0779   -4.3784 C   0  0  0  0  0  0  0  0  0  0  0  0\n   16.6435   -2.6302   -4.1152 C   0  0  0  0  0  0  0  0  0  0  0  0\n   15.9946   -1.4098   -4.7143 C   0  0  0  0  0  0  0  0  0  0  0  0\n   16.7460   -3.5116   -6.5480 C   0  0  0  0  0  0  0  0  0  0  0  0\n   17.1982   -2.6275   -7.5364 C   0  0  0  0  0  0  0  0  0  0  0  0\n   15.7018   -4.3973   -6.8386 C   0  0  0  0  0  0  0  0  0  0  0  0\n   16.6268   -2.6450   -8.8097 C   0  0  0  0  0  0  0  0  0  0  0  0\n   15.1326   -4.4109   -8.1145 C   0  0  0  0  0  0  0  0  0  0  0  0\n   15.5969   -3.5387   -9.0986 C   0  0  0  0  0  0  0  0  0  0  0  0\n   19.2519   -4.2132   -3.8219 C   0  0  0  0  0  0  0  0  0  0  0  0\n   19.5727   -5.6248   -3.5574 C   0  0  0  0  0  0  0  0  0  0  0  0\n   19.8287   -6.7579   -3.3625 O   0  0  0  0  0  0  0  0  0  0  0  0\n  3  4  1  0  0  0\n  4  5  1  0  0  0\n  4  6  2  0  0  0\n  5  7  2  0  0  0\n  6  8  1  0  0  0\n  7  9  1  0  0  0\n  8  1  1  0  0  0\n  1  2  2  0  0  0\n  1 10  1  0  0  0\n  2 16  1  0  0  0\n 10 11  2  0  0  0\n 10 12  1  0  0  0\n 16 17  1  0  0  0\n 11 13  1  0  0  0\n 12 14  2  0  0  0\n 17 18  2  0  0  0\n 13 15  2  0  0  0\n  8  9  1  0  0  0\n 14 15  1  0  0  0\nM  CHG 1   9  -1\nM  CHG 1  17  -1\nM  END\n> <minimizedAffinity>\n-6.10948\n\n$$$$\n129716650\n\n\n 18 19  0  0  0  0  0  0  0  0999 V2000\n   15.6382   -3.4230   -4.7574 C   0  0  0  0  0  0  0  0  0  0  0  0\n   14.3986   -3.2206   -4.4571 N   0  0  0  0  0  0  0  0  0  0  0  0\n   18.7997   -2.2011   -0.9918 Cl  0  0  0  0  0  0  0  0  0  0  0  0\n   18.3900   -3.1292   -2.3840 C   0  0  0  0  0  0  0  0  0  0  0  0\n   19.4660   -3.6655   -3.1880 C   0  0  0  0  0  0  0  0  0  0  0  0\n   17.1055   -3.3428   -2.7106 C   0  0  0  0  0  0  0  0  0  0  0  0\n   19.2263   -4.3514   -4.3157 C   0  0  0  0  0  0  0  0  0  0  0  0\n   16.7092   -4.1612   -3.9172 C   0  0  0  0  0  0  0  0  0  0  0  0\n   17.8764   -4.5903   -4.7675 C   0  0  0  0  0  0  0  0  0  0  0  0\n   16.0987   -2.8588   -6.0706 C   0  0  0  0  0  0  0  0  0  0  0  0\n   15.8308   -3.5788   -7.2423 C   0  0  0  0  0  0  0  0  0  0  0  0\n   16.8039   -1.6521   -6.1473 C   0  0  0  0  0  0  0  0  0  0  0  0\n   16.2444   -3.0851   -8.4806 C   0  0  0  0  0  0  0  0  0  0  0  0\n   17.2163   -1.1621   -7.3890 C   0  0  0  0  0  0  0  0  0  0  0  0\n   16.9338   -1.8760   -8.5533 C   0  0  0  0  0  0  0  0  0  0  0  0\n   13.7599   -3.6830   -3.2327 C   0  0  0  0  0  0  0  0  0  0  0  0\n   13.5320   -2.5262   -2.3522 C   0  0  0  0  0  0  0  0  0  0  0  0\n   13.3659   -1.5950   -1.6501 O   0  0  0  0  0  0  0  0  0  0  0  0\n  3  4  1  0  0  0\n  4  5  1  0  0  0\n  4  6  2  0  0  0\n  5  7  2  0  0  0\n  6  8  1  0  0  0\n  7  9  1  0  0  0\n  8  1  1  0  0  0\n  1  2  2  0  0  0\n  1 10  1  0  0  0\n  2 16  1  0  0  0\n 10 11  2  0  0  0\n 10 12  1  0  0  0\n 16 17  1  0  0  0\n 11 13  1  0  0  0\n 12 14  2  0  0  0\n 17 18  2  0  0  0\n 13 15  2  0  0  0\n  8  9  1  0  0  0\n 14 15  1  0  0  0\nM  CHG 1   9  -1\nM  CHG 1  17  -1\nM  END\n> <minimizedAffinity>\n-5.98422\n\n$$$$\n129716650\n\n\n 18 19  0  0  0  0  0  0  0  0999 V2000\n   17.1686   -3.4894   -6.2429 C   0  0  0  0  0  0  0  0  0  0  0  0\n   17.8460   -2.5070   -6.7364 N   0  0  0  0  0  0  0  0  0  0  0  0\n   18.1572   -2.4615   -1.3814 Cl  0  0  0  0  0  0  0  0  0  0  0  0\n   18.3270   -3.4438   -2.7864 C   0  0  0  0  0  0  0  0  0  0  0  0\n   19.5224   -4.2472   -2.9174 C   0  0  0  0  0  0  0  0  0  0  0  0\n   17.3740   -3.4566   -3.7318 C   0  0  0  0  0  0  0  0  0  0  0  0\n   19.7508   -4.9950   -4.0074 C   0  0  0  0  0  0  0  0  0  0  0  0\n   17.4838   -4.3143   -4.9708 C   0  0  0  0  0  0  0  0  0  0  0  0\n   18.8013   -5.0342   -5.0940 C   0  0  0  0  0  0  0  0  0  0  0  0\n   15.9383   -3.8900   -7.0050 C   0  0  0  0  0  0  0  0  0  0  0  0\n   15.9105   -3.6867   -8.3910 C   0  0  0  0  0  0  0  0  0  0  0  0\n   14.8197   -4.4352   -6.3642 C   0  0  0  0  0  0  0  0  0  0  0  0\n   14.7834   -4.0464   -9.1315 C   0  0  0  0  0  0  0  0  0  0  0  0\n   13.6935   -4.7933   -7.1096 C   0  0  0  0  0  0  0  0  0  0  0  0\n   13.6774   -4.6022   -8.4909 C   0  0  0  0  0  0  0  0  0  0  0  0\n   19.0668   -1.9700   -6.1514 C   0  0  0  0  0  0  0  0  0  0  0  0\n   20.2134   -2.4119   -6.9611 C   0  0  0  0  0  0  0  0  0  0  0  0\n   21.1414   -2.7547   -7.6006 O   0  0  0  0  0  0  0  0  0  0  0  0\n  3  4  1  0  0  0\n  4  5  1  0  0  0\n  4  6  2  0  0  0\n  5  7  2  0  0  0\n  6  8  1  0  0  0\n  7  9  1  0  0  0\n  8  1  1  0  0  0\n  1  2  2  0  0  0\n  1 10  1  0  0  0\n  2 16  1  0  0  0\n 10 11  2  0  0  0\n 10 12  1  0  0  0\n 16 17  1  0  0  0\n 11 13  1  0  0  0\n 12 14  2  0  0  0\n 17 18  2  0  0  0\n 13 15  2  0  0  0\n  8  9  1  0  0  0\n 14 15  1  0  0  0\nM  CHG 1   9  -1\nM  CHG 1  17  -1\nM  END\n> <minimizedAffinity>\n-5.70625\n\n$$$$\n129716650\n\n\n 18 19  0  0  0  0  0  0  0  0999 V2000\n   16.0377   -3.6183   -5.4021 C   0  0  0  0  0  0  0  0  0  0  0  0\n   14.8013   -3.4189   -5.0868 N   0  0  0  0  0  0  0  0  0  0  0  0\n   17.0650    0.0119   -8.7835 Cl  0  0  0  0  0  0  0  0  0  0  0  0\n   16.6640   -1.6148   -8.3829 C   0  0  0  0  0  0  0  0  0  0  0  0\n   15.9505   -2.4034   -9.3631 C   0  0  0  0  0  0  0  0  0  0  0  0\n   17.0041   -2.1300   -7.1908 C   0  0  0  0  0  0  0  0  0  0  0  0\n   15.5563   -3.6590   -9.1032 C   0  0  0  0  0  0  0  0  0  0  0  0\n   16.6794   -3.5556   -6.8100 C   0  0  0  0  0  0  0  0  0  0  0  0\n   15.8394   -4.2784   -7.8305 C   0  0  0  0  0  0  0  0  0  0  0  0\n   16.9580   -3.9707   -4.2691 C   0  0  0  0  0  0  0  0  0  0  0  0\n   18.1813   -4.5869   -4.5639 C   0  0  0  0  0  0  0  0  0  0  0  0\n   16.6139   -3.7210   -2.9355 C   0  0  0  0  0  0  0  0  0  0  0  0\n   19.0614   -4.9292   -3.5361 C   0  0  0  0  0  0  0  0  0  0  0  0\n   17.4979   -4.0658   -1.9100 C   0  0  0  0  0  0  0  0  0  0  0  0\n   18.7205   -4.6655   -2.2106 C   0  0  0  0  0  0  0  0  0  0  0  0\n   13.7533   -3.0706   -6.0362 C   0  0  0  0  0  0  0  0  0  0  0  0\n   13.6114   -1.6062   -6.0678 C   0  0  0  0  0  0  0  0  0  0  0  0\n   13.4940   -0.4349   -6.1099 O   0  0  0  0  0  0  0  0  0  0  0  0\n  3  4  1  0  0  0\n  4  5  1  0  0  0\n  4  6  2  0  0  0\n  5  7  2  0  0  0\n  6  8  1  0  0  0\n  7  9  1  0  0  0\n  8  1  1  0  0  0\n  1  2  2  0  0  0\n  1 10  1  0  0  0\n  2 16  1  0  0  0\n 10 11  2  0  0  0\n 10 12  1  0  0  0\n 16 17  1  0  0  0\n 11 13  1  0  0  0\n 12 14  2  0  0  0\n 17 18  2  0  0  0\n 13 15  2  0  0  0\n  8  9  1  0  0  0\n 14 15  1  0  0  0\nM  CHG 1   9  -1\nM  CHG 1  17  -1\nM  END\n> <minimizedAffinity>\n-5.67799\n\n$$$$\n129716650\n\n\n 18 19  0  0  0  0  0  0  0  0999 V2000\n   17.3283   -2.8754   -5.5521 C   0  0  0  0  0  0  0  0  0  0  0  0\n   17.5435   -2.1818   -6.6199 N   0  0  0  0  0  0  0  0  0  0  0  0\n   19.8657   -6.5435   -3.1491 Cl  0  0  0  0  0  0  0  0  0  0  0  0\n   18.9949   -5.0571   -3.1534 C   0  0  0  0  0  0  0  0  0  0  0  0\n   18.3016   -4.6685   -1.9450 C   0  0  0  0  0  0  0  0  0  0  0  0\n   18.9615   -4.2865   -4.2521 C   0  0  0  0  0  0  0  0  0  0  0  0\n   17.5584   -3.5531   -1.8888 C   0  0  0  0  0  0  0  0  0  0  0  0\n   18.2180   -2.9717   -4.2884 C   0  0  0  0  0  0  0  0  0  0  0  0\n   17.4291   -2.6876   -3.0368 C   0  0  0  0  0  0  0  0  0  0  0  0\n   16.0736   -3.7005   -5.5441 C   0  0  0  0  0  0  0  0  0  0  0  0\n   15.1131   -3.4533   -4.5544 C   0  0  0  0  0  0  0  0  0  0  0  0\n   15.8548   -4.7176   -6.4804 C   0  0  0  0  0  0  0  0  0  0  0  0\n   13.9353   -4.2012   -4.5159 C   0  0  0  0  0  0  0  0  0  0  0  0\n   14.6745   -5.4640   -6.4376 C   0  0  0  0  0  0  0  0  0  0  0  0\n   13.7155   -5.2034   -5.4592 C   0  0  0  0  0  0  0  0  0  0  0  0\n   18.7001   -1.3211   -6.8258 C   0  0  0  0  0  0  0  0  0  0  0  0\n   19.8784   -2.1652   -7.0801 C   0  0  0  0  0  0  0  0  0  0  0  0\n   20.8316   -2.8269   -7.2831 O   0  0  0  0  0  0  0  0  0  0  0  0\n  3  4  1  0  0  0\n  4  5  1  0  0  0\n  4  6  2  0  0  0\n  5  7  2  0  0  0\n  6  8  1  0  0  0\n  7  9  1  0  0  0\n  8  1  1  0  0  0\n  1  2  2  0  0  0\n  1 10  1  0  0  0\n  2 16  1  0  0  0\n 10 11  2  0  0  0\n 10 12  1  0  0  0\n 16 17  1  0  0  0\n 11 13  1  0  0  0\n 12 14  2  0  0  0\n 17 18  2  0  0  0\n 13 15  2  0  0  0\n  8  9  1  0  0  0\n 14 15  1  0  0  0\nM  CHG 1   9  -1\nM  CHG 1  17  -1\nM  END\n> <minimizedAffinity>\n-5.59522\n\n$$$$\n129716650\n\n\n 18 19  0  0  0  0  0  0  0  0999 V2000\n   16.8107   -3.3039   -4.6677 C   0  0  0  0  0  0  0  0  0  0  0  0\n   18.0022   -3.2427   -4.1734 N   0  0  0  0  0  0  0  0  0  0  0  0\n   14.9522   -1.3397   -8.9521 Cl  0  0  0  0  0  0  0  0  0  0  0  0\n   15.1153   -2.6318   -7.8245 C   0  0  0  0  0  0  0  0  0  0  0  0\n   14.0486   -3.6051   -7.7424 C   0  0  0  0  0  0  0  0  0  0  0  0\n   16.2033   -2.7257   -7.0437 C   0  0  0  0  0  0  0  0  0  0  0  0\n   14.0788   -4.6075   -6.8515 C   0  0  0  0  0  0  0  0  0  0  0  0\n   16.3854   -3.8513   -6.0524 C   0  0  0  0  0  0  0  0  0  0  0  0\n   15.1888   -4.7596   -5.9413 C   0  0  0  0  0  0  0  0  0  0  0  0\n   15.7096   -2.7624   -3.8021 C   0  0  0  0  0  0  0  0  0  0  0  0\n   15.0692   -1.5786   -4.1915 C   0  0  0  0  0  0  0  0  0  0  0  0\n   15.3282   -3.3954   -2.6134 C   0  0  0  0  0  0  0  0  0  0  0  0\n   14.0420   -1.0459   -3.4110 C   0  0  0  0  0  0  0  0  0  0  0  0\n   14.2997   -2.8582   -1.8352 C   0  0  0  0  0  0  0  0  0  0  0  0\n   13.6560   -1.6877   -2.2355 C   0  0  0  0  0  0  0  0  0  0  0  0\n   19.2025   -3.7109   -4.8524 C   0  0  0  0  0  0  0  0  0  0  0  0\n   19.6049   -2.7053   -5.8486 C   0  0  0  0  0  0  0  0  0  0  0  0\n   19.9430   -1.9004   -6.6394 O   0  0  0  0  0  0  0  0  0  0  0  0\n  3  4  1  0  0  0\n  4  5  1  0  0  0\n  4  6  2  0  0  0\n  5  7  2  0  0  0\n  6  8  1  0  0  0\n  7  9  1  0  0  0\n  8  1  1  0  0  0\n  1  2  2  0  0  0\n  1 10  1  0  0  0\n  2 16  1  0  0  0\n 10 11  2  0  0  0\n 10 12  1  0  0  0\n 16 17  1  0  0  0\n 11 13  1  0  0  0\n 12 14  2  0  0  0\n 17 18  2  0  0  0\n 13 15  2  0  0  0\n  8  9  1  0  0  0\n 14 15  1  0  0  0\nM  CHG 1   9  -1\nM  CHG 1  17  -1\nM  END\n> <minimizedAffinity>\n-5.53865\n\n$$$$\n129817097\n\n\n 18 19  0  0  0  0  0  0  0  0999 V2000\n   17.5257   -3.3667   -4.1868 C   0  0  0  0  0  0  0  0  0  0  0  0\n   18.5057   -3.5781   -3.3709 N   0  0  0  0  0  0  0  0  0  0  0  0\n   17.4167   -0.4892   -8.3441 Cl  0  0  0  0  0  0  0  0  0  0  0  0\n   17.0324   -1.9359   -7.4917 C   0  0  0  0  0  0  0  0  0  0  0  0\n   15.8588   -2.6763   -7.8983 C   0  0  0  0  0  0  0  0  0  0  0  0\n   17.8047   -2.3595   -6.4791 C   0  0  0  0  0  0  0  0  0  0  0  0\n   15.4714   -3.7889   -7.2567 C   0  0  0  0  0  0  0  0  0  0  0  0\n   17.5036   -3.6254   -5.7137 C   0  0  0  0  0  0  0  0  0  0  0  0\n   16.2177   -4.2940   -6.1293 C   0  0  0  0  0  0  0  0  0  0  0  0\n   16.2757   -2.7903   -3.5874 C   0  0  0  0  0  0  0  0  0  0  0  0\n   15.6627   -3.4705   -2.5267 C   0  0  0  0  0  0  0  0  0  0  0  0\n   15.6975   -1.6141   -4.0792 C   0  0  0  0  0  0  0  0  0  0  0  0\n   14.4985   -2.9645   -1.9463 C   0  0  0  0  0  0  0  0  0  0  0  0\n   14.5321   -1.1113   -3.4950 C   0  0  0  0  0  0  0  0  0  0  0  0\n   13.9366   -1.7833   -2.4280 C   0  0  0  0  0  0  0  0  0  0  0  0\n   19.7777   -4.1443   -3.7978 C   0  0  0  0  0  0  0  0  0  0  0  0\n   19.7295   -5.5904   -3.5121 C   0  0  0  0  0  0  0  0  0  0  0  0\n   19.7135   -6.7493   -3.3020 O   0  0  0  0  0  0  0  0  0  0  0  0\n  3  4  1  0  0  0\n  4  5  1  0  0  0\n  4  6  2  0  0  0\n  5  7  2  0  0  0\n  6  8  1  0  0  0\n  7  9  1  0  0  0\n  8  1  1  0  0  0\n  1  2  2  0  0  0\n  1 10  1  0  0  0\n  2 16  1  0  0  0\n 10 11  2  0  0  0\n 10 12  1  0  0  0\n 16 17  1  0  0  0\n 11 13  1  0  0  0\n 12 14  2  0  0  0\n 17 18  2  0  0  0\n 13 15  2  0  0  0\n  8  9  1  0  0  0\n 14 15  1  0  0  0\nM  CHG 1   9  -1\nM  CHG 1  17  -1\nM  END\n> <minimizedAffinity>\n-6.28345\n\n$$$$\n129817097\n\n\n 18 19  0  0  0  0  0  0  0  0999 V2000\n   17.5061   -3.3874   -4.1649 C   0  0  0  0  0  0  0  0  0  0  0  0\n   18.4850   -3.5769   -3.3424 N   0  0  0  0  0  0  0  0  0  0  0  0\n   17.4248   -0.5073   -8.3211 Cl  0  0  0  0  0  0  0  0  0  0  0  0\n   17.0391   -1.9566   -7.4736 C   0  0  0  0  0  0  0  0  0  0  0  0\n   15.8733   -2.7025   -7.8926 C   0  0  0  0  0  0  0  0  0  0  0  0\n   17.8032   -2.3771   -6.4536 C   0  0  0  0  0  0  0  0  0  0  0  0\n   15.4850   -3.8176   -7.2557 C   0  0  0  0  0  0  0  0  0  0  0  0\n   17.5007   -3.6451   -5.6922 C   0  0  0  0  0  0  0  0  0  0  0  0\n   16.2224   -4.3198   -6.1212 C   0  0  0  0  0  0  0  0  0  0  0  0\n   16.2389   -2.8408   -3.5739 C   0  0  0  0  0  0  0  0  0  0  0  0\n   15.7632   -1.6039   -4.0290 C   0  0  0  0  0  0  0  0  0  0  0  0\n   15.5434   -3.5195   -2.5663 C   0  0  0  0  0  0  0  0  0  0  0  0\n   14.5891   -1.0646   -3.5008 C   0  0  0  0  0  0  0  0  0  0  0  0\n   14.3685   -2.9759   -2.0405 C   0  0  0  0  0  0  0  0  0  0  0  0\n   13.8905   -1.7529   -2.5103 C   0  0  0  0  0  0  0  0  0  0  0  0\n   19.7727   -4.1131   -3.7608 C   0  0  0  0  0  0  0  0  0  0  0  0\n   19.7388   -5.5677   -3.5200 C   0  0  0  0  0  0  0  0  0  0  0  0\n   19.7390   -6.7281   -3.3177 O   0  0  0  0  0  0  0  0  0  0  0  0\n  3  4  1  0  0  0\n  4  5  1  0  0  0\n  4  6  2  0  0  0\n  5  7  2  0  0  0\n  6  8  1  0  0  0\n  7  9  1  0  0  0\n  8  1  1  0  0  0\n  1  2  2  0  0  0\n  1 10  1  0  0  0\n  2 16  1  0  0  0\n 10 11  2  0  0  0\n 10 12  1  0  0  0\n 16 17  1  0  0  0\n 11 13  1  0  0  0\n 12 14  2  0  0  0\n 17 18  2  0  0  0\n 13 15  2  0  0  0\n  8  9  1  0  0  0\n 14 15  1  0  0  0\nM  CHG 1   9  -1\nM  CHG 1  17  -1\nM  END\n> <minimizedAffinity>\n-6.24131\n\n$$$$\n129817097\n\n\n 18 19  0  0  0  0  0  0  0  0999 V2000\n   17.3464   -3.4087   -5.4365 C   0  0  0  0  0  0  0  0  0  0  0  0\n   18.4720   -4.0360   -5.3354 N   0  0  0  0  0  0  0  0  0  0  0  0\n   13.3666   -4.1660   -2.4094 Cl  0  0  0  0  0  0  0  0  0  0  0  0\n   14.4041   -3.1352   -3.3197 C   0  0  0  0  0  0  0  0  0  0  0  0\n   13.8596   -1.8962   -3.8288 C   0  0  0  0  0  0  0  0  0  0  0  0\n   15.6817   -3.4778   -3.5468 C   0  0  0  0  0  0  0  0  0  0  0  0\n   14.5928   -1.0617   -4.5809 C   0  0  0  0  0  0  0  0  0  0  0  0\n   16.6221   -2.5972   -4.3338 C   0  0  0  0  0  0  0  0  0  0  0  0\n   15.9635   -1.3701   -4.9113 C   0  0  0  0  0  0  0  0  0  0  0  0\n   16.6579   -3.4912   -6.7681 C   0  0  0  0  0  0  0  0  0  0  0  0\n   17.0816   -2.6411   -7.7983 C   0  0  0  0  0  0  0  0  0  0  0  0\n   15.5921   -4.3703   -6.9931 C   0  0  0  0  0  0  0  0  0  0  0  0\n   16.4633   -2.6894   -9.0488 C   0  0  0  0  0  0  0  0  0  0  0  0\n   14.9761   -4.4153   -8.2465 C   0  0  0  0  0  0  0  0  0  0  0  0\n   15.4141   -3.5792   -9.2731 C   0  0  0  0  0  0  0  0  0  0  0  0\n   19.2646   -4.0397   -4.1137 C   0  0  0  0  0  0  0  0  0  0  0  0\n   19.5601   -5.4478   -3.7894 C   0  0  0  0  0  0  0  0  0  0  0  0\n   19.8082   -6.5755   -3.5567 O   0  0  0  0  0  0  0  0  0  0  0  0\n  3  4  1  0  0  0\n  4  5  1  0  0  0\n  4  6  2  0  0  0\n  5  7  2  0  0  0\n  6  8  1  0  0  0\n  7  9  1  0  0  0\n  8  1  1  0  0  0\n  1  2  2  0  0  0\n  1 10  1  0  0  0\n  2 16  1  0  0  0\n 10 11  2  0  0  0\n 10 12  1  0  0  0\n 16 17  1  0  0  0\n 11 13  1  0  0  0\n 12 14  2  0  0  0\n 17 18  2  0  0  0\n 13 15  2  0  0  0\n  8  9  1  0  0  0\n 14 15  1  0  0  0\nM  CHG 1   9  -1\nM  CHG 1  17  -1\nM  END\n> <minimizedAffinity>\n-6.09064\n\n$$$$\n129817097\n\n\n 18 19  0  0  0  0  0  0  0  0999 V2000\n   16.4931   -3.7212   -4.4609 C   0  0  0  0  0  0  0  0  0  0  0  0\n   17.6605   -3.6477   -3.9111 N   0  0  0  0  0  0  0  0  0  0  0  0\n   15.9626   -2.7167   -9.3889 Cl  0  0  0  0  0  0  0  0  0  0  0  0\n   15.5389   -3.5903   -7.9659 C   0  0  0  0  0  0  0  0  0  0  0  0\n   14.1995   -4.1264   -7.8676 C   0  0  0  0  0  0  0  0  0  0  0  0\n   16.4314   -3.7656   -6.9791 C   0  0  0  0  0  0  0  0  0  0  0  0\n   13.7823   -4.7816   -6.7739 C   0  0  0  0  0  0  0  0  0  0  0  0\n   16.0987   -4.5309   -5.7210 C   0  0  0  0  0  0  0  0  0  0  0  0\n   14.6612   -4.9795   -5.6463 C   0  0  0  0  0  0  0  0  0  0  0  0\n   15.4026   -2.9179   -3.8131 C   0  0  0  0  0  0  0  0  0  0  0  0\n   14.9544   -3.2954   -2.5403 C   0  0  0  0  0  0  0  0  0  0  0  0\n   14.8086   -1.8271   -4.4587 C   0  0  0  0  0  0  0  0  0  0  0  0\n   13.9412   -2.5723   -1.9087 C   0  0  0  0  0  0  0  0  0  0  0  0\n   13.7947   -1.1061   -3.8226 C   0  0  0  0  0  0  0  0  0  0  0  0\n   13.3653   -1.4760   -2.5484 C   0  0  0  0  0  0  0  0  0  0  0  0\n   18.8155   -4.3780   -4.4145 C   0  0  0  0  0  0  0  0  0  0  0  0\n   19.5740   -3.4536   -5.2779 C   0  0  0  0  0  0  0  0  0  0  0  0\n   20.1559   -2.7115   -5.9837 O   0  0  0  0  0  0  0  0  0  0  0  0\n  3  4  1  0  0  0\n  4  5  1  0  0  0\n  4  6  2  0  0  0\n  5  7  2  0  0  0\n  6  8  1  0  0  0\n  7  9  1  0  0  0\n  8  1  1  0  0  0\n  1  2  2  0  0  0\n  1 10  1  0  0  0\n  2 16  1  0  0  0\n 10 11  2  0  0  0\n 10 12  1  0  0  0\n 16 17  1  0  0  0\n 11 13  1  0  0  0\n 12 14  2  0  0  0\n 17 18  2  0  0  0\n 13 15  2  0  0  0\n  8  9  1  0  0  0\n 14 15  1  0  0  0\nM  CHG 1   9  -1\nM  CHG 1  17  -1\nM  END\n> <minimizedAffinity>\n-6.07599\n\n$$$$\n129817097\n\n\n 18 19  0  0  0  0  0  0  0  0999 V2000\n   17.2848   -2.7996   -5.5919 C   0  0  0  0  0  0  0  0  0  0  0  0\n   18.0778   -2.1182   -6.3519 N   0  0  0  0  0  0  0  0  0  0  0  0\n   13.5814   -1.2549   -2.5139 Cl  0  0  0  0  0  0  0  0  0  0  0  0\n   14.2118   -2.3223   -3.7101 C   0  0  0  0  0  0  0  0  0  0  0  0\n   13.6852   -3.6677   -3.7699 C   0  0  0  0  0  0  0  0  0  0  0  0\n   15.1650   -1.9110   -4.5605 C   0  0  0  0  0  0  0  0  0  0  0  0\n   14.1547   -4.5688   -4.6457 C   0  0  0  0  0  0  0  0  0  0  0  0\n   15.7364   -2.8153   -5.6258 C   0  0  0  0  0  0  0  0  0  0  0  0\n   15.2095   -4.2269   -5.5696 C   0  0  0  0  0  0  0  0  0  0  0  0\n   17.9402   -3.6588   -4.5496 C   0  0  0  0  0  0  0  0  0  0  0  0\n   18.8053   -4.6794   -4.9659 C   0  0  0  0  0  0  0  0  0  0  0  0\n   17.6861   -3.4833   -3.1843 C   0  0  0  0  0  0  0  0  0  0  0  0\n   19.4308   -5.4984   -4.0244 C   0  0  0  0  0  0  0  0  0  0  0  0\n   18.3146   -4.3055   -2.2454 C   0  0  0  0  0  0  0  0  0  0  0  0\n   19.1883   -5.3081   -2.6651 C   0  0  0  0  0  0  0  0  0  0  0  0\n   17.5949   -1.2496   -7.4163 C   0  0  0  0  0  0  0  0  0  0  0  0\n   17.0710   -2.1197   -8.4858 C   0  0  0  0  0  0  0  0  0  0  0  0\n   16.6284   -2.8187   -9.3242 O   0  0  0  0  0  0  0  0  0  0  0  0\n  3  4  1  0  0  0\n  4  5  1  0  0  0\n  4  6  2  0  0  0\n  5  7  2  0  0  0\n  6  8  1  0  0  0\n  7  9  1  0  0  0\n  8  1  1  0  0  0\n  1  2  2  0  0  0\n  1 10  1  0  0  0\n  2 16  1  0  0  0\n 10 11  2  0  0  0\n 10 12  1  0  0  0\n 16 17  1  0  0  0\n 11 13  1  0  0  0\n 12 14  2  0  0  0\n 17 18  2  0  0  0\n 13 15  2  0  0  0\n  8  9  1  0  0  0\n 14 15  1  0  0  0\nM  CHG 1   9  -1\nM  CHG 1  17  -1\nM  END\n> <minimizedAffinity>\n-5.90128\n\n$$$$\n129817097\n\n\n 18 19  0  0  0  0  0  0  0  0999 V2000\n   15.8573   -3.2708   -4.1810 C   0  0  0  0  0  0  0  0  0  0  0  0\n   15.0837   -3.6291   -3.2094 N   0  0  0  0  0  0  0  0  0  0  0  0\n   15.2488   -4.2142   -9.1120 Cl  0  0  0  0  0  0  0  0  0  0  0  0\n   15.6707   -3.1685   -7.8097 C   0  0  0  0  0  0  0  0  0  0  0  0\n   16.6182   -2.1068   -8.0664 C   0  0  0  0  0  0  0  0  0  0  0  0\n   15.1316   -3.3393   -6.5926 C   0  0  0  0  0  0  0  0  0  0  0  0\n   17.0276   -1.2786   -7.0938 C   0  0  0  0  0  0  0  0  0  0  0  0\n   15.4718   -2.4390   -5.4294 C   0  0  0  0  0  0  0  0  0  0  0  0\n   16.5330   -1.4155   -5.7448 C   0  0  0  0  0  0  0  0  0  0  0  0\n   17.2850   -3.7272   -4.0955 C   0  0  0  0  0  0  0  0  0  0  0  0\n   18.0515   -3.3354   -2.9899 C   0  0  0  0  0  0  0  0  0  0  0  0\n   17.8712   -4.5047   -5.1013 C   0  0  0  0  0  0  0  0  0  0  0  0\n   19.3827   -3.7400   -2.8785 C   0  0  0  0  0  0  0  0  0  0  0  0\n   19.2041   -4.9074   -4.9854 C   0  0  0  0  0  0  0  0  0  0  0  0\n   19.9566   -4.5291   -3.8739 C   0  0  0  0  0  0  0  0  0  0  0  0\n   13.6781   -3.2542   -3.1426 C   0  0  0  0  0  0  0  0  0  0  0  0\n   13.4936   -2.4714   -1.9063 C   0  0  0  0  0  0  0  0  0  0  0  0\n   13.3653   -1.8267   -0.9289 O   0  0  0  0  0  0  0  0  0  0  0  0\n  3  4  1  0  0  0\n  4  5  1  0  0  0\n  4  6  2  0  0  0\n  5  7  2  0  0  0\n  6  8  1  0  0  0\n  7  9  1  0  0  0\n  8  1  1  0  0  0\n  1  2  2  0  0  0\n  1 10  1  0  0  0\n  2 16  1  0  0  0\n 10 11  2  0  0  0\n 10 12  1  0  0  0\n 16 17  1  0  0  0\n 11 13  1  0  0  0\n 12 14  2  0  0  0\n 17 18  2  0  0  0\n 13 15  2  0  0  0\n  8  9  1  0  0  0\n 14 15  1  0  0  0\nM  CHG 1   9  -1\nM  CHG 1  17  -1\nM  END\n> <minimizedAffinity>\n-5.88681\n\n$$$$\n129817097\n\n\n 18 19  0  0  0  0  0  0  0  0999 V2000\n   18.6021   -3.5993   -4.8092 C   0  0  0  0  0  0  0  0  0  0  0  0\n   19.7265   -3.1716   -5.2820 N   0  0  0  0  0  0  0  0  0  0  0  0\n   14.3564   -1.8862   -2.6610 Cl  0  0  0  0  0  0  0  0  0  0  0  0\n   15.1844   -2.8017   -3.8625 C   0  0  0  0  0  0  0  0  0  0  0  0\n   14.5059   -3.9398   -4.4415 C   0  0  0  0  0  0  0  0  0  0  0  0\n   16.4249   -2.4631   -4.2469 C   0  0  0  0  0  0  0  0  0  0  0  0\n   15.1006   -4.7255   -5.3516 C   0  0  0  0  0  0  0  0  0  0  0  0\n   17.1789   -3.2370   -5.3014 C   0  0  0  0  0  0  0  0  0  0  0  0\n   16.4494   -4.4618   -5.7923 C   0  0  0  0  0  0  0  0  0  0  0  0\n   18.6875   -4.5394   -3.6418 C   0  0  0  0  0  0  0  0  0  0  0  0\n   19.4640   -5.6990   -3.7673 C   0  0  0  0  0  0  0  0  0  0  0  0\n   17.9914   -4.3002   -2.4511 C   0  0  0  0  0  0  0  0  0  0  0  0\n   19.5649   -6.5961   -2.7027 C   0  0  0  0  0  0  0  0  0  0  0  0\n   18.0954   -5.2011   -1.3880 C   0  0  0  0  0  0  0  0  0  0  0  0\n   18.8841   -6.3444   -1.5128 C   0  0  0  0  0  0  0  0  0  0  0  0\n   19.8092   -2.2657   -6.4191 C   0  0  0  0  0  0  0  0  0  0  0  0\n   20.9060   -2.7455   -7.2806 C   0  0  0  0  0  0  0  0  0  0  0  0\n   21.7659   -3.1520   -7.9754 O   0  0  0  0  0  0  0  0  0  0  0  0\n  3  4  1  0  0  0\n  4  5  1  0  0  0\n  4  6  2  0  0  0\n  5  7  2  0  0  0\n  6  8  1  0  0  0\n  7  9  1  0  0  0\n  8  1  1  0  0  0\n  1  2  2  0  0  0\n  1 10  1  0  0  0\n  2 16  1  0  0  0\n 10 11  2  0  0  0\n 10 12  1  0  0  0\n 16 17  1  0  0  0\n 11 13  1  0  0  0\n 12 14  2  0  0  0\n 17 18  2  0  0  0\n 13 15  2  0  0  0\n  8  9  1  0  0  0\n 14 15  1  0  0  0\nM  CHG 1   9  -1\nM  CHG 1  17  -1\nM  END\n> <minimizedAffinity>\n-5.71780\n\n$$$$\n129817097\n\n\n 18 19  0  0  0  0  0  0  0  0999 V2000\n   15.6931   -2.6765   -6.1252 C   0  0  0  0  0  0  0  0  0  0  0  0\n   14.7620   -2.1371   -6.8413 N   0  0  0  0  0  0  0  0  0  0  0  0\n   19.3495   -5.5600   -4.1526 Cl  0  0  0  0  0  0  0  0  0  0  0  0\n   18.8083   -4.3072   -5.2038 C   0  0  0  0  0  0  0  0  0  0  0  0\n   19.7379   -3.2536   -5.5452 C   0  0  0  0  0  0  0  0  0  0  0  0\n   17.5573   -4.3142   -5.6897 C   0  0  0  0  0  0  0  0  0  0  0  0\n   19.3778   -2.2224   -6.3239 C   0  0  0  0  0  0  0  0  0  0  0  0\n   17.0498   -3.2377   -6.6185 C   0  0  0  0  0  0  0  0  0  0  0  0\n   18.0397   -2.1255   -6.8560 C   0  0  0  0  0  0  0  0  0  0  0  0\n   15.4195   -2.7849   -4.6530 C   0  0  0  0  0  0  0  0  0  0  0  0\n   14.2858   -3.4914   -4.2297 C   0  0  0  0  0  0  0  0  0  0  0  0\n   16.2484   -2.1767   -3.7030 C   0  0  0  0  0  0  0  0  0  0  0  0\n   13.9997   -3.6111   -2.8688 C   0  0  0  0  0  0  0  0  0  0  0  0\n   15.9580   -2.2992   -2.3417 C   0  0  0  0  0  0  0  0  0  0  0  0\n   14.8381   -3.0187   -1.9259 C   0  0  0  0  0  0  0  0  0  0  0  0\n   14.8837   -1.9502   -8.2804 C   0  0  0  0  0  0  0  0  0  0  0  0\n   15.0482   -0.5043   -8.5203 C   0  0  0  0  0  0  0  0  0  0  0  0\n   15.1983    0.6517   -8.6896 O   0  0  0  0  0  0  0  0  0  0  0  0\n  3  4  1  0  0  0\n  4  5  1  0  0  0\n  4  6  2  0  0  0\n  5  7  2  0  0  0\n  6  8  1  0  0  0\n  7  9  1  0  0  0\n  8  1  1  0  0  0\n  1  2  2  0  0  0\n  1 10  1  0  0  0\n  2 16  1  0  0  0\n 10 11  2  0  0  0\n 10 12  1  0  0  0\n 16 17  1  0  0  0\n 11 13  1  0  0  0\n 12 14  2  0  0  0\n 17 18  2  0  0  0\n 13 15  2  0  0  0\n  8  9  1  0  0  0\n 14 15  1  0  0  0\nM  CHG 1   9  -1\nM  CHG 1  17  -1\nM  END\n> <minimizedAffinity>\n-5.45957\n\n$$$$\n13925\n\n\n 18 19  0  0  0  0  0  0  0  0999 V2000\n   20.4250   -7.1183   -2.7165 Cl  0  0  0  0  0  0  0  0  0  0  0  0\n   19.4278   -5.7295   -2.8959 C   0  0  0  0  0  0  0  0  0  0  0  0\n   19.4882   -4.9772   -4.0598 C   0  0  0  0  0  0  0  0  0  0  0  0\n   18.5533   -5.3689   -1.8780 C   0  0  0  0  0  0  0  0  0  0  0  0\n   18.6581   -3.8540   -4.2018 C   0  0  0  0  0  0  0  0  0  0  0  0\n   17.7449   -4.2333   -2.0179 C   0  0  0  0  0  0  0  0  0  0  0  0\n   17.7910   -3.4298   -3.1687 C   0  0  0  0  0  0  0  0  0  0  0  0\n   16.9995   -2.3003   -3.2980 N   0  0  0  0  0  0  0  0  0  0  0  0\n   15.5619   -2.3194   -3.4463 C   0  0  0  0  0  0  0  0  0  0  0  0\n   17.4188   -1.3914   -3.1275 H   0  0  0  0  0  0  0  0  0  0  0  0\n   18.7673   -3.1346   -5.4896 C   0  0  0  0  0  0  0  0  0  0  0  0\n   19.7912   -2.4933   -5.7117 O   0  0  0  0  0  0  0  0  0  0  0  0\n   17.6885   -3.2058   -6.5153 C   0  0  0  0  0  0  0  0  0  0  0  0\n   17.6702   -2.2352   -7.5259 C   0  0  0  0  0  0  0  0  0  0  0  0\n   16.7177   -4.2152   -6.5142 C   0  0  0  0  0  0  0  0  0  0  0  0\n   16.6831   -2.2627   -8.5126 C   0  0  0  0  0  0  0  0  0  0  0  0\n   15.7308   -4.2391   -7.5031 C   0  0  0  0  0  0  0  0  0  0  0  0\n   15.7130   -3.2633   -8.4991 C   0  0  0  0  0  0  0  0  0  0  0  0\n  1  2  1  0  0  0\n  2  3  2  0  0  0\n  2  4  1  0  0  0\n  3  5  1  0  0  0\n  4  6  2  0  0  0\n  5  7  2  0  0  0\n  5 11  1  0  0  0\n  7  8  1  0  0  0\n 11 12  2  0  0  0\n 11 13  1  0  0  0\n  8  9  1  0  0  0\n 13 14  2  0  0  0\n 13 15  1  0  0  0\n 14 16  1  0  0  0\n 15 17  2  0  0  0\n 16 18  2  0  0  0\n  6  7  1  0  0  0\n 17 18  1  0  0  0\n  8 10  1  0  0  0\nM  END\n> <minimizedAffinity>\n-6.86788\n\n$$$$\n13925\n\n\n 18 19  0  0  0  0  0  0  0  0999 V2000\n   14.2073   -1.9331   -2.4248 Cl  0  0  0  0  0  0  0  0  0  0  0  0\n   15.7260   -2.6654   -2.7606 C   0  0  0  0  0  0  0  0  0  0  0  0\n   16.2731   -2.5773   -4.0323 C   0  0  0  0  0  0  0  0  0  0  0  0\n   16.4093   -3.3356   -1.7531 C   0  0  0  0  0  0  0  0  0  0  0  0\n   17.5211   -3.1659   -4.2911 C   0  0  0  0  0  0  0  0  0  0  0  0\n   17.6434   -3.9401   -2.0255 C   0  0  0  0  0  0  0  0  0  0  0  0\n   18.2225   -3.8958   -3.3041 C   0  0  0  0  0  0  0  0  0  0  0  0\n   19.4369   -4.5059   -3.5728 N   0  0  0  0  0  0  0  0  0  0  0  0\n   19.7362   -5.8929   -3.2975 C   0  0  0  0  0  0  0  0  0  0  0  0\n   20.1175   -4.0055   -4.1362 H   0  0  0  0  0  0  0  0  0  0  0  0\n   18.0399   -2.9911   -5.6652 C   0  0  0  0  0  0  0  0  0  0  0  0\n   19.2357   -2.7488   -5.8080 O   0  0  0  0  0  0  0  0  0  0  0  0\n   17.1560   -3.1379   -6.8559 C   0  0  0  0  0  0  0  0  0  0  0  0\n   17.2429   -2.1731   -7.8685 C   0  0  0  0  0  0  0  0  0  0  0  0\n   16.2685   -4.2112   -7.0037 C   0  0  0  0  0  0  0  0  0  0  0  0\n   16.4396   -2.2701   -9.0061 C   0  0  0  0  0  0  0  0  0  0  0  0\n   15.4656   -4.3044   -8.1434 C   0  0  0  0  0  0  0  0  0  0  0  0\n   15.5501   -3.3343   -9.1415 C   0  0  0  0  0  0  0  0  0  0  0  0\n  1  2  1  0  0  0\n  2  3  2  0  0  0\n  2  4  1  0  0  0\n  3  5  1  0  0  0\n  4  6  2  0  0  0\n  5  7  2  0  0  0\n  5 11  1  0  0  0\n  7  8  1  0  0  0\n 11 12  2  0  0  0\n 11 13  1  0  0  0\n  8  9  1  0  0  0\n 13 14  2  0  0  0\n 13 15  1  0  0  0\n 14 16  1  0  0  0\n 15 17  2  0  0  0\n 16 18  2  0  0  0\n  6  7  1  0  0  0\n 17 18  1  0  0  0\n  8 10  1  0  0  0\nM  END\n> <minimizedAffinity>\n-6.62162\n\n$$$$\n13925\n\n\n 18 19  0  0  0  0  0  0  0  0999 V2000\n   18.4939   -1.7943   -7.6205 Cl  0  0  0  0  0  0  0  0  0  0  0  0\n   17.5180   -2.3560   -6.3215 C   0  0  0  0  0  0  0  0  0  0  0  0\n   18.1031   -2.6981   -5.1111 C   0  0  0  0  0  0  0  0  0  0  0  0\n   16.1414   -2.4556   -6.4825 C   0  0  0  0  0  0  0  0  0  0  0  0\n   17.2947   -3.1409   -4.0523 C   0  0  0  0  0  0  0  0  0  0  0  0\n   15.3441   -2.9202   -5.4284 C   0  0  0  0  0  0  0  0  0  0  0  0\n   15.8971   -3.2999   -4.1946 C   0  0  0  0  0  0  0  0  0  0  0  0\n   15.1070   -3.7712   -3.1589 N   0  0  0  0  0  0  0  0  0  0  0  0\n   14.1886   -2.9590   -2.3935 C   0  0  0  0  0  0  0  0  0  0  0  0\n   15.0424   -4.7743   -3.0151 H   0  0  0  0  0  0  0  0  0  0  0  0\n   18.0027   -3.4498   -2.7908 C   0  0  0  0  0  0  0  0  0  0  0  0\n   17.9923   -2.6066   -1.8975 O   0  0  0  0  0  0  0  0  0  0  0  0\n   18.6838   -4.7584   -2.5803 C   0  0  0  0  0  0  0  0  0  0  0  0\n   18.2670   -5.5570   -1.5068 C   0  0  0  0  0  0  0  0  0  0  0  0\n   19.6994   -5.2204   -3.4267 C   0  0  0  0  0  0  0  0  0  0  0  0\n   18.8704   -6.7937   -1.2717 C   0  0  0  0  0  0  0  0  0  0  0  0\n   20.3015   -6.4584   -3.1877 C   0  0  0  0  0  0  0  0  0  0  0  0\n   19.8886   -7.2423   -2.1109 C   0  0  0  0  0  0  0  0  0  0  0  0\n  1  2  1  0  0  0\n  2  3  2  0  0  0\n  2  4  1  0  0  0\n  3  5  1  0  0  0\n  4  6  2  0  0  0\n  5  7  2  0  0  0\n  5 11  1  0  0  0\n  7  8  1  0  0  0\n 11 12  2  0  0  0\n 11 13  1  0  0  0\n  8  9  1  0  0  0\n 13 14  2  0  0  0\n 13 15  1  0  0  0\n 14 16  1  0  0  0\n 15 17  2  0  0  0\n 16 18  2  0  0  0\n  6  7  1  0  0  0\n 17 18  1  0  0  0\n  8 10  1  0  0  0\nM  END\n> <minimizedAffinity>\n-6.55908\n\n$$$$\n13925\n\n\n 18 19  0  0  0  0  0  0  0  0999 V2000\n   20.2403   -5.1872   -3.4026 Cl  0  0  0  0  0  0  0  0  0  0  0  0\n   18.6896   -4.4590   -3.2592 C   0  0  0  0  0  0  0  0  0  0  0  0\n   17.7750   -4.5634   -4.2970 C   0  0  0  0  0  0  0  0  0  0  0  0\n   18.3502   -3.7759   -2.0977 C   0  0  0  0  0  0  0  0  0  0  0  0\n   16.5061   -3.9780   -4.1627 C   0  0  0  0  0  0  0  0  0  0  0  0\n   17.0902   -3.1748   -1.9808 C   0  0  0  0  0  0  0  0  0  0  0  0\n   16.1429   -3.2354   -3.0158 C   0  0  0  0  0  0  0  0  0  0  0  0\n   14.9027   -2.6287   -2.9017 N   0  0  0  0  0  0  0  0  0  0  0  0\n   13.8334   -3.1027   -2.0526 C   0  0  0  0  0  0  0  0  0  0  0  0\n   14.7717   -1.7102   -3.3141 H   0  0  0  0  0  0  0  0  0  0  0  0\n   15.5870   -4.1705   -5.3056 C   0  0  0  0  0  0  0  0  0  0  0  0\n   14.5431   -4.7888   -5.1136 O   0  0  0  0  0  0  0  0  0  0  0  0\n   15.8879   -3.6042   -6.6508 C   0  0  0  0  0  0  0  0  0  0  0  0\n   15.4030   -4.2810   -7.7780 C   0  0  0  0  0  0  0  0  0  0  0  0\n   16.6115   -2.4172   -6.8204 C   0  0  0  0  0  0  0  0  0  0  0  0\n   15.6538   -3.7872   -9.0594 C   0  0  0  0  0  0  0  0  0  0  0  0\n   16.8612   -1.9264   -8.1047 C   0  0  0  0  0  0  0  0  0  0  0  0\n   16.3845   -2.6116   -9.2217 C   0  0  0  0  0  0  0  0  0  0  0  0\n  1  2  1  0  0  0\n  2  3  2  0  0  0\n  2  4  1  0  0  0\n  3  5  1  0  0  0\n  4  6  2  0  0  0\n  5  7  2  0  0  0\n  5 11  1  0  0  0\n  7  8  1  0  0  0\n 11 12  2  0  0  0\n 11 13  1  0  0  0\n  8  9  1  0  0  0\n 13 14  2  0  0  0\n 13 15  1  0  0  0\n 14 16  1  0  0  0\n 15 17  2  0  0  0\n 16 18  2  0  0  0\n  6  7  1  0  0  0\n 17 18  1  0  0  0\n  8 10  1  0  0  0\nM  END\n> <minimizedAffinity>\n-6.41370\n\n$$$$\n13925\n\n\n 18 19  0  0  0  0  0  0  0  0999 V2000\n   17.1731   -0.0843   -8.6681 Cl  0  0  0  0  0  0  0  0  0  0  0  0\n   16.6430   -1.5828   -8.0128 C   0  0  0  0  0  0  0  0  0  0  0  0\n   16.7179   -1.8081   -6.6461 C   0  0  0  0  0  0  0  0  0  0  0  0\n   16.1291   -2.5628   -8.8533 C   0  0  0  0  0  0  0  0  0  0  0  0\n   16.2679   -3.0295   -6.1204 C   0  0  0  0  0  0  0  0  0  0  0  0\n   15.7034   -3.7878   -8.3235 C   0  0  0  0  0  0  0  0  0  0  0  0\n   15.7834   -4.0672   -6.9495 C   0  0  0  0  0  0  0  0  0  0  0  0\n   15.3736   -5.2847   -6.4309 N   0  0  0  0  0  0  0  0  0  0  0  0\n   14.0211   -5.5873   -6.0205 C   0  0  0  0  0  0  0  0  0  0  0  0\n   16.0130   -6.0720   -6.4768 H   0  0  0  0  0  0  0  0  0  0  0  0\n   16.3550   -3.1658   -4.6501 C   0  0  0  0  0  0  0  0  0  0  0  0\n   15.4959   -2.6177   -3.9641 O   0  0  0  0  0  0  0  0  0  0  0  0\n   17.4288   -3.9731   -4.0051 C   0  0  0  0  0  0  0  0  0  0  0  0\n   17.3939   -4.1301   -2.6130 C   0  0  0  0  0  0  0  0  0  0  0  0\n   18.4465   -4.5926   -4.7412 C   0  0  0  0  0  0  0  0  0  0  0  0\n   18.3743   -4.8819   -1.9631 C   0  0  0  0  0  0  0  0  0  0  0  0\n   19.4265   -5.3436   -4.0871 C   0  0  0  0  0  0  0  0  0  0  0  0\n   19.3909   -5.4861   -2.7004 C   0  0  0  0  0  0  0  0  0  0  0  0\n  1  2  1  0  0  0\n  2  3  2  0  0  0\n  2  4  1  0  0  0\n  3  5  1  0  0  0\n  4  6  2  0  0  0\n  5  7  2  0  0  0\n  5 11  1  0  0  0\n  7  8  1  0  0  0\n 11 12  2  0  0  0\n 11 13  1  0  0  0\n  8  9  1  0  0  0\n 13 14  2  0  0  0\n 13 15  1  0  0  0\n 14 16  1  0  0  0\n 15 17  2  0  0  0\n 16 18  2  0  0  0\n  6  7  1  0  0  0\n 17 18  1  0  0  0\n  8 10  1  0  0  0\nM  END\n> <minimizedAffinity>\n-6.40926\n\n$$$$\n13925\n\n\n 18 19  0  0  0  0  0  0  0  0999 V2000\n   20.0852   -6.2206   -3.3145 Cl  0  0  0  0  0  0  0  0  0  0  0  0\n   18.9469   -4.9353   -3.4020 C   0  0  0  0  0  0  0  0  0  0  0  0\n   18.7014   -4.3066   -4.6140 C   0  0  0  0  0  0  0  0  0  0  0  0\n   18.2651   -4.5353   -2.2591 C   0  0  0  0  0  0  0  0  0  0  0  0\n   17.7583   -3.2686   -4.6766 C   0  0  0  0  0  0  0  0  0  0  0  0\n   17.3425   -3.4832   -2.3254 C   0  0  0  0  0  0  0  0  0  0  0  0\n   17.0809   -2.8034   -3.5261 C   0  0  0  0  0  0  0  0  0  0  0  0\n   16.1774   -1.7549   -3.5852 N   0  0  0  0  0  0  0  0  0  0  0  0\n   14.7513   -1.8900   -3.3927 C   0  0  0  0  0  0  0  0  0  0  0  0\n   16.5364   -0.8056   -3.6124 H   0  0  0  0  0  0  0  0  0  0  0  0\n   17.5386   -2.6820   -6.0166 C   0  0  0  0  0  0  0  0  0  0  0  0\n   18.2414   -1.7341   -6.3581 O   0  0  0  0  0  0  0  0  0  0  0  0\n   16.5209   -3.2378   -6.9527 C   0  0  0  0  0  0  0  0  0  0  0  0\n   15.4949   -4.0307   -6.4211 C   0  0  0  0  0  0  0  0  0  0  0  0\n   16.5443   -2.9756   -8.3282 C   0  0  0  0  0  0  0  0  0  0  0  0\n   14.5149   -4.5695   -7.2565 C   0  0  0  0  0  0  0  0  0  0  0  0\n   15.5620   -3.5174   -9.1614 C   0  0  0  0  0  0  0  0  0  0  0  0\n   14.5506   -4.3143   -8.6262 C   0  0  0  0  0  0  0  0  0  0  0  0\n  1  2  1  0  0  0\n  2  3  2  0  0  0\n  2  4  1  0  0  0\n  3  5  1  0  0  0\n  4  6  2  0  0  0\n  5  7  2  0  0  0\n  5 11  1  0  0  0\n  7  8  1  0  0  0\n 11 12  2  0  0  0\n 11 13  1  0  0  0\n  8  9  1  0  0  0\n 13 14  2  0  0  0\n 13 15  1  0  0  0\n 14 16  1  0  0  0\n 15 17  2  0  0  0\n 16 18  2  0  0  0\n  6  7  1  0  0  0\n 17 18  1  0  0  0\n  8 10  1  0  0  0\nM  END\n> <minimizedAffinity>\n-6.28856\n\n$$$$\n13925\n\n\n 18 19  0  0  0  0  0  0  0  0999 V2000\n   13.8542   -2.2637   -1.5149 Cl  0  0  0  0  0  0  0  0  0  0  0  0\n   15.1022   -3.0146   -2.4282 C   0  0  0  0  0  0  0  0  0  0  0  0\n   14.8384   -3.4904   -3.7042 C   0  0  0  0  0  0  0  0  0  0  0  0\n   16.3780   -3.1334   -1.8904 C   0  0  0  0  0  0  0  0  0  0  0  0\n   15.8690   -4.0878   -4.4469 C   0  0  0  0  0  0  0  0  0  0  0  0\n   17.3953   -3.7516   -2.6290 C   0  0  0  0  0  0  0  0  0  0  0  0\n   17.1663   -4.2686   -3.9145 C   0  0  0  0  0  0  0  0  0  0  0  0\n   18.1714   -4.8908   -4.6368 N   0  0  0  0  0  0  0  0  0  0  0  0\n   19.4583   -4.3002   -4.9269 C   0  0  0  0  0  0  0  0  0  0  0  0\n   18.0745   -5.8783   -4.8522 H   0  0  0  0  0  0  0  0  0  0  0  0\n   15.5026   -4.5336   -5.8090 C   0  0  0  0  0  0  0  0  0  0  0  0\n   14.8688   -5.5792   -5.9270 O   0  0  0  0  0  0  0  0  0  0  0  0\n   15.8538   -3.7283   -7.0127 C   0  0  0  0  0  0  0  0  0  0  0  0\n   15.3126   -4.1117   -8.2472 C   0  0  0  0  0  0  0  0  0  0  0  0\n   16.6793   -2.5989   -6.9451 C   0  0  0  0  0  0  0  0  0  0  0  0\n   15.6075   -3.3859   -9.4026 C   0  0  0  0  0  0  0  0  0  0  0  0\n   16.9728   -1.8754   -8.1040 C   0  0  0  0  0  0  0  0  0  0  0  0\n   16.4391   -2.2698   -9.3304 C   0  0  0  0  0  0  0  0  0  0  0  0\n  1  2  1  0  0  0\n  2  3  2  0  0  0\n  2  4  1  0  0  0\n  3  5  1  0  0  0\n  4  6  2  0  0  0\n  5  7  2  0  0  0\n  5 11  1  0  0  0\n  7  8  1  0  0  0\n 11 12  2  0  0  0\n 11 13  1  0  0  0\n  8  9  1  0  0  0\n 13 14  2  0  0  0\n 13 15  1  0  0  0\n 14 16  1  0  0  0\n 15 17  2  0  0  0\n 16 18  2  0  0  0\n  6  7  1  0  0  0\n 17 18  1  0  0  0\n  8 10  1  0  0  0\nM  END\n> <minimizedAffinity>\n-6.27738\n\n$$$$\n13925\n\n\n 18 19  0  0  0  0  0  0  0  0999 V2000\n   17.1209    0.6740   -9.0577 Cl  0  0  0  0  0  0  0  0  0  0  0  0\n   16.8316   -0.8978   -8.4243 C   0  0  0  0  0  0  0  0  0  0  0  0\n   17.5185   -1.3303   -7.2994 C   0  0  0  0  0  0  0  0  0  0  0  0\n   15.9004   -1.7295   -9.0344 C   0  0  0  0  0  0  0  0  0  0  0  0\n   17.2630   -2.6099   -6.7819 C   0  0  0  0  0  0  0  0  0  0  0  0\n   15.6679   -3.0138   -8.5254 C   0  0  0  0  0  0  0  0  0  0  0  0\n   16.3580   -3.5008   -7.4034 C   0  0  0  0  0  0  0  0  0  0  0  0\n   16.1348   -4.7761   -6.9106 N   0  0  0  0  0  0  0  0  0  0  0  0\n   14.9150   -5.2029   -6.2633 C   0  0  0  0  0  0  0  0  0  0  0  0\n   16.7962   -5.5099   -7.1452 H   0  0  0  0  0  0  0  0  0  0  0  0\n   18.0170   -2.9703   -5.5614 C   0  0  0  0  0  0  0  0  0  0  0  0\n   19.2277   -3.1536   -5.6596 O   0  0  0  0  0  0  0  0  0  0  0  0\n   17.3466   -3.0763   -4.2347 C   0  0  0  0  0  0  0  0  0  0  0  0\n   17.9999   -3.7843   -3.2170 C   0  0  0  0  0  0  0  0  0  0  0  0\n   16.1091   -2.4766   -3.9694 C   0  0  0  0  0  0  0  0  0  0  0  0\n   17.4151   -3.9067   -1.9554 C   0  0  0  0  0  0  0  0  0  0  0  0\n   15.5266   -2.6020   -2.7055 C   0  0  0  0  0  0  0  0  0  0  0  0\n   16.1780   -3.3174   -1.7014 C   0  0  0  0  0  0  0  0  0  0  0  0\n  1  2  1  0  0  0\n  2  3  2  0  0  0\n  2  4  1  0  0  0\n  3  5  1  0  0  0\n  4  6  2  0  0  0\n  5  7  2  0  0  0\n  5 11  1  0  0  0\n  7  8  1  0  0  0\n 11 12  2  0  0  0\n 11 13  1  0  0  0\n  8  9  1  0  0  0\n 13 14  2  0  0  0\n 13 15  1  0  0  0\n 14 16  1  0  0  0\n 15 17  2  0  0  0\n 16 18  2  0  0  0\n  6  7  1  0  0  0\n 17 18  1  0  0  0\n  8 10  1  0  0  0\nM  END\n> <minimizedAffinity>\n-6.24492\n\n$$$$\n2997\n\n\n 20 22  0  0  0  0  0  0  0  0999 V2000\n   13.6981   -1.0721   -2.9773 Cl  0  0  0  0  0  0  0  0  0  0  0  0\n   15.0250   -2.1652   -3.0253 C   0  0  0  0  0  0  0  0  0  0  0  0\n   15.8069   -2.2539   -4.1746 C   0  0  0  0  0  0  0  0  0  0  0  0\n   15.3037   -2.9621   -1.9188 C   0  0  0  0  0  0  0  0  0  0  0  0\n   16.8846   -3.1535   -4.2239 C   0  0  0  0  0  0  0  0  0  0  0  0\n   16.3881   -3.8411   -1.9533 C   0  0  0  0  0  0  0  0  0  0  0  0\n   17.6433   -3.2825   -5.5047 C   0  0  0  0  0  0  0  0  0  0  0  0\n   17.1987   -3.9245   -3.0927 C   0  0  0  0  0  0  0  0  0  0  0  0\n   18.9302   -3.3442   -5.5917 N   0  0  0  0  0  0  0  0  0  0  0  0\n   18.2898   -4.8003   -3.0249 N   0  0  0  0  0  0  0  0  0  0  0  0\n   19.7386   -3.3177   -4.3739 C   0  0  0  0  0  0  0  0  0  0  0  0\n   19.5263   -4.5995   -3.5843 C   0  0  0  0  0  0  0  0  0  0  0  0\n   20.4229   -5.4193   -3.3831 O   0  0  0  0  0  0  0  0  0  0  0  0\n   18.2364   -5.6229   -2.4369 H   0  0  0  0  0  0  0  0  0  0  0  0\n   16.8729   -3.3477   -6.7881 C   0  0  0  0  0  0  0  0  0  0  0  0\n   17.1215   -2.3897   -7.7783 C   0  0  0  0  0  0  0  0  0  0  0  0\n   15.9377   -4.3636   -7.0236 C   0  0  0  0  0  0  0  0  0  0  0  0\n   16.4173   -2.4288   -8.9827 C   0  0  0  0  0  0  0  0  0  0  0  0\n   15.2354   -4.3984   -8.2301 C   0  0  0  0  0  0  0  0  0  0  0  0\n   15.4723   -3.4297   -9.2057 C   0  0  0  0  0  0  0  0  0  0  0  0\n  1  2  1  0  0  0\n  2  3  2  0  0  0\n  2  4  1  0  0  0\n  3  5  1  0  0  0\n  4  6  2  0  0  0\n  5  7  1  0  0  0\n  5  8  2  0  0  0\n  7  9  2  0  0  0\n  7 15  1  0  0  0\n  8 10  1  0  0  0\n  9 11  1  0  0  0\n 15 16  2  0  0  0\n 15 17  1  0  0  0\n 10 12  1  0  0  0\n 16 18  1  0  0  0\n 17 19  2  0  0  0\n 12 13  2  0  0  0\n 18 20  2  0  0  0\n  6  8  1  0  0  0\n 11 12  1  0  0  0\n 19 20  1  0  0  0\n 10 14  1  0  0  0\nM  END\n> <minimizedAffinity>\n-7.53299\n\n$$$$\n2997\n\n\n 20 22  0  0  0  0  0  0  0  0999 V2000\n   16.2266   -3.3652   -1.5983 Cl  0  0  0  0  0  0  0  0  0  0  0  0\n   17.3886   -3.5097   -2.8579 C   0  0  0  0  0  0  0  0  0  0  0  0\n   17.1044   -3.0006   -4.1229 C   0  0  0  0  0  0  0  0  0  0  0  0\n   18.6024   -4.1433   -2.6084 C   0  0  0  0  0  0  0  0  0  0  0  0\n   18.0448   -3.1262   -5.1587 C   0  0  0  0  0  0  0  0  0  0  0  0\n   19.5507   -4.2502   -3.6277 C   0  0  0  0  0  0  0  0  0  0  0  0\n   17.6668   -2.6468   -6.5225 C   0  0  0  0  0  0  0  0  0  0  0  0\n   19.2899   -3.7219   -4.8986 C   0  0  0  0  0  0  0  0  0  0  0  0\n   18.4395   -1.9647   -7.3004 N   0  0  0  0  0  0  0  0  0  0  0  0\n   20.3134   -3.8351   -5.8483 N   0  0  0  0  0  0  0  0  0  0  0  0\n   19.7976   -1.6411   -6.8667 C   0  0  0  0  0  0  0  0  0  0  0  0\n   20.6366   -2.9076   -6.8061 C   0  0  0  0  0  0  0  0  0  0  0  0\n   21.6124   -3.1007   -7.5319 O   0  0  0  0  0  0  0  0  0  0  0  0\n   20.9613   -4.6116   -5.7968 H   0  0  0  0  0  0  0  0  0  0  0  0\n   16.2992   -2.9725   -7.0408 C   0  0  0  0  0  0  0  0  0  0  0  0\n   15.3444   -1.9520   -7.1247 C   0  0  0  0  0  0  0  0  0  0  0  0\n   15.9734   -4.2656   -7.4694 C   0  0  0  0  0  0  0  0  0  0  0  0\n   14.0635   -2.2296   -7.6043 C   0  0  0  0  0  0  0  0  0  0  0  0\n   14.6903   -4.5385   -7.9482 C   0  0  0  0  0  0  0  0  0  0  0  0\n   13.7363   -3.5227   -8.0111 C   0  0  0  0  0  0  0  0  0  0  0  0\n  1  2  1  0  0  0\n  2  3  2  0  0  0\n  2  4  1  0  0  0\n  3  5  1  0  0  0\n  4  6  2  0  0  0\n  5  7  1  0  0  0\n  5  8  2  0  0  0\n  7  9  2  0  0  0\n  7 15  1  0  0  0\n  8 10  1  0  0  0\n  9 11  1  0  0  0\n 15 16  2  0  0  0\n 15 17  1  0  0  0\n 10 12  1  0  0  0\n 16 18  1  0  0  0\n 17 19  2  0  0  0\n 12 13  2  0  0  0\n 18 20  2  0  0  0\n  6  8  1  0  0  0\n 11 12  1  0  0  0\n 19 20  1  0  0  0\n 10 14  1  0  0  0\nM  END\n> <minimizedAffinity>\n-7.07474\n\n$$$$\n2997\n\n\n 20 22  0  0  0  0  0  0  0  0999 V2000\n   20.0329   -5.6977   -4.1521 Cl  0  0  0  0  0  0  0  0  0  0  0  0\n   18.7203   -4.7004   -3.6620 C   0  0  0  0  0  0  0  0  0  0  0  0\n   17.6341   -4.5181   -4.5148 C   0  0  0  0  0  0  0  0  0  0  0  0\n   18.7555   -4.0734   -2.4200 C   0  0  0  0  0  0  0  0  0  0  0  0\n   16.5646   -3.6952   -4.1248 C   0  0  0  0  0  0  0  0  0  0  0  0\n   17.6845   -3.2732   -2.0170 C   0  0  0  0  0  0  0  0  0  0  0  0\n   15.4611   -3.4545   -5.1030 C   0  0  0  0  0  0  0  0  0  0  0  0\n   16.5739   -3.0994   -2.8530 C   0  0  0  0  0  0  0  0  0  0  0  0\n   14.2038   -3.4699   -4.8087 N   0  0  0  0  0  0  0  0  0  0  0  0\n   15.5265   -2.3159   -2.3516 N   0  0  0  0  0  0  0  0  0  0  0  0\n   13.7882   -3.7080   -3.4275 C   0  0  0  0  0  0  0  0  0  0  0  0\n   14.1865   -2.5268   -2.5568 C   0  0  0  0  0  0  0  0  0  0  0  0\n   13.3657   -1.8028   -1.9926 O   0  0  0  0  0  0  0  0  0  0  0  0\n   15.7268   -1.5741   -1.6921 H   0  0  0  0  0  0  0  0  0  0  0  0\n   15.8200   -3.1724   -6.5301 C   0  0  0  0  0  0  0  0  0  0  0  0\n   15.3570   -4.0361   -7.5299 C   0  0  0  0  0  0  0  0  0  0  0  0\n   16.5794   -2.0485   -6.8800 C   0  0  0  0  0  0  0  0  0  0  0  0\n   15.6774   -3.7951   -8.8667 C   0  0  0  0  0  0  0  0  0  0  0  0\n   16.8976   -1.8117   -8.2189 C   0  0  0  0  0  0  0  0  0  0  0  0\n   16.4507   -2.6864   -9.2094 C   0  0  0  0  0  0  0  0  0  0  0  0\n  1  2  1  0  0  0\n  2  3  2  0  0  0\n  2  4  1  0  0  0\n  3  5  1  0  0  0\n  4  6  2  0  0  0\n  5  7  1  0  0  0\n  5  8  2  0  0  0\n  7  9  2  0  0  0\n  7 15  1  0  0  0\n  8 10  1  0  0  0\n  9 11  1  0  0  0\n 15 16  2  0  0  0\n 15 17  1  0  0  0\n 10 12  1  0  0  0\n 16 18  1  0  0  0\n 17 19  2  0  0  0\n 12 13  2  0  0  0\n 18 20  2  0  0  0\n  6  8  1  0  0  0\n 11 12  1  0  0  0\n 19 20  1  0  0  0\n 10 14  1  0  0  0\nM  END\n> <minimizedAffinity>\n-6.81567\n\n$$$$\n2997\n\n\n 20 22  0  0  0  0  0  0  0  0999 V2000\n   17.5086   -0.1770   -8.1402 Cl  0  0  0  0  0  0  0  0  0  0  0  0\n   16.7559   -1.6719   -7.7446 C   0  0  0  0  0  0  0  0  0  0  0  0\n   16.5811   -2.0264   -6.4090 C   0  0  0  0  0  0  0  0  0  0  0  0\n   16.3347   -2.5235   -8.7617 C   0  0  0  0  0  0  0  0  0  0  0  0\n   15.9778   -3.2514   -6.0800 C   0  0  0  0  0  0  0  0  0  0  0  0\n   15.7129   -3.7319   -8.4408 C   0  0  0  0  0  0  0  0  0  0  0  0\n   15.8892   -3.6343   -4.6383 C   0  0  0  0  0  0  0  0  0  0  0  0\n   15.5079   -4.0916   -7.1026 C   0  0  0  0  0  0  0  0  0  0  0  0\n   14.8461   -4.1515   -4.0797 N   0  0  0  0  0  0  0  0  0  0  0  0\n   14.8381   -5.3002   -6.8724 N   0  0  0  0  0  0  0  0  0  0  0  0\n   13.6563   -4.4242   -4.8841 C   0  0  0  0  0  0  0  0  0  0  0  0\n   13.9420   -5.5509   -5.8643 C   0  0  0  0  0  0  0  0  0  0  0  0\n   13.3660   -6.6384   -5.8221 O   0  0  0  0  0  0  0  0  0  0  0  0\n   14.9179   -6.0534   -7.5444 H   0  0  0  0  0  0  0  0  0  0  0  0\n   17.0858   -3.4107   -3.7647 C   0  0  0  0  0  0  0  0  0  0  0  0\n   16.9119   -2.7920   -2.5209 C   0  0  0  0  0  0  0  0  0  0  0  0\n   18.3614   -3.8367   -4.1564 C   0  0  0  0  0  0  0  0  0  0  0  0\n   18.0106   -2.5726   -1.6886 C   0  0  0  0  0  0  0  0  0  0  0  0\n   19.4576   -3.6147   -3.3203 C   0  0  0  0  0  0  0  0  0  0  0  0\n   19.2823   -2.9798   -2.0906 C   0  0  0  0  0  0  0  0  0  0  0  0\n  1  2  1  0  0  0\n  2  3  2  0  0  0\n  2  4  1  0  0  0\n  3  5  1  0  0  0\n  4  6  2  0  0  0\n  5  7  1  0  0  0\n  5  8  2  0  0  0\n  7  9  2  0  0  0\n  7 15  1  0  0  0\n  8 10  1  0  0  0\n  9 11  1  0  0  0\n 15 16  2  0  0  0\n 15 17  1  0  0  0\n 10 12  1  0  0  0\n 16 18  1  0  0  0\n 17 19  2  0  0  0\n 12 13  2  0  0  0\n 18 20  2  0  0  0\n  6  8  1  0  0  0\n 11 12  1  0  0  0\n 19 20  1  0  0  0\n 10 14  1  0  0  0\nM  END\n> <minimizedAffinity>\n-6.71854\n\n$$$$\n2997\n\n\n 20 22  0  0  0  0  0  0  0  0999 V2000\n   19.8482   -2.0439   -6.9921 Cl  0  0  0  0  0  0  0  0  0  0  0  0\n   18.4233   -2.5194   -6.1548 C   0  0  0  0  0  0  0  0  0  0  0  0\n   18.5208   -3.0594   -4.8746 C   0  0  0  0  0  0  0  0  0  0  0  0\n   17.1814   -2.3710   -6.7654 C   0  0  0  0  0  0  0  0  0  0  0  0\n   17.3614   -3.4605   -4.1906 C   0  0  0  0  0  0  0  0  0  0  0  0\n   16.0234   -2.7460   -6.0812 C   0  0  0  0  0  0  0  0  0  0  0  0\n   17.5153   -4.1163   -2.8568 C   0  0  0  0  0  0  0  0  0  0  0  0\n   16.1028   -3.2680   -4.7836 C   0  0  0  0  0  0  0  0  0  0  0  0\n   16.7871   -3.8552   -1.8229 N   0  0  0  0  0  0  0  0  0  0  0  0\n   14.8896   -3.5771   -4.1554 N   0  0  0  0  0  0  0  0  0  0  0  0\n   15.7068   -2.8760   -1.9288 C   0  0  0  0  0  0  0  0  0  0  0  0\n   14.6033   -3.4183   -2.8231 C   0  0  0  0  0  0  0  0  0  0  0  0\n   13.4670   -3.6595   -2.4145 O   0  0  0  0  0  0  0  0  0  0  0  0\n   14.0917   -3.8530   -4.7144 H   0  0  0  0  0  0  0  0  0  0  0  0\n   18.5837   -5.1534   -2.6895 C   0  0  0  0  0  0  0  0  0  0  0  0\n   18.4537   -6.1032   -1.6692 C   0  0  0  0  0  0  0  0  0  0  0  0\n   19.6864   -5.2065   -3.5517 C   0  0  0  0  0  0  0  0  0  0  0  0\n   19.4352   -7.0797   -1.4927 C   0  0  0  0  0  0  0  0  0  0  0  0\n   20.6659   -6.1852   -3.3709 C   0  0  0  0  0  0  0  0  0  0  0  0\n   20.5420   -7.1171   -2.3402 C   0  0  0  0  0  0  0  0  0  0  0  0\n  1  2  1  0  0  0\n  2  3  2  0  0  0\n  2  4  1  0  0  0\n  3  5  1  0  0  0\n  4  6  2  0  0  0\n  5  7  1  0  0  0\n  5  8  2  0  0  0\n  7  9  2  0  0  0\n  7 15  1  0  0  0\n  8 10  1  0  0  0\n  9 11  1  0  0  0\n 15 16  2  0  0  0\n 15 17  1  0  0  0\n 10 12  1  0  0  0\n 16 18  1  0  0  0\n 17 19  2  0  0  0\n 12 13  2  0  0  0\n 18 20  2  0  0  0\n  6  8  1  0  0  0\n 11 12  1  0  0  0\n 19 20  1  0  0  0\n 10 14  1  0  0  0\nM  END\n> <minimizedAffinity>\n-6.68820\n\n$$$$\n2997\n\n\n 20 22  0  0  0  0  0  0  0  0999 V2000\n   20.2654   -6.3516   -3.2543 Cl  0  0  0  0  0  0  0  0  0  0  0  0\n   18.8950   -5.3619   -2.9379 C   0  0  0  0  0  0  0  0  0  0  0  0\n   18.1832   -4.8063   -3.9985 C   0  0  0  0  0  0  0  0  0  0  0  0\n   18.5110   -5.1138   -1.6233 C   0  0  0  0  0  0  0  0  0  0  0  0\n   17.0702   -3.9875   -3.7458 C   0  0  0  0  0  0  0  0  0  0  0  0\n   17.3913   -4.3200   -1.3664 C   0  0  0  0  0  0  0  0  0  0  0  0\n   16.3879   -3.3393   -4.9064 C   0  0  0  0  0  0  0  0  0  0  0  0\n   16.6505   -3.7739   -2.4225 C   0  0  0  0  0  0  0  0  0  0  0  0\n   15.1074   -3.2664   -5.0570 N   0  0  0  0  0  0  0  0  0  0  0  0\n   15.5179   -3.0264   -2.0750 N   0  0  0  0  0  0  0  0  0  0  0  0\n   14.2266   -3.8194   -4.0297 C   0  0  0  0  0  0  0  0  0  0  0  0\n   14.3295   -2.9902   -2.7594 C   0  0  0  0  0  0  0  0  0  0  0  0\n   13.3851   -2.3471   -2.3002 O   0  0  0  0  0  0  0  0  0  0  0  0\n   15.4963   -2.5301   -1.1927 H   0  0  0  0  0  0  0  0  0  0  0  0\n   17.2331   -2.7241   -5.9797 C   0  0  0  0  0  0  0  0  0  0  0  0\n   16.6263   -2.3262   -7.1770 C   0  0  0  0  0  0  0  0  0  0  0  0\n   18.6053   -2.5132   -5.7928 C   0  0  0  0  0  0  0  0  0  0  0  0\n   17.3917   -1.7505   -8.1921 C   0  0  0  0  0  0  0  0  0  0  0  0\n   19.3670   -1.9370   -6.8115 C   0  0  0  0  0  0  0  0  0  0  0  0\n   18.7613   -1.5606   -8.0105 C   0  0  0  0  0  0  0  0  0  0  0  0\n  1  2  1  0  0  0\n  2  3  2  0  0  0\n  2  4  1  0  0  0\n  3  5  1  0  0  0\n  4  6  2  0  0  0\n  5  7  1  0  0  0\n  5  8  2  0  0  0\n  7  9  2  0  0  0\n  7 15  1  0  0  0\n  8 10  1  0  0  0\n  9 11  1  0  0  0\n 15 16  2  0  0  0\n 15 17  1  0  0  0\n 10 12  1  0  0  0\n 16 18  1  0  0  0\n 17 19  2  0  0  0\n 12 13  2  0  0  0\n 18 20  2  0  0  0\n  6  8  1  0  0  0\n 11 12  1  0  0  0\n 19 20  1  0  0  0\n 10 14  1  0  0  0\nM  END\n> <minimizedAffinity>\n-6.44190\n\n$$$$\n2997\n\n\n 20 22  0  0  0  0  0  0  0  0999 V2000\n   14.2296   -4.5205   -9.3829 Cl  0  0  0  0  0  0  0  0  0  0  0  0\n   14.2390   -4.3577   -7.6709 C   0  0  0  0  0  0  0  0  0  0  0  0\n   15.1272   -3.4721   -7.0651 C   0  0  0  0  0  0  0  0  0  0  0  0\n   13.3658   -5.1193   -6.8999 C   0  0  0  0  0  0  0  0  0  0  0  0\n   15.1476   -3.3437   -5.6665 C   0  0  0  0  0  0  0  0  0  0  0  0\n   13.3651   -4.9787   -5.5107 C   0  0  0  0  0  0  0  0  0  0  0  0\n   16.1746   -2.4499   -5.0508 C   0  0  0  0  0  0  0  0  0  0  0  0\n   14.2352   -4.0745   -4.8880 C   0  0  0  0  0  0  0  0  0  0  0  0\n   15.9426   -1.6198   -4.0892 N   0  0  0  0  0  0  0  0  0  0  0  0\n   14.1372   -3.9661   -3.4948 N   0  0  0  0  0  0  0  0  0  0  0  0\n   14.6011   -1.5368   -3.5144 C   0  0  0  0  0  0  0  0  0  0  0  0\n   14.2821   -2.8173   -2.7591 C   0  0  0  0  0  0  0  0  0  0  0  0\n   14.0948   -2.8491   -1.5425 O   0  0  0  0  0  0  0  0  0  0  0  0\n   13.8360   -4.7647   -2.9499 H   0  0  0  0  0  0  0  0  0  0  0  0\n   17.5780   -2.5086   -5.5723 C   0  0  0  0  0  0  0  0  0  0  0  0\n   18.4798   -3.4099   -4.9940 C   0  0  0  0  0  0  0  0  0  0  0  0\n   17.9898   -1.7044   -6.6427 C   0  0  0  0  0  0  0  0  0  0  0  0\n   19.7926   -3.4840   -5.4619 C   0  0  0  0  0  0  0  0  0  0  0  0\n   19.3045   -1.7819   -7.1072 C   0  0  0  0  0  0  0  0  0  0  0  0\n   20.2048   -2.6673   -6.5144 C   0  0  0  0  0  0  0  0  0  0  0  0\n  1  2  1  0  0  0\n  2  3  2  0  0  0\n  2  4  1  0  0  0\n  3  5  1  0  0  0\n  4  6  2  0  0  0\n  5  7  1  0  0  0\n  5  8  2  0  0  0\n  7  9  2  0  0  0\n  7 15  1  0  0  0\n  8 10  1  0  0  0\n  9 11  1  0  0  0\n 15 16  2  0  0  0\n 15 17  1  0  0  0\n 10 12  1  0  0  0\n 16 18  1  0  0  0\n 17 19  2  0  0  0\n 12 13  2  0  0  0\n 18 20  2  0  0  0\n  6  8  1  0  0  0\n 11 12  1  0  0  0\n 19 20  1  0  0  0\n 10 14  1  0  0  0\nM  END\n> <minimizedAffinity>\n-6.39735\n\n$$$$\n2997\n\n\n 20 22  0  0  0  0  0  0  0  0999 V2000\n   16.1667   -2.5315   -1.2140 Cl  0  0  0  0  0  0  0  0  0  0  0  0\n   17.2821   -2.8407   -2.4860 C   0  0  0  0  0  0  0  0  0  0  0  0\n   16.8995   -2.6287   -3.8084 C   0  0  0  0  0  0  0  0  0  0  0  0\n   18.5576   -3.3105   -2.1870 C   0  0  0  0  0  0  0  0  0  0  0  0\n   17.8022   -2.8909   -4.8520 C   0  0  0  0  0  0  0  0  0  0  0  0\n   19.4673   -3.5504   -3.2188 C   0  0  0  0  0  0  0  0  0  0  0  0\n   17.3246   -2.7358   -6.2594 C   0  0  0  0  0  0  0  0  0  0  0  0\n   19.1059   -3.3190   -4.5523 C   0  0  0  0  0  0  0  0  0  0  0  0\n   17.9988   -2.1702   -7.2044 N   0  0  0  0  0  0  0  0  0  0  0  0\n   20.0939   -3.5448   -5.5193 N   0  0  0  0  0  0  0  0  0  0  0  0\n   19.3394   -1.6570   -6.9280 C   0  0  0  0  0  0  0  0  0  0  0  0\n   20.2910   -2.8129   -6.6629 C   0  0  0  0  0  0  0  0  0  0  0  0\n   21.2484   -3.0739   -7.3919 O   0  0  0  0  0  0  0  0  0  0  0  0\n   20.8108   -4.2397   -5.3507 H   0  0  0  0  0  0  0  0  0  0  0  0\n   15.9711   -3.2693   -6.6175 C   0  0  0  0  0  0  0  0  0  0  0  0\n   15.7093   -4.6326   -6.4365 C   0  0  0  0  0  0  0  0  0  0  0  0\n   14.9609   -2.4256   -7.0970 C   0  0  0  0  0  0  0  0  0  0  0  0\n   14.4564   -5.1541   -6.7623 C   0  0  0  0  0  0  0  0  0  0  0  0\n   13.7089   -2.9521   -7.4218 C   0  0  0  0  0  0  0  0  0  0  0  0\n   13.4594   -4.3148   -7.2586 C   0  0  0  0  0  0  0  0  0  0  0  0\n  1  2  1  0  0  0\n  2  3  2  0  0  0\n  2  4  1  0  0  0\n  3  5  1  0  0  0\n  4  6  2  0  0  0\n  5  7  1  0  0  0\n  5  8  2  0  0  0\n  7  9  2  0  0  0\n  7 15  1  0  0  0\n  8 10  1  0  0  0\n  9 11  1  0  0  0\n 15 16  2  0  0  0\n 15 17  1  0  0  0\n 10 12  1  0  0  0\n 16 18  1  0  0  0\n 17 19  2  0  0  0\n 12 13  2  0  0  0\n 18 20  2  0  0  0\n  6  8  1  0  0  0\n 11 12  1  0  0  0\n 19 20  1  0  0  0\n 10 14  1  0  0  0\nM  END\n> <minimizedAffinity>\n-6.27635\n\n$$$$\n63134\n\n\n 19 21  0  0  0  0  0  0  0  0999 V2000\n   13.3650   -4.5126   -4.1768 Cl  0  0  0  0  0  0  0  0  0  0  0  0\n   14.7325   -3.8282   -4.9639 C   0  0  0  0  0  0  0  0  0  0  0  0\n   16.0140   -4.1325   -4.5146 C   0  0  0  0  0  0  0  0  0  0  0  0\n   14.5504   -2.9715   -6.0442 C   0  0  0  0  0  0  0  0  0  0  0  0\n   17.1250   -3.5789   -5.1660 C   0  0  0  0  0  0  0  0  0  0  0  0\n   15.6605   -2.4025   -6.6756 C   0  0  0  0  0  0  0  0  0  0  0  0\n   18.5180   -3.8529   -4.7576 C   0  0  0  0  0  0  0  0  0  0  0  0\n   16.9608   -2.6954   -6.2364 C   0  0  0  0  0  0  0  0  0  0  0  0\n   19.5344   -3.2599   -5.2942 N   0  0  0  0  0  0  0  0  0  0  0  0\n   18.1106   -2.1073   -6.8215 N   0  0  0  0  0  0  0  0  0  0  0  0\n   19.3891   -2.3613   -6.3181 C   0  0  0  0  0  0  0  0  0  0  0  0\n   17.9753   -1.1888   -7.9402 C   0  0  0  0  0  0  0  0  0  0  0  0\n   20.3779   -1.8005   -6.7861 O   0  0  0  0  0  0  0  0  0  0  0  0\n   18.8086   -4.8398   -3.6914 C   0  0  0  0  0  0  0  0  0  0  0  0\n   19.7356   -5.8640   -3.9097 C   0  0  0  0  0  0  0  0  0  0  0  0\n   18.1774   -4.7027   -2.4526 C   0  0  0  0  0  0  0  0  0  0  0  0\n   20.0008   -6.7789   -2.8906 C   0  0  0  0  0  0  0  0  0  0  0  0\n   18.4475   -5.6208   -1.4379 C   0  0  0  0  0  0  0  0  0  0  0  0\n   19.3537   -6.6596   -1.6592 C   0  0  0  0  0  0  0  0  0  0  0  0\n  1  2  1  0  0  0\n  2  3  2  0  0  0\n  2  4  1  0  0  0\n  3  5  1  0  0  0\n  4  6  2  0  0  0\n  5  7  1  0  0  0\n  5  8  2  0  0  0\n  7  9  2  0  0  0\n  7 14  1  0  0  0\n  8 10  1  0  0  0\n  9 11  1  0  0  0\n 14 15  2  0  0  0\n 14 16  1  0  0  0\n 10 12  1  0  0  0\n 11 13  2  0  0  0\n 15 17  1  0  0  0\n 16 18  2  0  0  0\n 17 19  2  0  0  0\n  6  8  1  0  0  0\n 10 11  1  0  0  0\n 18 19  1  0  0  0\nM  END\n> <minimizedAffinity>\n-7.98731\n\n$$$$\n63134\n\n\n 19 21  0  0  0  0  0  0  0  0999 V2000\n   13.3650   -1.1246   -3.1073 Cl  0  0  0  0  0  0  0  0  0  0  0  0\n   14.7476   -2.1473   -3.0832 C   0  0  0  0  0  0  0  0  0  0  0  0\n   15.4186   -2.4323   -4.2686 C   0  0  0  0  0  0  0  0  0  0  0  0\n   15.1865   -2.6867   -1.8788 C   0  0  0  0  0  0  0  0  0  0  0  0\n   16.5503   -3.2592   -4.2412 C   0  0  0  0  0  0  0  0  0  0  0  0\n   16.3013   -3.5304   -1.8596 C   0  0  0  0  0  0  0  0  0  0  0  0\n   17.3231   -3.6080   -5.4509 C   0  0  0  0  0  0  0  0  0  0  0  0\n   16.9904   -3.8313   -3.0445 C   0  0  0  0  0  0  0  0  0  0  0  0\n   18.3025   -4.4525   -5.4366 N   0  0  0  0  0  0  0  0  0  0  0  0\n   18.0989   -4.7149   -3.0749 N   0  0  0  0  0  0  0  0  0  0  0  0\n   18.7221   -5.0531   -4.2789 C   0  0  0  0  0  0  0  0  0  0  0  0\n   18.5858   -5.3224   -1.8471 C   0  0  0  0  0  0  0  0  0  0  0  0\n   19.6415   -5.8685   -4.3100 O   0  0  0  0  0  0  0  0  0  0  0  0\n   16.9953   -2.9894   -6.7568 C   0  0  0  0  0  0  0  0  0  0  0  0\n   17.4775   -1.7161   -7.0767 C   0  0  0  0  0  0  0  0  0  0  0  0\n   16.2377   -3.7163   -7.6784 C   0  0  0  0  0  0  0  0  0  0  0  0\n   17.1639   -1.1541   -8.3143 C   0  0  0  0  0  0  0  0  0  0  0  0\n   15.9282   -3.1485   -8.9141 C   0  0  0  0  0  0  0  0  0  0  0  0\n   16.3865   -1.8676   -9.2285 C   0  0  0  0  0  0  0  0  0  0  0  0\n  1  2  1  0  0  0\n  2  3  2  0  0  0\n  2  4  1  0  0  0\n  3  5  1  0  0  0\n  4  6  2  0  0  0\n  5  7  1  0  0  0\n  5  8  2  0  0  0\n  7  9  2  0  0  0\n  7 14  1  0  0  0\n  8 10  1  0  0  0\n  9 11  1  0  0  0\n 14 15  2  0  0  0\n 14 16  1  0  0  0\n 10 12  1  0  0  0\n 11 13  2  0  0  0\n 15 17  1  0  0  0\n 16 18  2  0  0  0\n 17 19  2  0  0  0\n  6  8  1  0  0  0\n 10 11  1  0  0  0\n 18 19  1  0  0  0\nM  END\n> <minimizedAffinity>\n-7.86146\n\n$$$$\n63134\n\n\n 19 21  0  0  0  0  0  0  0  0999 V2000\n   19.4834   -6.4737   -2.2540 Cl  0  0  0  0  0  0  0  0  0  0  0  0\n   19.2554   -5.2461   -3.4367 C   0  0  0  0  0  0  0  0  0  0  0  0\n   18.0262   -4.6012   -3.5370 C   0  0  0  0  0  0  0  0  0  0  0  0\n   20.3004   -4.9058   -4.2891 C   0  0  0  0  0  0  0  0  0  0  0  0\n   17.8494   -3.5949   -4.4969 C   0  0  0  0  0  0  0  0  0  0  0  0\n   20.1119   -3.9185   -5.2609 C   0  0  0  0  0  0  0  0  0  0  0  0\n   16.5806   -2.8577   -4.6674 C   0  0  0  0  0  0  0  0  0  0  0  0\n   18.8795   -3.2579   -5.3793 C   0  0  0  0  0  0  0  0  0  0  0  0\n   16.3893   -2.0045   -5.6203 N   0  0  0  0  0  0  0  0  0  0  0  0\n   18.6338   -2.2815   -6.3776 N   0  0  0  0  0  0  0  0  0  0  0  0\n   17.3753   -1.6910   -6.5184 C   0  0  0  0  0  0  0  0  0  0  0  0\n   19.6855   -1.9035   -7.3075 C   0  0  0  0  0  0  0  0  0  0  0  0\n   17.1472   -0.8925   -7.4248 O   0  0  0  0  0  0  0  0  0  0  0  0\n   15.4530   -3.0753   -3.7312 C   0  0  0  0  0  0  0  0  0  0  0  0\n   14.4161   -3.9524   -4.0653 C   0  0  0  0  0  0  0  0  0  0  0  0\n   15.4667   -2.4273   -2.4936 C   0  0  0  0  0  0  0  0  0  0  0  0\n   13.3672   -4.1495   -3.1670 C   0  0  0  0  0  0  0  0  0  0  0  0\n   14.4149   -2.6291   -1.6001 C   0  0  0  0  0  0  0  0  0  0  0  0\n   13.3650   -3.4847   -1.9393 C   0  0  0  0  0  0  0  0  0  0  0  0\n  1  2  1  0  0  0\n  2  3  2  0  0  0\n  2  4  1  0  0  0\n  3  5  1  0  0  0\n  4  6  2  0  0  0\n  5  7  1  0  0  0\n  5  8  2  0  0  0\n  7  9  2  0  0  0\n  7 14  1  0  0  0\n  8 10  1  0  0  0\n  9 11  1  0  0  0\n 14 15  2  0  0  0\n 14 16  1  0  0  0\n 10 12  1  0  0  0\n 11 13  2  0  0  0\n 15 17  1  0  0  0\n 16 18  2  0  0  0\n 17 19  2  0  0  0\n  6  8  1  0  0  0\n 10 11  1  0  0  0\n 18 19  1  0  0  0\nM  END\n> <minimizedAffinity>\n-7.63839\n\n$$$$\n63134\n\n\n 19 21  0  0  0  0  0  0  0  0999 V2000\n   19.8825   -4.2465   -4.2458 Cl  0  0  0  0  0  0  0  0  0  0  0  0\n   18.9386   -3.2104   -5.2426 C   0  0  0  0  0  0  0  0  0  0  0  0\n   17.5930   -3.0070   -4.9514 C   0  0  0  0  0  0  0  0  0  0  0  0\n   19.5246   -2.5831   -6.3368 C   0  0  0  0  0  0  0  0  0  0  0  0\n   16.8311   -2.1541   -5.7621 C   0  0  0  0  0  0  0  0  0  0  0  0\n   18.7549   -1.7524   -7.1568 C   0  0  0  0  0  0  0  0  0  0  0  0\n   15.3997   -1.8793   -5.5215 C   0  0  0  0  0  0  0  0  0  0  0  0\n   17.3961   -1.5359   -6.8810 C   0  0  0  0  0  0  0  0  0  0  0  0\n   14.6764   -1.1754   -6.3302 N   0  0  0  0  0  0  0  0  0  0  0  0\n   16.5709   -0.7353   -7.7106 N   0  0  0  0  0  0  0  0  0  0  0  0\n   15.2048   -0.5945   -7.4529 C   0  0  0  0  0  0  0  0  0  0  0  0\n   17.1283   -0.0732   -8.8788 C   0  0  0  0  0  0  0  0  0  0  0  0\n   14.4795    0.0477   -8.2096 O   0  0  0  0  0  0  0  0  0  0  0  0\n   14.7237   -2.4144   -4.3166 C   0  0  0  0  0  0  0  0  0  0  0  0\n   14.7603   -1.7050   -3.1118 C   0  0  0  0  0  0  0  0  0  0  0  0\n   14.0124   -3.6127   -4.4161 C   0  0  0  0  0  0  0  0  0  0  0  0\n   14.1112   -2.2219   -1.9905 C   0  0  0  0  0  0  0  0  0  0  0  0\n   13.3654   -4.1237   -3.2911 C   0  0  0  0  0  0  0  0  0  0  0  0\n   13.4197   -3.4316   -2.0797 C   0  0  0  0  0  0  0  0  0  0  0  0\n  1  2  1  0  0  0\n  2  3  2  0  0  0\n  2  4  1  0  0  0\n  3  5  1  0  0  0\n  4  6  2  0  0  0\n  5  7  1  0  0  0\n  5  8  2  0  0  0\n  7  9  2  0  0  0\n  7 14  1  0  0  0\n  8 10  1  0  0  0\n  9 11  1  0  0  0\n 14 15  2  0  0  0\n 14 16  1  0  0  0\n 10 12  1  0  0  0\n 11 13  2  0  0  0\n 15 17  1  0  0  0\n 16 18  2  0  0  0\n 17 19  2  0  0  0\n  6  8  1  0  0  0\n 10 11  1  0  0  0\n 18 19  1  0  0  0\nM  END\n> <minimizedAffinity>\n-7.00591\n\n$$$$\n63134\n\n\n 19 21  0  0  0  0  0  0  0  0999 V2000\n   13.3653   -1.8938   -3.2700 Cl  0  0  0  0  0  0  0  0  0  0  0  0\n   14.9964   -2.4039   -3.4628 C   0  0  0  0  0  0  0  0  0  0  0  0\n   15.6029   -2.3259   -4.7130 C   0  0  0  0  0  0  0  0  0  0  0  0\n   15.7005   -2.8947   -2.3685 C   0  0  0  0  0  0  0  0  0  0  0  0\n   16.9356   -2.7346   -4.8620 C   0  0  0  0  0  0  0  0  0  0  0  0\n   17.0217   -3.3238   -2.5269 C   0  0  0  0  0  0  0  0  0  0  0  0\n   17.6559   -2.6806   -6.1506 C   0  0  0  0  0  0  0  0  0  0  0  0\n   17.6503   -3.2549   -3.7796 C   0  0  0  0  0  0  0  0  0  0  0  0\n   18.8492   -3.1544   -6.3060 N   0  0  0  0  0  0  0  0  0  0  0  0\n   18.9734   -3.7183   -3.9920 N   0  0  0  0  0  0  0  0  0  0  0  0\n   19.5498   -3.7039   -5.2647 C   0  0  0  0  0  0  0  0  0  0  0  0\n   19.7466   -4.2597   -2.8863 C   0  0  0  0  0  0  0  0  0  0  0  0\n   20.6728   -4.1652   -5.4576 O   0  0  0  0  0  0  0  0  0  0  0  0\n   17.0215   -2.0684   -7.3414 C   0  0  0  0  0  0  0  0  0  0  0  0\n   16.2728   -2.8524   -8.2252 C   0  0  0  0  0  0  0  0  0  0  0  0\n   17.1447   -0.6911   -7.5406 C   0  0  0  0  0  0  0  0  0  0  0  0\n   15.6772   -2.2558   -9.3366 C   0  0  0  0  0  0  0  0  0  0  0  0\n   16.5463   -0.1011   -8.6537 C   0  0  0  0  0  0  0  0  0  0  0  0\n   15.8185   -0.8836   -9.5522 C   0  0  0  0  0  0  0  0  0  0  0  0\n  1  2  1  0  0  0\n  2  3  2  0  0  0\n  2  4  1  0  0  0\n  3  5  1  0  0  0\n  4  6  2  0  0  0\n  5  7  1  0  0  0\n  5  8  2  0  0  0\n  7  9  2  0  0  0\n  7 14  1  0  0  0\n  8 10  1  0  0  0\n  9 11  1  0  0  0\n 14 15  2  0  0  0\n 14 16  1  0  0  0\n 10 12  1  0  0  0\n 11 13  2  0  0  0\n 15 17  1  0  0  0\n 16 18  2  0  0  0\n 17 19  2  0  0  0\n  6  8  1  0  0  0\n 10 11  1  0  0  0\n 18 19  1  0  0  0\nM  END\n> <minimizedAffinity>\n-6.82876\n\n$$$$\n63134\n\n\n 19 21  0  0  0  0  0  0  0  0999 V2000\n   13.3650   -6.2609   -5.7158 Cl  0  0  0  0  0  0  0  0  0  0  0  0\n   14.4832   -5.1172   -6.3478 C   0  0  0  0  0  0  0  0  0  0  0  0\n   15.6685   -4.8583   -5.6659 C   0  0  0  0  0  0  0  0  0  0  0  0\n   14.1958   -4.4545   -7.5362 C   0  0  0  0  0  0  0  0  0  0  0  0\n   16.5802   -3.9318   -6.1908 C   0  0  0  0  0  0  0  0  0  0  0  0\n   15.0969   -3.5135   -8.0435 C   0  0  0  0  0  0  0  0  0  0  0  0\n   17.8621   -3.6019   -5.5347 C   0  0  0  0  0  0  0  0  0  0  0  0\n   16.2966   -3.2371   -7.3699 C   0  0  0  0  0  0  0  0  0  0  0  0\n   18.6510   -2.6728   -5.9669 N   0  0  0  0  0  0  0  0  0  0  0  0\n   17.2170   -2.2605   -7.8275 N   0  0  0  0  0  0  0  0  0  0  0  0\n   18.3695   -1.9546   -7.0991 C   0  0  0  0  0  0  0  0  0  0  0  0\n   16.9552   -1.5242   -9.0534 C   0  0  0  0  0  0  0  0  0  0  0  0\n   19.1328   -1.0630   -7.4648 O   0  0  0  0  0  0  0  0  0  0  0  0\n   18.3005   -4.3404   -4.3273 C   0  0  0  0  0  0  0  0  0  0  0  0\n   17.7135   -4.0768   -3.0856 C   0  0  0  0  0  0  0  0  0  0  0  0\n   19.2741   -5.3337   -4.4583 C   0  0  0  0  0  0  0  0  0  0  0  0\n   18.1349   -4.7881   -1.9620 C   0  0  0  0  0  0  0  0  0  0  0  0\n   19.6905   -6.0413   -3.3308 C   0  0  0  0  0  0  0  0  0  0  0  0\n   19.1251   -5.7646   -2.0846 C   0  0  0  0  0  0  0  0  0  0  0  0\n  1  2  1  0  0  0\n  2  3  2  0  0  0\n  2  4  1  0  0  0\n  3  5  1  0  0  0\n  4  6  2  0  0  0\n  5  7  1  0  0  0\n  5  8  2  0  0  0\n  7  9  2  0  0  0\n  7 14  1  0  0  0\n  8 10  1  0  0  0\n  9 11  1  0  0  0\n 14 15  2  0  0  0\n 14 16  1  0  0  0\n 10 12  1  0  0  0\n 11 13  2  0  0  0\n 15 17  1  0  0  0\n 16 18  2  0  0  0\n 17 19  2  0  0  0\n  6  8  1  0  0  0\n 10 11  1  0  0  0\n 18 19  1  0  0  0\nM  END\n> <minimizedAffinity>\n-6.50370\n\n$$$$\n63134\n\n\n 19 21  0  0  0  0  0  0  0  0999 V2000\n   13.3650   -6.0286   -6.1961 Cl  0  0  0  0  0  0  0  0  0  0  0  0\n   14.1131   -4.6866   -6.9691 C   0  0  0  0  0  0  0  0  0  0  0  0\n   15.2303   -4.0900   -6.3923 C   0  0  0  0  0  0  0  0  0  0  0  0\n   13.5957   -4.2025   -8.1658 C   0  0  0  0  0  0  0  0  0  0  0  0\n   15.8412   -3.0023   -7.0317 C   0  0  0  0  0  0  0  0  0  0  0  0\n   14.1937   -3.1023   -8.7876 C   0  0  0  0  0  0  0  0  0  0  0  0\n   17.0318   -2.3147   -6.4915 C   0  0  0  0  0  0  0  0  0  0  0  0\n   15.3198   -2.4857   -8.2210 C   0  0  0  0  0  0  0  0  0  0  0  0\n   17.5291   -1.2489   -7.0296 N   0  0  0  0  0  0  0  0  0  0  0  0\n   15.9303   -1.3428   -8.7968 N   0  0  0  0  0  0  0  0  0  0  0  0\n   17.0065   -0.7058   -8.1737 C   0  0  0  0  0  0  0  0  0  0  0  0\n   15.4165   -0.7838  -10.0366 C   0  0  0  0  0  0  0  0  0  0  0  0\n   17.4925    0.3218   -8.6416 O   0  0  0  0  0  0  0  0  0  0  0  0\n   17.7154   -2.8324   -5.2832 C   0  0  0  0  0  0  0  0  0  0  0  0\n   18.9658   -3.4502   -5.3886 C   0  0  0  0  0  0  0  0  0  0  0  0\n   17.1130   -2.6522   -4.0357 C   0  0  0  0  0  0  0  0  0  0  0  0\n   19.5965   -3.9244   -4.2382 C   0  0  0  0  0  0  0  0  0  0  0  0\n   17.7493   -3.1284   -2.8896 C   0  0  0  0  0  0  0  0  0  0  0  0\n   18.9862   -3.7679   -2.9923 C   0  0  0  0  0  0  0  0  0  0  0  0\n  1  2  1  0  0  0\n  2  3  2  0  0  0\n  2  4  1  0  0  0\n  3  5  1  0  0  0\n  4  6  2  0  0  0\n  5  7  1  0  0  0\n  5  8  2  0  0  0\n  7  9  2  0  0  0\n  7 14  1  0  0  0\n  8 10  1  0  0  0\n  9 11  1  0  0  0\n 14 15  2  0  0  0\n 14 16  1  0  0  0\n 10 12  1  0  0  0\n 11 13  2  0  0  0\n 15 17  1  0  0  0\n 16 18  2  0  0  0\n 17 19  2  0  0  0\n  6  8  1  0  0  0\n 10 11  1  0  0  0\n 18 19  1  0  0  0\nM  END\n> <minimizedAffinity>\n-6.38097\n\n$$$$\n63134\n\n\n 19 21  0  0  0  0  0  0  0  0999 V2000\n   13.3672   -1.4577   -4.0115 Cl  0  0  0  0  0  0  0  0  0  0  0  0\n   14.9886   -1.7925   -4.4770 C   0  0  0  0  0  0  0  0  0  0  0  0\n   15.4530   -1.3717   -5.7196 C   0  0  0  0  0  0  0  0  0  0  0  0\n   15.8270   -2.4850   -3.6099 C   0  0  0  0  0  0  0  0  0  0  0  0\n   16.7784   -1.6395   -6.0897 C   0  0  0  0  0  0  0  0  0  0  0  0\n   17.1409   -2.7710   -3.9931 C   0  0  0  0  0  0  0  0  0  0  0  0\n   17.3528   -1.2247   -7.3859 C   0  0  0  0  0  0  0  0  0  0  0  0\n   17.6274   -2.3568   -5.2425 C   0  0  0  0  0  0  0  0  0  0  0  0\n   18.5419   -1.5635   -7.7652 N   0  0  0  0  0  0  0  0  0  0  0  0\n   18.9388   -2.6628   -5.6863 N   0  0  0  0  0  0  0  0  0  0  0  0\n   19.3737   -2.3001   -6.9637 C   0  0  0  0  0  0  0  0  0  0  0  0\n   19.8494   -3.4023   -4.8274 C   0  0  0  0  0  0  0  0  0  0  0  0\n   20.4884   -2.6225   -7.3695 O   0  0  0  0  0  0  0  0  0  0  0  0\n   16.5679   -0.3865   -8.3223 C   0  0  0  0  0  0  0  0  0  0  0  0\n   17.0218    0.8866   -8.6816 C   0  0  0  0  0  0  0  0  0  0  0  0\n   15.3945   -0.9063   -8.8743 C   0  0  0  0  0  0  0  0  0  0  0  0\n   16.2722    1.6574   -9.5704 C   0  0  0  0  0  0  0  0  0  0  0  0\n   14.6501   -0.1304   -9.7626 C   0  0  0  0  0  0  0  0  0  0  0  0\n   15.0862    1.1509  -10.1054 C   0  0  0  0  0  0  0  0  0  0  0  0\n  1  2  1  0  0  0\n  2  3  2  0  0  0\n  2  4  1  0  0  0\n  3  5  1  0  0  0\n  4  6  2  0  0  0\n  5  7  1  0  0  0\n  5  8  2  0  0  0\n  7  9  2  0  0  0\n  7 14  1  0  0  0\n  8 10  1  0  0  0\n  9 11  1  0  0  0\n 14 15  2  0  0  0\n 14 16  1  0  0  0\n 10 12  1  0  0  0\n 11 13  2  0  0  0\n 15 17  1  0  0  0\n 16 18  2  0  0  0\n 17 19  2  0  0  0\n  6  8  1  0  0  0\n 10 11  1  0  0  0\n 18 19  1  0  0  0\nM  END\n> <minimizedAffinity>\n-6.32569\n\n$$$$\n3810484\n\n\n 22 24  0  0  0  0  0  0  0  0999 V2000\n   16.5056   -0.3863   -8.0324 Cl  0  0  0  0  0  0  0  0  0  0  0  0\n   17.5583   -1.3996   -7.1233 C   0  0  0  0  0  0  0  0  0  0  0  0\n   17.0725   -2.0729   -6.0007 C   0  0  0  0  0  0  0  0  0  0  0  0\n   18.8871   -1.5396   -7.5155 C   0  0  0  0  0  0  0  0  0  0  0  0\n   17.9187   -2.9031   -5.2491 C   0  0  0  0  0  0  0  0  0  0  0  0\n   19.7399   -2.3604   -6.7792 C   0  0  0  0  0  0  0  0  0  0  0  0\n   17.4380   -3.6365   -4.0474 C   0  0  0  0  0  0  0  0  0  0  0  0\n   19.2526   -3.0337   -5.6561 C   0  0  0  0  0  0  0  0  0  0  0  0\n   18.2960   -4.4262   -3.3556 C   0  0  0  0  0  0  0  0  0  0  0  0\n   20.1149   -3.8503   -4.9294 N   0  0  0  0  0  0  0  0  0  0  0  0\n   17.9969   -5.1624   -2.2295 N   0  0  0  0  0  0  0  0  0  0  0  0\n   19.7373   -4.5480   -3.8212 C   0  0  0  0  0  0  0  0  0  0  0  0\n   20.5399   -5.2572   -3.2139 O   0  0  0  0  0  0  0  0  0  0  0  0\n   21.0812   -3.9598   -5.2040 H   0  0  0  0  0  0  0  0  0  0  0  0\n   18.7493   -5.7099   -1.8188 H   0  0  0  0  0  0  0  0  0  0  0  0\n   17.0682   -5.1572   -1.8303 H   0  0  0  0  0  0  0  0  0  0  0  0\n   16.0420   -3.5508   -3.5526 C   0  0  0  0  0  0  0  0  0  0  0  0\n   15.7572   -2.8796   -2.3563 C   0  0  0  0  0  0  0  0  0  0  0  0\n   14.9986   -4.1404   -4.2781 C   0  0  0  0  0  0  0  0  0  0  0  0\n   14.4437   -2.8020   -1.8910 C   0  0  0  0  0  0  0  0  0  0  0  0\n   13.6862   -4.0608   -3.8099 C   0  0  0  0  0  0  0  0  0  0  0  0\n   13.4099   -3.3927   -2.6173 C   0  0  0  0  0  0  0  0  0  0  0  0\n  1  2  1  0  0  0\n  2  3  2  0  0  0\n  2  4  1  0  0  0\n  3  5  1  0  0  0\n  4  6  2  0  0  0\n  5  7  1  0  0  0\n  5  8  2  0  0  0\n  7  9  2  0  0  0\n  7 17  1  0  0  0\n  8 10  1  0  0  0\n  9 11  1  0  0  0\n  9 12  1  0  0  0\n 17 18  2  0  0  0\n 17 19  1  0  0  0\n 12 13  2  0  0  0\n 18 20  1  0  0  0\n 19 21  2  0  0  0\n 20 22  2  0  0  0\n  6  8  1  0  0  0\n 10 12  1  0  0  0\n 21 22  1  0  0  0\n 10 14  1  0  0  0\n 11 15  1  0  0  0\n 11 16  1  0  0  0\nM  END\n> <minimizedAffinity>\n-7.70113\n\n$$$$\n3810484\n\n\n 22 24  0  0  0  0  0  0  0  0999 V2000\n   13.3659   -1.2413   -3.0887 Cl  0  0  0  0  0  0  0  0  0  0  0  0\n   14.7658   -2.2247   -2.9026 C   0  0  0  0  0  0  0  0  0  0  0  0\n   15.4961   -2.6098   -4.0287 C   0  0  0  0  0  0  0  0  0  0  0  0\n   15.1587   -2.6286   -1.6291 C   0  0  0  0  0  0  0  0  0  0  0  0\n   16.6402   -3.4116   -3.8932 C   0  0  0  0  0  0  0  0  0  0  0  0\n   16.2926   -3.4252   -1.4782 C   0  0  0  0  0  0  0  0  0  0  0  0\n   17.4438   -3.8421   -5.0687 C   0  0  0  0  0  0  0  0  0  0  0  0\n   17.0226   -3.8098   -2.6058 C   0  0  0  0  0  0  0  0  0  0  0  0\n   18.5410   -4.6169   -4.8838 C   0  0  0  0  0  0  0  0  0  0  0  0\n   18.1531   -4.6056   -2.4412 N   0  0  0  0  0  0  0  0  0  0  0  0\n   19.3787   -5.0905   -5.8704 N   0  0  0  0  0  0  0  0  0  0  0  0\n   18.9310   -5.0330   -3.4754 C   0  0  0  0  0  0  0  0  0  0  0  0\n   19.9219   -5.7362   -3.2757 O   0  0  0  0  0  0  0  0  0  0  0  0\n   18.4482   -4.9050   -1.5223 H   0  0  0  0  0  0  0  0  0  0  0  0\n   20.1660   -5.6634   -5.5762 H   0  0  0  0  0  0  0  0  0  0  0  0\n   19.2158   -4.8764   -6.8449 H   0  0  0  0  0  0  0  0  0  0  0  0\n   17.1050   -3.4628   -6.4624 C   0  0  0  0  0  0  0  0  0  0  0  0\n   17.6958   -2.3372   -7.0510 C   0  0  0  0  0  0  0  0  0  0  0  0\n   16.1917   -4.2277   -7.1997 C   0  0  0  0  0  0  0  0  0  0  0  0\n   17.3741   -1.9805   -8.3614 C   0  0  0  0  0  0  0  0  0  0  0  0\n   15.8724   -3.8682   -8.5099 C   0  0  0  0  0  0  0  0  0  0  0  0\n   16.4628   -2.7453   -9.0893 C   0  0  0  0  0  0  0  0  0  0  0  0\n  1  2  1  0  0  0\n  2  3  2  0  0  0\n  2  4  1  0  0  0\n  3  5  1  0  0  0\n  4  6  2  0  0  0\n  5  7  1  0  0  0\n  5  8  2  0  0  0\n  7  9  2  0  0  0\n  7 17  1  0  0  0\n  8 10  1  0  0  0\n  9 11  1  0  0  0\n  9 12  1  0  0  0\n 17 18  2  0  0  0\n 17 19  1  0  0  0\n 12 13  2  0  0  0\n 18 20  1  0  0  0\n 19 21  2  0  0  0\n 20 22  2  0  0  0\n  6  8  1  0  0  0\n 10 12  1  0  0  0\n 21 22  1  0  0  0\n 10 14  1  0  0  0\n 11 15  1  0  0  0\n 11 16  1  0  0  0\nM  END\n> <minimizedAffinity>\n-7.54611\n\n$$$$\n3810484\n\n\n 22 24  0  0  0  0  0  0  0  0999 V2000\n   18.1276   -6.0524   -1.0191 Cl  0  0  0  0  0  0  0  0  0  0  0  0\n   18.6638   -5.2416   -2.4391 C   0  0  0  0  0  0  0  0  0  0  0  0\n   17.8094   -4.3514   -3.0926 C   0  0  0  0  0  0  0  0  0  0  0  0\n   19.9469   -5.4805   -2.9248 C   0  0  0  0  0  0  0  0  0  0  0  0\n   18.2324   -3.6823   -4.2517 C   0  0  0  0  0  0  0  0  0  0  0  0\n   20.3815   -4.8238   -4.0750 C   0  0  0  0  0  0  0  0  0  0  0  0\n   17.3511   -2.7271   -4.9754 C   0  0  0  0  0  0  0  0  0  0  0  0\n   19.5255   -3.9331   -4.7280 C   0  0  0  0  0  0  0  0  0  0  0  0\n   17.8076   -2.1064   -6.0911 C   0  0  0  0  0  0  0  0  0  0  0  0\n   19.9719   -3.2838   -5.8759 N   0  0  0  0  0  0  0  0  0  0  0  0\n   17.1104   -1.2018   -6.8625 N   0  0  0  0  0  0  0  0  0  0  0  0\n   19.2150   -2.3987   -6.5837 C   0  0  0  0  0  0  0  0  0  0  0  0\n   19.6577   -1.8508   -7.5936 O   0  0  0  0  0  0  0  0  0  0  0  0\n   20.9007   -3.4489   -6.2381 H   0  0  0  0  0  0  0  0  0  0  0  0\n   17.5878   -0.8182   -7.6746 H   0  0  0  0  0  0  0  0  0  0  0  0\n   16.1644   -0.9322   -6.6292 H   0  0  0  0  0  0  0  0  0  0  0  0\n   15.9706   -2.4081   -4.5354 C   0  0  0  0  0  0  0  0  0  0  0  0\n   14.8862   -3.1512   -5.0197 C   0  0  0  0  0  0  0  0  0  0  0  0\n   15.7417   -1.3616   -3.6326 C   0  0  0  0  0  0  0  0  0  0  0  0\n   13.5880   -2.8483   -4.6066 C   0  0  0  0  0  0  0  0  0  0  0  0\n   14.4421   -1.0615   -3.2215 C   0  0  0  0  0  0  0  0  0  0  0  0\n   13.3669   -1.8040   -3.7089 C   0  0  0  0  0  0  0  0  0  0  0  0\n  1  2  1  0  0  0\n  2  3  2  0  0  0\n  2  4  1  0  0  0\n  3  5  1  0  0  0\n  4  6  2  0  0  0\n  5  7  1  0  0  0\n  5  8  2  0  0  0\n  7  9  2  0  0  0\n  7 17  1  0  0  0\n  8 10  1  0  0  0\n  9 11  1  0  0  0\n  9 12  1  0  0  0\n 17 18  2  0  0  0\n 17 19  1  0  0  0\n 12 13  2  0  0  0\n 18 20  1  0  0  0\n 19 21  2  0  0  0\n 20 22  2  0  0  0\n  6  8  1  0  0  0\n 10 12  1  0  0  0\n 21 22  1  0  0  0\n 10 14  1  0  0  0\n 11 15  1  0  0  0\n 11 16  1  0  0  0\nM  END\n> <minimizedAffinity>\n-7.52808\n\n$$$$\n3810484\n\n\n 22 24  0  0  0  0  0  0  0  0999 V2000\n   19.8776   -5.5295   -4.0945 Cl  0  0  0  0  0  0  0  0  0  0  0  0\n   18.5049   -4.6239   -3.5876 C   0  0  0  0  0  0  0  0  0  0  0  0\n   17.6920   -4.0069   -4.5405 C   0  0  0  0  0  0  0  0  0  0  0  0\n   18.2163   -4.5140   -2.2297 C   0  0  0  0  0  0  0  0  0  0  0  0\n   16.5689   -3.2649   -4.1427 C   0  0  0  0  0  0  0  0  0  0  0  0\n   17.1044   -3.7805   -1.8188 C   0  0  0  0  0  0  0  0  0  0  0  0\n   15.6794   -2.5935   -5.1280 C   0  0  0  0  0  0  0  0  0  0  0  0\n   16.2917   -3.1636   -2.7734 C   0  0  0  0  0  0  0  0  0  0  0  0\n   14.6066   -1.8883   -4.6918 C   0  0  0  0  0  0  0  0  0  0  0  0\n   15.1843   -2.4338   -2.3497 N   0  0  0  0  0  0  0  0  0  0  0  0\n   13.6983   -1.2166   -5.4813 N   0  0  0  0  0  0  0  0  0  0  0  0\n   14.3315   -1.7962   -3.2003 C   0  0  0  0  0  0  0  0  0  0  0  0\n   13.3652   -1.1632   -2.7737 O   0  0  0  0  0  0  0  0  0  0  0  0\n   14.9645   -2.3468   -1.3672 H   0  0  0  0  0  0  0  0  0  0  0  0\n   12.9413   -0.7297   -5.0075 H   0  0  0  0  0  0  0  0  0  0  0  0\n   13.7826   -1.2094   -6.4886 H   0  0  0  0  0  0  0  0  0  0  0  0\n   15.9049   -2.6533   -6.5931 C   0  0  0  0  0  0  0  0  0  0  0  0\n   16.6552   -1.6581   -7.2329 C   0  0  0  0  0  0  0  0  0  0  0  0\n   15.3691   -3.7054   -7.3472 C   0  0  0  0  0  0  0  0  0  0  0  0\n   16.8644   -1.7147   -8.6116 C   0  0  0  0  0  0  0  0  0  0  0  0\n   15.5803   -3.7589   -8.7258 C   0  0  0  0  0  0  0  0  0  0  0  0\n   16.3267   -2.7639   -9.3567 C   0  0  0  0  0  0  0  0  0  0  0  0\n  1  2  1  0  0  0\n  2  3  2  0  0  0\n  2  4  1  0  0  0\n  3  5  1  0  0  0\n  4  6  2  0  0  0\n  5  7  1  0  0  0\n  5  8  2  0  0  0\n  7  9  2  0  0  0\n  7 17  1  0  0  0\n  8 10  1  0  0  0\n  9 11  1  0  0  0\n  9 12  1  0  0  0\n 17 18  2  0  0  0\n 17 19  1  0  0  0\n 12 13  2  0  0  0\n 18 20  1  0  0  0\n 19 21  2  0  0  0\n 20 22  2  0  0  0\n  6  8  1  0  0  0\n 10 12  1  0  0  0\n 21 22  1  0  0  0\n 10 14  1  0  0  0\n 11 15  1  0  0  0\n 11 16  1  0  0  0\nM  END\n> <minimizedAffinity>\n-7.26939\n\n$$$$\n3810484\n\n\n 22 24  0  0  0  0  0  0  0  0999 V2000\n   13.5497   -3.2616   -2.3574 Cl  0  0  0  0  0  0  0  0  0  0  0  0\n   14.7458   -2.8069   -3.5081 C   0  0  0  0  0  0  0  0  0  0  0  0\n   15.9899   -3.4408   -3.5009 C   0  0  0  0  0  0  0  0  0  0  0  0\n   14.4623   -1.8095   -4.4376 C   0  0  0  0  0  0  0  0  0  0  0  0\n   16.9757   -3.0811   -4.4332 C   0  0  0  0  0  0  0  0  0  0  0  0\n   15.4311   -1.4411   -5.3698 C   0  0  0  0  0  0  0  0  0  0  0  0\n   18.3124   -3.7333   -4.4568 C   0  0  0  0  0  0  0  0  0  0  0  0\n   16.6756   -2.0762   -5.3617 C   0  0  0  0  0  0  0  0  0  0  0  0\n   19.2301   -3.3492   -5.3781 C   0  0  0  0  0  0  0  0  0  0  0  0\n   17.6343   -1.6987   -6.2980 N   0  0  0  0  0  0  0  0  0  0  0  0\n   20.5025   -3.8590   -5.5214 N   0  0  0  0  0  0  0  0  0  0  0  0\n   18.8757   -2.2562   -6.3724 C   0  0  0  0  0  0  0  0  0  0  0  0\n   19.6878   -1.8859   -7.2207 O   0  0  0  0  0  0  0  0  0  0  0  0\n   17.4405   -0.9763   -6.9775 H   0  0  0  0  0  0  0  0  0  0  0  0\n   21.0790   -3.4683   -6.2627 H   0  0  0  0  0  0  0  0  0  0  0  0\n   20.8463   -4.5905   -4.9143 H   0  0  0  0  0  0  0  0  0  0  0  0\n   18.7066   -4.8040   -3.5085 C   0  0  0  0  0  0  0  0  0  0  0  0\n   19.6132   -5.7968   -3.9022 C   0  0  0  0  0  0  0  0  0  0  0  0\n   18.1750   -4.8297   -2.2126 C   0  0  0  0  0  0  0  0  0  0  0  0\n   19.9812   -6.8046   -3.0096 C   0  0  0  0  0  0  0  0  0  0  0  0\n   18.5452   -5.8390   -1.3225 C   0  0  0  0  0  0  0  0  0  0  0  0\n   19.4469   -6.8254   -1.7214 C   0  0  0  0  0  0  0  0  0  0  0  0\n  1  2  1  0  0  0\n  2  3  2  0  0  0\n  2  4  1  0  0  0\n  3  5  1  0  0  0\n  4  6  2  0  0  0\n  5  7  1  0  0  0\n  5  8  2  0  0  0\n  7  9  2  0  0  0\n  7 17  1  0  0  0\n  8 10  1  0  0  0\n  9 11  1  0  0  0\n  9 12  1  0  0  0\n 17 18  2  0  0  0\n 17 19  1  0  0  0\n 12 13  2  0  0  0\n 18 20  1  0  0  0\n 19 21  2  0  0  0\n 20 22  2  0  0  0\n  6  8  1  0  0  0\n 10 12  1  0  0  0\n 21 22  1  0  0  0\n 10 14  1  0  0  0\n 11 15  1  0  0  0\n 11 16  1  0  0  0\nM  END\n> <minimizedAffinity>\n-7.25652\n\n$$$$\n3810484\n\n\n 22 24  0  0  0  0  0  0  0  0999 V2000\n   19.6285   -6.3904   -2.4279 Cl  0  0  0  0  0  0  0  0  0  0  0  0\n   19.3457   -5.2083   -3.6461 C   0  0  0  0  0  0  0  0  0  0  0  0\n   18.1229   -4.5355   -3.6874 C   0  0  0  0  0  0  0  0  0  0  0  0\n   20.3399   -4.9325   -4.5814 C   0  0  0  0  0  0  0  0  0  0  0  0\n   17.8772   -3.5686   -4.6748 C   0  0  0  0  0  0  0  0  0  0  0  0\n   20.1109   -3.9750   -5.5682 C   0  0  0  0  0  0  0  0  0  0  0  0\n   16.5875   -2.8312   -4.7512 C   0  0  0  0  0  0  0  0  0  0  0  0\n   18.8869   -3.3024   -5.6085 C   0  0  0  0  0  0  0  0  0  0  0  0\n   16.4002   -1.9064   -5.7250 C   0  0  0  0  0  0  0  0  0  0  0  0\n   18.6710   -2.3484   -6.5994 N   0  0  0  0  0  0  0  0  0  0  0  0\n   15.2657   -1.1487   -5.9206 N   0  0  0  0  0  0  0  0  0  0  0  0\n   17.5138   -1.6394   -6.7236 C   0  0  0  0  0  0  0  0  0  0  0  0\n   17.3735   -0.8058   -7.6189 O   0  0  0  0  0  0  0  0  0  0  0  0\n   19.3847   -2.1396   -7.2836 H   0  0  0  0  0  0  0  0  0  0  0  0\n   15.2733   -0.4926   -6.6977 H   0  0  0  0  0  0  0  0  0  0  0  0\n   14.4610   -1.2425   -5.3159 H   0  0  0  0  0  0  0  0  0  0  0  0\n   15.4704   -3.0554   -3.8011 C   0  0  0  0  0  0  0  0  0  0  0  0\n   15.4631   -2.4130   -2.5561 C   0  0  0  0  0  0  0  0  0  0  0  0\n   14.4149   -3.9112   -4.1421 C   0  0  0  0  0  0  0  0  0  0  0  0\n   14.4126   -2.6270   -1.6626 C   0  0  0  0  0  0  0  0  0  0  0  0\n   13.3660   -4.1227   -3.2461 C   0  0  0  0  0  0  0  0  0  0  0  0\n   13.3658   -3.4815   -2.0076 C   0  0  0  0  0  0  0  0  0  0  0  0\n  1  2  1  0  0  0\n  2  3  2  0  0  0\n  2  4  1  0  0  0\n  3  5  1  0  0  0\n  4  6  2  0  0  0\n  5  7  1  0  0  0\n  5  8  2  0  0  0\n  7  9  2  0  0  0\n  7 17  1  0  0  0\n  8 10  1  0  0  0\n  9 11  1  0  0  0\n  9 12  1  0  0  0\n 17 18  2  0  0  0\n 17 19  1  0  0  0\n 12 13  2  0  0  0\n 18 20  1  0  0  0\n 19 21  2  0  0  0\n 20 22  2  0  0  0\n  6  8  1  0  0  0\n 10 12  1  0  0  0\n 21 22  1  0  0  0\n 10 14  1  0  0  0\n 11 15  1  0  0  0\n 11 16  1  0  0  0\nM  END\n> <minimizedAffinity>\n-7.14312\n\n$$$$\n3810484\n\n\n 22 24  0  0  0  0  0  0  0  0999 V2000\n   13.7533   -3.3845   -1.9065 Cl  0  0  0  0  0  0  0  0  0  0  0  0\n   15.2976   -3.3008   -2.6614 C   0  0  0  0  0  0  0  0  0  0  0  0\n   15.3888   -2.9827   -4.0179 C   0  0  0  0  0  0  0  0  0  0  0  0\n   16.4442   -3.5514   -1.9120 C   0  0  0  0  0  0  0  0  0  0  0  0\n   16.6411   -2.9105   -4.6477 C   0  0  0  0  0  0  0  0  0  0  0  0\n   17.6952   -3.4837   -2.5233 C   0  0  0  0  0  0  0  0  0  0  0  0\n   16.7788   -2.5748   -6.0904 C   0  0  0  0  0  0  0  0  0  0  0  0\n   17.7852   -3.1652   -3.8808 C   0  0  0  0  0  0  0  0  0  0  0  0\n   18.0119   -2.5180   -6.6513 C   0  0  0  0  0  0  0  0  0  0  0  0\n   19.0407   -3.1010   -4.4791 N   0  0  0  0  0  0  0  0  0  0  0  0\n   18.2947   -2.2216   -7.9672 N   0  0  0  0  0  0  0  0  0  0  0  0\n   19.2344   -2.7992   -5.7939 C   0  0  0  0  0  0  0  0  0  0  0  0\n   20.3672   -2.7552   -6.2747 O   0  0  0  0  0  0  0  0  0  0  0  0\n   19.8800   -3.2808   -3.9459 H   0  0  0  0  0  0  0  0  0  0  0  0\n   19.2739   -2.2170   -8.2425 H   0  0  0  0  0  0  0  0  0  0  0  0\n   17.5586   -2.0175   -8.6293 H   0  0  0  0  0  0  0  0  0  0  0  0\n   15.6173   -2.2924   -6.9692 C   0  0  0  0  0  0  0  0  0  0  0  0\n   14.9919   -3.3329   -7.6685 C   0  0  0  0  0  0  0  0  0  0  0  0\n   15.1378   -0.9832   -7.1061 C   0  0  0  0  0  0  0  0  0  0  0  0\n   13.9009   -3.0650   -8.4966 C   0  0  0  0  0  0  0  0  0  0  0  0\n   14.0465   -0.7190   -7.9350 C   0  0  0  0  0  0  0  0  0  0  0  0\n   13.4296   -1.7591   -8.6297 C   0  0  0  0  0  0  0  0  0  0  0  0\n  1  2  1  0  0  0\n  2  3  2  0  0  0\n  2  4  1  0  0  0\n  3  5  1  0  0  0\n  4  6  2  0  0  0\n  5  7  1  0  0  0\n  5  8  2  0  0  0\n  7  9  2  0  0  0\n  7 17  1  0  0  0\n  8 10  1  0  0  0\n  9 11  1  0  0  0\n  9 12  1  0  0  0\n 17 18  2  0  0  0\n 17 19  1  0  0  0\n 12 13  2  0  0  0\n 18 20  1  0  0  0\n 19 21  2  0  0  0\n 20 22  2  0  0  0\n  6  8  1  0  0  0\n 10 12  1  0  0  0\n 21 22  1  0  0  0\n 10 14  1  0  0  0\n 11 15  1  0  0  0\n 11 16  1  0  0  0\nM  END\n> <minimizedAffinity>\n-6.28978\n\n$$$$\n3810484\n\n\n 22 24  0  0  0  0  0  0  0  0999 V2000\n   20.7716   -6.4224   -3.3673 Cl  0  0  0  0  0  0  0  0  0  0  0  0\n   19.3540   -5.5621   -2.9071 C   0  0  0  0  0  0  0  0  0  0  0  0\n   18.7954   -4.6289   -3.7828 C   0  0  0  0  0  0  0  0  0  0  0  0\n   18.7753   -5.8044   -1.6638 C   0  0  0  0  0  0  0  0  0  0  0  0\n   17.6393   -3.9195   -3.4218 C   0  0  0  0  0  0  0  0  0  0  0  0\n   17.6270   -5.1077   -1.2909 C   0  0  0  0  0  0  0  0  0  0  0  0\n   17.0153   -2.9177   -4.3273 C   0  0  0  0  0  0  0  0  0  0  0  0\n   17.0690   -4.1742   -2.1680 C   0  0  0  0  0  0  0  0  0  0  0  0\n   15.8985   -2.2590   -3.9311 C   0  0  0  0  0  0  0  0  0  0  0  0\n   15.9221   -3.4850   -1.7832 N   0  0  0  0  0  0  0  0  0  0  0  0\n   15.2127   -1.3093   -4.6572 N   0  0  0  0  0  0  0  0  0  0  0  0\n   15.3027   -2.5565   -2.5652 C   0  0  0  0  0  0  0  0  0  0  0  0\n   14.2893   -1.9745   -2.1774 O   0  0  0  0  0  0  0  0  0  0  0  0\n   15.4930   -3.6520   -0.8837 H   0  0  0  0  0  0  0  0  0  0  0  0\n   14.3874   -0.9007   -4.2255 H   0  0  0  0  0  0  0  0  0  0  0  0\n   15.5187   -1.0321   -5.5799 H   0  0  0  0  0  0  0  0  0  0  0  0\n   17.5581   -2.5918   -5.6691 C   0  0  0  0  0  0  0  0  0  0  0  0\n   16.7495   -2.7152   -6.8064 C   0  0  0  0  0  0  0  0  0  0  0  0\n   18.8830   -2.1584   -5.8082 C   0  0  0  0  0  0  0  0  0  0  0  0\n   17.2624   -2.4105   -8.0681 C   0  0  0  0  0  0  0  0  0  0  0  0\n   19.3927   -1.8545   -7.0714 C   0  0  0  0  0  0  0  0  0  0  0  0\n   18.5829   -1.9812   -8.1998 C   0  0  0  0  0  0  0  0  0  0  0  0\n  1  2  1  0  0  0\n  2  3  2  0  0  0\n  2  4  1  0  0  0\n  3  5  1  0  0  0\n  4  6  2  0  0  0\n  5  7  1  0  0  0\n  5  8  2  0  0  0\n  7  9  2  0  0  0\n  7 17  1  0  0  0\n  8 10  1  0  0  0\n  9 11  1  0  0  0\n  9 12  1  0  0  0\n 17 18  2  0  0  0\n 17 19  1  0  0  0\n 12 13  2  0  0  0\n 18 20  1  0  0  0\n 19 21  2  0  0  0\n 20 22  2  0  0  0\n  6  8  1  0  0  0\n 10 12  1  0  0  0\n 21 22  1  0  0  0\n 10 14  1  0  0  0\n 11 15  1  0  0  0\n 11 16  1  0  0  0\nM  END\n> <minimizedAffinity>\n-6.10552\n\n$$$$\n24381\n\n\n 10 10  0  0  0  0  0  0  0  0999 V2000\n   17.2376   -3.3409   -1.8165 Cl  0  0  0  0  0  0  0  0  0  0  0  0\n   18.2397   -4.4982   -2.5771 C   0  0  0  0  0  0  0  0  0  0  0  0\n   18.6162   -5.5257   -1.8263 N   0  0  0  0  0  0  0  0  0  0  0  0\n   18.5450   -4.2581   -3.8463 N   0  0  0  0  0  0  0  0  0  0  0  0\n   19.3875   -6.3877   -2.4624 C   0  0  0  0  0  0  0  0  0  0  0  0\n   19.3216   -5.1962   -4.3637 C   0  0  0  0  0  0  0  0  0  0  0  0\n   19.7719   -6.2751   -3.7279 N   0  0  0  0  0  0  0  0  0  0  0  0\n   19.8241   -7.4778   -1.7687 N   0  0  0  0  0  0  0  0  0  0  0  0\n   19.5426   -7.5794   -0.8087 H   0  0  0  0  0  0  0  0  0  0  0  0\n   20.4121   -8.1417   -2.2422 H   0  0  0  0  0  0  0  0  0  0  0  0\n  1  2  1  0  0  0\n  2  3  2  0  0  0\n  2  4  1  0  0  0\n  3  5  1  0  0  0\n  4  6  2  0  0  0\n  5  7  2  0  0  0\n  5  8  1  0  0  0\n  6  7  1  0  0  0\n  8  9  1  0  0  0\n  8 10  1  0  0  0\nM  END\n> <minimizedAffinity>\n-4.28004\n\n$$$$\n24381\n\n\n 10 10  0  0  0  0  0  0  0  0999 V2000\n   20.0026   -5.5807   -3.4486 Cl  0  0  0  0  0  0  0  0  0  0  0  0\n   19.2539   -4.4911   -4.5323 C   0  0  0  0  0  0  0  0  0  0  0  0\n   20.0602   -3.6347   -5.1468 N   0  0  0  0  0  0  0  0  0  0  0  0\n   17.9374   -4.6064   -4.6555 N   0  0  0  0  0  0  0  0  0  0  0  0\n   19.4308   -2.8178   -5.9710 C   0  0  0  0  0  0  0  0  0  0  0  0\n   17.4327   -3.7311   -5.5098 C   0  0  0  0  0  0  0  0  0  0  0  0\n   18.1220   -2.8198   -6.1921 N   0  0  0  0  0  0  0  0  0  0  0  0\n   20.1801   -1.9011   -6.6480 N   0  0  0  0  0  0  0  0  0  0  0  0\n   21.1735   -1.8852   -6.4928 H   0  0  0  0  0  0  0  0  0  0  0  0\n   19.7123   -1.2733   -7.2787 H   0  0  0  0  0  0  0  0  0  0  0  0\n  1  2  1  0  0  0\n  2  3  2  0  0  0\n  2  4  1  0  0  0\n  3  5  1  0  0  0\n  4  6  2  0  0  0\n  5  7  2  0  0  0\n  5  8  1  0  0  0\n  6  7  1  0  0  0\n  8  9  1  0  0  0\n  8 10  1  0  0  0\nM  END\n> <minimizedAffinity>\n-4.19826\n\n$$$$\n24381\n\n\n 10 10  0  0  0  0  0  0  0  0999 V2000\n   19.7443   -1.7984   -7.0340 Cl  0  0  0  0  0  0  0  0  0  0  0  0\n   19.1969   -2.8896   -5.8374 C   0  0  0  0  0  0  0  0  0  0  0  0\n   20.1260   -3.6550   -5.2786 N   0  0  0  0  0  0  0  0  0  0  0  0\n   17.8947   -2.8665   -5.5817 N   0  0  0  0  0  0  0  0  0  0  0  0\n   19.6493   -4.4776   -4.3628 C   0  0  0  0  0  0  0  0  0  0  0  0\n   17.5494   -3.7368   -4.6467 C   0  0  0  0  0  0  0  0  0  0  0  0\n   18.3736   -4.5623   -4.0062 N   0  0  0  0  0  0  0  0  0  0  0  0\n   20.5329   -5.3044   -3.7336 N   0  0  0  0  0  0  0  0  0  0  0  0\n   21.5037   -5.2538   -3.9911 H   0  0  0  0  0  0  0  0  0  0  0  0\n   20.1821   -5.9356   -3.0340 H   0  0  0  0  0  0  0  0  0  0  0  0\n  1  2  1  0  0  0\n  2  3  2  0  0  0\n  2  4  1  0  0  0\n  3  5  1  0  0  0\n  4  6  2  0  0  0\n  5  7  2  0  0  0\n  5  8  1  0  0  0\n  6  7  1  0  0  0\n  8  9  1  0  0  0\n  8 10  1  0  0  0\nM  END\n> <minimizedAffinity>\n-4.17878\n\n$$$$\n24381\n\n\n 10 10  0  0  0  0  0  0  0  0999 V2000\n   18.6672   -2.5219   -1.2341 Cl  0  0  0  0  0  0  0  0  0  0  0  0\n   18.1949   -3.2753   -2.6941 C   0  0  0  0  0  0  0  0  0  0  0  0\n   19.1160   -4.0243   -3.2873 N   0  0  0  0  0  0  0  0  0  0  0  0\n   16.9517   -3.0390   -3.0943 N   0  0  0  0  0  0  0  0  0  0  0  0\n   18.6988   -4.5815   -4.4089 C   0  0  0  0  0  0  0  0  0  0  0  0\n   16.6620   -3.6553   -4.2288 C   0  0  0  0  0  0  0  0  0  0  0  0\n   17.4858   -4.4330   -4.9270 N   0  0  0  0  0  0  0  0  0  0  0  0\n   19.5793   -5.3704   -5.0891 N   0  0  0  0  0  0  0  0  0  0  0  0\n   20.5029   -5.4942   -4.7112 H   0  0  0  0  0  0  0  0  0  0  0  0\n   19.2735   -5.8005   -5.9448 H   0  0  0  0  0  0  0  0  0  0  0  0\n  1  2  1  0  0  0\n  2  3  2  0  0  0\n  2  4  1  0  0  0\n  3  5  1  0  0  0\n  4  6  2  0  0  0\n  5  7  2  0  0  0\n  5  8  1  0  0  0\n  6  7  1  0  0  0\n  8  9  1  0  0  0\n  8 10  1  0  0  0\nM  END\n> <minimizedAffinity>\n-4.14765\n\n$$$$\n24381\n\n\n 10 10  0  0  0  0  0  0  0  0999 V2000\n   19.4597   -7.1239   -1.7574 Cl  0  0  0  0  0  0  0  0  0  0  0  0\n   19.2185   -5.6579   -2.6029 C   0  0  0  0  0  0  0  0  0  0  0  0\n   19.9353   -5.4986   -3.7083 N   0  0  0  0  0  0  0  0  0  0  0  0\n   18.3370   -4.8193   -2.0724 N   0  0  0  0  0  0  0  0  0  0  0  0\n   19.7102   -4.3510   -4.3208 C   0  0  0  0  0  0  0  0  0  0  0  0\n   18.2062   -3.7104   -2.7824 C   0  0  0  0  0  0  0  0  0  0  0  0\n   18.8593   -3.4209   -3.9052 N   0  0  0  0  0  0  0  0  0  0  0  0\n   20.4036   -4.0995   -5.4681 N   0  0  0  0  0  0  0  0  0  0  0  0\n   21.0526   -4.7932   -5.7978 H   0  0  0  0  0  0  0  0  0  0  0  0\n   20.2409   -3.2289   -5.9438 H   0  0  0  0  0  0  0  0  0  0  0  0\n  1  2  1  0  0  0\n  2  3  2  0  0  0\n  2  4  1  0  0  0\n  3  5  1  0  0  0\n  4  6  2  0  0  0\n  5  7  2  0  0  0\n  5  8  1  0  0  0\n  6  7  1  0  0  0\n  8  9  1  0  0  0\n  8 10  1  0  0  0\nM  END\n> <minimizedAffinity>\n-4.10508\n\n$$$$\n24381\n\n\n 10 10  0  0  0  0  0  0  0  0999 V2000\n   15.9805   -4.3952   -5.3417 Cl  0  0  0  0  0  0  0  0  0  0  0  0\n   17.6580   -4.0695   -5.2991 C   0  0  0  0  0  0  0  0  0  0  0  0\n   18.0762   -3.0674   -6.0621 N   0  0  0  0  0  0  0  0  0  0  0  0\n   18.3817   -4.8503   -4.5064 N   0  0  0  0  0  0  0  0  0  0  0  0\n   19.3778   -2.8595   -5.9912 C   0  0  0  0  0  0  0  0  0  0  0  0\n   19.6670   -4.5367   -4.5275 C   0  0  0  0  0  0  0  0  0  0  0  0\n   20.2207   -3.5607   -5.2431 N   0  0  0  0  0  0  0  0  0  0  0  0\n   19.8988   -1.8478   -6.7431 N   0  0  0  0  0  0  0  0  0  0  0  0\n   19.2748   -1.3059   -7.3160 H   0  0  0  0  0  0  0  0  0  0  0  0\n   20.8890   -1.6794   -6.6977 H   0  0  0  0  0  0  0  0  0  0  0  0\n  1  2  1  0  0  0\n  2  3  2  0  0  0\n  2  4  1  0  0  0\n  3  5  1  0  0  0\n  4  6  2  0  0  0\n  5  7  2  0  0  0\n  5  8  1  0  0  0\n  6  7  1  0  0  0\n  8  9  1  0  0  0\n  8 10  1  0  0  0\nM  END\n> <minimizedAffinity>\n-3.99202\n\n$$$$\n24381\n\n\n 10 10  0  0  0  0  0  0  0  0999 V2000\n   20.5121   -6.8710   -2.7315 Cl  0  0  0  0  0  0  0  0  0  0  0  0\n   19.5695   -5.4839   -3.0628 C   0  0  0  0  0  0  0  0  0  0  0  0\n   18.4646   -5.3448   -2.3409 N   0  0  0  0  0  0  0  0  0  0  0  0\n   20.0334   -4.6786   -4.0103 N   0  0  0  0  0  0  0  0  0  0  0  0\n   17.7756   -4.2584   -2.6371 C   0  0  0  0  0  0  0  0  0  0  0  0\n   19.2508   -3.6302   -4.2082 C   0  0  0  0  0  0  0  0  0  0  0  0\n   18.1192   -3.3674   -3.5589 N   0  0  0  0  0  0  0  0  0  0  0  0\n   16.6226   -4.0321   -1.9446 N   0  0  0  0  0  0  0  0  0  0  0  0\n   16.3468   -4.6968   -1.2423 H   0  0  0  0  0  0  0  0  0  0  0  0\n   16.0890   -3.2079   -2.1609 H   0  0  0  0  0  0  0  0  0  0  0  0\n  1  2  1  0  0  0\n  2  3  2  0  0  0\n  2  4  1  0  0  0\n  3  5  1  0  0  0\n  4  6  2  0  0  0\n  5  7  2  0  0  0\n  5  8  1  0  0  0\n  6  7  1  0  0  0\n  8  9  1  0  0  0\n  8 10  1  0  0  0\nM  END\n> <minimizedAffinity>\n-3.93095\n\n$$$$\n24381\n\n\n 10 10  0  0  0  0  0  0  0  0999 V2000\n   18.0464   -2.7182   -1.4515 Cl  0  0  0  0  0  0  0  0  0  0  0  0\n   18.3585   -3.4915   -2.9438 C   0  0  0  0  0  0  0  0  0  0  0  0\n   17.2989   -3.7423   -3.7024 N   0  0  0  0  0  0  0  0  0  0  0  0\n   19.6313   -3.7668   -3.2007 N   0  0  0  0  0  0  0  0  0  0  0  0\n   17.5966   -4.3395   -4.8414 C   0  0  0  0  0  0  0  0  0  0  0  0\n   19.7914   -4.3633   -4.3709 C   0  0  0  0  0  0  0  0  0  0  0  0\n   18.8217   -4.6734   -5.2280 N   0  0  0  0  0  0  0  0  0  0  0  0\n   16.5688   -4.6372   -5.6872 N   0  0  0  0  0  0  0  0  0  0  0  0\n   15.6338   -4.3914   -5.4105 H   0  0  0  0  0  0  0  0  0  0  0  0\n   16.7827   -5.0920   -6.5579 H   0  0  0  0  0  0  0  0  0  0  0  0\n  1  2  1  0  0  0\n  2  3  2  0  0  0\n  2  4  1  0  0  0\n  3  5  1  0  0  0\n  4  6  2  0  0  0\n  5  7  2  0  0  0\n  5  8  1  0  0  0\n  6  7  1  0  0  0\n  8  9  1  0  0  0\n  8 10  1  0  0  0\nM  END\n> <minimizedAffinity>\n-3.89237\n\n$$$$\n13615\n\n\n 11 11  0  0  0  0  0  0  0  0999 V2000\n   16.6319   -3.5053   -1.7953 Cl  0  0  0  0  0  0  0  0  0  0  0  0\n   17.9851   -4.0773   -2.6677 C   0  0  0  0  0  0  0  0  0  0  0  0\n   18.5163   -5.2067   -2.2392 N   0  0  0  0  0  0  0  0  0  0  0  0\n   18.3733   -3.3301   -3.6939 N   0  0  0  0  0  0  0  0  0  0  0  0\n   19.5506   -5.5570   -2.9799 C   0  0  0  0  0  0  0  0  0  0  0  0\n   19.4208   -3.8063   -4.3409 C   0  0  0  0  0  0  0  0  0  0  0  0\n   20.3367   -7.0071   -2.5346 Cl  0  0  0  0  0  0  0  0  0  0  0  0\n   20.0560   -4.9208   -4.0298 N   0  0  0  0  0  0  0  0  0  0  0  0\n   19.8806   -3.0945   -5.4091 N   0  0  0  0  0  0  0  0  0  0  0  0\n   19.4085   -2.2423   -5.6606 H   0  0  0  0  0  0  0  0  0  0  0  0\n   20.6783   -3.4426   -5.9140 H   0  0  0  0  0  0  0  0  0  0  0  0\n  1  2  1  0  0  0\n  2  3  2  0  0  0\n  2  4  1  0  0  0\n  3  5  1  0  0  0\n  4  6  2  0  0  0\n  5  7  1  0  0  0\n  5  8  2  0  0  0\n  6  9  1  0  0  0\n  6  8  1  0  0  0\n  9 10  1  0  0  0\n  9 11  1  0  0  0\nM  END\n> <minimizedAffinity>\n-4.70868\n\n$$$$\n13615\n\n\n 11 11  0  0  0  0  0  0  0  0999 V2000\n   20.4760   -6.9872   -2.6370 Cl  0  0  0  0  0  0  0  0  0  0  0  0\n   19.6531   -5.5507   -3.0599 C   0  0  0  0  0  0  0  0  0  0  0  0\n   18.6260   -5.2251   -2.2982 N   0  0  0  0  0  0  0  0  0  0  0  0\n   20.1261   -4.8991   -4.1152 N   0  0  0  0  0  0  0  0  0  0  0  0\n   18.0646   -4.1043   -2.7105 C   0  0  0  0  0  0  0  0  0  0  0  0\n   19.4631   -3.7958   -4.4083 C   0  0  0  0  0  0  0  0  0  0  0  0\n   16.7167   -3.5640   -1.8102 Cl  0  0  0  0  0  0  0  0  0  0  0  0\n   18.4186   -3.3441   -3.7396 N   0  0  0  0  0  0  0  0  0  0  0  0\n   19.8887   -3.0694   -5.4809 N   0  0  0  0  0  0  0  0  0  0  0  0\n   20.6835   -3.3988   -6.0024 H   0  0  0  0  0  0  0  0  0  0  0  0\n   19.3950   -2.2255   -5.7190 H   0  0  0  0  0  0  0  0  0  0  0  0\n  1  2  1  0  0  0\n  2  3  2  0  0  0\n  2  4  1  0  0  0\n  3  5  1  0  0  0\n  4  6  2  0  0  0\n  5  7  1  0  0  0\n  5  8  2  0  0  0\n  6  9  1  0  0  0\n  6  8  1  0  0  0\n  9 10  1  0  0  0\n  9 11  1  0  0  0\nM  END\n> <minimizedAffinity>\n-4.67470\n\n$$$$\n13615\n\n\n 11 11  0  0  0  0  0  0  0  0999 V2000\n   20.1361   -3.9473   -5.5058 Cl  0  0  0  0  0  0  0  0  0  0  0  0\n   19.4399   -4.4964   -4.0453 C   0  0  0  0  0  0  0  0  0  0  0  0\n   18.5526   -3.6942   -3.4882 N   0  0  0  0  0  0  0  0  0  0  0  0\n   19.8587   -5.6785   -3.6102 N   0  0  0  0  0  0  0  0  0  0  0  0\n   18.0794   -4.2116   -2.3703 C   0  0  0  0  0  0  0  0  0  0  0  0\n   19.2970   -6.0661   -2.4802 C   0  0  0  0  0  0  0  0  0  0  0  0\n   16.9164   -3.2735   -1.5418 Cl  0  0  0  0  0  0  0  0  0  0  0  0\n   18.3961   -5.3725   -1.8097 N   0  0  0  0  0  0  0  0  0  0  0  0\n   19.6754   -7.2717   -1.9679 N   0  0  0  0  0  0  0  0  0  0  0  0\n   20.3613   -7.8140   -2.4657 H   0  0  0  0  0  0  0  0  0  0  0  0\n   19.2577   -7.5831   -1.1070 H   0  0  0  0  0  0  0  0  0  0  0  0\n  1  2  1  0  0  0\n  2  3  2  0  0  0\n  2  4  1  0  0  0\n  3  5  1  0  0  0\n  4  6  2  0  0  0\n  5  7  1  0  0  0\n  5  8  2  0  0  0\n  6  9  1  0  0  0\n  6  8  1  0  0  0\n  9 10  1  0  0  0\n  9 11  1  0  0  0\nM  END\n> <minimizedAffinity>\n-4.60263\n\n$$$$\n13615\n\n\n 11 11  0  0  0  0  0  0  0  0999 V2000\n   17.0517   -3.2251   -1.4675 Cl  0  0  0  0  0  0  0  0  0  0  0  0\n   18.1648   -4.1945   -2.3281 C   0  0  0  0  0  0  0  0  0  0  0  0\n   18.6293   -3.6847   -3.4531 N   0  0  0  0  0  0  0  0  0  0  0  0\n   18.4560   -5.3690   -1.7823 N   0  0  0  0  0  0  0  0  0  0  0  0\n   19.4774   -4.5112   -4.0353 C   0  0  0  0  0  0  0  0  0  0  0  0\n   19.3188   -6.0867   -2.4775 C   0  0  0  0  0  0  0  0  0  0  0  0\n   20.1583   -3.9746   -5.5076 Cl  0  0  0  0  0  0  0  0  0  0  0  0\n   19.8672   -5.7095   -3.6174 N   0  0  0  0  0  0  0  0  0  0  0  0\n   19.6691   -7.3075   -1.9817 N   0  0  0  0  0  0  0  0  0  0  0  0\n   19.2607   -7.6114   -1.1138 H   0  0  0  0  0  0  0  0  0  0  0  0\n   20.3256   -7.8683   -2.4985 H   0  0  0  0  0  0  0  0  0  0  0  0\n  1  2  1  0  0  0\n  2  3  2  0  0  0\n  2  4  1  0  0  0\n  3  5  1  0  0  0\n  4  6  2  0  0  0\n  5  7  1  0  0  0\n  5  8  2  0  0  0\n  6  9  1  0  0  0\n  6  8  1  0  0  0\n  9 10  1  0  0  0\n  9 11  1  0  0  0\nM  END\n> <minimizedAffinity>\n-4.59281\n\n$$$$\n13615\n\n\n 11 11  0  0  0  0  0  0  0  0999 V2000\n   19.6779   -1.8105   -6.9941 Cl  0  0  0  0  0  0  0  0  0  0  0  0\n   19.1480   -2.9548   -5.8413 C   0  0  0  0  0  0  0  0  0  0  0  0\n   17.8457   -3.0116   -5.6366 N   0  0  0  0  0  0  0  0  0  0  0  0\n   20.0980   -3.6779   -5.2610 N   0  0  0  0  0  0  0  0  0  0  0  0\n   17.5457   -3.9239   -4.7317 C   0  0  0  0  0  0  0  0  0  0  0  0\n   19.6474   -4.5494   -4.3777 C   0  0  0  0  0  0  0  0  0  0  0  0\n   15.8860   -4.1040   -4.3681 Cl  0  0  0  0  0  0  0  0  0  0  0  0\n   18.3756   -4.7198   -4.0683 N   0  0  0  0  0  0  0  0  0  0  0  0\n   20.5633   -5.3311   -3.7379 N   0  0  0  0  0  0  0  0  0  0  0  0\n   21.5374   -5.2147   -3.9612 H   0  0  0  0  0  0  0  0  0  0  0  0\n   20.2377   -6.0009   -3.0612 H   0  0  0  0  0  0  0  0  0  0  0  0\n  1  2  1  0  0  0\n  2  3  2  0  0  0\n  2  4  1  0  0  0\n  3  5  1  0  0  0\n  4  6  2  0  0  0\n  5  7  1  0  0  0\n  5  8  2  0  0  0\n  6  9  1  0  0  0\n  6  8  1  0  0  0\n  9 10  1  0  0  0\n  9 11  1  0  0  0\nM  END\n> <minimizedAffinity>\n-4.57292\n\n$$$$\n13615\n\n\n 11 11  0  0  0  0  0  0  0  0999 V2000\n   15.9948   -3.7501   -3.9076 Cl  0  0  0  0  0  0  0  0  0  0  0  0\n   17.6125   -3.7163   -4.4563 C   0  0  0  0  0  0  0  0  0  0  0  0\n   17.8817   -2.8511   -5.4156 N   0  0  0  0  0  0  0  0  0  0  0  0\n   18.4448   -4.5644   -3.8646 N   0  0  0  0  0  0  0  0  0  0  0  0\n   19.1533   -2.9070   -5.7635 C   0  0  0  0  0  0  0  0  0  0  0  0\n   19.6838   -4.5068   -4.3167 C   0  0  0  0  0  0  0  0  0  0  0  0\n   19.6412   -1.8351   -7.0012 Cl  0  0  0  0  0  0  0  0  0  0  0  0\n   20.1012   -3.6945   -5.2697 N   0  0  0  0  0  0  0  0  0  0  0  0\n   20.5997   -5.3483   -3.7581 N   0  0  0  0  0  0  0  0  0  0  0  0\n   20.2991   -5.9746   -3.0302 H   0  0  0  0  0  0  0  0  0  0  0  0\n   21.5489   -5.3182   -4.0905 H   0  0  0  0  0  0  0  0  0  0  0  0\n  1  2  1  0  0  0\n  2  3  2  0  0  0\n  2  4  1  0  0  0\n  3  5  1  0  0  0\n  4  6  2  0  0  0\n  5  7  1  0  0  0\n  5  8  2  0  0  0\n  6  9  1  0  0  0\n  6  8  1  0  0  0\n  9 10  1  0  0  0\n  9 11  1  0  0  0\nM  END\n> <minimizedAffinity>\n-4.55645\n\n$$$$\n13615\n\n\n 11 11  0  0  0  0  0  0  0  0999 V2000\n   20.1025   -5.5235   -3.4232 Cl  0  0  0  0  0  0  0  0  0  0  0  0\n   19.3016   -4.4938   -4.5267 C   0  0  0  0  0  0  0  0  0  0  0  0\n   18.0034   -4.6871   -4.6628 N   0  0  0  0  0  0  0  0  0  0  0  0\n   20.0626   -3.5972   -5.1422 N   0  0  0  0  0  0  0  0  0  0  0  0\n   17.4857   -3.8427   -5.5348 C   0  0  0  0  0  0  0  0  0  0  0  0\n   19.4064   -2.8220   -5.9856 C   0  0  0  0  0  0  0  0  0  0  0  0\n   15.8051   -3.9824   -5.8089 Cl  0  0  0  0  0  0  0  0  0  0  0  0\n   18.1106   -2.8971   -6.2259 N   0  0  0  0  0  0  0  0  0  0  0  0\n   20.1195   -1.8741   -6.6578 N   0  0  0  0  0  0  0  0  0  0  0  0\n   21.1085   -1.8026   -6.4871 H   0  0  0  0  0  0  0  0  0  0  0  0\n   19.6355   -1.2743   -7.3048 H   0  0  0  0  0  0  0  0  0  0  0  0\n  1  2  1  0  0  0\n  2  3  2  0  0  0\n  2  4  1  0  0  0\n  3  5  1  0  0  0\n  4  6  2  0  0  0\n  5  7  1  0  0  0\n  5  8  2  0  0  0\n  6  9  1  0  0  0\n  6  8  1  0  0  0\n  9 10  1  0  0  0\n  9 11  1  0  0  0\nM  END\n> <minimizedAffinity>\n-4.51298\n\n$$$$\n13615\n\n\n 11 11  0  0  0  0  0  0  0  0999 V2000\n   15.5897   -4.4747   -5.1125 Cl  0  0  0  0  0  0  0  0  0  0  0  0\n   17.1198   -4.0865   -4.4588 C   0  0  0  0  0  0  0  0  0  0  0  0\n   17.1205   -3.6056   -3.2300 N   0  0  0  0  0  0  0  0  0  0  0  0\n   18.1626   -4.3060   -5.2503 N   0  0  0  0  0  0  0  0  0  0  0  0\n   18.3477   -3.3404   -2.8237 C   0  0  0  0  0  0  0  0  0  0  0  0\n   19.3252   -3.9935   -4.7084 C   0  0  0  0  0  0  0  0  0  0  0  0\n   18.4956   -2.7091   -1.2430 Cl  0  0  0  0  0  0  0  0  0  0  0  0\n   19.4826   -3.5041   -3.4926 N   0  0  0  0  0  0  0  0  0  0  0  0\n   20.4457   -4.1907   -5.4598 N   0  0  0  0  0  0  0  0  0  0  0  0\n   20.3444   -4.5630   -6.3891 H   0  0  0  0  0  0  0  0  0  0  0  0\n   21.3404   -3.9578   -5.0628 H   0  0  0  0  0  0  0  0  0  0  0  0\n  1  2  1  0  0  0\n  2  3  2  0  0  0\n  2  4  1  0  0  0\n  3  5  1  0  0  0\n  4  6  2  0  0  0\n  5  7  1  0  0  0\n  5  8  2  0  0  0\n  6  9  1  0  0  0\n  6  8  1  0  0  0\n  9 10  1  0  0  0\n  9 11  1  0  0  0\nM  END\n> <minimizedAffinity>\n-4.50381\n\n$$$$\n151265\n\n\n 19 20  0  0  0  0  0  0  0  0999 V2000\n   15.8386   -2.8428   -1.5189 Cl  0  0  0  0  0  0  0  0  0  0  0  0\n   17.1543   -3.7596   -2.1412 C   0  0  0  0  0  0  0  0  0  0  0  0\n   17.7261   -3.4147   -3.3595 C   0  0  0  0  0  0  0  0  0  0  0  0\n   17.6333   -4.8520   -1.4266 C   0  0  0  0  0  0  0  0  0  0  0  0\n   18.7915   -4.1726   -3.8733 C   0  0  0  0  0  0  0  0  0  0  0  0\n   18.7076   -5.5928   -1.9284 C   0  0  0  0  0  0  0  0  0  0  0  0\n   19.3149   -5.2671   -3.1533 C   0  0  0  0  0  0  0  0  0  0  0  0\n   19.2578   -3.7952   -5.2376 C   0  0  0  0  0  0  0  0  0  0  0  0\n   20.5115   -3.9676   -5.5358 N   0  0  0  0  0  0  0  0  0  0  0  0\n   20.7206   -3.6174   -6.4758 H   0  0  0  0  0  0  0  0  0  0  0  0\n   18.3050   -3.1820   -6.2082 C   0  0  0  0  0  0  0  0  0  0  0  0\n   18.5903   -1.9471   -6.8019 C   0  0  0  0  0  0  0  0  0  0  0  0\n   17.1315   -3.8648   -6.5523 C   0  0  0  0  0  0  0  0  0  0  0  0\n   17.7015   -1.3962   -7.7272 C   0  0  0  0  0  0  0  0  0  0  0  0\n   16.2454   -3.3093   -7.4771 C   0  0  0  0  0  0  0  0  0  0  0  0\n   16.5312   -2.0767   -8.0635 C   0  0  0  0  0  0  0  0  0  0  0  0\n   20.4588   -5.9777   -3.5125 N   0  0  0  0  0  0  0  0  0  0  0  0\n   20.8463   -7.1213   -2.7071 C   0  0  0  0  0  0  0  0  0  0  0  0\n   20.6646   -6.0468   -4.5031 H   0  0  0  0  0  0  0  0  0  0  0  0\n  1  2  1  0  0  0\n  2  3  2  0  0  0\n  2  4  1  0  0  0\n  3  5  1  0  0  0\n  4  6  2  0  0  0\n  5  7  2  0  0  0\n  5  8  1  0  0  0\n  7 17  1  0  0  0\n  8  9  2  0  0  0\n  8 11  1  0  0  0\n 17 18  1  0  0  0\n 11 12  2  0  0  0\n 11 13  1  0  0  0\n 12 14  1  0  0  0\n 13 15  2  0  0  0\n 14 16  2  0  0  0\n  6  7  1  0  0  0\n 15 16  1  0  0  0\n 17 19  1  0  0  0\n  9 10  1  0  0  0\nM  END\n> <minimizedAffinity>\n-6.93963\n\n$$$$\n151265\n\n\n 19 20  0  0  0  0  0  0  0  0999 V2000\n   20.3015   -7.0082   -2.7724 Cl  0  0  0  0  0  0  0  0  0  0  0  0\n   19.3232   -5.6111   -2.9959 C   0  0  0  0  0  0  0  0  0  0  0  0\n   19.3216   -4.9531   -4.2195 C   0  0  0  0  0  0  0  0  0  0  0  0\n   18.5455   -5.1379   -1.9448 C   0  0  0  0  0  0  0  0  0  0  0  0\n   18.5328   -3.8043   -4.3965 C   0  0  0  0  0  0  0  0  0  0  0  0\n   17.7444   -4.0069   -2.1284 C   0  0  0  0  0  0  0  0  0  0  0  0\n   17.7125   -3.3216   -3.3551 C   0  0  0  0  0  0  0  0  0  0  0  0\n   18.6889   -3.1048   -5.7032 C   0  0  0  0  0  0  0  0  0  0  0  0\n   19.7730   -2.4194   -5.9156 N   0  0  0  0  0  0  0  0  0  0  0  0\n   19.7367   -1.9390   -6.8200 H   0  0  0  0  0  0  0  0  0  0  0  0\n   17.5904   -3.1546   -6.7115 C   0  0  0  0  0  0  0  0  0  0  0  0\n   17.5347   -2.2180   -7.7500 C   0  0  0  0  0  0  0  0  0  0  0  0\n   16.6264   -4.1680   -6.6362 C   0  0  0  0  0  0  0  0  0  0  0  0\n   16.5150   -2.2911   -8.7011 C   0  0  0  0  0  0  0  0  0  0  0  0\n   15.6083   -4.2361   -7.5888 C   0  0  0  0  0  0  0  0  0  0  0  0\n   15.5538   -3.2986   -8.6198 C   0  0  0  0  0  0  0  0  0  0  0  0\n   16.7904   -2.2851   -3.4884 N   0  0  0  0  0  0  0  0  0  0  0  0\n   15.3755   -2.6039   -3.4308 C   0  0  0  0  0  0  0  0  0  0  0  0\n   17.0544   -1.3834   -3.1069 H   0  0  0  0  0  0  0  0  0  0  0  0\n  1  2  1  0  0  0\n  2  3  2  0  0  0\n  2  4  1  0  0  0\n  3  5  1  0  0  0\n  4  6  2  0  0  0\n  5  7  2  0  0  0\n  5  8  1  0  0  0\n  7 17  1  0  0  0\n  8  9  2  0  0  0\n  8 11  1  0  0  0\n 17 18  1  0  0  0\n 11 12  2  0  0  0\n 11 13  1  0  0  0\n 12 14  1  0  0  0\n 13 15  2  0  0  0\n 14 16  2  0  0  0\n  6  7  1  0  0  0\n 15 16  1  0  0  0\n 17 19  1  0  0  0\n  9 10  1  0  0  0\nM  END\n> <minimizedAffinity>\n-6.92552\n\n$$$$\n151265\n\n\n 19 20  0  0  0  0  0  0  0  0999 V2000\n   14.1200   -1.7493   -2.6370 Cl  0  0  0  0  0  0  0  0  0  0  0  0\n   15.6389   -2.5107   -2.9059 C   0  0  0  0  0  0  0  0  0  0  0  0\n   16.2756   -2.3756   -4.1334 C   0  0  0  0  0  0  0  0  0  0  0  0\n   16.2187   -3.2700   -1.8957 C   0  0  0  0  0  0  0  0  0  0  0  0\n   17.5093   -3.0093   -4.3565 C   0  0  0  0  0  0  0  0  0  0  0  0\n   17.4567   -3.8828   -2.1112 C   0  0  0  0  0  0  0  0  0  0  0  0\n   18.1322   -3.7605   -3.3377 C   0  0  0  0  0  0  0  0  0  0  0  0\n   18.0536   -2.9013   -5.7396 C   0  0  0  0  0  0  0  0  0  0  0  0\n   19.3058   -2.5865   -5.8919 N   0  0  0  0  0  0  0  0  0  0  0  0\n   19.5447   -2.4851   -6.8832 H   0  0  0  0  0  0  0  0  0  0  0  0\n   17.1532   -3.0981   -6.9129 C   0  0  0  0  0  0  0  0  0  0  0  0\n   16.3010   -4.2064   -6.9778 C   0  0  0  0  0  0  0  0  0  0  0  0\n   17.1375   -2.1473   -7.9412 C   0  0  0  0  0  0  0  0  0  0  0  0\n   15.4457   -4.3655   -8.0700 C   0  0  0  0  0  0  0  0  0  0  0  0\n   16.2814   -2.3114   -9.0317 C   0  0  0  0  0  0  0  0  0  0  0  0\n   15.4367   -3.4193   -9.0948 C   0  0  0  0  0  0  0  0  0  0  0  0\n   19.4168   -4.2948   -3.4199 N   0  0  0  0  0  0  0  0  0  0  0  0\n   19.5618   -5.7132   -3.6917 C   0  0  0  0  0  0  0  0  0  0  0  0\n   20.1395   -3.6966   -3.8049 H   0  0  0  0  0  0  0  0  0  0  0  0\n  1  2  1  0  0  0\n  2  3  2  0  0  0\n  2  4  1  0  0  0\n  3  5  1  0  0  0\n  4  6  2  0  0  0\n  5  7  2  0  0  0\n  5  8  1  0  0  0\n  7 17  1  0  0  0\n  8  9  2  0  0  0\n  8 11  1  0  0  0\n 17 18  1  0  0  0\n 11 12  2  0  0  0\n 11 13  1  0  0  0\n 12 14  1  0  0  0\n 13 15  2  0  0  0\n 14 16  2  0  0  0\n  6  7  1  0  0  0\n 15 16  1  0  0  0\n 17 19  1  0  0  0\n  9 10  1  0  0  0\nM  END\n> <minimizedAffinity>\n-6.72735\n\n$$$$\n151265\n\n\n 19 20  0  0  0  0  0  0  0  0999 V2000\n   17.1053    0.4983   -9.0149 Cl  0  0  0  0  0  0  0  0  0  0  0  0\n   16.9497   -1.0521   -8.2862 C   0  0  0  0  0  0  0  0  0  0  0  0\n   17.7683   -1.4035   -7.2200 C   0  0  0  0  0  0  0  0  0  0  0  0\n   16.0116   -1.9540   -8.7763 C   0  0  0  0  0  0  0  0  0  0  0  0\n   17.6498   -2.6751   -6.6348 C   0  0  0  0  0  0  0  0  0  0  0  0\n   15.8796   -3.2113   -8.1795 C   0  0  0  0  0  0  0  0  0  0  0  0\n   16.6855   -3.5968   -7.0944 C   0  0  0  0  0  0  0  0  0  0  0  0\n   18.6489   -2.9986   -5.5775 C   0  0  0  0  0  0  0  0  0  0  0  0\n   19.9109   -2.9847   -5.8897 N   0  0  0  0  0  0  0  0  0  0  0  0\n   20.4918   -3.2803   -5.0990 H   0  0  0  0  0  0  0  0  0  0  0  0\n   18.1904   -3.3826   -4.2106 C   0  0  0  0  0  0  0  0  0  0  0  0\n   18.8123   -4.4284   -3.5191 C   0  0  0  0  0  0  0  0  0  0  0  0\n   17.1507   -2.6678   -3.6025 C   0  0  0  0  0  0  0  0  0  0  0  0\n   18.3893   -4.7614   -2.2307 C   0  0  0  0  0  0  0  0  0  0  0  0\n   16.7306   -3.0052   -2.3147 C   0  0  0  0  0  0  0  0  0  0  0  0\n   17.3501   -4.0506   -1.6303 C   0  0  0  0  0  0  0  0  0  0  0  0\n   16.3978   -4.8146   -6.4809 N   0  0  0  0  0  0  0  0  0  0  0  0\n   15.1011   -4.9848   -5.8514 C   0  0  0  0  0  0  0  0  0  0  0  0\n   16.7950   -5.6468   -6.9029 H   0  0  0  0  0  0  0  0  0  0  0  0\n  1  2  1  0  0  0\n  2  3  2  0  0  0\n  2  4  1  0  0  0\n  3  5  1  0  0  0\n  4  6  2  0  0  0\n  5  7  2  0  0  0\n  5  8  1  0  0  0\n  7 17  1  0  0  0\n  8  9  2  0  0  0\n  8 11  1  0  0  0\n 17 18  1  0  0  0\n 11 12  2  0  0  0\n 11 13  1  0  0  0\n 12 14  1  0  0  0\n 13 15  2  0  0  0\n 14 16  2  0  0  0\n  6  7  1  0  0  0\n 15 16  1  0  0  0\n 17 19  1  0  0  0\n  9 10  1  0  0  0\nM  END\n> <minimizedAffinity>\n-6.63305\n\n$$$$\n151265\n\n\n 19 20  0  0  0  0  0  0  0  0999 V2000\n   14.1552   -4.7018   -9.5196 Cl  0  0  0  0  0  0  0  0  0  0  0  0\n   15.3616   -3.8230   -8.6644 C   0  0  0  0  0  0  0  0  0  0  0  0\n   15.8146   -4.2830   -7.4342 C   0  0  0  0  0  0  0  0  0  0  0  0\n   15.8708   -2.6467   -9.2033 C   0  0  0  0  0  0  0  0  0  0  0  0\n   16.7898   -3.5571   -6.7303 C   0  0  0  0  0  0  0  0  0  0  0  0\n   16.8567   -1.9362   -8.5122 C   0  0  0  0  0  0  0  0  0  0  0  0\n   17.3435   -2.3768   -7.2695 C   0  0  0  0  0  0  0  0  0  0  0  0\n   17.1238   -4.0681   -5.3707 C   0  0  0  0  0  0  0  0  0  0  0  0\n   18.1585   -4.8434   -5.2350 N   0  0  0  0  0  0  0  0  0  0  0  0\n   18.2490   -5.1755   -4.2699 H   0  0  0  0  0  0  0  0  0  0  0  0\n   16.2461   -3.7327   -4.2117 C   0  0  0  0  0  0  0  0  0  0  0  0\n   14.8560   -3.6787   -4.3640 C   0  0  0  0  0  0  0  0  0  0  0  0\n   16.8176   -3.5033   -2.9537 C   0  0  0  0  0  0  0  0  0  0  0  0\n   14.0448   -3.3877   -3.2654 C   0  0  0  0  0  0  0  0  0  0  0  0\n   16.0025   -3.2117   -1.8586 C   0  0  0  0  0  0  0  0  0  0  0  0\n   14.6178   -3.1546   -2.0152 C   0  0  0  0  0  0  0  0  0  0  0  0\n   18.4149   -1.6790   -6.7149 N   0  0  0  0  0  0  0  0  0  0  0  0\n   19.7632   -2.0763   -7.0767 C   0  0  0  0  0  0  0  0  0  0  0  0\n   18.2787   -0.6889   -6.5433 H   0  0  0  0  0  0  0  0  0  0  0  0\n  1  2  1  0  0  0\n  2  3  2  0  0  0\n  2  4  1  0  0  0\n  3  5  1  0  0  0\n  4  6  2  0  0  0\n  5  7  2  0  0  0\n  5  8  1  0  0  0\n  7 17  1  0  0  0\n  8  9  2  0  0  0\n  8 11  1  0  0  0\n 17 18  1  0  0  0\n 11 12  2  0  0  0\n 11 13  1  0  0  0\n 12 14  1  0  0  0\n 13 15  2  0  0  0\n 14 16  2  0  0  0\n  6  7  1  0  0  0\n 15 16  1  0  0  0\n 17 19  1  0  0  0\n  9 10  1  0  0  0\nM  END\n> <minimizedAffinity>\n-6.58991\n\n$$$$\n151265\n\n\n 19 20  0  0  0  0  0  0  0  0999 V2000\n   20.4772   -4.8877   -3.5319 Cl  0  0  0  0  0  0  0  0  0  0  0  0\n   18.8075   -4.4785   -3.4734 C   0  0  0  0  0  0  0  0  0  0  0  0\n   18.0262   -4.5843   -4.6174 C   0  0  0  0  0  0  0  0  0  0  0  0\n   18.2479   -4.0310   -2.2817 C   0  0  0  0  0  0  0  0  0  0  0  0\n   16.6659   -4.2366   -4.5718 C   0  0  0  0  0  0  0  0  0  0  0  0\n   16.8891   -3.7057   -2.2319 C   0  0  0  0  0  0  0  0  0  0  0  0\n   16.0679   -3.8085   -3.3679 C   0  0  0  0  0  0  0  0  0  0  0  0\n   15.9429   -4.2722   -5.8745 C   0  0  0  0  0  0  0  0  0  0  0  0\n   15.1337   -5.2623   -6.1094 N   0  0  0  0  0  0  0  0  0  0  0  0\n   14.7447   -5.2068   -7.0557 H   0  0  0  0  0  0  0  0  0  0  0  0\n   16.1972   -3.2164   -6.8975 C   0  0  0  0  0  0  0  0  0  0  0  0\n   16.0551   -3.4979   -8.2611 C   0  0  0  0  0  0  0  0  0  0  0  0\n   16.5485   -1.9243   -6.4868 C   0  0  0  0  0  0  0  0  0  0  0  0\n   16.2723   -2.4939   -9.2068 C   0  0  0  0  0  0  0  0  0  0  0  0\n   16.7657   -0.9241   -7.4362 C   0  0  0  0  0  0  0  0  0  0  0  0\n   16.6271   -1.2095   -8.7943 C   0  0  0  0  0  0  0  0  0  0  0  0\n   14.7025   -3.5885   -3.1958 N   0  0  0  0  0  0  0  0  0  0  0  0\n   14.2595   -2.8659   -2.0175 C   0  0  0  0  0  0  0  0  0  0  0  0\n   14.1513   -3.4433   -4.0345 H   0  0  0  0  0  0  0  0  0  0  0  0\n  1  2  1  0  0  0\n  2  3  2  0  0  0\n  2  4  1  0  0  0\n  3  5  1  0  0  0\n  4  6  2  0  0  0\n  5  7  2  0  0  0\n  5  8  1  0  0  0\n  7 17  1  0  0  0\n  8  9  2  0  0  0\n  8 11  1  0  0  0\n 17 18  1  0  0  0\n 11 12  2  0  0  0\n 11 13  1  0  0  0\n 12 14  1  0  0  0\n 13 15  2  0  0  0\n 14 16  2  0  0  0\n  6  7  1  0  0  0\n 15 16  1  0  0  0\n 17 19  1  0  0  0\n  9 10  1  0  0  0\nM  END\n> <minimizedAffinity>\n-6.54782\n\n$$$$\n151265\n\n\n 19 20  0  0  0  0  0  0  0  0999 V2000\n   17.0970   -0.0595   -8.7632 Cl  0  0  0  0  0  0  0  0  0  0  0  0\n   16.6745   -1.5272   -7.9718 C   0  0  0  0  0  0  0  0  0  0  0  0\n   16.7540   -1.6175   -6.5877 C   0  0  0  0  0  0  0  0  0  0  0  0\n   16.2659   -2.6235   -8.7232 C   0  0  0  0  0  0  0  0  0  0  0  0\n   16.4219   -2.8209   -5.9436 C   0  0  0  0  0  0  0  0  0  0  0  0\n   15.9152   -3.8142   -8.0798 C   0  0  0  0  0  0  0  0  0  0  0  0\n   15.9762   -3.9379   -6.6811 C   0  0  0  0  0  0  0  0  0  0  0  0\n   16.6512   -2.8538   -4.4714 C   0  0  0  0  0  0  0  0  0  0  0  0\n   16.0115   -2.0042   -3.7236 N   0  0  0  0  0  0  0  0  0  0  0  0\n   16.2966   -2.0854   -2.7427 H   0  0  0  0  0  0  0  0  0  0  0  0\n   17.6390   -3.8100   -3.8917 C   0  0  0  0  0  0  0  0  0  0  0  0\n   17.5607   -4.1852   -2.5457 C   0  0  0  0  0  0  0  0  0  0  0  0\n   18.6322   -4.3614   -4.7110 C   0  0  0  0  0  0  0  0  0  0  0  0\n   18.4768   -5.0998   -2.0222 C   0  0  0  0  0  0  0  0  0  0  0  0\n   19.5465   -5.2746   -4.1827 C   0  0  0  0  0  0  0  0  0  0  0  0\n   19.4677   -5.6430   -2.8400 C   0  0  0  0  0  0  0  0  0  0  0  0\n   15.4859   -5.1148   -6.1181 N   0  0  0  0  0  0  0  0  0  0  0  0\n   14.0647   -5.2107   -5.8392 C   0  0  0  0  0  0  0  0  0  0  0  0\n   15.9401   -5.9791   -6.3919 H   0  0  0  0  0  0  0  0  0  0  0  0\n  1  2  1  0  0  0\n  2  3  2  0  0  0\n  2  4  1  0  0  0\n  3  5  1  0  0  0\n  4  6  2  0  0  0\n  5  7  2  0  0  0\n  5  8  1  0  0  0\n  7 17  1  0  0  0\n  8  9  2  0  0  0\n  8 11  1  0  0  0\n 17 18  1  0  0  0\n 11 12  2  0  0  0\n 11 13  1  0  0  0\n 12 14  1  0  0  0\n 13 15  2  0  0  0\n 14 16  2  0  0  0\n  6  7  1  0  0  0\n 15 16  1  0  0  0\n 17 19  1  0  0  0\n  9 10  1  0  0  0\nM  END\n> <minimizedAffinity>\n-6.51647\n\n$$$$\n151265\n\n\n 19 20  0  0  0  0  0  0  0  0999 V2000\n   18.2667   -1.8292   -0.6853 Cl  0  0  0  0  0  0  0  0  0  0  0  0\n   17.8889   -2.6631   -2.1416 C   0  0  0  0  0  0  0  0  0  0  0  0\n   18.6982   -3.7062   -2.5743 C   0  0  0  0  0  0  0  0  0  0  0  0\n   16.7796   -2.2810   -2.8878 C   0  0  0  0  0  0  0  0  0  0  0  0\n   18.3965   -4.3774   -3.7710 C   0  0  0  0  0  0  0  0  0  0  0  0\n   16.4678   -2.9634   -4.0675 C   0  0  0  0  0  0  0  0  0  0  0  0\n   17.2599   -4.0282   -4.5303 C   0  0  0  0  0  0  0  0  0  0  0  0\n   19.3876   -5.4006   -4.2088 C   0  0  0  0  0  0  0  0  0  0  0  0\n   19.6325   -5.5249   -5.4796 N   0  0  0  0  0  0  0  0  0  0  0  0\n   20.2822   -6.2969   -5.6582 H   0  0  0  0  0  0  0  0  0  0  0  0\n   20.0331   -6.2923   -3.2017 C   0  0  0  0  0  0  0  0  0  0  0  0\n   21.3957   -6.5987   -3.2922 C   0  0  0  0  0  0  0  0  0  0  0  0\n   19.2751   -6.7993   -2.1386 C   0  0  0  0  0  0  0  0  0  0  0  0\n   21.9925   -7.4147   -2.3291 C   0  0  0  0  0  0  0  0  0  0  0  0\n   19.8761   -7.6156   -1.1788 C   0  0  0  0  0  0  0  0  0  0  0  0\n   21.2333   -7.9220   -1.2746 C   0  0  0  0  0  0  0  0  0  0  0  0\n   16.8031   -4.7328   -5.6426 N   0  0  0  0  0  0  0  0  0  0  0  0\n   16.3422   -3.9834   -6.7970 C   0  0  0  0  0  0  0  0  0  0  0  0\n   17.2563   -5.6173   -5.8442 H   0  0  0  0  0  0  0  0  0  0  0  0\n  1  2  1  0  0  0\n  2  3  2  0  0  0\n  2  4  1  0  0  0\n  3  5  1  0  0  0\n  4  6  2  0  0  0\n  5  7  2  0  0  0\n  5  8  1  0  0  0\n  7 17  1  0  0  0\n  8  9  2  0  0  0\n  8 11  1  0  0  0\n 17 18  1  0  0  0\n 11 12  2  0  0  0\n 11 13  1  0  0  0\n 12 14  1  0  0  0\n 13 15  2  0  0  0\n 14 16  2  0  0  0\n  6  7  1  0  0  0\n 15 16  1  0  0  0\n 17 19  1  0  0  0\n  9 10  1  0  0  0\nM  END\n> <minimizedAffinity>\n-6.49720\n\n$$$$\n12421745\n\n\n 18 19  0  0  0  0  0  0  0  0999 V2000\n   19.6445   -7.0717   -1.9049 Cl  0  0  0  0  0  0  0  0  0  0  0  0\n   18.9894   -5.5474   -2.4029 C   0  0  0  0  0  0  0  0  0  0  0  0\n   19.3224   -4.9964   -3.6554 C   0  0  0  0  0  0  0  0  0  0  0  0\n   18.1380   -4.8805   -1.5155 C   0  0  0  0  0  0  0  0  0  0  0  0\n   20.1150   -5.7060   -4.5656 N   0  0  0  0  0  0  0  0  0  0  0  0\n   18.7065   -3.7803   -4.0158 C   0  0  0  0  0  0  0  0  0  0  0  0\n   17.5837   -3.6528   -1.8689 C   0  0  0  0  0  0  0  0  0  0  0  0\n   17.8663   -3.1012   -3.1167 C   0  0  0  0  0  0  0  0  0  0  0  0\n   20.5270   -5.1655   -5.3281 H   0  0  0  0  0  0  0  0  0  0  0  0\n   20.6453   -6.4976   -4.2203 H   0  0  0  0  0  0  0  0  0  0  0  0\n   18.9772   -3.1746   -5.3465 C   0  0  0  0  0  0  0  0  0  0  0  0\n   20.1150   -2.7978   -5.6194 O   0  0  0  0  0  0  0  0  0  0  0  0\n   17.8938   -3.0186   -6.3521 C   0  0  0  0  0  0  0  0  0  0  0  0\n   17.9101   -1.8909   -7.1815 C   0  0  0  0  0  0  0  0  0  0  0  0\n   16.8911   -3.9833   -6.5097 C   0  0  0  0  0  0  0  0  0  0  0  0\n   16.9126   -1.7134   -8.1412 C   0  0  0  0  0  0  0  0  0  0  0  0\n   15.8953   -3.8016   -7.4718 C   0  0  0  0  0  0  0  0  0  0  0  0\n   15.9043   -2.6663   -8.2826 C   0  0  0  0  0  0  0  0  0  0  0  0\n  1  2  1  0  0  0\n  2  3  2  0  0  0\n  2  4  1  0  0  0\n  3  5  1  0  0  0\n  3  6  1  0  0  0\n  4  7  2  0  0  0\n  6 11  1  0  0  0\n  6  8  2  0  0  0\n 11 12  2  0  0  0\n 11 13  1  0  0  0\n 13 14  2  0  0  0\n 13 15  1  0  0  0\n 14 16  1  0  0  0\n 15 17  2  0  0  0\n 16 18  2  0  0  0\n  7  8  1  0  0  0\n 17 18  1  0  0  0\n  5  9  1  0  0  0\n  5 10  1  0  0  0\nM  END\n> <minimizedAffinity>\n-7.16125\n\n$$$$\n12421745\n\n\n 18 19  0  0  0  0  0  0  0  0999 V2000\n   18.7356   -2.3923   -1.1561 Cl  0  0  0  0  0  0  0  0  0  0  0  0\n   18.6047   -3.3076   -2.6209 C   0  0  0  0  0  0  0  0  0  0  0  0\n   17.3940   -3.3456   -3.3393 C   0  0  0  0  0  0  0  0  0  0  0  0\n   19.7313   -4.0163   -3.0518 C   0  0  0  0  0  0  0  0  0  0  0  0\n   16.2962   -2.5738   -2.9400 N   0  0  0  0  0  0  0  0  0  0  0  0\n   17.3791   -4.0651   -4.5518 C   0  0  0  0  0  0  0  0  0  0  0  0\n   19.6785   -4.7663   -4.2240 C   0  0  0  0  0  0  0  0  0  0  0  0\n   18.5050   -4.7924   -4.9746 C   0  0  0  0  0  0  0  0  0  0  0  0\n   15.3904   -2.8327   -3.3348 H   0  0  0  0  0  0  0  0  0  0  0  0\n   16.2995   -2.1890   -2.0025 H   0  0  0  0  0  0  0  0  0  0  0  0\n   16.1460   -4.0994   -5.3818 C   0  0  0  0  0  0  0  0  0  0  0  0\n   15.1020   -4.5303   -4.8965 O   0  0  0  0  0  0  0  0  0  0  0  0\n   16.1556   -3.6199   -6.7887 C   0  0  0  0  0  0  0  0  0  0  0  0\n   16.8842   -2.4644   -7.0952 C   0  0  0  0  0  0  0  0  0  0  0  0\n   15.4895   -4.3126   -7.8072 C   0  0  0  0  0  0  0  0  0  0  0  0\n   16.9210   -1.9874   -8.4062 C   0  0  0  0  0  0  0  0  0  0  0  0\n   15.5297   -3.8317   -9.1177 C   0  0  0  0  0  0  0  0  0  0  0  0\n   16.2407   -2.6688   -9.4150 C   0  0  0  0  0  0  0  0  0  0  0  0\n  1  2  1  0  0  0\n  2  3  2  0  0  0\n  2  4  1  0  0  0\n  3  5  1  0  0  0\n  3  6  1  0  0  0\n  4  7  2  0  0  0\n  6 11  1  0  0  0\n  6  8  2  0  0  0\n 11 12  2  0  0  0\n 11 13  1  0  0  0\n 13 14  2  0  0  0\n 13 15  1  0  0  0\n 14 16  1  0  0  0\n 15 17  2  0  0  0\n 16 18  2  0  0  0\n  7  8  1  0  0  0\n 17 18  1  0  0  0\n  5  9  1  0  0  0\n  5 10  1  0  0  0\nM  END\n> <minimizedAffinity>\n-6.64534\n\n$$$$\n12421745\n\n\n 18 19  0  0  0  0  0  0  0  0999 V2000\n   18.2112   -5.3572   -1.3996 Cl  0  0  0  0  0  0  0  0  0  0  0  0\n   17.5561   -4.1486   -2.4536 C   0  0  0  0  0  0  0  0  0  0  0  0\n   18.0900   -3.9520   -3.7418 C   0  0  0  0  0  0  0  0  0  0  0  0\n   16.4971   -3.3692   -1.9759 C   0  0  0  0  0  0  0  0  0  0  0  0\n   19.0993   -4.7864   -4.2371 N   0  0  0  0  0  0  0  0  0  0  0  0\n   17.4688   -2.9893   -4.5637 C   0  0  0  0  0  0  0  0  0  0  0  0\n   15.9338   -2.3852   -2.7846 C   0  0  0  0  0  0  0  0  0  0  0  0\n   16.4175   -2.1934   -4.0770 C   0  0  0  0  0  0  0  0  0  0  0  0\n   19.6134   -4.4448   -5.0510 H   0  0  0  0  0  0  0  0  0  0  0  0\n   19.6080   -5.3632   -3.5771 H   0  0  0  0  0  0  0  0  0  0  0  0\n   17.9534   -2.7723   -5.9525 C   0  0  0  0  0  0  0  0  0  0  0  0\n   19.0930   -2.3498   -6.1365 O   0  0  0  0  0  0  0  0  0  0  0  0\n   17.0817   -3.0591   -7.1218 C   0  0  0  0  0  0  0  0  0  0  0  0\n   16.1740   -4.1213   -7.0334 C   0  0  0  0  0  0  0  0  0  0  0  0\n   17.1237   -2.2751   -8.2813 C   0  0  0  0  0  0  0  0  0  0  0  0\n   15.3355   -4.4168   -8.1090 C   0  0  0  0  0  0  0  0  0  0  0  0\n   16.2823   -2.5743   -9.3549 C   0  0  0  0  0  0  0  0  0  0  0  0\n   15.3932   -3.6461   -9.2698 C   0  0  0  0  0  0  0  0  0  0  0  0\n  1  2  1  0  0  0\n  2  3  2  0  0  0\n  2  4  1  0  0  0\n  3  5  1  0  0  0\n  3  6  1  0  0  0\n  4  7  2  0  0  0\n  6 11  1  0  0  0\n  6  8  2  0  0  0\n 11 12  2  0  0  0\n 11 13  1  0  0  0\n 13 14  2  0  0  0\n 13 15  1  0  0  0\n 14 16  1  0  0  0\n 15 17  2  0  0  0\n 16 18  2  0  0  0\n  7  8  1  0  0  0\n 17 18  1  0  0  0\n  5  9  1  0  0  0\n  5 10  1  0  0  0\nM  END\n> <minimizedAffinity>\n-6.64098\n\n$$$$\n12421745\n\n\n 18 19  0  0  0  0  0  0  0  0999 V2000\n   18.2013   -5.6030   -1.1699 Cl  0  0  0  0  0  0  0  0  0  0  0  0\n   18.4797   -4.8287   -2.6943 C   0  0  0  0  0  0  0  0  0  0  0  0\n   17.4581   -4.0914   -3.3235 C   0  0  0  0  0  0  0  0  0  0  0  0\n   19.7409   -4.9759   -3.2815 C   0  0  0  0  0  0  0  0  0  0  0  0\n   16.2248   -3.8883   -2.6927 N   0  0  0  0  0  0  0  0  0  0  0  0\n   17.7753   -3.4422   -4.5343 C   0  0  0  0  0  0  0  0  0  0  0  0\n   20.0161   -4.3719   -4.5058 C   0  0  0  0  0  0  0  0  0  0  0  0\n   19.0362   -3.6058   -5.1334 C   0  0  0  0  0  0  0  0  0  0  0  0\n   15.4551   -3.5773   -3.2880 H   0  0  0  0  0  0  0  0  0  0  0  0\n   15.9898   -4.4787   -1.9033 H   0  0  0  0  0  0  0  0  0  0  0  0\n   16.7549   -2.6060   -5.2200 C   0  0  0  0  0  0  0  0  0  0  0  0\n   16.1906   -1.7087   -4.5975 O   0  0  0  0  0  0  0  0  0  0  0  0\n   16.4072   -2.8373   -6.6465 C   0  0  0  0  0  0  0  0  0  0  0  0\n   16.7373   -1.8501   -7.5827 C   0  0  0  0  0  0  0  0  0  0  0  0\n   15.7975   -4.0237   -7.0726 C   0  0  0  0  0  0  0  0  0  0  0  0\n   16.4316   -2.0347   -8.9318 C   0  0  0  0  0  0  0  0  0  0  0  0\n   15.4941   -4.2042   -8.4237 C   0  0  0  0  0  0  0  0  0  0  0  0\n   15.8069   -3.2092   -9.3503 C   0  0  0  0  0  0  0  0  0  0  0  0\n  1  2  1  0  0  0\n  2  3  2  0  0  0\n  2  4  1  0  0  0\n  3  5  1  0  0  0\n  3  6  1  0  0  0\n  4  7  2  0  0  0\n  6 11  1  0  0  0\n  6  8  2  0  0  0\n 11 12  2  0  0  0\n 11 13  1  0  0  0\n 13 14  2  0  0  0\n 13 15  1  0  0  0\n 14 16  1  0  0  0\n 15 17  2  0  0  0\n 16 18  2  0  0  0\n  7  8  1  0  0  0\n 17 18  1  0  0  0\n  5  9  1  0  0  0\n  5 10  1  0  0  0\nM  END\n> <minimizedAffinity>\n-6.57491\n\n$$$$\n12421745\n\n\n 18 19  0  0  0  0  0  0  0  0999 V2000\n   17.3439   -0.3091   -8.4864 Cl  0  0  0  0  0  0  0  0  0  0  0  0\n   17.2354   -1.7440   -7.5219 C   0  0  0  0  0  0  0  0  0  0  0  0\n   18.3577   -2.2256   -6.8208 C   0  0  0  0  0  0  0  0  0  0  0  0\n   16.0067   -2.4115   -7.4791 C   0  0  0  0  0  0  0  0  0  0  0  0\n   19.5610   -1.5098   -6.8104 N   0  0  0  0  0  0  0  0  0  0  0  0\n   18.1791   -3.3664   -6.0116 C   0  0  0  0  0  0  0  0  0  0  0  0\n   15.8666   -3.5687   -6.7172 C   0  0  0  0  0  0  0  0  0  0  0  0\n   16.9501   -4.0477   -5.9837 C   0  0  0  0  0  0  0  0  0  0  0  0\n   20.3924   -2.0218   -6.5103 H   0  0  0  0  0  0  0  0  0  0  0  0\n   19.6904   -0.7843   -7.5061 H   0  0  0  0  0  0  0  0  0  0  0  0\n   19.3128   -3.8924   -5.2061 C   0  0  0  0  0  0  0  0  0  0  0  0\n   20.4595   -3.7908   -5.6371 O   0  0  0  0  0  0  0  0  0  0  0  0\n   19.0813   -4.5383   -3.8875 C   0  0  0  0  0  0  0  0  0  0  0  0\n   18.2962   -3.8660   -2.9434 C   0  0  0  0  0  0  0  0  0  0  0  0\n   19.5954   -5.8060   -3.5883 C   0  0  0  0  0  0  0  0  0  0  0  0\n   18.0524   -4.4439   -1.6967 C   0  0  0  0  0  0  0  0  0  0  0  0\n   19.3484   -6.3805   -2.3396 C   0  0  0  0  0  0  0  0  0  0  0  0\n   18.5819   -5.6981   -1.3946 C   0  0  0  0  0  0  0  0  0  0  0  0\n  1  2  1  0  0  0\n  2  3  2  0  0  0\n  2  4  1  0  0  0\n  3  5  1  0  0  0\n  3  6  1  0  0  0\n  4  7  2  0  0  0\n  6 11  1  0  0  0\n  6  8  2  0  0  0\n 11 12  2  0  0  0\n 11 13  1  0  0  0\n 13 14  2  0  0  0\n 13 15  1  0  0  0\n 14 16  1  0  0  0\n 15 17  2  0  0  0\n 16 18  2  0  0  0\n  7  8  1  0  0  0\n 17 18  1  0  0  0\n  5  9  1  0  0  0\n  5 10  1  0  0  0\nM  END\n> <minimizedAffinity>\n-6.52966\n\n$$$$\n12421745\n\n\n 18 19  0  0  0  0  0  0  0  0999 V2000\n   16.3871   -2.3899   -9.5897 Cl  0  0  0  0  0  0  0  0  0  0  0  0\n   16.0598   -3.2202   -8.1050 C   0  0  0  0  0  0  0  0  0  0  0  0\n   16.7271   -2.8611   -6.9181 C   0  0  0  0  0  0  0  0  0  0  0  0\n   15.1287   -4.2640   -8.1314 C   0  0  0  0  0  0  0  0  0  0  0  0\n   17.6008   -1.7675   -6.8868 N   0  0  0  0  0  0  0  0  0  0  0  0\n   16.3677   -3.5432   -5.7376 C   0  0  0  0  0  0  0  0  0  0  0  0\n   14.8289   -4.9622   -6.9643 C   0  0  0  0  0  0  0  0  0  0  0  0\n   15.4465   -4.6043   -5.7678 C   0  0  0  0  0  0  0  0  0  0  0  0\n   18.2360   -1.7153   -6.0886 H   0  0  0  0  0  0  0  0  0  0  0  0\n   17.9357   -1.3991   -7.7695 H   0  0  0  0  0  0  0  0  0  0  0  0\n   16.9989   -3.1738   -4.4430 C   0  0  0  0  0  0  0  0  0  0  0  0\n   16.8391   -2.0408   -3.9936 O   0  0  0  0  0  0  0  0  0  0  0  0\n   17.8192   -4.1532   -3.6833 C   0  0  0  0  0  0  0  0  0  0  0  0\n   18.8065   -4.8712   -4.3687 C   0  0  0  0  0  0  0  0  0  0  0  0\n   17.6515   -4.3428   -2.3061 C   0  0  0  0  0  0  0  0  0  0  0  0\n   19.6000   -5.7952   -3.6875 C   0  0  0  0  0  0  0  0  0  0  0  0\n   18.4483   -5.2682   -1.6286 C   0  0  0  0  0  0  0  0  0  0  0  0\n   19.4175   -5.9958   -2.3196 C   0  0  0  0  0  0  0  0  0  0  0  0\n  1  2  1  0  0  0\n  2  3  2  0  0  0\n  2  4  1  0  0  0\n  3  5  1  0  0  0\n  3  6  1  0  0  0\n  4  7  2  0  0  0\n  6 11  1  0  0  0\n  6  8  2  0  0  0\n 11 12  2  0  0  0\n 11 13  1  0  0  0\n 13 14  2  0  0  0\n 13 15  1  0  0  0\n 14 16  1  0  0  0\n 15 17  2  0  0  0\n 16 18  2  0  0  0\n  7  8  1  0  0  0\n 17 18  1  0  0  0\n  5  9  1  0  0  0\n  5 10  1  0  0  0\nM  END\n> <minimizedAffinity>\n-6.45131\n\n$$$$\n12421745\n\n\n 18 19  0  0  0  0  0  0  0  0999 V2000\n   16.2081   -3.4189   -1.7524 Cl  0  0  0  0  0  0  0  0  0  0  0  0\n   17.0980   -3.5851   -3.2294 C   0  0  0  0  0  0  0  0  0  0  0  0\n   16.4286   -3.7095   -4.4620 C   0  0  0  0  0  0  0  0  0  0  0  0\n   18.4946   -3.6087   -3.1519 C   0  0  0  0  0  0  0  0  0  0  0  0\n   15.0340   -3.6098   -4.5365 N   0  0  0  0  0  0  0  0  0  0  0  0\n   17.2191   -3.7838   -5.6273 C   0  0  0  0  0  0  0  0  0  0  0  0\n   19.2563   -3.7388   -4.3105 C   0  0  0  0  0  0  0  0  0  0  0  0\n   18.6217   -3.8267   -5.5477 C   0  0  0  0  0  0  0  0  0  0  0  0\n   14.5981   -3.9575   -5.3923 H   0  0  0  0  0  0  0  0  0  0  0  0\n   14.5030   -3.6981   -3.6779 H   0  0  0  0  0  0  0  0  0  0  0  0\n   16.5705   -3.8638   -6.9628 C   0  0  0  0  0  0  0  0  0  0  0  0\n   16.1150   -4.9376   -7.3507 O   0  0  0  0  0  0  0  0  0  0  0  0\n   16.4635   -2.6655   -7.8357 C   0  0  0  0  0  0  0  0  0  0  0  0\n   16.9417   -1.4420   -7.3517 C   0  0  0  0  0  0  0  0  0  0  0  0\n   15.9348   -2.7424   -9.1301 C   0  0  0  0  0  0  0  0  0  0  0  0\n   16.8632   -0.2966   -8.1450 C   0  0  0  0  0  0  0  0  0  0  0  0\n   15.8588   -1.5936   -9.9205 C   0  0  0  0  0  0  0  0  0  0  0  0\n   16.3184   -0.3725   -9.4265 C   0  0  0  0  0  0  0  0  0  0  0  0\n  1  2  1  0  0  0\n  2  3  2  0  0  0\n  2  4  1  0  0  0\n  3  5  1  0  0  0\n  3  6  1  0  0  0\n  4  7  2  0  0  0\n  6 11  1  0  0  0\n  6  8  2  0  0  0\n 11 12  2  0  0  0\n 11 13  1  0  0  0\n 13 14  2  0  0  0\n 13 15  1  0  0  0\n 14 16  1  0  0  0\n 15 17  2  0  0  0\n 16 18  2  0  0  0\n  7  8  1  0  0  0\n 17 18  1  0  0  0\n  5  9  1  0  0  0\n  5 10  1  0  0  0\nM  END\n> <minimizedAffinity>\n-5.91728\n\n$$$$\n12421745\n\n\n 18 19  0  0  0  0  0  0  0  0999 V2000\n   14.1224   -1.2427   -3.7039 Cl  0  0  0  0  0  0  0  0  0  0  0  0\n   15.1721   -2.3847   -4.4751 C   0  0  0  0  0  0  0  0  0  0  0  0\n   16.4870   -2.5804   -4.0105 C   0  0  0  0  0  0  0  0  0  0  0  0\n   14.6759   -3.0872   -5.5784 C   0  0  0  0  0  0  0  0  0  0  0  0\n   16.9484   -1.9276   -2.8610 N   0  0  0  0  0  0  0  0  0  0  0  0\n   17.2638   -3.5669   -4.6520 C   0  0  0  0  0  0  0  0  0  0  0  0\n   15.4792   -4.0179   -6.2327 C   0  0  0  0  0  0  0  0  0  0  0  0\n   16.7719   -4.2589   -5.7722 C   0  0  0  0  0  0  0  0  0  0  0  0\n   17.9605   -1.9069   -2.7249 H   0  0  0  0  0  0  0  0  0  0  0  0\n   16.4191   -1.1343   -2.5182 H   0  0  0  0  0  0  0  0  0  0  0  0\n   18.6415   -3.8568   -4.1740 C   0  0  0  0  0  0  0  0  0  0  0  0\n   19.5732   -3.1472   -4.5474 O   0  0  0  0  0  0  0  0  0  0  0  0\n   18.9097   -4.9905   -3.2509 C   0  0  0  0  0  0  0  0  0  0  0  0\n   19.8841   -5.9289   -3.6114 C   0  0  0  0  0  0  0  0  0  0  0  0\n   18.2421   -5.1167   -2.0264 C   0  0  0  0  0  0  0  0  0  0  0  0\n   20.1671   -7.0036   -2.7673 C   0  0  0  0  0  0  0  0  0  0  0  0\n   18.5291   -6.1935   -1.1848 C   0  0  0  0  0  0  0  0  0  0  0  0\n   19.4868   -7.1371   -1.5573 C   0  0  0  0  0  0  0  0  0  0  0  0\n  1  2  1  0  0  0\n  2  3  2  0  0  0\n  2  4  1  0  0  0\n  3  5  1  0  0  0\n  3  6  1  0  0  0\n  4  7  2  0  0  0\n  6 11  1  0  0  0\n  6  8  2  0  0  0\n 11 12  2  0  0  0\n 11 13  1  0  0  0\n 13 14  2  0  0  0\n 13 15  1  0  0  0\n 14 16  1  0  0  0\n 15 17  2  0  0  0\n 16 18  2  0  0  0\n  7  8  1  0  0  0\n 17 18  1  0  0  0\n  5  9  1  0  0  0\n  5 10  1  0  0  0\nM  END\n> <minimizedAffinity>\n-5.85108\n\n$$$$\n",
                    "binary": false
                  }
                ],
                "kwargs": {
                  "defaultRepresentation": false,
                  "ext": "sdf"
                }
              },
              {
                "component_index": 0,
                "target": "compList",
                "type": "call_method",
                "methodName": "addRepresentation",
                "reconstruc_color_scheme": false,
                "args": [
                  "ball+stick"
                ],
                "kwargs": {
                  "sele": "/1"
                }
              },
              {
                "target": "Widget",
                "type": "call_method",
                "methodName": "setSize",
                "reconstruc_color_scheme": false,
                "args": [
                  "500px",
                  ""
                ],
                "kwargs": {}
              },
              {
                "target": "Widget",
                "type": "call_method",
                "methodName": "set_camera_orientation",
                "reconstruc_color_scheme": false,
                "args": [
                  [
                    28.726877500672277,
                    0,
                    0,
                    0,
                    0,
                    28.726877500672277,
                    0,
                    0,
                    0,
                    0,
                    28.726877500672277,
                    0,
                    -17.46690034866333,
                    3.2421498894691467,
                    5.3953500390052795,
                    1
                  ]
                ],
                "kwargs": {}
              },
              {
                "target": "Widget",
                "type": "call_method",
                "methodName": "set_camera_orientation",
                "reconstruc_color_scheme": false,
                "args": [
                  [
                    28.726877500672277,
                    0,
                    0,
                    0,
                    0,
                    28.703899062708587,
                    -1.1487687045128856,
                    0,
                    0,
                    1.1487687045128856,
                    28.703899062708587,
                    0,
                    -17.46690034866333,
                    3.2421498894691467,
                    5.3953500390052795,
                    1
                  ]
                ],
                "kwargs": {}
              },
              {
                "target": "Widget",
                "type": "call_method",
                "methodName": "set_camera_orientation",
                "reconstruc_color_scheme": false,
                "args": [
                  [
                    25.6083308638475,
                    -1.1254380766277194,
                    -12.968433615592154,
                    0,
                    -12.162221942451012,
                    8.132226786277815,
                    -24.722069813382102,
                    0,
                    4.63974554570695,
                    27.5287807134797,
                    6.772922902179713,
                    0,
                    -17.46690034866333,
                    3.2421498894691467,
                    5.3953500390052795,
                    1
                  ]
                ],
                "kwargs": {}
              },
              {
                "target": "Widget",
                "type": "call_method",
                "methodName": "set_camera_orientation",
                "reconstruc_color_scheme": false,
                "args": [
                  [
                    25.6083308638475,
                    -0.8658616151023725,
                    -12.988347276302573,
                    0,
                    -12.162221942451016,
                    8.625008829301814,
                    -24.554491871257667,
                    0,
                    4.639745545706949,
                    27.387825713199433,
                    7.322107272714219,
                    0,
                    -17.46690034866333,
                    3.2421498894691467,
                    5.3953500390052795,
                    1
                  ]
                ],
                "kwargs": {}
              },
              {
                "target": "Widget",
                "type": "call_method",
                "methodName": "set_camera_orientation",
                "reconstruc_color_scheme": false,
                "args": [
                  [
                    25.608330863847495,
                    7.0620778558510775,
                    -10.934986861640128,
                    0,
                    -12.162221942451026,
                    21.581913604182528,
                    -14.54423781237071,
                    0,
                    4.639745545706953,
                    17.594929737800292,
                    22.228915846968203,
                    0,
                    -17.46690034866333,
                    3.2421498894691467,
                    5.3953500390052795,
                    1
                  ]
                ],
                "kwargs": {}
              }
            ],
            "_ngl_original_stage_parameters": {
              "impostor": true,
              "quality": "medium",
              "workerDefault": true,
              "sampleLevel": 0,
              "backgroundColor": "white",
              "rotateSpeed": 2,
              "zoomSpeed": 1.2,
              "panSpeed": 1,
              "clipNear": 0,
              "clipFar": 100,
              "clipDist": 10,
              "fogNear": 50,
              "fogFar": 100,
              "cameraFov": 40,
              "cameraEyeSep": 0.3,
              "cameraType": "perspective",
              "lightColor": 14540253,
              "lightIntensity": 1,
              "ambientColor": 14540253,
              "ambientIntensity": 0.2,
              "hoverTimeout": 0,
              "tooltip": true,
              "mousePreset": "default"
            },
            "_ngl_repr_dict": {
              "0": {
                "0": {
                  "type": "ball+stick",
                  "params": {
                    "lazy": false,
                    "visible": true,
                    "quality": "medium",
                    "sphereDetail": 1,
                    "radialSegments": 10,
                    "openEnded": true,
                    "disableImpostor": false,
                    "aspectRatio": 2,
                    "lineOnly": false,
                    "cylinderOnly": false,
                    "multipleBond": "off",
                    "bondScale": 0.4,
                    "bondSpacing": 1,
                    "linewidth": 2,
                    "radiusType": "size",
                    "radiusData": {},
                    "radiusSize": 0.15,
                    "radiusScale": 1,
                    "assembly": "default",
                    "defaultAssembly": "",
                    "clipNear": 0,
                    "clipRadius": 0,
                    "clipCenter": {
                      "x": 0,
                      "y": 0,
                      "z": 0
                    },
                    "flatShaded": false,
                    "opacity": 1,
                    "depthWrite": true,
                    "side": "double",
                    "wireframe": false,
                    "colorScheme": "element",
                    "colorScale": "",
                    "colorReverse": false,
                    "colorValue": 9474192,
                    "colorMode": "hcl",
                    "roughness": 0.4,
                    "metalness": 0,
                    "diffuse": 16777215,
                    "diffuseInterior": false,
                    "useInteriorColor": true,
                    "interiorColor": 2236962,
                    "interiorDarkening": 0,
                    "matrix": {
                      "elements": [
                        1,
                        0,
                        0,
                        0,
                        0,
                        1,
                        0,
                        0,
                        0,
                        0,
                        1,
                        0,
                        0,
                        0,
                        0,
                        1
                      ]
                    },
                    "disablePicking": false,
                    "sele": "/1"
                  }
                },
                "1": {
                  "type": "ball+stick",
                  "params": {
                    "lazy": false,
                    "visible": true,
                    "quality": "medium",
                    "sphereDetail": 1,
                    "radialSegments": 10,
                    "openEnded": true,
                    "disableImpostor": false,
                    "aspectRatio": 2,
                    "lineOnly": false,
                    "cylinderOnly": false,
                    "multipleBond": "off",
                    "bondScale": 0.4,
                    "bondSpacing": 1,
                    "linewidth": 2,
                    "radiusType": "size",
                    "radiusData": {},
                    "radiusSize": 0.15,
                    "radiusScale": 1,
                    "assembly": "default",
                    "defaultAssembly": "",
                    "clipNear": 0,
                    "clipRadius": 0,
                    "clipCenter": {
                      "x": 0,
                      "y": 0,
                      "z": 0
                    },
                    "flatShaded": false,
                    "opacity": 1,
                    "depthWrite": true,
                    "side": "double",
                    "wireframe": false,
                    "colorScheme": "element",
                    "colorScale": "",
                    "colorReverse": false,
                    "colorValue": 9474192,
                    "colorMode": "hcl",
                    "roughness": 0.4,
                    "metalness": 0,
                    "diffuse": 16777215,
                    "diffuseInterior": false,
                    "useInteriorColor": true,
                    "interiorColor": 2236962,
                    "interiorDarkening": 0,
                    "matrix": {
                      "elements": [
                        1,
                        0,
                        0,
                        0,
                        0,
                        1,
                        0,
                        0,
                        0,
                        0,
                        1,
                        0,
                        0,
                        0,
                        0,
                        1
                      ]
                    },
                    "disablePicking": false,
                    "sele": "/1"
                  }
                }
              },
              "1": {}
            },
            "_ngl_serialize": false,
            "_ngl_version": "2.0.0-dev.36",
            "_ngl_view_id": [
              "3A3BBD1F-A19E-499F-A146-16978C44E8C1"
            ],
            "_player_dict": {},
            "_scene_position": {},
            "_scene_rotation": {},
            "_synced_model_ids": [],
            "_synced_repr_model_ids": [],
            "_view_count": null,
            "_view_height": "",
            "_view_module": "nglview-js-widgets",
            "_view_module_version": "3.0.1",
            "_view_name": "NGLView",
            "_view_width": "",
            "background": "white",
            "frame": 0,
            "gui_style": null,
            "layout": "IPY_MODEL_8cc895d2f7d54af0ab91cef8377b3946",
            "max_frame": 0,
            "n_components": 2,
            "picked": {}
          }
        },
        "a1171aef618248e0b415733af66abee2": {
          "model_module": "@jupyter-widgets/controls",
          "model_name": "HBoxModel",
          "model_module_version": "1.0.0",
          "state": {
            "_dom_classes": [],
            "_model_module": "@jupyter-widgets/controls",
            "_model_module_version": "1.0.0",
            "_model_name": "HBoxModel",
            "_view_count": null,
            "_view_module": "@jupyter-widgets/controls",
            "_view_module_version": "1.0.0",
            "_view_name": "HBoxView",
            "box_style": "",
            "children": [
              "IPY_MODEL_63277ca49f194808b6366c4b828c1a9c",
              "IPY_MODEL_a46b5e1f949d45839d8c45868fe0296a"
            ],
            "layout": "IPY_MODEL_75052991e0394a2081ca441c4629af18"
          }
        },
        "18bd24c3fd4f4d3cad9f0cf357479e92": {
          "model_module": "@jupyter-widgets/base",
          "model_name": "LayoutModel",
          "model_module_version": "1.0.0",
          "state": {
            "_model_module": "@jupyter-widgets/base",
            "_model_module_version": "1.0.0",
            "_model_name": "LayoutModel",
            "_view_count": null,
            "_view_module": "@jupyter-widgets/base",
            "_view_module_version": "1.0.0",
            "_view_name": "LayoutView",
            "align_content": null,
            "align_items": null,
            "align_self": null,
            "border": null,
            "bottom": null,
            "display": null,
            "flex": null,
            "flex_flow": null,
            "height": null,
            "justify_content": null,
            "left": null,
            "margin": null,
            "max_height": null,
            "max_width": null,
            "min_height": null,
            "min_width": null,
            "order": null,
            "overflow": null,
            "overflow_x": null,
            "overflow_y": null,
            "padding": null,
            "right": null,
            "top": null,
            "visibility": null,
            "width": null
          }
        },
        "0c0ce9ea3917479697d73052a97334aa": {
          "model_module": "@jupyter-widgets/controls",
          "model_name": "DescriptionStyleModel",
          "model_module_version": "1.0.0",
          "state": {
            "_model_module": "@jupyter-widgets/controls",
            "_model_module_version": "1.0.0",
            "_model_name": "DescriptionStyleModel",
            "_view_count": null,
            "_view_module": "@jupyter-widgets/base",
            "_view_module_version": "1.0.0",
            "_view_name": "StyleView",
            "description_width": ""
          }
        },
        "2fcec2c0beba47139f20943fc9a9e55d": {
          "model_module": "@jupyter-widgets/base",
          "model_name": "LayoutModel",
          "model_module_version": "1.0.0",
          "state": {
            "_model_module": "@jupyter-widgets/base",
            "_model_module_version": "1.0.0",
            "_model_name": "LayoutModel",
            "_view_count": null,
            "_view_module": "@jupyter-widgets/base",
            "_view_module_version": "1.0.0",
            "_view_name": "LayoutView",
            "align_content": null,
            "align_items": null,
            "align_self": null,
            "border": null,
            "bottom": null,
            "display": null,
            "flex": null,
            "flex_flow": null,
            "height": null,
            "justify_content": null,
            "left": null,
            "margin": null,
            "max_height": null,
            "max_width": null,
            "min_height": null,
            "min_width": null,
            "order": null,
            "overflow": null,
            "overflow_x": null,
            "overflow_y": null,
            "padding": null,
            "right": null,
            "top": null,
            "visibility": null,
            "width": null
          }
        },
        "61f1b984e81d4f4ba88c88ffcfe9f922": {
          "model_module": "@jupyter-widgets/controls",
          "model_name": "SliderStyleModel",
          "model_module_version": "1.0.0",
          "state": {
            "_model_module": "@jupyter-widgets/controls",
            "_model_module_version": "1.0.0",
            "_model_name": "SliderStyleModel",
            "_view_count": null,
            "_view_module": "@jupyter-widgets/base",
            "_view_module_version": "1.0.0",
            "_view_name": "StyleView",
            "description_width": "",
            "handle_color": null
          }
        },
        "75052991e0394a2081ca441c4629af18": {
          "model_module": "@jupyter-widgets/base",
          "model_name": "LayoutModel",
          "model_module_version": "1.0.0",
          "state": {
            "_model_module": "@jupyter-widgets/base",
            "_model_module_version": "1.0.0",
            "_model_name": "LayoutModel",
            "_view_count": null,
            "_view_module": "@jupyter-widgets/base",
            "_view_module_version": "1.0.0",
            "_view_name": "LayoutView",
            "align_content": null,
            "align_items": null,
            "align_self": null,
            "border": null,
            "bottom": null,
            "display": null,
            "flex": null,
            "flex_flow": null,
            "height": null,
            "justify_content": null,
            "left": null,
            "margin": null,
            "max_height": null,
            "max_width": null,
            "min_height": null,
            "min_width": null,
            "order": null,
            "overflow": null,
            "overflow_x": null,
            "overflow_y": null,
            "padding": null,
            "right": null,
            "top": null,
            "visibility": null,
            "width": null
          }
        },
        "fbe8c9eb97c647d8b1c729b848f3e32d": {
          "model_module": "@jupyter-widgets/base",
          "model_name": "LayoutModel",
          "model_module_version": "1.0.0",
          "state": {
            "_model_module": "@jupyter-widgets/base",
            "_model_module_version": "1.0.0",
            "_model_name": "LayoutModel",
            "_view_count": null,
            "_view_module": "@jupyter-widgets/base",
            "_view_module_version": "1.0.0",
            "_view_name": "LayoutView",
            "align_content": null,
            "align_items": null,
            "align_self": null,
            "border": null,
            "bottom": null,
            "display": null,
            "flex": null,
            "flex_flow": null,
            "height": null,
            "justify_content": null,
            "left": null,
            "margin": null,
            "max_height": null,
            "max_width": null,
            "min_height": null,
            "min_width": null,
            "order": null,
            "overflow": null,
            "overflow_x": null,
            "overflow_y": null,
            "padding": null,
            "right": null,
            "top": null,
            "visibility": null,
            "width": null
          }
        },
        "8cc895d2f7d54af0ab91cef8377b3946": {
          "model_module": "@jupyter-widgets/base",
          "model_name": "LayoutModel",
          "model_module_version": "1.0.0",
          "state": {
            "_model_module": "@jupyter-widgets/base",
            "_model_module_version": "1.0.0",
            "_model_name": "LayoutModel",
            "_view_count": null,
            "_view_module": "@jupyter-widgets/base",
            "_view_module_version": "1.0.0",
            "_view_name": "LayoutView",
            "align_content": null,
            "align_items": null,
            "align_self": null,
            "border": null,
            "bottom": null,
            "display": null,
            "flex": null,
            "flex_flow": null,
            "height": null,
            "justify_content": null,
            "left": null,
            "margin": null,
            "max_height": null,
            "max_width": null,
            "min_height": null,
            "min_width": null,
            "order": null,
            "overflow": null,
            "overflow_x": null,
            "overflow_y": null,
            "padding": null,
            "right": null,
            "top": null,
            "visibility": null,
            "width": null
          }
        },
        "fa375be989de4d599f3e2e050e375e74": {
          "model_module": "@jupyter-widgets/controls",
          "model_name": "ButtonModel",
          "model_module_version": "1.0.0",
          "state": {
            "_dom_classes": [],
            "_model_module": "@jupyter-widgets/controls",
            "_model_module_version": "1.0.0",
            "_model_name": "ButtonModel",
            "_view_count": null,
            "_view_module": "@jupyter-widgets/controls",
            "_view_module_version": "1.0.0",
            "_view_name": "ButtonView",
            "button_style": "",
            "description": "",
            "disabled": false,
            "icon": "compress",
            "layout": "IPY_MODEL_c11e3cd61da34a4fbeb98d84cb3d2960",
            "style": "IPY_MODEL_bc7f1f6609b04771a1eccb886534a675",
            "tooltip": ""
          }
        },
        "130946101dbf4bceb3adced42f4a72c3": {
          "model_module": "@jupyter-widgets/controls",
          "model_name": "HBoxModel",
          "model_module_version": "1.0.0",
          "state": {
            "_dom_classes": [],
            "_model_module": "@jupyter-widgets/controls",
            "_model_module_version": "1.0.0",
            "_model_name": "HBoxModel",
            "_view_count": null,
            "_view_module": "@jupyter-widgets/controls",
            "_view_module_version": "1.0.0",
            "_view_name": "HBoxView",
            "box_style": "",
            "children": [
              "IPY_MODEL_258f19b88ad246a5a52adca5bf5c0fb6",
              "IPY_MODEL_921b945bfdc3443aa8dbe8ee81194c38"
            ],
            "layout": "IPY_MODEL_aa94d23836784bfb818a49dd1a3b94e7"
          }
        },
        "b89f9a0c224d4552828c9135db7be93f": {
          "model_module": "@jupyter-widgets/controls",
          "model_name": "ButtonModel",
          "model_module_version": "1.0.0",
          "state": {
            "_dom_classes": [],
            "_model_module": "@jupyter-widgets/controls",
            "_model_module_version": "1.0.0",
            "_model_name": "ButtonModel",
            "_view_count": null,
            "_view_module": "@jupyter-widgets/controls",
            "_view_module_version": "1.0.0",
            "_view_name": "ButtonView",
            "button_style": "",
            "description": "",
            "disabled": false,
            "icon": "compress",
            "layout": "IPY_MODEL_dda06711214745d6ac81273f29f0a09c",
            "style": "IPY_MODEL_22ee14d1d82a49d3a08964c2f3aabd9e",
            "tooltip": ""
          }
        },
        "d097cb80dc4b42feaa72df71d792c741": {
          "model_module": "@jupyter-widgets/controls",
          "model_name": "HBoxModel",
          "model_module_version": "1.0.0",
          "state": {
            "_dom_classes": [],
            "_model_module": "@jupyter-widgets/controls",
            "_model_module_version": "1.0.0",
            "_model_name": "HBoxModel",
            "_view_count": null,
            "_view_module": "@jupyter-widgets/controls",
            "_view_module_version": "1.0.0",
            "_view_name": "HBoxView",
            "box_style": "",
            "children": [
              "IPY_MODEL_f7f4fefec1f448f9be8910f04e7a8cce",
              "IPY_MODEL_6ae343725902487aa4b778af19012ae5"
            ],
            "layout": "IPY_MODEL_1481fb3f66774902ba9a1128759161ca"
          }
        },
        "c11e3cd61da34a4fbeb98d84cb3d2960": {
          "model_module": "@jupyter-widgets/base",
          "model_name": "LayoutModel",
          "model_module_version": "1.0.0",
          "state": {
            "_model_module": "@jupyter-widgets/base",
            "_model_module_version": "1.0.0",
            "_model_name": "LayoutModel",
            "_view_count": null,
            "_view_module": "@jupyter-widgets/base",
            "_view_module_version": "1.0.0",
            "_view_name": "LayoutView",
            "align_content": null,
            "align_items": null,
            "align_self": null,
            "border": null,
            "bottom": null,
            "display": null,
            "flex": null,
            "flex_flow": null,
            "height": null,
            "justify_content": null,
            "left": null,
            "margin": null,
            "max_height": null,
            "max_width": null,
            "min_height": null,
            "min_width": null,
            "order": null,
            "overflow": null,
            "overflow_x": null,
            "overflow_y": null,
            "padding": null,
            "right": null,
            "top": null,
            "visibility": null,
            "width": "34px"
          }
        },
        "bc7f1f6609b04771a1eccb886534a675": {
          "model_module": "@jupyter-widgets/controls",
          "model_name": "ButtonStyleModel",
          "model_module_version": "1.0.0",
          "state": {
            "_model_module": "@jupyter-widgets/controls",
            "_model_module_version": "1.0.0",
            "_model_name": "ButtonStyleModel",
            "_view_count": null,
            "_view_module": "@jupyter-widgets/base",
            "_view_module_version": "1.0.0",
            "_view_name": "StyleView",
            "button_color": null,
            "font_weight": ""
          }
        },
        "aa94d23836784bfb818a49dd1a3b94e7": {
          "model_module": "@jupyter-widgets/base",
          "model_name": "LayoutModel",
          "model_module_version": "1.0.0",
          "state": {
            "_model_module": "@jupyter-widgets/base",
            "_model_module_version": "1.0.0",
            "_model_name": "LayoutModel",
            "_view_count": null,
            "_view_module": "@jupyter-widgets/base",
            "_view_module_version": "1.0.0",
            "_view_name": "LayoutView",
            "align_content": null,
            "align_items": null,
            "align_self": null,
            "border": null,
            "bottom": null,
            "display": null,
            "flex": null,
            "flex_flow": null,
            "height": null,
            "justify_content": null,
            "left": null,
            "margin": null,
            "max_height": null,
            "max_width": null,
            "min_height": null,
            "min_width": null,
            "order": null,
            "overflow": null,
            "overflow_x": null,
            "overflow_y": null,
            "padding": null,
            "right": null,
            "top": null,
            "visibility": null,
            "width": null
          }
        },
        "dda06711214745d6ac81273f29f0a09c": {
          "model_module": "@jupyter-widgets/base",
          "model_name": "LayoutModel",
          "model_module_version": "1.0.0",
          "state": {
            "_model_module": "@jupyter-widgets/base",
            "_model_module_version": "1.0.0",
            "_model_name": "LayoutModel",
            "_view_count": null,
            "_view_module": "@jupyter-widgets/base",
            "_view_module_version": "1.0.0",
            "_view_name": "LayoutView",
            "align_content": null,
            "align_items": null,
            "align_self": null,
            "border": null,
            "bottom": null,
            "display": null,
            "flex": null,
            "flex_flow": null,
            "height": null,
            "justify_content": null,
            "left": null,
            "margin": null,
            "max_height": null,
            "max_width": null,
            "min_height": null,
            "min_width": null,
            "order": null,
            "overflow": null,
            "overflow_x": null,
            "overflow_y": null,
            "padding": null,
            "right": null,
            "top": null,
            "visibility": null,
            "width": "34px"
          }
        },
        "22ee14d1d82a49d3a08964c2f3aabd9e": {
          "model_module": "@jupyter-widgets/controls",
          "model_name": "ButtonStyleModel",
          "model_module_version": "1.0.0",
          "state": {
            "_model_module": "@jupyter-widgets/controls",
            "_model_module_version": "1.0.0",
            "_model_name": "ButtonStyleModel",
            "_view_count": null,
            "_view_module": "@jupyter-widgets/base",
            "_view_module_version": "1.0.0",
            "_view_name": "StyleView",
            "button_color": null,
            "font_weight": ""
          }
        },
        "1481fb3f66774902ba9a1128759161ca": {
          "model_module": "@jupyter-widgets/base",
          "model_name": "LayoutModel",
          "model_module_version": "1.0.0",
          "state": {
            "_model_module": "@jupyter-widgets/base",
            "_model_module_version": "1.0.0",
            "_model_name": "LayoutModel",
            "_view_count": null,
            "_view_module": "@jupyter-widgets/base",
            "_view_module_version": "1.0.0",
            "_view_name": "LayoutView",
            "align_content": null,
            "align_items": null,
            "align_self": null,
            "border": null,
            "bottom": null,
            "display": null,
            "flex": null,
            "flex_flow": null,
            "height": null,
            "justify_content": null,
            "left": null,
            "margin": null,
            "max_height": null,
            "max_width": null,
            "min_height": null,
            "min_width": null,
            "order": null,
            "overflow": null,
            "overflow_x": null,
            "overflow_y": null,
            "padding": null,
            "right": null,
            "top": null,
            "visibility": null,
            "width": null
          }
        },
        "18f09068c3894342906620e28104b430": {
          "model_module": "@jupyter-widgets/controls",
          "model_name": "PlayModel",
          "model_module_version": "1.0.0",
          "state": {
            "_dom_classes": [],
            "_model_module": "@jupyter-widgets/controls",
            "_model_module_version": "1.0.0",
            "_model_name": "PlayModel",
            "_playing": false,
            "_repeat": false,
            "_view_count": null,
            "_view_module": "@jupyter-widgets/controls",
            "_view_module_version": "1.0.0",
            "_view_name": "PlayView",
            "description": "",
            "disabled": false,
            "interval": 100,
            "layout": "IPY_MODEL_2e6e214a1b7c47059668c20ec13cc594",
            "max": 0,
            "min": 0,
            "show_repeat": true,
            "step": 1,
            "style": "IPY_MODEL_475613b6b5c84cc5a9f93ed447e81613",
            "value": 0
          }
        },
        "68e97a13db934826b350a0ede83662d9": {
          "model_module": "@jupyter-widgets/controls",
          "model_name": "IntSliderModel",
          "model_module_version": "1.0.0",
          "state": {
            "_dom_classes": [],
            "_model_module": "@jupyter-widgets/controls",
            "_model_module_version": "1.0.0",
            "_model_name": "IntSliderModel",
            "_view_count": null,
            "_view_module": "@jupyter-widgets/controls",
            "_view_module_version": "1.0.0",
            "_view_name": "IntSliderView",
            "continuous_update": true,
            "description": "",
            "disabled": false,
            "layout": "IPY_MODEL_ceda49a32fbd47ddb51b2719f6ad387e",
            "max": 0,
            "min": 0,
            "orientation": "horizontal",
            "readout": true,
            "readout_format": "d",
            "step": 1,
            "style": "IPY_MODEL_ea9990643eec4cc8817314a219fdfb8e",
            "value": 0
          }
        },
        "61d40f6ebb974f238e94556851938650": {
          "model_module": "nglview-js-widgets",
          "model_name": "NGLModel",
          "model_module_version": "3.0.1",
          "state": {
            "_camera_orientation": [
              1159.1460860224631,
              0,
              0,
              0,
              0,
              1159.1460860224631,
              0,
              0,
              0,
              0,
              1159.1460860224631,
              0,
              0,
              0,
              0,
              1
            ],
            "_camera_str": "orthographic",
            "_dom_classes": [],
            "_gui_theme": null,
            "_ibtn_fullscreen": "IPY_MODEL_247ac70d85924719844cad9bd1ea39e0",
            "_igui": null,
            "_iplayer": "IPY_MODEL_4040a31c71a14a5480093a5237e0641b",
            "_model_module": "nglview-js-widgets",
            "_model_module_version": "3.0.1",
            "_model_name": "NGLModel",
            "_ngl_color_dict": {},
            "_ngl_coordinate_resource": {},
            "_ngl_full_stage_parameters": {
              "impostor": true,
              "quality": "medium",
              "workerDefault": true,
              "sampleLevel": 0,
              "backgroundColor": "white",
              "rotateSpeed": 2,
              "zoomSpeed": 1.2,
              "panSpeed": 1,
              "clipNear": 0,
              "clipFar": 100,
              "clipDist": 10,
              "fogNear": 50,
              "fogFar": 100,
              "cameraFov": 40,
              "cameraEyeSep": 0.3,
              "cameraType": "perspective",
              "lightColor": 14540253,
              "lightIntensity": 1,
              "ambientColor": 14540253,
              "ambientIntensity": 0.2,
              "hoverTimeout": 0,
              "tooltip": true,
              "mousePreset": "default"
            },
            "_ngl_msg_archive": [
              {
                "target": "Stage",
                "type": "call_method",
                "methodName": "loadFile",
                "reconstruc_color_scheme": false,
                "args": [
                  {
                    "type": "path",
                    "data": "drive/MyDrive/MolDock4Colab/Output/prep_receptor.pdbqt",
                    "binary": false
                  }
                ],
                "kwargs": {
                  "defaultRepresentation": true,
                  "ext": "pdbqt"
                }
              },
              {
                "component_index": 0,
                "target": "compList",
                "type": "call_method",
                "methodName": "addRepresentation",
                "reconstruc_color_scheme": false,
                "args": [
                  "licorice"
                ],
                "kwargs": {
                  "sele": "STI",
                  "radius": 0.5
                }
              },
              {
                "target": "Stage",
                "type": "call_method",
                "methodName": "loadFile",
                "reconstruc_color_scheme": false,
                "args": [
                  {
                    "type": "path",
                    "data": "drive/MyDrive/MolDock4Colab/Output/All_Docked.sdf",
                    "binary": false
                  }
                ],
                "kwargs": {
                  "defaultRepresentation": false,
                  "ext": "sdf"
                }
              },
              {
                "component_index": 1,
                "target": "compList",
                "type": "call_method",
                "methodName": "addRepresentation",
                "reconstruc_color_scheme": false,
                "args": [
                  "ball+stick"
                ],
                "kwargs": {
                  "sele": "/1",
                  "colorScheme": "element"
                }
              },
              {
                "target": "Widget",
                "type": "call_method",
                "methodName": "setSize",
                "reconstruc_color_scheme": false,
                "args": [
                  "",
                  "500px"
                ],
                "kwargs": {}
              }
            ],
            "_ngl_original_stage_parameters": {
              "impostor": true,
              "quality": "medium",
              "workerDefault": true,
              "sampleLevel": 0,
              "backgroundColor": "white",
              "rotateSpeed": 2,
              "zoomSpeed": 1.2,
              "panSpeed": 1,
              "clipNear": 0,
              "clipFar": 100,
              "clipDist": 10,
              "fogNear": 50,
              "fogFar": 100,
              "cameraFov": 40,
              "cameraEyeSep": 0.3,
              "cameraType": "perspective",
              "lightColor": 14540253,
              "lightIntensity": 1,
              "ambientColor": 14540253,
              "ambientIntensity": 0.2,
              "hoverTimeout": 0,
              "tooltip": true,
              "mousePreset": "default"
            },
            "_ngl_repr_dict": {},
            "_ngl_serialize": false,
            "_ngl_version": "2.0.0-dev.36",
            "_ngl_view_id": [
              "C9A0B41D-2A99-4B5A-8636-D1B2F8F19D71",
              "648BCDBE-8142-456F-B801-1920FA6051C0",
              "34F9C864-941F-4EBF-911C-43F01E66DEEF",
              "F60A5D03-0593-4673-AC1B-AC2455D19637"
            ],
            "_player_dict": {},
            "_scene_position": {},
            "_scene_rotation": {},
            "_synced_model_ids": [],
            "_synced_repr_model_ids": [],
            "_view_count": null,
            "_view_height": "",
            "_view_module": "nglview-js-widgets",
            "_view_module_version": "3.0.1",
            "_view_name": "NGLView",
            "_view_width": "",
            "background": "white",
            "frame": 0,
            "gui_style": null,
            "layout": "IPY_MODEL_ce1de2206c0e438ab962a3b8aee886c6",
            "max_frame": 0,
            "n_components": 0,
            "picked": {}
          }
        },
        "2e6e214a1b7c47059668c20ec13cc594": {
          "model_module": "@jupyter-widgets/base",
          "model_name": "LayoutModel",
          "model_module_version": "1.0.0",
          "state": {
            "_model_module": "@jupyter-widgets/base",
            "_model_module_version": "1.0.0",
            "_model_name": "LayoutModel",
            "_view_count": null,
            "_view_module": "@jupyter-widgets/base",
            "_view_module_version": "1.0.0",
            "_view_name": "LayoutView",
            "align_content": null,
            "align_items": null,
            "align_self": null,
            "border": null,
            "bottom": null,
            "display": null,
            "flex": null,
            "flex_flow": null,
            "height": null,
            "justify_content": null,
            "left": null,
            "margin": null,
            "max_height": null,
            "max_width": null,
            "min_height": null,
            "min_width": null,
            "order": null,
            "overflow": null,
            "overflow_x": null,
            "overflow_y": null,
            "padding": null,
            "right": null,
            "top": null,
            "visibility": null,
            "width": null
          }
        },
        "475613b6b5c84cc5a9f93ed447e81613": {
          "model_module": "@jupyter-widgets/controls",
          "model_name": "DescriptionStyleModel",
          "model_module_version": "1.0.0",
          "state": {
            "_model_module": "@jupyter-widgets/controls",
            "_model_module_version": "1.0.0",
            "_model_name": "DescriptionStyleModel",
            "_view_count": null,
            "_view_module": "@jupyter-widgets/base",
            "_view_module_version": "1.0.0",
            "_view_name": "StyleView",
            "description_width": ""
          }
        },
        "ceda49a32fbd47ddb51b2719f6ad387e": {
          "model_module": "@jupyter-widgets/base",
          "model_name": "LayoutModel",
          "model_module_version": "1.0.0",
          "state": {
            "_model_module": "@jupyter-widgets/base",
            "_model_module_version": "1.0.0",
            "_model_name": "LayoutModel",
            "_view_count": null,
            "_view_module": "@jupyter-widgets/base",
            "_view_module_version": "1.0.0",
            "_view_name": "LayoutView",
            "align_content": null,
            "align_items": null,
            "align_self": null,
            "border": null,
            "bottom": null,
            "display": null,
            "flex": null,
            "flex_flow": null,
            "height": null,
            "justify_content": null,
            "left": null,
            "margin": null,
            "max_height": null,
            "max_width": null,
            "min_height": null,
            "min_width": null,
            "order": null,
            "overflow": null,
            "overflow_x": null,
            "overflow_y": null,
            "padding": null,
            "right": null,
            "top": null,
            "visibility": null,
            "width": null
          }
        },
        "ea9990643eec4cc8817314a219fdfb8e": {
          "model_module": "@jupyter-widgets/controls",
          "model_name": "SliderStyleModel",
          "model_module_version": "1.0.0",
          "state": {
            "_model_module": "@jupyter-widgets/controls",
            "_model_module_version": "1.0.0",
            "_model_name": "SliderStyleModel",
            "_view_count": null,
            "_view_module": "@jupyter-widgets/base",
            "_view_module_version": "1.0.0",
            "_view_name": "StyleView",
            "description_width": "",
            "handle_color": null
          }
        },
        "ce1de2206c0e438ab962a3b8aee886c6": {
          "model_module": "@jupyter-widgets/base",
          "model_name": "LayoutModel",
          "model_module_version": "1.0.0",
          "state": {
            "_model_module": "@jupyter-widgets/base",
            "_model_module_version": "1.0.0",
            "_model_name": "LayoutModel",
            "_view_count": null,
            "_view_module": "@jupyter-widgets/base",
            "_view_module_version": "1.0.0",
            "_view_name": "LayoutView",
            "align_content": null,
            "align_items": null,
            "align_self": null,
            "border": null,
            "bottom": null,
            "display": null,
            "flex": null,
            "flex_flow": null,
            "height": null,
            "justify_content": null,
            "left": null,
            "margin": null,
            "max_height": null,
            "max_width": null,
            "min_height": null,
            "min_width": null,
            "order": null,
            "overflow": null,
            "overflow_x": null,
            "overflow_y": null,
            "padding": null,
            "right": null,
            "top": null,
            "visibility": null,
            "width": null
          }
        },
        "247ac70d85924719844cad9bd1ea39e0": {
          "model_module": "@jupyter-widgets/controls",
          "model_name": "ButtonModel",
          "model_module_version": "1.0.0",
          "state": {
            "_dom_classes": [],
            "_model_module": "@jupyter-widgets/controls",
            "_model_module_version": "1.0.0",
            "_model_name": "ButtonModel",
            "_view_count": null,
            "_view_module": "@jupyter-widgets/controls",
            "_view_module_version": "1.0.0",
            "_view_name": "ButtonView",
            "button_style": "",
            "description": "",
            "disabled": false,
            "icon": "compress",
            "layout": "IPY_MODEL_8f46482ac67e4b64ac88c0023c66e68d",
            "style": "IPY_MODEL_b061a7add81a4718a880e482c3406f01",
            "tooltip": ""
          }
        },
        "4040a31c71a14a5480093a5237e0641b": {
          "model_module": "@jupyter-widgets/controls",
          "model_name": "HBoxModel",
          "model_module_version": "1.0.0",
          "state": {
            "_dom_classes": [],
            "_model_module": "@jupyter-widgets/controls",
            "_model_module_version": "1.0.0",
            "_model_name": "HBoxModel",
            "_view_count": null,
            "_view_module": "@jupyter-widgets/controls",
            "_view_module_version": "1.0.0",
            "_view_name": "HBoxView",
            "box_style": "",
            "children": [
              "IPY_MODEL_18f09068c3894342906620e28104b430",
              "IPY_MODEL_68e97a13db934826b350a0ede83662d9"
            ],
            "layout": "IPY_MODEL_59b906a350a64ebea4190487a1e8286d"
          }
        },
        "8f46482ac67e4b64ac88c0023c66e68d": {
          "model_module": "@jupyter-widgets/base",
          "model_name": "LayoutModel",
          "model_module_version": "1.0.0",
          "state": {
            "_model_module": "@jupyter-widgets/base",
            "_model_module_version": "1.0.0",
            "_model_name": "LayoutModel",
            "_view_count": null,
            "_view_module": "@jupyter-widgets/base",
            "_view_module_version": "1.0.0",
            "_view_name": "LayoutView",
            "align_content": null,
            "align_items": null,
            "align_self": null,
            "border": null,
            "bottom": null,
            "display": null,
            "flex": null,
            "flex_flow": null,
            "height": null,
            "justify_content": null,
            "left": null,
            "margin": null,
            "max_height": null,
            "max_width": null,
            "min_height": null,
            "min_width": null,
            "order": null,
            "overflow": null,
            "overflow_x": null,
            "overflow_y": null,
            "padding": null,
            "right": null,
            "top": null,
            "visibility": null,
            "width": "34px"
          }
        },
        "b061a7add81a4718a880e482c3406f01": {
          "model_module": "@jupyter-widgets/controls",
          "model_name": "ButtonStyleModel",
          "model_module_version": "1.0.0",
          "state": {
            "_model_module": "@jupyter-widgets/controls",
            "_model_module_version": "1.0.0",
            "_model_name": "ButtonStyleModel",
            "_view_count": null,
            "_view_module": "@jupyter-widgets/base",
            "_view_module_version": "1.0.0",
            "_view_name": "StyleView",
            "button_color": null,
            "font_weight": ""
          }
        },
        "59b906a350a64ebea4190487a1e8286d": {
          "model_module": "@jupyter-widgets/base",
          "model_name": "LayoutModel",
          "model_module_version": "1.0.0",
          "state": {
            "_model_module": "@jupyter-widgets/base",
            "_model_module_version": "1.0.0",
            "_model_name": "LayoutModel",
            "_view_count": null,
            "_view_module": "@jupyter-widgets/base",
            "_view_module_version": "1.0.0",
            "_view_name": "LayoutView",
            "align_content": null,
            "align_items": null,
            "align_self": null,
            "border": null,
            "bottom": null,
            "display": null,
            "flex": null,
            "flex_flow": null,
            "height": null,
            "justify_content": null,
            "left": null,
            "margin": null,
            "max_height": null,
            "max_width": null,
            "min_height": null,
            "min_width": null,
            "order": null,
            "overflow": null,
            "overflow_x": null,
            "overflow_y": null,
            "padding": null,
            "right": null,
            "top": null,
            "visibility": null,
            "width": null
          }
        }
      }
    }
  },
  "nbformat": 4,
  "nbformat_minor": 5
}