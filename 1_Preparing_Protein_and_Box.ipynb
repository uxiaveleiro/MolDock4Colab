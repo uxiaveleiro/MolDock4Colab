{
  "cells": [
    {
      "cell_type": "code",
      "source": [
        "%%capture\n",
        "## Loading Enviromet\n",
        "\n",
        "## packages installation for running notebook\n",
        "! pip install nglview\n",
        "! pip install ipywidgets==7.0.0\n",
        "! pip install biopython\n",
        "\n",
        "\n",
        "! pip install \"biobb_io==3.8.0\"\n",
        "! pip install \"biobb_structure_utils>=3.8.0\"\n",
        "! pip install \"biobb_vs>=3.8.1\"\n"
      ],
      "metadata": {
        "id": "Rrc3uVy_zxrC"
      },
      "id": "Rrc3uVy_zxrC",
      "execution_count": 1,
      "outputs": []
    },
    {
      "cell_type": "code",
      "source": [
        "# import drive (it may ask for permission)\n",
        "from google.colab import drive\n",
        "drive.mount('/content/drive')\n",
        "\n",
        "PATHWDIR = '/content/drive/MyDrive/MolDock4Colab'\n",
        "print(PATHWDIR)"
      ],
      "metadata": {
        "colab": {
          "base_uri": "https://localhost:8080/"
        },
        "id": "94Syr-u10RqL",
        "outputId": "1650c8b0-7749-4647-a2e3-43313f9e1340"
      },
      "id": "94Syr-u10RqL",
      "execution_count": 9,
      "outputs": [
        {
          "output_type": "stream",
          "name": "stdout",
          "text": [
            "Drive already mounted at /content/drive; to attempt to forcibly remount, call drive.mount(\"/content/drive\", force_remount=True).\n",
            "/content/drive/MyDrive/MolDock4Colab\n"
          ]
        }
      ]
    },
    {
      "cell_type": "markdown",
      "id": "d989a8f6",
      "metadata": {
        "id": "d989a8f6"
      },
      "source": [
        "# 1. Molecular Docking: Preparing Protein Structure and Box"
      ]
    },
    {
      "cell_type": "markdown",
      "id": "bbc73e96",
      "metadata": {
        "id": "bbc73e96"
      },
      "source": [
        "We have learned the fundamentals of Molecular Docking and will conduct a Virtual Screening for a specific protein. However, as this is for educational purposes, certain aspects should be approached with more caution.\n",
        "\n",
        "We will be using BIOBB and SMINA, and for generating the chemical library, we will use Data Warrior, an open-source software. \n",
        "\n",
        "Notebook outline:\n",
        "\n",
        "    1.1. Download and Visualize\n",
        "    1.2. Preparation of receptor\n",
        "    1.3. Find Binding Cavity"
      ]
    },
    {
      "cell_type": "markdown",
      "id": "25d14b28",
      "metadata": {
        "id": "25d14b28"
      },
      "source": [
        "The term \"receptor\" is used to refer to the molecular system, typically a protein, that serves as the target in docking experiments. \n",
        "Prior to conducting molecular docking experiments, we need to know more about our protein. Go ahead and include the following data in your presentation, at least the questions in bold.\n",
        "\n",
        "- **Name, including abbreviations.**\n",
        "- **Functions that it performs.**\n",
        "- **Primary structure and number of residues.**\n",
        "- **Secondary structure.**\n",
        "- **Tertiary structure.**\n",
        "- **Quaternary structure (monomer, dimer...).**\n",
        "- **Known active site, or other structural features important for the function.**\n",
        "- Important reference articles.\n",
        "- In which organisms it is found and in which tissues or cellular compartments.\n"
      ]
    },
    {
      "cell_type": "markdown",
      "id": "b38704f4",
      "metadata": {
        "id": "b38704f4"
      },
      "source": [
        "For this tutorial, I am using the protein 2BRC.\n",
        "\n",
        "Hsp90 (Heat-shock protein 90) is a type of molecular chaperone that plays a crucial role in the ATP-dependent folding, stability, and activity of numerous \"client\" proteins that participate in the advancement and advancement of cancer.\n",
        " [Go to article](https://www.sciencedirect.com/science/article/pii/S0960894X05006232?via%3Dihub)."
      ]
    },
    {
      "cell_type": "markdown",
      "id": "2e53f81c",
      "metadata": {
        "id": "2e53f81c"
      },
      "source": [
        "## 1.1. Download and Visualization"
      ]
    },
    {
      "cell_type": "markdown",
      "id": "67f65d18",
      "metadata": {
        "id": "67f65d18"
      },
      "source": [
        "It is useful to have a representative structure of the receptor, for example, a protein in cartoon/ribbon representation with an indication of the active site. We could do this manually, but it has already been done in previous lessons (with Pymol). \n",
        "\n",
        "Now we are going to use Python! "
      ]
    },
    {
      "cell_type": "code",
      "execution_count": 18,
      "id": "607b4a21",
      "metadata": {
        "colab": {
          "base_uri": "https://localhost:8080/"
        },
        "id": "607b4a21",
        "outputId": "79584669-4f2f-4ff4-b645-45a383045a12"
      },
      "outputs": [
        {
          "output_type": "stream",
          "name": "stdout",
          "text": [
            "nglview version: 3.0.3\n",
            "ipywidwgets version: 7.0.0\n"
          ]
        }
      ],
      "source": [
        "# you need: ! pip install jupyterlab\n",
        "import nglview as nv\n",
        "print(f'nglview version: {nv.__version__}')\n",
        "import ipywidgets\n",
        "print(f'ipywidwgets version: {ipywidgets.__version__}')\n",
        "assert ipywidgets.__version__ == '7.0.0', \"You'll have problems here\"\n",
        "\n",
        "from google.colab import output\n",
        "output.enable_custom_widget_manager()"
      ]
    },
    {
      "cell_type": "markdown",
      "id": "429953be",
      "metadata": {
        "id": "429953be"
      },
      "source": [
        "#### 1.1.1 Download Protein using biobb_io"
      ]
    },
    {
      "cell_type": "code",
      "execution_count": 10,
      "id": "17a2eeb5",
      "metadata": {
        "id": "17a2eeb5",
        "colab": {
          "base_uri": "https://localhost:8080/"
        },
        "outputId": "57e4a113-7fee-4795-e3ef-caa931719fa2"
      },
      "outputs": [
        {
          "output_type": "stream",
          "name": "stdout",
          "text": [
            "Created output folder\n"
          ]
        }
      ],
      "source": [
        "import os\n",
        "\n",
        "PATH = os.path.join(PATHWDIR, 'Output') # your output path\n",
        "\n",
        "if not os.path.exists(PATH):\n",
        "   os.makedirs(PATH)\n",
        "   print('Created output folder')\n",
        "\n",
        "# This are example protein, you can change here\n",
        "pdb_code = \"2BRC\"         # 2BRC + Hsp90 Inhibitor\n",
        "ligand_code = \"CT5\"       # Hsp90 Inhibitor"
      ]
    },
    {
      "cell_type": "code",
      "execution_count": 11,
      "id": "1b94cf28",
      "metadata": {
        "colab": {
          "base_uri": "https://localhost:8080/"
        },
        "id": "1b94cf28",
        "outputId": "903177dc-57a8-436d-ad14-79c10991a946"
      },
      "outputs": [
        {
          "output_type": "stream",
          "name": "stdout",
          "text": [
            "2023-04-19 11:23:29,125 [MainThread  ] [INFO ]  Executing biobb_io.api.pdb Version: 3.8.0\n"
          ]
        },
        {
          "output_type": "stream",
          "name": "stderr",
          "text": [
            "INFO:/content/log3.out:Executing biobb_io.api.pdb Version: 3.8.0\n"
          ]
        },
        {
          "output_type": "stream",
          "name": "stdout",
          "text": [
            "2023-04-19 11:23:29,129 [MainThread  ] [INFO ]  Downloading 2brc from: https://www.ebi.ac.uk/pdbe/entry-files/download/pdb2brc.ent\n"
          ]
        },
        {
          "output_type": "stream",
          "name": "stderr",
          "text": [
            "INFO:/content/log3.out:Downloading 2brc from: https://www.ebi.ac.uk/pdbe/entry-files/download/pdb2brc.ent\n"
          ]
        },
        {
          "output_type": "stream",
          "name": "stdout",
          "text": [
            "2023-04-19 11:23:30,147 [MainThread  ] [INFO ]  Writting pdb to: /content/drive/MyDrive/MolDock4Colab/Output/download.pdb\n"
          ]
        },
        {
          "output_type": "stream",
          "name": "stderr",
          "text": [
            "INFO:/content/log3.out:Writting pdb to: /content/drive/MyDrive/MolDock4Colab/Output/download.pdb\n"
          ]
        },
        {
          "output_type": "stream",
          "name": "stdout",
          "text": [
            "2023-04-19 11:23:30,154 [MainThread  ] [INFO ]  Filtering lines NOT starting with one of these words: ['ATOM', 'HETATM']\n"
          ]
        },
        {
          "output_type": "stream",
          "name": "stderr",
          "text": [
            "INFO:/content/log3.out:Filtering lines NOT starting with one of these words: ['ATOM', 'HETATM']\n"
          ]
        },
        {
          "output_type": "execute_result",
          "data": {
            "text/plain": [
              "0"
            ]
          },
          "metadata": {},
          "execution_count": 11
        }
      ],
      "source": [
        "from biobb_io.api.pdb import pdb\n",
        "\n",
        "download_pdb = os.path.join(PATH, \"download.pdb\") # Name of the output file\n",
        "\n",
        "prop = {\n",
        "  \"pdb_code\": pdb_code, # our pdb code\n",
        "  \"filter\": [\"ATOM\", \"HETATM\"] # what we want to retrieve \n",
        "}\n",
        "\n",
        "pdb(output_pdb_path=download_pdb,\n",
        "    properties=prop)"
      ]
    },
    {
      "cell_type": "markdown",
      "id": "17044ff9",
      "metadata": {
        "id": "17044ff9"
      },
      "source": [
        "Is interesiting to always visualize our protein before we start our experiments. \n",
        "\n",
        "Note: the following code dont show crystalographic waters, but they are there!!! (you can check this with Pymol if you don't trust me)."
      ]
    },
    {
      "cell_type": "code",
      "execution_count": 12,
      "id": "dcc29fed",
      "metadata": {
        "colab": {
          "base_uri": "https://localhost:8080/",
          "height": 417,
          "referenced_widgets": [
            "60fc15920a524eda884cd0a9ecd525fe",
            "4133130f39d146f99dd0ea37687e95c2",
            "f6d4f079f2214333bd4312c4cfd207bc",
            "8d061d8c5d1a4ddab135f0992c25d7a7",
            "6723ebe42502419cb27fdbeb8ffd95c9",
            "a49682d757994dc0b770e6d28cd2f3a1",
            "b93c6f045df64224805e9b0b8cc926df",
            "e0f672b71e2148a8a112036bd8a7c687",
            "81ce244e1f1c42a697f4c2d97b1bc05e",
            "2ffe9985f5d94948b86461ef4498ea7f",
            "1b21d55ef75e4288a238fa42a74a93d6",
            "8fcd331312f346aba68ca08eb420ec36",
            "42493392f68b4282ac3f177c0885b7dd"
          ]
        },
        "id": "dcc29fed",
        "outputId": "d52a4eef-aa6a-475a-92f5-327ebf466451"
      },
      "outputs": [
        {
          "output_type": "display_data",
          "data": {
            "text/plain": [
              "A Jupyter Widget"
            ],
            "application/vnd.jupyter.widget-view+json": {
              "version_major": 2,
              "version_minor": 0,
              "model_id": "60fc15920a524eda884cd0a9ecd525fe"
            }
          },
          "metadata": {
            "application/vnd.jupyter.widget-view+json": {
              "colab": {
                "custom_widget_manager": {
                  "url": "https://ssl.gstatic.com/colaboratory-static/widgets/colab-cdn-widget-manager/b3e629b1971e1542/manager.min.js"
                }
              }
            }
          }
        }
      ],
      "source": [
        "view = nv.show_structure_file(download_pdb, default=True)\n",
        "view.center()\n",
        "view._remote_call('setSize', target='Widget', args=['600px','400px'])\n",
        "view"
      ]
    },
    {
      "cell_type": "markdown",
      "id": "5a33e2cf",
      "metadata": {
        "id": "5a33e2cf"
      },
      "source": [
        "#### 1.1.2. Extract Protein Structure"
      ]
    },
    {
      "cell_type": "markdown",
      "id": "7bc0e165",
      "metadata": {
        "id": "7bc0e165"
      },
      "source": [
        "For performing our experiment, we need to have our receptor alone (only the protein, no waters, ligands or molecules residual from crystalography). \n",
        "We remove these this in the next chunk of code, it will also print some information about the deleted reidues. The new file is written in pdb_protein.pdb."
      ]
    },
    {
      "cell_type": "code",
      "execution_count": 13,
      "id": "c01eac7b",
      "metadata": {
        "colab": {
          "base_uri": "https://localhost:8080/"
        },
        "id": "c01eac7b",
        "outputId": "547e8b76-9a74-40a4-d0f6-cecd051408e9"
      },
      "outputs": [
        {
          "output_type": "stream",
          "name": "stdout",
          "text": [
            "2023-04-19 11:26:07,929 [MainThread  ] [INFO ]  Executing biobb_structure_utils.utils.extract_molecule Version: 4.0.0\n"
          ]
        },
        {
          "output_type": "stream",
          "name": "stderr",
          "text": [
            "INFO:/content/log4.out:Executing biobb_structure_utils.utils.extract_molecule Version: 4.0.0\n"
          ]
        },
        {
          "output_type": "stream",
          "name": "stdout",
          "text": [
            "2023-04-19 11:26:07,944 [MainThread  ] [INFO ]  Copy: /content/drive/MyDrive/MolDock4Colab/Output/download.pdb to /content/fdb48eb3-08f5-4688-92db-da3d97d561bd\n"
          ]
        },
        {
          "output_type": "stream",
          "name": "stderr",
          "text": [
            "INFO:/content/log4.out:Copy: /content/drive/MyDrive/MolDock4Colab/Output/download.pdb to /content/fdb48eb3-08f5-4688-92db-da3d97d561bd\n"
          ]
        },
        {
          "output_type": "stream",
          "name": "stdout",
          "text": [
            "2023-04-19 11:26:07,948 [MainThread  ] [INFO ]  Creating 14249fb4-2795-4b1f-a0a1-37781ce1df76 temporary folder\n"
          ]
        },
        {
          "output_type": "stream",
          "name": "stderr",
          "text": [
            "INFO:/content/log4.out:Creating 14249fb4-2795-4b1f-a0a1-37781ce1df76 temporary folder\n"
          ]
        },
        {
          "output_type": "stream",
          "name": "stdout",
          "text": [
            "2023-04-19 11:26:07,952 [MainThread  ] [INFO ]  check_structure -i /content/drive/MyDrive/MolDock4Colab/Output/download.pdb -o /content/drive/MyDrive/MolDock4Colab/Output/pdb_protein.pdb --force_save --non_interactive command_list --list 14249fb4-2795-4b1f-a0a1-37781ce1df76/extract_prot.lst\n",
            "\n"
          ]
        },
        {
          "output_type": "stream",
          "name": "stderr",
          "text": [
            "INFO:/content/log4.out:check_structure -i /content/drive/MyDrive/MolDock4Colab/Output/download.pdb -o /content/drive/MyDrive/MolDock4Colab/Output/pdb_protein.pdb --force_save --non_interactive command_list --list 14249fb4-2795-4b1f-a0a1-37781ce1df76/extract_prot.lst\n",
            "\n"
          ]
        },
        {
          "output_type": "stream",
          "name": "stdout",
          "text": [
            "2023-04-19 11:26:08,776 [MainThread  ] [INFO ]  Exit code 0\n",
            "\n"
          ]
        },
        {
          "output_type": "stream",
          "name": "stderr",
          "text": [
            "INFO:/content/log4.out:Exit code 0\n",
            "\n"
          ]
        },
        {
          "output_type": "stream",
          "name": "stdout",
          "text": [
            "2023-04-19 11:26:08,786 [MainThread  ] [INFO ]  ================================================================================\n",
            "=                   BioBB structure checking utility v3.12.1                   =\n",
            "=            P. Andrio, A. Hospital, G. Bayarri, J.L. Gelpi 2018-23            =\n",
            "================================================================================\n",
            "\n",
            "Warning: sequence features only available in mmCIF format or with external fasta input\n",
            "Structure /content/drive/MyDrive/MolDock4Colab/Output/download.pdb loaded\n",
            " PDB id: \n",
            " Title: \n",
            " Experimental method: unknown\n",
            " Resolution (A): N.A.\n",
            "\n",
            " Num. models: 1\n",
            " Num. chains: 1 (A: Protein)\n",
            " Num. residues:  473\n",
            " Num. residues with ins. codes:  0\n",
            " Num. residues with H atoms: 0\n",
            " Num. HETATM residues:  259\n",
            " Num. ligands or modified residues:  1\n",
            " Num. water mol.:  258\n",
            " Num. atoms:  1948\n",
            "Small mol ligands found\n",
            "CT5 A1215\n",
            "\n",
            "Step 1: ligands --remove All\n",
            "\n",
            "Running ligands. Options: --remove All\n",
            "1 Ligands detected\n",
            " CT5 A1215\n",
            "Ligands removed All (1)\n",
            "\n",
            "Step 2: water --remove Yes\n",
            "\n",
            "Running water. Options: --remove Yes\n",
            "258 Water molecules detected\n",
            "258 Water molecules removed\n",
            "Command list completed\n",
            "Final Num. models: 1\n",
            "Final Num. chains: 1 (A: Protein)\n",
            "Final Num. residues:  214\n",
            "Final Num. residues with ins. codes:  0\n",
            "Final Num. residues with H atoms: 0\n",
            "Final Num. HETATM residues:  0\n",
            "Final Num. ligands or modified residues:  0\n",
            "Final Num. water mol.:  0\n",
            "Final Num. atoms:  1664\n",
            "Structure saved on /content/drive/MyDrive/MolDock4Colab/Output/pdb_protein.pdb\n",
            "\n"
          ]
        },
        {
          "output_type": "stream",
          "name": "stderr",
          "text": [
            "INFO:/content/log4.out:================================================================================\n",
            "=                   BioBB structure checking utility v3.12.1                   =\n",
            "=            P. Andrio, A. Hospital, G. Bayarri, J.L. Gelpi 2018-23            =\n",
            "================================================================================\n",
            "\n",
            "Warning: sequence features only available in mmCIF format or with external fasta input\n",
            "Structure /content/drive/MyDrive/MolDock4Colab/Output/download.pdb loaded\n",
            " PDB id: \n",
            " Title: \n",
            " Experimental method: unknown\n",
            " Resolution (A): N.A.\n",
            "\n",
            " Num. models: 1\n",
            " Num. chains: 1 (A: Protein)\n",
            " Num. residues:  473\n",
            " Num. residues with ins. codes:  0\n",
            " Num. residues with H atoms: 0\n",
            " Num. HETATM residues:  259\n",
            " Num. ligands or modified residues:  1\n",
            " Num. water mol.:  258\n",
            " Num. atoms:  1948\n",
            "Small mol ligands found\n",
            "CT5 A1215\n",
            "\n",
            "Step 1: ligands --remove All\n",
            "\n",
            "Running ligands. Options: --remove All\n",
            "1 Ligands detected\n",
            " CT5 A1215\n",
            "Ligands removed All (1)\n",
            "\n",
            "Step 2: water --remove Yes\n",
            "\n",
            "Running water. Options: --remove Yes\n",
            "258 Water molecules detected\n",
            "258 Water molecules removed\n",
            "Command list completed\n",
            "Final Num. models: 1\n",
            "Final Num. chains: 1 (A: Protein)\n",
            "Final Num. residues:  214\n",
            "Final Num. residues with ins. codes:  0\n",
            "Final Num. residues with H atoms: 0\n",
            "Final Num. HETATM residues:  0\n",
            "Final Num. ligands or modified residues:  0\n",
            "Final Num. water mol.:  0\n",
            "Final Num. atoms:  1664\n",
            "Structure saved on /content/drive/MyDrive/MolDock4Colab/Output/pdb_protein.pdb\n",
            "\n"
          ]
        },
        {
          "output_type": "stream",
          "name": "stdout",
          "text": [
            "2023-04-19 11:26:08,789 [MainThread  ] [INFO ]  Removed: ['/content/fdb48eb3-08f5-4688-92db-da3d97d561bd', '14249fb4-2795-4b1f-a0a1-37781ce1df76']\n"
          ]
        },
        {
          "output_type": "stream",
          "name": "stderr",
          "text": [
            "INFO:/content/log4.out:Removed: ['/content/fdb48eb3-08f5-4688-92db-da3d97d561bd', '14249fb4-2795-4b1f-a0a1-37781ce1df76']\n"
          ]
        },
        {
          "output_type": "execute_result",
          "data": {
            "text/plain": [
              "0"
            ]
          },
          "metadata": {},
          "execution_count": 13
        }
      ],
      "source": [
        "from biobb_structure_utils.utils.extract_molecule import extract_molecule\n",
        "\n",
        "pdb_protein = os.path.join(PATH, \"pdb_protein.pdb\")\n",
        "\n",
        "extract_molecule(input_structure_path=download_pdb,\n",
        "                 output_molecule_path = pdb_protein)"
      ]
    },
    {
      "cell_type": "markdown",
      "id": "ab1e2a5e",
      "metadata": {
        "id": "ab1e2a5e"
      },
      "source": [
        "We can also extract ligand in a new file:\n"
      ]
    },
    {
      "cell_type": "code",
      "execution_count": 19,
      "id": "0edf80a7",
      "metadata": {
        "colab": {
          "base_uri": "https://localhost:8080/"
        },
        "id": "0edf80a7",
        "outputId": "3d8a850a-610e-4c87-9dfc-51ead4656af8"
      },
      "outputs": [
        {
          "output_type": "stream",
          "name": "stdout",
          "text": [
            "2023-04-19 11:38:26,206 [MainThread  ] [INFO ]  Executing biobb_structure_utils.utils.extract_heteroatoms Version: 4.0.0\n"
          ]
        },
        {
          "output_type": "stream",
          "name": "stderr",
          "text": [
            "INFO:/content/log7.out:Executing biobb_structure_utils.utils.extract_heteroatoms Version: 4.0.0\n"
          ]
        },
        {
          "output_type": "stream",
          "name": "stdout",
          "text": [
            "2023-04-19 11:38:26,217 [MainThread  ] [INFO ]  Copy: /content/drive/MyDrive/MolDock4Colab/Output/download.pdb to /content/529b029d-5d59-4040-a760-43d326ede24c\n"
          ]
        },
        {
          "output_type": "stream",
          "name": "stderr",
          "text": [
            "INFO:/content/log7.out:Copy: /content/drive/MyDrive/MolDock4Colab/Output/download.pdb to /content/529b029d-5d59-4040-a760-43d326ede24c\n"
          ]
        },
        {
          "output_type": "stream",
          "name": "stdout",
          "text": [
            "2023-04-19 11:38:26,459 [MainThread  ] [INFO ]  Writting pdb to: /content/529b029d-5d59-4040-a760-43d326ede24c/pdb_ligand.pdb\n"
          ]
        },
        {
          "output_type": "stream",
          "name": "stderr",
          "text": [
            "INFO:/content/log7.out:Writting pdb to: /content/529b029d-5d59-4040-a760-43d326ede24c/pdb_ligand.pdb\n"
          ]
        },
        {
          "output_type": "stream",
          "name": "stdout",
          "text": [
            "2023-04-19 11:38:26,482 [MainThread  ] [INFO ]  Removed: ['/content/529b029d-5d59-4040-a760-43d326ede24c']\n"
          ]
        },
        {
          "output_type": "stream",
          "name": "stderr",
          "text": [
            "INFO:/content/log7.out:Removed: ['/content/529b029d-5d59-4040-a760-43d326ede24c']\n"
          ]
        },
        {
          "output_type": "execute_result",
          "data": {
            "text/plain": [
              "0"
            ]
          },
          "metadata": {},
          "execution_count": 19
        }
      ],
      "source": [
        "from biobb_structure_utils.utils.extract_heteroatoms import extract_heteroatoms\n",
        "\n",
        "pdb_ligand = os.path.join(PATH, 'pdb_ligand.pdb')\n",
        "\n",
        "prop = {\n",
        "    'heteroatoms': [\n",
        "        {\n",
        "            'name': ligand_code\n",
        "        }\n",
        "    ]\n",
        "}\n",
        "extract_heteroatoms(input_structure_path=download_pdb,\n",
        "                    output_heteroatom_path=pdb_ligand,\n",
        "                    properties=prop)"
      ]
    },
    {
      "cell_type": "markdown",
      "id": "42f8e1da",
      "metadata": {
        "id": "42f8e1da"
      },
      "source": [
        "Now we can visualize both again, and check that we have removed the ligand."
      ]
    },
    {
      "cell_type": "code",
      "execution_count": 15,
      "id": "b5e0267d",
      "metadata": {
        "colab": {
          "base_uri": "https://localhost:8080/",
          "height": 417,
          "referenced_widgets": [
            "99a70319b4ca41d2b7c2880dc09168fa",
            "e26019866cb64fa4ac5ed0f0365cf68a",
            "67a2f1e815b842e6935234b3db87818c",
            "24b22b658a5b4dd58eda771256a5daa5",
            "b3b7f6acc10a42f1aa0b2ceb8fcbeac9",
            "3831b66ad7ea4b8fb4697cfb9726bb58",
            "bde8be2ff79f4c4a83a8a68afb437440",
            "0a84b46cd7af41f49c454541245d38aa",
            "9c603cf5faa845529d601858b480cb76",
            "ed0d830de32740739b17d7a5a2e800d4",
            "bf59374feb2542b481632a42ccb50966",
            "9d2c14836550495491676dc663eb2357",
            "cb43770eaf61461eb6490e63093622d5"
          ]
        },
        "id": "b5e0267d",
        "outputId": "2e9f550c-1c9d-4934-c06c-b6358c8d7efd"
      },
      "outputs": [
        {
          "output_type": "display_data",
          "data": {
            "text/plain": [
              "A Jupyter Widget"
            ],
            "application/vnd.jupyter.widget-view+json": {
              "version_major": 2,
              "version_minor": 0,
              "model_id": "99a70319b4ca41d2b7c2880dc09168fa"
            }
          },
          "metadata": {
            "application/vnd.jupyter.widget-view+json": {
              "colab": {
                "custom_widget_manager": {
                  "url": "https://ssl.gstatic.com/colaboratory-static/widgets/colab-cdn-widget-manager/b3e629b1971e1542/manager.min.js"
                }
              }
            }
          }
        }
      ],
      "source": [
        "# change pdb_protein to pdb_ligand to visualize the ligand\n",
        "view = nv.show_structure_file(pdb_protein, default=True)\n",
        "view.center()\n",
        "view._remote_call('setSize', target='Widget', args=['400px','400px'])\n",
        "view"
      ]
    },
    {
      "cell_type": "markdown",
      "id": "fd27f4da",
      "metadata": {
        "id": "fd27f4da"
      },
      "source": [
        "## 1.2. Preparation of receptor"
      ]
    },
    {
      "cell_type": "markdown",
      "id": "f82233a5",
      "metadata": {
        "id": "f82233a5"
      },
      "source": [
        "Once we have the receptor alone in a new pdb file, we need to further prepare it for the molecular docking experiment. \n",
        "\n",
        "This includes add polar waters and charges (for a more realistic simulation), and we will save this in a .pdbqt format.\n",
        "\n",
        "We are using the package biobb_model. However, there are different available software to do this, we could have used for example AutoDockTools (only for Windows and Linux).\n",
        "\n"
      ]
    },
    {
      "cell_type": "markdown",
      "id": "10350b22",
      "metadata": {
        "id": "10350b22"
      },
      "source": [
        "We can check the structure before running the check_add_hydrogens, if you want to do this, uncoment the following chunk of code."
      ]
    },
    {
      "cell_type": "code",
      "source": [
        "#! pip install \"biobb_model>=3.8.0\"\n",
        "\n",
        "#from biobb_structure_utils.utils.structure_check import structure_check\n",
        "\n",
        "#summary_path = os.path.join(PATH, 'check_structure.json' )\n",
        "\n",
        "#prop = {\n",
        "#        'features': ['models', 'chains', 'ligands', 'backbone']\n",
        "#}\n",
        "\n",
        "#structure_check(input_structure_path=pdb_protein,\n",
        "#                output_summary_path= summary_path,\n",
        "#                properties=prop)"
      ],
      "metadata": {
        "id": "PQoiesJXXjKg"
      },
      "id": "PQoiesJXXjKg",
      "execution_count": 16,
      "outputs": []
    },
    {
      "cell_type": "markdown",
      "source": [
        "However, the function *str_check_add_hydrogens* performs a structure check at the same time it adds hydrogens.\n",
        "\n",
        "If we selected the pH mode, it will add hydrogens appropriate for pH ([Documentation](https://biobb-structure-utils.readthedocs.io/en/latest/command_line.html#str-check-add-hydrogens) )."
      ],
      "metadata": {
        "id": "ELxtDSXJX2IS"
      },
      "id": "ELxtDSXJX2IS"
    },
    {
      "cell_type": "code",
      "execution_count": 20,
      "id": "66d05322",
      "metadata": {
        "colab": {
          "base_uri": "https://localhost:8080/"
        },
        "id": "66d05322",
        "outputId": "1aa32426-9d1f-473c-8875-683644faeab7"
      },
      "outputs": [
        {
          "output_type": "stream",
          "name": "stdout",
          "text": [
            "2023-04-19 11:38:42,284 [MainThread  ] [INFO ]  Executing biobb_structure_utils.utils.str_check_add_hydrogens Version: 4.0.0\n"
          ]
        },
        {
          "output_type": "stream",
          "name": "stderr",
          "text": [
            "INFO:/content/log8.out:Executing biobb_structure_utils.utils.str_check_add_hydrogens Version: 4.0.0\n"
          ]
        },
        {
          "output_type": "stream",
          "name": "stdout",
          "text": [
            "2023-04-19 11:38:42,292 [MainThread  ] [INFO ]  Copy: /content/drive/MyDrive/MolDock4Colab/Output/pdb_protein.pdb to /content/94a5f142-c6d7-4b60-a3f8-5cf5a45d6ca7\n"
          ]
        },
        {
          "output_type": "stream",
          "name": "stderr",
          "text": [
            "INFO:/content/log8.out:Copy: /content/drive/MyDrive/MolDock4Colab/Output/pdb_protein.pdb to /content/94a5f142-c6d7-4b60-a3f8-5cf5a45d6ca7\n"
          ]
        },
        {
          "output_type": "stream",
          "name": "stdout",
          "text": [
            "2023-04-19 11:38:42,296 [MainThread  ] [INFO ]  check_structure -i /content/94a5f142-c6d7-4b60-a3f8-5cf5a45d6ca7/pdb_protein.pdb -o /content/94a5f142-c6d7-4b60-a3f8-5cf5a45d6ca7/prep_receptor.pdbqt --non_interactive --force_save command_list --list 'add_hydrogen --add_charges ADT --add_mode auto '\n",
            "\n"
          ]
        },
        {
          "output_type": "stream",
          "name": "stderr",
          "text": [
            "INFO:/content/log8.out:check_structure -i /content/94a5f142-c6d7-4b60-a3f8-5cf5a45d6ca7/pdb_protein.pdb -o /content/94a5f142-c6d7-4b60-a3f8-5cf5a45d6ca7/prep_receptor.pdbqt --non_interactive --force_save command_list --list 'add_hydrogen --add_charges ADT --add_mode auto '\n",
            "\n"
          ]
        },
        {
          "output_type": "stream",
          "name": "stdout",
          "text": [
            "2023-04-19 11:38:43,160 [MainThread  ] [INFO ]  Exit code 0\n",
            "\n"
          ]
        },
        {
          "output_type": "stream",
          "name": "stderr",
          "text": [
            "INFO:/content/log8.out:Exit code 0\n",
            "\n"
          ]
        },
        {
          "output_type": "stream",
          "name": "stdout",
          "text": [
            "2023-04-19 11:38:43,163 [MainThread  ] [INFO ]  ================================================================================\n",
            "=                   BioBB structure checking utility v3.12.1                   =\n",
            "=            P. Andrio, A. Hospital, G. Bayarri, J.L. Gelpi 2018-23            =\n",
            "================================================================================\n",
            "\n",
            "Warning: sequence features only available in mmCIF format or with external fasta input\n",
            "Structure /content/94a5f142-c6d7-4b60-a3f8-5cf5a45d6ca7/pdb_protein.pdb loaded\n",
            " PDB id: \n",
            " Title: \n",
            " Experimental method: unknown\n",
            " Resolution (A): N.A.\n",
            "\n",
            " Num. models: 1\n",
            " Num. chains: 1 (A: Protein)\n",
            " Num. residues:  214\n",
            " Num. residues with ins. codes:  0\n",
            " Num. residues with H atoms: 0\n",
            " Num. HETATM residues:  0\n",
            " Num. ligands or modified residues:  0\n",
            " Num. water mol.:  0\n",
            " Num. atoms:  1664\n",
            "\n",
            "Step 1: add_hydrogen --add_charges ADT --add_mode auto \n",
            "Running add_hydrogen. Options: --add_charges ADT --add_mode auto\n",
            "66 Residues requiring selection on adding H atoms\n",
            " ASP A40,A43,A52,A61,A79,A113,A132,A142,A143,A161,A179,A180\n",
            " GLU A4,A7,A11,A28,A33,A57,A59,A71,A76,A88,A106,A144,A149,A162,A165,A183,A186,A187,A192,A199,A212,A214\n",
            " HIS A197\n",
            " LYS A27,A44,A48,A54,A69,A73,A86,A98,A102,A139,A178,A188,A191,A195,A211\n",
            " ARG A32,A46,A65,A78,A133,A166,A169,A174,A189,A196\n",
            " TYR A24,A47,A125,A146,A184,A203\n",
            "WARNING: fixing side chains, override with --no_fix_side\n",
            "Running fixside. Options: --fix all\n",
            "10 Residues with missing side chain atoms found\n",
            " MET A1     CG,SD,CE\n",
            " ARG A32    CD,NE,CZ,NH1,NH2\n",
            " LYS A54    CD,CE,NZ\n",
            " GLU A71    CG,CD,OE1,OE2\n",
            " LYS A98    CG,CD,CE,NZ\n",
            " LYS A102   CD,CE,NZ\n",
            " LYS A188   CD,CE,NZ\n",
            " LYS A195   CE,NZ\n",
            " ARG A196   CG,CD,NE,CZ,NH1,NH2\n",
            " GLU A214   CG,CD,OE1,OE2\n",
            "Fixing side chains\n",
            "MET A1\n",
            "  Adding new atom CG\n",
            "  Adding new atom SD\n",
            "  Adding new atom CE\n",
            "ARG A32\n",
            "  Adding new atom CD\n",
            "  Adding new atom NE\n",
            "  Adding new atom CZ\n",
            "  Adding new atom NH1\n",
            "  Adding new atom NH2\n",
            "LYS A54\n",
            "  Adding new atom CD\n",
            "  Adding new atom CE\n",
            "  Adding new atom NZ\n",
            "GLU A71\n",
            "  Adding new atom CG\n",
            "  Adding new atom CD\n",
            "  Adding new atom OE1\n",
            "  Adding new atom OE2\n",
            "LYS A98\n",
            "  Adding new atom CG\n",
            "  Adding new atom CD\n",
            "  Adding new atom CE\n",
            "  Adding new atom NZ\n",
            "LYS A102\n",
            "  Adding new atom CD\n",
            "  Adding new atom CE\n",
            "  Adding new atom NZ\n",
            "LYS A188\n",
            "  Adding new atom CD\n",
            "  Adding new atom CE\n",
            "  Adding new atom NZ\n",
            "LYS A195\n",
            "  Adding new atom CE\n",
            "  Adding new atom NZ\n",
            "ARG A196\n",
            "  Adding new atom CG\n",
            "  Adding new atom CD\n",
            "  Adding new atom NE\n",
            "  Adding new atom CZ\n",
            "  Adding new atom NH1\n",
            "  Adding new atom NH2\n",
            "GLU A214\n",
            "  Adding new atom CG\n",
            "  Adding new atom CD\n",
            "  Adding new atom OE1\n",
            "  Adding new atom OE2\n",
            "Fixed 10 side chain(s)\n",
            "Checking for steric clashes\n",
            "No severe clashes detected\n",
            "No apolar clashes detected\n",
            "No polar_acceptor clashes detected\n",
            "No polar_donor clashes detected\n",
            "No positive clashes detected\n",
            "No negative clashes detected\n",
            "Selection: auto\n",
            "Replacing HIS A197 by HIE\n",
            "Updating partial charges and atom types\n",
            "Warning: OXT atom missing in CGLU A214. Run backbone --fix_atoms first\n",
            "Total assigned charge:      -8.22\n",
            "Command list completed\n",
            "Final Num. models: 1\n",
            "Final Num. chains: 1 (A: Protein)\n",
            "Final Num. residues:  214\n",
            "Final Num. residues with ins. codes:  0\n",
            "Final Num. residues with H atoms: 214 (total 1724 H atoms)\n",
            "Final Num. HETATM residues:  0\n",
            "Final Num. ligands or modified residues:  0\n",
            "Final Num. water mol.:  0\n",
            "Final Num. atoms:  3425\n",
            "Structure saved on /content/94a5f142-c6d7-4b60-a3f8-5cf5a45d6ca7/prep_receptor.pdbqt\n",
            "\n"
          ]
        },
        {
          "output_type": "stream",
          "name": "stderr",
          "text": [
            "INFO:/content/log8.out:================================================================================\n",
            "=                   BioBB structure checking utility v3.12.1                   =\n",
            "=            P. Andrio, A. Hospital, G. Bayarri, J.L. Gelpi 2018-23            =\n",
            "================================================================================\n",
            "\n",
            "Warning: sequence features only available in mmCIF format or with external fasta input\n",
            "Structure /content/94a5f142-c6d7-4b60-a3f8-5cf5a45d6ca7/pdb_protein.pdb loaded\n",
            " PDB id: \n",
            " Title: \n",
            " Experimental method: unknown\n",
            " Resolution (A): N.A.\n",
            "\n",
            " Num. models: 1\n",
            " Num. chains: 1 (A: Protein)\n",
            " Num. residues:  214\n",
            " Num. residues with ins. codes:  0\n",
            " Num. residues with H atoms: 0\n",
            " Num. HETATM residues:  0\n",
            " Num. ligands or modified residues:  0\n",
            " Num. water mol.:  0\n",
            " Num. atoms:  1664\n",
            "\n",
            "Step 1: add_hydrogen --add_charges ADT --add_mode auto \n",
            "Running add_hydrogen. Options: --add_charges ADT --add_mode auto\n",
            "66 Residues requiring selection on adding H atoms\n",
            " ASP A40,A43,A52,A61,A79,A113,A132,A142,A143,A161,A179,A180\n",
            " GLU A4,A7,A11,A28,A33,A57,A59,A71,A76,A88,A106,A144,A149,A162,A165,A183,A186,A187,A192,A199,A212,A214\n",
            " HIS A197\n",
            " LYS A27,A44,A48,A54,A69,A73,A86,A98,A102,A139,A178,A188,A191,A195,A211\n",
            " ARG A32,A46,A65,A78,A133,A166,A169,A174,A189,A196\n",
            " TYR A24,A47,A125,A146,A184,A203\n",
            "WARNING: fixing side chains, override with --no_fix_side\n",
            "Running fixside. Options: --fix all\n",
            "10 Residues with missing side chain atoms found\n",
            " MET A1     CG,SD,CE\n",
            " ARG A32    CD,NE,CZ,NH1,NH2\n",
            " LYS A54    CD,CE,NZ\n",
            " GLU A71    CG,CD,OE1,OE2\n",
            " LYS A98    CG,CD,CE,NZ\n",
            " LYS A102   CD,CE,NZ\n",
            " LYS A188   CD,CE,NZ\n",
            " LYS A195   CE,NZ\n",
            " ARG A196   CG,CD,NE,CZ,NH1,NH2\n",
            " GLU A214   CG,CD,OE1,OE2\n",
            "Fixing side chains\n",
            "MET A1\n",
            "  Adding new atom CG\n",
            "  Adding new atom SD\n",
            "  Adding new atom CE\n",
            "ARG A32\n",
            "  Adding new atom CD\n",
            "  Adding new atom NE\n",
            "  Adding new atom CZ\n",
            "  Adding new atom NH1\n",
            "  Adding new atom NH2\n",
            "LYS A54\n",
            "  Adding new atom CD\n",
            "  Adding new atom CE\n",
            "  Adding new atom NZ\n",
            "GLU A71\n",
            "  Adding new atom CG\n",
            "  Adding new atom CD\n",
            "  Adding new atom OE1\n",
            "  Adding new atom OE2\n",
            "LYS A98\n",
            "  Adding new atom CG\n",
            "  Adding new atom CD\n",
            "  Adding new atom CE\n",
            "  Adding new atom NZ\n",
            "LYS A102\n",
            "  Adding new atom CD\n",
            "  Adding new atom CE\n",
            "  Adding new atom NZ\n",
            "LYS A188\n",
            "  Adding new atom CD\n",
            "  Adding new atom CE\n",
            "  Adding new atom NZ\n",
            "LYS A195\n",
            "  Adding new atom CE\n",
            "  Adding new atom NZ\n",
            "ARG A196\n",
            "  Adding new atom CG\n",
            "  Adding new atom CD\n",
            "  Adding new atom NE\n",
            "  Adding new atom CZ\n",
            "  Adding new atom NH1\n",
            "  Adding new atom NH2\n",
            "GLU A214\n",
            "  Adding new atom CG\n",
            "  Adding new atom CD\n",
            "  Adding new atom OE1\n",
            "  Adding new atom OE2\n",
            "Fixed 10 side chain(s)\n",
            "Checking for steric clashes\n",
            "No severe clashes detected\n",
            "No apolar clashes detected\n",
            "No polar_acceptor clashes detected\n",
            "No polar_donor clashes detected\n",
            "No positive clashes detected\n",
            "No negative clashes detected\n",
            "Selection: auto\n",
            "Replacing HIS A197 by HIE\n",
            "Updating partial charges and atom types\n",
            "Warning: OXT atom missing in CGLU A214. Run backbone --fix_atoms first\n",
            "Total assigned charge:      -8.22\n",
            "Command list completed\n",
            "Final Num. models: 1\n",
            "Final Num. chains: 1 (A: Protein)\n",
            "Final Num. residues:  214\n",
            "Final Num. residues with ins. codes:  0\n",
            "Final Num. residues with H atoms: 214 (total 1724 H atoms)\n",
            "Final Num. HETATM residues:  0\n",
            "Final Num. ligands or modified residues:  0\n",
            "Final Num. water mol.:  0\n",
            "Final Num. atoms:  3425\n",
            "Structure saved on /content/94a5f142-c6d7-4b60-a3f8-5cf5a45d6ca7/prep_receptor.pdbqt\n",
            "\n"
          ]
        },
        {
          "output_type": "stream",
          "name": "stdout",
          "text": [
            "2023-04-19 11:38:43,182 [MainThread  ] [INFO ]  /content/drive/MyDrive/MolDock4Colab/Output/prep_receptor.pdbqt file ends with END, cleaning\n"
          ]
        },
        {
          "output_type": "stream",
          "name": "stderr",
          "text": [
            "INFO:/content/log8.out:/content/drive/MyDrive/MolDock4Colab/Output/prep_receptor.pdbqt file ends with END, cleaning\n"
          ]
        },
        {
          "output_type": "stream",
          "name": "stdout",
          "text": [
            "2023-04-19 11:38:43,203 [MainThread  ] [INFO ]  Removed: ['/content/94a5f142-c6d7-4b60-a3f8-5cf5a45d6ca7']\n"
          ]
        },
        {
          "output_type": "stream",
          "name": "stderr",
          "text": [
            "INFO:/content/log8.out:Removed: ['/content/94a5f142-c6d7-4b60-a3f8-5cf5a45d6ca7']\n"
          ]
        },
        {
          "output_type": "execute_result",
          "data": {
            "text/plain": [
              "0"
            ]
          },
          "metadata": {},
          "execution_count": 20
        }
      ],
      "source": [
        "from biobb_structure_utils.utils.str_check_add_hydrogens import str_check_add_hydrogens\n",
        "\n",
        "prep_receptor = os.path.join(PATH, \"prep_receptor.pdbqt\")\n",
        "prop = {\n",
        "    \"charges\": True, # if true, output is in pdbqt format\n",
        "    \"mode\": \"auto\" # options: auto, list, pH\n",
        "}\n",
        "\n",
        "\n",
        "\n",
        "str_check_add_hydrogens(\n",
        "            input_structure_path = pdb_protein,\n",
        "            output_structure_path = prep_receptor,\n",
        "            properties=prop)\n"
      ]
    },
    {
      "cell_type": "markdown",
      "id": "1d336b27",
      "metadata": {
        "id": "1d336b27"
      },
      "source": [
        "## 1.3. Find Binding Cavity"
      ]
    },
    {
      "cell_type": "markdown",
      "id": "0a1b70d9",
      "metadata": {
        "id": "0a1b70d9"
      },
      "source": [
        "Molecular Docking Simulations are usually restricted to a specific region of the protein's surface, the binding pocket. It we considered the region as the whole surface, we would be performing what is called Blind Docking. \n"
      ]
    },
    {
      "cell_type": "markdown",
      "id": "d2b7df64",
      "metadata": {
        "id": "d2b7df64"
      },
      "source": [
        "Some options for finding binding cavities:\n",
        "- Cluster90.  The PDB Cluster90 is a collection derived from the PDB database, containing structures having less than 90% sequence identity to each other. The Cluster90 Binding Site is using information from all the structures of the Cluster90 collection for a particular input protein to discover the possible binding sites from small molecules attached to similar proteins. \n",
        "\n",
        "- [PDB REST API](https://www.ebi.ac.uk/pdbe/api/doc/).  This REST-API endpoint provides details on binding sites from the PDB files (or mmcif) information, such as ligands, residues in the site or description of the site.\n",
        "- [FindPocket](https://bmcbioinformatics.biomedcentral.com/articles/10.1186/1471-2105-10-168).  pocket is a protein pocket prediction algorithm. Given a PDB protein structure it enables the user to identify potent binding sites. Based on Voronoi tessellation, this algorithm is very fast and particularly well suited for large scale protein binding pocket screenings and development of scoring functions for binding pocket characterization. \n",
        "\n",
        "\\\\\n",
        "\n",
        "In this particular example, we already know the binding site region. And we can use SMINA direcly with crystalographic ligand as spacial reference for our simulation. But let us consider that we do not have this information. \n",
        "One posible option, as it was stated, is the use of the PDBe REST-API, to idenfity and extract the possible binding sites of our taget protein from the PDB file annotations. "
      ]
    },
    {
      "cell_type": "markdown",
      "id": "86c5ce14",
      "metadata": {
        "id": "86c5ce14"
      },
      "source": [
        "In the following chunk we use the PDBe REST-API by means of the biobb_io package to retrieve information about the residues in the biding pocket."
      ]
    },
    {
      "cell_type": "code",
      "execution_count": 21,
      "id": "2852b5d0",
      "metadata": {
        "colab": {
          "base_uri": "https://localhost:8080/"
        },
        "id": "2852b5d0",
        "outputId": "83ad080b-cc78-4487-f062-9ad6ac7223be"
      },
      "outputs": [
        {
          "output_type": "stream",
          "name": "stdout",
          "text": [
            "2023-04-19 11:47:11,438 [MainThread  ] [INFO ]  Executing biobb_io.api.api_binding_site Version: 3.8.0\n"
          ]
        },
        {
          "output_type": "stream",
          "name": "stderr",
          "text": [
            "INFO:/content/log9.out:Executing biobb_io.api.api_binding_site Version: 3.8.0\n"
          ]
        },
        {
          "output_type": "stream",
          "name": "stdout",
          "text": [
            "2023-04-19 11:47:11,447 [MainThread  ] [INFO ]  Getting binding sites from: https://www.ebi.ac.uk/pdbe/api/pdb/entry/binding_sites/2brc\n"
          ]
        },
        {
          "output_type": "stream",
          "name": "stderr",
          "text": [
            "INFO:/content/log9.out:Getting binding sites from: https://www.ebi.ac.uk/pdbe/api/pdb/entry/binding_sites/2brc\n"
          ]
        },
        {
          "output_type": "stream",
          "name": "stdout",
          "text": [
            "2023-04-19 11:47:12,330 [MainThread  ] [INFO ]  1 binding sites found\n"
          ]
        },
        {
          "output_type": "stream",
          "name": "stderr",
          "text": [
            "INFO:/content/log9.out:1 binding sites found\n"
          ]
        },
        {
          "output_type": "stream",
          "name": "stdout",
          "text": [
            "2023-04-19 11:47:12,335 [MainThread  ] [INFO ]  Writting json to: /content/drive/MyDrive/MolDock4Colab/Output/residues.json\n"
          ]
        },
        {
          "output_type": "stream",
          "name": "stderr",
          "text": [
            "INFO:/content/log9.out:Writting json to: /content/drive/MyDrive/MolDock4Colab/Output/residues.json\n"
          ]
        },
        {
          "output_type": "stream",
          "name": "stdout",
          "text": [
            "====\n",
            "Number of elements in dic: 1\n",
            "Prot retrieved: ['2brc']\n",
            "PDB CODE: 2BRC\n"
          ]
        }
      ],
      "source": [
        "from biobb_io.api.api_binding_site import api_binding_site\n",
        "\n",
        "residues_json = os.path.join(PATH, \"residues.json\")\n",
        "prop = {\n",
        "        \"pdb_code\": pdb_code\n",
        "}\n",
        "\n",
        "api_binding_site(output_json_path=residues_json,\n",
        "                 properties=prop)\n",
        "\n",
        "### checking output:\n",
        "import json\n",
        "\n",
        "with open(residues_json) as json_file: \n",
        "    data = json.load(json_file)\n",
        "    #print(json.dumps(data, indent=4))\n",
        "    \n",
        "print('=='*2)\n",
        "print(f'Number of elements in dic: {len(data)}')\n",
        "print(f'Prot retrieved: {list(data.keys())}')\n",
        "print(f'PDB CODE: {pdb_code}')"
      ]
    },
    {
      "cell_type": "markdown",
      "id": "0e9a43c5",
      "metadata": {
        "id": "0e9a43c5"
      },
      "source": [
        "It found exactly our protein, and returned the info of the binding pocket.\n",
        "Uncomment the following line to see how the dictionary looks like. "
      ]
    },
    {
      "cell_type": "code",
      "execution_count": null,
      "id": "dc696648",
      "metadata": {
        "id": "dc696648"
      },
      "outputs": [],
      "source": [
        "#data # uncoment to take a look to see what its inside the dictionary"
      ]
    },
    {
      "cell_type": "markdown",
      "id": "cfffefa5",
      "metadata": {
        "id": "cfffefa5"
      },
      "source": [
        "Now we need to select the binding site, in this case we know is the first one."
      ]
    },
    {
      "cell_type": "code",
      "execution_count": 22,
      "id": "924e36e3",
      "metadata": {
        "colab": {
          "base_uri": "https://localhost:8080/",
          "height": 49,
          "referenced_widgets": [
            "a6d0a0e015254830bfa33cdcdf435e54",
            "6072040842814192b6aafb67c396a32c",
            "0a916acd60fe4089886e8dc7a18e4498"
          ]
        },
        "id": "924e36e3",
        "outputId": "fb1c9db9-e9c0-4ef7-f6fd-451c3ec6c45d"
      },
      "outputs": [
        {
          "output_type": "display_data",
          "data": {
            "text/plain": [
              "A Jupyter Widget"
            ],
            "application/vnd.jupyter.widget-view+json": {
              "version_major": 2,
              "version_minor": 0,
              "model_id": "a6d0a0e015254830bfa33cdcdf435e54"
            }
          },
          "metadata": {
            "application/vnd.jupyter.widget-view+json": {
              "colab": {
                "custom_widget_manager": {
                  "url": "https://ssl.gstatic.com/colaboratory-static/widgets/colab-cdn-widget-manager/b3e629b1971e1542/manager.min.js"
                }
              }
            }
          }
        }
      ],
      "source": [
        "bindingSites = {}\n",
        "bsites = []\n",
        "for i, item in enumerate(data[pdb_code.lower()]):\n",
        "    bindingSites[i] = []\n",
        "    bsites.append(('binding_site' + str(i), i))\n",
        "    for res in item['site_residues']:\n",
        "        bindingSites[i].append(res['author_residue_number'])\n",
        "        \n",
        "# this is for model selection\n",
        "# wwe dont actualy need this\n",
        "# bindingSites[mdsel.value] can be changed for bindingSites[0]\n",
        "\n",
        "mdsel = ipywidgets.Dropdown(\n",
        "    options=bsites,\n",
        "    description='Binding Site:',\n",
        "    disabled=False,\n",
        ")\n",
        "display(mdsel)"
      ]
    },
    {
      "cell_type": "code",
      "execution_count": 23,
      "id": "d2b170a7",
      "metadata": {
        "id": "d2b170a7"
      },
      "outputs": [],
      "source": [
        "# we save the data in a npy\n",
        "import numpy as np\n",
        "\n",
        "bindingsite_data = os.path.join(PATH, 'bindingsite.npy')\n",
        "np.save(bindingsite_data, bindingSites[mdsel.value])"
      ]
    },
    {
      "cell_type": "markdown",
      "id": "aa5d666c",
      "metadata": {
        "id": "aa5d666c"
      },
      "source": [
        "We can visualize now:\n"
      ]
    },
    {
      "cell_type": "code",
      "execution_count": 24,
      "id": "e07939d6",
      "metadata": {
        "colab": {
          "base_uri": "https://localhost:8080/",
          "height": 417,
          "referenced_widgets": [
            "731d5c8e17c3478087ff298ab80923af",
            "4bf629076ace4dd1b5ca72ad598a448a",
            "d9400fd7245f4335b3cdb608fcb60099",
            "ad436c0b8eab4185a7e079a9bdf46e01",
            "3333da27e6a54b80a47ed9d57434ce92",
            "645e05834d534977a52eb9dbf5a575ce",
            "e68676bb8af54cdc9a751c669f456710",
            "ac72c15fb40a4495a9af3436a411eee3",
            "e0b09975a11c419482731fe17c5b5943",
            "19978ece00b44dc3a468ed5510d3664b",
            "7c0e5eb26e7b4fc6a7a0e1d7f51a7826",
            "b458b11dd2d440a1a8bce606ab71cb98",
            "3f6c4b073f884b32a88a3606b680ea94"
          ]
        },
        "id": "e07939d6",
        "outputId": "9f8d1065-4428-4d46-c4e8-40af280c9c7c"
      },
      "outputs": [
        {
          "output_type": "display_data",
          "data": {
            "text/plain": [
              "A Jupyter Widget"
            ],
            "application/vnd.jupyter.widget-view+json": {
              "version_major": 2,
              "version_minor": 0,
              "model_id": "731d5c8e17c3478087ff298ab80923af"
            }
          },
          "metadata": {
            "application/vnd.jupyter.widget-view+json": {
              "colab": {
                "custom_widget_manager": {
                  "url": "https://ssl.gstatic.com/colaboratory-static/widgets/colab-cdn-widget-manager/b3e629b1971e1542/manager.min.js"
                }
              }
            }
          }
        }
      ],
      "source": [
        "view = nv.show_structure_file(download_pdb, default=False)\n",
        "\n",
        "view.add_representation(repr_type='cartoon', \n",
        "                        selection='not het',\n",
        "                        opacity=.2,\n",
        "                        color='#cccccc')\n",
        "\n",
        "view.add_representation(repr_type='surface', \n",
        "                        selection=', '.join(str(v) for v in bindingSites[mdsel.value]), \n",
        "                        color='pink',\n",
        "                        lowResolution= True,\n",
        "                        # 0: low resolution \n",
        "                        smooth=1 )\n",
        "\n",
        "view.center()\n",
        "view._remote_call('setSize', target='Widget', args=['','400px'])\n",
        "\n",
        "view"
      ]
    },
    {
      "cell_type": "markdown",
      "id": "35c912e8",
      "metadata": {
        "id": "35c912e8"
      },
      "source": [
        "We can also retrieve the box as a pdb file by running the next chunk. You can also visualize all toghether in pymol the box, the protein and the crystalographic ligand. "
      ]
    },
    {
      "cell_type": "code",
      "execution_count": 25,
      "id": "157d3897",
      "metadata": {
        "colab": {
          "base_uri": "https://localhost:8080/"
        },
        "id": "157d3897",
        "outputId": "fa92a476-edd3-4f57-a01f-cc763aefd09b"
      },
      "outputs": [
        {
          "output_type": "stream",
          "name": "stdout",
          "text": [
            "2023-04-19 11:47:58,201 [MainThread  ] [INFO ]  Executing biobb_vs.utils.box_residues Version: 4.0.0\n"
          ]
        },
        {
          "output_type": "stream",
          "name": "stderr",
          "text": [
            "INFO:/content/log10.out:Executing biobb_vs.utils.box_residues Version: 4.0.0\n"
          ]
        },
        {
          "output_type": "stream",
          "name": "stdout",
          "text": [
            "2023-04-19 11:47:58,215 [MainThread  ] [INFO ]  Copy: /content/drive/MyDrive/MolDock4Colab/Output/download.pdb to /content/c2e472ff-7a61-409a-bfbc-d08ce616a9de\n"
          ]
        },
        {
          "output_type": "stream",
          "name": "stderr",
          "text": [
            "INFO:/content/log10.out:Copy: /content/drive/MyDrive/MolDock4Colab/Output/download.pdb to /content/c2e472ff-7a61-409a-bfbc-d08ce616a9de\n"
          ]
        },
        {
          "output_type": "stream",
          "name": "stdout",
          "text": [
            "2023-04-19 11:47:58,218 [MainThread  ] [INFO ]  Loading input PDB structure /content/drive/MyDrive/MolDock4Colab/Output/download.pdb\n"
          ]
        },
        {
          "output_type": "stream",
          "name": "stderr",
          "text": [
            "INFO:/content/log10.out:Loading input PDB structure /content/drive/MyDrive/MolDock4Colab/Output/download.pdb\n"
          ]
        },
        {
          "output_type": "stream",
          "name": "stdout",
          "text": [
            "2023-04-19 11:47:58,271 [MainThread  ] [INFO ]  Mapping residue structure into input structure\n"
          ]
        },
        {
          "output_type": "stream",
          "name": "stderr",
          "text": [
            "INFO:/content/log10.out:Mapping residue structure into input structure\n"
          ]
        },
        {
          "output_type": "stream",
          "name": "stdout",
          "text": [
            "2023-04-19 11:47:58,279 [MainThread  ] [INFO ]  Cannot match all the residues listed in 37, 40, 41, 79, 82, 83, 84, 173, 93, 124, 171, 2137, 2258 into /content/drive/MyDrive/MolDock4Colab/Output/download.pdb. Found 11 out of 13\n"
          ]
        },
        {
          "output_type": "stream",
          "name": "stderr",
          "text": [
            "INFO:/content/log10.out:Cannot match all the residues listed in 37, 40, 41, 79, 82, 83, 84, 173, 93, 124, 171, 2137, 2258 into /content/drive/MyDrive/MolDock4Colab/Output/download.pdb. Found 11 out of 13\n"
          ]
        },
        {
          "output_type": "stream",
          "name": "stdout",
          "text": [
            "2023-04-19 11:47:58,284 [MainThread  ] [INFO ]  Binding site center (Angstroms):     19.365    -3.578    -4.566\n"
          ]
        },
        {
          "output_type": "stream",
          "name": "stderr",
          "text": [
            "INFO:/content/log10.out:Binding site center (Angstroms):     19.365    -3.578    -4.566\n"
          ]
        },
        {
          "output_type": "stream",
          "name": "stdout",
          "text": [
            "2023-04-19 11:47:58,288 [MainThread  ] [INFO ]  Binding site size (Angstroms):       11.884    12.914    13.647\n"
          ]
        },
        {
          "output_type": "stream",
          "name": "stderr",
          "text": [
            "INFO:/content/log10.out:Binding site size (Angstroms):       11.884    12.914    13.647\n"
          ]
        },
        {
          "output_type": "stream",
          "name": "stdout",
          "text": [
            "2023-04-19 11:47:58,291 [MainThread  ] [INFO ]  Volume (cubic Angstroms): 16755\n"
          ]
        },
        {
          "output_type": "stream",
          "name": "stderr",
          "text": [
            "INFO:/content/log10.out:Volume (cubic Angstroms): 16755\n"
          ]
        },
        {
          "output_type": "stream",
          "name": "stdout",
          "text": [
            "2023-04-19 11:47:58,293 [MainThread  ] [INFO ]  Adding box coordinates\n"
          ]
        },
        {
          "output_type": "stream",
          "name": "stderr",
          "text": [
            "INFO:/content/log10.out:Adding box coordinates\n"
          ]
        },
        {
          "output_type": "stream",
          "name": "stdout",
          "text": [
            "2023-04-19 11:47:58,301 [MainThread  ] [INFO ]  Saving output PDB file (with box setting annotations): /content/drive/MyDrive/MolDock4Colab/Output/box.pdb\n"
          ]
        },
        {
          "output_type": "stream",
          "name": "stderr",
          "text": [
            "INFO:/content/log10.out:Saving output PDB file (with box setting annotations): /content/drive/MyDrive/MolDock4Colab/Output/box.pdb\n"
          ]
        },
        {
          "output_type": "stream",
          "name": "stdout",
          "text": [
            "2023-04-19 11:47:58,306 [MainThread  ] [INFO ]  Removed: ['/content/c2e472ff-7a61-409a-bfbc-d08ce616a9de']\n"
          ]
        },
        {
          "output_type": "stream",
          "name": "stderr",
          "text": [
            "INFO:/content/log10.out:Removed: ['/content/c2e472ff-7a61-409a-bfbc-d08ce616a9de']\n"
          ]
        },
        {
          "output_type": "execute_result",
          "data": {
            "text/plain": [
              "0"
            ]
          },
          "metadata": {},
          "execution_count": 25
        }
      ],
      "source": [
        "from biobb_vs.utils.box_residues import box_residues\n",
        "\n",
        "output_box = os.path.join(PATH, \"box.pdb\")\n",
        "\n",
        "prop = {\n",
        "        \"resid_list\": bindingSites[mdsel.value],\n",
        "        \"offset\": 5,\n",
        "        \"box_coordinates\": True\n",
        "}\n",
        "\n",
        "box_residues(input_pdb_path = download_pdb,\n",
        "            output_pdb_path = output_box,\n",
        "            properties=prop)"
      ]
    },
    {
      "cell_type": "markdown",
      "id": "9b6d3f87",
      "metadata": {
        "id": "9b6d3f87"
      },
      "source": [
        "..."
      ]
    },
    {
      "cell_type": "code",
      "execution_count": 26,
      "id": "8ffe9d97",
      "metadata": {
        "colab": {
          "resources": {
            "http://localhost:8080/drive/MyDrive/MolDock4Colab/Output/download.pdb": {
              "data": "CjwhRE9DVFlQRSBodG1sPgo8aHRtbCBsYW5nPWVuPgogIDxtZXRhIGNoYXJzZXQ9dXRmLTg+CiAgPG1ldGEgbmFtZT12aWV3cG9ydCBjb250ZW50PSJpbml0aWFsLXNjYWxlPTEsIG1pbmltdW0tc2NhbGU9MSwgd2lkdGg9ZGV2aWNlLXdpZHRoIj4KICA8dGl0bGU+RXJyb3IgNDA0IChOb3QgRm91bmQpISExPC90aXRsZT4KICA8c3R5bGU+CiAgICAqe21hcmdpbjowO3BhZGRpbmc6MH1odG1sLGNvZGV7Zm9udDoxNXB4LzIycHggYXJpYWwsc2Fucy1zZXJpZn1odG1se2JhY2tncm91bmQ6I2ZmZjtjb2xvcjojMjIyO3BhZGRpbmc6MTVweH1ib2R5e21hcmdpbjo3JSBhdXRvIDA7bWF4LXdpZHRoOjM5MHB4O21pbi1oZWlnaHQ6MTgwcHg7cGFkZGluZzozMHB4IDAgMTVweH0qID4gYm9keXtiYWNrZ3JvdW5kOnVybCgvL3d3dy5nb29nbGUuY29tL2ltYWdlcy9lcnJvcnMvcm9ib3QucG5nKSAxMDAlIDVweCBuby1yZXBlYXQ7cGFkZGluZy1yaWdodDoyMDVweH1we21hcmdpbjoxMXB4IDAgMjJweDtvdmVyZmxvdzpoaWRkZW59aW5ze2NvbG9yOiM3Nzc7dGV4dC1kZWNvcmF0aW9uOm5vbmV9YSBpbWd7Ym9yZGVyOjB9QG1lZGlhIHNjcmVlbiBhbmQgKG1heC13aWR0aDo3NzJweCl7Ym9keXtiYWNrZ3JvdW5kOm5vbmU7bWFyZ2luLXRvcDowO21heC13aWR0aDpub25lO3BhZGRpbmctcmlnaHQ6MH19I2xvZ297YmFja2dyb3VuZDp1cmwoLy93d3cuZ29vZ2xlLmNvbS9pbWFnZXMvbG9nb3MvZXJyb3JwYWdlL2Vycm9yX2xvZ28tMTUweDU0LnBuZykgbm8tcmVwZWF0O21hcmdpbi1sZWZ0Oi01cHh9QG1lZGlhIG9ubHkgc2NyZWVuIGFuZCAobWluLXJlc29sdXRpb246MTkyZHBpKXsjbG9nb3tiYWNrZ3JvdW5kOnVybCgvL3d3dy5nb29nbGUuY29tL2ltYWdlcy9sb2dvcy9lcnJvcnBhZ2UvZXJyb3JfbG9nby0xNTB4NTQtMngucG5nKSBuby1yZXBlYXQgMCUgMCUvMTAwJSAxMDAlOy1tb3otYm9yZGVyLWltYWdlOnVybCgvL3d3dy5nb29nbGUuY29tL2ltYWdlcy9sb2dvcy9lcnJvcnBhZ2UvZXJyb3JfbG9nby0xNTB4NTQtMngucG5nKSAwfX1AbWVkaWEgb25seSBzY3JlZW4gYW5kICgtd2Via2l0LW1pbi1kZXZpY2UtcGl4ZWwtcmF0aW86Mil7I2xvZ297YmFja2dyb3VuZDp1cmwoLy93d3cuZ29vZ2xlLmNvbS9pbWFnZXMvbG9nb3MvZXJyb3JwYWdlL2Vycm9yX2xvZ28tMTUweDU0LTJ4LnBuZykgbm8tcmVwZWF0Oy13ZWJraXQtYmFja2dyb3VuZC1zaXplOjEwMCUgMTAwJX19I2xvZ297ZGlzcGxheTppbmxpbmUtYmxvY2s7aGVpZ2h0OjU0cHg7d2lkdGg6MTUwcHh9CiAgPC9zdHlsZT4KICA8YSBocmVmPS8vd3d3Lmdvb2dsZS5jb20vPjxzcGFuIGlkPWxvZ28gYXJpYS1sYWJlbD1Hb29nbGU+PC9zcGFuPjwvYT4KICA8cD48Yj40MDQuPC9iPiA8aW5zPlRoYXTigJlzIGFuIGVycm9yLjwvaW5zPgogIDxwPiAgPGlucz5UaGF04oCZcyBhbGwgd2Uga25vdy48L2lucz4K",
              "ok": false,
              "headers": [
                [
                  "content-length",
                  "1449"
                ],
                [
                  "content-type",
                  "text/html; charset=utf-8"
                ]
              ],
              "status": 404,
              "status_text": "Not Found"
            }
          },
          "base_uri": "https://localhost:8080/",
          "height": 317,
          "referenced_widgets": [
            "b20b1785c7ab455e918ee85577751eba",
            "f0ccd08482f744b38a4ff330ae684049",
            "c9e0e20a428f403ba911f1491429bbe7",
            "b7af70acbf5042e98fcc89f2346f0f55",
            "38d6d47b283c46d7a7c90c41215b7bd3",
            "c11dc4917f394c37a20c4bb427ddb74f",
            "c23abca1451343c4a9fe974eed3e0cb5",
            "fc32b4dc4c814c1fa355b856e69016b6",
            "dde8212fb28c4e619fa21558c68b083f",
            "c37a25da549241369734c29244273d25",
            "513e962d737b483f867293860f7ecf1b",
            "17bf4839adc04bffad051c8358778cc0",
            "e98b3578ef164b3aa93f71857246aad1"
          ]
        },
        "id": "8ffe9d97",
        "outputId": "5e84982e-b1eb-4e9e-f7db-e5c0f3a2d096"
      },
      "outputs": [
        {
          "output_type": "display_data",
          "data": {
            "text/plain": [
              "A Jupyter Widget"
            ],
            "application/vnd.jupyter.widget-view+json": {
              "version_major": 2,
              "version_minor": 0,
              "model_id": "b20b1785c7ab455e918ee85577751eba"
            }
          },
          "metadata": {
            "application/vnd.jupyter.widget-view+json": {
              "colab": {
                "custom_widget_manager": {
                  "url": "https://ssl.gstatic.com/colaboratory-static/widgets/colab-cdn-widget-manager/b3e629b1971e1542/manager.min.js"
                }
              }
            }
          }
        }
      ],
      "source": [
        "## May noy work correcly in colab, if not visualice in pymol \n",
        "\n",
        "view = nv.NGLWidget()\n",
        "\n",
        "s = view.add_component(download_pdb)\n",
        "b = view.add_component(output_box)\n",
        "\n",
        "atomPair = [\n",
        "    [ \"9999:Z.ZN1\", \"9999:Z.ZN2\" ],\n",
        "    [ \"9999:Z.ZN2\", \"9999:Z.ZN4\" ],\n",
        "    [ \"9999:Z.ZN4\", \"9999:Z.ZN3\" ],\n",
        "    [ \"9999:Z.ZN3\", \"9999:Z.ZN1\" ],\n",
        "    \n",
        "    [ \"9999:Z.ZN5\", \"9999:Z.ZN6\" ],\n",
        "    [ \"9999:Z.ZN6\", \"9999:Z.ZN8\" ],\n",
        "    [ \"9999:Z.ZN8\", \"9999:Z.ZN7\" ],\n",
        "    [ \"9999:Z.ZN7\", \"9999:Z.ZN5\" ],\n",
        "    \n",
        "    [ \"9999:Z.ZN1\", \"9999:Z.ZN5\" ],\n",
        "    [ \"9999:Z.ZN2\", \"9999:Z.ZN6\" ],\n",
        "    [ \"9999:Z.ZN3\", \"9999:Z.ZN7\" ],\n",
        "    [ \"9999:Z.ZN4\", \"9999:Z.ZN8\" ]\n",
        "]\n",
        "\n",
        "# structure\n",
        "s.add_representation(repr_type='cartoon', \n",
        "                        selection='not het',\n",
        "                        color='#cccccc',\n",
        "                       opacity=.2)\n",
        "# ligands box\n",
        "b.add_representation(repr_type='ball+stick',\n",
        "                     selection='9999',\n",
        "                     color='pink', \n",
        "                     aspectRatio = 8)\n",
        "# lines box\n",
        "b.add_representation(repr_type='distance', \n",
        "                     atomPair= atomPair,\n",
        "                     labelVisible=False,\n",
        "                     color= 'black')\n",
        "\n",
        "# residues\n",
        "s.add_representation(repr_type='surface', \n",
        "                        selection=', '.join(str(v) for v in bindingSites[mdsel.value]), \n",
        "                        color='skyblue',\n",
        "                        lowResolution= True,\n",
        "                        # 0: low resolution \n",
        "                        smooth=2,\n",
        "                        surfaceType= 'av', \n",
        "                        contour=True,\n",
        "                        opacity=1,\n",
        "                        useWorker= True,\n",
        "                        wrap= True)\n",
        "\n",
        "\n",
        "view.center()\n",
        "view._remote_call('setSize', target='Widget', args=['','400px'])\n",
        "\n",
        "view"
      ]
    },
    {
      "cell_type": "markdown",
      "id": "acfd2297",
      "metadata": {
        "id": "acfd2297"
      },
      "source": [
        "Now, we have all the needed informtion for our receptor. "
      ]
    },
    {
      "cell_type": "code",
      "execution_count": 31,
      "id": "abc8cdcf",
      "metadata": {
        "id": "abc8cdcf",
        "colab": {
          "base_uri": "https://localhost:8080/"
        },
        "outputId": "2100ccf4-084a-4723-88ee-bdb6b16dd6e2"
      },
      "outputs": [
        {
          "output_type": "stream",
          "name": "stdout",
          "text": [
            "rm: cannot remove '*.out': No such file or directory\n",
            "rm: cannot remove '*.err': No such file or directory\n"
          ]
        }
      ],
      "source": [
        "# to keep clean your directory, you can run this to delete all residual files. \n",
        "! rm *.out\n",
        "! rm *.err"
      ]
    },
    {
      "cell_type": "code",
      "source": [],
      "metadata": {
        "id": "kOM_uYcBXgaA"
      },
      "id": "kOM_uYcBXgaA",
      "execution_count": null,
      "outputs": []
    }
  ],
  "metadata": {
    "kernelspec": {
      "display_name": "Python 3 (ipykernel)",
      "language": "python",
      "name": "python3"
    },
    "language_info": {
      "codemirror_mode": {
        "name": "ipython",
        "version": 3
      },
      "file_extension": ".py",
      "mimetype": "text/x-python",
      "name": "python",
      "nbconvert_exporter": "python",
      "pygments_lexer": "ipython3",
      "version": "3.9.6"
    },
    "colab": {
      "provenance": [],
      "collapsed_sections": [
        "fd27f4da"
      ]
    },
    "widgets": {
      "application/vnd.jupyter.widget-state+json": {
        "60fc15920a524eda884cd0a9ecd525fe": {
          "model_module": "nglview-js-widgets",
          "model_name": "NGLModel",
          "model_module_version": "3.0.1",
          "state": {
            "_camera_orientation": [
              87.59975283501828,
              34.55406757953242,
              -25.725086680817153,
              0,
              -42.925726797604845,
              65.1095953522549,
              -58.71629194478963,
              0,
              -3.625693026697195,
              64.00185446186298,
              73.62131038837488,
              0,
              -21.57200050354004,
              4.7960004806518555,
              3.7960004806518555,
              1
            ],
            "_camera_str": "orthographic",
            "_dom_classes": [],
            "_gui_theme": null,
            "_ibtn_fullscreen": "IPY_MODEL_f6d4f079f2214333bd4312c4cfd207bc",
            "_igui": null,
            "_iplayer": "IPY_MODEL_8d061d8c5d1a4ddab135f0992c25d7a7",
            "_model_module": "nglview-js-widgets",
            "_model_module_version": "3.0.1",
            "_model_name": "NGLModel",
            "_ngl_color_dict": {},
            "_ngl_coordinate_resource": {},
            "_ngl_full_stage_parameters": {
              "impostor": true,
              "quality": "medium",
              "workerDefault": true,
              "sampleLevel": 0,
              "backgroundColor": "white",
              "rotateSpeed": 2,
              "zoomSpeed": 1.2,
              "panSpeed": 1,
              "clipNear": 0,
              "clipFar": 100,
              "clipDist": 10,
              "fogNear": 50,
              "fogFar": 100,
              "cameraFov": 40,
              "cameraEyeSep": 0.3,
              "cameraType": "perspective",
              "lightColor": 14540253,
              "lightIntensity": 1,
              "ambientColor": 14540253,
              "ambientIntensity": 0.2,
              "hoverTimeout": 0,
              "tooltip": true,
              "mousePreset": "default"
            },
            "_ngl_msg_archive": [
              {
                "target": "Stage",
                "type": "call_method",
                "methodName": "loadFile",
                "reconstruc_color_scheme": false,
                "args": [
                  {
                    "type": "blob",
                    "data": "ATOM      1  N   MET A   1      33.050  12.973   3.916  1.00 39.39           N  \nATOM      2  CA  MET A   1      32.080  14.100   3.862  1.00 38.29           C  \nATOM      3  C   MET A   1      30.953  13.936   4.885  1.00 37.36           C  \nATOM      4  O   MET A   1      30.838  12.911   5.590  1.00 37.93           O  \nATOM      5  CB  MET A   1      31.526  14.308   2.438  1.00 38.85           C  \nATOM      6  N   ALA A   2      30.143  14.975   4.991  1.00 35.49           N  \nATOM      7  CA  ALA A   2      29.061  14.961   5.946  1.00 33.10           C  \nATOM      8  C   ALA A   2      27.916  14.113   5.410  1.00 31.03           C  \nATOM      9  O   ALA A   2      27.625  14.096   4.218  1.00 30.48           O  \nATOM     10  CB  ALA A   2      28.585  16.359   6.229  1.00 33.84           C  \nATOM     11  N   SER A   3      27.291  13.413   6.329  1.00 28.88           N  \nATOM     12  CA  SER A   3      26.114  12.628   6.050  1.00 26.78           C  \nATOM     13  C   SER A   3      24.897  13.548   6.013  1.00 25.46           C  \nATOM     14  O   SER A   3      24.903  14.616   6.635  1.00 27.72           O  \nATOM     15  CB  SER A   3      25.930  11.628   7.186  1.00 26.97           C  \nATOM     16  OG  SER A   3      27.070  10.778   7.297  1.00 29.95           O  \nATOM     17  N   GLU A   4      23.863  13.159   5.271  1.00 22.40           N  \nATOM     18  CA  GLU A   4      22.588  13.858   5.311  1.00 21.11           C  \nATOM     19  C   GLU A   4      21.595  12.891   5.949  1.00 20.34           C  \nATOM     20  O   GLU A   4      21.680  11.672   5.722  1.00 18.50           O  \nATOM     21  CB  GLU A   4      22.116  14.172   3.908  1.00 21.46           C  \nATOM     22  CG  GLU A   4      22.892  15.306   3.261  1.00 26.09           C  \nATOM     23  CD  GLU A   4      22.630  15.384   1.769  1.00 32.97           C  \nATOM     24  OE1 GLU A   4      21.465  15.617   1.387  1.00 38.16           O  \nATOM     25  OE2 GLU A   4      23.584  15.218   0.979  1.00 38.74           O  \nATOM     26  N   THR A   5      20.671  13.426   6.740  1.00 19.30           N  \nATOM     27  CA  THR A   5      19.715  12.600   7.462  1.00 19.48           C  \nATOM     28  C   THR A   5      18.312  12.789   6.889  1.00 19.54           C  \nATOM     29  O   THR A   5      17.901  13.921   6.561  1.00 20.44           O  \nATOM     30  CB  THR A   5      19.775  12.951   8.950  1.00 19.50           C  \nATOM     31  OG1 THR A   5      21.094  12.635   9.456  1.00 22.43           O  \nATOM     32  CG2 THR A   5      18.817  12.038   9.749  1.00 20.59           C  \nATOM     33  N   PHE A   6      17.570  11.685   6.771  1.00 17.16           N  \nATOM     34  CA  PHE A   6      16.219  11.691   6.196  1.00 18.00           C  \nATOM     35  C   PHE A   6      15.277  10.891   7.072  1.00 18.44           C  \nATOM     36  O   PHE A   6      15.706   9.976   7.751  1.00 19.31           O  \nATOM     37  CB  PHE A   6      16.222  11.038   4.820  1.00 18.96           C  \nATOM     38  CG  PHE A   6      17.102  11.720   3.856  1.00 18.53           C  \nATOM     39  CD1 PHE A   6      18.460  11.409   3.840  1.00 19.17           C  \nATOM     40  CD2 PHE A   6      16.606  12.683   2.970  1.00 20.58           C  \nATOM     41  CE1 PHE A   6      19.305  12.036   2.947  1.00 20.28           C  \nATOM     42  CE2 PHE A   6      17.477  13.329   2.083  1.00 20.49           C  \nATOM     43  CZ  PHE A   6      18.835  12.997   2.105  1.00 18.85           C  \nATOM     44  N   GLU A   7      14.000  11.235   7.054  1.00 19.84           N  \nATOM     45  CA  GLU A   7      13.026  10.478   7.815  1.00 20.66           C  \nATOM     46  C   GLU A   7      12.367   9.406   6.945  1.00 18.60           C  \nATOM     47  O   GLU A   7      11.979   9.660   5.773  1.00 19.08           O  \nATOM     48  CB  GLU A   7      11.936  11.421   8.358  1.00 22.17           C  \nATOM     49  CG  GLU A   7      11.461  11.020   9.746  1.00 31.05           C  \nATOM     50  CD  GLU A   7      10.354  11.905  10.307  1.00 38.00           C  \nATOM     51  OE1 GLU A   7      10.102  13.015   9.752  1.00 42.43           O  \nATOM     52  OE2 GLU A   7       9.709  11.470  11.301  1.00 42.74           O  \nATOM     53  N   PHE A   8      12.185   8.203   7.495  1.00 17.76           N  \nATOM     54  CA  PHE A   8      11.420   7.180   6.764  1.00 16.56           C  \nATOM     55  C   PHE A   8       9.939   7.518   6.766  1.00 16.37           C  \nATOM     56  O   PHE A   8       9.451   8.139   7.723  1.00 17.80           O  \nATOM     57  CB  PHE A   8      11.434   5.827   7.525  1.00 15.52           C  \nATOM     58  CG  PHE A   8      12.691   5.033   7.334  1.00 14.96           C  \nATOM     59  CD1 PHE A   8      13.717   5.136   8.248  1.00 15.44           C  \nATOM     60  CD2 PHE A   8      12.796   4.137   6.278  1.00 14.37           C  \nATOM     61  CE1 PHE A   8      14.905   4.424   8.076  1.00 15.27           C  \nATOM     62  CE2 PHE A   8      13.944   3.411   6.109  1.00 16.20           C  \nATOM     63  CZ  PHE A   8      14.987   3.529   7.018  1.00 14.18           C  \nATOM     64  N   GLN A   9       9.228   7.080   5.743  1.00 17.29           N  \nATOM     65  CA  GLN A   9       7.761   7.073   5.824  1.00 18.07           C  \nATOM     66  C   GLN A   9       7.390   6.260   7.074  1.00 18.98           C  \nATOM     67  O   GLN A   9       7.955   5.180   7.321  1.00 17.09           O  \nATOM     68  CB  GLN A   9       7.110   6.478   4.582  1.00 19.54           C  \nATOM     69  CG  GLN A   9       7.297   7.306   3.341  1.00 25.55           C  \nATOM     70  CD  GLN A   9       6.715   8.695   3.500  1.00 36.08           C  \nATOM     71  OE1 GLN A   9       5.859   8.919   4.358  1.00 40.04           O  \nATOM     72  NE2 GLN A   9       7.172   9.632   2.670  1.00 39.83           N  \nATOM     73  N   ALA A  10       6.427   6.741   7.875  1.00 18.03           N  \nATOM     74  CA  ALA A  10       6.229   6.140   9.195  1.00 18.26           C  \nATOM     75  C   ALA A  10       5.871   4.663   9.159  1.00 16.53           C  \nATOM     76  O   ALA A  10       6.261   3.930  10.041  1.00 15.94           O  \nATOM     77  CB  ALA A  10       5.146   6.919   9.974  1.00 18.39           C  \nATOM     78  N   GLU A  11       5.145   4.237   8.138  1.00 16.79           N  \nATOM     79  CA  GLU A  11       4.766   2.820   8.081  1.00 17.31           C  \nATOM     80  C   GLU A  11       5.978   1.910   7.879  1.00 16.34           C  \nATOM     81  O   GLU A  11       5.963   0.767   8.326  1.00 15.78           O  \nATOM     82  CB  GLU A  11       3.729   2.560   6.986  1.00 17.95           C  \nATOM     83  CG  GLU A  11       2.392   3.203   7.340  1.00 22.32           C  \nATOM     84  CD  GLU A  11       2.314   4.667   6.971  1.00 29.15           C  \nATOM     85  OE1 GLU A  11       3.332   5.274   6.491  1.00 28.32           O  \nATOM     86  OE2 GLU A  11       1.201   5.223   7.169  1.00 32.62           O  \nATOM     87  N   ILE A  12       7.024   2.412   7.229  1.00 16.67           N  \nATOM     88  CA  ILE A  12       8.258   1.607   7.104  1.00 15.50           C  \nATOM     89  C   ILE A  12       8.935   1.466   8.464  1.00 14.39           C  \nATOM     90  O   ILE A  12       9.411   0.400   8.826  1.00 14.97           O  \nATOM     91  CB  ILE A  12       9.201   2.230   6.076  1.00 15.30           C  \nATOM     92  CG1 ILE A  12       8.477   2.372   4.738  1.00 16.65           C  \nATOM     93  CG2 ILE A  12      10.476   1.327   5.877  1.00 16.74           C  \nATOM     94  CD1 ILE A  12       9.313   3.089   3.666  1.00 16.80           C  \nATOM     95  N   THR A  13       8.939   2.548   9.250  1.00 13.97           N  \nATOM     96  CA  THR A  13       9.480   2.509  10.589  1.00 14.12           C  \nATOM     97  C   THR A  13       8.682   1.506  11.448  1.00 14.40           C  \nATOM     98  O   THR A  13       9.270   0.766  12.236  1.00 14.26           O  \nATOM     99  CB  THR A  13       9.360   3.911  11.197  1.00 14.71           C  \nATOM    100  OG1 THR A  13      10.101   4.812  10.346  1.00 17.51           O  \nATOM    101  CG2 THR A  13      10.061   3.970  12.538  1.00 15.96           C  \nATOM    102  N   GLN A  14       7.369   1.489  11.288  1.00 14.19           N  \nATOM    103  CA  GLN A  14       6.547   0.490  11.976  1.00 14.43           C  \nATOM    104  C   GLN A  14       6.941  -0.922  11.575  1.00 14.53           C  \nATOM    105  O   GLN A  14       7.160  -1.773  12.431  1.00 14.71           O  \nATOM    106  CB  GLN A  14       5.073   0.698  11.679  1.00 14.06           C  \nATOM    107  CG  GLN A  14       4.571   2.042  12.200  1.00 16.56           C  \nATOM    108  CD  GLN A  14       3.131   2.332  11.834  1.00 20.58           C  \nATOM    109  OE1 GLN A  14       2.411   1.446  11.349  1.00 22.79           O  \nATOM    110  NE2 GLN A  14       2.693   3.561  12.081  1.00 21.20           N  \nATOM    111  N   LEU A  15       7.094  -1.151  10.275  1.00 15.20           N  \nATOM    112  CA  LEU A  15       7.469  -2.503   9.837  1.00 15.41           C  \nATOM    113  C   LEU A  15       8.837  -2.917  10.374  1.00 15.73           C  \nATOM    114  O   LEU A  15       9.035  -4.039  10.865  1.00 14.31           O  \nATOM    115  CB  LEU A  15       7.370  -2.639   8.311  1.00 16.07           C  \nATOM    116  CG  LEU A  15       7.710  -4.099   7.905  1.00 17.62           C  \nATOM    117  CD1 LEU A  15       6.805  -5.170   8.555  1.00 19.96           C  \nATOM    118  CD2 LEU A  15       7.693  -4.207   6.394  1.00 22.75           C  \nATOM    119  N   MET A  16       9.801  -2.009  10.301  1.00 14.02           N  \nATOM    120  CA  MET A  16      11.142  -2.365  10.806  1.00 14.70           C  \nATOM    121  C   MET A  16      11.125  -2.749  12.270  1.00 14.80           C  \nATOM    122  O   MET A  16      11.873  -3.626  12.697  1.00 16.45           O  \nATOM    123  CB  MET A  16      12.140  -1.228  10.586  1.00 15.72           C  \nATOM    124  CG  MET A  16      12.434  -1.027   9.103  1.00 15.71           C  \nATOM    125  SD  MET A  16      13.743   0.161   8.798  1.00 14.62           S  \nATOM    126  CE  MET A  16      13.037   1.668   9.384  1.00 17.53           C  \nATOM    127  N   SER A  17      10.343  -2.009  13.045  1.00 15.41           N  \nATOM    128  CA  SER A  17      10.215  -2.248  14.485  1.00 16.73           C  \nATOM    129  C   SER A  17       9.645  -3.639  14.738  1.00 16.08           C  \nATOM    130  O   SER A  17      10.178  -4.379  15.584  1.00 18.39           O  \nATOM    131  CB  SER A  17       9.303  -1.172  15.113  1.00 17.08           C  \nATOM    132  OG  SER A  17       9.231  -1.370  16.546  1.00 20.25           O  \nATOM    133  N   LEU A  18       8.603  -4.007  14.009  1.00 17.24           N  \nATOM    134  CA  LEU A  18       7.993  -5.343  14.145  1.00 17.40           C  \nATOM    135  C   LEU A  18       8.999  -6.439  13.809  1.00 17.57           C  \nATOM    136  O   LEU A  18       9.127  -7.436  14.524  1.00 19.19           O  \nATOM    137  CB  LEU A  18       6.757  -5.487  13.252  1.00 18.58           C  \nATOM    138  CG  LEU A  18       5.539  -4.634  13.612  1.00 21.34           C  \nATOM    139  CD1 LEU A  18       4.408  -4.815  12.618  1.00 23.10           C  \nATOM    140  CD2 LEU A  18       5.097  -5.086  15.037  1.00 23.09           C  \nATOM    141  N   ILE A  19       9.801  -6.213  12.768  1.00 16.55           N  \nATOM    142  CA  ILE A  19      10.680  -7.277  12.291  1.00 15.73           C  \nATOM    143  C   ILE A  19      11.904  -7.436  13.176  1.00 16.36           C  \nATOM    144  O   ILE A  19      12.377  -8.523  13.422  1.00 16.63           O  \nATOM    145  CB  ILE A  19      11.133  -6.976  10.845  1.00 14.90           C  \nATOM    146  CG1 ILE A  19       9.936  -7.046   9.942  1.00 14.03           C  \nATOM    147  CG2 ILE A  19      12.211  -7.997  10.371  1.00 16.14           C  \nATOM    148  CD1 ILE A  19      10.251  -6.792   8.496  1.00 19.55           C  \nATOM    149  N   ILE A  20      12.510  -6.307  13.585  1.00 16.30           N  \nATOM    150  CA  ILE A  20      13.705  -6.384  14.410  1.00 16.06           C  \nATOM    151  C   ILE A  20      13.364  -7.000  15.756  1.00 17.71           C  \nATOM    152  O   ILE A  20      14.210  -7.635  16.362  1.00 18.45           O  \nATOM    153  CB  ILE A  20      14.446  -5.021  14.561  1.00 17.18           C  \nATOM    154  CG1 ILE A  20      15.902  -5.254  14.988  1.00 16.16           C  \nATOM    155  CG2 ILE A  20      13.671  -4.065  15.543  1.00 18.19           C  \nATOM    156  CD1 ILE A  20      16.736  -3.966  15.023  1.00 19.08           C  \nATOM    157  N   ASN A  21      12.111  -6.837  16.183  1.00 18.15           N  \nATOM    158  CA  ASN A  21      11.735  -7.389  17.489  1.00 20.14           C  \nATOM    159  C   ASN A  21      11.055  -8.749  17.473  1.00 21.10           C  \nATOM    160  O   ASN A  21      10.930  -9.372  18.538  1.00 22.19           O  \nATOM    161  CB  ASN A  21      10.848  -6.376  18.245  1.00 19.88           C  \nATOM    162  CG  ASN A  21      11.635  -5.173  18.763  1.00 19.89           C  \nATOM    163  OD1 ASN A  21      12.554  -5.326  19.584  1.00 26.86           O  \nATOM    164  ND2 ASN A  21      11.325  -3.977  18.255  1.00 21.02           N  \nATOM    165  N   THR A  22      10.597  -9.236  16.315  1.00 20.09           N  \nATOM    166  CA  THR A  22       9.792 -10.438  16.337  1.00 20.83           C  \nATOM    167  C   THR A  22      10.554 -11.666  16.755  1.00 21.40           C  \nATOM    168  O   THR A  22      11.758 -11.820  16.475  1.00 20.89           O  \nATOM    169  CB  THR A  22       9.130 -10.655  15.002  1.00 21.58           C  \nATOM    170  OG1 THR A  22       8.375 -11.870  15.047  1.00 21.08           O  \nATOM    171  CG2 THR A  22      10.194 -10.923  13.921  1.00 20.57           C  \nATOM    172  N   VAL A  23       9.836 -12.584  17.401  1.00 21.53           N  \nATOM    173  CA  VAL A  23      10.480 -13.833  17.786  1.00 22.16           C  \nATOM    174  C   VAL A  23      10.234 -14.961  16.787  1.00 22.54           C  \nATOM    175  O   VAL A  23      10.479 -16.119  17.085  1.00 22.96           O  \nATOM    176  CB  VAL A  23      10.118 -14.284  19.247  1.00 22.59           C  \nATOM    177  CG1 VAL A  23      10.649 -13.294  20.267  1.00 23.39           C  \nATOM    178  CG2 VAL A  23       8.631 -14.518  19.381  1.00 24.37           C  \nATOM    179  N   TYR A  24       9.757 -14.616  15.591  1.00 21.82           N  \nATOM    180  CA  TYR A  24       9.594 -15.556  14.468  1.00 22.38           C  \nATOM    181  C   TYR A  24      10.749 -16.555  14.358  1.00 22.68           C  \nATOM    182  O   TYR A  24      11.929 -16.165  14.391  1.00 24.00           O  \nATOM    183  CB  TYR A  24       9.524 -14.715  13.173  1.00 22.24           C  \nATOM    184  CG  TYR A  24       9.316 -15.501  11.903  1.00 22.63           C  \nATOM    185  CD1 TYR A  24       8.089 -16.162  11.643  1.00 22.57           C  \nATOM    186  CD2 TYR A  24      10.332 -15.603  10.963  1.00 20.99           C  \nATOM    187  CE1 TYR A  24       7.899 -16.860  10.471  1.00 21.70           C  \nATOM    188  CE2 TYR A  24      10.157 -16.316   9.787  1.00 23.00           C  \nATOM    189  CZ  TYR A  24       8.944 -16.941   9.548  1.00 23.48           C  \nATOM    190  OH  TYR A  24       8.760 -17.642   8.390  1.00 23.07           O  \nATOM    191  N   SER A  25      10.431 -17.835  14.208  1.00 23.15           N  \nATOM    192  CA  SER A  25      11.454 -18.855  14.244  1.00 25.14           C  \nATOM    193  C   SER A  25      12.383 -18.922  13.024  1.00 24.97           C  \nATOM    194  O   SER A  25      13.599 -19.047  13.167  1.00 27.74           O  \nATOM    195  CB  SER A  25      10.823 -20.237  14.485  1.00 25.30           C  \nATOM    196  OG  SER A  25      10.036 -20.633  13.378  1.00 31.33           O  \nATOM    197  N   ASN A  26      11.798 -18.803  11.838  1.00 23.87           N  \nATOM    198  CA  ASN A  26      12.496 -19.085  10.593  1.00 22.96           C  \nATOM    199  C   ASN A  26      13.247 -17.877  10.025  1.00 21.23           C  \nATOM    200  O   ASN A  26      12.992 -17.475   8.889  1.00 21.66           O  \nATOM    201  CB  ASN A  26      11.544 -19.663   9.550  1.00 24.64           C  \nATOM    202  CG  ASN A  26      12.270 -20.539   8.497  1.00 28.78           C  \nATOM    203  OD1 ASN A  26      13.306 -21.164   8.787  1.00 38.08           O  \nATOM    204  ND2 ASN A  26      11.720 -20.593   7.290  1.00 36.26           N  \nATOM    205  N   LYS A  27      14.176 -17.357  10.812  1.00 20.46           N  \nATOM    206  CA  LYS A  27      14.887 -16.108  10.416  1.00 19.75           C  \nATOM    207  C   LYS A  27      15.671 -16.267   9.129  1.00 19.93           C  \nATOM    208  O   LYS A  27      15.891 -15.253   8.412  1.00 17.92           O  \nATOM    209  CB  LYS A  27      15.768 -15.579  11.552  1.00 19.28           C  \nATOM    210  CG  LYS A  27      14.969 -15.026  12.730  1.00 22.26           C  \nATOM    211  CD  LYS A  27      15.824 -14.970  13.974  1.00 27.88           C  \nATOM    212  CE  LYS A  27      15.074 -14.344  15.172  1.00 32.92           C  \nATOM    213  NZ  LYS A  27      15.235 -12.881  15.161  1.00 27.85           N  \nATOM    214  N   GLU A  28      16.016 -17.502   8.765  1.00 19.23           N  \nATOM    215  CA  GLU A  28      16.848 -17.692   7.578  1.00 18.59           C  \nATOM    216  C   GLU A  28      16.212 -17.196   6.255  1.00 19.16           C  \nATOM    217  O   GLU A  28      16.907 -17.053   5.241  1.00 18.42           O  \nATOM    218  CB  GLU A  28      17.256 -19.175   7.445  1.00 19.75           C  \nATOM    219  CG  GLU A  28      16.147 -20.029   6.898  1.00 21.64           C  \nATOM    220  CD  GLU A  28      16.495 -21.511   6.935  1.00 27.68           C  \nATOM    221  OE1 GLU A  28      17.064 -21.954   7.950  1.00 31.50           O  \nATOM    222  OE2 GLU A  28      16.189 -22.218   5.965  1.00 29.17           O  \nATOM    223  N   ILE A  29      14.903 -16.924   6.253  1.00 18.52           N  \nATOM    224  CA  ILE A  29      14.232 -16.474   5.048  1.00 19.25           C  \nATOM    225  C   ILE A  29      14.761 -15.121   4.554  1.00 16.72           C  \nATOM    226  O   ILE A  29      14.521 -14.730   3.416  1.00 17.64           O  \nATOM    227  CB  ILE A  29      12.685 -16.398   5.258  1.00 21.15           C  \nATOM    228  CG1 ILE A  29      12.322 -15.367   6.301  1.00 23.38           C  \nATOM    229  CG2 ILE A  29      12.130 -17.761   5.592  1.00 24.43           C  \nATOM    230  CD1 ILE A  29      11.831 -14.115   5.693  1.00 30.18           C  \nATOM    231  N   PHE A  30      15.473 -14.416   5.409  1.00 15.77           N  \nATOM    232  CA  PHE A  30      15.999 -13.123   4.971  1.00 15.38           C  \nATOM    233  C   PHE A  30      16.868 -13.300   3.733  1.00 14.93           C  \nATOM    234  O   PHE A  30      16.874 -12.453   2.841  1.00 14.87           O  \nATOM    235  CB  PHE A  30      16.804 -12.414   6.068  1.00 14.77           C  \nATOM    236  CG  PHE A  30      18.227 -12.889   6.186  1.00 15.59           C  \nATOM    237  CD1 PHE A  30      19.266 -12.200   5.563  1.00 15.68           C  \nATOM    238  CD2 PHE A  30      18.526 -14.040   6.899  1.00 16.71           C  \nATOM    239  CE1 PHE A  30      20.573 -12.675   5.658  1.00 15.08           C  \nATOM    240  CE2 PHE A  30      19.818 -14.529   6.997  1.00 17.37           C  \nATOM    241  CZ  PHE A  30      20.876 -13.831   6.366  1.00 16.40           C  \nATOM    242  N   LEU A  31      17.628 -14.392   3.701  1.00 14.51           N  \nATOM    243  CA  LEU A  31      18.619 -14.550   2.601  1.00 14.88           C  \nATOM    244  C   LEU A  31      17.935 -14.729   1.252  1.00 15.81           C  \nATOM    245  O   LEU A  31      18.366 -14.182   0.246  1.00 15.41           O  \nATOM    246  CB  LEU A  31      19.615 -15.677   2.935  1.00 14.46           C  \nATOM    247  CG  LEU A  31      20.798 -15.661   1.967  1.00 16.52           C  \nATOM    248  CD1 LEU A  31      21.592 -14.382   2.076  1.00 18.11           C  \nATOM    249  CD2 LEU A  31      21.707 -16.842   2.335  1.00 19.15           C  \nATOM    250  N   ARG A  32      16.866 -15.510   1.217  1.00 14.66           N  \nATOM    251  CA  ARG A  32      16.105 -15.591  -0.015  1.00 15.94           C  \nATOM    252  C   ARG A  32      15.599 -14.266  -0.527  1.00 15.08           C  \nATOM    253  O   ARG A  32      15.628 -13.961  -1.707  1.00 14.59           O  \nATOM    254  CB  ARG A  32      14.931 -16.544   0.192  1.00 17.02           C  \nATOM    255  CG  ARG A  32      14.060 -16.647  -1.006  1.00 21.60           C  \nATOM    256  N   GLU A  33      15.102 -13.432   0.375  1.00 14.07           N  \nATOM    257  CA  GLU A  33      14.563 -12.176  -0.092  1.00 13.86           C  \nATOM    258  C   GLU A  33      15.666 -11.268  -0.622  1.00 12.47           C  \nATOM    259  O   GLU A  33      15.479 -10.556  -1.570  1.00 14.44           O  \nATOM    260  CB  GLU A  33      13.825 -11.436   1.033  1.00 14.67           C  \nATOM    261  CG  GLU A  33      12.642 -12.229   1.563  1.00 17.13           C  \nATOM    262  CD  GLU A  33      11.572 -12.404   0.510  1.00 20.17           C  \nATOM    263  OE1 GLU A  33      11.467 -11.604  -0.413  1.00 20.09           O  \nATOM    264  OE2 GLU A  33      10.889 -13.467   0.567  1.00 24.99           O  \nATOM    265  N   LEU A  34      16.824 -11.287   0.015  1.00 13.39           N  \nATOM    266  CA  LEU A  34      17.891 -10.392  -0.456  1.00 12.89           C  \nATOM    267  C   LEU A  34      18.503 -10.935  -1.771  1.00 12.50           C  \nATOM    268  O   LEU A  34      18.916 -10.154  -2.649  1.00 12.65           O  \nATOM    269  CB  LEU A  34      18.940 -10.227   0.644  1.00 12.93           C  \nATOM    270  CG  LEU A  34      18.466  -9.646   1.990  1.00 12.89           C  \nATOM    271  CD1 LEU A  34      19.716  -9.397   2.845  1.00 14.02           C  \nATOM    272  CD2 LEU A  34      17.688  -8.346   1.788  1.00 13.51           C  \nATOM    273  N   ILE A  35      18.556 -12.262  -1.921  1.00 12.47           N  \nATOM    274  CA  ILE A  35      19.039 -12.848  -3.183  1.00 12.88           C  \nATOM    275  C   ILE A  35      18.034 -12.523  -4.304  1.00 13.04           C  \nATOM    276  O   ILE A  35      18.399 -12.159  -5.407  1.00 13.57           O  \nATOM    277  CB  ILE A  35      19.287 -14.370  -3.030  1.00 12.90           C  \nATOM    278  CG1 ILE A  35      20.522 -14.589  -2.177  1.00 13.18           C  \nATOM    279  CG2 ILE A  35      19.378 -15.023  -4.483  1.00 12.63           C  \nATOM    280  CD1 ILE A  35      20.810 -16.071  -1.854  1.00 16.31           C  \nATOM    281  N   SER A  36      16.764 -12.596  -3.974  1.00 14.35           N  \nATOM    282  CA  SER A  36      15.734 -12.221  -4.937  1.00 13.99           C  \nATOM    283  C   SER A  36      15.874 -10.755  -5.382  1.00 14.51           C  \nATOM    284  O   SER A  36      15.782 -10.423  -6.584  1.00 14.23           O  \nATOM    285  CB  SER A  36      14.358 -12.432  -4.293  1.00 16.17           C  \nATOM    286  OG  SER A  36      13.375 -12.084  -5.239  1.00 21.10           O  \nATOM    287  N   ASN A  37      16.092  -9.845  -4.422  1.00 13.05           N  \nATOM    288  CA  ASN A  37      16.265  -8.459  -4.810  1.00 12.99           C  \nATOM    289  C   ASN A  37      17.497  -8.223  -5.690  1.00 13.12           C  \nATOM    290  O   ASN A  37      17.456  -7.431  -6.621  1.00 13.24           O  \nATOM    291  CB  ASN A  37      16.388  -7.582  -3.559  1.00 13.52           C  \nATOM    292  CG  ASN A  37      15.069  -7.371  -2.840  1.00 17.86           C  \nATOM    293  OD1 ASN A  37      15.033  -6.613  -1.866  1.00 23.35           O  \nATOM    294  ND2 ASN A  37      14.028  -8.001  -3.271  1.00 16.49           N  \nATOM    295  N   ALA A  38      18.584  -8.907  -5.326  1.00 12.77           N  \nATOM    296  CA  ALA A  38      19.815  -8.876  -6.125  1.00 13.02           C  \nATOM    297  C   ALA A  38      19.535  -9.340  -7.553  1.00 12.05           C  \nATOM    298  O   ALA A  38      19.988  -8.695  -8.507  1.00 12.25           O  \nATOM    299  CB  ALA A  38      20.902  -9.742  -5.476  1.00 13.69           C  \nATOM    300  N   SER A  39      18.824 -10.448  -7.656  1.00 13.06           N  \nATOM    301  CA  SER A  39      18.500 -11.003  -8.988  1.00 12.93           C  \nATOM    302  C   SER A  39      17.668 -10.003  -9.769  1.00 13.20           C  \nATOM    303  O   SER A  39      17.896  -9.778 -10.955  1.00 13.96           O  \nATOM    304  CB  SER A  39      17.768 -12.340  -8.805  1.00 14.53           C  \nATOM    305  OG  SER A  39      17.439 -12.927 -10.093  1.00 17.61           O  \nATOM    306  N   ASP A  40      16.714  -9.364  -9.110  1.00 13.40           N  \nATOM    307  CA  ASP A  40      15.893  -8.381  -9.796  1.00 14.26           C  \nATOM    308  C   ASP A  40      16.747  -7.228 -10.322  1.00 14.50           C  \nATOM    309  O   ASP A  40      16.553  -6.715 -11.410  1.00 13.85           O  \nATOM    310  CB  ASP A  40      14.834  -7.840  -8.854  1.00 16.11           C  \nATOM    311  CG  ASP A  40      13.750  -8.871  -8.539  1.00 20.50           C  \nATOM    312  OD1 ASP A  40      13.700  -9.955  -9.196  1.00 26.06           O  \nATOM    313  OD2 ASP A  40      12.878  -8.665  -7.660  1.00 26.67           O  \nATOM    314  N   ALA A  41      17.719  -6.761  -9.513  1.00 12.23           N  \nATOM    315  CA  ALA A  41      18.537  -5.647  -9.954  1.00 11.86           C  \nATOM    316  C   ALA A  41      19.427  -6.029 -11.116  1.00 12.19           C  \nATOM    317  O   ALA A  41      19.742  -5.187 -11.971  1.00 12.46           O  \nATOM    318  CB  ALA A  41      19.432  -5.156  -8.748  1.00 13.68           C  \nATOM    319  N   LEU A  42      19.865  -7.290 -11.128  1.00 11.91           N  \nATOM    320  CA  LEU A  42      20.674  -7.797 -12.243  1.00 11.90           C  \nATOM    321  C   LEU A  42      19.749  -7.920 -13.504  1.00 11.89           C  \nATOM    322  O   LEU A  42      20.170  -7.626 -14.625  1.00 13.86           O  \nATOM    323  CB  LEU A  42      21.217  -9.177 -11.867  1.00 11.79           C  \nATOM    324  CG  LEU A  42      22.425  -9.047 -10.930  1.00 10.59           C  \nATOM    325  CD1 LEU A  42      22.603 -10.336 -10.157  1.00 10.82           C  \nATOM    326  CD2 LEU A  42      23.702  -8.749 -11.716  1.00 12.07           C  \nATOM    327  N   ASP A  43      18.505  -8.314 -13.300  1.00 12.39           N  \nATOM    328  CA  ASP A  43      17.550  -8.346 -14.413  1.00 14.12           C  \nATOM    329  C   ASP A  43      17.472  -6.988 -15.010  1.00 14.73           C  \nATOM    330  O   ASP A  43      17.430  -6.823 -16.223  1.00 14.72           O  \nATOM    331  CB  ASP A  43      16.183  -8.851 -13.984  1.00 14.76           C  \nATOM    332  CG  ASP A  43      16.116 -10.337 -13.724  1.00 15.12           C  \nATOM    333  OD1 ASP A  43      15.049 -10.695 -13.145  1.00 19.52           O  \nATOM    334  OD2 ASP A  43      17.016 -11.183 -14.007  1.00 16.95           O  \nATOM    335  N   LYS A  44      17.408  -5.979 -14.150  1.00 13.53           N  \nATOM    336  CA  LYS A  44      17.230  -4.615 -14.651  1.00 14.22           C  \nATOM    337  C   LYS A  44      18.400  -4.117 -15.496  1.00 14.37           C  \nATOM    338  O   LYS A  44      18.200  -3.518 -16.552  1.00 14.29           O  \nATOM    339  CB  LYS A  44      16.846  -3.598 -13.544  1.00 14.30           C  \nATOM    340  CG  LYS A  44      15.539  -3.893 -12.801  1.00 20.28           C  \nATOM    341  CD  LYS A  44      14.353  -4.070 -13.683  1.00 29.20           C  \nATOM    342  CE  LYS A  44      13.036  -3.998 -12.860  1.00 34.00           C  \nATOM    343  NZ  LYS A  44      12.369  -5.335 -12.692  1.00 35.02           N  \nATOM    344  N   ILE A  45      19.626  -4.362 -15.059  1.00 12.95           N  \nATOM    345  CA  ILE A  45      20.735  -3.896 -15.872  1.00 14.59           C  \nATOM    346  C   ILE A  45      20.852  -4.701 -17.175  1.00 14.56           C  \nATOM    347  O   ILE A  45      21.233  -4.101 -18.198  1.00 15.02           O  \nATOM    348  CB  ILE A  45      22.056  -3.855 -15.090  1.00 14.32           C  \nATOM    349  CG1 ILE A  45      23.162  -3.181 -15.927  1.00 15.55           C  \nATOM    350  CG2 ILE A  45      22.423  -5.236 -14.629  1.00 16.09           C  \nATOM    351  CD1 ILE A  45      22.910  -1.689 -16.070  1.00 18.20           C  \nATOM    352  N   ARG A  46      20.508  -5.989 -17.141  1.00 14.66           N  \nATOM    353  CA  ARG A  46      20.579  -6.808 -18.364  1.00 16.20           C  \nATOM    354  C   ARG A  46      19.556  -6.247 -19.347  1.00 15.98           C  \nATOM    355  O   ARG A  46      19.843  -6.064 -20.535  1.00 16.23           O  \nATOM    356  CB  ARG A  46      20.245  -8.253 -18.050  1.00 17.46           C  \nATOM    357  CG  ARG A  46      20.530  -9.253 -19.145  1.00 24.26           C  \nATOM    358  CD  ARG A  46      20.930 -10.638 -18.524  1.00 28.56           C  \nATOM    359  NE  ARG A  46      19.873 -11.086 -17.618  1.00 33.89           N  \nATOM    360  CZ  ARG A  46      18.778 -11.691 -18.032  1.00 33.07           C  \nATOM    361  NH1 ARG A  46      18.636 -11.951 -19.332  1.00 35.89           N  \nATOM    362  NH2 ARG A  46      17.837 -12.064 -17.170  1.00 33.67           N  \nATOM    363  N   TYR A  47      18.358  -5.990 -18.855  1.00 14.80           N  \nATOM    364  CA  TYR A  47      17.297  -5.490 -19.747  1.00 14.96           C  \nATOM    365  C   TYR A  47      17.651  -4.098 -20.298  1.00 14.96           C  \nATOM    366  O   TYR A  47      17.504  -3.809 -21.513  1.00 16.15           O  \nATOM    367  CB  TYR A  47      15.953  -5.448 -19.003  1.00 13.85           C  \nATOM    368  CG  TYR A  47      14.805  -5.177 -19.933  1.00 14.55           C  \nATOM    369  CD1 TYR A  47      14.095  -6.205 -20.490  1.00 17.13           C  \nATOM    370  CD2 TYR A  47      14.443  -3.880 -20.181  1.00 16.54           C  \nATOM    371  CE1 TYR A  47      13.040  -5.905 -21.377  1.00 20.17           C  \nATOM    372  CE2 TYR A  47      13.412  -3.580 -21.027  1.00 20.37           C  \nATOM    373  CZ  TYR A  47      12.735  -4.594 -21.596  1.00 19.46           C  \nATOM    374  OH  TYR A  47      11.705  -4.176 -22.427  1.00 27.15           O  \nATOM    375  N   LYS A  48      18.162  -3.216 -19.436  1.00 13.95           N  \nATOM    376  CA  LYS A  48      18.519  -1.879 -19.871  1.00 14.91           C  \nATOM    377  C   LYS A  48      19.582  -1.965 -20.949  1.00 15.86           C  \nATOM    378  O   LYS A  48      19.540  -1.200 -21.937  1.00 17.33           O  \nATOM    379  CB  LYS A  48      19.000  -1.017 -18.683  1.00 16.15           C  \nATOM    380  CG  LYS A  48      19.371   0.429 -19.050  1.00 17.06           C  \nATOM    381  CD  LYS A  48      19.813   1.160 -17.800  1.00 23.42           C  \nATOM    382  CE  LYS A  48      19.836   2.668 -17.965  1.00 28.37           C  \nATOM    383  NZ  LYS A  48      19.344   3.214 -16.637  1.00 30.37           N  \nATOM    384  N   SER A  49      20.498  -2.915 -20.810  1.00 15.95           N  \nATOM    385  CA  SER A  49      21.632  -3.040 -21.710  1.00 16.76           C  \nATOM    386  C   SER A  49      21.223  -3.556 -23.104  1.00 16.96           C  \nATOM    387  O   SER A  49      22.049  -3.487 -24.018  1.00 18.21           O  \nATOM    388  CB  SER A  49      22.712  -3.971 -21.115  1.00 19.00           C  \nATOM    389  OG  SER A  49      22.367  -5.349 -21.248  1.00 24.42           O  \nATOM    390  N   LEU A  50      20.009  -4.083 -23.243  1.00 17.32           N  \nATOM    391  CA  LEU A  50      19.537  -4.568 -24.555  1.00 17.68           C  \nATOM    392  C   LEU A  50      19.563  -3.447 -25.555  1.00 18.56           C  \nATOM    393  O   LEU A  50      19.818  -3.659 -26.718  1.00 19.54           O  \nATOM    394  CB  LEU A  50      18.087  -5.058 -24.466  1.00 17.57           C  \nATOM    395  CG  LEU A  50      17.910  -6.349 -23.712  1.00 17.37           C  \nATOM    396  CD1 LEU A  50      16.418  -6.638 -23.599  1.00 21.58           C  \nATOM    397  CD2 LEU A  50      18.650  -7.488 -24.415  1.00 22.19           C  \nATOM    398  N   SER A  51      19.301  -2.242 -25.088  1.00 18.17           N  \nATOM    399  CA  SER A  51      19.308  -1.058 -25.958  1.00 18.25           C  \nATOM    400  C   SER A  51      20.368  -0.026 -25.629  1.00 20.34           C  \nATOM    401  O   SER A  51      20.533   0.979 -26.326  1.00 21.20           O  \nATOM    402  CB  SER A  51      17.944  -0.380 -25.935  1.00 20.69           C  \nATOM    403  OG  SER A  51      16.959  -1.243 -26.460  1.00 22.34           O  \nATOM    404  N   ASP A  52      21.211  -0.319 -24.638  1.00 20.30           N  \nATOM    405  CA  ASP A  52      22.284   0.598 -24.236  1.00 20.67           C  \nATOM    406  C   ASP A  52      23.417  -0.314 -23.686  1.00 21.11           C  \nATOM    407  O   ASP A  52      23.678  -0.378 -22.482  1.00 20.46           O  \nATOM    408  CB  ASP A  52      21.731   1.542 -23.151  1.00 21.13           C  \nATOM    409  CG  ASP A  52      22.635   2.735 -22.863  1.00 21.46           C  \nATOM    410  OD1 ASP A  52      23.785   2.778 -23.330  1.00 23.40           O  \nATOM    411  OD2 ASP A  52      22.241   3.669 -22.139  1.00 26.89           O  \nATOM    412  N   PRO A  53      24.032  -1.080 -24.553  1.00 20.60           N  \nATOM    413  CA  PRO A  53      25.077  -2.043 -24.203  1.00 20.82           C  \nATOM    414  C   PRO A  53      26.261  -1.471 -23.397  1.00 21.27           C  \nATOM    415  O   PRO A  53      26.871  -2.219 -22.591  1.00 21.38           O  \nATOM    416  CB  PRO A  53      25.542  -2.563 -25.572  1.00 22.97           C  \nATOM    417  CG  PRO A  53      24.879  -1.646 -26.583  1.00 22.00           C  \nATOM    418  CD  PRO A  53      23.654  -1.169 -25.972  1.00 21.84           C  \nATOM    419  N   LYS A  54      26.569  -0.193 -23.565  1.00 21.87           N  \nATOM    420  CA  LYS A  54      27.712   0.367 -22.853  1.00 21.49           C  \nATOM    421  C   LYS A  54      27.440   0.332 -21.349  1.00 21.44           C  \nATOM    422  O   LYS A  54      28.371   0.388 -20.528  1.00 20.69           O  \nATOM    423  CB  LYS A  54      27.965   1.803 -23.276  1.00 22.79           C  \nATOM    424  CG  LYS A  54      29.345   2.276 -22.872  1.00 28.00           C  \nATOM    425  N   GLN A  55      26.180   0.202 -20.987  1.00 19.49           N  \nATOM    426  CA  GLN A  55      25.841   0.214 -19.554  1.00 18.45           C  \nATOM    427  C   GLN A  55      26.484  -0.922 -18.797  1.00 18.80           C  \nATOM    428  O   GLN A  55      26.635  -0.824 -17.555  1.00 17.82           O  \nATOM    429  CB  GLN A  55      24.329   0.202 -19.313  1.00 18.52           C  \nATOM    430  CG  GLN A  55      23.595   1.399 -19.882  1.00 19.34           C  \nATOM    431  CD  GLN A  55      23.429   2.547 -18.902  1.00 25.19           C  \nATOM    432  OE1 GLN A  55      23.674   2.392 -17.696  1.00 23.31           O  \nATOM    433  NE2 GLN A  55      22.977   3.692 -19.397  1.00 23.87           N  \nATOM    434  N   LEU A  56      26.775  -2.016 -19.475  1.00 17.43           N  \nATOM    435  CA  LEU A  56      27.393  -3.154 -18.815  1.00 17.45           C  \nATOM    436  C   LEU A  56      28.878  -2.947 -18.575  1.00 18.38           C  \nATOM    437  O   LEU A  56      29.459  -3.657 -17.754  1.00 19.36           O  \nATOM    438  CB  LEU A  56      27.215  -4.428 -19.654  1.00 18.46           C  \nATOM    439  CG  LEU A  56      25.807  -5.000 -19.689  1.00 18.40           C  \nATOM    440  CD1 LEU A  56      25.687  -6.068 -20.820  1.00 22.89           C  \nATOM    441  CD2 LEU A  56      25.490  -5.626 -18.309  1.00 22.83           C  \nATOM    442  N   GLU A  57      29.500  -2.003 -19.271  1.00 19.23           N  \nATOM    443  CA  GLU A  57      30.970  -1.890 -19.240  1.00 20.61           C  \nATOM    444  C   GLU A  57      31.592  -1.561 -17.889  1.00 20.46           C  \nATOM    445  O   GLU A  57      32.759  -1.873 -17.658  1.00 20.98           O  \nATOM    446  CB  GLU A  57      31.460  -0.893 -20.293  1.00 22.20           C  \nATOM    447  CG  GLU A  57      31.153  -1.356 -21.697  1.00 25.86           C  \nATOM    448  CD  GLU A  57      31.726  -0.397 -22.740  1.00 31.79           C  \nATOM    449  OE1 GLU A  57      32.596   0.426 -22.388  1.00 35.41           O  \nATOM    450  OE2 GLU A  57      31.303  -0.472 -23.912  1.00 36.24           O  \nATOM    451  N   THR A  58      30.803  -0.948 -17.009  1.00 18.87           N  \nATOM    452  CA  THR A  58      31.323  -0.612 -15.687  1.00 18.57           C  \nATOM    453  C   THR A  58      31.541  -1.826 -14.833  1.00 17.97           C  \nATOM    454  O   THR A  58      32.281  -1.768 -13.862  1.00 18.08           O  \nATOM    455  CB  THR A  58      30.380   0.313 -14.956  1.00 16.87           C  \nATOM    456  OG1 THR A  58      29.037  -0.104 -15.221  1.00 17.30           O  \nATOM    457  CG2 THR A  58      30.460   1.693 -15.554  1.00 19.24           C  \nATOM    458  N   GLU A  59      30.948  -2.952 -15.217  1.00 18.08           N  \nATOM    459  CA  GLU A  59      31.133  -4.223 -14.512  1.00 17.74           C  \nATOM    460  C   GLU A  59      30.465  -5.278 -15.358  1.00 18.87           C  \nATOM    461  O   GLU A  59      29.340  -5.693 -15.107  1.00 18.80           O  \nATOM    462  CB  GLU A  59      30.446  -4.174 -13.145  1.00 19.29           C  \nATOM    463  CG  GLU A  59      30.503  -5.516 -12.431  1.00 21.21           C  \nATOM    464  CD  GLU A  59      31.893  -6.104 -12.433  1.00 24.41           C  \nATOM    465  OE1 GLU A  59      32.645  -5.796 -11.480  1.00 29.01           O  \nATOM    466  OE2 GLU A  59      32.256  -6.862 -13.373  1.00 24.34           O  \nATOM    467  N   PRO A  60      31.236  -5.816 -16.300  1.00 18.63           N  \nATOM    468  CA  PRO A  60      30.693  -6.771 -17.261  1.00 19.32           C  \nATOM    469  C   PRO A  60      30.265  -8.084 -16.659  1.00 19.20           C  \nATOM    470  O   PRO A  60      29.477  -8.800 -17.276  1.00 21.25           O  \nATOM    471  CB  PRO A  60      31.862  -7.022 -18.236  1.00 19.50           C  \nATOM    472  CG  PRO A  60      32.881  -6.005 -17.936  1.00 21.70           C  \nATOM    473  CD  PRO A  60      32.672  -5.526 -16.503  1.00 19.71           C  \nATOM    474  N   ASP A  61      30.799  -8.435 -15.493  1.00 19.17           N  \nATOM    475  CA  ASP A  61      30.492  -9.706 -14.826  1.00 19.75           C  \nATOM    476  C   ASP A  61      29.175  -9.531 -14.026  1.00 19.06           C  \nATOM    477  O   ASP A  61      29.070  -8.618 -13.213  1.00 19.50           O  \nATOM    478  CB  ASP A  61      31.634 -10.065 -13.905  1.00 19.45           C  \nATOM    479  CG  ASP A  61      32.766 -10.796 -14.643  1.00 25.63           C  \nATOM    480  OD1 ASP A  61      32.480 -11.291 -15.752  1.00 32.09           O  \nATOM    481  OD2 ASP A  61      33.929 -10.846 -14.225  1.00 30.10           O  \nATOM    482  N   LEU A  62      28.200 -10.423 -14.281  1.00 17.71           N  \nATOM    483  CA  LEU A  62      26.872 -10.405 -13.599  1.00 16.84           C  \nATOM    484  C   LEU A  62      26.811 -11.503 -12.563  1.00 16.65           C  \nATOM    485  O   LEU A  62      26.804 -12.678 -12.901  1.00 17.45           O  \nATOM    486  CB  LEU A  62      25.729 -10.553 -14.595  1.00 17.76           C  \nATOM    487  CG  LEU A  62      25.738  -9.589 -15.774  1.00 19.97           C  \nATOM    488  CD1 LEU A  62      24.442  -9.721 -16.546  1.00 24.98           C  \nATOM    489  CD2 LEU A  62      25.902  -8.159 -15.283  1.00 24.27           C  \nATOM    490  N   PHE A  63      26.773 -11.121 -11.275  1.00 14.60           N  \nATOM    491  CA  PHE A  63      26.878 -12.095 -10.204  1.00 14.18           C  \nATOM    492  C   PHE A  63      26.203 -11.611  -8.922  1.00 12.23           C  \nATOM    493  O   PHE A  63      25.930 -10.413  -8.792  1.00 13.01           O  \nATOM    494  CB  PHE A  63      28.387 -12.375  -9.875  1.00 14.58           C  \nATOM    495  CG  PHE A  63      29.150 -11.134  -9.474  1.00 16.43           C  \nATOM    496  CD1 PHE A  63      29.164 -10.714  -8.140  1.00 17.33           C  \nATOM    497  CD2 PHE A  63      29.787 -10.349 -10.427  1.00 16.27           C  \nATOM    498  CE1 PHE A  63      29.830  -9.560  -7.740  1.00 16.94           C  \nATOM    499  CE2 PHE A  63      30.469  -9.164 -10.042  1.00 15.90           C  \nATOM    500  CZ  PHE A  63      30.486  -8.768  -8.681  1.00 17.80           C  \nATOM    501  N   ILE A  64      25.976 -12.569  -8.029  1.00 12.55           N  \nATOM    502  CA  ILE A  64      25.568 -12.290  -6.654  1.00 13.47           C  \nATOM    503  C   ILE A  64      26.701 -12.910  -5.817  1.00 14.61           C  \nATOM    504  O   ILE A  64      27.173 -14.025  -6.103  1.00 15.90           O  \nATOM    505  CB  ILE A  64      24.233 -12.954  -6.355  1.00 12.93           C  \nATOM    506  CG1 ILE A  64      23.179 -12.381  -7.293  1.00 12.51           C  \nATOM    507  CG2 ILE A  64      23.858 -12.751  -4.859  1.00 14.64           C  \nATOM    508  CD1 ILE A  64      21.821 -13.108  -7.196  1.00 14.58           C  \nATOM    509  N   ARG A  65      27.182 -12.171  -4.815  1.00 13.37           N  \nATOM    510  CA  ARG A  65      28.352 -12.627  -4.070  1.00 13.72           C  \nATOM    511  C   ARG A  65      28.104 -12.417  -2.594  1.00 12.95           C  \nATOM    512  O   ARG A  65      27.690 -11.334  -2.176  1.00 13.38           O  \nATOM    513  CB  ARG A  65      29.597 -11.853  -4.532  1.00 13.58           C  \nATOM    514  CG  ARG A  65      30.881 -12.267  -3.777  1.00 15.26           C  \nATOM    515  CD  ARG A  65      32.138 -11.550  -4.320  1.00 18.55           C  \nATOM    516  NE  ARG A  65      32.254 -11.791  -5.760  1.00 20.69           N  \nATOM    517  CZ  ARG A  65      32.780 -10.952  -6.642  1.00 21.46           C  \nATOM    518  NH1 ARG A  65      33.317  -9.790  -6.278  1.00 22.25           N  \nATOM    519  NH2 ARG A  65      32.767 -11.312  -7.921  1.00 22.58           N  \nATOM    520  N   ILE A  66      28.331 -13.455  -1.800  1.00 12.08           N  \nATOM    521  CA  ILE A  66      28.068 -13.377  -0.382  1.00 12.85           C  \nATOM    522  C   ILE A  66      29.415 -13.499   0.344  1.00 13.11           C  \nATOM    523  O   ILE A  66      30.131 -14.475   0.107  1.00 13.10           O  \nATOM    524  CB  ILE A  66      27.113 -14.529   0.018  1.00 12.84           C  \nATOM    525  CG1 ILE A  66      25.767 -14.304  -0.700  1.00 16.82           C  \nATOM    526  CG2 ILE A  66      26.908 -14.541   1.518  1.00 13.90           C  \nATOM    527  CD1 ILE A  66      24.900 -15.521  -0.616  1.00 20.38           C  \nATOM    528  N   THR A  67      29.736 -12.546   1.224  1.00 12.90           N  \nATOM    529  CA  THR A  67      31.015 -12.476   1.966  1.00 13.50           C  \nATOM    530  C   THR A  67      30.788 -12.327   3.447  1.00 14.05           C  \nATOM    531  O   THR A  67      30.462 -11.243   3.934  1.00 12.95           O  \nATOM    532  CB  THR A  67      31.841 -11.273   1.485  1.00 13.52           C  \nATOM    533  OG1 THR A  67      32.031 -11.340   0.065  1.00 14.65           O  \nATOM    534  CG2 THR A  67      33.251 -11.338   2.061  1.00 12.87           C  \nATOM    535  N   PRO A  68      31.000 -13.388   4.211  1.00 15.08           N  \nATOM    536  CA  PRO A  68      30.992 -13.205   5.656  1.00 15.99           C  \nATOM    537  C   PRO A  68      32.274 -12.530   6.125  1.00 16.99           C  \nATOM    538  O   PRO A  68      33.354 -12.809   5.583  1.00 17.28           O  \nATOM    539  CB  PRO A  68      30.926 -14.642   6.216  1.00 16.79           C  \nATOM    540  CG  PRO A  68      31.182 -15.510   5.112  1.00 18.04           C  \nATOM    541  CD  PRO A  68      31.165 -14.783   3.795  1.00 16.14           C  \nATOM    542  N   LYS A  69      32.144 -11.632   7.087  1.00 16.62           N  \nATOM    543  CA  LYS A  69      33.264 -10.931   7.705  1.00 17.18           C  \nATOM    544  C   LYS A  69      33.165 -11.130   9.206  1.00 18.71           C  \nATOM    545  O   LYS A  69      32.718 -10.229   9.930  1.00 16.77           O  \nATOM    546  CB  LYS A  69      33.216  -9.454   7.355  1.00 17.12           C  \nATOM    547  CG  LYS A  69      33.457  -9.194   5.847  1.00 17.38           C  \nATOM    548  CD  LYS A  69      33.436  -7.691   5.570  1.00 18.98           C  \nATOM    549  CE  LYS A  69      33.964  -7.347   4.160  1.00 21.71           C  \nATOM    550  NZ  LYS A  69      33.957  -5.867   3.919  1.00 22.59           N  \nATOM    551  N   PRO A  70      33.626 -12.297   9.650  1.00 20.56           N  \nATOM    552  CA  PRO A  70      33.454 -12.729  11.055  1.00 22.21           C  \nATOM    553  C   PRO A  70      33.941 -11.728  12.090  1.00 23.44           C  \nATOM    554  O   PRO A  70      33.165 -11.417  12.995  1.00 24.42           O  \nATOM    555  CB  PRO A  70      34.241 -14.041  11.107  1.00 22.44           C  \nATOM    556  CG  PRO A  70      34.290 -14.544   9.686  1.00 24.03           C  \nATOM    557  CD  PRO A  70      34.316 -13.311   8.836  1.00 20.93           C  \nATOM    558  N   GLU A  71      35.157 -11.201  11.950  1.00 24.87           N  \nATOM    559  CA  GLU A  71      35.680 -10.283  12.947  1.00 25.52           C  \nATOM    560  C   GLU A  71      34.784  -9.077  13.183  1.00 25.63           C  \nATOM    561  O   GLU A  71      34.666  -8.604  14.296  1.00 26.65           O  \nATOM    562  CB  GLU A  71      37.086  -9.778  12.558  1.00 27.14           C  \nATOM    563  N   GLN A  72      34.125  -8.588  12.137  1.00 22.63           N  \nATOM    564  CA  GLN A  72      33.201  -7.466  12.306  1.00 21.99           C  \nATOM    565  C   GLN A  72      31.739  -7.891  12.529  1.00 19.55           C  \nATOM    566  O   GLN A  72      30.891  -7.010  12.685  1.00 20.60           O  \nATOM    567  CB  GLN A  72      33.262  -6.507  11.115  1.00 22.56           C  \nATOM    568  CG  GLN A  72      34.685  -6.033  10.771  1.00 27.88           C  \nATOM    569  CD  GLN A  72      35.270  -6.873   9.650  1.00 33.64           C  \nATOM    570  OE1 GLN A  72      35.560  -8.056   9.850  1.00 35.29           O  \nATOM    571  NE2 GLN A  72      35.374  -6.292   8.447  1.00 34.20           N  \nATOM    572  N   LYS A  73      31.474  -9.193  12.551  1.00 18.63           N  \nATOM    573  CA  LYS A  73      30.120  -9.693  12.708  1.00 17.46           C  \nATOM    574  C   LYS A  73      29.261  -9.132  11.621  1.00 15.77           C  \nATOM    575  O   LYS A  73      28.131  -8.692  11.842  1.00 17.01           O  \nATOM    576  CB  LYS A  73      29.529  -9.379  14.083  1.00 18.93           C  \nATOM    577  CG  LYS A  73      30.306 -10.125  15.214  1.00 21.20           C  \nATOM    578  CD  LYS A  73      29.596  -9.904  16.541  1.00 27.87           C  \nATOM    579  CE  LYS A  73      29.704  -8.451  16.961  1.00 33.10           C  \nATOM    580  NZ  LYS A  73      29.351  -8.261  18.413  1.00 38.37           N  \nATOM    581  N   VAL A  74      29.816  -9.171  10.426  1.00 15.70           N  \nATOM    582  CA  VAL A  74      29.104  -8.638   9.257  1.00 14.28           C  \nATOM    583  C   VAL A  74      28.897  -9.686   8.201  1.00 14.18           C  \nATOM    584  O   VAL A  74      29.743 -10.550   7.976  1.00 15.18           O  \nATOM    585  CB  VAL A  74      29.954  -7.488   8.690  1.00 15.41           C  \nATOM    586  CG1 VAL A  74      29.681  -7.238   7.190  1.00 14.46           C  \nATOM    587  CG2 VAL A  74      29.709  -6.217   9.504  1.00 13.68           C  \nATOM    588  N   LEU A  75      27.742  -9.644   7.526  1.00 12.63           N  \nATOM    589  CA  LEU A  75      27.534 -10.477   6.340  1.00 12.81           C  \nATOM    590  C   LEU A  75      27.226  -9.524   5.179  1.00 12.09           C  \nATOM    591  O   LEU A  75      26.321  -8.725   5.299  1.00 12.18           O  \nATOM    592  CB  LEU A  75      26.348 -11.410   6.532  1.00 12.08           C  \nATOM    593  CG  LEU A  75      26.035 -12.323   5.357  1.00 12.97           C  \nATOM    594  CD1 LEU A  75      27.205 -13.294   5.066  1.00 14.11           C  \nATOM    595  CD2 LEU A  75      24.774 -13.090   5.660  1.00 13.64           C  \nATOM    596  N   GLU A  76      27.993  -9.614   4.078  1.00 11.33           N  \nATOM    597  CA  GLU A  76      27.719  -8.757   2.900  1.00 11.66           C  \nATOM    598  C   GLU A  76      27.086  -9.542   1.777  1.00 11.82           C  \nATOM    599  O   GLU A  76      27.482 -10.667   1.514  1.00 12.57           O  \nATOM    600  CB  GLU A  76      29.029  -8.139   2.386  1.00 10.43           C  \nATOM    601  CG  GLU A  76      29.507  -7.032   3.305  1.00 12.82           C  \nATOM    602  CD  GLU A  76      30.767  -6.341   2.855  1.00 15.10           C  \nATOM    603  OE1 GLU A  76      31.257  -6.634   1.744  1.00 15.58           O  \nATOM    604  OE2 GLU A  76      31.262  -5.480   3.620  1.00 15.13           O  \nATOM    605  N   ILE A  77      26.102  -8.948   1.095  1.00 11.91           N  \nATOM    606  CA  ILE A  77      25.461  -9.586  -0.071  1.00 13.41           C  \nATOM    607  C   ILE A  77      25.593  -8.533  -1.154  1.00 12.39           C  \nATOM    608  O   ILE A  77      24.977  -7.461  -1.093  1.00 12.40           O  \nATOM    609  CB  ILE A  77      23.993  -9.832   0.176  1.00 14.23           C  \nATOM    610  CG1 ILE A  77      23.820 -10.889   1.247  1.00 18.68           C  \nATOM    611  CG2 ILE A  77      23.364 -10.499  -1.037  1.00 16.45           C  \nATOM    612  CD1 ILE A  77      23.471 -10.294   2.495  1.00 22.52           C  \nATOM    613  N   ARG A  78      26.367  -8.886  -2.175  1.00 12.30           N  \nATOM    614  CA  ARG A  78      26.685  -7.951  -3.252  1.00 12.47           C  \nATOM    615  C   ARG A  78      26.074  -8.444  -4.548  1.00 12.07           C  \nATOM    616  O   ARG A  78      26.020  -9.640  -4.827  1.00 13.61           O  \nATOM    617  CB  ARG A  78      28.196  -7.931  -3.428  1.00 12.22           C  \nATOM    618  CG  ARG A  78      28.699  -7.121  -4.646  1.00 14.93           C  \nATOM    619  CD  ARG A  78      30.240  -6.831  -4.633  1.00 18.53           C  \nATOM    620  NE  ARG A  78      30.682  -6.055  -5.800  1.00 17.99           N  \nATOM    621  CZ  ARG A  78      31.898  -5.693  -5.988  1.00 20.83           C  \nATOM    622  NH1 ARG A  78      32.840  -6.079  -5.116  1.00 24.76           N  \nATOM    623  NH2 ARG A  78      32.205  -4.971  -7.055  1.00 25.64           N  \nATOM    624  N   ASP A  79      25.658  -7.498  -5.371  1.00 11.40           N  \nATOM    625  CA  ASP A  79      25.303  -7.872  -6.742  1.00 11.41           C  \nATOM    626  C   ASP A  79      25.909  -6.823  -7.659  1.00 11.19           C  \nATOM    627  O   ASP A  79      26.249  -5.694  -7.243  1.00 11.62           O  \nATOM    628  CB  ASP A  79      23.775  -7.954  -6.931  1.00 11.82           C  \nATOM    629  CG  ASP A  79      23.109  -6.650  -6.688  1.00 10.90           C  \nATOM    630  OD1 ASP A  79      22.421  -6.453  -5.650  1.00 13.93           O  \nATOM    631  OD2 ASP A  79      23.192  -5.712  -7.493  1.00 12.45           O  \nATOM    632  N   SER A  80      26.048  -7.197  -8.924  1.00 12.54           N  \nATOM    633  CA  SER A  80      26.479  -6.241  -9.949  1.00 12.23           C  \nATOM    634  C   SER A  80      25.266  -5.801 -10.803  1.00 12.15           C  \nATOM    635  O   SER A  80      25.356  -5.634 -12.038  1.00 12.77           O  \nATOM    636  CB  SER A  80      27.593  -6.810 -10.823  1.00 12.57           C  \nATOM    637  OG  SER A  80      27.229  -8.106 -11.306  1.00 13.60           O  \nATOM    638  N   GLY A  81      24.132  -5.628 -10.154  1.00 11.30           N  \nATOM    639  CA  GLY A  81      22.935  -5.097 -10.802  1.00 12.18           C  \nATOM    640  C   GLY A  81      22.996  -3.634 -11.141  1.00 10.98           C  \nATOM    641  O   GLY A  81      24.048  -3.016 -11.222  1.00 12.29           O  \nATOM    642  N   ILE A  82      21.803  -3.073 -11.371  1.00 11.99           N  \nATOM    643  CA  ILE A  82      21.710  -1.715 -11.871  1.00 13.69           C  \nATOM    644  C   ILE A  82      22.172  -0.663 -10.848  1.00 12.76           C  \nATOM    645  O   ILE A  82      22.531   0.450 -11.211  1.00 13.99           O  \nATOM    646  CB  ILE A  82      20.280  -1.455 -12.388  1.00 14.44           C  \nATOM    647  CG1 ILE A  82      20.207  -0.140 -13.137  1.00 17.06           C  \nATOM    648  CG2 ILE A  82      19.294  -1.463 -11.260  1.00 16.36           C  \nATOM    649  CD1 ILE A  82      19.110  -0.202 -14.201  1.00 19.33           C  \nATOM    650  N   GLY A  83      22.220  -1.032  -9.562  1.00 12.09           N  \nATOM    651  CA  GLY A  83      22.608  -0.020  -8.600  1.00 12.95           C  \nATOM    652  C   GLY A  83      21.503   1.008  -8.337  1.00 13.05           C  \nATOM    653  O   GLY A  83      20.432   1.031  -8.986  1.00 13.52           O  \nATOM    654  N   MET A  84      21.794   1.937  -7.424  1.00 11.90           N  \nATOM    655  CA  MET A  84      20.880   3.012  -7.072  1.00 11.82           C  \nATOM    656  C   MET A  84      21.658   4.320  -6.913  1.00 12.29           C  \nATOM    657  O   MET A  84      22.675   4.336  -6.238  1.00 12.49           O  \nATOM    658  CB  MET A  84      20.185   2.707  -5.728  1.00 12.94           C  \nATOM    659  CG  MET A  84      19.116   1.619  -5.855  1.00 13.41           C  \nATOM    660  SD  MET A  84      18.376   1.198  -4.277  1.00 15.75           S  \nATOM    661  CE  MET A  84      19.571   0.058  -3.679  1.00 17.75           C  \nATOM    662  N   THR A  85      21.196   5.401  -7.556  1.00 12.06           N  \nATOM    663  CA  THR A  85      21.726   6.740  -7.329  1.00 11.66           C  \nATOM    664  C   THR A  85      21.335   7.215  -5.919  1.00 11.75           C  \nATOM    665  O   THR A  85      20.554   6.575  -5.209  1.00 12.17           O  \nATOM    666  CB  THR A  85      21.088   7.735  -8.306  1.00 12.16           C  \nATOM    667  OG1 THR A  85      19.684   7.821  -8.029  1.00 15.14           O  \nATOM    668  CG2 THR A  85      21.197   7.186  -9.704  1.00 12.35           C  \nATOM    669  N   LYS A  86      21.916   8.341  -5.495  1.00 12.63           N  \nATOM    670  CA  LYS A  86      21.531   8.917  -4.213  1.00 13.17           C  \nATOM    671  C   LYS A  86      20.010   9.078  -4.105  1.00 13.42           C  \nATOM    672  O   LYS A  86      19.403   8.679  -3.101  1.00 12.88           O  \nATOM    673  CB  LYS A  86      22.205  10.281  -4.047  1.00 13.11           C  \nATOM    674  CG  LYS A  86      21.924  10.940  -2.716  1.00 14.52           C  \nATOM    675  CD  LYS A  86      22.523  12.340  -2.674  1.00 17.44           C  \nATOM    676  CE  LYS A  86      22.196  12.983  -1.370  1.00 21.81           C  \nATOM    677  NZ  LYS A  86      22.725  14.374  -1.345  1.00 25.44           N  \nATOM    678  N   ALA A  87      19.405   9.638  -5.167  1.00 13.68           N  \nATOM    679  CA  ALA A  87      17.965   9.847  -5.136  1.00 14.26           C  \nATOM    680  C   ALA A  87      17.188   8.540  -5.080  1.00 13.89           C  \nATOM    681  O   ALA A  87      16.185   8.484  -4.388  1.00 14.98           O  \nATOM    682  CB  ALA A  87      17.524  10.660  -6.369  1.00 14.72           C  \nATOM    683  N   GLU A  88      17.675   7.511  -5.759  1.00 13.78           N  \nATOM    684  CA  GLU A  88      16.993   6.213  -5.722  1.00 13.30           C  \nATOM    685  C   GLU A  88      17.121   5.568  -4.357  1.00 12.84           C  \nATOM    686  O   GLU A  88      16.201   4.899  -3.874  1.00 14.63           O  \nATOM    687  CB  GLU A  88      17.519   5.291  -6.806  1.00 14.68           C  \nATOM    688  CG  GLU A  88      17.055   5.749  -8.190  1.00 15.76           C  \nATOM    689  CD  GLU A  88      17.705   5.029  -9.319  1.00 21.27           C  \nATOM    690  OE1 GLU A  88      18.862   4.608  -9.227  1.00 15.60           O  \nATOM    691  OE2 GLU A  88      17.057   4.951 -10.380  1.00 26.24           O  \nATOM    692  N   LEU A  89      18.282   5.729  -3.719  1.00 12.80           N  \nATOM    693  CA  LEU A  89      18.410   5.165  -2.378  1.00 12.81           C  \nATOM    694  C   LEU A  89      17.393   5.780  -1.434  1.00 14.77           C  \nATOM    695  O   LEU A  89      16.708   5.071  -0.678  1.00 15.82           O  \nATOM    696  CB  LEU A  89      19.820   5.440  -1.810  1.00 13.17           C  \nATOM    697  CG  LEU A  89      20.905   4.582  -2.450  1.00 11.59           C  \nATOM    698  CD1 LEU A  89      22.276   5.147  -2.012  1.00 14.15           C  \nATOM    699  CD2 LEU A  89      20.828   3.120  -1.998  1.00 12.52           C  \nATOM    700  N   ILE A  90      17.310   7.104  -1.459  1.00 14.92           N  \nATOM    701  CA  ILE A  90      16.364   7.816  -0.592  1.00 16.06           C  \nATOM    702  C   ILE A  90      14.937   7.364  -0.896  1.00 17.30           C  \nATOM    703  O   ILE A  90      14.174   7.006   0.031  1.00 18.87           O  \nATOM    704  CB  ILE A  90      16.525   9.287  -0.817  1.00 13.89           C  \nATOM    705  CG1 ILE A  90      17.930   9.737  -0.379  1.00 16.63           C  \nATOM    706  CG2 ILE A  90      15.428  10.112  -0.047  1.00 17.66           C  \nATOM    707  CD1 ILE A  90      18.233  11.173  -0.798  1.00 16.56           C  \nATOM    708  N   ASN A  91      14.593   7.288  -2.176  1.00 17.39           N  \nATOM    709  CA  ASN A  91      13.230   6.926  -2.596  1.00 19.23           C  \nATOM    710  C   ASN A  91      12.907   5.447  -2.401  1.00 19.37           C  \nATOM    711  O   ASN A  91      11.871   5.096  -1.786  1.00 20.83           O  \nATOM    712  CB  ASN A  91      13.036   7.331  -4.075  1.00 19.87           C  \nATOM    713  CG  ASN A  91      11.552   7.244  -4.531  1.00 23.09           C  \nATOM    714  OD1 ASN A  91      10.662   7.733  -3.840  1.00 26.42           O  \nATOM    715  ND2 ASN A  91      11.309   6.615  -5.666  1.00 26.08           N  \nATOM    716  N   ASN A  92      13.749   4.572  -2.928  1.00 17.44           N  \nATOM    717  CA  ASN A  92      13.468   3.135  -2.893  1.00 18.15           C  \nATOM    718  C   ASN A  92      13.463   2.565  -1.493  1.00 18.04           C  \nATOM    719  O   ASN A  92      12.688   1.662  -1.191  1.00 19.98           O  \nATOM    720  CB  ASN A  92      14.475   2.342  -3.754  1.00 18.82           C  \nATOM    721  CG  ASN A  92      14.326   2.614  -5.242  1.00 20.94           C  \nATOM    722  OD1 ASN A  92      13.386   3.298  -5.674  1.00 25.18           O  \nATOM    723  ND2 ASN A  92      15.294   2.135  -6.029  1.00 20.73           N  \nATOM    724  N   LEU A  93      14.358   3.069  -0.643  1.00 16.10           N  \nATOM    725  CA  LEU A  93      14.523   2.480   0.680  1.00 15.44           C  \nATOM    726  C   LEU A  93      13.815   3.191   1.823  1.00 16.19           C  \nATOM    727  O   LEU A  93      13.507   2.587   2.866  1.00 16.86           O  \nATOM    728  CB  LEU A  93      16.009   2.280   0.982  1.00 14.08           C  \nATOM    729  CG  LEU A  93      16.784   1.547  -0.114  1.00 14.17           C  \nATOM    730  CD1 LEU A  93      18.242   1.424   0.293  1.00 14.27           C  \nATOM    731  CD2 LEU A  93      16.203   0.130  -0.341  1.00 17.07           C  \nATOM    732  N   GLY A  94      13.553   4.485   1.636  1.00 16.50           N  \nATOM    733  CA  GLY A  94      12.895   5.217   2.682  1.00 18.50           C  \nATOM    734  C   GLY A  94      11.469   5.677   2.398  1.00 21.34           C  \nATOM    735  O   GLY A  94      10.821   6.178   3.313  1.00 20.50           O  \nATOM    736  N   THR A  95      10.982   5.471   1.170  1.00 21.68           N  \nATOM    737  CA  THR A  95       9.665   5.967   0.745  1.00 24.08           C  \nATOM    738  C   THR A  95       8.658   4.978   0.095  1.00 23.36           C  \nATOM    739  O   THR A  95       7.529   4.846   0.561  1.00 23.74           O  \nATOM    740  CB  THR A  95       9.861   7.053  -0.280  1.00 24.87           C  \nATOM    741  OG1 THR A  95      10.420   8.204   0.346  1.00 30.63           O  \nATOM    742  CG2 THR A  95       8.485   7.512  -0.788  1.00 26.23           C  \nATOM    743  N   ILE A  96       9.057   4.351  -1.014  1.00 24.29           N  \nATOM    744  CA  ILE A  96       8.121   3.604  -1.874  1.00 24.83           C  \nATOM    745  C   ILE A  96       7.557   2.364  -1.232  1.00 25.04           C  \nATOM    746  O   ILE A  96       6.511   1.857  -1.681  1.00 25.75           O  \nATOM    747  CB  ILE A  96       8.725   3.262  -3.269  1.00 25.27           C  \nATOM    748  CG1 ILE A  96       9.824   2.200  -3.158  1.00 26.83           C  \nATOM    749  CG2 ILE A  96       9.204   4.513  -4.009  1.00 26.39           C  \nATOM    750  CD1 ILE A  96      10.302   1.661  -4.535  1.00 30.12           C  \nATOM    751  N   ALA A  97       8.227   1.871  -0.190  1.00 23.96           N  \nATOM    752  CA  ALA A  97       7.738   0.715   0.533  1.00 24.57           C  \nATOM    753  C   ALA A  97       6.566   0.990   1.471  1.00 24.96           C  \nATOM    754  O   ALA A  97       6.041   0.065   2.088  1.00 25.75           O  \nATOM    755  CB  ALA A  97       8.875   0.025   1.288  1.00 23.80           C  \nATOM    756  N   LYS A  98       6.154   2.247   1.582  1.00 25.53           N  \nATOM    757  CA  LYS A  98       5.032   2.582   2.445  1.00 26.29           C  \nATOM    758  C   LYS A  98       3.795   1.692   2.184  1.00 26.96           C  \nATOM    759  O   LYS A  98       3.263   1.080   3.130  1.00 29.61           O  \nATOM    760  CB  LYS A  98       4.677   4.065   2.235  1.00 26.01           C  \nATOM    761  N   SER A  99       3.384   1.544   0.930  1.00 27.94           N  \nATOM    762  CA  SER A  99       2.134   0.865   0.640  1.00 28.50           C  \nATOM    763  C   SER A  99       2.224  -0.628   0.967  1.00 27.30           C  \nATOM    764  O   SER A  99       1.362  -1.197   1.650  1.00 28.11           O  \nATOM    765  CB  SER A  99       1.751   1.076  -0.817  1.00 29.09           C  \nATOM    766  OG  SER A  99       2.634   0.326  -1.608  1.00 34.91           O  \nATOM    767  N   GLY A 100       3.261  -1.278   0.470  1.00 26.28           N  \nATOM    768  CA  GLY A 100       3.438  -2.686   0.797  1.00 24.97           C  \nATOM    769  C   GLY A 100       3.518  -2.942   2.296  1.00 23.62           C  \nATOM    770  O   GLY A 100       2.966  -3.956   2.758  1.00 21.30           O  \nATOM    771  N   THR A 101       4.247  -2.101   3.042  1.00 22.40           N  \nATOM    772  CA  THR A 101       4.452  -2.363   4.450  1.00 22.75           C  \nATOM    773  C   THR A 101       3.108  -2.308   5.168  1.00 22.69           C  \nATOM    774  O   THR A 101       2.848  -3.130   6.000  1.00 21.58           O  \nATOM    775  CB  THR A 101       5.524  -1.456   5.212  1.00 23.07           C  \nATOM    776  OG1 THR A 101       5.133  -0.081   5.240  1.00 25.02           O  \nATOM    777  CG2 THR A 101       6.892  -1.481   4.505  1.00 22.76           C  \nATOM    778  N   LYS A 102       2.266  -1.342   4.825  1.00 23.73           N  \nATOM    779  CA  LYS A 102       0.972  -1.252   5.501  1.00 24.00           C  \nATOM    780  C   LYS A 102       0.128  -2.505   5.307  1.00 23.10           C  \nATOM    781  O   LYS A 102      -0.338  -3.128   6.275  1.00 23.57           O  \nATOM    782  CB  LYS A 102       0.197   0.005   5.080  1.00 24.94           C  \nATOM    783  CG  LYS A 102      -0.912   0.322   6.059  1.00 27.73           C  \nATOM    784  N   ALA A 103      -0.038  -2.901   4.058  1.00 22.87           N  \nATOM    785  CA  ALA A 103      -0.783  -4.105   3.754  1.00 20.64           C  \nATOM    786  C   ALA A 103      -0.167  -5.351   4.402  1.00 19.07           C  \nATOM    787  O   ALA A 103      -0.866  -6.213   4.882  1.00 19.19           O  \nATOM    788  CB  ALA A 103      -0.895  -4.281   2.247  1.00 22.95           C  \nATOM    789  N   PHE A 104       1.152  -5.450   4.392  1.00 17.13           N  \nATOM    790  CA  PHE A 104       1.797  -6.616   5.017  1.00 15.24           C  \nATOM    791  C   PHE A 104       1.565  -6.636   6.531  1.00 15.56           C  \nATOM    792  O   PHE A 104       1.351  -7.710   7.101  1.00 15.96           O  \nATOM    793  CB  PHE A 104       3.307  -6.586   4.736  1.00 15.70           C  \nATOM    794  CG  PHE A 104       4.035  -7.726   5.317  1.00 12.43           C  \nATOM    795  CD1 PHE A 104       3.633  -9.044   5.046  1.00 16.27           C  \nATOM    796  CD2 PHE A 104       5.136  -7.515   6.126  1.00 14.81           C  \nATOM    797  CE1 PHE A 104       4.373 -10.105   5.622  1.00 15.60           C  \nATOM    798  CE2 PHE A 104       5.859  -8.562   6.662  1.00 17.55           C  \nATOM    799  CZ  PHE A 104       5.459  -9.848   6.421  1.00 15.62           C  \nATOM    800  N   MET A 105       1.636  -5.487   7.193  1.00 16.45           N  \nATOM    801  CA  MET A 105       1.397  -5.502   8.624  1.00 16.05           C  \nATOM    802  C   MET A 105      -0.005  -5.915   8.979  1.00 16.91           C  \nATOM    803  O   MET A 105      -0.195  -6.553  10.014  1.00 17.10           O  \nATOM    804  CB  MET A 105       1.674  -4.131   9.237  1.00 16.66           C  \nATOM    805  CG  MET A 105       3.154  -3.834   9.195  1.00 17.35           C  \nATOM    806  SD  MET A 105       3.589  -2.287  10.105  1.00 20.19           S  \nATOM    807  CE  MET A 105       3.020  -1.198   9.041  1.00 17.97           C  \nATOM    808  N   GLU A 106      -0.963  -5.543   8.153  1.00 16.85           N  \nATOM    809  CA  GLU A 106      -2.355  -5.959   8.400  1.00 18.32           C  \nATOM    810  C   GLU A 106      -2.448  -7.474   8.236  1.00 19.34           C  \nATOM    811  O   GLU A 106      -3.151  -8.162   9.011  1.00 20.11           O  \nATOM    812  CB  GLU A 106      -3.285  -5.248   7.461  1.00 20.07           C  \nATOM    813  CG  GLU A 106      -3.339  -3.746   7.749  1.00 24.58           C  \nATOM    814  CD  GLU A 106      -4.107  -2.973   6.697  1.00 33.23           C  \nATOM    815  OE1 GLU A 106      -4.212  -3.460   5.564  1.00 37.02           O  \nATOM    816  OE2 GLU A 106      -4.598  -1.863   7.009  1.00 40.23           O  \nATOM    817  N   ALA A 107      -1.752  -8.008   7.223  1.00 17.43           N  \nATOM    818  CA  ALA A 107      -1.713  -9.451   7.062  1.00 18.02           C  \nATOM    819  C   ALA A 107      -1.063 -10.143   8.263  1.00 18.06           C  \nATOM    820  O   ALA A 107      -1.566 -11.164   8.713  1.00 17.92           O  \nATOM    821  CB  ALA A 107      -1.043  -9.873   5.687  1.00 16.98           C  \nATOM    822  N   LEU A 108       0.048  -9.594   8.774  1.00 17.66           N  \nATOM    823  CA  LEU A 108       0.709 -10.140   9.943  1.00 18.18           C  \nATOM    824  C   LEU A 108      -0.296 -10.140  11.088  1.00 18.32           C  \nATOM    825  O   LEU A 108      -0.379 -11.116  11.836  1.00 19.56           O  \nATOM    826  CB  LEU A 108       1.927  -9.300  10.337  1.00 17.94           C  \nATOM    827  CG  LEU A 108       3.133  -9.495   9.400  1.00 18.20           C  \nATOM    828  CD1 LEU A 108       4.257  -8.547   9.875  1.00 18.57           C  \nATOM    829  CD2 LEU A 108       3.635 -10.934   9.401  1.00 18.81           C  \nATOM    830  N   SER A 109      -1.070  -9.074  11.216  1.00 20.01           N  \nATOM    831  CA  SER A 109      -2.043  -8.976  12.305  1.00 22.25           C  \nATOM    832  C   SER A 109      -2.966 -10.179  12.323  1.00 22.34           C  \nATOM    833  O   SER A 109      -3.370 -10.694  13.373  1.00 23.41           O  \nATOM    834  CB  SER A 109      -2.941  -7.764  12.101  1.00 22.88           C  \nATOM    835  OG  SER A 109      -2.353  -6.599  12.613  1.00 32.91           O  \nATOM    836  N   ALA A 110      -3.328 -10.606  11.125  1.00 20.39           N  \nATOM    837  CA  ALA A 110      -4.329 -11.661  10.944  1.00 19.69           C  \nATOM    838  C   ALA A 110      -3.761 -13.035  11.043  1.00 18.67           C  \nATOM    839  O   ALA A 110      -4.513 -14.000  11.115  1.00 18.31           O  \nATOM    840  CB  ALA A 110      -5.006 -11.482   9.605  1.00 19.26           C  \nATOM    841  N   GLY A 111      -2.439 -13.156  11.008  1.00 18.14           N  \nATOM    842  CA  GLY A 111      -1.787 -14.427  11.142  1.00 18.32           C  \nATOM    843  C   GLY A 111      -0.861 -14.850  10.012  1.00 18.35           C  \nATOM    844  O   GLY A 111      -0.348 -15.956  10.039  1.00 19.03           O  \nATOM    845  N   ALA A 112      -0.649 -13.979   9.030  1.00 18.07           N  \nATOM    846  CA  ALA A 112       0.240 -14.351   7.924  1.00 18.40           C  \nATOM    847  C   ALA A 112       1.625 -14.688   8.387  1.00 18.93           C  \nATOM    848  O   ALA A 112       2.150 -14.097   9.345  1.00 19.67           O  \nATOM    849  CB  ALA A 112       0.328 -13.200   6.897  1.00 17.74           C  \nATOM    850  N   ASP A 113       2.260 -15.618   7.687  1.00 18.09           N  \nATOM    851  CA  ASP A 113       3.626 -15.920   8.018  1.00 19.25           C  \nATOM    852  C   ASP A 113       4.546 -14.772   7.577  1.00 18.36           C  \nATOM    853  O   ASP A 113       4.378 -14.226   6.485  1.00 17.77           O  \nATOM    854  CB  ASP A 113       4.060 -17.172   7.310  1.00 19.74           C  \nATOM    855  CG  ASP A 113       5.240 -17.775   7.970  1.00 24.85           C  \nATOM    856  OD1 ASP A 113       6.346 -17.479   7.535  1.00 22.56           O  \nATOM    857  OD2 ASP A 113       5.156 -18.468   9.018  1.00 27.45           O  \nATOM    858  N   VAL A 114       5.518 -14.445   8.428  1.00 17.96           N  \nATOM    859  CA  VAL A 114       6.497 -13.414   8.090  1.00 17.23           C  \nATOM    860  C   VAL A 114       7.140 -13.722   6.733  1.00 17.60           C  \nATOM    861  O   VAL A 114       7.547 -12.806   6.010  1.00 18.67           O  \nATOM    862  CB  VAL A 114       7.578 -13.337   9.170  1.00 17.85           C  \nATOM    863  CG1 VAL A 114       8.697 -12.396   8.764  1.00 19.83           C  \nATOM    864  CG2 VAL A 114       6.941 -12.860  10.496  1.00 19.01           C  \nATOM    865  N   SER A 115       7.224 -15.001   6.374  1.00 18.40           N  \nATOM    866  CA  SER A 115       7.821 -15.348   5.085  1.00 17.85           C  \nATOM    867  C   SER A 115       7.079 -14.833   3.860  1.00 18.23           C  \nATOM    868  O   SER A 115       7.637 -14.828   2.753  1.00 18.81           O  \nATOM    869  CB  SER A 115       8.085 -16.864   4.966  1.00 20.01           C  \nATOM    870  OG  SER A 115       6.840 -17.553   4.814  1.00 21.84           O  \nATOM    871  N   MET A 116       5.851 -14.351   4.028  1.00 16.17           N  \nATOM    872  CA  MET A 116       5.127 -13.736   2.907  1.00 17.38           C  \nATOM    873  C   MET A 116       5.633 -12.347   2.526  1.00 16.07           C  \nATOM    874  O   MET A 116       5.161 -11.755   1.558  1.00 16.26           O  \nATOM    875  CB  MET A 116       3.609 -13.569   3.196  1.00 17.66           C  \nATOM    876  CG  MET A 116       2.908 -14.852   3.385  1.00 20.83           C  \nATOM    877  SD  MET A 116       1.111 -14.572   3.322  1.00 21.11           S  \nATOM    878  CE  MET A 116       0.900 -14.117   1.605  1.00 23.57           C  \nATOM    879  N   ILE A 117       6.594 -11.836   3.299  1.00 14.75           N  \nATOM    880  CA  ILE A 117       6.991 -10.440   3.148  1.00 14.73           C  \nATOM    881  C   ILE A 117       7.344 -10.075   1.707  1.00 14.23           C  \nATOM    882  O   ILE A 117       7.001  -8.990   1.254  1.00 14.16           O  \nATOM    883  CB  ILE A 117       8.138 -10.142   4.152  1.00 14.11           C  \nATOM    884  CG1 ILE A 117       8.460  -8.635   4.138  1.00 14.31           C  \nATOM    885  CG2 ILE A 117       9.387 -11.012   3.819  1.00 15.85           C  \nATOM    886  CD1 ILE A 117       9.432  -8.242   5.282  1.00 16.35           C  \nATOM    887  N   GLY A 118       7.994 -10.965   0.972  1.00 14.99           N  \nATOM    888  CA  GLY A 118       8.356 -10.665  -0.402  1.00 15.09           C  \nATOM    889  C   GLY A 118       7.184 -10.487  -1.349  1.00 14.91           C  \nATOM    890  O   GLY A 118       7.254  -9.725  -2.321  1.00 15.86           O  \nATOM    891  N   GLN A 119       6.104 -11.188  -1.064  1.00 15.37           N  \nATOM    892  CA  GLN A 119       4.913 -11.056  -1.874  1.00 14.86           C  \nATOM    893  C   GLN A 119       4.236  -9.711  -1.706  1.00 15.71           C  \nATOM    894  O   GLN A 119       3.385  -9.317  -2.511  1.00 15.27           O  \nATOM    895  CB  GLN A 119       3.965 -12.214  -1.563  1.00 16.40           C  \nATOM    896  CG  GLN A 119       4.536 -13.508  -2.118  1.00 19.15           C  \nATOM    897  CD  GLN A 119       3.744 -14.681  -1.658  1.00 21.60           C  \nATOM    898  OE1 GLN A 119       4.176 -15.431  -0.762  1.00 26.29           O  \nATOM    899  NE2 GLN A 119       2.591 -14.874  -2.271  1.00 22.22           N  \nATOM    900  N   PHE A 120       4.622  -8.987  -0.661  1.00 14.82           N  \nATOM    901  CA  PHE A 120       4.105  -7.645  -0.472  1.00 15.03           C  \nATOM    902  C   PHE A 120       5.119  -6.606  -0.940  1.00 14.90           C  \nATOM    903  O   PHE A 120       4.912  -5.405  -0.786  1.00 15.91           O  \nATOM    904  CB  PHE A 120       3.704  -7.373   0.980  1.00 15.26           C  \nATOM    905  CG  PHE A 120       2.469  -8.130   1.416  1.00 15.54           C  \nATOM    906  CD1 PHE A 120       2.506  -9.485   1.695  1.00 16.82           C  \nATOM    907  CD2 PHE A 120       1.266  -7.434   1.553  1.00 16.43           C  \nATOM    908  CE1 PHE A 120       1.359 -10.164   2.092  1.00 17.87           C  \nATOM    909  CE2 PHE A 120       0.118  -8.112   1.945  1.00 15.19           C  \nATOM    910  CZ  PHE A 120       0.164  -9.453   2.221  1.00 18.18           C  \nATOM    911  N   GLY A 121       6.227  -7.082  -1.502  1.00 15.65           N  \nATOM    912  CA  GLY A 121       7.189  -6.198  -2.151  1.00 15.90           C  \nATOM    913  C   GLY A 121       8.142  -5.481  -1.207  1.00 15.39           C  \nATOM    914  O   GLY A 121       8.834  -4.497  -1.597  1.00 17.26           O  \nATOM    915  N   VAL A 122       8.186  -5.963   0.027  1.00 14.54           N  \nATOM    916  CA  VAL A 122       8.973  -5.299   1.065  1.00 13.51           C  \nATOM    917  C   VAL A 122       9.974  -6.233   1.746  1.00 13.20           C  \nATOM    918  O   VAL A 122      10.370  -6.040   2.894  1.00 12.82           O  \nATOM    919  CB  VAL A 122       8.059  -4.558   2.102  1.00 12.77           C  \nATOM    920  CG1 VAL A 122       7.341  -3.384   1.451  1.00 16.38           C  \nATOM    921  CG2 VAL A 122       7.053  -5.538   2.781  1.00 12.77           C  \nATOM    922  N   GLY A 123      10.349  -7.302   1.037  1.00 13.26           N  \nATOM    923  CA  GLY A 123      11.315  -8.257   1.538  1.00 13.10           C  \nATOM    924  C   GLY A 123      12.658  -7.737   2.017  1.00 11.65           C  \nATOM    925  O   GLY A 123      13.277  -8.370   2.820  1.00 13.24           O  \nATOM    926  N   PHE A 124      13.051  -6.559   1.539  1.00 12.17           N  \nATOM    927  CA  PHE A 124      14.313  -5.977   1.938  1.00 11.79           C  \nATOM    928  C   PHE A 124      14.381  -5.876   3.451  1.00 12.06           C  \nATOM    929  O   PHE A 124      15.415  -6.195   4.081  1.00 12.37           O  \nATOM    930  CB  PHE A 124      14.441  -4.551   1.341  1.00 11.10           C  \nATOM    931  CG  PHE A 124      15.526  -3.714   1.954  1.00 12.28           C  \nATOM    932  CD1 PHE A 124      16.873  -3.983   1.732  1.00 13.16           C  \nATOM    933  CD2 PHE A 124      15.183  -2.635   2.731  1.00 14.28           C  \nATOM    934  CE1 PHE A 124      17.881  -3.184   2.290  1.00 14.04           C  \nATOM    935  CE2 PHE A 124      16.189  -1.782   3.271  1.00 15.55           C  \nATOM    936  CZ  PHE A 124      17.554  -2.078   3.048  1.00 14.12           C  \nATOM    937  N   TYR A 125      13.241  -5.521   4.070  1.00 12.61           N  \nATOM    938  CA  TYR A 125      13.256  -5.251   5.486  1.00 10.90           C  \nATOM    939  C   TYR A 125      13.344  -6.487   6.363  1.00 12.09           C  \nATOM    940  O   TYR A 125      13.611  -6.366   7.575  1.00 12.99           O  \nATOM    941  CB  TYR A 125      12.052  -4.369   5.856  1.00 11.74           C  \nATOM    942  CG  TYR A 125      12.054  -3.053   5.072  1.00 11.42           C  \nATOM    943  CD1 TYR A 125      11.284  -2.915   3.927  1.00 13.77           C  \nATOM    944  CD2 TYR A 125      12.844  -1.994   5.464  1.00 11.61           C  \nATOM    945  CE1 TYR A 125      11.302  -1.781   3.182  1.00 12.78           C  \nATOM    946  CE2 TYR A 125      12.876  -0.806   4.692  1.00 11.71           C  \nATOM    947  CZ  TYR A 125      12.093  -0.729   3.560  1.00 12.11           C  \nATOM    948  OH  TYR A 125      12.105   0.412   2.785  1.00 16.17           O  \nATOM    949  N   SER A 126      13.226  -7.650   5.716  1.00 12.39           N  \nATOM    950  CA  SER A 126      13.437  -8.907   6.426  1.00 12.52           C  \nATOM    951  C   SER A 126      14.868  -9.036   6.955  1.00 12.05           C  \nATOM    952  O   SER A 126      15.132  -9.859   7.804  1.00 12.66           O  \nATOM    953  CB  SER A 126      13.090 -10.110   5.533  1.00 13.27           C  \nATOM    954  OG  SER A 126      14.079 -10.320   4.527  1.00 14.42           O  \nATOM    955  N   LEU A 127      15.808  -8.214   6.478  1.00 11.81           N  \nATOM    956  CA  LEU A 127      17.153  -8.298   7.016  1.00 11.81           C  \nATOM    957  C   LEU A 127      17.170  -8.029   8.516  1.00 12.38           C  \nATOM    958  O   LEU A 127      18.076  -8.480   9.195  1.00 13.12           O  \nATOM    959  CB  LEU A 127      18.070  -7.336   6.229  1.00 12.61           C  \nATOM    960  CG  LEU A 127      17.792  -5.838   6.433  1.00 12.21           C  \nATOM    961  CD1 LEU A 127      18.592  -5.273   7.599  1.00 12.07           C  \nATOM    962  CD2 LEU A 127      18.305  -5.102   5.180  1.00 13.15           C  \nATOM    963  N   PHE A 128      16.174  -7.290   9.045  1.00 12.36           N  \nATOM    964  CA  PHE A 128      16.189  -7.023  10.467  1.00 13.30           C  \nATOM    965  C   PHE A 128      15.818  -8.205  11.353  1.00 14.18           C  \nATOM    966  O   PHE A 128      15.901  -8.110  12.577  1.00 16.00           O  \nATOM    967  CB  PHE A 128      15.291  -5.799  10.752  1.00 12.70           C  \nATOM    968  CG  PHE A 128      15.910  -4.506  10.274  1.00 14.40           C  \nATOM    969  CD1 PHE A 128      15.381  -3.822   9.178  1.00 13.24           C  \nATOM    970  CD2 PHE A 128      17.037  -4.005  10.899  1.00 13.66           C  \nATOM    971  CE1 PHE A 128      15.929  -2.609   8.757  1.00 14.00           C  \nATOM    972  CE2 PHE A 128      17.628  -2.792  10.480  1.00 14.46           C  \nATOM    973  CZ  PHE A 128      17.059  -2.093   9.404  1.00 13.48           C  \nATOM    974  N   LEU A 129      15.503  -9.334  10.708  1.00 14.40           N  \nATOM    975  CA  LEU A 129      15.371 -10.575  11.479  1.00 14.30           C  \nATOM    976  C   LEU A 129      16.734 -10.997  12.025  1.00 16.03           C  \nATOM    977  O   LEU A 129      16.825 -11.571  13.112  1.00 17.98           O  \nATOM    978  CB  LEU A 129      14.838 -11.708  10.624  1.00 14.56           C  \nATOM    979  CG  LEU A 129      13.440 -11.556  10.079  1.00 13.73           C  \nATOM    980  CD1 LEU A 129      13.081 -12.595   8.995  1.00 16.03           C  \nATOM    981  CD2 LEU A 129      12.412 -11.653  11.254  1.00 16.08           C  \nATOM    982  N   VAL A 130      17.792 -10.748  11.259  1.00 14.45           N  \nATOM    983  CA  VAL A 130      19.117 -11.184  11.691  1.00 14.98           C  \nATOM    984  C   VAL A 130      20.078 -10.100  11.985  1.00 14.24           C  \nATOM    985  O   VAL A 130      21.122 -10.342  12.599  1.00 15.26           O  \nATOM    986  CB  VAL A 130      19.730 -12.196  10.689  1.00 14.03           C  \nATOM    987  CG1 VAL A 130      18.851 -13.459  10.517  1.00 15.29           C  \nATOM    988  CG2 VAL A 130      19.945 -11.538   9.310  1.00 16.29           C  \nATOM    989  N   ALA A 131      19.784  -8.869  11.553  1.00 14.48           N  \nATOM    990  CA  ALA A 131      20.678  -7.757  11.702  1.00 14.40           C  \nATOM    991  C   ALA A 131      20.058  -6.614  12.477  1.00 14.37           C  \nATOM    992  O   ALA A 131      18.855  -6.380  12.392  1.00 15.60           O  \nATOM    993  CB  ALA A 131      21.130  -7.228  10.304  1.00 14.33           C  \nATOM    994  N   ASP A 132      20.884  -5.869  13.211  1.00 15.35           N  \nATOM    995  CA  ASP A 132      20.357  -4.683  13.865  1.00 17.16           C  \nATOM    996  C   ASP A 132      20.747  -3.398  13.209  1.00 16.38           C  \nATOM    997  O   ASP A 132      20.398  -2.334  13.681  1.00 17.74           O  \nATOM    998  CB  ASP A 132      20.656  -4.629  15.351  1.00 20.69           C  \nATOM    999  CG  ASP A 132      22.082  -4.697  15.644  1.00 23.97           C  \nATOM   1000  OD1 ASP A 132      22.409  -4.925  16.844  1.00 33.27           O  \nATOM   1001  OD2 ASP A 132      22.975  -4.567  14.804  1.00 28.92           O  \nATOM   1002  N   ARG A 133      21.471  -3.483  12.107  1.00 14.83           N  \nATOM   1003  CA  ARG A 133      21.932  -2.290  11.416  1.00 14.59           C  \nATOM   1004  C   ARG A 133      22.352  -2.758  10.026  1.00 13.64           C  \nATOM   1005  O   ARG A 133      22.753  -3.918   9.849  1.00 13.27           O  \nATOM   1006  CB  ARG A 133      23.117  -1.683  12.173  1.00 15.99           C  \nATOM   1007  CG  ARG A 133      23.981  -0.749  11.393  1.00 21.03           C  \nATOM   1008  CD  ARG A 133      24.930   0.025  12.311  1.00 27.88           C  \nATOM   1009  NE  ARG A 133      26.010   0.754  11.652  1.00 35.17           N  \nATOM   1010  CZ  ARG A 133      27.244   0.773  12.113  1.00 37.25           C  \nATOM   1011  NH1 ARG A 133      27.545   0.109  13.219  1.00 39.70           N  \nATOM   1012  NH2 ARG A 133      28.181   1.464  11.480  1.00 39.55           N  \nATOM   1013  N   VAL A 134      22.182  -1.876   9.043  1.00 12.91           N  \nATOM   1014  CA  VAL A 134      22.540  -2.210   7.654  1.00 12.96           C  \nATOM   1015  C   VAL A 134      23.084  -0.982   6.995  1.00 12.61           C  \nATOM   1016  O   VAL A 134      22.608   0.129   7.221  1.00 11.97           O  \nATOM   1017  CB  VAL A 134      21.305  -2.756   6.845  1.00 12.06           C  \nATOM   1018  CG1 VAL A 134      20.112  -1.829   6.944  1.00 13.31           C  \nATOM   1019  CG2 VAL A 134      21.725  -3.061   5.384  1.00 12.39           C  \nATOM   1020  N   GLN A 135      24.114  -1.191   6.170  1.00 11.84           N  \nATOM   1021  CA  GLN A 135      24.572  -0.158   5.228  1.00 11.12           C  \nATOM   1022  C   GLN A 135      24.289  -0.716   3.866  1.00 11.42           C  \nATOM   1023  O   GLN A 135      24.680  -1.862   3.558  1.00 12.71           O  \nATOM   1024  CB  GLN A 135      26.086   0.110   5.346  1.00 11.86           C  \nATOM   1025  CG  GLN A 135      26.399   0.850   6.631  1.00 11.99           C  \nATOM   1026  CD  GLN A 135      27.864   0.923   6.941  1.00 15.51           C  \nATOM   1027  OE1 GLN A 135      28.688   0.363   6.212  1.00 17.56           O  \nATOM   1028  NE2 GLN A 135      28.200   1.637   8.011  1.00 17.38           N  \nATOM   1029  N   VAL A 136      23.583   0.089   3.065  1.00 10.51           N  \nATOM   1030  CA  VAL A 136      23.412  -0.270   1.655  1.00 10.22           C  \nATOM   1031  C   VAL A 136      24.414   0.587   0.880  1.00 10.45           C  \nATOM   1032  O   VAL A 136      24.297   1.823   0.884  1.00 11.81           O  \nATOM   1033  CB  VAL A 136      21.988   0.028   1.175  1.00 10.63           C  \nATOM   1034  CG1 VAL A 136      21.855  -0.304  -0.316  1.00 11.56           C  \nATOM   1035  CG2 VAL A 136      21.066  -0.944   1.920  1.00 11.39           C  \nATOM   1036  N   ILE A 137      25.410  -0.025   0.237  1.00  9.29           N  \nATOM   1037  CA  ILE A 137      26.435   0.766  -0.476  1.00  9.26           C  \nATOM   1038  C   ILE A 137      26.097   0.576  -1.953  1.00  9.73           C  \nATOM   1039  O   ILE A 137      25.981  -0.547  -2.389  1.00 11.17           O  \nATOM   1040  CB  ILE A 137      27.815   0.161  -0.135  1.00 10.17           C  \nATOM   1041  CG1 ILE A 137      28.076   0.224   1.369  1.00 13.01           C  \nATOM   1042  CG2 ILE A 137      28.929   0.908  -0.892  1.00 12.24           C  \nATOM   1043  CD1 ILE A 137      29.027  -0.863   1.855  1.00 15.67           C  \nATOM   1044  N   SER A 138      25.924   1.656  -2.713  1.00 10.35           N  \nATOM   1045  CA  SER A 138      25.430   1.372  -4.067  1.00 10.59           C  \nATOM   1046  C   SER A 138      26.091   2.324  -5.063  1.00 10.49           C  \nATOM   1047  O   SER A 138      26.434   3.480  -4.747  1.00 11.13           O  \nATOM   1048  CB  SER A 138      23.906   1.535  -4.128  1.00 11.33           C  \nATOM   1049  OG  SER A 138      23.431   0.978  -5.364  1.00 11.76           O  \nATOM   1050  N   LYS A 139      26.282   1.795  -6.272  1.00 11.83           N  \nATOM   1051  CA  LYS A 139      26.852   2.592  -7.377  1.00 11.77           C  \nATOM   1052  C   LYS A 139      26.033   2.331  -8.623  1.00 11.53           C  \nATOM   1053  O   LYS A 139      26.058   1.231  -9.196  1.00 11.60           O  \nATOM   1054  CB  LYS A 139      28.299   2.160  -7.636  1.00 11.42           C  \nATOM   1055  CG  LYS A 139      28.970   2.869  -8.863  1.00 13.16           C  \nATOM   1056  CD  LYS A 139      29.260   4.337  -8.571  1.00 11.65           C  \nATOM   1057  CE  LYS A 139      30.021   4.999  -9.718  1.00 12.90           C  \nATOM   1058  NZ  LYS A 139      29.180   5.080 -10.968  1.00 13.92           N  \nATOM   1059  N   SER A 140      25.298   3.357  -9.007  1.00 12.77           N  \nATOM   1060  CA  SER A 140      24.576   3.311 -10.284  1.00 12.20           C  \nATOM   1061  C   SER A 140      25.507   3.928 -11.343  1.00 13.94           C  \nATOM   1062  O   SER A 140      26.323   4.784 -11.020  1.00 13.76           O  \nATOM   1063  CB  SER A 140      23.339   4.164 -10.150  1.00 12.31           C  \nATOM   1064  OG  SER A 140      22.818   4.522 -11.473  1.00 16.30           O  \nATOM   1065  N   ASN A 141      25.373   3.539 -12.620  1.00 14.28           N  \nATOM   1066  CA  ASN A 141      26.179   4.219 -13.636  1.00 15.29           C  \nATOM   1067  C   ASN A 141      25.876   5.715 -13.687  1.00 16.59           C  \nATOM   1068  O   ASN A 141      26.684   6.481 -14.234  1.00 18.54           O  \nATOM   1069  CB  ASN A 141      25.882   3.646 -15.030  1.00 15.40           C  \nATOM   1070  CG  ASN A 141      26.390   2.240 -15.203  1.00 16.22           C  \nATOM   1071  OD1 ASN A 141      27.303   1.803 -14.487  1.00 17.13           O  \nATOM   1072  ND2 ASN A 141      25.842   1.511 -16.171  1.00 15.29           N  \nATOM   1073  N   ASP A 142      24.763   6.132 -13.093  1.00 17.60           N  \nATOM   1074  CA  ASP A 142      24.325   7.522 -13.211  1.00 17.95           C  \nATOM   1075  C   ASP A 142      24.679   8.426 -12.040  1.00 17.82           C  \nATOM   1076  O   ASP A 142      24.252   9.565 -11.993  1.00 18.62           O  \nATOM   1077  CB  ASP A 142      22.829   7.560 -13.477  1.00 20.29           C  \nATOM   1078  CG  ASP A 142      22.469   6.840 -14.784  1.00 26.11           C  \nATOM   1079  OD1 ASP A 142      23.072   7.183 -15.817  1.00 34.44           O  \nATOM   1080  OD2 ASP A 142      21.614   5.935 -14.887  1.00 33.53           O  \nATOM   1081  N   ASP A 143      25.417   7.889 -11.068  1.00 15.65           N  \nATOM   1082  CA  ASP A 143      25.807   8.697  -9.911  1.00 14.48           C  \nATOM   1083  C   ASP A 143      27.077   8.146  -9.299  1.00 14.33           C  \nATOM   1084  O   ASP A 143      27.645   7.156  -9.754  1.00 15.08           O  \nATOM   1085  CB  ASP A 143      24.674   8.641  -8.885  1.00 15.37           C  \nATOM   1086  CG  ASP A 143      24.581   9.868  -7.993  1.00 14.41           C  \nATOM   1087  OD1 ASP A 143      25.488  10.753  -7.985  1.00 16.01           O  \nATOM   1088  OD2 ASP A 143      23.594  10.019  -7.219  1.00 16.07           O  \nATOM   1089  N   GLU A 144      27.556   8.870  -8.297  1.00 13.68           N  \nATOM   1090  CA  GLU A 144      28.674   8.448  -7.466  1.00 14.39           C  \nATOM   1091  C   GLU A 144      28.258   7.333  -6.531  1.00 12.46           C  \nATOM   1092  O   GLU A 144      27.065   7.035  -6.379  1.00 13.58           O  \nATOM   1093  CB  GLU A 144      29.190   9.620  -6.628  1.00 15.81           C  \nATOM   1094  CG  GLU A 144      29.552  10.823  -7.485  1.00 22.32           C  \nATOM   1095  CD  GLU A 144      30.789  10.614  -8.323  1.00 30.85           C  \nATOM   1096  OE1 GLU A 144      31.501   9.603  -8.147  1.00 32.36           O  \nATOM   1097  OE2 GLU A 144      31.083  11.505  -9.160  1.00 38.81           O  \nATOM   1098  N   GLN A 145      29.246   6.714  -5.872  1.00 12.73           N  \nATOM   1099  CA  GLN A 145      28.953   5.645  -4.893  1.00 11.60           C  \nATOM   1100  C   GLN A 145      28.484   6.288  -3.589  1.00 12.06           C  \nATOM   1101  O   GLN A 145      29.123   7.225  -3.105  1.00 12.85           O  \nATOM   1102  CB  GLN A 145      30.227   4.811  -4.637  1.00 10.86           C  \nATOM   1103  CG  GLN A 145      29.994   3.570  -3.770  1.00 10.90           C  \nATOM   1104  CD  GLN A 145      31.125   2.581  -3.915  1.00 12.71           C  \nATOM   1105  OE1 GLN A 145      31.530   2.220  -5.032  1.00 13.38           O  \nATOM   1106  NE2 GLN A 145      31.668   2.135  -2.759  1.00 11.17           N  \nATOM   1107  N   TYR A 146      27.371   5.777  -3.042  1.00 11.72           N  \nATOM   1108  CA  TYR A 146      26.768   6.315  -1.805  1.00 11.47           C  \nATOM   1109  C   TYR A 146      26.498   5.213  -0.797  1.00 10.96           C  \nATOM   1110  O   TYR A 146      26.359   4.049  -1.169  1.00 11.85           O  \nATOM   1111  CB  TYR A 146      25.430   7.045  -2.068  1.00 12.15           C  \nATOM   1112  CG  TYR A 146      25.624   8.444  -2.571  1.00 11.81           C  \nATOM   1113  CD1 TYR A 146      25.717   8.701  -3.943  1.00 13.56           C  \nATOM   1114  CD2 TYR A 146      25.748   9.498  -1.687  1.00 12.17           C  \nATOM   1115  CE1 TYR A 146      25.909   9.997  -4.386  1.00 14.07           C  \nATOM   1116  CE2 TYR A 146      25.889  10.808  -2.148  1.00 14.14           C  \nATOM   1117  CZ  TYR A 146      26.017  11.024  -3.482  1.00 14.57           C  \nATOM   1118  OH  TYR A 146      26.209  12.342  -3.940  1.00 16.70           O  \nATOM   1119  N   ILE A 147      26.404   5.620   0.483  1.00 10.75           N  \nATOM   1120  CA  ILE A 147      26.112   4.666   1.581  1.00 10.85           C  \nATOM   1121  C   ILE A 147      24.825   5.124   2.240  1.00 10.91           C  \nATOM   1122  O   ILE A 147      24.747   6.266   2.699  1.00 12.59           O  \nATOM   1123  CB  ILE A 147      27.201   4.733   2.678  1.00 11.55           C  \nATOM   1124  CG1 ILE A 147      28.568   4.449   2.052  1.00 13.08           C  \nATOM   1125  CG2 ILE A 147      26.865   3.691   3.790  1.00 13.23           C  \nATOM   1126  CD1 ILE A 147      29.722   5.081   2.853  1.00 11.89           C  \nATOM   1127  N   TRP A 148      23.819   4.246   2.266  1.00 10.85           N  \nATOM   1128  CA  TRP A 148      22.567   4.503   2.987  1.00 10.01           C  \nATOM   1129  C   TRP A 148      22.639   3.655   4.251  1.00 12.15           C  \nATOM   1130  O   TRP A 148      23.040   2.485   4.192  1.00 11.80           O  \nATOM   1131  CB  TRP A 148      21.439   4.044   2.061  1.00 11.26           C  \nATOM   1132  CG  TRP A 148      20.035   4.084   2.594  1.00 11.05           C  \nATOM   1133  CD1 TRP A 148      19.079   5.030   2.302  1.00 12.78           C  \nATOM   1134  CD2 TRP A 148      19.389   3.087   3.382  1.00 13.14           C  \nATOM   1135  NE1 TRP A 148      17.879   4.697   2.902  1.00 13.62           N  \nATOM   1136  CE2 TRP A 148      18.030   3.515   3.568  1.00 13.21           C  \nATOM   1137  CE3 TRP A 148      19.809   1.885   3.957  1.00 14.02           C  \nATOM   1138  CZ2 TRP A 148      17.093   2.764   4.324  1.00 14.97           C  \nATOM   1139  CZ3 TRP A 148      18.862   1.108   4.690  1.00 16.27           C  \nATOM   1140  CH2 TRP A 148      17.534   1.570   4.855  1.00 13.95           C  \nATOM   1141  N   GLU A 149      22.316   4.239   5.409  1.00 11.49           N  \nATOM   1142  CA  GLU A 149      22.456   3.448   6.657  1.00 11.80           C  \nATOM   1143  C   GLU A 149      21.238   3.566   7.521  1.00 12.07           C  \nATOM   1144  O   GLU A 149      20.712   4.673   7.697  1.00 13.43           O  \nATOM   1145  CB  GLU A 149      23.679   3.906   7.468  1.00 12.61           C  \nATOM   1146  CG  GLU A 149      23.980   3.014   8.681  1.00 13.31           C  \nATOM   1147  CD  GLU A 149      25.417   3.171   9.238  1.00 17.06           C  \nATOM   1148  OE1 GLU A 149      26.056   4.165   8.978  1.00 19.56           O  \nATOM   1149  OE2 GLU A 149      25.939   2.248   9.887  1.00 24.58           O  \nATOM   1150  N   SER A 150      20.855   2.434   8.107  1.00 11.79           N  \nATOM   1151  CA  SER A 150      19.683   2.397   9.000  1.00 11.73           C  \nATOM   1152  C   SER A 150      19.912   1.456  10.164  1.00 14.43           C  \nATOM   1153  O   SER A 150      20.557   0.428  10.018  1.00 14.24           O  \nATOM   1154  CB  SER A 150      18.456   1.874   8.203  1.00 14.27           C  \nATOM   1155  OG  SER A 150      17.334   1.617   9.059  1.00 15.27           O  \nATOM   1156  N   ASN A 151      19.350   1.824  11.319  1.00 15.32           N  \nATOM   1157  CA  ASN A 151      19.394   0.926  12.469  1.00 16.43           C  \nATOM   1158  C   ASN A 151      17.996   0.614  12.892  1.00 16.72           C  \nATOM   1159  O   ASN A 151      17.713   0.355  14.054  1.00 17.35           O  \nATOM   1160  CB  ASN A 151      20.169   1.632  13.586  1.00 16.64           C  \nATOM   1161  CG  ASN A 151      19.475   2.886  14.043  1.00 18.66           C  \nATOM   1162  OD1 ASN A 151      18.510   3.322  13.434  1.00 19.97           O  \nATOM   1163  ND2 ASN A 151      20.011   3.518  15.076  1.00 27.08           N  \nATOM   1164  N   ALA A 152      17.109   0.568  11.902  1.00 16.13           N  \nATOM   1165  CA  ALA A 152      15.677   0.252  12.091  1.00 16.92           C  \nATOM   1166  C   ALA A 152      14.937   1.362  12.836  1.00 17.67           C  \nATOM   1167  O   ALA A 152      13.762   1.180  13.188  1.00 20.28           O  \nATOM   1168  CB  ALA A 152      15.433  -1.157  12.754  1.00 17.38           C  \nATOM   1169  N   GLY A 153      15.597   2.482  13.078  1.00 18.99           N  \nATOM   1170  CA  GLY A 153      14.950   3.613  13.716  1.00 20.17           C  \nATOM   1171  C   GLY A 153      14.252   4.446  12.658  1.00 20.28           C  \nATOM   1172  O   GLY A 153      14.283   4.097  11.477  1.00 19.83           O  \nATOM   1173  N   GLY A 154      13.691   5.582  13.066  1.00 19.18           N  \nATOM   1174  CA  GLY A 154      12.881   6.401  12.178  1.00 19.18           C  \nATOM   1175  C   GLY A 154      13.606   7.260  11.163  1.00 17.89           C  \nATOM   1176  O   GLY A 154      12.979   7.863  10.295  1.00 18.61           O  \nATOM   1177  N   SER A 155      14.923   7.326  11.281  1.00 18.53           N  \nATOM   1178  CA  SER A 155      15.714   8.147  10.356  1.00 17.74           C  \nATOM   1179  C   SER A 155      16.843   7.321   9.748  1.00 17.16           C  \nATOM   1180  O   SER A 155      17.312   6.335  10.341  1.00 17.80           O  \nATOM   1181  CB  SER A 155      16.301   9.381  11.090  1.00 19.73           C  \nATOM   1182  OG  SER A 155      17.220   8.989  12.096  1.00 26.25           O  \nATOM   1183  N   PHE A 156      17.263   7.707   8.548  1.00 16.50           N  \nATOM   1184  CA  PHE A 156      18.406   7.039   7.922  1.00 14.54           C  \nATOM   1185  C   PHE A 156      19.360   8.113   7.395  1.00 14.23           C  \nATOM   1186  O   PHE A 156      18.989   9.286   7.256  1.00 15.84           O  \nATOM   1187  CB  PHE A 156      17.994   6.121   6.750  1.00 14.53           C  \nATOM   1188  CG  PHE A 156      17.229   6.805   5.645  1.00 14.03           C  \nATOM   1189  CD1 PHE A 156      17.904   7.315   4.530  1.00 14.63           C  \nATOM   1190  CD2 PHE A 156      15.831   6.897   5.681  1.00 15.75           C  \nATOM   1191  CE1 PHE A 156      17.222   7.896   3.458  1.00 14.51           C  \nATOM   1192  CE2 PHE A 156      15.130   7.472   4.614  1.00 15.57           C  \nATOM   1193  CZ  PHE A 156      15.834   7.980   3.480  1.00 16.38           C  \nATOM   1194  N   THR A 157      20.585   7.701   7.092  1.00 13.59           N  \nATOM   1195  CA  THR A 157      21.533   8.657   6.546  1.00 13.39           C  \nATOM   1196  C   THR A 157      21.964   8.215   5.171  1.00 12.77           C  \nATOM   1197  O   THR A 157      21.902   7.038   4.820  1.00 13.77           O  \nATOM   1198  CB  THR A 157      22.788   8.763   7.394  1.00 13.97           C  \nATOM   1199  OG1 THR A 157      23.420   7.478   7.555  1.00 14.77           O  \nATOM   1200  CG2 THR A 157      22.426   9.202   8.843  1.00 15.40           C  \nATOM   1201  N   VAL A 158      22.397   9.198   4.397  1.00 12.76           N  \nATOM   1202  CA  VAL A 158      22.982   8.906   3.100  1.00 13.30           C  \nATOM   1203  C   VAL A 158      24.266   9.727   3.048  1.00 14.50           C  \nATOM   1204  O   VAL A 158      24.234  10.945   3.324  1.00 15.25           O  \nATOM   1205  CB  VAL A 158      22.049   9.336   1.946  1.00 13.60           C  \nATOM   1206  CG1 VAL A 158      22.728   9.077   0.629  1.00 15.90           C  \nATOM   1207  CG2 VAL A 158      20.756   8.524   2.005  1.00 15.19           C  \nATOM   1208  N   THR A 159      25.366   9.082   2.669  1.00 13.56           N  \nATOM   1209  CA  THR A 159      26.714   9.700   2.705  1.00 13.32           C  \nATOM   1210  C   THR A 159      27.468   9.329   1.429  1.00 13.50           C  \nATOM   1211  O   THR A 159      27.459   8.186   0.997  1.00 11.95           O  \nATOM   1212  CB  THR A 159      27.484   9.155   3.914  1.00 14.44           C  \nATOM   1213  OG1 THR A 159      26.725   9.332   5.124  1.00 16.00           O  \nATOM   1214  CG2 THR A 159      28.812   9.900   4.154  1.00 15.59           C  \nATOM   1215  N   LEU A 160      28.080  10.342   0.799  1.00 13.14           N  \nATOM   1216  CA  LEU A 160      28.933  10.052  -0.350  1.00 13.06           C  \nATOM   1217  C   LEU A 160      30.040   9.131   0.158  1.00 13.41           C  \nATOM   1218  O   LEU A 160      30.606   9.347   1.227  1.00 13.08           O  \nATOM   1219  CB  LEU A 160      29.554  11.381  -0.849  1.00 14.42           C  \nATOM   1220  CG  LEU A 160      30.563  11.210  -1.972  1.00 15.27           C  \nATOM   1221  CD1 LEU A 160      29.835  10.755  -3.205  1.00 18.45           C  \nATOM   1222  CD2 LEU A 160      31.192  12.591  -2.210  1.00 20.38           C  \nATOM   1223  N   ASP A 161      30.320   8.068  -0.594  1.00 12.14           N  \nATOM   1224  CA  ASP A 161      31.235   6.991  -0.147  1.00 12.28           C  \nATOM   1225  C   ASP A 161      32.716   7.257  -0.422  1.00 13.61           C  \nATOM   1226  O   ASP A 161      33.150   7.198  -1.570  1.00 14.56           O  \nATOM   1227  CB  ASP A 161      30.827   5.679  -0.806  1.00 12.50           C  \nATOM   1228  CG  ASP A 161      31.481   4.498  -0.172  1.00 11.91           C  \nATOM   1229  OD1 ASP A 161      32.556   4.630   0.447  1.00 12.01           O  \nATOM   1230  OD2 ASP A 161      30.996   3.387  -0.266  1.00 10.42           O  \nATOM   1231  N   GLU A 162      33.467   7.572   0.623  1.00 13.84           N  \nATOM   1232  CA  GLU A 162      34.907   7.713   0.496  1.00 15.60           C  \nATOM   1233  C   GLU A 162      35.595   6.706   1.443  1.00 15.64           C  \nATOM   1234  O   GLU A 162      36.732   6.930   1.856  1.00 15.88           O  \nATOM   1235  CB  GLU A 162      35.338   9.151   0.834  1.00 17.66           C  \nATOM   1236  CG  GLU A 162      34.864  10.215  -0.154  1.00 21.53           C  \nATOM   1237  CD  GLU A 162      35.251  11.639   0.232  1.00 31.70           C  \nATOM   1238  OE1 GLU A 162      36.009  11.812   1.207  1.00 35.33           O  \nATOM   1239  OE2 GLU A 162      34.787  12.572  -0.456  1.00 37.57           O  \nATOM   1240  N   VAL A 163      34.903   5.632   1.807  1.00 13.23           N  \nATOM   1241  CA  VAL A 163      35.465   4.675   2.782  1.00 14.00           C  \nATOM   1242  C   VAL A 163      35.434   3.203   2.403  1.00 12.84           C  \nATOM   1243  O   VAL A 163      36.120   2.385   2.999  1.00 14.20           O  \nATOM   1244  CB  VAL A 163      34.849   4.852   4.184  1.00 13.34           C  \nATOM   1245  CG1 VAL A 163      35.147   6.283   4.697  1.00 15.53           C  \nATOM   1246  CG2 VAL A 163      33.311   4.619   4.158  1.00 15.01           C  \nATOM   1247  N   ASN A 164      34.603   2.831   1.433  1.00 11.93           N  \nATOM   1248  CA  ASN A 164      34.473   1.434   1.041  1.00 11.68           C  \nATOM   1249  C   ASN A 164      35.150   1.095  -0.281  1.00 12.42           C  \nATOM   1250  O   ASN A 164      35.438   2.006  -1.056  1.00 13.46           O  \nATOM   1251  CB  ASN A 164      32.991   1.030   0.979  1.00 11.52           C  \nATOM   1252  CG  ASN A 164      32.303   1.177   2.315  1.00 11.17           C  \nATOM   1253  OD1 ASN A 164      32.755   0.558   3.302  1.00 12.59           O  \nATOM   1254  ND2 ASN A 164      31.279   2.001   2.390  1.00 11.10           N  \nATOM   1255  N   GLU A 165      35.378  -0.185  -0.535  1.00 12.65           N  \nATOM   1256  CA  GLU A 165      35.922  -0.564  -1.852  1.00 14.49           C  \nATOM   1257  C   GLU A 165      35.026  -0.022  -2.962  1.00 14.69           C  \nATOM   1258  O   GLU A 165      33.784   0.100  -2.815  1.00 14.56           O  \nATOM   1259  CB  GLU A 165      36.016  -2.086  -1.955  1.00 14.62           C  \nATOM   1260  CG  GLU A 165      34.661  -2.790  -1.895  1.00 19.09           C  \nATOM   1261  CD  GLU A 165      34.767  -4.294  -2.020  1.00 26.46           C  \nATOM   1262  OE1 GLU A 165      35.596  -4.782  -2.843  1.00 27.35           O  \nATOM   1263  OE2 GLU A 165      34.048  -4.982  -1.257  1.00 30.42           O  \nATOM   1264  N   ARG A 166      35.611   0.358  -4.092  1.00 13.76           N  \nATOM   1265  CA  ARG A 166      34.794   0.756  -5.214  1.00 15.12           C  \nATOM   1266  C   ARG A 166      34.056  -0.443  -5.771  1.00 16.22           C  \nATOM   1267  O   ARG A 166      34.653  -1.516  -5.983  1.00 17.84           O  \nATOM   1268  CB  ARG A 166      35.672   1.287  -6.333  1.00 14.19           C  \nATOM   1269  CG  ARG A 166      36.437   2.527  -5.932  1.00 14.02           C  \nATOM   1270  CD  ARG A 166      35.583   3.665  -5.486  1.00 13.32           C  \nATOM   1271  NE  ARG A 166      35.368   3.615  -4.015  1.00 13.41           N  \nATOM   1272  CZ  ARG A 166      34.675   4.532  -3.350  1.00 14.51           C  \nATOM   1273  NH1 ARG A 166      34.109   5.520  -4.025  1.00 16.27           N  \nATOM   1274  NH2 ARG A 166      34.533   4.453  -2.013  1.00 15.62           N  \nATOM   1275  N   ILE A 167      32.768  -0.233  -6.044  1.00 15.59           N  \nATOM   1276  CA  ILE A 167      31.904  -1.211  -6.672  1.00 17.51           C  \nATOM   1277  C   ILE A 167      31.998  -0.699  -8.152  1.00 18.10           C  \nATOM   1278  O   ILE A 167      31.987   0.463  -8.412  1.00 20.54           O  \nATOM   1279  CB  ILE A 167      30.436  -0.982  -6.119  1.00 16.99           C  \nATOM   1280  CG1 ILE A 167      30.342  -1.274  -4.624  1.00 22.57           C  \nATOM   1281  CG2 ILE A 167      29.406  -1.786  -6.911  1.00 20.53           C  \nATOM   1282  CD1 ILE A 167      28.890  -1.036  -4.085  1.00 22.86           C  \nATOM   1283  N   GLY A 168      32.081  -1.548  -9.109  1.00 19.91           N  \nATOM   1284  CA  GLY A 168      32.107  -1.014 -10.448  1.00 16.64           C  \nATOM   1285  C   GLY A 168      30.708  -0.523 -10.758  1.00 16.02           C  \nATOM   1286  O   GLY A 168      30.507   0.574 -11.328  1.00 15.28           O  \nATOM   1287  N   ARG A 169      29.754  -1.385 -10.416  1.00 13.71           N  \nATOM   1288  CA  ARG A 169      28.323  -1.048 -10.529  1.00 12.75           C  \nATOM   1289  C   ARG A 169      27.601  -2.080  -9.695  1.00 13.29           C  \nATOM   1290  O   ARG A 169      27.993  -3.244  -9.685  1.00 14.68           O  \nATOM   1291  CB  ARG A 169      27.850  -1.254 -11.992  1.00 12.87           C  \nATOM   1292  CG  ARG A 169      26.416  -0.855 -12.240  1.00 12.66           C  \nATOM   1293  CD  ARG A 169      25.813  -1.448 -13.586  1.00 12.67           C  \nATOM   1294  NE  ARG A 169      25.899  -2.917 -13.623  1.00 12.81           N  \nATOM   1295  CZ  ARG A 169      26.759  -3.606 -14.391  1.00 13.50           C  \nATOM   1296  NH1 ARG A 169      27.574  -2.946 -15.201  1.00 15.22           N  \nATOM   1297  NH2 ARG A 169      26.787  -4.939 -14.358  1.00 14.88           N  \nATOM   1298  N   GLY A 170      26.533  -1.645  -8.999  1.00 11.60           N  \nATOM   1299  CA  GLY A 170      25.748  -2.580  -8.211  1.00 11.81           C  \nATOM   1300  C   GLY A 170      25.575  -2.142  -6.784  1.00 11.08           C  \nATOM   1301  O   GLY A 170      25.657  -0.960  -6.457  1.00 12.69           O  \nATOM   1302  N   THR A 171      25.315  -3.129  -5.929  1.00 10.25           N  \nATOM   1303  CA  THR A 171      24.936  -2.776  -4.565  1.00 11.12           C  \nATOM   1304  C   THR A 171      25.505  -3.827  -3.617  1.00 11.28           C  \nATOM   1305  O   THR A 171      25.513  -5.023  -3.915  1.00 12.20           O  \nATOM   1306  CB  THR A 171      23.393  -2.853  -4.494  1.00 12.08           C  \nATOM   1307  OG1 THR A 171      22.816  -1.800  -5.313  1.00 11.85           O  \nATOM   1308  CG2 THR A 171      22.878  -2.566  -3.082  1.00 13.21           C  \nATOM   1309  N   ILE A 172      25.927  -3.354  -2.439  1.00 10.31           N  \nATOM   1310  CA  ILE A 172      26.300  -4.243  -1.335  1.00 10.95           C  \nATOM   1311  C   ILE A 172      25.370  -3.966  -0.173  1.00 10.69           C  \nATOM   1312  O   ILE A 172      25.225  -2.813   0.247  1.00 11.91           O  \nATOM   1313  CB  ILE A 172      27.700  -3.917  -0.848  1.00 11.22           C  \nATOM   1314  CG1 ILE A 172      28.695  -4.250  -1.965  1.00 11.78           C  \nATOM   1315  CG2 ILE A 172      28.044  -4.796   0.398  1.00 12.79           C  \nATOM   1316  CD1 ILE A 172      30.176  -3.871  -1.634  1.00 15.37           C  \nATOM   1317  N   LEU A 173      24.756  -5.009   0.356  1.00 10.88           N  \nATOM   1318  CA  LEU A 173      24.007  -4.907   1.585  1.00 11.32           C  \nATOM   1319  C   LEU A 173      24.973  -5.427   2.638  1.00 10.85           C  \nATOM   1320  O   LEU A 173      25.332  -6.609   2.619  1.00 12.64           O  \nATOM   1321  CB  LEU A 173      22.755  -5.791   1.531  1.00 11.03           C  \nATOM   1322  CG  LEU A 173      21.487  -4.991   1.193  1.00 12.32           C  \nATOM   1323  CD1 LEU A 173      21.559  -4.418  -0.201  1.00 14.11           C  \nATOM   1324  CD2 LEU A 173      20.321  -5.971   1.309  1.00 13.62           C  \nATOM   1325  N   ARG A 174      25.363  -4.547   3.554  1.00 10.22           N  \nATOM   1326  CA  ARG A 174      26.299  -4.924   4.608  1.00 11.54           C  \nATOM   1327  C   ARG A 174      25.463  -5.038   5.887  1.00 10.89           C  \nATOM   1328  O   ARG A 174      25.007  -4.024   6.438  1.00 11.44           O  \nATOM   1329  CB  ARG A 174      27.417  -3.877   4.718  1.00 10.94           C  \nATOM   1330  CG  ARG A 174      28.383  -4.128   5.942  1.00 11.31           C  \nATOM   1331  CD  ARG A 174      29.438  -3.065   6.014  1.00 11.90           C  \nATOM   1332  NE  ARG A 174      30.352  -3.153   4.857  1.00 11.17           N  \nATOM   1333  CZ  ARG A 174      31.107  -2.146   4.433  1.00 11.79           C  \nATOM   1334  NH1 ARG A 174      30.986  -0.933   5.000  1.00 13.28           N  \nATOM   1335  NH2 ARG A 174      31.974  -2.390   3.420  1.00 11.72           N  \nATOM   1336  N   LEU A 175      25.268  -6.281   6.338  1.00 11.00           N  \nATOM   1337  CA  LEU A 175      24.378  -6.575   7.475  1.00 11.72           C  \nATOM   1338  C   LEU A 175      25.256  -6.706   8.709  1.00 11.91           C  \nATOM   1339  O   LEU A 175      26.235  -7.463   8.701  1.00 13.39           O  \nATOM   1340  CB  LEU A 175      23.653  -7.907   7.267  1.00 12.19           C  \nATOM   1341  CG  LEU A 175      22.823  -8.055   5.996  1.00 15.78           C  \nATOM   1342  CD1 LEU A 175      21.923  -9.283   6.271  1.00 16.90           C  \nATOM   1343  CD2 LEU A 175      21.992  -6.894   5.638  1.00 17.48           C  \nATOM   1344  N   PHE A 176      24.916  -5.927   9.736  1.00 12.89           N  \nATOM   1345  CA  PHE A 176      25.616  -6.076  11.026  1.00 13.38           C  \nATOM   1346  C   PHE A 176      24.753  -6.999  11.838  1.00 14.40           C  \nATOM   1347  O   PHE A 176      23.688  -6.629  12.339  1.00 14.72           O  \nATOM   1348  CB  PHE A 176      25.786  -4.719  11.687  1.00 14.28           C  \nATOM   1349  CG  PHE A 176      26.679  -3.787  10.905  1.00 15.59           C  \nATOM   1350  CD1 PHE A 176      26.176  -3.064   9.849  1.00 13.59           C  \nATOM   1351  CD2 PHE A 176      28.021  -3.643  11.241  1.00 16.41           C  \nATOM   1352  CE1 PHE A 176      27.004  -2.238   9.106  1.00 15.77           C  \nATOM   1353  CE2 PHE A 176      28.869  -2.805  10.525  1.00 18.31           C  \nATOM   1354  CZ  PHE A 176      28.342  -2.077   9.447  1.00 15.80           C  \nATOM   1355  N   LEU A 177      25.203  -8.238  11.920  1.00 14.60           N  \nATOM   1356  CA  LEU A 177      24.423  -9.300  12.531  1.00 14.77           C  \nATOM   1357  C   LEU A 177      24.225  -9.138  14.033  1.00 15.75           C  \nATOM   1358  O   LEU A 177      25.103  -8.676  14.760  1.00 16.26           O  \nATOM   1359  CB  LEU A 177      25.099 -10.631  12.234  1.00 15.17           C  \nATOM   1360  CG  LEU A 177      25.171 -11.070  10.771  1.00 15.43           C  \nATOM   1361  CD1 LEU A 177      25.866 -12.458  10.708  1.00 19.53           C  \nATOM   1362  CD2 LEU A 177      23.823 -11.186  10.067  1.00 16.38           C  \nATOM   1363  N   LYS A 178      23.037  -9.540  14.459  1.00 16.17           N  \nATOM   1364  CA  LYS A 178      22.733  -9.594  15.912  1.00 18.03           C  \nATOM   1365  C   LYS A 178      23.618 -10.647  16.571  1.00 19.55           C  \nATOM   1366  O   LYS A 178      23.992 -11.614  15.945  1.00 19.64           O  \nATOM   1367  CB  LYS A 178      21.282  -9.978  16.107  1.00 18.01           C  \nATOM   1368  CG  LYS A 178      20.278  -8.938  15.624  1.00 17.30           C  \nATOM   1369  CD  LYS A 178      18.885  -9.556  15.559  1.00 15.68           C  \nATOM   1370  CE  LYS A 178      17.796  -8.529  15.399  1.00 18.54           C  \nATOM   1371  NZ  LYS A 178      16.381  -9.113  15.295  1.00 17.82           N  \nATOM   1372  N   ASP A 179      23.871 -10.481  17.862  1.00 22.26           N  \nATOM   1373  CA  ASP A 179      24.811 -11.372  18.561  1.00 25.69           C  \nATOM   1374  C   ASP A 179      24.383 -12.833  18.593  1.00 26.32           C  \nATOM   1375  O   ASP A 179      25.235 -13.734  18.717  1.00 26.73           O  \nATOM   1376  CB  ASP A 179      25.031 -10.873  19.988  1.00 26.97           C  \nATOM   1377  CG  ASP A 179      26.019  -9.756  20.060  1.00 32.62           C  \nATOM   1378  OD1 ASP A 179      26.803  -9.622  19.099  1.00 34.82           O  \nATOM   1379  OD2 ASP A 179      26.091  -8.966  21.023  1.00 38.46           O  \nATOM   1380  N   ASP A 180      23.088 -13.095  18.464  1.00 26.82           N  \nATOM   1381  CA  ASP A 180      22.637 -14.471  18.489  1.00 27.71           C  \nATOM   1382  C   ASP A 180      22.365 -15.026  17.105  1.00 26.39           C  \nATOM   1383  O   ASP A 180      21.808 -16.111  16.951  1.00 25.25           O  \nATOM   1384  CB  ASP A 180      21.413 -14.618  19.394  1.00 29.28           C  \nATOM   1385  CG  ASP A 180      20.174 -14.010  18.804  1.00 33.69           C  \nATOM   1386  OD1 ASP A 180      20.268 -12.943  18.160  1.00 34.86           O  \nATOM   1387  OD2 ASP A 180      19.044 -14.525  18.948  1.00 40.63           O  \nATOM   1388  N   GLN A 181      22.789 -14.294  16.066  1.00 24.20           N  \nATOM   1389  CA  GLN A 181      22.552 -14.768  14.727  1.00 24.10           C  \nATOM   1390  C   GLN A 181      23.860 -14.949  13.965  1.00 24.09           C  \nATOM   1391  O   GLN A 181      23.862 -14.929  12.738  1.00 24.15           O  \nATOM   1392  CB  GLN A 181      21.621 -13.794  13.957  1.00 22.71           C  \nATOM   1393  CG  GLN A 181      20.299 -13.572  14.629  1.00 24.69           C  \nATOM   1394  CD  GLN A 181      19.468 -14.827  14.708  1.00 24.79           C  \nATOM   1395  OE1 GLN A 181      19.446 -15.638  13.789  1.00 25.92           O  \nATOM   1396  NE2 GLN A 181      18.741 -14.970  15.820  1.00 27.75           N  \nATOM   1397  N   LEU A 182      24.950 -15.203  14.688  1.00 24.19           N  \nATOM   1398  CA  LEU A 182      26.232 -15.342  14.021  1.00 23.90           C  \nATOM   1399  C   LEU A 182      26.367 -16.613  13.204  1.00 23.75           C  \nATOM   1400  O   LEU A 182      27.361 -16.808  12.512  1.00 23.12           O  \nATOM   1401  CB  LEU A 182      27.382 -15.186  15.012  1.00 24.53           C  \nATOM   1402  CG  LEU A 182      27.338 -13.899  15.822  1.00 25.60           C  \nATOM   1403  CD1 LEU A 182      28.549 -13.788  16.696  1.00 26.28           C  \nATOM   1404  CD2 LEU A 182      27.270 -12.683  14.827  1.00 26.82           C  \nATOM   1405  N   GLU A 183      25.369 -17.493  13.246  1.00 22.60           N  \nATOM   1406  CA  GLU A 183      25.490 -18.695  12.437  1.00 21.74           C  \nATOM   1407  C   GLU A 183      25.550 -18.346  10.951  1.00 21.94           C  \nATOM   1408  O   GLU A 183      25.972 -19.138  10.116  1.00 20.97           O  \nATOM   1409  CB  GLU A 183      24.284 -19.631  12.687  1.00 22.81           C  \nATOM   1410  CG  GLU A 183      22.952 -19.030  12.254  1.00 22.91           C  \nATOM   1411  CD  GLU A 183      21.726 -19.856  12.736  1.00 22.62           C  \nATOM   1412  OE1 GLU A 183      21.387 -19.653  13.921  1.00 27.68           O  \nATOM   1413  OE2 GLU A 183      21.136 -20.627  11.951  1.00 25.34           O  \nATOM   1414  N   TYR A 184      25.049 -17.158  10.616  1.00 20.91           N  \nATOM   1415  CA  TYR A 184      25.007 -16.803   9.208  1.00 21.03           C  \nATOM   1416  C   TYR A 184      26.342 -16.333   8.692  1.00 22.08           C  \nATOM   1417  O   TYR A 184      26.411 -15.858   7.557  1.00 22.28           O  \nATOM   1418  CB  TYR A 184      23.883 -15.778   8.920  1.00 19.57           C  \nATOM   1419  CG  TYR A 184      22.557 -16.401   9.264  1.00 18.59           C  \nATOM   1420  CD1 TYR A 184      21.855 -16.011  10.402  1.00 19.58           C  \nATOM   1421  CD2 TYR A 184      22.051 -17.436   8.500  1.00 17.34           C  \nATOM   1422  CE1 TYR A 184      20.643 -16.674  10.768  1.00 19.52           C  \nATOM   1423  CE2 TYR A 184      20.863 -18.093   8.828  1.00 19.74           C  \nATOM   1424  CZ  TYR A 184      20.156 -17.689   9.972  1.00 21.83           C  \nATOM   1425  OH  TYR A 184      18.989 -18.366  10.311  1.00 21.51           O  \nATOM   1426  N   LEU A 185      27.370 -16.428   9.522  1.00 21.86           N  \nATOM   1427  CA  LEU A 185      28.764 -16.187   9.101  1.00 22.26           C  \nATOM   1428  C   LEU A 185      29.407 -17.489   8.659  1.00 24.03           C  \nATOM   1429  O   LEU A 185      30.464 -17.500   8.037  1.00 24.03           O  \nATOM   1430  CB  LEU A 185      29.597 -15.607  10.242  1.00 23.19           C  \nATOM   1431  CG  LEU A 185      29.202 -14.242  10.801  1.00 22.47           C  \nATOM   1432  CD1 LEU A 185      29.972 -13.928  12.078  1.00 24.83           C  \nATOM   1433  CD2 LEU A 185      29.417 -13.144   9.753  1.00 23.98           C  \nATOM   1434  N   GLU A 186      28.779 -18.605   8.998  1.00 23.84           N  \nATOM   1435  CA  GLU A 186      29.375 -19.906   8.679  1.00 24.98           C  \nATOM   1436  C   GLU A 186      29.098 -20.443   7.268  1.00 23.62           C  \nATOM   1437  O   GLU A 186      27.959 -20.513   6.776  1.00 23.62           O  \nATOM   1438  CB  GLU A 186      28.893 -20.924   9.718  1.00 24.45           C  \nATOM   1439  CG  GLU A 186      29.200 -20.572  11.159  1.00 29.99           C  \nATOM   1440  CD  GLU A 186      28.417 -21.465  12.118  1.00 35.36           C  \nATOM   1441  OE1 GLU A 186      27.623 -22.327  11.661  1.00 37.91           O  \nATOM   1442  OE2 GLU A 186      28.605 -21.289  13.336  1.00 40.41           O  \nATOM   1443  N   GLU A 187      30.157 -20.911   6.606  1.00 24.73           N  \nATOM   1444  CA  GLU A 187      30.053 -21.429   5.264  1.00 23.89           C  \nATOM   1445  C   GLU A 187      28.987 -22.493   5.056  1.00 24.37           C  \nATOM   1446  O   GLU A 187      28.227 -22.447   4.110  1.00 24.09           O  \nATOM   1447  CB  GLU A 187      31.430 -22.006   4.829  1.00 24.81           C  \nATOM   1448  CG  GLU A 187      31.413 -22.699   3.486  1.00 26.69           C  \nATOM   1449  CD  GLU A 187      32.790 -23.256   3.073  1.00 24.13           C  \nATOM   1450  OE1 GLU A 187      33.662 -23.355   3.965  1.00 30.45           O  \nATOM   1451  OE2 GLU A 187      32.978 -23.572   1.881  1.00 28.81           O  \nATOM   1452  N   LYS A 188      28.968 -23.485   5.936  1.00 24.97           N  \nATOM   1453  CA  LYS A 188      28.039 -24.587   5.769  1.00 25.73           C  \nATOM   1454  C   LYS A 188      26.578 -24.114   5.898  1.00 24.13           C  \nATOM   1455  O   LYS A 188      25.727 -24.483   5.089  1.00 25.46           O  \nATOM   1456  CB  LYS A 188      28.363 -25.679   6.795  1.00 26.22           C  \nATOM   1457  CG  LYS A 188      27.519 -26.921   6.673  1.00 30.35           C  \nATOM   1458  N   ARG A 189      26.344 -23.246   6.872  1.00 24.94           N  \nATOM   1459  CA  ARG A 189      25.009 -22.692   7.104  1.00 24.59           C  \nATOM   1460  C   ARG A 189      24.530 -21.875   5.902  1.00 24.04           C  \nATOM   1461  O   ARG A 189      23.431 -22.067   5.378  1.00 24.27           O  \nATOM   1462  CB  ARG A 189      25.006 -21.834   8.356  1.00 24.34           C  \nATOM   1463  CG  ARG A 189      23.608 -21.322   8.694  1.00 23.56           C  \nATOM   1464  CD  ARG A 189      22.629 -22.427   9.164  1.00 25.79           C  \nATOM   1465  NE  ARG A 189      21.376 -21.808   9.644  1.00 23.93           N  \nATOM   1466  CZ  ARG A 189      20.168 -22.072   9.180  1.00 24.40           C  \nATOM   1467  NH1 ARG A 189      19.967 -22.969   8.221  1.00 26.80           N  \nATOM   1468  NH2 ARG A 189      19.132 -21.410   9.698  1.00 25.67           N  \nATOM   1469  N   ILE A 190      25.385 -20.968   5.434  1.00 24.14           N  \nATOM   1470  CA  ILE A 190      25.010 -20.194   4.249  1.00 23.19           C  \nATOM   1471  C   ILE A 190      24.672 -21.042   3.042  1.00 23.92           C  \nATOM   1472  O   ILE A 190      23.657 -20.851   2.393  1.00 22.40           O  \nATOM   1473  CB  ILE A 190      26.137 -19.188   3.884  1.00 23.13           C  \nATOM   1474  CG1 ILE A 190      26.387 -18.211   5.016  1.00 23.83           C  \nATOM   1475  CG2 ILE A 190      25.834 -18.506   2.535  1.00 22.53           C  \nATOM   1476  CD1 ILE A 190      27.700 -17.469   4.845  1.00 24.47           C  \nATOM   1477  N   LYS A 191      25.509 -22.046   2.723  1.00 24.16           N  \nATOM   1478  CA  LYS A 191      25.239 -22.839   1.552  1.00 25.09           C  \nATOM   1479  C   LYS A 191      23.919 -23.593   1.723  1.00 24.29           C  \nATOM   1480  O   LYS A 191      23.192 -23.820   0.752  1.00 24.93           O  \nATOM   1481  CB  LYS A 191      26.330 -23.920   1.353  1.00 24.97           C  \nATOM   1482  CG  LYS A 191      27.699 -23.336   1.042  1.00 28.60           C  \nATOM   1483  CD  LYS A 191      28.682 -24.431   0.591  1.00 35.41           C  \nATOM   1484  CE  LYS A 191      29.954 -23.737   0.171  1.00 39.40           C  \nATOM   1485  NZ  LYS A 191      31.007 -24.749  -0.092  1.00 45.73           N  \nATOM   1486  N   GLU A 192      23.634 -24.021   2.954  1.00 25.29           N  \nATOM   1487  CA  GLU A 192      22.424 -24.776   3.232  1.00 26.36           C  \nATOM   1488  C   GLU A 192      21.184 -23.917   3.007  1.00 25.26           C  \nATOM   1489  O   GLU A 192      20.188 -24.365   2.427  1.00 25.34           O  \nATOM   1490  CB  GLU A 192      22.462 -25.289   4.670  1.00 26.92           C  \nATOM   1491  CG  GLU A 192      21.098 -25.705   5.169  1.00 34.28           C  \nATOM   1492  CD  GLU A 192      21.158 -26.290   6.550  1.00 42.57           C  \nATOM   1493  OE1 GLU A 192      22.291 -26.373   7.108  1.00 47.52           O  \nATOM   1494  OE2 GLU A 192      20.074 -26.686   7.048  1.00 47.47           O  \nATOM   1495  N   VAL A 193      21.271 -22.659   3.435  1.00 24.16           N  \nATOM   1496  CA  VAL A 193      20.135 -21.741   3.257  1.00 23.42           C  \nATOM   1497  C   VAL A 193      19.855 -21.405   1.791  1.00 23.67           C  \nATOM   1498  O   VAL A 193      18.701 -21.387   1.361  1.00 23.95           O  \nATOM   1499  CB  VAL A 193      20.322 -20.475   4.141  1.00 23.01           C  \nATOM   1500  CG1 VAL A 193      19.213 -19.446   3.923  1.00 22.68           C  \nATOM   1501  CG2 VAL A 193      20.388 -20.877   5.612  1.00 22.76           C  \nATOM   1502  N   ILE A 194      20.917 -21.169   1.028  1.00 24.02           N  \nATOM   1503  CA  ILE A 194      20.809 -20.862  -0.398  1.00 26.36           C  \nATOM   1504  C   ILE A 194      20.224 -22.003  -1.163  1.00 26.80           C  \nATOM   1505  O   ILE A 194      19.315 -21.841  -1.947  1.00 27.19           O  \nATOM   1506  CB  ILE A 194      22.230 -20.559  -0.979  1.00 26.21           C  \nATOM   1507  CG1 ILE A 194      22.781 -19.267  -0.392  1.00 28.15           C  \nATOM   1508  CG2 ILE A 194      22.195 -20.516  -2.495  1.00 26.98           C  \nATOM   1509  CD1 ILE A 194      24.237 -19.040  -0.752  1.00 28.63           C  \nATOM   1510  N   LYS A 195      20.740 -23.205  -0.905  1.00 28.45           N  \nATOM   1511  CA  LYS A 195      20.309 -24.360  -1.661  1.00 29.81           C  \nATOM   1512  C   LYS A 195      18.847 -24.618  -1.424  1.00 29.82           C  \nATOM   1513  O   LYS A 195      18.135 -25.065  -2.305  1.00 31.00           O  \nATOM   1514  CB  LYS A 195      21.129 -25.609  -1.286  1.00 29.69           C  \nATOM   1515  CG  LYS A 195      22.578 -25.578  -1.770  1.00 32.97           C  \nATOM   1516  CD  LYS A 195      23.380 -26.742  -1.178  1.00 37.32           C  \nATOM   1517  N   ARG A 196      18.385 -24.267  -0.232  1.00 30.12           N  \nATOM   1518  CA  ARG A 196      17.006 -24.529   0.141  1.00 30.52           C  \nATOM   1519  C   ARG A 196      15.973 -23.621  -0.514  1.00 31.15           C  \nATOM   1520  O   ARG A 196      14.962 -24.078  -1.040  1.00 31.18           O  \nATOM   1521  CB  ARG A 196      16.852 -24.444   1.662  1.00 30.84           C  \nATOM   1522  N   HIS A 197      16.213 -22.320  -0.472  1.00 31.30           N  \nATOM   1523  CA  HIS A 197      15.170 -21.381  -0.865  1.00 32.02           C  \nATOM   1524  C   HIS A 197      15.467 -20.595  -2.109  1.00 31.68           C  \nATOM   1525  O   HIS A 197      14.626 -19.822  -2.533  1.00 33.03           O  \nATOM   1526  CB  HIS A 197      14.874 -20.378   0.267  1.00 32.30           C  \nATOM   1527  CG  HIS A 197      14.333 -20.999   1.516  1.00 34.55           C  \nATOM   1528  ND1 HIS A 197      13.022 -21.410   1.637  1.00 35.22           N  \nATOM   1529  CD2 HIS A 197      14.925 -21.278   2.702  1.00 36.14           C  \nATOM   1530  CE1 HIS A 197      12.831 -21.923   2.840  1.00 36.60           C  \nATOM   1531  NE2 HIS A 197      13.970 -21.860   3.505  1.00 36.96           N  \nATOM   1532  N   SER A 198      16.639 -20.770  -2.711  1.00 31.20           N  \nATOM   1533  CA  SER A 198      16.951 -20.003  -3.917  1.00 30.12           C  \nATOM   1534  C   SER A 198      17.495 -20.879  -5.031  1.00 31.02           C  \nATOM   1535  O   SER A 198      18.578 -20.606  -5.497  1.00 31.93           O  \nATOM   1536  CB  SER A 198      18.002 -18.890  -3.621  1.00 29.93           C  \nATOM   1537  OG  SER A 198      17.649 -18.037  -2.528  1.00 26.42           O  \nATOM   1538  N   GLU A 199      16.734 -21.883  -5.502  1.00 30.63           N  \nATOM   1539  CA  GLU A 199      17.214 -22.832  -6.546  1.00 30.48           C  \nATOM   1540  C   GLU A 199      17.195 -22.336  -8.020  1.00 29.62           C  \nATOM   1541  O   GLU A 199      17.976 -22.780  -8.886  1.00 31.63           O  \nATOM   1542  CB  GLU A 199      16.366 -24.121  -6.487  1.00 31.88           C  \nATOM   1543  CG  GLU A 199      16.629 -25.095  -7.643  1.00 34.43           C  \nATOM   1544  CD  GLU A 199      15.748 -26.356  -7.634  1.00 39.72           C  \nATOM   1545  OE1 GLU A 199      14.844 -26.482  -6.777  1.00 42.24           O  \nATOM   1546  OE2 GLU A 199      15.955 -27.232  -8.507  1.00 42.99           O  \nATOM   1547  N   PHE A 200      16.284 -21.437  -8.317  1.00 26.88           N  \nATOM   1548  CA  PHE A 200      16.134 -20.992  -9.694  1.00 23.59           C  \nATOM   1549  C   PHE A 200      16.568 -19.563  -9.844  1.00 22.93           C  \nATOM   1550  O   PHE A 200      15.766 -18.696 -10.127  1.00 23.77           O  \nATOM   1551  CB  PHE A 200      14.660 -21.137 -10.081  1.00 23.63           C  \nATOM   1552  CG  PHE A 200      14.217 -22.567 -10.135  1.00 22.76           C  \nATOM   1553  CD1 PHE A 200      13.454 -23.104  -9.134  1.00 23.96           C  \nATOM   1554  CD2 PHE A 200      14.618 -23.384 -11.182  1.00 24.90           C  \nATOM   1555  CE1 PHE A 200      13.069 -24.460  -9.192  1.00 25.09           C  \nATOM   1556  CE2 PHE A 200      14.240 -24.716 -11.235  1.00 26.56           C  \nATOM   1557  CZ  PHE A 200      13.465 -25.241 -10.249  1.00 25.49           C  \nATOM   1558  N   VAL A 201      17.860 -19.337  -9.700  1.00 21.72           N  \nATOM   1559  CA  VAL A 201      18.432 -18.003  -9.837  1.00 22.07           C  \nATOM   1560  C   VAL A 201      19.265 -18.052 -11.097  1.00 22.48           C  \nATOM   1561  O   VAL A 201      20.046 -18.978 -11.283  1.00 23.25           O  \nATOM   1562  CB  VAL A 201      19.287 -17.682  -8.578  1.00 22.22           C  \nATOM   1563  CG1 VAL A 201      20.004 -16.346  -8.707  1.00 21.83           C  \nATOM   1564  CG2 VAL A 201      18.408 -17.689  -7.341  1.00 22.06           C  \nATOM   1565  N   ALA A 202      19.106 -17.074 -11.972  1.00 20.94           N  \nATOM   1566  CA  ALA A 202      19.748 -17.091 -13.278  1.00 21.82           C  \nATOM   1567  C   ALA A 202      21.225 -16.709 -13.245  1.00 22.43           C  \nATOM   1568  O   ALA A 202      21.946 -16.934 -14.216  1.00 24.86           O  \nATOM   1569  CB  ALA A 202      18.992 -16.198 -14.251  1.00 21.73           C  \nATOM   1570  N   TYR A 203      21.686 -16.186 -12.110  1.00 20.88           N  \nATOM   1571  CA  TYR A 203      23.050 -15.656 -11.979  1.00 19.83           C  \nATOM   1572  C   TYR A 203      23.854 -16.507 -11.027  1.00 18.78           C  \nATOM   1573  O   TYR A 203      23.291 -17.098 -10.134  1.00 19.67           O  \nATOM   1574  CB  TYR A 203      22.945 -14.230 -11.410  1.00 19.91           C  \nATOM   1575  CG  TYR A 203      22.028 -13.380 -12.257  1.00 17.36           C  \nATOM   1576  CD1 TYR A 203      20.700 -13.152 -11.894  1.00 15.52           C  \nATOM   1577  CD2 TYR A 203      22.465 -12.864 -13.463  1.00 17.57           C  \nATOM   1578  CE1 TYR A 203      19.858 -12.405 -12.692  1.00 16.81           C  \nATOM   1579  CE2 TYR A 203      21.652 -12.163 -14.274  1.00 18.19           C  \nATOM   1580  CZ  TYR A 203      20.319 -11.887 -13.884  1.00 15.49           C  \nATOM   1581  OH  TYR A 203      19.496 -11.146 -14.692  1.00 18.93           O  \nATOM   1582  N   PRO A 204      25.181 -16.554 -11.169  1.00 18.13           N  \nATOM   1583  CA  PRO A 204      26.001 -17.326 -10.245  1.00 17.89           C  \nATOM   1584  C   PRO A 204      25.905 -16.718  -8.864  1.00 17.11           C  \nATOM   1585  O   PRO A 204      25.905 -15.480  -8.771  1.00 18.55           O  \nATOM   1586  CB  PRO A 204      27.440 -17.120 -10.766  1.00 19.77           C  \nATOM   1587  CG  PRO A 204      27.373 -16.070 -11.818  1.00 20.03           C  \nATOM   1588  CD  PRO A 204      25.961 -15.878 -12.211  1.00 17.78           C  \nATOM   1589  N   ILE A 205      25.792 -17.566  -7.855  1.00 17.36           N  \nATOM   1590  CA  ILE A 205      25.810 -17.109  -6.472  1.00 16.75           C  \nATOM   1591  C   ILE A 205      27.160 -17.562  -5.917  1.00 18.22           C  \nATOM   1592  O   ILE A 205      27.458 -18.775  -5.829  1.00 19.73           O  \nATOM   1593  CB  ILE A 205      24.634 -17.685  -5.663  1.00 17.09           C  \nATOM   1594  CG1 ILE A 205      23.309 -17.189  -6.240  1.00 18.02           C  \nATOM   1595  CG2 ILE A 205      24.783 -17.265  -4.190  1.00 19.57           C  \nATOM   1596  CD1 ILE A 205      22.083 -17.827  -5.600  1.00 17.84           C  \nATOM   1597  N   GLN A 206      28.023 -16.594  -5.648  1.00 16.15           N  \nATOM   1598  CA  GLN A 206      29.388 -16.853  -5.190  1.00 15.78           C  \nATOM   1599  C   GLN A 206      29.480 -16.696  -3.696  1.00 17.50           C  \nATOM   1600  O   GLN A 206      28.876 -15.790  -3.120  1.00 18.41           O  \nATOM   1601  CB  GLN A 206      30.333 -15.850  -5.867  1.00 15.65           C  \nATOM   1602  CG  GLN A 206      30.303 -15.987  -7.365  1.00 18.97           C  \nATOM   1603  CD  GLN A 206      31.011 -14.893  -8.094  1.00 23.00           C  \nATOM   1604  OE1 GLN A 206      31.338 -13.866  -7.526  1.00 22.61           O  \nATOM   1605  NE2 GLN A 206      31.241 -15.102  -9.390  1.00 27.66           N  \nATOM   1606  N   LEU A 207      30.228 -17.581  -3.041  1.00 16.00           N  \nATOM   1607  CA  LEU A 207      30.426 -17.500  -1.612  1.00 15.46           C  \nATOM   1608  C   LEU A 207      31.925 -17.327  -1.397  1.00 16.12           C  \nATOM   1609  O   LEU A 207      32.731 -18.086  -1.938  1.00 16.52           O  \nATOM   1610  CB  LEU A 207      29.940 -18.752  -0.873  1.00 16.44           C  \nATOM   1611  CG  LEU A 207      30.187 -18.793   0.630  1.00 18.88           C  \nATOM   1612  CD1 LEU A 207      29.480 -17.631   1.321  1.00 17.94           C  \nATOM   1613  CD2 LEU A 207      29.738 -20.133   1.215  1.00 23.10           C  \nATOM   1614  N   VAL A 208      32.280 -16.280  -0.662  1.00 14.72           N  \nATOM   1615  CA  VAL A 208      33.667 -15.925  -0.407  1.00 16.89           C  \nATOM   1616  C   VAL A 208      34.009 -16.453   0.958  1.00 18.46           C  \nATOM   1617  O   VAL A 208      33.405 -16.106   1.967  1.00 20.57           O  \nATOM   1618  CB  VAL A 208      33.865 -14.417  -0.420  1.00 16.76           C  \nATOM   1619  CG1 VAL A 208      35.337 -14.062  -0.102  1.00 18.10           C  \nATOM   1620  CG2 VAL A 208      33.439 -13.856  -1.742  1.00 16.87           C  \nATOM   1621  N   VAL A 209      34.938 -17.398   0.953  1.00 18.67           N  \nATOM   1622  CA  VAL A 209      35.324 -18.140   2.143  1.00 20.96           C  \nATOM   1623  C   VAL A 209      36.781 -17.880   2.423  1.00 20.78           C  \nATOM   1624  O   VAL A 209      37.614 -17.883   1.515  1.00 19.48           O  \nATOM   1625  CB  VAL A 209      35.129 -19.662   1.934  1.00 22.02           C  \nATOM   1626  CG1 VAL A 209      35.595 -20.457   3.151  1.00 24.99           C  \nATOM   1627  CG2 VAL A 209      33.678 -20.002   1.614  1.00 25.29           C  \nATOM   1628  N   THR A 210      37.087 -17.630   3.685  1.00 22.10           N  \nATOM   1629  CA  THR A 210      38.453 -17.347   4.073  1.00 24.71           C  \nATOM   1630  C   THR A 210      38.948 -18.522   4.879  1.00 26.51           C  \nATOM   1631  O   THR A 210      38.313 -18.890   5.881  1.00 28.31           O  \nATOM   1632  CB  THR A 210      38.465 -16.058   4.913  1.00 24.35           C  \nATOM   1633  OG1 THR A 210      38.021 -14.953   4.116  1.00 27.27           O  \nATOM   1634  CG2 THR A 210      39.896 -15.664   5.290  1.00 26.08           C  \nATOM   1635  N   LYS A 211      40.055 -19.127   4.459  1.00 27.01           N  \nATOM   1636  CA  LYS A 211      40.613 -20.247   5.212  1.00 28.91           C  \nATOM   1637  C   LYS A 211      42.111 -20.182   5.416  1.00 28.24           C  \nATOM   1638  O   LYS A 211      42.858 -19.699   4.576  1.00 25.93           O  \nATOM   1639  CB  LYS A 211      40.305 -21.563   4.536  1.00 29.59           C  \nATOM   1640  CG  LYS A 211      41.080 -21.771   3.281  1.00 34.09           C  \nATOM   1641  CD  LYS A 211      40.475 -22.924   2.489  1.00 40.10           C  \nATOM   1642  CE  LYS A 211      41.184 -23.109   1.171  1.00 41.95           C  \nATOM   1643  NZ  LYS A 211      41.722 -21.833   0.641  1.00 42.46           N  \nATOM   1644  N   GLU A 212      42.537 -20.773   6.526  1.00 28.21           N  \nATOM   1645  CA  GLU A 212      43.942 -20.751   6.879  1.00 28.49           C  \nATOM   1646  C   GLU A 212      44.720 -21.797   6.103  1.00 28.75           C  \nATOM   1647  O   GLU A 212      44.278 -22.945   5.925  1.00 28.90           O  \nATOM   1648  CB  GLU A 212      44.126 -20.916   8.389  1.00 28.83           C  \nATOM   1649  CG  GLU A 212      45.576 -20.737   8.777  1.00 32.00           C  \nATOM   1650  CD  GLU A 212      45.821 -20.798  10.269  1.00 36.29           C  \nATOM   1651  OE1 GLU A 212      44.870 -20.592  11.065  1.00 37.08           O  \nATOM   1652  OE2 GLU A 212      46.994 -21.050  10.619  1.00 38.37           O  \nATOM   1653  N   VAL A 213      45.864 -21.398   5.575  1.00 28.37           N  \nATOM   1654  CA  VAL A 213      46.685 -22.329   4.853  1.00 30.34           C  \nATOM   1655  C   VAL A 213      47.507 -23.074   5.893  1.00 32.13           C  \nATOM   1656  O   VAL A 213      48.186 -22.459   6.715  1.00 32.70           O  \nATOM   1657  CB  VAL A 213      47.612 -21.610   3.876  1.00 29.56           C  \nATOM   1658  CG1 VAL A 213      48.610 -22.595   3.292  1.00 31.34           C  \nATOM   1659  CG2 VAL A 213      46.773 -20.946   2.765  1.00 27.94           C  \nATOM   1660  N   GLU A 214      47.425 -24.396   5.888  1.00 34.34           N  \nATOM   1661  CA  GLU A 214      48.167 -25.166   6.890  1.00 36.09           C  \nATOM   1662  C   GLU A 214      49.322 -25.926   6.250  1.00 37.21           C  \nATOM   1663  O   GLU A 214      50.269 -25.321   5.741  1.00 39.17           O  \nATOM   1664  CB  GLU A 214      47.235 -26.118   7.659  1.00 36.52           C  \nHETATM 1666  C15 CT5 A1215      15.832  -3.998  -6.208  1.00 25.67           C  \nHETATM 1667  C12 CT5 A1215      14.587  -4.452  -5.763  1.00 28.05           C  \nHETATM 1668  O17 CT5 A1215      14.301  -5.791  -5.677  1.00 30.93           O  \nHETATM 1669  O18 CT5 A1215      12.319  -3.924  -4.962  1.00 29.97           O  \nHETATM 1670  C16 CT5 A1215      13.552  -3.469  -5.403  1.00 28.80           C  \nHETATM 1671  C22 CT5 A1215      13.860  -2.115  -5.505  1.00 27.01           C  \nHETATM 1672  C20 CT5 A1215      15.121  -1.683  -5.940  1.00 25.07           C  \nHETATM 1673  C8  CT5 A1215      16.106  -2.626  -6.272  1.00 22.65           C  \nHETATM 1674  C4  CT5 A1215      17.463  -2.201  -6.740  1.00 20.99           C  \nHETATM 1675  C1  CT5 A1215      17.793  -1.365  -7.889  1.00 20.01           C  \nHETATM 1676  C7  CT5 A1215      16.898  -0.697  -8.883  1.00 20.86           C  \nHETATM 1677  N5  CT5 A1215      19.135  -1.325  -7.892  1.00 20.33           N  \nHETATM 1678  C2  CT5 A1215      18.765  -2.576  -6.126  1.00 20.47           C  \nHETATM 1679  N3  CT5 A1215      19.722  -2.059  -6.829  1.00 17.62           N  \nHETATM 1680  C6  CT5 A1215      18.777  -3.426  -4.926  1.00 18.05           C  \nHETATM 1681  C10 CT5 A1215      17.894  -3.156  -3.904  1.00 20.49           C  \nHETATM 1682  C14 CT5 A1215      17.913  -3.976  -2.805  1.00 20.25           C  \nHETATM 1683  C26 CT5 A1215      16.971  -3.760  -1.648  1.00 22.59           C  \nHETATM 1684  C27 CT5 A1215      15.676  -3.093  -2.071  1.00 23.73           C  \nHETATM 1685  C13 CT5 A1215      18.858  -5.086  -2.726  1.00 18.94           C  \nHETATM 1686  C17 CT5 A1215      12.914  -6.160  -5.760  1.00 31.68           C  \nHETATM 1687  O25 CT5 A1215      18.763  -5.850  -1.608  1.00 19.94           O  \nHETATM 1688  C11 CT5 A1215      19.738  -5.362  -3.766  1.00 18.56           C  \nHETATM 1689  C18 CT5 A1215      12.153  -5.328  -4.722  1.00 31.36           C  \nHETATM 1690  C9  CT5 A1215      19.743  -4.525  -4.868  1.00 16.40           C  \nHETATM 1691  O24 CT5 A1215      20.591  -4.693  -5.899  1.00 16.05           O  \nHETATM 1692  O   HOH A2001      33.747  10.121   4.457  1.00 32.57           O  \nHETATM 1693  O   HOH A2002      33.709  14.705   5.205  1.00 49.78           O  \nHETATM 1694  O   HOH A2003      33.271   8.020   7.785  1.00 58.21           O  \nHETATM 1695  O   HOH A2004      27.559  13.039   1.851  1.00 20.69           O  \nHETATM 1696  O   HOH A2005      31.138   7.178   5.627  1.00 21.41           O  \nHETATM 1697  O   HOH A2006      28.574  13.706   9.058  1.00 46.07           O  \nHETATM 1698  O   HOH A2007      28.546   8.223   7.731  1.00 47.90           O  \nHETATM 1699  O   HOH A2008      27.013   8.881   9.642  1.00 55.69           O  \nHETATM 1700  O   HOH A2009      19.244  16.751   3.298  1.00 47.51           O  \nHETATM 1701  O   HOH A2010      23.223  17.640  -0.465  1.00 46.37           O  \nHETATM 1702  O   HOH A2011      24.682  12.764   1.192  1.00 20.03           O  \nHETATM 1703  O   HOH A2012      20.694  17.297  -0.738  1.00 45.18           O  \nHETATM 1704  O   HOH A2013      15.432  15.295   7.785  1.00 58.87           O  \nHETATM 1705  O   HOH A2014      21.025  16.212   7.526  1.00 30.86           O  \nHETATM 1706  O   HOH A2015      23.312  14.391   9.095  1.00 41.06           O  \nHETATM 1707  O   HOH A2016       9.815  12.964  14.033  1.00 44.20           O  \nHETATM 1708  O   HOH A2017      13.186  13.501   5.450  1.00 30.26           O  \nHETATM 1709  O   HOH A2018       9.626  10.848   4.388  1.00 43.10           O  \nHETATM 1710  O   HOH A2019       7.195  -5.599  18.415  1.00 29.96           O  \nHETATM 1711  O   HOH A2020       4.979  -2.964  18.647  1.00 43.44           O  \nHETATM 1712  O   HOH A2021       7.820  10.702   7.609  1.00 52.23           O  \nHETATM 1713  O   HOH A2022       9.742   7.666  10.456  1.00 32.28           O  \nHETATM 1714  O   HOH A2023      34.096  -7.584 -21.398  1.00 50.17           O  \nHETATM 1715  O   HOH A2024       5.386   9.408   7.348  1.00 29.55           O  \nHETATM 1716  O   HOH A2025      16.816 -21.086  12.638  1.00 44.99           O  \nHETATM 1717  O   HOH A2026      -0.724   3.653   8.584  1.00 40.42           O  \nHETATM 1718  O   HOH A2027       1.970   7.976   7.998  1.00 48.15           O  \nHETATM 1719  O   HOH A2028      10.724 -19.006  -0.420  1.00 44.13           O  \nHETATM 1720  O   HOH A2029       0.985   6.010  12.113  1.00 24.51           O  \nHETATM 1721  O   HOH A2030       0.022   1.730  10.264  1.00 39.49           O  \nHETATM 1722  O   HOH A2031       4.293   5.768  13.068  1.00 21.25           O  \nHETATM 1723  O   HOH A2032      -0.683   3.969  12.617  1.00 28.82           O  \nHETATM 1724  O   HOH A2033      14.080  -9.374 -17.331  1.00 50.80           O  \nHETATM 1725  O   HOH A2034      10.771 -10.592 -11.300  1.00 50.97           O  \nHETATM 1726  O   HOH A2035      11.590  -0.678  18.374  1.00 54.51           O  \nHETATM 1727  O   HOH A2036       7.359  -3.326  17.547  1.00 28.45           O  \nHETATM 1728  O   HOH A2037      15.774   2.096 -13.401  1.00 53.74           O  \nHETATM 1729  O   HOH A2038      34.291   3.925   7.869  1.00 35.99           O  \nHETATM 1730  O   HOH A2039       7.691  -7.873  16.784  1.00 29.87           O  \nHETATM 1731  O   HOH A2040      23.338  -9.568 -20.564  1.00 43.52           O  \nHETATM 1732  O   HOH A2041      13.676 -10.496  14.803  1.00 19.74           O  \nHETATM 1733  O   HOH A2042      10.247  -9.320  21.199  1.00 46.54           O  \nHETATM 1734  O   HOH A2043      29.672  -7.656 -21.175  1.00 33.76           O  \nHETATM 1735  O   HOH A2044      33.311  -4.878 -21.320  1.00 33.21           O  \nHETATM 1736  O   HOH A2045      14.148 -12.319  18.248  1.00 46.87           O  \nHETATM 1737  O   HOH A2046       5.842  -9.807  16.214  1.00 53.42           O  \nHETATM 1738  O   HOH A2047      26.047  -9.925 -20.577  1.00 44.12           O  \nHETATM 1739  O   HOH A2048      28.205 -11.828 -19.169  1.00 51.59           O  \nHETATM 1740  O   HOH A2049       7.018 -11.690  18.103  1.00 32.69           O  \nHETATM 1741  O   HOH A2050      13.171 -16.808  18.103  1.00 50.75           O  \nHETATM 1742  O   HOH A2051       7.630 -18.652  15.001  1.00 35.22           O  \nHETATM 1743  O   HOH A2052      36.591 -10.836  -1.292  1.00 25.85           O  \nHETATM 1744  O   HOH A2053      34.404  -0.608   6.743  1.00 35.57           O  \nHETATM 1745  O   HOH A2054       9.515 -19.777   6.620  1.00 44.50           O  \nHETATM 1746  O   HOH A2055      36.848 -10.426   6.341  1.00 47.63           O  \nHETATM 1747  O   HOH A2056      32.564  -3.096  10.771  1.00 35.13           O  \nHETATM 1748  O   HOH A2057      12.855 -13.652  14.741  1.00 52.07           O  \nHETATM 1749  O   HOH A2058      16.136 -11.184  17.442  1.00 28.92           O  \nHETATM 1750  O   HOH A2059      36.362  -8.361   1.620  1.00 47.82           O  \nHETATM 1751  O   HOH A2060      16.315 -17.988   2.804  1.00 22.44           O  \nHETATM 1752  O   HOH A2061      15.822 -20.072  10.246  1.00 27.61           O  \nHETATM 1753  O   HOH A2062      20.234  11.327  -9.762  1.00 40.85           O  \nHETATM 1754  O   HOH A2063      19.148  13.296  -3.775  1.00 29.51           O  \nHETATM 1755  O   HOH A2064      16.311  13.256  -3.672  1.00 36.26           O  \nHETATM 1756  O   HOH A2065      11.448 -16.597   0.466  1.00 44.29           O  \nHETATM 1757  O   HOH A2066       9.304 -13.992  -1.223  1.00 31.93           O  \nHETATM 1758  O   HOH A2067      12.407  -9.516  -1.443  1.00 23.52           O  \nHETATM 1759  O   HOH A2068      10.668 -12.597  -2.734  1.00 44.75           O  \nHETATM 1760  O   HOH A2069      12.596  -9.431  -5.073  1.00 27.46           O  \nHETATM 1761  O   HOH A2070       1.608  -8.482  14.147  1.00 48.32           O  \nHETATM 1762  O   HOH A2071      17.201 -15.025 -11.499  1.00 20.13           O  \nHETATM 1763  O   HOH A2072      13.549 -11.769  -8.192  1.00 39.83           O  \nHETATM 1764  O   HOH A2073       2.818 -18.261   3.819  1.00 31.04           O  \nHETATM 1765  O   HOH A2074       5.425 -14.277  14.059  1.00 48.07           O  \nHETATM 1766  O   HOH A2075       4.521 -19.472   2.688  1.00 51.72           O  \nHETATM 1767  O   HOH A2076      15.026 -11.956 -10.804  1.00 18.48           O  \nHETATM 1768  O   HOH A2077      16.542  -9.061 -17.872  1.00 24.53           O  \nHETATM 1769  O   HOH A2078      16.235 -13.882 -13.814  1.00 21.51           O  \nHETATM 1770  O   HOH A2079      12.907  -9.092 -12.533  1.00 32.28           O  \nHETATM 1771  O   HOH A2080      13.357 -13.438 -13.316  1.00 48.14           O  \nHETATM 1772  O   HOH A2081       6.007  -7.233  -5.401  1.00 38.88           O  \nHETATM 1773  O   HOH A2082      11.234  -4.797  -9.620  1.00 47.29           O  \nHETATM 1774  O   HOH A2083      12.365  -7.094 -14.089  1.00 39.72           O  \nHETATM 1775  O   HOH A2084      19.449 -10.326 -21.937  1.00 52.16           O  \nHETATM 1776  O   HOH A2085      16.931  -8.955 -20.507  1.00 32.52           O  \nHETATM 1777  O   HOH A2086      16.367  -1.783 -22.987  1.00 22.01           O  \nHETATM 1778  O   HOH A2087       9.857  -6.265 -22.362  1.00 44.47           O  \nHETATM 1779  O   HOH A2088      18.605  -2.743  18.020  1.00 42.52           O  \nHETATM 1780  O   HOH A2089      22.018  -0.385  16.840  1.00 52.01           O  \nHETATM 1781  O   HOH A2090      16.817   2.096 -16.069  1.00 44.15           O  \nHETATM 1782  O   HOH A2091      29.783   4.756   6.489  1.00 18.04           O  \nHETATM 1783  O   HOH A2092      32.753   1.754   6.853  1.00 30.74           O  \nHETATM 1784  O   HOH A2093      21.789  -7.514 -22.245  1.00 51.11           O  \nHETATM 1785  O   HOH A2094      17.713  -3.402 -28.791  1.00 23.17           O  \nHETATM 1786  O   HOH A2095      22.207   3.437 -26.628  1.00 34.75           O  \nHETATM 1787  O   HOH A2096      23.300  13.407  -9.476  1.00 49.06           O  \nHETATM 1788  O   HOH A2097      28.267  10.558 -11.801  1.00 47.12           O  \nHETATM 1789  O   HOH A2098      20.470  13.539  -6.157  1.00 31.00           O  \nHETATM 1790  O   HOH A2099      25.764   4.447 -22.312  1.00 50.74           O  \nHETATM 1791  O   HOH A2100      19.813   4.548 -22.413  1.00 34.72           O  \nHETATM 1792  O   HOH A2101      22.812   6.159 -22.746  1.00 43.07           O  \nHETATM 1793  O   HOH A2102      23.354  14.605  -5.862  1.00 41.52           O  \nHETATM 1794  O   HOH A2103      28.797  -4.073 -23.133  1.00 29.42           O  \nHETATM 1795  O   HOH A2104      29.444   2.561 -19.078  1.00 35.85           O  \nHETATM 1796  O   HOH A2105      25.471   1.632 -25.393  1.00 27.02           O  \nHETATM 1797  O   HOH A2106      10.464   2.869  16.169  1.00 36.03           O  \nHETATM 1798  O   HOH A2107      10.777   5.099  16.104  1.00 46.51           O  \nHETATM 1799  O   HOH A2108      24.228   7.807  12.189  1.00 37.70           O  \nHETATM 1800  O   HOH A2109      30.221  -2.262 -24.752  1.00 45.61           O  \nHETATM 1801  O   HOH A2110      34.608  -3.096 -19.352  1.00 31.03           O  \nHETATM 1802  O   HOH A2111      30.425  -4.992 -21.167  1.00 30.57           O  \nHETATM 1803  O   HOH A2112      38.033   7.670   6.586  1.00 45.05           O  \nHETATM 1804  O   HOH A2113      33.943   0.434 -13.436  1.00 30.07           O  \nHETATM 1805  O   HOH A2114      34.408  -7.884 -13.954  1.00 41.24           O  \nHETATM 1806  O   HOH A2115      34.588  -7.647 -10.005  1.00 49.62           O  \nHETATM 1807  O   HOH A2116      31.065  -4.292 -10.048  1.00 36.54           O  \nHETATM 1808  O   HOH A2117      34.993  -3.603 -12.266  1.00 61.19           O  \nHETATM 1809  O   HOH A2118      28.396  -8.597 -19.692  1.00 37.12           O  \nHETATM 1810  O   HOH A2119      35.488 -12.494 -15.453  1.00 49.36           O  \nHETATM 1811  O   HOH A2120      28.573 -12.382 -16.500  1.00 26.20           O  \nHETATM 1812  O   HOH A2121      28.107 -14.228 -14.841  1.00 34.66           O  \nHETATM 1813  O   HOH A2122      33.791  -8.680  -3.550  1.00 26.24           O  \nHETATM 1814  O   HOH A2123      33.175 -12.259 -11.103  1.00 49.68           O  \nHETATM 1815  O   HOH A2124      34.219  -9.996 -10.662  1.00 49.08           O  \nHETATM 1816  O   HOH A2125      33.931  -9.770  -1.084  1.00 18.44           O  \nHETATM 1817  O   HOH A2126      29.983 -10.073  -1.046  1.00 14.41           O  \nHETATM 1818  O   HOH A2127      34.283  -3.691   6.312  1.00 52.73           O  \nHETATM 1819  O   HOH A2128      35.538  -4.454   2.209  1.00 29.62           O  \nHETATM 1820  O   HOH A2129      36.664 -10.541   9.177  1.00 36.49           O  \nHETATM 1821  O   HOH A2130      31.256  -4.198  13.063  1.00 35.53           O  \nHETATM 1822  O   HOH A2131      27.222  -6.911  13.866  1.00 26.99           O  \nHETATM 1823  O   HOH A2132      37.101 -15.593   7.746  1.00 52.39           O  \nHETATM 1824  O   HOH A2133      30.500  -7.410  -0.778  1.00 13.69           O  \nHETATM 1825  O   HOH A2134      34.160  -7.429   0.825  1.00 33.98           O  \nHETATM 1826  O   HOH A2135      35.782  -6.720  -6.273  1.00 66.89           O  \nHETATM 1827  O   HOH A2136      29.267  -5.097  -7.639  1.00 29.60           O  \nHETATM 1828  O   HOH A2137      22.165  -3.147  -7.735  1.00 13.85           O  \nHETATM 1829  O   HOH A2138      22.769  -7.431  -3.061  1.00 13.68           O  \nHETATM 1830  O   HOH A2139      18.488   9.150  -9.990  1.00 25.35           O  \nHETATM 1831  O   HOH A2140      19.606  15.343  -1.375  1.00 52.39           O  \nHETATM 1832  O   HOH A2141      14.725  10.862  -3.931  1.00 31.08           O  \nHETATM 1833  O   HOH A2142      14.612   5.821 -10.892  1.00 55.31           O  \nHETATM 1834  O   HOH A2143      12.200  -1.654  -2.241  1.00 51.73           O  \nHETATM 1835  O   HOH A2144      10.959   2.029   0.664  1.00 25.94           O  \nHETATM 1836  O   HOH A2145      13.506   5.467  -7.080  1.00 29.28           O  \nHETATM 1837  O   HOH A2146      15.169   2.395  -8.938  1.00 31.22           O  \nHETATM 1838  O   HOH A2147       4.033   3.054  -1.673  1.00 34.89           O  \nHETATM 1839  O   HOH A2148       5.131   1.970  -4.088  1.00 56.69           O  \nHETATM 1840  O   HOH A2149       0.961   0.694   2.756  1.00 53.48           O  \nHETATM 1841  O   HOH A2150       0.208  -0.805   0.182  1.00 63.56           O  \nHETATM 1842  O   HOH A2151       4.955  -0.340  -1.556  1.00 27.21           O  \nHETATM 1843  O   HOH A2152       3.379  -1.312  -3.190  1.00 58.54           O  \nHETATM 1844  O   HOH A2153      -1.034  -1.615   1.915  1.00 51.43           O  \nHETATM 1845  O   HOH A2154      -3.224  -6.840   3.824  1.00 25.45           O  \nHETATM 1846  O   HOH A2155       1.254  -6.272  12.544  1.00 31.09           O  \nHETATM 1847  O   HOH A2156      -5.168  -5.239   4.613  1.00 37.32           O  \nHETATM 1848  O   HOH A2157      -0.546 -12.464  14.572  1.00 50.75           O  \nHETATM 1849  O   HOH A2158      -7.125 -13.907  11.515  1.00 27.06           O  \nHETATM 1850  O   HOH A2159       1.579 -13.312  11.846  1.00 24.93           O  \nHETATM 1851  O   HOH A2160       0.857 -17.223   5.449  1.00 21.33           O  \nHETATM 1852  O   HOH A2161       4.676 -15.628  11.148  1.00 25.06           O  \nHETATM 1853  O   HOH A2162       7.007 -14.064   0.040  1.00 31.41           O  \nHETATM 1854  O   HOH A2163       6.080 -17.938   1.677  1.00 39.12           O  \nHETATM 1855  O   HOH A2164      10.457 -15.572   2.671  1.00 33.56           O  \nHETATM 1856  O   HOH A2165      10.159 -10.251  -4.187  1.00 48.00           O  \nHETATM 1857  O   HOH A2166       9.429  -7.796  -4.315  1.00 37.01           O  \nHETATM 1858  O   HOH A2167       4.814  -2.958  -2.288  1.00 46.44           O  \nHETATM 1859  O   HOH A2168      11.047  -2.826  -0.349  1.00 34.82           O  \nHETATM 1860  O   HOH A2169       8.941  -3.737  -4.283  1.00 40.05           O  \nHETATM 1861  O   HOH A2170      10.451  -7.658  -1.890  1.00 19.13           O  \nHETATM 1862  O   HOH A2171      12.188  -5.430  -0.981  1.00 15.91           O  \nHETATM 1863  O   HOH A2172      19.161  -1.397  15.886  1.00 23.93           O  \nHETATM 1864  O   HOH A2173      26.999  -2.330  14.962  1.00 39.70           O  \nHETATM 1865  O   HOH A2174      23.099   3.514  12.298  1.00 37.26           O  \nHETATM 1866  O   HOH A2175      31.131   0.957   8.906  1.00 40.05           O  \nHETATM 1867  O   HOH A2176      30.373   2.342   5.102  1.00 15.11           O  \nHETATM 1868  O   HOH A2177      30.596   3.985   9.020  1.00 38.44           O  \nHETATM 1869  O   HOH A2178      31.666   4.877 -13.133  1.00 41.68           O  \nHETATM 1870  O   HOH A2179      30.494   6.983 -12.624  1.00 40.29           O  \nHETATM 1871  O   HOH A2180      20.451   3.128 -11.055  1.00 22.03           O  \nHETATM 1872  O   HOH A2181      29.108   5.672 -15.226  1.00 34.41           O  \nHETATM 1873  O   HOH A2182      28.703   2.516 -12.265  1.00 17.07           O  \nHETATM 1874  O   HOH A2183      23.535   1.628 -13.576  1.00 17.83           O  \nHETATM 1875  O   HOH A2184      21.273   5.907 -17.738  1.00 50.87           O  \nHETATM 1876  O   HOH A2185      21.984   3.072 -15.303  1.00 26.93           O  \nHETATM 1877  O   HOH A2186      22.711  11.305 -10.623  1.00 34.98           O  \nHETATM 1878  O   HOH A2187      20.971  11.101  -7.254  1.00 19.37           O  \nHETATM 1879  O   HOH A2188      26.666  12.423 -10.187  1.00 37.43           O  \nHETATM 1880  O   HOH A2189      24.958   5.597  -7.357  1.00 12.07           O  \nHETATM 1881  O   HOH A2190      31.900   7.765  -6.287  1.00 25.46           O  \nHETATM 1882  O   HOH A2191      32.348   3.335  -7.443  1.00 21.78           O  \nHETATM 1883  O   HOH A2192      25.775  12.889  -6.393  1.00 29.40           O  \nHETATM 1884  O   HOH A2193      25.495  14.528  -2.207  1.00 31.63           O  \nHETATM 1885  O   HOH A2194      27.071   5.432   6.808  1.00 21.07           O  \nHETATM 1886  O   HOH A2195      28.234   4.586  10.557  1.00 38.13           O  \nHETATM 1887  O   HOH A2196      21.641   4.911  11.307  1.00 40.19           O  \nHETATM 1888  O   HOH A2197      16.950   3.681  10.690  1.00 18.82           O  \nHETATM 1889  O   HOH A2198      11.383   1.203  14.010  1.00 27.48           O  \nHETATM 1890  O   HOH A2199      13.510   6.173  15.897  1.00 33.83           O  \nHETATM 1891  O   HOH A2200      17.171   5.986  13.164  1.00 26.84           O  \nHETATM 1892  O   HOH A2201      24.847   6.843   9.729  1.00 27.95           O  \nHETATM 1893  O   HOH A2202      25.207   7.006   5.386  1.00 13.78           O  \nHETATM 1894  O   HOH A2203      32.208   8.176   3.262  1.00 17.45           O  \nHETATM 1895  O   HOH A2204      31.820   8.099  -3.943  1.00 32.49           O  \nHETATM 1896  O   HOH A2205      38.053   8.694   3.624  1.00 24.83           O  \nHETATM 1897  O   HOH A2206      36.650  10.979   3.803  1.00 41.97           O  \nHETATM 1898  O   HOH A2207      32.772  -4.295   1.060  1.00 20.64           O  \nHETATM 1899  O   HOH A2208      32.714  -7.054  -2.270  1.00 24.05           O  \nHETATM 1900  O   HOH A2209      36.073  -7.326  -3.725  1.00 25.93           O  \nHETATM 1901  O   HOH A2210      34.655  -1.987   1.654  1.00 17.99           O  \nHETATM 1902  O   HOH A2211      38.523  -0.287  -4.324  1.00 20.07           O  \nHETATM 1903  O   HOH A2212      35.289  -4.075  -5.505  1.00 40.56           O  \nHETATM 1904  O   HOH A2213      33.693   5.876  -6.818  1.00 31.65           O  \nHETATM 1905  O   HOH A2214      32.365   2.462 -11.884  1.00 26.27           O  \nHETATM 1906  O   HOH A2215      34.595  -3.437  -8.655  1.00 46.95           O  \nHETATM 1907  O   HOH A2216      25.837  -5.742  15.288  1.00 48.15           O  \nHETATM 1908  O   HOH A2217      22.773  -8.138  19.038  1.00 35.22           O  \nHETATM 1909  O   HOH A2218      25.248 -16.127  17.483  1.00 27.88           O  \nHETATM 1910  O   HOH A2219      26.127  -7.988  17.249  1.00 36.17           O  \nHETATM 1911  O   HOH A2220      27.294 -13.974  20.654  1.00 48.98           O  \nHETATM 1912  O   HOH A2221      18.464 -11.345  18.841  1.00 40.89           O  \nHETATM 1913  O   HOH A2222      20.977 -11.020  19.860  1.00 49.66           O  \nHETATM 1914  O   HOH A2223      19.611 -18.444  17.688  1.00 58.45           O  \nHETATM 1915  O   HOH A2224      23.269 -17.967  15.359  1.00 24.84           O  \nHETATM 1916  O   HOH A2225      18.323 -17.877  13.008  1.00 26.68           O  \nHETATM 1917  O   HOH A2226      17.437 -17.544  16.599  1.00 51.77           O  \nHETATM 1918  O   HOH A2227      29.751 -17.749  13.287  1.00 34.64           O  \nHETATM 1919  O   HOH A2228      19.338 -19.666  15.402  1.00 42.64           O  \nHETATM 1920  O   HOH A2229      19.113 -22.387  13.068  1.00 39.64           O  \nHETATM 1921  O   HOH A2230      32.993 -16.812   8.503  1.00 44.59           O  \nHETATM 1922  O   HOH A2231      32.860 -18.513   6.403  1.00 46.34           O  \nHETATM 1923  O   HOH A2232      36.492 -24.040   3.357  1.00 52.41           O  \nHETATM 1924  O   HOH A2233      34.602 -21.972   6.289  1.00 39.49           O  \nHETATM 1925  O   HOH A2234      32.888 -20.956   7.919  1.00 43.01           O  \nHETATM 1926  O   HOH A2235      35.270 -24.422   1.034  1.00 49.99           O  \nHETATM 1927  O   HOH A2236      31.033 -23.956   8.011  1.00 31.63           O  \nHETATM 1928  O   HOH A2237      25.695 -27.043   3.447  1.00 40.30           O  \nHETATM 1929  O   HOH A2238      19.988 -27.212   2.120  1.00 39.11           O  \nHETATM 1930  O   HOH A2239      18.327 -26.462  -5.000  1.00 63.36           O  \nHETATM 1931  O   HOH A2240      13.601 -21.438   5.691  1.00 74.16           O  \nHETATM 1932  O   HOH A2241      16.123 -16.122  -3.584  1.00 22.16           O  \nHETATM 1933  O   HOH A2242      18.009 -18.650   0.335  1.00 23.06           O  \nHETATM 1934  O   HOH A2243      19.825 -21.212  -7.504  1.00 45.98           O  \nHETATM 1935  O   HOH A2244      14.921 -16.420 -11.269  1.00 25.34           O  \nHETATM 1936  O   HOH A2245      15.055 -20.293  -6.721  1.00 52.72           O  \nHETATM 1937  O   HOH A2246      21.697 -19.022 -16.150  1.00 45.59           O  \nHETATM 1938  O   HOH A2247      24.798 -18.394 -14.646  1.00 43.45           O  \nHETATM 1939  O   HOH A2248      22.656 -19.813  -9.663  1.00 30.78           O  \nHETATM 1940  O   HOH A2249      31.014 -17.921 -10.745  1.00 42.17           O  \nHETATM 1941  O   HOH A2250      31.584 -13.848 -12.033  1.00 55.19           O  \nHETATM 1942  O   HOH A2251      34.869 -14.722   3.970  1.00 25.72           O  \nHETATM 1943  O   HOH A2252      35.003 -17.198   5.681  1.00 38.13           O  \nHETATM 1944  O   HOH A2253      37.393 -12.101   4.512  1.00 52.80           O  \nHETATM 1945  O   HOH A2254      39.159 -20.600   1.562  1.00 41.31           O  \nHETATM 1946  O   HOH A2255      48.702 -20.387   8.539  1.00 30.44           O  \nHETATM 1947  O   HOH A2256      45.978 -25.641   3.122  1.00 39.05           O  \nHETATM 1948  O   HOH A2257      47.493 -26.980   4.869  1.00 60.05           O  \nHETATM 1949  O   HOH A2258      20.380  -7.911  -1.824  1.00 15.88           O  \n",
                    "binary": false
                  }
                ],
                "kwargs": {
                  "defaultRepresentation": true,
                  "ext": "pdb"
                }
              },
              {
                "target": "Widget",
                "type": "call_method",
                "methodName": "setSize",
                "reconstruc_color_scheme": false,
                "args": [
                  "600px",
                  "400px"
                ],
                "kwargs": {}
              }
            ],
            "_ngl_original_stage_parameters": {
              "impostor": true,
              "quality": "medium",
              "workerDefault": true,
              "sampleLevel": 0,
              "backgroundColor": "white",
              "rotateSpeed": 2,
              "zoomSpeed": 1.2,
              "panSpeed": 1,
              "clipNear": 0,
              "clipFar": 100,
              "clipDist": 10,
              "fogNear": 50,
              "fogFar": 100,
              "cameraFov": 40,
              "cameraEyeSep": 0.3,
              "cameraType": "perspective",
              "lightColor": 14540253,
              "lightIntensity": 1,
              "ambientColor": 14540253,
              "ambientIntensity": 0.2,
              "hoverTimeout": 0,
              "tooltip": true,
              "mousePreset": "default"
            },
            "_ngl_repr_dict": {
              "0": {
                "0": {
                  "type": "cartoon",
                  "params": {
                    "lazy": false,
                    "visible": true,
                    "quality": "high",
                    "aspectRatio": 5,
                    "subdiv": 6,
                    "radialSegments": 20,
                    "tension": null,
                    "capped": true,
                    "smoothSheet": false,
                    "radiusType": "sstruc",
                    "radiusData": {},
                    "radiusSize": 1,
                    "radiusScale": 0.7,
                    "assembly": "default",
                    "defaultAssembly": "",
                    "clipNear": 0,
                    "clipRadius": 0,
                    "clipCenter": {
                      "x": 0,
                      "y": 0,
                      "z": 0
                    },
                    "flatShaded": false,
                    "opacity": 1,
                    "depthWrite": true,
                    "side": "double",
                    "wireframe": false,
                    "colorScheme": "residueindex",
                    "colorScale": "spectral",
                    "colorReverse": true,
                    "colorValue": 9474192,
                    "colorMode": "hcl",
                    "roughness": 0.4,
                    "metalness": 0,
                    "diffuse": 16777215,
                    "diffuseInterior": false,
                    "useInteriorColor": true,
                    "interiorColor": 2236962,
                    "interiorDarkening": 0,
                    "matrix": {
                      "elements": [
                        1,
                        0,
                        0,
                        0,
                        0,
                        1,
                        0,
                        0,
                        0,
                        0,
                        1,
                        0,
                        0,
                        0,
                        0,
                        1
                      ]
                    },
                    "disablePicking": false,
                    "sele": ""
                  }
                },
                "1": {
                  "type": "base",
                  "params": {
                    "lazy": false,
                    "visible": true,
                    "quality": "high",
                    "sphereDetail": 2,
                    "radialSegments": 20,
                    "openEnded": true,
                    "disableImpostor": false,
                    "aspectRatio": 1,
                    "lineOnly": false,
                    "cylinderOnly": false,
                    "bondScale": 0.4,
                    "linewidth": 2,
                    "radiusType": "size",
                    "radiusData": {},
                    "radiusSize": 0.3,
                    "radiusScale": 1,
                    "assembly": "default",
                    "defaultAssembly": "",
                    "clipNear": 0,
                    "clipRadius": 0,
                    "clipCenter": {
                      "x": 0,
                      "y": 0,
                      "z": 0
                    },
                    "flatShaded": false,
                    "opacity": 1,
                    "depthWrite": true,
                    "side": "double",
                    "wireframe": false,
                    "colorScheme": "residueindex",
                    "colorScale": "spectral",
                    "colorReverse": true,
                    "colorValue": 9474192,
                    "colorMode": "hcl",
                    "roughness": 0.4,
                    "metalness": 0,
                    "diffuse": 16777215,
                    "diffuseInterior": false,
                    "useInteriorColor": true,
                    "interiorColor": 2236962,
                    "interiorDarkening": 0,
                    "matrix": {
                      "elements": [
                        1,
                        0,
                        0,
                        0,
                        0,
                        1,
                        0,
                        0,
                        0,
                        0,
                        1,
                        0,
                        0,
                        0,
                        0,
                        1
                      ]
                    },
                    "disablePicking": false,
                    "sele": ""
                  }
                },
                "2": {
                  "type": "ball+stick",
                  "params": {
                    "lazy": false,
                    "visible": true,
                    "quality": "high",
                    "sphereDetail": 2,
                    "radialSegments": 20,
                    "openEnded": true,
                    "disableImpostor": false,
                    "aspectRatio": 1.5,
                    "lineOnly": false,
                    "cylinderOnly": false,
                    "multipleBond": "off",
                    "bondScale": 0.3,
                    "bondSpacing": 0.75,
                    "linewidth": 2,
                    "radiusType": "size",
                    "radiusData": {},
                    "radiusSize": 0.15,
                    "radiusScale": 2,
                    "assembly": "default",
                    "defaultAssembly": "",
                    "clipNear": 0,
                    "clipRadius": 0,
                    "clipCenter": {
                      "x": 0,
                      "y": 0,
                      "z": 0
                    },
                    "flatShaded": false,
                    "opacity": 1,
                    "depthWrite": true,
                    "side": "double",
                    "wireframe": false,
                    "colorScheme": "element",
                    "colorScale": "",
                    "colorReverse": false,
                    "colorValue": 9474192,
                    "colorMode": "hcl",
                    "roughness": 0.4,
                    "metalness": 0,
                    "diffuse": 16777215,
                    "diffuseInterior": false,
                    "useInteriorColor": true,
                    "interiorColor": 2236962,
                    "interiorDarkening": 0,
                    "matrix": {
                      "elements": [
                        1,
                        0,
                        0,
                        0,
                        0,
                        1,
                        0,
                        0,
                        0,
                        0,
                        1,
                        0,
                        0,
                        0,
                        0,
                        1
                      ]
                    },
                    "disablePicking": false,
                    "sele": "ligand"
                  }
                }
              },
              "1": {
                "0": {
                  "type": "cartoon",
                  "params": {
                    "lazy": false,
                    "visible": true,
                    "quality": "high",
                    "aspectRatio": 5,
                    "subdiv": 6,
                    "radialSegments": 20,
                    "tension": null,
                    "capped": true,
                    "smoothSheet": false,
                    "radiusType": "sstruc",
                    "radiusData": {},
                    "radiusSize": 1,
                    "radiusScale": 0.7,
                    "assembly": "default",
                    "defaultAssembly": "",
                    "clipNear": 0,
                    "clipRadius": 0,
                    "clipCenter": {
                      "x": 0,
                      "y": 0,
                      "z": 0
                    },
                    "flatShaded": false,
                    "opacity": 1,
                    "depthWrite": true,
                    "side": "double",
                    "wireframe": false,
                    "colorScheme": "residueindex",
                    "colorScale": "spectral",
                    "colorReverse": true,
                    "colorValue": 9474192,
                    "colorMode": "hcl",
                    "roughness": 0.4,
                    "metalness": 0,
                    "diffuse": 16777215,
                    "diffuseInterior": false,
                    "useInteriorColor": true,
                    "interiorColor": 2236962,
                    "interiorDarkening": 0,
                    "matrix": {
                      "elements": [
                        1,
                        0,
                        0,
                        0,
                        0,
                        1,
                        0,
                        0,
                        0,
                        0,
                        1,
                        0,
                        0,
                        0,
                        0,
                        1
                      ]
                    },
                    "disablePicking": false,
                    "sele": ""
                  }
                },
                "1": {
                  "type": "base",
                  "params": {
                    "lazy": false,
                    "visible": true,
                    "quality": "high",
                    "sphereDetail": 2,
                    "radialSegments": 20,
                    "openEnded": true,
                    "disableImpostor": false,
                    "aspectRatio": 1,
                    "lineOnly": false,
                    "cylinderOnly": false,
                    "bondScale": 0.4,
                    "linewidth": 2,
                    "radiusType": "size",
                    "radiusData": {},
                    "radiusSize": 0.3,
                    "radiusScale": 1,
                    "assembly": "default",
                    "defaultAssembly": "",
                    "clipNear": 0,
                    "clipRadius": 0,
                    "clipCenter": {
                      "x": 0,
                      "y": 0,
                      "z": 0
                    },
                    "flatShaded": false,
                    "opacity": 1,
                    "depthWrite": true,
                    "side": "double",
                    "wireframe": false,
                    "colorScheme": "residueindex",
                    "colorScale": "spectral",
                    "colorReverse": true,
                    "colorValue": 9474192,
                    "colorMode": "hcl",
                    "roughness": 0.4,
                    "metalness": 0,
                    "diffuse": 16777215,
                    "diffuseInterior": false,
                    "useInteriorColor": true,
                    "interiorColor": 2236962,
                    "interiorDarkening": 0,
                    "matrix": {
                      "elements": [
                        1,
                        0,
                        0,
                        0,
                        0,
                        1,
                        0,
                        0,
                        0,
                        0,
                        1,
                        0,
                        0,
                        0,
                        0,
                        1
                      ]
                    },
                    "disablePicking": false,
                    "sele": ""
                  }
                },
                "2": {
                  "type": "ball+stick",
                  "params": {
                    "lazy": false,
                    "visible": true,
                    "quality": "high",
                    "sphereDetail": 2,
                    "radialSegments": 20,
                    "openEnded": true,
                    "disableImpostor": false,
                    "aspectRatio": 1.5,
                    "lineOnly": false,
                    "cylinderOnly": false,
                    "multipleBond": "off",
                    "bondScale": 0.3,
                    "bondSpacing": 0.75,
                    "linewidth": 2,
                    "radiusType": "size",
                    "radiusData": {},
                    "radiusSize": 0.15,
                    "radiusScale": 2,
                    "assembly": "default",
                    "defaultAssembly": "",
                    "clipNear": 0,
                    "clipRadius": 0,
                    "clipCenter": {
                      "x": 0,
                      "y": 0,
                      "z": 0
                    },
                    "flatShaded": false,
                    "opacity": 1,
                    "depthWrite": true,
                    "side": "double",
                    "wireframe": false,
                    "colorScheme": "element",
                    "colorScale": "",
                    "colorReverse": false,
                    "colorValue": 9474192,
                    "colorMode": "hcl",
                    "roughness": 0.4,
                    "metalness": 0,
                    "diffuse": 16777215,
                    "diffuseInterior": false,
                    "useInteriorColor": true,
                    "interiorColor": 2236962,
                    "interiorDarkening": 0,
                    "matrix": {
                      "elements": [
                        1,
                        0,
                        0,
                        0,
                        0,
                        1,
                        0,
                        0,
                        0,
                        0,
                        1,
                        0,
                        0,
                        0,
                        0,
                        1
                      ]
                    },
                    "disablePicking": false,
                    "sele": "ligand"
                  }
                }
              }
            },
            "_ngl_serialize": false,
            "_ngl_version": "2.0.0-dev.36",
            "_ngl_view_id": [
              "E719D866-3092-46FE-98C4-A556BA590F28"
            ],
            "_player_dict": {},
            "_scene_position": {},
            "_scene_rotation": {},
            "_synced_model_ids": [],
            "_synced_repr_model_ids": [],
            "_view_count": null,
            "_view_height": "",
            "_view_module": "nglview-js-widgets",
            "_view_module_version": "3.0.1",
            "_view_name": "NGLView",
            "_view_width": "",
            "background": "white",
            "frame": 0,
            "gui_style": null,
            "layout": "IPY_MODEL_4133130f39d146f99dd0ea37687e95c2",
            "max_frame": 0,
            "n_components": 2,
            "picked": {}
          }
        },
        "4133130f39d146f99dd0ea37687e95c2": {
          "model_module": "@jupyter-widgets/base",
          "model_name": "LayoutModel",
          "model_module_version": "1.0.0",
          "state": {
            "_model_module": "@jupyter-widgets/base",
            "_model_module_version": "1.0.0",
            "_model_name": "LayoutModel",
            "_view_count": null,
            "_view_module": "@jupyter-widgets/base",
            "_view_module_version": "1.0.0",
            "_view_name": "LayoutView",
            "align_content": null,
            "align_items": null,
            "align_self": null,
            "border": null,
            "bottom": null,
            "display": null,
            "flex": null,
            "flex_flow": null,
            "height": null,
            "justify_content": null,
            "left": null,
            "margin": null,
            "max_height": null,
            "max_width": null,
            "min_height": null,
            "min_width": null,
            "order": null,
            "overflow": null,
            "overflow_x": null,
            "overflow_y": null,
            "padding": null,
            "right": null,
            "top": null,
            "visibility": null,
            "width": null
          }
        },
        "f6d4f079f2214333bd4312c4cfd207bc": {
          "model_module": "@jupyter-widgets/controls",
          "model_name": "ButtonModel",
          "model_module_version": "1.0.0",
          "state": {
            "_dom_classes": [],
            "_model_module": "@jupyter-widgets/controls",
            "_model_module_version": "1.0.0",
            "_model_name": "ButtonModel",
            "_view_count": null,
            "_view_module": "@jupyter-widgets/controls",
            "_view_module_version": "1.0.0",
            "_view_name": "ButtonView",
            "button_style": "",
            "description": "",
            "disabled": false,
            "icon": "compress",
            "layout": "IPY_MODEL_1b21d55ef75e4288a238fa42a74a93d6",
            "style": "IPY_MODEL_8fcd331312f346aba68ca08eb420ec36",
            "tooltip": ""
          }
        },
        "8d061d8c5d1a4ddab135f0992c25d7a7": {
          "model_module": "@jupyter-widgets/controls",
          "model_name": "HBoxModel",
          "model_module_version": "1.0.0",
          "state": {
            "_dom_classes": [],
            "_model_module": "@jupyter-widgets/controls",
            "_model_module_version": "1.0.0",
            "_model_name": "HBoxModel",
            "_view_count": null,
            "_view_module": "@jupyter-widgets/controls",
            "_view_module_version": "1.0.0",
            "_view_name": "HBoxView",
            "box_style": "",
            "children": [
              "IPY_MODEL_81ce244e1f1c42a697f4c2d97b1bc05e",
              "IPY_MODEL_2ffe9985f5d94948b86461ef4498ea7f"
            ],
            "layout": "IPY_MODEL_42493392f68b4282ac3f177c0885b7dd"
          }
        },
        "6723ebe42502419cb27fdbeb8ffd95c9": {
          "model_module": "@jupyter-widgets/base",
          "model_name": "LayoutModel",
          "model_module_version": "1.0.0",
          "state": {
            "_model_module": "@jupyter-widgets/base",
            "_model_module_version": "1.0.0",
            "_model_name": "LayoutModel",
            "_view_count": null,
            "_view_module": "@jupyter-widgets/base",
            "_view_module_version": "1.0.0",
            "_view_name": "LayoutView",
            "align_content": null,
            "align_items": null,
            "align_self": null,
            "border": null,
            "bottom": null,
            "display": null,
            "flex": null,
            "flex_flow": null,
            "height": null,
            "justify_content": null,
            "left": null,
            "margin": null,
            "max_height": null,
            "max_width": null,
            "min_height": null,
            "min_width": null,
            "order": null,
            "overflow": null,
            "overflow_x": null,
            "overflow_y": null,
            "padding": null,
            "right": null,
            "top": null,
            "visibility": null,
            "width": null
          }
        },
        "a49682d757994dc0b770e6d28cd2f3a1": {
          "model_module": "@jupyter-widgets/controls",
          "model_name": "DescriptionStyleModel",
          "model_module_version": "1.0.0",
          "state": {
            "_model_module": "@jupyter-widgets/controls",
            "_model_module_version": "1.0.0",
            "_model_name": "DescriptionStyleModel",
            "_view_count": null,
            "_view_module": "@jupyter-widgets/base",
            "_view_module_version": "1.0.0",
            "_view_name": "StyleView",
            "description_width": ""
          }
        },
        "b93c6f045df64224805e9b0b8cc926df": {
          "model_module": "@jupyter-widgets/base",
          "model_name": "LayoutModel",
          "model_module_version": "1.0.0",
          "state": {
            "_model_module": "@jupyter-widgets/base",
            "_model_module_version": "1.0.0",
            "_model_name": "LayoutModel",
            "_view_count": null,
            "_view_module": "@jupyter-widgets/base",
            "_view_module_version": "1.0.0",
            "_view_name": "LayoutView",
            "align_content": null,
            "align_items": null,
            "align_self": null,
            "border": null,
            "bottom": null,
            "display": null,
            "flex": null,
            "flex_flow": null,
            "height": null,
            "justify_content": null,
            "left": null,
            "margin": null,
            "max_height": null,
            "max_width": null,
            "min_height": null,
            "min_width": null,
            "order": null,
            "overflow": null,
            "overflow_x": null,
            "overflow_y": null,
            "padding": null,
            "right": null,
            "top": null,
            "visibility": null,
            "width": null
          }
        },
        "e0f672b71e2148a8a112036bd8a7c687": {
          "model_module": "@jupyter-widgets/controls",
          "model_name": "SliderStyleModel",
          "model_module_version": "1.0.0",
          "state": {
            "_model_module": "@jupyter-widgets/controls",
            "_model_module_version": "1.0.0",
            "_model_name": "SliderStyleModel",
            "_view_count": null,
            "_view_module": "@jupyter-widgets/base",
            "_view_module_version": "1.0.0",
            "_view_name": "StyleView",
            "description_width": "",
            "handle_color": null
          }
        },
        "81ce244e1f1c42a697f4c2d97b1bc05e": {
          "model_module": "@jupyter-widgets/controls",
          "model_name": "PlayModel",
          "model_module_version": "1.0.0",
          "state": {
            "_dom_classes": [],
            "_model_module": "@jupyter-widgets/controls",
            "_model_module_version": "1.0.0",
            "_model_name": "PlayModel",
            "_playing": false,
            "_repeat": false,
            "_view_count": null,
            "_view_module": "@jupyter-widgets/controls",
            "_view_module_version": "1.0.0",
            "_view_name": "PlayView",
            "description": "",
            "disabled": false,
            "interval": 100,
            "layout": "IPY_MODEL_6723ebe42502419cb27fdbeb8ffd95c9",
            "max": 0,
            "min": 0,
            "show_repeat": true,
            "step": 1,
            "style": "IPY_MODEL_a49682d757994dc0b770e6d28cd2f3a1",
            "value": 0
          }
        },
        "2ffe9985f5d94948b86461ef4498ea7f": {
          "model_module": "@jupyter-widgets/controls",
          "model_name": "IntSliderModel",
          "model_module_version": "1.0.0",
          "state": {
            "_dom_classes": [],
            "_model_module": "@jupyter-widgets/controls",
            "_model_module_version": "1.0.0",
            "_model_name": "IntSliderModel",
            "_view_count": null,
            "_view_module": "@jupyter-widgets/controls",
            "_view_module_version": "1.0.0",
            "_view_name": "IntSliderView",
            "continuous_update": true,
            "description": "",
            "disabled": false,
            "layout": "IPY_MODEL_b93c6f045df64224805e9b0b8cc926df",
            "max": 0,
            "min": 0,
            "orientation": "horizontal",
            "readout": true,
            "readout_format": "d",
            "step": 1,
            "style": "IPY_MODEL_e0f672b71e2148a8a112036bd8a7c687",
            "value": 0
          }
        },
        "1b21d55ef75e4288a238fa42a74a93d6": {
          "model_module": "@jupyter-widgets/base",
          "model_name": "LayoutModel",
          "model_module_version": "1.0.0",
          "state": {
            "_model_module": "@jupyter-widgets/base",
            "_model_module_version": "1.0.0",
            "_model_name": "LayoutModel",
            "_view_count": null,
            "_view_module": "@jupyter-widgets/base",
            "_view_module_version": "1.0.0",
            "_view_name": "LayoutView",
            "align_content": null,
            "align_items": null,
            "align_self": null,
            "border": null,
            "bottom": null,
            "display": null,
            "flex": null,
            "flex_flow": null,
            "height": null,
            "justify_content": null,
            "left": null,
            "margin": null,
            "max_height": null,
            "max_width": null,
            "min_height": null,
            "min_width": null,
            "order": null,
            "overflow": null,
            "overflow_x": null,
            "overflow_y": null,
            "padding": null,
            "right": null,
            "top": null,
            "visibility": null,
            "width": "34px"
          }
        },
        "8fcd331312f346aba68ca08eb420ec36": {
          "model_module": "@jupyter-widgets/controls",
          "model_name": "ButtonStyleModel",
          "model_module_version": "1.0.0",
          "state": {
            "_model_module": "@jupyter-widgets/controls",
            "_model_module_version": "1.0.0",
            "_model_name": "ButtonStyleModel",
            "_view_count": null,
            "_view_module": "@jupyter-widgets/base",
            "_view_module_version": "1.0.0",
            "_view_name": "StyleView",
            "button_color": null,
            "font_weight": ""
          }
        },
        "42493392f68b4282ac3f177c0885b7dd": {
          "model_module": "@jupyter-widgets/base",
          "model_name": "LayoutModel",
          "model_module_version": "1.0.0",
          "state": {
            "_model_module": "@jupyter-widgets/base",
            "_model_module_version": "1.0.0",
            "_model_name": "LayoutModel",
            "_view_count": null,
            "_view_module": "@jupyter-widgets/base",
            "_view_module_version": "1.0.0",
            "_view_name": "LayoutView",
            "align_content": null,
            "align_items": null,
            "align_self": null,
            "border": null,
            "bottom": null,
            "display": null,
            "flex": null,
            "flex_flow": null,
            "height": null,
            "justify_content": null,
            "left": null,
            "margin": null,
            "max_height": null,
            "max_width": null,
            "min_height": null,
            "min_width": null,
            "order": null,
            "overflow": null,
            "overflow_x": null,
            "overflow_y": null,
            "padding": null,
            "right": null,
            "top": null,
            "visibility": null,
            "width": null
          }
        },
        "99a70319b4ca41d2b7c2880dc09168fa": {
          "model_module": "nglview-js-widgets",
          "model_name": "NGLModel",
          "model_module_version": "3.0.1",
          "state": {
            "_camera_orientation": [
              51.146526591607,
              138.97691161217458,
              -73.1938273402959,
              0,
              147.66271083267026,
              -16.29953270397501,
              72.23527232276705,
              0,
              53.55037022772444,
              -87.79310210226731,
              -129.27727788014397,
              0,
              -22.631500482559204,
              5.436500549316406,
              2.8474998474121094,
              1
            ],
            "_camera_str": "orthographic",
            "_dom_classes": [],
            "_gui_theme": null,
            "_ibtn_fullscreen": "IPY_MODEL_67a2f1e815b842e6935234b3db87818c",
            "_igui": null,
            "_iplayer": "IPY_MODEL_24b22b658a5b4dd58eda771256a5daa5",
            "_model_module": "nglview-js-widgets",
            "_model_module_version": "3.0.1",
            "_model_name": "NGLModel",
            "_ngl_color_dict": {},
            "_ngl_coordinate_resource": {},
            "_ngl_full_stage_parameters": {
              "impostor": true,
              "quality": "medium",
              "workerDefault": true,
              "sampleLevel": 0,
              "backgroundColor": "white",
              "rotateSpeed": 2,
              "zoomSpeed": 1.2,
              "panSpeed": 1,
              "clipNear": 0,
              "clipFar": 100,
              "clipDist": 10,
              "fogNear": 50,
              "fogFar": 100,
              "cameraFov": 40,
              "cameraEyeSep": 0.3,
              "cameraType": "perspective",
              "lightColor": 14540253,
              "lightIntensity": 1,
              "ambientColor": 14540253,
              "ambientIntensity": 0.2,
              "hoverTimeout": 0,
              "tooltip": true,
              "mousePreset": "default"
            },
            "_ngl_msg_archive": [
              {
                "target": "Stage",
                "type": "call_method",
                "methodName": "loadFile",
                "reconstruc_color_scheme": false,
                "args": [
                  {
                    "type": "blob",
                    "data": "ATOM      1  N   MET A   1      33.050  12.973   3.916  1.00 39.39           N\nATOM      2  CA  MET A   1      32.080  14.100   3.862  1.00 38.29           C\nATOM      3  C   MET A   1      30.953  13.936   4.885  1.00 37.36           C\nATOM      4  O   MET A   1      30.838  12.911   5.590  1.00 37.93           O\nATOM      5  CB  MET A   1      31.526  14.308   2.438  1.00 38.85           C\nATOM      6  N   ALA A   2      30.143  14.975   4.991  1.00 35.49           N\nATOM      7  CA  ALA A   2      29.061  14.961   5.946  1.00 33.10           C\nATOM      8  C   ALA A   2      27.916  14.113   5.410  1.00 31.03           C\nATOM      9  O   ALA A   2      27.625  14.096   4.218  1.00 30.48           O\nATOM     10  CB  ALA A   2      28.585  16.359   6.229  1.00 33.84           C\nATOM     11  N   SER A   3      27.291  13.413   6.329  1.00 28.88           N\nATOM     12  CA  SER A   3      26.114  12.628   6.050  1.00 26.78           C\nATOM     13  C   SER A   3      24.897  13.548   6.013  1.00 25.46           C\nATOM     14  O   SER A   3      24.903  14.616   6.635  1.00 27.72           O\nATOM     15  CB  SER A   3      25.930  11.628   7.186  1.00 26.97           C\nATOM     16  OG  SER A   3      27.070  10.778   7.297  1.00 29.95           O\nATOM     17  N   GLU A   4      23.863  13.159   5.271  1.00 22.40           N\nATOM     18  CA  GLU A   4      22.588  13.858   5.311  1.00 21.11           C\nATOM     19  C   GLU A   4      21.595  12.891   5.949  1.00 20.34           C\nATOM     20  O   GLU A   4      21.680  11.672   5.722  1.00 18.50           O\nATOM     21  CB  GLU A   4      22.116  14.172   3.908  1.00 21.46           C\nATOM     22  CG  GLU A   4      22.892  15.306   3.261  1.00 26.09           C\nATOM     23  CD  GLU A   4      22.630  15.384   1.769  1.00 32.97           C\nATOM     24  OE1 GLU A   4      21.465  15.617   1.387  1.00 38.16           O\nATOM     25  OE2 GLU A   4      23.584  15.218   0.979  1.00 38.74           O\nATOM     26  N   THR A   5      20.671  13.426   6.740  1.00 19.30           N\nATOM     27  CA  THR A   5      19.715  12.600   7.462  1.00 19.48           C\nATOM     28  C   THR A   5      18.312  12.789   6.889  1.00 19.54           C\nATOM     29  O   THR A   5      17.901  13.921   6.561  1.00 20.44           O\nATOM     30  CB  THR A   5      19.775  12.951   8.950  1.00 19.50           C\nATOM     31  OG1 THR A   5      21.094  12.635   9.456  1.00 22.43           O\nATOM     32  CG2 THR A   5      18.817  12.038   9.749  1.00 20.59           C\nATOM     33  N   PHE A   6      17.570  11.685   6.771  1.00 17.16           N\nATOM     34  CA  PHE A   6      16.219  11.691   6.196  1.00 18.00           C\nATOM     35  C   PHE A   6      15.277  10.891   7.072  1.00 18.44           C\nATOM     36  O   PHE A   6      15.706   9.976   7.751  1.00 19.31           O\nATOM     37  CB  PHE A   6      16.222  11.038   4.820  1.00 18.96           C\nATOM     38  CG  PHE A   6      17.102  11.720   3.856  1.00 18.53           C\nATOM     39  CD1 PHE A   6      18.460  11.409   3.840  1.00 19.17           C\nATOM     40  CD2 PHE A   6      16.606  12.683   2.970  1.00 20.58           C\nATOM     41  CE1 PHE A   6      19.305  12.036   2.947  1.00 20.28           C\nATOM     42  CE2 PHE A   6      17.477  13.329   2.083  1.00 20.49           C\nATOM     43  CZ  PHE A   6      18.835  12.997   2.105  1.00 18.85           C\nATOM     44  N   GLU A   7      14.000  11.235   7.054  1.00 19.84           N\nATOM     45  CA  GLU A   7      13.026  10.478   7.815  1.00 20.66           C\nATOM     46  C   GLU A   7      12.367   9.406   6.945  1.00 18.60           C\nATOM     47  O   GLU A   7      11.979   9.660   5.773  1.00 19.08           O\nATOM     48  CB  GLU A   7      11.936  11.421   8.358  1.00 22.17           C\nATOM     49  CG  GLU A   7      11.461  11.020   9.746  1.00 31.05           C\nATOM     50  CD  GLU A   7      10.354  11.905  10.307  1.00 38.00           C\nATOM     51  OE1 GLU A   7      10.102  13.015   9.752  1.00 42.43           O\nATOM     52  OE2 GLU A   7       9.709  11.470  11.301  1.00 42.74           O\nATOM     53  N   PHE A   8      12.185   8.203   7.495  1.00 17.76           N\nATOM     54  CA  PHE A   8      11.420   7.180   6.764  1.00 16.56           C\nATOM     55  C   PHE A   8       9.939   7.518   6.766  1.00 16.37           C\nATOM     56  O   PHE A   8       9.451   8.139   7.723  1.00 17.80           O\nATOM     57  CB  PHE A   8      11.434   5.827   7.525  1.00 15.52           C\nATOM     58  CG  PHE A   8      12.691   5.033   7.334  1.00 14.96           C\nATOM     59  CD1 PHE A   8      13.717   5.136   8.248  1.00 15.44           C\nATOM     60  CD2 PHE A   8      12.796   4.137   6.278  1.00 14.37           C\nATOM     61  CE1 PHE A   8      14.905   4.424   8.076  1.00 15.27           C\nATOM     62  CE2 PHE A   8      13.944   3.411   6.109  1.00 16.20           C\nATOM     63  CZ  PHE A   8      14.987   3.529   7.018  1.00 14.18           C\nATOM     64  N   GLN A   9       9.228   7.080   5.743  1.00 17.29           N\nATOM     65  CA  GLN A   9       7.761   7.073   5.824  1.00 18.07           C\nATOM     66  C   GLN A   9       7.390   6.260   7.074  1.00 18.98           C\nATOM     67  O   GLN A   9       7.955   5.180   7.321  1.00 17.09           O\nATOM     68  CB  GLN A   9       7.110   6.478   4.582  1.00 19.54           C\nATOM     69  CG  GLN A   9       7.297   7.306   3.341  1.00 25.55           C\nATOM     70  CD  GLN A   9       6.715   8.695   3.500  1.00 36.08           C\nATOM     71  OE1 GLN A   9       5.859   8.919   4.358  1.00 40.04           O\nATOM     72  NE2 GLN A   9       7.172   9.632   2.670  1.00 39.83           N\nATOM     73  N   ALA A  10       6.427   6.741   7.875  1.00 18.03           N\nATOM     74  CA  ALA A  10       6.229   6.140   9.195  1.00 18.26           C\nATOM     75  C   ALA A  10       5.871   4.663   9.159  1.00 16.53           C\nATOM     76  O   ALA A  10       6.261   3.930  10.041  1.00 15.94           O\nATOM     77  CB  ALA A  10       5.146   6.919   9.974  1.00 18.39           C\nATOM     78  N   GLU A  11       5.145   4.237   8.138  1.00 16.79           N\nATOM     79  CA  GLU A  11       4.766   2.820   8.081  1.00 17.31           C\nATOM     80  C   GLU A  11       5.978   1.910   7.879  1.00 16.34           C\nATOM     81  O   GLU A  11       5.963   0.767   8.326  1.00 15.78           O\nATOM     82  CB  GLU A  11       3.729   2.560   6.986  1.00 17.95           C\nATOM     83  CG  GLU A  11       2.392   3.203   7.340  1.00 22.32           C\nATOM     84  CD  GLU A  11       2.314   4.667   6.971  1.00 29.15           C\nATOM     85  OE1 GLU A  11       3.332   5.274   6.491  1.00 28.32           O\nATOM     86  OE2 GLU A  11       1.201   5.223   7.169  1.00 32.62           O\nATOM     87  N   ILE A  12       7.024   2.412   7.229  1.00 16.67           N\nATOM     88  CA  ILE A  12       8.258   1.607   7.104  1.00 15.50           C\nATOM     89  C   ILE A  12       8.935   1.466   8.464  1.00 14.39           C\nATOM     90  O   ILE A  12       9.411   0.400   8.826  1.00 14.97           O\nATOM     91  CB  ILE A  12       9.201   2.230   6.076  1.00 15.30           C\nATOM     92  CG1 ILE A  12       8.477   2.372   4.738  1.00 16.65           C\nATOM     93  CG2 ILE A  12      10.476   1.327   5.877  1.00 16.74           C\nATOM     94  CD1 ILE A  12       9.313   3.089   3.666  1.00 16.80           C\nATOM     95  N   THR A  13       8.939   2.548   9.250  1.00 13.97           N\nATOM     96  CA  THR A  13       9.480   2.509  10.589  1.00 14.12           C\nATOM     97  C   THR A  13       8.682   1.506  11.448  1.00 14.40           C\nATOM     98  O   THR A  13       9.270   0.766  12.236  1.00 14.26           O\nATOM     99  CB  THR A  13       9.360   3.911  11.197  1.00 14.71           C\nATOM    100  OG1 THR A  13      10.101   4.812  10.346  1.00 17.51           O\nATOM    101  CG2 THR A  13      10.061   3.970  12.538  1.00 15.96           C\nATOM    102  N   GLN A  14       7.369   1.489  11.288  1.00 14.19           N\nATOM    103  CA  GLN A  14       6.547   0.490  11.976  1.00 14.43           C\nATOM    104  C   GLN A  14       6.941  -0.922  11.575  1.00 14.53           C\nATOM    105  O   GLN A  14       7.160  -1.773  12.431  1.00 14.71           O\nATOM    106  CB  GLN A  14       5.073   0.698  11.679  1.00 14.06           C\nATOM    107  CG  GLN A  14       4.571   2.042  12.200  1.00 16.56           C\nATOM    108  CD  GLN A  14       3.131   2.332  11.834  1.00 20.58           C\nATOM    109  OE1 GLN A  14       2.411   1.446  11.349  1.00 22.79           O\nATOM    110  NE2 GLN A  14       2.693   3.561  12.081  1.00 21.20           N\nATOM    111  N   LEU A  15       7.094  -1.151  10.275  1.00 15.20           N\nATOM    112  CA  LEU A  15       7.469  -2.503   9.837  1.00 15.41           C\nATOM    113  C   LEU A  15       8.837  -2.917  10.374  1.00 15.73           C\nATOM    114  O   LEU A  15       9.035  -4.039  10.865  1.00 14.31           O\nATOM    115  CB  LEU A  15       7.370  -2.639   8.311  1.00 16.07           C\nATOM    116  CG  LEU A  15       7.710  -4.099   7.905  1.00 17.62           C\nATOM    117  CD1 LEU A  15       6.805  -5.170   8.555  1.00 19.96           C\nATOM    118  CD2 LEU A  15       7.693  -4.207   6.394  1.00 22.75           C\nATOM    119  N   MET A  16       9.801  -2.009  10.301  1.00 14.02           N\nATOM    120  CA  MET A  16      11.142  -2.365  10.806  1.00 14.70           C\nATOM    121  C   MET A  16      11.125  -2.749  12.270  1.00 14.80           C\nATOM    122  O   MET A  16      11.873  -3.626  12.697  1.00 16.45           O\nATOM    123  CB  MET A  16      12.140  -1.228  10.586  1.00 15.72           C\nATOM    124  CG  MET A  16      12.434  -1.027   9.103  1.00 15.71           C\nATOM    125  SD  MET A  16      13.743   0.161   8.798  1.00 14.62           S\nATOM    126  CE  MET A  16      13.037   1.668   9.384  1.00 17.53           C\nATOM    127  N   SER A  17      10.343  -2.009  13.045  1.00 15.41           N\nATOM    128  CA  SER A  17      10.215  -2.248  14.485  1.00 16.73           C\nATOM    129  C   SER A  17       9.645  -3.639  14.738  1.00 16.08           C\nATOM    130  O   SER A  17      10.178  -4.379  15.584  1.00 18.39           O\nATOM    131  CB  SER A  17       9.303  -1.172  15.113  1.00 17.08           C\nATOM    132  OG  SER A  17       9.231  -1.370  16.546  1.00 20.25           O\nATOM    133  N   LEU A  18       8.603  -4.007  14.009  1.00 17.24           N\nATOM    134  CA  LEU A  18       7.993  -5.343  14.145  1.00 17.40           C\nATOM    135  C   LEU A  18       8.999  -6.439  13.809  1.00 17.57           C\nATOM    136  O   LEU A  18       9.127  -7.436  14.524  1.00 19.19           O\nATOM    137  CB  LEU A  18       6.757  -5.487  13.252  1.00 18.58           C\nATOM    138  CG  LEU A  18       5.539  -4.634  13.612  1.00 21.34           C\nATOM    139  CD1 LEU A  18       4.408  -4.815  12.618  1.00 23.10           C\nATOM    140  CD2 LEU A  18       5.097  -5.086  15.037  1.00 23.09           C\nATOM    141  N   ILE A  19       9.801  -6.213  12.768  1.00 16.55           N\nATOM    142  CA  ILE A  19      10.680  -7.277  12.291  1.00 15.73           C\nATOM    143  C   ILE A  19      11.904  -7.436  13.176  1.00 16.36           C\nATOM    144  O   ILE A  19      12.377  -8.523  13.422  1.00 16.63           O\nATOM    145  CB  ILE A  19      11.133  -6.976  10.845  1.00 14.90           C\nATOM    146  CG1 ILE A  19       9.936  -7.046   9.942  1.00 14.03           C\nATOM    147  CG2 ILE A  19      12.211  -7.997  10.371  1.00 16.14           C\nATOM    148  CD1 ILE A  19      10.251  -6.792   8.496  1.00 19.55           C\nATOM    149  N   ILE A  20      12.510  -6.307  13.585  1.00 16.30           N\nATOM    150  CA  ILE A  20      13.705  -6.384  14.410  1.00 16.06           C\nATOM    151  C   ILE A  20      13.364  -7.000  15.756  1.00 17.71           C\nATOM    152  O   ILE A  20      14.210  -7.635  16.362  1.00 18.45           O\nATOM    153  CB  ILE A  20      14.446  -5.021  14.561  1.00 17.18           C\nATOM    154  CG1 ILE A  20      15.902  -5.254  14.988  1.00 16.16           C\nATOM    155  CG2 ILE A  20      13.671  -4.065  15.543  1.00 18.19           C\nATOM    156  CD1 ILE A  20      16.736  -3.966  15.023  1.00 19.08           C\nATOM    157  N   ASN A  21      12.111  -6.837  16.183  1.00 18.15           N\nATOM    158  CA  ASN A  21      11.735  -7.389  17.489  1.00 20.14           C\nATOM    159  C   ASN A  21      11.055  -8.749  17.473  1.00 21.10           C\nATOM    160  O   ASN A  21      10.930  -9.372  18.538  1.00 22.19           O\nATOM    161  CB  ASN A  21      10.848  -6.376  18.245  1.00 19.88           C\nATOM    162  CG  ASN A  21      11.635  -5.173  18.763  1.00 19.89           C\nATOM    163  OD1 ASN A  21      12.554  -5.326  19.584  1.00 26.86           O\nATOM    164  ND2 ASN A  21      11.325  -3.977  18.255  1.00 21.02           N\nATOM    165  N   THR A  22      10.597  -9.236  16.315  1.00 20.09           N\nATOM    166  CA  THR A  22       9.792 -10.438  16.337  1.00 20.83           C\nATOM    167  C   THR A  22      10.554 -11.666  16.755  1.00 21.40           C\nATOM    168  O   THR A  22      11.758 -11.820  16.475  1.00 20.89           O\nATOM    169  CB  THR A  22       9.130 -10.655  15.002  1.00 21.58           C\nATOM    170  OG1 THR A  22       8.375 -11.870  15.047  1.00 21.08           O\nATOM    171  CG2 THR A  22      10.194 -10.923  13.921  1.00 20.57           C\nATOM    172  N   VAL A  23       9.836 -12.584  17.401  1.00 21.53           N\nATOM    173  CA  VAL A  23      10.480 -13.833  17.786  1.00 22.16           C\nATOM    174  C   VAL A  23      10.234 -14.961  16.787  1.00 22.54           C\nATOM    175  O   VAL A  23      10.479 -16.119  17.085  1.00 22.96           O\nATOM    176  CB  VAL A  23      10.118 -14.284  19.247  1.00 22.59           C\nATOM    177  CG1 VAL A  23      10.649 -13.294  20.267  1.00 23.39           C\nATOM    178  CG2 VAL A  23       8.631 -14.518  19.381  1.00 24.37           C\nATOM    179  N   TYR A  24       9.757 -14.616  15.591  1.00 21.82           N\nATOM    180  CA  TYR A  24       9.594 -15.556  14.468  1.00 22.38           C\nATOM    181  C   TYR A  24      10.749 -16.555  14.358  1.00 22.68           C\nATOM    182  O   TYR A  24      11.929 -16.165  14.391  1.00 24.00           O\nATOM    183  CB  TYR A  24       9.524 -14.715  13.173  1.00 22.24           C\nATOM    184  CG  TYR A  24       9.316 -15.501  11.903  1.00 22.63           C\nATOM    185  CD1 TYR A  24       8.089 -16.162  11.643  1.00 22.57           C\nATOM    186  CD2 TYR A  24      10.332 -15.603  10.963  1.00 20.99           C\nATOM    187  CE1 TYR A  24       7.899 -16.860  10.471  1.00 21.70           C\nATOM    188  CE2 TYR A  24      10.157 -16.316   9.787  1.00 23.00           C\nATOM    189  CZ  TYR A  24       8.944 -16.941   9.548  1.00 23.48           C\nATOM    190  OH  TYR A  24       8.760 -17.642   8.390  1.00 23.07           O\nATOM    191  N   SER A  25      10.431 -17.835  14.208  1.00 23.15           N\nATOM    192  CA  SER A  25      11.454 -18.855  14.244  1.00 25.14           C\nATOM    193  C   SER A  25      12.383 -18.922  13.024  1.00 24.97           C\nATOM    194  O   SER A  25      13.599 -19.047  13.167  1.00 27.74           O\nATOM    195  CB  SER A  25      10.823 -20.237  14.485  1.00 25.30           C\nATOM    196  OG  SER A  25      10.036 -20.633  13.378  1.00 31.33           O\nATOM    197  N   ASN A  26      11.798 -18.803  11.838  1.00 23.87           N\nATOM    198  CA  ASN A  26      12.496 -19.085  10.593  1.00 22.96           C\nATOM    199  C   ASN A  26      13.247 -17.877  10.025  1.00 21.23           C\nATOM    200  O   ASN A  26      12.992 -17.475   8.889  1.00 21.66           O\nATOM    201  CB  ASN A  26      11.544 -19.663   9.550  1.00 24.64           C\nATOM    202  CG  ASN A  26      12.270 -20.539   8.497  1.00 28.78           C\nATOM    203  OD1 ASN A  26      13.306 -21.164   8.787  1.00 38.08           O\nATOM    204  ND2 ASN A  26      11.720 -20.593   7.290  1.00 36.26           N\nATOM    205  N   LYS A  27      14.176 -17.357  10.812  1.00 20.46           N\nATOM    206  CA  LYS A  27      14.887 -16.108  10.416  1.00 19.75           C\nATOM    207  C   LYS A  27      15.671 -16.267   9.129  1.00 19.93           C\nATOM    208  O   LYS A  27      15.891 -15.253   8.412  1.00 17.92           O\nATOM    209  CB  LYS A  27      15.768 -15.579  11.552  1.00 19.28           C\nATOM    210  CG  LYS A  27      14.969 -15.026  12.730  1.00 22.26           C\nATOM    211  CD  LYS A  27      15.824 -14.970  13.974  1.00 27.88           C\nATOM    212  CE  LYS A  27      15.074 -14.344  15.172  1.00 32.92           C\nATOM    213  NZ  LYS A  27      15.235 -12.881  15.161  1.00 27.85           N\nATOM    214  N   GLU A  28      16.016 -17.502   8.765  1.00 19.23           N\nATOM    215  CA  GLU A  28      16.848 -17.692   7.578  1.00 18.59           C\nATOM    216  C   GLU A  28      16.212 -17.196   6.255  1.00 19.16           C\nATOM    217  O   GLU A  28      16.907 -17.053   5.241  1.00 18.42           O\nATOM    218  CB  GLU A  28      17.256 -19.175   7.445  1.00 19.75           C\nATOM    219  CG  GLU A  28      16.147 -20.029   6.898  1.00 21.64           C\nATOM    220  CD  GLU A  28      16.495 -21.511   6.935  1.00 27.68           C\nATOM    221  OE1 GLU A  28      17.064 -21.954   7.950  1.00 31.50           O\nATOM    222  OE2 GLU A  28      16.189 -22.218   5.965  1.00 29.17           O\nATOM    223  N   ILE A  29      14.903 -16.924   6.253  1.00 18.52           N\nATOM    224  CA  ILE A  29      14.232 -16.474   5.048  1.00 19.25           C\nATOM    225  C   ILE A  29      14.761 -15.121   4.554  1.00 16.72           C\nATOM    226  O   ILE A  29      14.521 -14.730   3.416  1.00 17.64           O\nATOM    227  CB  ILE A  29      12.685 -16.398   5.258  1.00 21.15           C\nATOM    228  CG1 ILE A  29      12.322 -15.367   6.301  1.00 23.38           C\nATOM    229  CG2 ILE A  29      12.130 -17.761   5.592  1.00 24.43           C\nATOM    230  CD1 ILE A  29      11.831 -14.115   5.693  1.00 30.18           C\nATOM    231  N   PHE A  30      15.473 -14.416   5.409  1.00 15.77           N\nATOM    232  CA  PHE A  30      15.999 -13.123   4.971  1.00 15.38           C\nATOM    233  C   PHE A  30      16.868 -13.300   3.733  1.00 14.93           C\nATOM    234  O   PHE A  30      16.874 -12.453   2.841  1.00 14.87           O\nATOM    235  CB  PHE A  30      16.804 -12.414   6.068  1.00 14.77           C\nATOM    236  CG  PHE A  30      18.227 -12.889   6.186  1.00 15.59           C\nATOM    237  CD1 PHE A  30      19.266 -12.200   5.563  1.00 15.68           C\nATOM    238  CD2 PHE A  30      18.526 -14.040   6.899  1.00 16.71           C\nATOM    239  CE1 PHE A  30      20.573 -12.675   5.658  1.00 15.08           C\nATOM    240  CE2 PHE A  30      19.818 -14.529   6.997  1.00 17.37           C\nATOM    241  CZ  PHE A  30      20.876 -13.831   6.366  1.00 16.40           C\nATOM    242  N   LEU A  31      17.628 -14.392   3.701  1.00 14.51           N\nATOM    243  CA  LEU A  31      18.619 -14.550   2.601  1.00 14.88           C\nATOM    244  C   LEU A  31      17.935 -14.729   1.252  1.00 15.81           C\nATOM    245  O   LEU A  31      18.366 -14.182   0.246  1.00 15.41           O\nATOM    246  CB  LEU A  31      19.615 -15.677   2.935  1.00 14.46           C\nATOM    247  CG  LEU A  31      20.798 -15.661   1.967  1.00 16.52           C\nATOM    248  CD1 LEU A  31      21.592 -14.382   2.076  1.00 18.11           C\nATOM    249  CD2 LEU A  31      21.707 -16.842   2.335  1.00 19.15           C\nATOM    250  N   ARG A  32      16.866 -15.510   1.217  1.00 14.66           N\nATOM    251  CA  ARG A  32      16.105 -15.591  -0.015  1.00 15.94           C\nATOM    252  C   ARG A  32      15.599 -14.266  -0.527  1.00 15.08           C\nATOM    253  O   ARG A  32      15.628 -13.961  -1.707  1.00 14.59           O\nATOM    254  CB  ARG A  32      14.931 -16.544   0.192  1.00 17.02           C\nATOM    255  CG  ARG A  32      14.060 -16.647  -1.006  1.00 21.60           C\nATOM    256  N   GLU A  33      15.102 -13.432   0.375  1.00 14.07           N\nATOM    257  CA  GLU A  33      14.563 -12.176  -0.092  1.00 13.86           C\nATOM    258  C   GLU A  33      15.666 -11.268  -0.622  1.00 12.47           C\nATOM    259  O   GLU A  33      15.479 -10.556  -1.570  1.00 14.44           O\nATOM    260  CB  GLU A  33      13.825 -11.436   1.033  1.00 14.67           C\nATOM    261  CG  GLU A  33      12.642 -12.229   1.563  1.00 17.13           C\nATOM    262  CD  GLU A  33      11.572 -12.404   0.510  1.00 20.17           C\nATOM    263  OE1 GLU A  33      11.467 -11.604  -0.413  1.00 20.09           O\nATOM    264  OE2 GLU A  33      10.889 -13.467   0.567  1.00 24.99           O\nATOM    265  N   LEU A  34      16.824 -11.287   0.015  1.00 13.39           N\nATOM    266  CA  LEU A  34      17.891 -10.392  -0.456  1.00 12.89           C\nATOM    267  C   LEU A  34      18.503 -10.935  -1.771  1.00 12.50           C\nATOM    268  O   LEU A  34      18.916 -10.154  -2.649  1.00 12.65           O\nATOM    269  CB  LEU A  34      18.940 -10.227   0.644  1.00 12.93           C\nATOM    270  CG  LEU A  34      18.466  -9.646   1.990  1.00 12.89           C\nATOM    271  CD1 LEU A  34      19.716  -9.397   2.845  1.00 14.02           C\nATOM    272  CD2 LEU A  34      17.688  -8.346   1.788  1.00 13.51           C\nATOM    273  N   ILE A  35      18.556 -12.262  -1.921  1.00 12.47           N\nATOM    274  CA  ILE A  35      19.039 -12.848  -3.183  1.00 12.88           C\nATOM    275  C   ILE A  35      18.034 -12.523  -4.304  1.00 13.04           C\nATOM    276  O   ILE A  35      18.399 -12.159  -5.407  1.00 13.57           O\nATOM    277  CB  ILE A  35      19.287 -14.370  -3.030  1.00 12.90           C\nATOM    278  CG1 ILE A  35      20.522 -14.589  -2.177  1.00 13.18           C\nATOM    279  CG2 ILE A  35      19.378 -15.023  -4.483  1.00 12.63           C\nATOM    280  CD1 ILE A  35      20.810 -16.071  -1.854  1.00 16.31           C\nATOM    281  N   SER A  36      16.764 -12.596  -3.974  1.00 14.35           N\nATOM    282  CA  SER A  36      15.734 -12.221  -4.937  1.00 13.99           C\nATOM    283  C   SER A  36      15.874 -10.755  -5.382  1.00 14.51           C\nATOM    284  O   SER A  36      15.782 -10.423  -6.584  1.00 14.23           O\nATOM    285  CB  SER A  36      14.358 -12.432  -4.293  1.00 16.17           C\nATOM    286  OG  SER A  36      13.375 -12.084  -5.239  1.00 21.10           O\nATOM    287  N   ASN A  37      16.092  -9.845  -4.422  1.00 13.05           N\nATOM    288  CA  ASN A  37      16.265  -8.459  -4.810  1.00 12.99           C\nATOM    289  C   ASN A  37      17.497  -8.223  -5.690  1.00 13.12           C\nATOM    290  O   ASN A  37      17.456  -7.431  -6.621  1.00 13.24           O\nATOM    291  CB  ASN A  37      16.388  -7.582  -3.559  1.00 13.52           C\nATOM    292  CG  ASN A  37      15.069  -7.371  -2.840  1.00 17.86           C\nATOM    293  OD1 ASN A  37      15.033  -6.613  -1.866  1.00 23.35           O\nATOM    294  ND2 ASN A  37      14.028  -8.001  -3.271  1.00 16.49           N\nATOM    295  N   ALA A  38      18.584  -8.907  -5.326  1.00 12.77           N\nATOM    296  CA  ALA A  38      19.815  -8.876  -6.125  1.00 13.02           C\nATOM    297  C   ALA A  38      19.535  -9.340  -7.553  1.00 12.05           C\nATOM    298  O   ALA A  38      19.988  -8.695  -8.507  1.00 12.25           O\nATOM    299  CB  ALA A  38      20.902  -9.742  -5.476  1.00 13.69           C\nATOM    300  N   SER A  39      18.824 -10.448  -7.656  1.00 13.06           N\nATOM    301  CA  SER A  39      18.500 -11.003  -8.988  1.00 12.93           C\nATOM    302  C   SER A  39      17.668 -10.003  -9.769  1.00 13.20           C\nATOM    303  O   SER A  39      17.896  -9.778 -10.955  1.00 13.96           O\nATOM    304  CB  SER A  39      17.768 -12.340  -8.805  1.00 14.53           C\nATOM    305  OG  SER A  39      17.439 -12.927 -10.093  1.00 17.61           O\nATOM    306  N   ASP A  40      16.714  -9.364  -9.110  1.00 13.40           N\nATOM    307  CA  ASP A  40      15.893  -8.381  -9.796  1.00 14.26           C\nATOM    308  C   ASP A  40      16.747  -7.228 -10.322  1.00 14.50           C\nATOM    309  O   ASP A  40      16.553  -6.715 -11.410  1.00 13.85           O\nATOM    310  CB  ASP A  40      14.834  -7.840  -8.854  1.00 16.11           C\nATOM    311  CG  ASP A  40      13.750  -8.871  -8.539  1.00 20.50           C\nATOM    312  OD1 ASP A  40      13.700  -9.955  -9.196  1.00 26.06           O\nATOM    313  OD2 ASP A  40      12.878  -8.665  -7.660  1.00 26.67           O\nATOM    314  N   ALA A  41      17.719  -6.761  -9.513  1.00 12.23           N\nATOM    315  CA  ALA A  41      18.537  -5.647  -9.954  1.00 11.86           C\nATOM    316  C   ALA A  41      19.427  -6.029 -11.116  1.00 12.19           C\nATOM    317  O   ALA A  41      19.742  -5.187 -11.971  1.00 12.46           O\nATOM    318  CB  ALA A  41      19.432  -5.156  -8.748  1.00 13.68           C\nATOM    319  N   LEU A  42      19.865  -7.290 -11.128  1.00 11.91           N\nATOM    320  CA  LEU A  42      20.674  -7.797 -12.243  1.00 11.90           C\nATOM    321  C   LEU A  42      19.749  -7.920 -13.504  1.00 11.89           C\nATOM    322  O   LEU A  42      20.170  -7.626 -14.625  1.00 13.86           O\nATOM    323  CB  LEU A  42      21.217  -9.177 -11.867  1.00 11.79           C\nATOM    324  CG  LEU A  42      22.425  -9.047 -10.930  1.00 10.59           C\nATOM    325  CD1 LEU A  42      22.603 -10.336 -10.157  1.00 10.82           C\nATOM    326  CD2 LEU A  42      23.702  -8.749 -11.716  1.00 12.07           C\nATOM    327  N   ASP A  43      18.505  -8.314 -13.300  1.00 12.39           N\nATOM    328  CA  ASP A  43      17.550  -8.346 -14.413  1.00 14.12           C\nATOM    329  C   ASP A  43      17.472  -6.988 -15.010  1.00 14.73           C\nATOM    330  O   ASP A  43      17.430  -6.823 -16.223  1.00 14.72           O\nATOM    331  CB  ASP A  43      16.183  -8.851 -13.984  1.00 14.76           C\nATOM    332  CG  ASP A  43      16.116 -10.337 -13.724  1.00 15.12           C\nATOM    333  OD1 ASP A  43      15.049 -10.695 -13.145  1.00 19.52           O\nATOM    334  OD2 ASP A  43      17.016 -11.183 -14.007  1.00 16.95           O\nATOM    335  N   LYS A  44      17.408  -5.979 -14.150  1.00 13.53           N\nATOM    336  CA  LYS A  44      17.230  -4.615 -14.651  1.00 14.22           C\nATOM    337  C   LYS A  44      18.400  -4.117 -15.496  1.00 14.37           C\nATOM    338  O   LYS A  44      18.200  -3.518 -16.552  1.00 14.29           O\nATOM    339  CB  LYS A  44      16.846  -3.598 -13.544  1.00 14.30           C\nATOM    340  CG  LYS A  44      15.539  -3.893 -12.801  1.00 20.28           C\nATOM    341  CD  LYS A  44      14.353  -4.070 -13.683  1.00 29.20           C\nATOM    342  CE  LYS A  44      13.036  -3.998 -12.860  1.00 34.00           C\nATOM    343  NZ  LYS A  44      12.369  -5.335 -12.692  1.00 35.02           N\nATOM    344  N   ILE A  45      19.626  -4.362 -15.059  1.00 12.95           N\nATOM    345  CA  ILE A  45      20.735  -3.896 -15.872  1.00 14.59           C\nATOM    346  C   ILE A  45      20.852  -4.701 -17.175  1.00 14.56           C\nATOM    347  O   ILE A  45      21.233  -4.101 -18.198  1.00 15.02           O\nATOM    348  CB  ILE A  45      22.056  -3.855 -15.090  1.00 14.32           C\nATOM    349  CG1 ILE A  45      23.162  -3.181 -15.927  1.00 15.55           C\nATOM    350  CG2 ILE A  45      22.423  -5.236 -14.629  1.00 16.09           C\nATOM    351  CD1 ILE A  45      22.910  -1.689 -16.070  1.00 18.20           C\nATOM    352  N   ARG A  46      20.508  -5.989 -17.141  1.00 14.66           N\nATOM    353  CA  ARG A  46      20.579  -6.808 -18.364  1.00 16.20           C\nATOM    354  C   ARG A  46      19.556  -6.247 -19.347  1.00 15.98           C\nATOM    355  O   ARG A  46      19.843  -6.064 -20.535  1.00 16.23           O\nATOM    356  CB  ARG A  46      20.245  -8.253 -18.050  1.00 17.46           C\nATOM    357  CG  ARG A  46      20.530  -9.253 -19.145  1.00 24.26           C\nATOM    358  CD  ARG A  46      20.930 -10.638 -18.524  1.00 28.56           C\nATOM    359  NE  ARG A  46      19.873 -11.086 -17.618  1.00 33.89           N\nATOM    360  CZ  ARG A  46      18.778 -11.691 -18.032  1.00 33.07           C\nATOM    361  NH1 ARG A  46      18.636 -11.951 -19.332  1.00 35.89           N\nATOM    362  NH2 ARG A  46      17.837 -12.064 -17.170  1.00 33.67           N\nATOM    363  N   TYR A  47      18.358  -5.990 -18.855  1.00 14.80           N\nATOM    364  CA  TYR A  47      17.297  -5.490 -19.747  1.00 14.96           C\nATOM    365  C   TYR A  47      17.651  -4.098 -20.298  1.00 14.96           C\nATOM    366  O   TYR A  47      17.504  -3.809 -21.513  1.00 16.15           O\nATOM    367  CB  TYR A  47      15.953  -5.448 -19.003  1.00 13.85           C\nATOM    368  CG  TYR A  47      14.805  -5.177 -19.933  1.00 14.55           C\nATOM    369  CD1 TYR A  47      14.095  -6.205 -20.490  1.00 17.13           C\nATOM    370  CD2 TYR A  47      14.443  -3.880 -20.181  1.00 16.54           C\nATOM    371  CE1 TYR A  47      13.040  -5.905 -21.377  1.00 20.17           C\nATOM    372  CE2 TYR A  47      13.412  -3.580 -21.027  1.00 20.37           C\nATOM    373  CZ  TYR A  47      12.735  -4.594 -21.596  1.00 19.46           C\nATOM    374  OH  TYR A  47      11.705  -4.176 -22.427  1.00 27.15           O\nATOM    375  N   LYS A  48      18.162  -3.216 -19.436  1.00 13.95           N\nATOM    376  CA  LYS A  48      18.519  -1.879 -19.871  1.00 14.91           C\nATOM    377  C   LYS A  48      19.582  -1.965 -20.949  1.00 15.86           C\nATOM    378  O   LYS A  48      19.540  -1.200 -21.937  1.00 17.33           O\nATOM    379  CB  LYS A  48      19.000  -1.017 -18.683  1.00 16.15           C\nATOM    380  CG  LYS A  48      19.371   0.429 -19.050  1.00 17.06           C\nATOM    381  CD  LYS A  48      19.813   1.160 -17.800  1.00 23.42           C\nATOM    382  CE  LYS A  48      19.836   2.668 -17.965  1.00 28.37           C\nATOM    383  NZ  LYS A  48      19.344   3.214 -16.637  1.00 30.37           N\nATOM    384  N   SER A  49      20.498  -2.915 -20.810  1.00 15.95           N\nATOM    385  CA  SER A  49      21.632  -3.040 -21.710  1.00 16.76           C\nATOM    386  C   SER A  49      21.223  -3.556 -23.104  1.00 16.96           C\nATOM    387  O   SER A  49      22.049  -3.487 -24.018  1.00 18.21           O\nATOM    388  CB  SER A  49      22.712  -3.971 -21.115  1.00 19.00           C\nATOM    389  OG  SER A  49      22.367  -5.349 -21.248  1.00 24.42           O\nATOM    390  N   LEU A  50      20.009  -4.083 -23.243  1.00 17.32           N\nATOM    391  CA  LEU A  50      19.537  -4.568 -24.555  1.00 17.68           C\nATOM    392  C   LEU A  50      19.563  -3.447 -25.555  1.00 18.56           C\nATOM    393  O   LEU A  50      19.818  -3.659 -26.718  1.00 19.54           O\nATOM    394  CB  LEU A  50      18.087  -5.058 -24.466  1.00 17.57           C\nATOM    395  CG  LEU A  50      17.910  -6.349 -23.712  1.00 17.37           C\nATOM    396  CD1 LEU A  50      16.418  -6.638 -23.599  1.00 21.58           C\nATOM    397  CD2 LEU A  50      18.650  -7.488 -24.415  1.00 22.19           C\nATOM    398  N   SER A  51      19.301  -2.242 -25.088  1.00 18.17           N\nATOM    399  CA  SER A  51      19.308  -1.058 -25.958  1.00 18.25           C\nATOM    400  C   SER A  51      20.368  -0.026 -25.629  1.00 20.34           C\nATOM    401  O   SER A  51      20.533   0.979 -26.326  1.00 21.20           O\nATOM    402  CB  SER A  51      17.944  -0.380 -25.935  1.00 20.69           C\nATOM    403  OG  SER A  51      16.959  -1.243 -26.460  1.00 22.34           O\nATOM    404  N   ASP A  52      21.211  -0.319 -24.638  1.00 20.30           N\nATOM    405  CA  ASP A  52      22.284   0.598 -24.236  1.00 20.67           C\nATOM    406  C   ASP A  52      23.417  -0.314 -23.686  1.00 21.11           C\nATOM    407  O   ASP A  52      23.678  -0.378 -22.482  1.00 20.46           O\nATOM    408  CB  ASP A  52      21.731   1.542 -23.151  1.00 21.13           C\nATOM    409  CG  ASP A  52      22.635   2.735 -22.863  1.00 21.46           C\nATOM    410  OD1 ASP A  52      23.785   2.778 -23.330  1.00 23.40           O\nATOM    411  OD2 ASP A  52      22.241   3.669 -22.139  1.00 26.89           O\nATOM    412  N   PRO A  53      24.032  -1.080 -24.553  1.00 20.60           N\nATOM    413  CA  PRO A  53      25.077  -2.043 -24.203  1.00 20.82           C\nATOM    414  C   PRO A  53      26.261  -1.471 -23.397  1.00 21.27           C\nATOM    415  O   PRO A  53      26.871  -2.219 -22.591  1.00 21.38           O\nATOM    416  CB  PRO A  53      25.542  -2.563 -25.572  1.00 22.97           C\nATOM    417  CG  PRO A  53      24.879  -1.646 -26.583  1.00 22.00           C\nATOM    418  CD  PRO A  53      23.654  -1.169 -25.972  1.00 21.84           C\nATOM    419  N   LYS A  54      26.569  -0.193 -23.565  1.00 21.87           N\nATOM    420  CA  LYS A  54      27.712   0.367 -22.853  1.00 21.49           C\nATOM    421  C   LYS A  54      27.440   0.332 -21.349  1.00 21.44           C\nATOM    422  O   LYS A  54      28.371   0.388 -20.528  1.00 20.69           O\nATOM    423  CB  LYS A  54      27.965   1.803 -23.276  1.00 22.79           C\nATOM    424  CG  LYS A  54      29.345   2.276 -22.872  1.00 28.00           C\nATOM    425  N   GLN A  55      26.180   0.202 -20.987  1.00 19.49           N\nATOM    426  CA  GLN A  55      25.841   0.214 -19.554  1.00 18.45           C\nATOM    427  C   GLN A  55      26.484  -0.922 -18.797  1.00 18.80           C\nATOM    428  O   GLN A  55      26.635  -0.824 -17.555  1.00 17.82           O\nATOM    429  CB  GLN A  55      24.329   0.202 -19.313  1.00 18.52           C\nATOM    430  CG  GLN A  55      23.595   1.399 -19.882  1.00 19.34           C\nATOM    431  CD  GLN A  55      23.429   2.547 -18.902  1.00 25.19           C\nATOM    432  OE1 GLN A  55      23.674   2.392 -17.696  1.00 23.31           O\nATOM    433  NE2 GLN A  55      22.977   3.692 -19.397  1.00 23.87           N\nATOM    434  N   LEU A  56      26.775  -2.016 -19.475  1.00 17.43           N\nATOM    435  CA  LEU A  56      27.393  -3.154 -18.815  1.00 17.45           C\nATOM    436  C   LEU A  56      28.878  -2.947 -18.575  1.00 18.38           C\nATOM    437  O   LEU A  56      29.459  -3.657 -17.754  1.00 19.36           O\nATOM    438  CB  LEU A  56      27.215  -4.428 -19.654  1.00 18.46           C\nATOM    439  CG  LEU A  56      25.807  -5.000 -19.689  1.00 18.40           C\nATOM    440  CD1 LEU A  56      25.687  -6.068 -20.820  1.00 22.89           C\nATOM    441  CD2 LEU A  56      25.490  -5.626 -18.309  1.00 22.83           C\nATOM    442  N   GLU A  57      29.500  -2.003 -19.271  1.00 19.23           N\nATOM    443  CA  GLU A  57      30.970  -1.890 -19.240  1.00 20.61           C\nATOM    444  C   GLU A  57      31.592  -1.561 -17.889  1.00 20.46           C\nATOM    445  O   GLU A  57      32.759  -1.873 -17.658  1.00 20.98           O\nATOM    446  CB  GLU A  57      31.460  -0.893 -20.293  1.00 22.20           C\nATOM    447  CG  GLU A  57      31.153  -1.356 -21.697  1.00 25.86           C\nATOM    448  CD  GLU A  57      31.726  -0.397 -22.740  1.00 31.79           C\nATOM    449  OE1 GLU A  57      32.596   0.426 -22.388  1.00 35.41           O\nATOM    450  OE2 GLU A  57      31.303  -0.472 -23.912  1.00 36.24           O\nATOM    451  N   THR A  58      30.803  -0.948 -17.009  1.00 18.87           N\nATOM    452  CA  THR A  58      31.323  -0.612 -15.687  1.00 18.57           C\nATOM    453  C   THR A  58      31.541  -1.826 -14.833  1.00 17.97           C\nATOM    454  O   THR A  58      32.281  -1.768 -13.862  1.00 18.08           O\nATOM    455  CB  THR A  58      30.380   0.313 -14.956  1.00 16.87           C\nATOM    456  OG1 THR A  58      29.037  -0.104 -15.221  1.00 17.30           O\nATOM    457  CG2 THR A  58      30.460   1.693 -15.554  1.00 19.24           C\nATOM    458  N   GLU A  59      30.948  -2.952 -15.217  1.00 18.08           N\nATOM    459  CA  GLU A  59      31.133  -4.223 -14.512  1.00 17.74           C\nATOM    460  C   GLU A  59      30.465  -5.278 -15.358  1.00 18.87           C\nATOM    461  O   GLU A  59      29.340  -5.693 -15.107  1.00 18.80           O\nATOM    462  CB  GLU A  59      30.446  -4.174 -13.145  1.00 19.29           C\nATOM    463  CG  GLU A  59      30.503  -5.516 -12.431  1.00 21.21           C\nATOM    464  CD  GLU A  59      31.893  -6.104 -12.433  1.00 24.41           C\nATOM    465  OE1 GLU A  59      32.645  -5.796 -11.480  1.00 29.01           O\nATOM    466  OE2 GLU A  59      32.256  -6.862 -13.373  1.00 24.34           O\nATOM    467  N   PRO A  60      31.236  -5.816 -16.300  1.00 18.63           N\nATOM    468  CA  PRO A  60      30.693  -6.771 -17.261  1.00 19.32           C\nATOM    469  C   PRO A  60      30.265  -8.084 -16.659  1.00 19.20           C\nATOM    470  O   PRO A  60      29.477  -8.800 -17.276  1.00 21.25           O\nATOM    471  CB  PRO A  60      31.862  -7.022 -18.236  1.00 19.50           C\nATOM    472  CG  PRO A  60      32.881  -6.005 -17.936  1.00 21.70           C\nATOM    473  CD  PRO A  60      32.672  -5.526 -16.503  1.00 19.71           C\nATOM    474  N   ASP A  61      30.799  -8.435 -15.493  1.00 19.17           N\nATOM    475  CA  ASP A  61      30.492  -9.706 -14.826  1.00 19.75           C\nATOM    476  C   ASP A  61      29.175  -9.531 -14.026  1.00 19.06           C\nATOM    477  O   ASP A  61      29.070  -8.618 -13.213  1.00 19.50           O\nATOM    478  CB  ASP A  61      31.634 -10.065 -13.905  1.00 19.45           C\nATOM    479  CG  ASP A  61      32.766 -10.796 -14.643  1.00 25.63           C\nATOM    480  OD1 ASP A  61      32.480 -11.291 -15.752  1.00 32.09           O\nATOM    481  OD2 ASP A  61      33.929 -10.846 -14.225  1.00 30.10           O\nATOM    482  N   LEU A  62      28.200 -10.423 -14.281  1.00 17.71           N\nATOM    483  CA  LEU A  62      26.872 -10.405 -13.599  1.00 16.84           C\nATOM    484  C   LEU A  62      26.811 -11.503 -12.563  1.00 16.65           C\nATOM    485  O   LEU A  62      26.804 -12.678 -12.901  1.00 17.45           O\nATOM    486  CB  LEU A  62      25.729 -10.553 -14.595  1.00 17.76           C\nATOM    487  CG  LEU A  62      25.738  -9.589 -15.774  1.00 19.97           C\nATOM    488  CD1 LEU A  62      24.442  -9.721 -16.546  1.00 24.98           C\nATOM    489  CD2 LEU A  62      25.902  -8.159 -15.283  1.00 24.27           C\nATOM    490  N   PHE A  63      26.773 -11.121 -11.275  1.00 14.60           N\nATOM    491  CA  PHE A  63      26.878 -12.095 -10.204  1.00 14.18           C\nATOM    492  C   PHE A  63      26.203 -11.611  -8.922  1.00 12.23           C\nATOM    493  O   PHE A  63      25.930 -10.413  -8.792  1.00 13.01           O\nATOM    494  CB  PHE A  63      28.387 -12.375  -9.875  1.00 14.58           C\nATOM    495  CG  PHE A  63      29.150 -11.134  -9.474  1.00 16.43           C\nATOM    496  CD1 PHE A  63      29.164 -10.714  -8.140  1.00 17.33           C\nATOM    497  CD2 PHE A  63      29.787 -10.349 -10.427  1.00 16.27           C\nATOM    498  CE1 PHE A  63      29.830  -9.560  -7.740  1.00 16.94           C\nATOM    499  CE2 PHE A  63      30.469  -9.164 -10.042  1.00 15.90           C\nATOM    500  CZ  PHE A  63      30.486  -8.768  -8.681  1.00 17.80           C\nATOM    501  N   ILE A  64      25.976 -12.569  -8.029  1.00 12.55           N\nATOM    502  CA  ILE A  64      25.568 -12.290  -6.654  1.00 13.47           C\nATOM    503  C   ILE A  64      26.701 -12.910  -5.817  1.00 14.61           C\nATOM    504  O   ILE A  64      27.173 -14.025  -6.103  1.00 15.90           O\nATOM    505  CB  ILE A  64      24.233 -12.954  -6.355  1.00 12.93           C\nATOM    506  CG1 ILE A  64      23.179 -12.381  -7.293  1.00 12.51           C\nATOM    507  CG2 ILE A  64      23.858 -12.751  -4.859  1.00 14.64           C\nATOM    508  CD1 ILE A  64      21.821 -13.108  -7.196  1.00 14.58           C\nATOM    509  N   ARG A  65      27.182 -12.171  -4.815  1.00 13.37           N\nATOM    510  CA  ARG A  65      28.352 -12.627  -4.070  1.00 13.72           C\nATOM    511  C   ARG A  65      28.104 -12.417  -2.594  1.00 12.95           C\nATOM    512  O   ARG A  65      27.690 -11.334  -2.176  1.00 13.38           O\nATOM    513  CB  ARG A  65      29.597 -11.853  -4.532  1.00 13.58           C\nATOM    514  CG  ARG A  65      30.881 -12.267  -3.777  1.00 15.26           C\nATOM    515  CD  ARG A  65      32.138 -11.550  -4.320  1.00 18.55           C\nATOM    516  NE  ARG A  65      32.254 -11.791  -5.760  1.00 20.69           N\nATOM    517  CZ  ARG A  65      32.780 -10.952  -6.642  1.00 21.46           C\nATOM    518  NH1 ARG A  65      33.317  -9.790  -6.278  1.00 22.25           N\nATOM    519  NH2 ARG A  65      32.767 -11.312  -7.921  1.00 22.58           N\nATOM    520  N   ILE A  66      28.331 -13.455  -1.800  1.00 12.08           N\nATOM    521  CA  ILE A  66      28.068 -13.377  -0.382  1.00 12.85           C\nATOM    522  C   ILE A  66      29.415 -13.499   0.344  1.00 13.11           C\nATOM    523  O   ILE A  66      30.131 -14.475   0.107  1.00 13.10           O\nATOM    524  CB  ILE A  66      27.113 -14.529   0.018  1.00 12.84           C\nATOM    525  CG1 ILE A  66      25.767 -14.304  -0.700  1.00 16.82           C\nATOM    526  CG2 ILE A  66      26.908 -14.541   1.518  1.00 13.90           C\nATOM    527  CD1 ILE A  66      24.900 -15.521  -0.616  1.00 20.38           C\nATOM    528  N   THR A  67      29.736 -12.546   1.224  1.00 12.90           N\nATOM    529  CA  THR A  67      31.015 -12.476   1.966  1.00 13.50           C\nATOM    530  C   THR A  67      30.788 -12.327   3.447  1.00 14.05           C\nATOM    531  O   THR A  67      30.462 -11.243   3.934  1.00 12.95           O\nATOM    532  CB  THR A  67      31.841 -11.273   1.485  1.00 13.52           C\nATOM    533  OG1 THR A  67      32.031 -11.340   0.065  1.00 14.65           O\nATOM    534  CG2 THR A  67      33.251 -11.338   2.061  1.00 12.87           C\nATOM    535  N   PRO A  68      31.000 -13.388   4.211  1.00 15.08           N\nATOM    536  CA  PRO A  68      30.992 -13.205   5.656  1.00 15.99           C\nATOM    537  C   PRO A  68      32.274 -12.530   6.125  1.00 16.99           C\nATOM    538  O   PRO A  68      33.354 -12.809   5.583  1.00 17.28           O\nATOM    539  CB  PRO A  68      30.926 -14.642   6.216  1.00 16.79           C\nATOM    540  CG  PRO A  68      31.182 -15.510   5.112  1.00 18.04           C\nATOM    541  CD  PRO A  68      31.165 -14.783   3.795  1.00 16.14           C\nATOM    542  N   LYS A  69      32.144 -11.632   7.087  1.00 16.62           N\nATOM    543  CA  LYS A  69      33.264 -10.931   7.705  1.00 17.18           C\nATOM    544  C   LYS A  69      33.165 -11.130   9.206  1.00 18.71           C\nATOM    545  O   LYS A  69      32.718 -10.229   9.930  1.00 16.77           O\nATOM    546  CB  LYS A  69      33.216  -9.454   7.355  1.00 17.12           C\nATOM    547  CG  LYS A  69      33.457  -9.194   5.847  1.00 17.38           C\nATOM    548  CD  LYS A  69      33.436  -7.691   5.570  1.00 18.98           C\nATOM    549  CE  LYS A  69      33.964  -7.347   4.160  1.00 21.71           C\nATOM    550  NZ  LYS A  69      33.957  -5.867   3.919  1.00 22.59           N\nATOM    551  N   PRO A  70      33.626 -12.297   9.650  1.00 20.56           N\nATOM    552  CA  PRO A  70      33.454 -12.729  11.055  1.00 22.21           C\nATOM    553  C   PRO A  70      33.941 -11.728  12.090  1.00 23.44           C\nATOM    554  O   PRO A  70      33.165 -11.417  12.995  1.00 24.42           O\nATOM    555  CB  PRO A  70      34.241 -14.041  11.107  1.00 22.44           C\nATOM    556  CG  PRO A  70      34.290 -14.544   9.686  1.00 24.03           C\nATOM    557  CD  PRO A  70      34.316 -13.311   8.836  1.00 20.93           C\nATOM    558  N   GLU A  71      35.157 -11.201  11.950  1.00 24.87           N\nATOM    559  CA  GLU A  71      35.680 -10.283  12.947  1.00 25.52           C\nATOM    560  C   GLU A  71      34.784  -9.077  13.183  1.00 25.63           C\nATOM    561  O   GLU A  71      34.666  -8.604  14.296  1.00 26.65           O\nATOM    562  CB  GLU A  71      37.086  -9.778  12.558  1.00 27.14           C\nATOM    563  N   GLN A  72      34.125  -8.588  12.137  1.00 22.63           N\nATOM    564  CA  GLN A  72      33.201  -7.466  12.306  1.00 21.99           C\nATOM    565  C   GLN A  72      31.739  -7.891  12.529  1.00 19.55           C\nATOM    566  O   GLN A  72      30.891  -7.010  12.685  1.00 20.60           O\nATOM    567  CB  GLN A  72      33.262  -6.507  11.115  1.00 22.56           C\nATOM    568  CG  GLN A  72      34.685  -6.033  10.771  1.00 27.88           C\nATOM    569  CD  GLN A  72      35.270  -6.873   9.650  1.00 33.64           C\nATOM    570  OE1 GLN A  72      35.560  -8.056   9.850  1.00 35.29           O\nATOM    571  NE2 GLN A  72      35.374  -6.292   8.447  1.00 34.20           N\nATOM    572  N   LYS A  73      31.474  -9.193  12.551  1.00 18.63           N\nATOM    573  CA  LYS A  73      30.120  -9.693  12.708  1.00 17.46           C\nATOM    574  C   LYS A  73      29.261  -9.132  11.621  1.00 15.77           C\nATOM    575  O   LYS A  73      28.131  -8.692  11.842  1.00 17.01           O\nATOM    576  CB  LYS A  73      29.529  -9.379  14.083  1.00 18.93           C\nATOM    577  CG  LYS A  73      30.306 -10.125  15.214  1.00 21.20           C\nATOM    578  CD  LYS A  73      29.596  -9.904  16.541  1.00 27.87           C\nATOM    579  CE  LYS A  73      29.704  -8.451  16.961  1.00 33.10           C\nATOM    580  NZ  LYS A  73      29.351  -8.261  18.413  1.00 38.37           N\nATOM    581  N   VAL A  74      29.816  -9.171  10.426  1.00 15.70           N\nATOM    582  CA  VAL A  74      29.104  -8.638   9.257  1.00 14.28           C\nATOM    583  C   VAL A  74      28.897  -9.686   8.201  1.00 14.18           C\nATOM    584  O   VAL A  74      29.743 -10.550   7.976  1.00 15.18           O\nATOM    585  CB  VAL A  74      29.954  -7.488   8.690  1.00 15.41           C\nATOM    586  CG1 VAL A  74      29.681  -7.238   7.190  1.00 14.46           C\nATOM    587  CG2 VAL A  74      29.709  -6.217   9.504  1.00 13.68           C\nATOM    588  N   LEU A  75      27.742  -9.644   7.526  1.00 12.63           N\nATOM    589  CA  LEU A  75      27.534 -10.477   6.340  1.00 12.81           C\nATOM    590  C   LEU A  75      27.226  -9.524   5.179  1.00 12.09           C\nATOM    591  O   LEU A  75      26.321  -8.725   5.299  1.00 12.18           O\nATOM    592  CB  LEU A  75      26.348 -11.410   6.532  1.00 12.08           C\nATOM    593  CG  LEU A  75      26.035 -12.323   5.357  1.00 12.97           C\nATOM    594  CD1 LEU A  75      27.205 -13.294   5.066  1.00 14.11           C\nATOM    595  CD2 LEU A  75      24.774 -13.090   5.660  1.00 13.64           C\nATOM    596  N   GLU A  76      27.993  -9.614   4.078  1.00 11.33           N\nATOM    597  CA  GLU A  76      27.719  -8.757   2.900  1.00 11.66           C\nATOM    598  C   GLU A  76      27.086  -9.542   1.777  1.00 11.82           C\nATOM    599  O   GLU A  76      27.482 -10.667   1.514  1.00 12.57           O\nATOM    600  CB  GLU A  76      29.029  -8.139   2.386  1.00 10.43           C\nATOM    601  CG  GLU A  76      29.507  -7.032   3.305  1.00 12.82           C\nATOM    602  CD  GLU A  76      30.767  -6.341   2.855  1.00 15.10           C\nATOM    603  OE1 GLU A  76      31.257  -6.634   1.744  1.00 15.58           O\nATOM    604  OE2 GLU A  76      31.262  -5.480   3.620  1.00 15.13           O\nATOM    605  N   ILE A  77      26.102  -8.948   1.095  1.00 11.91           N\nATOM    606  CA  ILE A  77      25.461  -9.586  -0.071  1.00 13.41           C\nATOM    607  C   ILE A  77      25.593  -8.533  -1.154  1.00 12.39           C\nATOM    608  O   ILE A  77      24.977  -7.461  -1.093  1.00 12.40           O\nATOM    609  CB  ILE A  77      23.993  -9.832   0.176  1.00 14.23           C\nATOM    610  CG1 ILE A  77      23.820 -10.889   1.247  1.00 18.68           C\nATOM    611  CG2 ILE A  77      23.364 -10.499  -1.037  1.00 16.45           C\nATOM    612  CD1 ILE A  77      23.471 -10.294   2.495  1.00 22.52           C\nATOM    613  N   ARG A  78      26.367  -8.886  -2.175  1.00 12.30           N\nATOM    614  CA  ARG A  78      26.685  -7.951  -3.252  1.00 12.47           C\nATOM    615  C   ARG A  78      26.074  -8.444  -4.548  1.00 12.07           C\nATOM    616  O   ARG A  78      26.020  -9.640  -4.827  1.00 13.61           O\nATOM    617  CB  ARG A  78      28.196  -7.931  -3.428  1.00 12.22           C\nATOM    618  CG  ARG A  78      28.699  -7.121  -4.646  1.00 14.93           C\nATOM    619  CD  ARG A  78      30.240  -6.831  -4.633  1.00 18.53           C\nATOM    620  NE  ARG A  78      30.682  -6.055  -5.800  1.00 17.99           N\nATOM    621  CZ  ARG A  78      31.898  -5.693  -5.988  1.00 20.83           C\nATOM    622  NH1 ARG A  78      32.840  -6.079  -5.116  1.00 24.76           N\nATOM    623  NH2 ARG A  78      32.205  -4.971  -7.055  1.00 25.64           N\nATOM    624  N   ASP A  79      25.658  -7.498  -5.371  1.00 11.40           N\nATOM    625  CA  ASP A  79      25.303  -7.872  -6.742  1.00 11.41           C\nATOM    626  C   ASP A  79      25.909  -6.823  -7.659  1.00 11.19           C\nATOM    627  O   ASP A  79      26.249  -5.694  -7.243  1.00 11.62           O\nATOM    628  CB  ASP A  79      23.775  -7.954  -6.931  1.00 11.82           C\nATOM    629  CG  ASP A  79      23.109  -6.650  -6.688  1.00 10.90           C\nATOM    630  OD1 ASP A  79      22.421  -6.453  -5.650  1.00 13.93           O\nATOM    631  OD2 ASP A  79      23.192  -5.712  -7.493  1.00 12.45           O\nATOM    632  N   SER A  80      26.048  -7.197  -8.924  1.00 12.54           N\nATOM    633  CA  SER A  80      26.479  -6.241  -9.949  1.00 12.23           C\nATOM    634  C   SER A  80      25.266  -5.801 -10.803  1.00 12.15           C\nATOM    635  O   SER A  80      25.356  -5.634 -12.038  1.00 12.77           O\nATOM    636  CB  SER A  80      27.593  -6.810 -10.823  1.00 12.57           C\nATOM    637  OG  SER A  80      27.229  -8.106 -11.306  1.00 13.60           O\nATOM    638  N   GLY A  81      24.132  -5.628 -10.154  1.00 11.30           N\nATOM    639  CA  GLY A  81      22.935  -5.097 -10.802  1.00 12.18           C\nATOM    640  C   GLY A  81      22.996  -3.634 -11.141  1.00 10.98           C\nATOM    641  O   GLY A  81      24.048  -3.016 -11.222  1.00 12.29           O\nATOM    642  N   ILE A  82      21.803  -3.073 -11.371  1.00 11.99           N\nATOM    643  CA  ILE A  82      21.710  -1.715 -11.871  1.00 13.69           C\nATOM    644  C   ILE A  82      22.172  -0.663 -10.848  1.00 12.76           C\nATOM    645  O   ILE A  82      22.531   0.450 -11.211  1.00 13.99           O\nATOM    646  CB  ILE A  82      20.280  -1.455 -12.388  1.00 14.44           C\nATOM    647  CG1 ILE A  82      20.207  -0.140 -13.137  1.00 17.06           C\nATOM    648  CG2 ILE A  82      19.294  -1.463 -11.260  1.00 16.36           C\nATOM    649  CD1 ILE A  82      19.110  -0.202 -14.201  1.00 19.33           C\nATOM    650  N   GLY A  83      22.220  -1.032  -9.562  1.00 12.09           N\nATOM    651  CA  GLY A  83      22.608  -0.020  -8.600  1.00 12.95           C\nATOM    652  C   GLY A  83      21.503   1.008  -8.337  1.00 13.05           C\nATOM    653  O   GLY A  83      20.432   1.031  -8.986  1.00 13.52           O\nATOM    654  N   MET A  84      21.794   1.937  -7.424  1.00 11.90           N\nATOM    655  CA  MET A  84      20.880   3.012  -7.072  1.00 11.82           C\nATOM    656  C   MET A  84      21.658   4.320  -6.913  1.00 12.29           C\nATOM    657  O   MET A  84      22.675   4.336  -6.238  1.00 12.49           O\nATOM    658  CB  MET A  84      20.185   2.707  -5.728  1.00 12.94           C\nATOM    659  CG  MET A  84      19.116   1.619  -5.855  1.00 13.41           C\nATOM    660  SD  MET A  84      18.376   1.198  -4.277  1.00 15.75           S\nATOM    661  CE  MET A  84      19.571   0.058  -3.679  1.00 17.75           C\nATOM    662  N   THR A  85      21.196   5.401  -7.556  1.00 12.06           N\nATOM    663  CA  THR A  85      21.726   6.740  -7.329  1.00 11.66           C\nATOM    664  C   THR A  85      21.335   7.215  -5.919  1.00 11.75           C\nATOM    665  O   THR A  85      20.554   6.575  -5.209  1.00 12.17           O\nATOM    666  CB  THR A  85      21.088   7.735  -8.306  1.00 12.16           C\nATOM    667  OG1 THR A  85      19.684   7.821  -8.029  1.00 15.14           O\nATOM    668  CG2 THR A  85      21.197   7.186  -9.704  1.00 12.35           C\nATOM    669  N   LYS A  86      21.916   8.341  -5.495  1.00 12.63           N\nATOM    670  CA  LYS A  86      21.531   8.917  -4.213  1.00 13.17           C\nATOM    671  C   LYS A  86      20.010   9.078  -4.105  1.00 13.42           C\nATOM    672  O   LYS A  86      19.403   8.679  -3.101  1.00 12.88           O\nATOM    673  CB  LYS A  86      22.205  10.281  -4.047  1.00 13.11           C\nATOM    674  CG  LYS A  86      21.924  10.940  -2.716  1.00 14.52           C\nATOM    675  CD  LYS A  86      22.523  12.340  -2.674  1.00 17.44           C\nATOM    676  CE  LYS A  86      22.196  12.983  -1.370  1.00 21.81           C\nATOM    677  NZ  LYS A  86      22.725  14.374  -1.345  1.00 25.44           N\nATOM    678  N   ALA A  87      19.405   9.638  -5.167  1.00 13.68           N\nATOM    679  CA  ALA A  87      17.965   9.847  -5.136  1.00 14.26           C\nATOM    680  C   ALA A  87      17.188   8.540  -5.080  1.00 13.89           C\nATOM    681  O   ALA A  87      16.185   8.484  -4.388  1.00 14.98           O\nATOM    682  CB  ALA A  87      17.524  10.660  -6.369  1.00 14.72           C\nATOM    683  N   GLU A  88      17.675   7.511  -5.759  1.00 13.78           N\nATOM    684  CA  GLU A  88      16.993   6.213  -5.722  1.00 13.30           C\nATOM    685  C   GLU A  88      17.121   5.568  -4.357  1.00 12.84           C\nATOM    686  O   GLU A  88      16.201   4.899  -3.874  1.00 14.63           O\nATOM    687  CB  GLU A  88      17.519   5.291  -6.806  1.00 14.68           C\nATOM    688  CG  GLU A  88      17.055   5.749  -8.190  1.00 15.76           C\nATOM    689  CD  GLU A  88      17.705   5.029  -9.319  1.00 21.27           C\nATOM    690  OE1 GLU A  88      18.862   4.608  -9.227  1.00 15.60           O\nATOM    691  OE2 GLU A  88      17.057   4.951 -10.380  1.00 26.24           O\nATOM    692  N   LEU A  89      18.282   5.729  -3.719  1.00 12.80           N\nATOM    693  CA  LEU A  89      18.410   5.165  -2.378  1.00 12.81           C\nATOM    694  C   LEU A  89      17.393   5.780  -1.434  1.00 14.77           C\nATOM    695  O   LEU A  89      16.708   5.071  -0.678  1.00 15.82           O\nATOM    696  CB  LEU A  89      19.820   5.440  -1.810  1.00 13.17           C\nATOM    697  CG  LEU A  89      20.905   4.582  -2.450  1.00 11.59           C\nATOM    698  CD1 LEU A  89      22.276   5.147  -2.012  1.00 14.15           C\nATOM    699  CD2 LEU A  89      20.828   3.120  -1.998  1.00 12.52           C\nATOM    700  N   ILE A  90      17.310   7.104  -1.459  1.00 14.92           N\nATOM    701  CA  ILE A  90      16.364   7.816  -0.592  1.00 16.06           C\nATOM    702  C   ILE A  90      14.937   7.364  -0.896  1.00 17.30           C\nATOM    703  O   ILE A  90      14.174   7.006   0.031  1.00 18.87           O\nATOM    704  CB  ILE A  90      16.525   9.287  -0.817  1.00 13.89           C\nATOM    705  CG1 ILE A  90      17.930   9.737  -0.379  1.00 16.63           C\nATOM    706  CG2 ILE A  90      15.428  10.112  -0.047  1.00 17.66           C\nATOM    707  CD1 ILE A  90      18.233  11.173  -0.798  1.00 16.56           C\nATOM    708  N   ASN A  91      14.593   7.288  -2.176  1.00 17.39           N\nATOM    709  CA  ASN A  91      13.230   6.926  -2.596  1.00 19.23           C\nATOM    710  C   ASN A  91      12.907   5.447  -2.401  1.00 19.37           C\nATOM    711  O   ASN A  91      11.871   5.096  -1.786  1.00 20.83           O\nATOM    712  CB  ASN A  91      13.036   7.331  -4.075  1.00 19.87           C\nATOM    713  CG  ASN A  91      11.552   7.244  -4.531  1.00 23.09           C\nATOM    714  OD1 ASN A  91      10.662   7.733  -3.840  1.00 26.42           O\nATOM    715  ND2 ASN A  91      11.309   6.615  -5.666  1.00 26.08           N\nATOM    716  N   ASN A  92      13.749   4.572  -2.928  1.00 17.44           N\nATOM    717  CA  ASN A  92      13.468   3.135  -2.893  1.00 18.15           C\nATOM    718  C   ASN A  92      13.463   2.565  -1.493  1.00 18.04           C\nATOM    719  O   ASN A  92      12.688   1.662  -1.191  1.00 19.98           O\nATOM    720  CB  ASN A  92      14.475   2.342  -3.754  1.00 18.82           C\nATOM    721  CG  ASN A  92      14.326   2.614  -5.242  1.00 20.94           C\nATOM    722  OD1 ASN A  92      13.386   3.298  -5.674  1.00 25.18           O\nATOM    723  ND2 ASN A  92      15.294   2.135  -6.029  1.00 20.73           N\nATOM    724  N   LEU A  93      14.358   3.069  -0.643  1.00 16.10           N\nATOM    725  CA  LEU A  93      14.523   2.480   0.680  1.00 15.44           C\nATOM    726  C   LEU A  93      13.815   3.191   1.823  1.00 16.19           C\nATOM    727  O   LEU A  93      13.507   2.587   2.866  1.00 16.86           O\nATOM    728  CB  LEU A  93      16.009   2.280   0.982  1.00 14.08           C\nATOM    729  CG  LEU A  93      16.784   1.547  -0.114  1.00 14.17           C\nATOM    730  CD1 LEU A  93      18.242   1.424   0.293  1.00 14.27           C\nATOM    731  CD2 LEU A  93      16.203   0.130  -0.341  1.00 17.07           C\nATOM    732  N   GLY A  94      13.553   4.485   1.636  1.00 16.50           N\nATOM    733  CA  GLY A  94      12.895   5.217   2.682  1.00 18.50           C\nATOM    734  C   GLY A  94      11.469   5.677   2.398  1.00 21.34           C\nATOM    735  O   GLY A  94      10.821   6.178   3.313  1.00 20.50           O\nATOM    736  N   THR A  95      10.982   5.471   1.170  1.00 21.68           N\nATOM    737  CA  THR A  95       9.665   5.967   0.745  1.00 24.08           C\nATOM    738  C   THR A  95       8.658   4.978   0.095  1.00 23.36           C\nATOM    739  O   THR A  95       7.529   4.846   0.561  1.00 23.74           O\nATOM    740  CB  THR A  95       9.861   7.053  -0.280  1.00 24.87           C\nATOM    741  OG1 THR A  95      10.420   8.204   0.346  1.00 30.63           O\nATOM    742  CG2 THR A  95       8.485   7.512  -0.788  1.00 26.23           C\nATOM    743  N   ILE A  96       9.057   4.351  -1.014  1.00 24.29           N\nATOM    744  CA  ILE A  96       8.121   3.604  -1.874  1.00 24.83           C\nATOM    745  C   ILE A  96       7.557   2.364  -1.232  1.00 25.04           C\nATOM    746  O   ILE A  96       6.511   1.857  -1.681  1.00 25.75           O\nATOM    747  CB  ILE A  96       8.725   3.262  -3.269  1.00 25.27           C\nATOM    748  CG1 ILE A  96       9.824   2.200  -3.158  1.00 26.83           C\nATOM    749  CG2 ILE A  96       9.204   4.513  -4.009  1.00 26.39           C\nATOM    750  CD1 ILE A  96      10.302   1.661  -4.535  1.00 30.12           C\nATOM    751  N   ALA A  97       8.227   1.871  -0.190  1.00 23.96           N\nATOM    752  CA  ALA A  97       7.738   0.715   0.533  1.00 24.57           C\nATOM    753  C   ALA A  97       6.566   0.990   1.471  1.00 24.96           C\nATOM    754  O   ALA A  97       6.041   0.065   2.088  1.00 25.75           O\nATOM    755  CB  ALA A  97       8.875   0.025   1.288  1.00 23.80           C\nATOM    756  N   LYS A  98       6.154   2.247   1.582  1.00 25.53           N\nATOM    757  CA  LYS A  98       5.032   2.582   2.445  1.00 26.29           C\nATOM    758  C   LYS A  98       3.795   1.692   2.184  1.00 26.96           C\nATOM    759  O   LYS A  98       3.263   1.080   3.130  1.00 29.61           O\nATOM    760  CB  LYS A  98       4.677   4.065   2.235  1.00 26.01           C\nATOM    761  N   SER A  99       3.384   1.544   0.930  1.00 27.94           N\nATOM    762  CA  SER A  99       2.134   0.865   0.640  1.00 28.50           C\nATOM    763  C   SER A  99       2.224  -0.628   0.967  1.00 27.30           C\nATOM    764  O   SER A  99       1.362  -1.197   1.650  1.00 28.11           O\nATOM    765  CB  SER A  99       1.751   1.076  -0.817  1.00 29.09           C\nATOM    766  OG  SER A  99       2.634   0.326  -1.608  1.00 34.91           O\nATOM    767  N   GLY A 100       3.261  -1.278   0.470  1.00 26.28           N\nATOM    768  CA  GLY A 100       3.438  -2.686   0.797  1.00 24.97           C\nATOM    769  C   GLY A 100       3.518  -2.942   2.296  1.00 23.62           C\nATOM    770  O   GLY A 100       2.966  -3.956   2.758  1.00 21.30           O\nATOM    771  N   THR A 101       4.247  -2.101   3.042  1.00 22.40           N\nATOM    772  CA  THR A 101       4.452  -2.363   4.450  1.00 22.75           C\nATOM    773  C   THR A 101       3.108  -2.308   5.168  1.00 22.69           C\nATOM    774  O   THR A 101       2.848  -3.130   6.000  1.00 21.58           O\nATOM    775  CB  THR A 101       5.524  -1.456   5.212  1.00 23.07           C\nATOM    776  OG1 THR A 101       5.133  -0.081   5.240  1.00 25.02           O\nATOM    777  CG2 THR A 101       6.892  -1.481   4.505  1.00 22.76           C\nATOM    778  N   LYS A 102       2.266  -1.342   4.825  1.00 23.73           N\nATOM    779  CA  LYS A 102       0.972  -1.252   5.501  1.00 24.00           C\nATOM    780  C   LYS A 102       0.128  -2.505   5.307  1.00 23.10           C\nATOM    781  O   LYS A 102      -0.338  -3.128   6.275  1.00 23.57           O\nATOM    782  CB  LYS A 102       0.197   0.005   5.080  1.00 24.94           C\nATOM    783  CG  LYS A 102      -0.912   0.322   6.059  1.00 27.73           C\nATOM    784  N   ALA A 103      -0.038  -2.901   4.058  1.00 22.87           N\nATOM    785  CA  ALA A 103      -0.783  -4.105   3.754  1.00 20.64           C\nATOM    786  C   ALA A 103      -0.167  -5.351   4.402  1.00 19.07           C\nATOM    787  O   ALA A 103      -0.866  -6.213   4.882  1.00 19.19           O\nATOM    788  CB  ALA A 103      -0.895  -4.281   2.247  1.00 22.95           C\nATOM    789  N   PHE A 104       1.152  -5.450   4.392  1.00 17.13           N\nATOM    790  CA  PHE A 104       1.797  -6.616   5.017  1.00 15.24           C\nATOM    791  C   PHE A 104       1.565  -6.636   6.531  1.00 15.56           C\nATOM    792  O   PHE A 104       1.351  -7.710   7.101  1.00 15.96           O\nATOM    793  CB  PHE A 104       3.307  -6.586   4.736  1.00 15.70           C\nATOM    794  CG  PHE A 104       4.035  -7.726   5.317  1.00 12.43           C\nATOM    795  CD1 PHE A 104       3.633  -9.044   5.046  1.00 16.27           C\nATOM    796  CD2 PHE A 104       5.136  -7.515   6.126  1.00 14.81           C\nATOM    797  CE1 PHE A 104       4.373 -10.105   5.622  1.00 15.60           C\nATOM    798  CE2 PHE A 104       5.859  -8.562   6.662  1.00 17.55           C\nATOM    799  CZ  PHE A 104       5.459  -9.848   6.421  1.00 15.62           C\nATOM    800  N   MET A 105       1.636  -5.487   7.193  1.00 16.45           N\nATOM    801  CA  MET A 105       1.397  -5.502   8.624  1.00 16.05           C\nATOM    802  C   MET A 105      -0.005  -5.915   8.979  1.00 16.91           C\nATOM    803  O   MET A 105      -0.195  -6.553  10.014  1.00 17.10           O\nATOM    804  CB  MET A 105       1.674  -4.131   9.237  1.00 16.66           C\nATOM    805  CG  MET A 105       3.154  -3.834   9.195  1.00 17.35           C\nATOM    806  SD  MET A 105       3.589  -2.287  10.105  1.00 20.19           S\nATOM    807  CE  MET A 105       3.020  -1.198   9.041  1.00 17.97           C\nATOM    808  N   GLU A 106      -0.963  -5.543   8.153  1.00 16.85           N\nATOM    809  CA  GLU A 106      -2.355  -5.959   8.400  1.00 18.32           C\nATOM    810  C   GLU A 106      -2.448  -7.474   8.236  1.00 19.34           C\nATOM    811  O   GLU A 106      -3.151  -8.162   9.011  1.00 20.11           O\nATOM    812  CB  GLU A 106      -3.285  -5.248   7.461  1.00 20.07           C\nATOM    813  CG  GLU A 106      -3.339  -3.746   7.749  1.00 24.58           C\nATOM    814  CD  GLU A 106      -4.107  -2.973   6.697  1.00 33.23           C\nATOM    815  OE1 GLU A 106      -4.212  -3.460   5.564  1.00 37.02           O\nATOM    816  OE2 GLU A 106      -4.598  -1.863   7.009  1.00 40.23           O\nATOM    817  N   ALA A 107      -1.752  -8.008   7.223  1.00 17.43           N\nATOM    818  CA  ALA A 107      -1.713  -9.451   7.062  1.00 18.02           C\nATOM    819  C   ALA A 107      -1.063 -10.143   8.263  1.00 18.06           C\nATOM    820  O   ALA A 107      -1.566 -11.164   8.713  1.00 17.92           O\nATOM    821  CB  ALA A 107      -1.043  -9.873   5.687  1.00 16.98           C\nATOM    822  N   LEU A 108       0.048  -9.594   8.774  1.00 17.66           N\nATOM    823  CA  LEU A 108       0.709 -10.140   9.943  1.00 18.18           C\nATOM    824  C   LEU A 108      -0.296 -10.140  11.088  1.00 18.32           C\nATOM    825  O   LEU A 108      -0.379 -11.116  11.836  1.00 19.56           O\nATOM    826  CB  LEU A 108       1.927  -9.300  10.337  1.00 17.94           C\nATOM    827  CG  LEU A 108       3.133  -9.495   9.400  1.00 18.20           C\nATOM    828  CD1 LEU A 108       4.257  -8.547   9.875  1.00 18.57           C\nATOM    829  CD2 LEU A 108       3.635 -10.934   9.401  1.00 18.81           C\nATOM    830  N   SER A 109      -1.070  -9.074  11.216  1.00 20.01           N\nATOM    831  CA  SER A 109      -2.043  -8.976  12.305  1.00 22.25           C\nATOM    832  C   SER A 109      -2.966 -10.179  12.323  1.00 22.34           C\nATOM    833  O   SER A 109      -3.370 -10.694  13.373  1.00 23.41           O\nATOM    834  CB  SER A 109      -2.941  -7.764  12.101  1.00 22.88           C\nATOM    835  OG  SER A 109      -2.353  -6.599  12.613  1.00 32.91           O\nATOM    836  N   ALA A 110      -3.328 -10.606  11.125  1.00 20.39           N\nATOM    837  CA  ALA A 110      -4.329 -11.661  10.944  1.00 19.69           C\nATOM    838  C   ALA A 110      -3.761 -13.035  11.043  1.00 18.67           C\nATOM    839  O   ALA A 110      -4.513 -14.000  11.115  1.00 18.31           O\nATOM    840  CB  ALA A 110      -5.006 -11.482   9.605  1.00 19.26           C\nATOM    841  N   GLY A 111      -2.439 -13.156  11.008  1.00 18.14           N\nATOM    842  CA  GLY A 111      -1.787 -14.427  11.142  1.00 18.32           C\nATOM    843  C   GLY A 111      -0.861 -14.850  10.012  1.00 18.35           C\nATOM    844  O   GLY A 111      -0.348 -15.956  10.039  1.00 19.03           O\nATOM    845  N   ALA A 112      -0.649 -13.979   9.030  1.00 18.07           N\nATOM    846  CA  ALA A 112       0.240 -14.351   7.924  1.00 18.40           C\nATOM    847  C   ALA A 112       1.625 -14.688   8.387  1.00 18.93           C\nATOM    848  O   ALA A 112       2.150 -14.097   9.345  1.00 19.67           O\nATOM    849  CB  ALA A 112       0.328 -13.200   6.897  1.00 17.74           C\nATOM    850  N   ASP A 113       2.260 -15.618   7.687  1.00 18.09           N\nATOM    851  CA  ASP A 113       3.626 -15.920   8.018  1.00 19.25           C\nATOM    852  C   ASP A 113       4.546 -14.772   7.577  1.00 18.36           C\nATOM    853  O   ASP A 113       4.378 -14.226   6.485  1.00 17.77           O\nATOM    854  CB  ASP A 113       4.060 -17.172   7.310  1.00 19.74           C\nATOM    855  CG  ASP A 113       5.240 -17.775   7.970  1.00 24.85           C\nATOM    856  OD1 ASP A 113       6.346 -17.479   7.535  1.00 22.56           O\nATOM    857  OD2 ASP A 113       5.156 -18.468   9.018  1.00 27.45           O\nATOM    858  N   VAL A 114       5.518 -14.445   8.428  1.00 17.96           N\nATOM    859  CA  VAL A 114       6.497 -13.414   8.090  1.00 17.23           C\nATOM    860  C   VAL A 114       7.140 -13.722   6.733  1.00 17.60           C\nATOM    861  O   VAL A 114       7.547 -12.806   6.010  1.00 18.67           O\nATOM    862  CB  VAL A 114       7.578 -13.337   9.170  1.00 17.85           C\nATOM    863  CG1 VAL A 114       8.697 -12.396   8.764  1.00 19.83           C\nATOM    864  CG2 VAL A 114       6.941 -12.860  10.496  1.00 19.01           C\nATOM    865  N   SER A 115       7.224 -15.001   6.374  1.00 18.40           N\nATOM    866  CA  SER A 115       7.821 -15.348   5.085  1.00 17.85           C\nATOM    867  C   SER A 115       7.079 -14.833   3.860  1.00 18.23           C\nATOM    868  O   SER A 115       7.637 -14.828   2.753  1.00 18.81           O\nATOM    869  CB  SER A 115       8.085 -16.864   4.966  1.00 20.01           C\nATOM    870  OG  SER A 115       6.840 -17.553   4.814  1.00 21.84           O\nATOM    871  N   MET A 116       5.851 -14.351   4.028  1.00 16.17           N\nATOM    872  CA  MET A 116       5.127 -13.736   2.907  1.00 17.38           C\nATOM    873  C   MET A 116       5.633 -12.347   2.526  1.00 16.07           C\nATOM    874  O   MET A 116       5.161 -11.755   1.558  1.00 16.26           O\nATOM    875  CB  MET A 116       3.609 -13.569   3.196  1.00 17.66           C\nATOM    876  CG  MET A 116       2.908 -14.852   3.385  1.00 20.83           C\nATOM    877  SD  MET A 116       1.111 -14.572   3.322  1.00 21.11           S\nATOM    878  CE  MET A 116       0.900 -14.117   1.605  1.00 23.57           C\nATOM    879  N   ILE A 117       6.594 -11.836   3.299  1.00 14.75           N\nATOM    880  CA  ILE A 117       6.991 -10.440   3.148  1.00 14.73           C\nATOM    881  C   ILE A 117       7.344 -10.075   1.707  1.00 14.23           C\nATOM    882  O   ILE A 117       7.001  -8.990   1.254  1.00 14.16           O\nATOM    883  CB  ILE A 117       8.138 -10.142   4.152  1.00 14.11           C\nATOM    884  CG1 ILE A 117       8.460  -8.635   4.138  1.00 14.31           C\nATOM    885  CG2 ILE A 117       9.387 -11.012   3.819  1.00 15.85           C\nATOM    886  CD1 ILE A 117       9.432  -8.242   5.282  1.00 16.35           C\nATOM    887  N   GLY A 118       7.994 -10.965   0.972  1.00 14.99           N\nATOM    888  CA  GLY A 118       8.356 -10.665  -0.402  1.00 15.09           C\nATOM    889  C   GLY A 118       7.184 -10.487  -1.349  1.00 14.91           C\nATOM    890  O   GLY A 118       7.254  -9.725  -2.321  1.00 15.86           O\nATOM    891  N   GLN A 119       6.104 -11.188  -1.064  1.00 15.37           N\nATOM    892  CA  GLN A 119       4.913 -11.056  -1.874  1.00 14.86           C\nATOM    893  C   GLN A 119       4.236  -9.711  -1.706  1.00 15.71           C\nATOM    894  O   GLN A 119       3.385  -9.317  -2.511  1.00 15.27           O\nATOM    895  CB  GLN A 119       3.965 -12.214  -1.563  1.00 16.40           C\nATOM    896  CG  GLN A 119       4.536 -13.508  -2.118  1.00 19.15           C\nATOM    897  CD  GLN A 119       3.744 -14.681  -1.658  1.00 21.60           C\nATOM    898  OE1 GLN A 119       4.176 -15.431  -0.762  1.00 26.29           O\nATOM    899  NE2 GLN A 119       2.591 -14.874  -2.271  1.00 22.22           N\nATOM    900  N   PHE A 120       4.622  -8.987  -0.661  1.00 14.82           N\nATOM    901  CA  PHE A 120       4.105  -7.645  -0.472  1.00 15.03           C\nATOM    902  C   PHE A 120       5.119  -6.606  -0.940  1.00 14.90           C\nATOM    903  O   PHE A 120       4.912  -5.405  -0.786  1.00 15.91           O\nATOM    904  CB  PHE A 120       3.704  -7.373   0.980  1.00 15.26           C\nATOM    905  CG  PHE A 120       2.469  -8.130   1.416  1.00 15.54           C\nATOM    906  CD1 PHE A 120       2.506  -9.485   1.695  1.00 16.82           C\nATOM    907  CD2 PHE A 120       1.266  -7.434   1.553  1.00 16.43           C\nATOM    908  CE1 PHE A 120       1.359 -10.164   2.092  1.00 17.87           C\nATOM    909  CE2 PHE A 120       0.118  -8.112   1.945  1.00 15.19           C\nATOM    910  CZ  PHE A 120       0.164  -9.453   2.221  1.00 18.18           C\nATOM    911  N   GLY A 121       6.227  -7.082  -1.502  1.00 15.65           N\nATOM    912  CA  GLY A 121       7.189  -6.198  -2.151  1.00 15.90           C\nATOM    913  C   GLY A 121       8.142  -5.481  -1.207  1.00 15.39           C\nATOM    914  O   GLY A 121       8.834  -4.497  -1.597  1.00 17.26           O\nATOM    915  N   VAL A 122       8.186  -5.963   0.027  1.00 14.54           N\nATOM    916  CA  VAL A 122       8.973  -5.299   1.065  1.00 13.51           C\nATOM    917  C   VAL A 122       9.974  -6.233   1.746  1.00 13.20           C\nATOM    918  O   VAL A 122      10.370  -6.040   2.894  1.00 12.82           O\nATOM    919  CB  VAL A 122       8.059  -4.558   2.102  1.00 12.77           C\nATOM    920  CG1 VAL A 122       7.341  -3.384   1.451  1.00 16.38           C\nATOM    921  CG2 VAL A 122       7.053  -5.538   2.781  1.00 12.77           C\nATOM    922  N   GLY A 123      10.349  -7.302   1.037  1.00 13.26           N\nATOM    923  CA  GLY A 123      11.315  -8.257   1.538  1.00 13.10           C\nATOM    924  C   GLY A 123      12.658  -7.737   2.017  1.00 11.65           C\nATOM    925  O   GLY A 123      13.277  -8.370   2.820  1.00 13.24           O\nATOM    926  N   PHE A 124      13.051  -6.559   1.539  1.00 12.17           N\nATOM    927  CA  PHE A 124      14.313  -5.977   1.938  1.00 11.79           C\nATOM    928  C   PHE A 124      14.381  -5.876   3.451  1.00 12.06           C\nATOM    929  O   PHE A 124      15.415  -6.195   4.081  1.00 12.37           O\nATOM    930  CB  PHE A 124      14.441  -4.551   1.341  1.00 11.10           C\nATOM    931  CG  PHE A 124      15.526  -3.714   1.954  1.00 12.28           C\nATOM    932  CD1 PHE A 124      16.873  -3.983   1.732  1.00 13.16           C\nATOM    933  CD2 PHE A 124      15.183  -2.635   2.731  1.00 14.28           C\nATOM    934  CE1 PHE A 124      17.881  -3.184   2.290  1.00 14.04           C\nATOM    935  CE2 PHE A 124      16.189  -1.782   3.271  1.00 15.55           C\nATOM    936  CZ  PHE A 124      17.554  -2.078   3.048  1.00 14.12           C\nATOM    937  N   TYR A 125      13.241  -5.521   4.070  1.00 12.61           N\nATOM    938  CA  TYR A 125      13.256  -5.251   5.486  1.00 10.90           C\nATOM    939  C   TYR A 125      13.344  -6.487   6.363  1.00 12.09           C\nATOM    940  O   TYR A 125      13.611  -6.366   7.575  1.00 12.99           O\nATOM    941  CB  TYR A 125      12.052  -4.369   5.856  1.00 11.74           C\nATOM    942  CG  TYR A 125      12.054  -3.053   5.072  1.00 11.42           C\nATOM    943  CD1 TYR A 125      11.284  -2.915   3.927  1.00 13.77           C\nATOM    944  CD2 TYR A 125      12.844  -1.994   5.464  1.00 11.61           C\nATOM    945  CE1 TYR A 125      11.302  -1.781   3.182  1.00 12.78           C\nATOM    946  CE2 TYR A 125      12.876  -0.806   4.692  1.00 11.71           C\nATOM    947  CZ  TYR A 125      12.093  -0.729   3.560  1.00 12.11           C\nATOM    948  OH  TYR A 125      12.105   0.412   2.785  1.00 16.17           O\nATOM    949  N   SER A 126      13.226  -7.650   5.716  1.00 12.39           N\nATOM    950  CA  SER A 126      13.437  -8.907   6.426  1.00 12.52           C\nATOM    951  C   SER A 126      14.868  -9.036   6.955  1.00 12.05           C\nATOM    952  O   SER A 126      15.132  -9.859   7.804  1.00 12.66           O\nATOM    953  CB  SER A 126      13.090 -10.110   5.533  1.00 13.27           C\nATOM    954  OG  SER A 126      14.079 -10.320   4.527  1.00 14.42           O\nATOM    955  N   LEU A 127      15.808  -8.214   6.478  1.00 11.81           N\nATOM    956  CA  LEU A 127      17.153  -8.298   7.016  1.00 11.81           C\nATOM    957  C   LEU A 127      17.170  -8.029   8.516  1.00 12.38           C\nATOM    958  O   LEU A 127      18.076  -8.480   9.195  1.00 13.12           O\nATOM    959  CB  LEU A 127      18.070  -7.336   6.229  1.00 12.61           C\nATOM    960  CG  LEU A 127      17.792  -5.838   6.433  1.00 12.21           C\nATOM    961  CD1 LEU A 127      18.592  -5.273   7.599  1.00 12.07           C\nATOM    962  CD2 LEU A 127      18.305  -5.102   5.180  1.00 13.15           C\nATOM    963  N   PHE A 128      16.174  -7.290   9.045  1.00 12.36           N\nATOM    964  CA  PHE A 128      16.189  -7.023  10.467  1.00 13.30           C\nATOM    965  C   PHE A 128      15.818  -8.205  11.353  1.00 14.18           C\nATOM    966  O   PHE A 128      15.901  -8.110  12.577  1.00 16.00           O\nATOM    967  CB  PHE A 128      15.291  -5.799  10.752  1.00 12.70           C\nATOM    968  CG  PHE A 128      15.910  -4.506  10.274  1.00 14.40           C\nATOM    969  CD1 PHE A 128      15.381  -3.822   9.178  1.00 13.24           C\nATOM    970  CD2 PHE A 128      17.037  -4.005  10.899  1.00 13.66           C\nATOM    971  CE1 PHE A 128      15.929  -2.609   8.757  1.00 14.00           C\nATOM    972  CE2 PHE A 128      17.628  -2.792  10.480  1.00 14.46           C\nATOM    973  CZ  PHE A 128      17.059  -2.093   9.404  1.00 13.48           C\nATOM    974  N   LEU A 129      15.503  -9.334  10.708  1.00 14.40           N\nATOM    975  CA  LEU A 129      15.371 -10.575  11.479  1.00 14.30           C\nATOM    976  C   LEU A 129      16.734 -10.997  12.025  1.00 16.03           C\nATOM    977  O   LEU A 129      16.825 -11.571  13.112  1.00 17.98           O\nATOM    978  CB  LEU A 129      14.838 -11.708  10.624  1.00 14.56           C\nATOM    979  CG  LEU A 129      13.440 -11.556  10.079  1.00 13.73           C\nATOM    980  CD1 LEU A 129      13.081 -12.595   8.995  1.00 16.03           C\nATOM    981  CD2 LEU A 129      12.412 -11.653  11.254  1.00 16.08           C\nATOM    982  N   VAL A 130      17.792 -10.748  11.259  1.00 14.45           N\nATOM    983  CA  VAL A 130      19.117 -11.184  11.691  1.00 14.98           C\nATOM    984  C   VAL A 130      20.078 -10.100  11.985  1.00 14.24           C\nATOM    985  O   VAL A 130      21.122 -10.342  12.599  1.00 15.26           O\nATOM    986  CB  VAL A 130      19.730 -12.196  10.689  1.00 14.03           C\nATOM    987  CG1 VAL A 130      18.851 -13.459  10.517  1.00 15.29           C\nATOM    988  CG2 VAL A 130      19.945 -11.538   9.310  1.00 16.29           C\nATOM    989  N   ALA A 131      19.784  -8.869  11.553  1.00 14.48           N\nATOM    990  CA  ALA A 131      20.678  -7.757  11.702  1.00 14.40           C\nATOM    991  C   ALA A 131      20.058  -6.614  12.477  1.00 14.37           C\nATOM    992  O   ALA A 131      18.855  -6.380  12.392  1.00 15.60           O\nATOM    993  CB  ALA A 131      21.130  -7.228  10.304  1.00 14.33           C\nATOM    994  N   ASP A 132      20.884  -5.869  13.211  1.00 15.35           N\nATOM    995  CA  ASP A 132      20.357  -4.683  13.865  1.00 17.16           C\nATOM    996  C   ASP A 132      20.747  -3.398  13.209  1.00 16.38           C\nATOM    997  O   ASP A 132      20.398  -2.334  13.681  1.00 17.74           O\nATOM    998  CB  ASP A 132      20.656  -4.629  15.351  1.00 20.69           C\nATOM    999  CG  ASP A 132      22.082  -4.697  15.644  1.00 23.97           C\nATOM   1000  OD1 ASP A 132      22.409  -4.925  16.844  1.00 33.27           O\nATOM   1001  OD2 ASP A 132      22.975  -4.567  14.804  1.00 28.92           O\nATOM   1002  N   ARG A 133      21.471  -3.483  12.107  1.00 14.83           N\nATOM   1003  CA  ARG A 133      21.932  -2.290  11.416  1.00 14.59           C\nATOM   1004  C   ARG A 133      22.352  -2.758  10.026  1.00 13.64           C\nATOM   1005  O   ARG A 133      22.753  -3.918   9.849  1.00 13.27           O\nATOM   1006  CB  ARG A 133      23.117  -1.683  12.173  1.00 15.99           C\nATOM   1007  CG  ARG A 133      23.981  -0.749  11.393  1.00 21.03           C\nATOM   1008  CD  ARG A 133      24.930   0.025  12.311  1.00 27.88           C\nATOM   1009  NE  ARG A 133      26.010   0.754  11.652  1.00 35.17           N\nATOM   1010  CZ  ARG A 133      27.244   0.773  12.113  1.00 37.25           C\nATOM   1011  NH1 ARG A 133      27.545   0.109  13.219  1.00 39.70           N\nATOM   1012  NH2 ARG A 133      28.181   1.464  11.480  1.00 39.55           N\nATOM   1013  N   VAL A 134      22.182  -1.876   9.043  1.00 12.91           N\nATOM   1014  CA  VAL A 134      22.540  -2.210   7.654  1.00 12.96           C\nATOM   1015  C   VAL A 134      23.084  -0.982   6.995  1.00 12.61           C\nATOM   1016  O   VAL A 134      22.608   0.129   7.221  1.00 11.97           O\nATOM   1017  CB  VAL A 134      21.305  -2.756   6.845  1.00 12.06           C\nATOM   1018  CG1 VAL A 134      20.112  -1.829   6.944  1.00 13.31           C\nATOM   1019  CG2 VAL A 134      21.725  -3.061   5.384  1.00 12.39           C\nATOM   1020  N   GLN A 135      24.114  -1.191   6.170  1.00 11.84           N\nATOM   1021  CA  GLN A 135      24.572  -0.158   5.228  1.00 11.12           C\nATOM   1022  C   GLN A 135      24.289  -0.716   3.866  1.00 11.42           C\nATOM   1023  O   GLN A 135      24.680  -1.862   3.558  1.00 12.71           O\nATOM   1024  CB  GLN A 135      26.086   0.110   5.346  1.00 11.86           C\nATOM   1025  CG  GLN A 135      26.399   0.850   6.631  1.00 11.99           C\nATOM   1026  CD  GLN A 135      27.864   0.923   6.941  1.00 15.51           C\nATOM   1027  OE1 GLN A 135      28.688   0.363   6.212  1.00 17.56           O\nATOM   1028  NE2 GLN A 135      28.200   1.637   8.011  1.00 17.38           N\nATOM   1029  N   VAL A 136      23.583   0.089   3.065  1.00 10.51           N\nATOM   1030  CA  VAL A 136      23.412  -0.270   1.655  1.00 10.22           C\nATOM   1031  C   VAL A 136      24.414   0.587   0.880  1.00 10.45           C\nATOM   1032  O   VAL A 136      24.297   1.823   0.884  1.00 11.81           O\nATOM   1033  CB  VAL A 136      21.988   0.028   1.175  1.00 10.63           C\nATOM   1034  CG1 VAL A 136      21.855  -0.304  -0.316  1.00 11.56           C\nATOM   1035  CG2 VAL A 136      21.066  -0.944   1.920  1.00 11.39           C\nATOM   1036  N   ILE A 137      25.410  -0.025   0.237  1.00  9.29           N\nATOM   1037  CA  ILE A 137      26.435   0.766  -0.476  1.00  9.26           C\nATOM   1038  C   ILE A 137      26.097   0.576  -1.953  1.00  9.73           C\nATOM   1039  O   ILE A 137      25.981  -0.547  -2.389  1.00 11.17           O\nATOM   1040  CB  ILE A 137      27.815   0.161  -0.135  1.00 10.17           C\nATOM   1041  CG1 ILE A 137      28.076   0.224   1.369  1.00 13.01           C\nATOM   1042  CG2 ILE A 137      28.929   0.908  -0.892  1.00 12.24           C\nATOM   1043  CD1 ILE A 137      29.027  -0.863   1.855  1.00 15.67           C\nATOM   1044  N   SER A 138      25.924   1.656  -2.713  1.00 10.35           N\nATOM   1045  CA  SER A 138      25.430   1.372  -4.067  1.00 10.59           C\nATOM   1046  C   SER A 138      26.091   2.324  -5.063  1.00 10.49           C\nATOM   1047  O   SER A 138      26.434   3.480  -4.747  1.00 11.13           O\nATOM   1048  CB  SER A 138      23.906   1.535  -4.128  1.00 11.33           C\nATOM   1049  OG  SER A 138      23.431   0.978  -5.364  1.00 11.76           O\nATOM   1050  N   LYS A 139      26.282   1.795  -6.272  1.00 11.83           N\nATOM   1051  CA  LYS A 139      26.852   2.592  -7.377  1.00 11.77           C\nATOM   1052  C   LYS A 139      26.033   2.331  -8.623  1.00 11.53           C\nATOM   1053  O   LYS A 139      26.058   1.231  -9.196  1.00 11.60           O\nATOM   1054  CB  LYS A 139      28.299   2.160  -7.636  1.00 11.42           C\nATOM   1055  CG  LYS A 139      28.970   2.869  -8.863  1.00 13.16           C\nATOM   1056  CD  LYS A 139      29.260   4.337  -8.571  1.00 11.65           C\nATOM   1057  CE  LYS A 139      30.021   4.999  -9.718  1.00 12.90           C\nATOM   1058  NZ  LYS A 139      29.180   5.080 -10.968  1.00 13.92           N\nATOM   1059  N   SER A 140      25.298   3.357  -9.007  1.00 12.77           N\nATOM   1060  CA  SER A 140      24.576   3.311 -10.284  1.00 12.20           C\nATOM   1061  C   SER A 140      25.507   3.928 -11.343  1.00 13.94           C\nATOM   1062  O   SER A 140      26.323   4.784 -11.020  1.00 13.76           O\nATOM   1063  CB  SER A 140      23.339   4.164 -10.150  1.00 12.31           C\nATOM   1064  OG  SER A 140      22.818   4.522 -11.473  1.00 16.30           O\nATOM   1065  N   ASN A 141      25.373   3.539 -12.620  1.00 14.28           N\nATOM   1066  CA  ASN A 141      26.179   4.219 -13.636  1.00 15.29           C\nATOM   1067  C   ASN A 141      25.876   5.715 -13.687  1.00 16.59           C\nATOM   1068  O   ASN A 141      26.684   6.481 -14.234  1.00 18.54           O\nATOM   1069  CB  ASN A 141      25.882   3.646 -15.030  1.00 15.40           C\nATOM   1070  CG  ASN A 141      26.390   2.240 -15.203  1.00 16.22           C\nATOM   1071  OD1 ASN A 141      27.303   1.803 -14.487  1.00 17.13           O\nATOM   1072  ND2 ASN A 141      25.842   1.511 -16.171  1.00 15.29           N\nATOM   1073  N   ASP A 142      24.763   6.132 -13.093  1.00 17.60           N\nATOM   1074  CA  ASP A 142      24.325   7.522 -13.211  1.00 17.95           C\nATOM   1075  C   ASP A 142      24.679   8.426 -12.040  1.00 17.82           C\nATOM   1076  O   ASP A 142      24.252   9.565 -11.993  1.00 18.62           O\nATOM   1077  CB  ASP A 142      22.829   7.560 -13.477  1.00 20.29           C\nATOM   1078  CG  ASP A 142      22.469   6.840 -14.784  1.00 26.11           C\nATOM   1079  OD1 ASP A 142      23.072   7.183 -15.817  1.00 34.44           O\nATOM   1080  OD2 ASP A 142      21.614   5.935 -14.887  1.00 33.53           O\nATOM   1081  N   ASP A 143      25.417   7.889 -11.068  1.00 15.65           N\nATOM   1082  CA  ASP A 143      25.807   8.697  -9.911  1.00 14.48           C\nATOM   1083  C   ASP A 143      27.077   8.146  -9.299  1.00 14.33           C\nATOM   1084  O   ASP A 143      27.645   7.156  -9.754  1.00 15.08           O\nATOM   1085  CB  ASP A 143      24.674   8.641  -8.885  1.00 15.37           C\nATOM   1086  CG  ASP A 143      24.581   9.868  -7.993  1.00 14.41           C\nATOM   1087  OD1 ASP A 143      25.488  10.753  -7.985  1.00 16.01           O\nATOM   1088  OD2 ASP A 143      23.594  10.019  -7.219  1.00 16.07           O\nATOM   1089  N   GLU A 144      27.556   8.870  -8.297  1.00 13.68           N\nATOM   1090  CA  GLU A 144      28.674   8.448  -7.466  1.00 14.39           C\nATOM   1091  C   GLU A 144      28.258   7.333  -6.531  1.00 12.46           C\nATOM   1092  O   GLU A 144      27.065   7.035  -6.379  1.00 13.58           O\nATOM   1093  CB  GLU A 144      29.190   9.620  -6.628  1.00 15.81           C\nATOM   1094  CG  GLU A 144      29.552  10.823  -7.485  1.00 22.32           C\nATOM   1095  CD  GLU A 144      30.789  10.614  -8.323  1.00 30.85           C\nATOM   1096  OE1 GLU A 144      31.501   9.603  -8.147  1.00 32.36           O\nATOM   1097  OE2 GLU A 144      31.083  11.505  -9.160  1.00 38.81           O\nATOM   1098  N   GLN A 145      29.246   6.714  -5.872  1.00 12.73           N\nATOM   1099  CA  GLN A 145      28.953   5.645  -4.893  1.00 11.60           C\nATOM   1100  C   GLN A 145      28.484   6.288  -3.589  1.00 12.06           C\nATOM   1101  O   GLN A 145      29.123   7.225  -3.105  1.00 12.85           O\nATOM   1102  CB  GLN A 145      30.227   4.811  -4.637  1.00 10.86           C\nATOM   1103  CG  GLN A 145      29.994   3.570  -3.770  1.00 10.90           C\nATOM   1104  CD  GLN A 145      31.125   2.581  -3.915  1.00 12.71           C\nATOM   1105  OE1 GLN A 145      31.530   2.220  -5.032  1.00 13.38           O\nATOM   1106  NE2 GLN A 145      31.668   2.135  -2.759  1.00 11.17           N\nATOM   1107  N   TYR A 146      27.371   5.777  -3.042  1.00 11.72           N\nATOM   1108  CA  TYR A 146      26.768   6.315  -1.805  1.00 11.47           C\nATOM   1109  C   TYR A 146      26.498   5.213  -0.797  1.00 10.96           C\nATOM   1110  O   TYR A 146      26.359   4.049  -1.169  1.00 11.85           O\nATOM   1111  CB  TYR A 146      25.430   7.045  -2.068  1.00 12.15           C\nATOM   1112  CG  TYR A 146      25.624   8.444  -2.571  1.00 11.81           C\nATOM   1113  CD1 TYR A 146      25.717   8.701  -3.943  1.00 13.56           C\nATOM   1114  CD2 TYR A 146      25.748   9.498  -1.687  1.00 12.17           C\nATOM   1115  CE1 TYR A 146      25.909   9.997  -4.386  1.00 14.07           C\nATOM   1116  CE2 TYR A 146      25.889  10.808  -2.148  1.00 14.14           C\nATOM   1117  CZ  TYR A 146      26.017  11.024  -3.482  1.00 14.57           C\nATOM   1118  OH  TYR A 146      26.209  12.342  -3.940  1.00 16.70           O\nATOM   1119  N   ILE A 147      26.404   5.620   0.483  1.00 10.75           N\nATOM   1120  CA  ILE A 147      26.112   4.666   1.581  1.00 10.85           C\nATOM   1121  C   ILE A 147      24.825   5.124   2.240  1.00 10.91           C\nATOM   1122  O   ILE A 147      24.747   6.266   2.699  1.00 12.59           O\nATOM   1123  CB  ILE A 147      27.201   4.733   2.678  1.00 11.55           C\nATOM   1124  CG1 ILE A 147      28.568   4.449   2.052  1.00 13.08           C\nATOM   1125  CG2 ILE A 147      26.865   3.691   3.790  1.00 13.23           C\nATOM   1126  CD1 ILE A 147      29.722   5.081   2.853  1.00 11.89           C\nATOM   1127  N   TRP A 148      23.819   4.246   2.266  1.00 10.85           N\nATOM   1128  CA  TRP A 148      22.567   4.503   2.987  1.00 10.01           C\nATOM   1129  C   TRP A 148      22.639   3.655   4.251  1.00 12.15           C\nATOM   1130  O   TRP A 148      23.040   2.485   4.192  1.00 11.80           O\nATOM   1131  CB  TRP A 148      21.439   4.044   2.061  1.00 11.26           C\nATOM   1132  CG  TRP A 148      20.035   4.084   2.594  1.00 11.05           C\nATOM   1133  CD1 TRP A 148      19.079   5.030   2.302  1.00 12.78           C\nATOM   1134  CD2 TRP A 148      19.389   3.087   3.382  1.00 13.14           C\nATOM   1135  NE1 TRP A 148      17.879   4.697   2.902  1.00 13.62           N\nATOM   1136  CE2 TRP A 148      18.030   3.515   3.568  1.00 13.21           C\nATOM   1137  CE3 TRP A 148      19.809   1.885   3.957  1.00 14.02           C\nATOM   1138  CZ2 TRP A 148      17.093   2.764   4.324  1.00 14.97           C\nATOM   1139  CZ3 TRP A 148      18.862   1.108   4.690  1.00 16.27           C\nATOM   1140  CH2 TRP A 148      17.534   1.570   4.855  1.00 13.95           C\nATOM   1141  N   GLU A 149      22.316   4.239   5.409  1.00 11.49           N\nATOM   1142  CA  GLU A 149      22.456   3.448   6.657  1.00 11.80           C\nATOM   1143  C   GLU A 149      21.238   3.566   7.521  1.00 12.07           C\nATOM   1144  O   GLU A 149      20.712   4.673   7.697  1.00 13.43           O\nATOM   1145  CB  GLU A 149      23.679   3.906   7.468  1.00 12.61           C\nATOM   1146  CG  GLU A 149      23.980   3.014   8.681  1.00 13.31           C\nATOM   1147  CD  GLU A 149      25.417   3.171   9.238  1.00 17.06           C\nATOM   1148  OE1 GLU A 149      26.056   4.165   8.978  1.00 19.56           O\nATOM   1149  OE2 GLU A 149      25.939   2.248   9.887  1.00 24.58           O\nATOM   1150  N   SER A 150      20.855   2.434   8.107  1.00 11.79           N\nATOM   1151  CA  SER A 150      19.683   2.397   9.000  1.00 11.73           C\nATOM   1152  C   SER A 150      19.912   1.456  10.164  1.00 14.43           C\nATOM   1153  O   SER A 150      20.557   0.428  10.018  1.00 14.24           O\nATOM   1154  CB  SER A 150      18.456   1.874   8.203  1.00 14.27           C\nATOM   1155  OG  SER A 150      17.334   1.617   9.059  1.00 15.27           O\nATOM   1156  N   ASN A 151      19.350   1.824  11.319  1.00 15.32           N\nATOM   1157  CA  ASN A 151      19.394   0.926  12.469  1.00 16.43           C\nATOM   1158  C   ASN A 151      17.996   0.614  12.892  1.00 16.72           C\nATOM   1159  O   ASN A 151      17.713   0.355  14.054  1.00 17.35           O\nATOM   1160  CB  ASN A 151      20.169   1.632  13.586  1.00 16.64           C\nATOM   1161  CG  ASN A 151      19.475   2.886  14.043  1.00 18.66           C\nATOM   1162  OD1 ASN A 151      18.510   3.322  13.434  1.00 19.97           O\nATOM   1163  ND2 ASN A 151      20.011   3.518  15.076  1.00 27.08           N\nATOM   1164  N   ALA A 152      17.109   0.568  11.902  1.00 16.13           N\nATOM   1165  CA  ALA A 152      15.677   0.252  12.091  1.00 16.92           C\nATOM   1166  C   ALA A 152      14.937   1.362  12.836  1.00 17.67           C\nATOM   1167  O   ALA A 152      13.762   1.180  13.188  1.00 20.28           O\nATOM   1168  CB  ALA A 152      15.433  -1.157  12.754  1.00 17.38           C\nATOM   1169  N   GLY A 153      15.597   2.482  13.078  1.00 18.99           N\nATOM   1170  CA  GLY A 153      14.950   3.613  13.716  1.00 20.17           C\nATOM   1171  C   GLY A 153      14.252   4.446  12.658  1.00 20.28           C\nATOM   1172  O   GLY A 153      14.283   4.097  11.477  1.00 19.83           O\nATOM   1173  N   GLY A 154      13.691   5.582  13.066  1.00 19.18           N\nATOM   1174  CA  GLY A 154      12.881   6.401  12.178  1.00 19.18           C\nATOM   1175  C   GLY A 154      13.606   7.260  11.163  1.00 17.89           C\nATOM   1176  O   GLY A 154      12.979   7.863  10.295  1.00 18.61           O\nATOM   1177  N   SER A 155      14.923   7.326  11.281  1.00 18.53           N\nATOM   1178  CA  SER A 155      15.714   8.147  10.356  1.00 17.74           C\nATOM   1179  C   SER A 155      16.843   7.321   9.748  1.00 17.16           C\nATOM   1180  O   SER A 155      17.312   6.335  10.341  1.00 17.80           O\nATOM   1181  CB  SER A 155      16.301   9.381  11.090  1.00 19.73           C\nATOM   1182  OG  SER A 155      17.220   8.989  12.096  1.00 26.25           O\nATOM   1183  N   PHE A 156      17.263   7.707   8.548  1.00 16.50           N\nATOM   1184  CA  PHE A 156      18.406   7.039   7.922  1.00 14.54           C\nATOM   1185  C   PHE A 156      19.360   8.113   7.395  1.00 14.23           C\nATOM   1186  O   PHE A 156      18.989   9.286   7.256  1.00 15.84           O\nATOM   1187  CB  PHE A 156      17.994   6.121   6.750  1.00 14.53           C\nATOM   1188  CG  PHE A 156      17.229   6.805   5.645  1.00 14.03           C\nATOM   1189  CD1 PHE A 156      17.904   7.315   4.530  1.00 14.63           C\nATOM   1190  CD2 PHE A 156      15.831   6.897   5.681  1.00 15.75           C\nATOM   1191  CE1 PHE A 156      17.222   7.896   3.458  1.00 14.51           C\nATOM   1192  CE2 PHE A 156      15.130   7.472   4.614  1.00 15.57           C\nATOM   1193  CZ  PHE A 156      15.834   7.980   3.480  1.00 16.38           C\nATOM   1194  N   THR A 157      20.585   7.701   7.092  1.00 13.59           N\nATOM   1195  CA  THR A 157      21.533   8.657   6.546  1.00 13.39           C\nATOM   1196  C   THR A 157      21.964   8.215   5.171  1.00 12.77           C\nATOM   1197  O   THR A 157      21.902   7.038   4.820  1.00 13.77           O\nATOM   1198  CB  THR A 157      22.788   8.763   7.394  1.00 13.97           C\nATOM   1199  OG1 THR A 157      23.420   7.478   7.555  1.00 14.77           O\nATOM   1200  CG2 THR A 157      22.426   9.202   8.843  1.00 15.40           C\nATOM   1201  N   VAL A 158      22.397   9.198   4.397  1.00 12.76           N\nATOM   1202  CA  VAL A 158      22.982   8.906   3.100  1.00 13.30           C\nATOM   1203  C   VAL A 158      24.266   9.727   3.048  1.00 14.50           C\nATOM   1204  O   VAL A 158      24.234  10.945   3.324  1.00 15.25           O\nATOM   1205  CB  VAL A 158      22.049   9.336   1.946  1.00 13.60           C\nATOM   1206  CG1 VAL A 158      22.728   9.077   0.629  1.00 15.90           C\nATOM   1207  CG2 VAL A 158      20.756   8.524   2.005  1.00 15.19           C\nATOM   1208  N   THR A 159      25.366   9.082   2.669  1.00 13.56           N\nATOM   1209  CA  THR A 159      26.714   9.700   2.705  1.00 13.32           C\nATOM   1210  C   THR A 159      27.468   9.329   1.429  1.00 13.50           C\nATOM   1211  O   THR A 159      27.459   8.186   0.997  1.00 11.95           O\nATOM   1212  CB  THR A 159      27.484   9.155   3.914  1.00 14.44           C\nATOM   1213  OG1 THR A 159      26.725   9.332   5.124  1.00 16.00           O\nATOM   1214  CG2 THR A 159      28.812   9.900   4.154  1.00 15.59           C\nATOM   1215  N   LEU A 160      28.080  10.342   0.799  1.00 13.14           N\nATOM   1216  CA  LEU A 160      28.933  10.052  -0.350  1.00 13.06           C\nATOM   1217  C   LEU A 160      30.040   9.131   0.158  1.00 13.41           C\nATOM   1218  O   LEU A 160      30.606   9.347   1.227  1.00 13.08           O\nATOM   1219  CB  LEU A 160      29.554  11.381  -0.849  1.00 14.42           C\nATOM   1220  CG  LEU A 160      30.563  11.210  -1.972  1.00 15.27           C\nATOM   1221  CD1 LEU A 160      29.835  10.755  -3.205  1.00 18.45           C\nATOM   1222  CD2 LEU A 160      31.192  12.591  -2.210  1.00 20.38           C\nATOM   1223  N   ASP A 161      30.320   8.068  -0.594  1.00 12.14           N\nATOM   1224  CA  ASP A 161      31.235   6.991  -0.147  1.00 12.28           C\nATOM   1225  C   ASP A 161      32.716   7.257  -0.422  1.00 13.61           C\nATOM   1226  O   ASP A 161      33.150   7.198  -1.570  1.00 14.56           O\nATOM   1227  CB  ASP A 161      30.827   5.679  -0.806  1.00 12.50           C\nATOM   1228  CG  ASP A 161      31.481   4.498  -0.172  1.00 11.91           C\nATOM   1229  OD1 ASP A 161      32.556   4.630   0.447  1.00 12.01           O\nATOM   1230  OD2 ASP A 161      30.996   3.387  -0.266  1.00 10.42           O\nATOM   1231  N   GLU A 162      33.467   7.572   0.623  1.00 13.84           N\nATOM   1232  CA  GLU A 162      34.907   7.713   0.496  1.00 15.60           C\nATOM   1233  C   GLU A 162      35.595   6.706   1.443  1.00 15.64           C\nATOM   1234  O   GLU A 162      36.732   6.930   1.856  1.00 15.88           O\nATOM   1235  CB  GLU A 162      35.338   9.151   0.834  1.00 17.66           C\nATOM   1236  CG  GLU A 162      34.864  10.215  -0.154  1.00 21.53           C\nATOM   1237  CD  GLU A 162      35.251  11.639   0.232  1.00 31.70           C\nATOM   1238  OE1 GLU A 162      36.009  11.812   1.207  1.00 35.33           O\nATOM   1239  OE2 GLU A 162      34.787  12.572  -0.456  1.00 37.57           O\nATOM   1240  N   VAL A 163      34.903   5.632   1.807  1.00 13.23           N\nATOM   1241  CA  VAL A 163      35.465   4.675   2.782  1.00 14.00           C\nATOM   1242  C   VAL A 163      35.434   3.203   2.403  1.00 12.84           C\nATOM   1243  O   VAL A 163      36.120   2.385   2.999  1.00 14.20           O\nATOM   1244  CB  VAL A 163      34.849   4.852   4.184  1.00 13.34           C\nATOM   1245  CG1 VAL A 163      35.147   6.283   4.697  1.00 15.53           C\nATOM   1246  CG2 VAL A 163      33.311   4.619   4.158  1.00 15.01           C\nATOM   1247  N   ASN A 164      34.603   2.831   1.433  1.00 11.93           N\nATOM   1248  CA  ASN A 164      34.473   1.434   1.041  1.00 11.68           C\nATOM   1249  C   ASN A 164      35.150   1.095  -0.281  1.00 12.42           C\nATOM   1250  O   ASN A 164      35.438   2.006  -1.056  1.00 13.46           O\nATOM   1251  CB  ASN A 164      32.991   1.030   0.979  1.00 11.52           C\nATOM   1252  CG  ASN A 164      32.303   1.177   2.315  1.00 11.17           C\nATOM   1253  OD1 ASN A 164      32.755   0.558   3.302  1.00 12.59           O\nATOM   1254  ND2 ASN A 164      31.279   2.001   2.390  1.00 11.10           N\nATOM   1255  N   GLU A 165      35.378  -0.185  -0.535  1.00 12.65           N\nATOM   1256  CA  GLU A 165      35.922  -0.564  -1.852  1.00 14.49           C\nATOM   1257  C   GLU A 165      35.026  -0.022  -2.962  1.00 14.69           C\nATOM   1258  O   GLU A 165      33.784   0.100  -2.815  1.00 14.56           O\nATOM   1259  CB  GLU A 165      36.016  -2.086  -1.955  1.00 14.62           C\nATOM   1260  CG  GLU A 165      34.661  -2.790  -1.895  1.00 19.09           C\nATOM   1261  CD  GLU A 165      34.767  -4.294  -2.020  1.00 26.46           C\nATOM   1262  OE1 GLU A 165      35.596  -4.782  -2.843  1.00 27.35           O\nATOM   1263  OE2 GLU A 165      34.048  -4.982  -1.257  1.00 30.42           O\nATOM   1264  N   ARG A 166      35.611   0.358  -4.092  1.00 13.76           N\nATOM   1265  CA  ARG A 166      34.794   0.756  -5.214  1.00 15.12           C\nATOM   1266  C   ARG A 166      34.056  -0.443  -5.771  1.00 16.22           C\nATOM   1267  O   ARG A 166      34.653  -1.516  -5.983  1.00 17.84           O\nATOM   1268  CB  ARG A 166      35.672   1.287  -6.333  1.00 14.19           C\nATOM   1269  CG  ARG A 166      36.437   2.527  -5.932  1.00 14.02           C\nATOM   1270  CD  ARG A 166      35.583   3.665  -5.486  1.00 13.32           C\nATOM   1271  NE  ARG A 166      35.368   3.615  -4.015  1.00 13.41           N\nATOM   1272  CZ  ARG A 166      34.675   4.532  -3.350  1.00 14.51           C\nATOM   1273  NH1 ARG A 166      34.109   5.520  -4.025  1.00 16.27           N\nATOM   1274  NH2 ARG A 166      34.533   4.453  -2.013  1.00 15.62           N\nATOM   1275  N   ILE A 167      32.768  -0.233  -6.044  1.00 15.59           N\nATOM   1276  CA  ILE A 167      31.904  -1.211  -6.672  1.00 17.51           C\nATOM   1277  C   ILE A 167      31.998  -0.699  -8.152  1.00 18.10           C\nATOM   1278  O   ILE A 167      31.987   0.463  -8.412  1.00 20.54           O\nATOM   1279  CB  ILE A 167      30.436  -0.982  -6.119  1.00 16.99           C\nATOM   1280  CG1 ILE A 167      30.342  -1.274  -4.624  1.00 22.57           C\nATOM   1281  CG2 ILE A 167      29.406  -1.786  -6.911  1.00 20.53           C\nATOM   1282  CD1 ILE A 167      28.890  -1.036  -4.085  1.00 22.86           C\nATOM   1283  N   GLY A 168      32.081  -1.548  -9.109  1.00 19.91           N\nATOM   1284  CA  GLY A 168      32.107  -1.014 -10.448  1.00 16.64           C\nATOM   1285  C   GLY A 168      30.708  -0.523 -10.758  1.00 16.02           C\nATOM   1286  O   GLY A 168      30.507   0.574 -11.328  1.00 15.28           O\nATOM   1287  N   ARG A 169      29.754  -1.385 -10.416  1.00 13.71           N\nATOM   1288  CA  ARG A 169      28.323  -1.048 -10.529  1.00 12.75           C\nATOM   1289  C   ARG A 169      27.601  -2.080  -9.695  1.00 13.29           C\nATOM   1290  O   ARG A 169      27.993  -3.244  -9.685  1.00 14.68           O\nATOM   1291  CB  ARG A 169      27.850  -1.254 -11.992  1.00 12.87           C\nATOM   1292  CG  ARG A 169      26.416  -0.855 -12.240  1.00 12.66           C\nATOM   1293  CD  ARG A 169      25.813  -1.448 -13.586  1.00 12.67           C\nATOM   1294  NE  ARG A 169      25.899  -2.917 -13.623  1.00 12.81           N\nATOM   1295  CZ  ARG A 169      26.759  -3.606 -14.391  1.00 13.50           C\nATOM   1296  NH1 ARG A 169      27.574  -2.946 -15.201  1.00 15.22           N\nATOM   1297  NH2 ARG A 169      26.787  -4.939 -14.358  1.00 14.88           N\nATOM   1298  N   GLY A 170      26.533  -1.645  -8.999  1.00 11.60           N\nATOM   1299  CA  GLY A 170      25.748  -2.580  -8.211  1.00 11.81           C\nATOM   1300  C   GLY A 170      25.575  -2.142  -6.784  1.00 11.08           C\nATOM   1301  O   GLY A 170      25.657  -0.960  -6.457  1.00 12.69           O\nATOM   1302  N   THR A 171      25.315  -3.129  -5.929  1.00 10.25           N\nATOM   1303  CA  THR A 171      24.936  -2.776  -4.565  1.00 11.12           C\nATOM   1304  C   THR A 171      25.505  -3.827  -3.617  1.00 11.28           C\nATOM   1305  O   THR A 171      25.513  -5.023  -3.915  1.00 12.20           O\nATOM   1306  CB  THR A 171      23.393  -2.853  -4.494  1.00 12.08           C\nATOM   1307  OG1 THR A 171      22.816  -1.800  -5.313  1.00 11.85           O\nATOM   1308  CG2 THR A 171      22.878  -2.566  -3.082  1.00 13.21           C\nATOM   1309  N   ILE A 172      25.927  -3.354  -2.439  1.00 10.31           N\nATOM   1310  CA  ILE A 172      26.300  -4.243  -1.335  1.00 10.95           C\nATOM   1311  C   ILE A 172      25.370  -3.966  -0.173  1.00 10.69           C\nATOM   1312  O   ILE A 172      25.225  -2.813   0.247  1.00 11.91           O\nATOM   1313  CB  ILE A 172      27.700  -3.917  -0.848  1.00 11.22           C\nATOM   1314  CG1 ILE A 172      28.695  -4.250  -1.965  1.00 11.78           C\nATOM   1315  CG2 ILE A 172      28.044  -4.796   0.398  1.00 12.79           C\nATOM   1316  CD1 ILE A 172      30.176  -3.871  -1.634  1.00 15.37           C\nATOM   1317  N   LEU A 173      24.756  -5.009   0.356  1.00 10.88           N\nATOM   1318  CA  LEU A 173      24.007  -4.907   1.585  1.00 11.32           C\nATOM   1319  C   LEU A 173      24.973  -5.427   2.638  1.00 10.85           C\nATOM   1320  O   LEU A 173      25.332  -6.609   2.619  1.00 12.64           O\nATOM   1321  CB  LEU A 173      22.755  -5.791   1.531  1.00 11.03           C\nATOM   1322  CG  LEU A 173      21.487  -4.991   1.193  1.00 12.32           C\nATOM   1323  CD1 LEU A 173      21.559  -4.418  -0.201  1.00 14.11           C\nATOM   1324  CD2 LEU A 173      20.321  -5.971   1.309  1.00 13.62           C\nATOM   1325  N   ARG A 174      25.363  -4.547   3.554  1.00 10.22           N\nATOM   1326  CA  ARG A 174      26.299  -4.924   4.608  1.00 11.54           C\nATOM   1327  C   ARG A 174      25.463  -5.038   5.887  1.00 10.89           C\nATOM   1328  O   ARG A 174      25.007  -4.024   6.438  1.00 11.44           O\nATOM   1329  CB  ARG A 174      27.417  -3.877   4.718  1.00 10.94           C\nATOM   1330  CG  ARG A 174      28.383  -4.128   5.942  1.00 11.31           C\nATOM   1331  CD  ARG A 174      29.438  -3.065   6.014  1.00 11.90           C\nATOM   1332  NE  ARG A 174      30.352  -3.153   4.857  1.00 11.17           N\nATOM   1333  CZ  ARG A 174      31.107  -2.146   4.433  1.00 11.79           C\nATOM   1334  NH1 ARG A 174      30.986  -0.933   5.000  1.00 13.28           N\nATOM   1335  NH2 ARG A 174      31.974  -2.390   3.420  1.00 11.72           N\nATOM   1336  N   LEU A 175      25.268  -6.281   6.338  1.00 11.00           N\nATOM   1337  CA  LEU A 175      24.378  -6.575   7.475  1.00 11.72           C\nATOM   1338  C   LEU A 175      25.256  -6.706   8.709  1.00 11.91           C\nATOM   1339  O   LEU A 175      26.235  -7.463   8.701  1.00 13.39           O\nATOM   1340  CB  LEU A 175      23.653  -7.907   7.267  1.00 12.19           C\nATOM   1341  CG  LEU A 175      22.823  -8.055   5.996  1.00 15.78           C\nATOM   1342  CD1 LEU A 175      21.923  -9.283   6.271  1.00 16.90           C\nATOM   1343  CD2 LEU A 175      21.992  -6.894   5.638  1.00 17.48           C\nATOM   1344  N   PHE A 176      24.916  -5.927   9.736  1.00 12.89           N\nATOM   1345  CA  PHE A 176      25.616  -6.076  11.026  1.00 13.38           C\nATOM   1346  C   PHE A 176      24.753  -6.999  11.838  1.00 14.40           C\nATOM   1347  O   PHE A 176      23.688  -6.629  12.339  1.00 14.72           O\nATOM   1348  CB  PHE A 176      25.786  -4.719  11.687  1.00 14.28           C\nATOM   1349  CG  PHE A 176      26.679  -3.787  10.905  1.00 15.59           C\nATOM   1350  CD1 PHE A 176      26.176  -3.064   9.849  1.00 13.59           C\nATOM   1351  CD2 PHE A 176      28.021  -3.643  11.241  1.00 16.41           C\nATOM   1352  CE1 PHE A 176      27.004  -2.238   9.106  1.00 15.77           C\nATOM   1353  CE2 PHE A 176      28.869  -2.805  10.525  1.00 18.31           C\nATOM   1354  CZ  PHE A 176      28.342  -2.077   9.447  1.00 15.80           C\nATOM   1355  N   LEU A 177      25.203  -8.238  11.920  1.00 14.60           N\nATOM   1356  CA  LEU A 177      24.423  -9.300  12.531  1.00 14.77           C\nATOM   1357  C   LEU A 177      24.225  -9.138  14.033  1.00 15.75           C\nATOM   1358  O   LEU A 177      25.103  -8.676  14.760  1.00 16.26           O\nATOM   1359  CB  LEU A 177      25.099 -10.631  12.234  1.00 15.17           C\nATOM   1360  CG  LEU A 177      25.171 -11.070  10.771  1.00 15.43           C\nATOM   1361  CD1 LEU A 177      25.866 -12.458  10.708  1.00 19.53           C\nATOM   1362  CD2 LEU A 177      23.823 -11.186  10.067  1.00 16.38           C\nATOM   1363  N   LYS A 178      23.037  -9.540  14.459  1.00 16.17           N\nATOM   1364  CA  LYS A 178      22.733  -9.594  15.912  1.00 18.03           C\nATOM   1365  C   LYS A 178      23.618 -10.647  16.571  1.00 19.55           C\nATOM   1366  O   LYS A 178      23.992 -11.614  15.945  1.00 19.64           O\nATOM   1367  CB  LYS A 178      21.282  -9.978  16.107  1.00 18.01           C\nATOM   1368  CG  LYS A 178      20.278  -8.938  15.624  1.00 17.30           C\nATOM   1369  CD  LYS A 178      18.885  -9.556  15.559  1.00 15.68           C\nATOM   1370  CE  LYS A 178      17.796  -8.529  15.399  1.00 18.54           C\nATOM   1371  NZ  LYS A 178      16.381  -9.113  15.295  1.00 17.82           N\nATOM   1372  N   ASP A 179      23.871 -10.481  17.862  1.00 22.26           N\nATOM   1373  CA  ASP A 179      24.811 -11.372  18.561  1.00 25.69           C\nATOM   1374  C   ASP A 179      24.383 -12.833  18.593  1.00 26.32           C\nATOM   1375  O   ASP A 179      25.235 -13.734  18.717  1.00 26.73           O\nATOM   1376  CB  ASP A 179      25.031 -10.873  19.988  1.00 26.97           C\nATOM   1377  CG  ASP A 179      26.019  -9.756  20.060  1.00 32.62           C\nATOM   1378  OD1 ASP A 179      26.803  -9.622  19.099  1.00 34.82           O\nATOM   1379  OD2 ASP A 179      26.091  -8.966  21.023  1.00 38.46           O\nATOM   1380  N   ASP A 180      23.088 -13.095  18.464  1.00 26.82           N\nATOM   1381  CA  ASP A 180      22.637 -14.471  18.489  1.00 27.71           C\nATOM   1382  C   ASP A 180      22.365 -15.026  17.105  1.00 26.39           C\nATOM   1383  O   ASP A 180      21.808 -16.111  16.951  1.00 25.25           O\nATOM   1384  CB  ASP A 180      21.413 -14.618  19.394  1.00 29.28           C\nATOM   1385  CG  ASP A 180      20.174 -14.010  18.804  1.00 33.69           C\nATOM   1386  OD1 ASP A 180      20.268 -12.943  18.160  1.00 34.86           O\nATOM   1387  OD2 ASP A 180      19.044 -14.525  18.948  1.00 40.63           O\nATOM   1388  N   GLN A 181      22.789 -14.294  16.066  1.00 24.20           N\nATOM   1389  CA  GLN A 181      22.552 -14.768  14.727  1.00 24.10           C\nATOM   1390  C   GLN A 181      23.860 -14.949  13.965  1.00 24.09           C\nATOM   1391  O   GLN A 181      23.862 -14.929  12.738  1.00 24.15           O\nATOM   1392  CB  GLN A 181      21.621 -13.794  13.957  1.00 22.71           C\nATOM   1393  CG  GLN A 181      20.299 -13.572  14.629  1.00 24.69           C\nATOM   1394  CD  GLN A 181      19.468 -14.827  14.708  1.00 24.79           C\nATOM   1395  OE1 GLN A 181      19.446 -15.638  13.789  1.00 25.92           O\nATOM   1396  NE2 GLN A 181      18.741 -14.970  15.820  1.00 27.75           N\nATOM   1397  N   LEU A 182      24.950 -15.203  14.688  1.00 24.19           N\nATOM   1398  CA  LEU A 182      26.232 -15.342  14.021  1.00 23.90           C\nATOM   1399  C   LEU A 182      26.367 -16.613  13.204  1.00 23.75           C\nATOM   1400  O   LEU A 182      27.361 -16.808  12.512  1.00 23.12           O\nATOM   1401  CB  LEU A 182      27.382 -15.186  15.012  1.00 24.53           C\nATOM   1402  CG  LEU A 182      27.338 -13.899  15.822  1.00 25.60           C\nATOM   1403  CD1 LEU A 182      28.549 -13.788  16.696  1.00 26.28           C\nATOM   1404  CD2 LEU A 182      27.270 -12.683  14.827  1.00 26.82           C\nATOM   1405  N   GLU A 183      25.369 -17.493  13.246  1.00 22.60           N\nATOM   1406  CA  GLU A 183      25.490 -18.695  12.437  1.00 21.74           C\nATOM   1407  C   GLU A 183      25.550 -18.346  10.951  1.00 21.94           C\nATOM   1408  O   GLU A 183      25.972 -19.138  10.116  1.00 20.97           O\nATOM   1409  CB  GLU A 183      24.284 -19.631  12.687  1.00 22.81           C\nATOM   1410  CG  GLU A 183      22.952 -19.030  12.254  1.00 22.91           C\nATOM   1411  CD  GLU A 183      21.726 -19.856  12.736  1.00 22.62           C\nATOM   1412  OE1 GLU A 183      21.387 -19.653  13.921  1.00 27.68           O\nATOM   1413  OE2 GLU A 183      21.136 -20.627  11.951  1.00 25.34           O\nATOM   1414  N   TYR A 184      25.049 -17.158  10.616  1.00 20.91           N\nATOM   1415  CA  TYR A 184      25.007 -16.803   9.208  1.00 21.03           C\nATOM   1416  C   TYR A 184      26.342 -16.333   8.692  1.00 22.08           C\nATOM   1417  O   TYR A 184      26.411 -15.858   7.557  1.00 22.28           O\nATOM   1418  CB  TYR A 184      23.883 -15.778   8.920  1.00 19.57           C\nATOM   1419  CG  TYR A 184      22.557 -16.401   9.264  1.00 18.59           C\nATOM   1420  CD1 TYR A 184      21.855 -16.011  10.402  1.00 19.58           C\nATOM   1421  CD2 TYR A 184      22.051 -17.436   8.500  1.00 17.34           C\nATOM   1422  CE1 TYR A 184      20.643 -16.674  10.768  1.00 19.52           C\nATOM   1423  CE2 TYR A 184      20.863 -18.093   8.828  1.00 19.74           C\nATOM   1424  CZ  TYR A 184      20.156 -17.689   9.972  1.00 21.83           C\nATOM   1425  OH  TYR A 184      18.989 -18.366  10.311  1.00 21.51           O\nATOM   1426  N   LEU A 185      27.370 -16.428   9.522  1.00 21.86           N\nATOM   1427  CA  LEU A 185      28.764 -16.187   9.101  1.00 22.26           C\nATOM   1428  C   LEU A 185      29.407 -17.489   8.659  1.00 24.03           C\nATOM   1429  O   LEU A 185      30.464 -17.500   8.037  1.00 24.03           O\nATOM   1430  CB  LEU A 185      29.597 -15.607  10.242  1.00 23.19           C\nATOM   1431  CG  LEU A 185      29.202 -14.242  10.801  1.00 22.47           C\nATOM   1432  CD1 LEU A 185      29.972 -13.928  12.078  1.00 24.83           C\nATOM   1433  CD2 LEU A 185      29.417 -13.144   9.753  1.00 23.98           C\nATOM   1434  N   GLU A 186      28.779 -18.605   8.998  1.00 23.84           N\nATOM   1435  CA  GLU A 186      29.375 -19.906   8.679  1.00 24.98           C\nATOM   1436  C   GLU A 186      29.098 -20.443   7.268  1.00 23.62           C\nATOM   1437  O   GLU A 186      27.959 -20.513   6.776  1.00 23.62           O\nATOM   1438  CB  GLU A 186      28.893 -20.924   9.718  1.00 24.45           C\nATOM   1439  CG  GLU A 186      29.200 -20.572  11.159  1.00 29.99           C\nATOM   1440  CD  GLU A 186      28.417 -21.465  12.118  1.00 35.36           C\nATOM   1441  OE1 GLU A 186      27.623 -22.327  11.661  1.00 37.91           O\nATOM   1442  OE2 GLU A 186      28.605 -21.289  13.336  1.00 40.41           O\nATOM   1443  N   GLU A 187      30.157 -20.911   6.606  1.00 24.73           N\nATOM   1444  CA  GLU A 187      30.053 -21.429   5.264  1.00 23.89           C\nATOM   1445  C   GLU A 187      28.987 -22.493   5.056  1.00 24.37           C\nATOM   1446  O   GLU A 187      28.227 -22.447   4.110  1.00 24.09           O\nATOM   1447  CB  GLU A 187      31.430 -22.006   4.829  1.00 24.81           C\nATOM   1448  CG  GLU A 187      31.413 -22.699   3.486  1.00 26.69           C\nATOM   1449  CD  GLU A 187      32.790 -23.256   3.073  1.00 24.13           C\nATOM   1450  OE1 GLU A 187      33.662 -23.355   3.965  1.00 30.45           O\nATOM   1451  OE2 GLU A 187      32.978 -23.572   1.881  1.00 28.81           O\nATOM   1452  N   LYS A 188      28.968 -23.485   5.936  1.00 24.97           N\nATOM   1453  CA  LYS A 188      28.039 -24.587   5.769  1.00 25.73           C\nATOM   1454  C   LYS A 188      26.578 -24.114   5.898  1.00 24.13           C\nATOM   1455  O   LYS A 188      25.727 -24.483   5.089  1.00 25.46           O\nATOM   1456  CB  LYS A 188      28.363 -25.679   6.795  1.00 26.22           C\nATOM   1457  CG  LYS A 188      27.519 -26.921   6.673  1.00 30.35           C\nATOM   1458  N   ARG A 189      26.344 -23.246   6.872  1.00 24.94           N\nATOM   1459  CA  ARG A 189      25.009 -22.692   7.104  1.00 24.59           C\nATOM   1460  C   ARG A 189      24.530 -21.875   5.902  1.00 24.04           C\nATOM   1461  O   ARG A 189      23.431 -22.067   5.378  1.00 24.27           O\nATOM   1462  CB  ARG A 189      25.006 -21.834   8.356  1.00 24.34           C\nATOM   1463  CG  ARG A 189      23.608 -21.322   8.694  1.00 23.56           C\nATOM   1464  CD  ARG A 189      22.629 -22.427   9.164  1.00 25.79           C\nATOM   1465  NE  ARG A 189      21.376 -21.808   9.644  1.00 23.93           N\nATOM   1466  CZ  ARG A 189      20.168 -22.072   9.180  1.00 24.40           C\nATOM   1467  NH1 ARG A 189      19.967 -22.969   8.221  1.00 26.80           N\nATOM   1468  NH2 ARG A 189      19.132 -21.410   9.698  1.00 25.67           N\nATOM   1469  N   ILE A 190      25.385 -20.968   5.434  1.00 24.14           N\nATOM   1470  CA  ILE A 190      25.010 -20.194   4.249  1.00 23.19           C\nATOM   1471  C   ILE A 190      24.672 -21.042   3.042  1.00 23.92           C\nATOM   1472  O   ILE A 190      23.657 -20.851   2.393  1.00 22.40           O\nATOM   1473  CB  ILE A 190      26.137 -19.188   3.884  1.00 23.13           C\nATOM   1474  CG1 ILE A 190      26.387 -18.211   5.016  1.00 23.83           C\nATOM   1475  CG2 ILE A 190      25.834 -18.506   2.535  1.00 22.53           C\nATOM   1476  CD1 ILE A 190      27.700 -17.469   4.845  1.00 24.47           C\nATOM   1477  N   LYS A 191      25.509 -22.046   2.723  1.00 24.16           N\nATOM   1478  CA  LYS A 191      25.239 -22.839   1.552  1.00 25.09           C\nATOM   1479  C   LYS A 191      23.919 -23.593   1.723  1.00 24.29           C\nATOM   1480  O   LYS A 191      23.192 -23.820   0.752  1.00 24.93           O\nATOM   1481  CB  LYS A 191      26.330 -23.920   1.353  1.00 24.97           C\nATOM   1482  CG  LYS A 191      27.699 -23.336   1.042  1.00 28.60           C\nATOM   1483  CD  LYS A 191      28.682 -24.431   0.591  1.00 35.41           C\nATOM   1484  CE  LYS A 191      29.954 -23.737   0.171  1.00 39.40           C\nATOM   1485  NZ  LYS A 191      31.007 -24.749  -0.092  1.00 45.73           N\nATOM   1486  N   GLU A 192      23.634 -24.021   2.954  1.00 25.29           N\nATOM   1487  CA  GLU A 192      22.424 -24.776   3.232  1.00 26.36           C\nATOM   1488  C   GLU A 192      21.184 -23.917   3.007  1.00 25.26           C\nATOM   1489  O   GLU A 192      20.188 -24.365   2.427  1.00 25.34           O\nATOM   1490  CB  GLU A 192      22.462 -25.289   4.670  1.00 26.92           C\nATOM   1491  CG  GLU A 192      21.098 -25.705   5.169  1.00 34.28           C\nATOM   1492  CD  GLU A 192      21.158 -26.290   6.550  1.00 42.57           C\nATOM   1493  OE1 GLU A 192      22.291 -26.373   7.108  1.00 47.52           O\nATOM   1494  OE2 GLU A 192      20.074 -26.686   7.048  1.00 47.47           O\nATOM   1495  N   VAL A 193      21.271 -22.659   3.435  1.00 24.16           N\nATOM   1496  CA  VAL A 193      20.135 -21.741   3.257  1.00 23.42           C\nATOM   1497  C   VAL A 193      19.855 -21.405   1.791  1.00 23.67           C\nATOM   1498  O   VAL A 193      18.701 -21.387   1.361  1.00 23.95           O\nATOM   1499  CB  VAL A 193      20.322 -20.475   4.141  1.00 23.01           C\nATOM   1500  CG1 VAL A 193      19.213 -19.446   3.923  1.00 22.68           C\nATOM   1501  CG2 VAL A 193      20.388 -20.877   5.612  1.00 22.76           C\nATOM   1502  N   ILE A 194      20.917 -21.169   1.028  1.00 24.02           N\nATOM   1503  CA  ILE A 194      20.809 -20.862  -0.398  1.00 26.36           C\nATOM   1504  C   ILE A 194      20.224 -22.003  -1.163  1.00 26.80           C\nATOM   1505  O   ILE A 194      19.315 -21.841  -1.947  1.00 27.19           O\nATOM   1506  CB  ILE A 194      22.230 -20.559  -0.979  1.00 26.21           C\nATOM   1507  CG1 ILE A 194      22.781 -19.267  -0.392  1.00 28.15           C\nATOM   1508  CG2 ILE A 194      22.195 -20.516  -2.495  1.00 26.98           C\nATOM   1509  CD1 ILE A 194      24.237 -19.040  -0.752  1.00 28.63           C\nATOM   1510  N   LYS A 195      20.740 -23.205  -0.905  1.00 28.45           N\nATOM   1511  CA  LYS A 195      20.309 -24.360  -1.661  1.00 29.81           C\nATOM   1512  C   LYS A 195      18.847 -24.618  -1.424  1.00 29.82           C\nATOM   1513  O   LYS A 195      18.135 -25.065  -2.305  1.00 31.00           O\nATOM   1514  CB  LYS A 195      21.129 -25.609  -1.286  1.00 29.69           C\nATOM   1515  CG  LYS A 195      22.578 -25.578  -1.770  1.00 32.97           C\nATOM   1516  CD  LYS A 195      23.380 -26.742  -1.178  1.00 37.32           C\nATOM   1517  N   ARG A 196      18.385 -24.267  -0.232  1.00 30.12           N\nATOM   1518  CA  ARG A 196      17.006 -24.529   0.141  1.00 30.52           C\nATOM   1519  C   ARG A 196      15.973 -23.621  -0.514  1.00 31.15           C\nATOM   1520  O   ARG A 196      14.962 -24.078  -1.040  1.00 31.18           O\nATOM   1521  CB  ARG A 196      16.852 -24.444   1.662  1.00 30.84           C\nATOM   1522  N   HIS A 197      16.213 -22.320  -0.472  1.00 31.30           N\nATOM   1523  CA  HIS A 197      15.170 -21.381  -0.865  1.00 32.02           C\nATOM   1524  C   HIS A 197      15.467 -20.595  -2.109  1.00 31.68           C\nATOM   1525  O   HIS A 197      14.626 -19.822  -2.533  1.00 33.03           O\nATOM   1526  CB  HIS A 197      14.874 -20.378   0.267  1.00 32.30           C\nATOM   1527  CG  HIS A 197      14.333 -20.999   1.516  1.00 34.55           C\nATOM   1528  ND1 HIS A 197      13.022 -21.410   1.637  1.00 35.22           N\nATOM   1529  CD2 HIS A 197      14.925 -21.278   2.702  1.00 36.14           C\nATOM   1530  CE1 HIS A 197      12.831 -21.923   2.840  1.00 36.60           C\nATOM   1531  NE2 HIS A 197      13.970 -21.860   3.505  1.00 36.96           N\nATOM   1532  N   SER A 198      16.639 -20.770  -2.711  1.00 31.20           N\nATOM   1533  CA  SER A 198      16.951 -20.003  -3.917  1.00 30.12           C\nATOM   1534  C   SER A 198      17.495 -20.879  -5.031  1.00 31.02           C\nATOM   1535  O   SER A 198      18.578 -20.606  -5.497  1.00 31.93           O\nATOM   1536  CB  SER A 198      18.002 -18.890  -3.621  1.00 29.93           C\nATOM   1537  OG  SER A 198      17.649 -18.037  -2.528  1.00 26.42           O\nATOM   1538  N   GLU A 199      16.734 -21.883  -5.502  1.00 30.63           N\nATOM   1539  CA  GLU A 199      17.214 -22.832  -6.546  1.00 30.48           C\nATOM   1540  C   GLU A 199      17.195 -22.336  -8.020  1.00 29.62           C\nATOM   1541  O   GLU A 199      17.976 -22.780  -8.886  1.00 31.63           O\nATOM   1542  CB  GLU A 199      16.366 -24.121  -6.487  1.00 31.88           C\nATOM   1543  CG  GLU A 199      16.629 -25.095  -7.643  1.00 34.43           C\nATOM   1544  CD  GLU A 199      15.748 -26.356  -7.634  1.00 39.72           C\nATOM   1545  OE1 GLU A 199      14.844 -26.482  -6.777  1.00 42.24           O\nATOM   1546  OE2 GLU A 199      15.955 -27.232  -8.507  1.00 42.99           O\nATOM   1547  N   PHE A 200      16.284 -21.437  -8.317  1.00 26.88           N\nATOM   1548  CA  PHE A 200      16.134 -20.992  -9.694  1.00 23.59           C\nATOM   1549  C   PHE A 200      16.568 -19.563  -9.844  1.00 22.93           C\nATOM   1550  O   PHE A 200      15.766 -18.696 -10.127  1.00 23.77           O\nATOM   1551  CB  PHE A 200      14.660 -21.137 -10.081  1.00 23.63           C\nATOM   1552  CG  PHE A 200      14.217 -22.567 -10.135  1.00 22.76           C\nATOM   1553  CD1 PHE A 200      13.454 -23.104  -9.134  1.00 23.96           C\nATOM   1554  CD2 PHE A 200      14.618 -23.384 -11.182  1.00 24.90           C\nATOM   1555  CE1 PHE A 200      13.069 -24.460  -9.192  1.00 25.09           C\nATOM   1556  CE2 PHE A 200      14.240 -24.716 -11.235  1.00 26.56           C\nATOM   1557  CZ  PHE A 200      13.465 -25.241 -10.249  1.00 25.49           C\nATOM   1558  N   VAL A 201      17.860 -19.337  -9.700  1.00 21.72           N\nATOM   1559  CA  VAL A 201      18.432 -18.003  -9.837  1.00 22.07           C\nATOM   1560  C   VAL A 201      19.265 -18.052 -11.097  1.00 22.48           C\nATOM   1561  O   VAL A 201      20.046 -18.978 -11.283  1.00 23.25           O\nATOM   1562  CB  VAL A 201      19.287 -17.682  -8.578  1.00 22.22           C\nATOM   1563  CG1 VAL A 201      20.004 -16.346  -8.707  1.00 21.83           C\nATOM   1564  CG2 VAL A 201      18.408 -17.689  -7.341  1.00 22.06           C\nATOM   1565  N   ALA A 202      19.106 -17.074 -11.972  1.00 20.94           N\nATOM   1566  CA  ALA A 202      19.748 -17.091 -13.278  1.00 21.82           C\nATOM   1567  C   ALA A 202      21.225 -16.709 -13.245  1.00 22.43           C\nATOM   1568  O   ALA A 202      21.946 -16.934 -14.216  1.00 24.86           O\nATOM   1569  CB  ALA A 202      18.992 -16.198 -14.251  1.00 21.73           C\nATOM   1570  N   TYR A 203      21.686 -16.186 -12.110  1.00 20.88           N\nATOM   1571  CA  TYR A 203      23.050 -15.656 -11.979  1.00 19.83           C\nATOM   1572  C   TYR A 203      23.854 -16.507 -11.027  1.00 18.78           C\nATOM   1573  O   TYR A 203      23.291 -17.098 -10.134  1.00 19.67           O\nATOM   1574  CB  TYR A 203      22.945 -14.230 -11.410  1.00 19.91           C\nATOM   1575  CG  TYR A 203      22.028 -13.380 -12.257  1.00 17.36           C\nATOM   1576  CD1 TYR A 203      20.700 -13.152 -11.894  1.00 15.52           C\nATOM   1577  CD2 TYR A 203      22.465 -12.864 -13.463  1.00 17.57           C\nATOM   1578  CE1 TYR A 203      19.858 -12.405 -12.692  1.00 16.81           C\nATOM   1579  CE2 TYR A 203      21.652 -12.163 -14.274  1.00 18.19           C\nATOM   1580  CZ  TYR A 203      20.319 -11.887 -13.884  1.00 15.49           C\nATOM   1581  OH  TYR A 203      19.496 -11.146 -14.692  1.00 18.93           O\nATOM   1582  N   PRO A 204      25.181 -16.554 -11.169  1.00 18.13           N\nATOM   1583  CA  PRO A 204      26.001 -17.326 -10.245  1.00 17.89           C\nATOM   1584  C   PRO A 204      25.905 -16.718  -8.864  1.00 17.11           C\nATOM   1585  O   PRO A 204      25.905 -15.480  -8.771  1.00 18.55           O\nATOM   1586  CB  PRO A 204      27.440 -17.120 -10.766  1.00 19.77           C\nATOM   1587  CG  PRO A 204      27.373 -16.070 -11.818  1.00 20.03           C\nATOM   1588  CD  PRO A 204      25.961 -15.878 -12.211  1.00 17.78           C\nATOM   1589  N   ILE A 205      25.792 -17.566  -7.855  1.00 17.36           N\nATOM   1590  CA  ILE A 205      25.810 -17.109  -6.472  1.00 16.75           C\nATOM   1591  C   ILE A 205      27.160 -17.562  -5.917  1.00 18.22           C\nATOM   1592  O   ILE A 205      27.458 -18.775  -5.829  1.00 19.73           O\nATOM   1593  CB  ILE A 205      24.634 -17.685  -5.663  1.00 17.09           C\nATOM   1594  CG1 ILE A 205      23.309 -17.189  -6.240  1.00 18.02           C\nATOM   1595  CG2 ILE A 205      24.783 -17.265  -4.190  1.00 19.57           C\nATOM   1596  CD1 ILE A 205      22.083 -17.827  -5.600  1.00 17.84           C\nATOM   1597  N   GLN A 206      28.023 -16.594  -5.648  1.00 16.15           N\nATOM   1598  CA  GLN A 206      29.388 -16.853  -5.190  1.00 15.78           C\nATOM   1599  C   GLN A 206      29.480 -16.696  -3.696  1.00 17.50           C\nATOM   1600  O   GLN A 206      28.876 -15.790  -3.120  1.00 18.41           O\nATOM   1601  CB  GLN A 206      30.333 -15.850  -5.867  1.00 15.65           C\nATOM   1602  CG  GLN A 206      30.303 -15.987  -7.365  1.00 18.97           C\nATOM   1603  CD  GLN A 206      31.011 -14.893  -8.094  1.00 23.00           C\nATOM   1604  OE1 GLN A 206      31.338 -13.866  -7.526  1.00 22.61           O\nATOM   1605  NE2 GLN A 206      31.241 -15.102  -9.390  1.00 27.66           N\nATOM   1606  N   LEU A 207      30.228 -17.581  -3.041  1.00 16.00           N\nATOM   1607  CA  LEU A 207      30.426 -17.500  -1.612  1.00 15.46           C\nATOM   1608  C   LEU A 207      31.925 -17.327  -1.397  1.00 16.12           C\nATOM   1609  O   LEU A 207      32.731 -18.086  -1.938  1.00 16.52           O\nATOM   1610  CB  LEU A 207      29.940 -18.752  -0.873  1.00 16.44           C\nATOM   1611  CG  LEU A 207      30.187 -18.793   0.630  1.00 18.88           C\nATOM   1612  CD1 LEU A 207      29.480 -17.631   1.321  1.00 17.94           C\nATOM   1613  CD2 LEU A 207      29.738 -20.133   1.215  1.00 23.10           C\nATOM   1614  N   VAL A 208      32.280 -16.280  -0.662  1.00 14.72           N\nATOM   1615  CA  VAL A 208      33.667 -15.925  -0.407  1.00 16.89           C\nATOM   1616  C   VAL A 208      34.009 -16.453   0.958  1.00 18.46           C\nATOM   1617  O   VAL A 208      33.405 -16.106   1.967  1.00 20.57           O\nATOM   1618  CB  VAL A 208      33.865 -14.417  -0.420  1.00 16.76           C\nATOM   1619  CG1 VAL A 208      35.337 -14.062  -0.102  1.00 18.10           C\nATOM   1620  CG2 VAL A 208      33.439 -13.856  -1.742  1.00 16.87           C\nATOM   1621  N   VAL A 209      34.938 -17.398   0.953  1.00 18.67           N\nATOM   1622  CA  VAL A 209      35.324 -18.140   2.143  1.00 20.96           C\nATOM   1623  C   VAL A 209      36.781 -17.880   2.423  1.00 20.78           C\nATOM   1624  O   VAL A 209      37.614 -17.883   1.515  1.00 19.48           O\nATOM   1625  CB  VAL A 209      35.129 -19.662   1.934  1.00 22.02           C\nATOM   1626  CG1 VAL A 209      35.595 -20.457   3.151  1.00 24.99           C\nATOM   1627  CG2 VAL A 209      33.678 -20.002   1.614  1.00 25.29           C\nATOM   1628  N   THR A 210      37.087 -17.630   3.685  1.00 22.10           N\nATOM   1629  CA  THR A 210      38.453 -17.347   4.073  1.00 24.71           C\nATOM   1630  C   THR A 210      38.948 -18.522   4.879  1.00 26.51           C\nATOM   1631  O   THR A 210      38.313 -18.890   5.881  1.00 28.31           O\nATOM   1632  CB  THR A 210      38.465 -16.058   4.913  1.00 24.35           C\nATOM   1633  OG1 THR A 210      38.021 -14.953   4.116  1.00 27.27           O\nATOM   1634  CG2 THR A 210      39.896 -15.664   5.290  1.00 26.08           C\nATOM   1635  N   LYS A 211      40.055 -19.127   4.459  1.00 27.01           N\nATOM   1636  CA  LYS A 211      40.613 -20.247   5.212  1.00 28.91           C\nATOM   1637  C   LYS A 211      42.111 -20.182   5.416  1.00 28.24           C\nATOM   1638  O   LYS A 211      42.858 -19.699   4.576  1.00 25.93           O\nATOM   1639  CB  LYS A 211      40.305 -21.563   4.536  1.00 29.59           C\nATOM   1640  CG  LYS A 211      41.080 -21.771   3.281  1.00 34.09           C\nATOM   1641  CD  LYS A 211      40.475 -22.924   2.489  1.00 40.10           C\nATOM   1642  CE  LYS A 211      41.184 -23.109   1.171  1.00 41.95           C\nATOM   1643  NZ  LYS A 211      41.722 -21.833   0.641  1.00 42.46           N\nATOM   1644  N   GLU A 212      42.537 -20.773   6.526  1.00 28.21           N\nATOM   1645  CA  GLU A 212      43.942 -20.751   6.879  1.00 28.49           C\nATOM   1646  C   GLU A 212      44.720 -21.797   6.103  1.00 28.75           C\nATOM   1647  O   GLU A 212      44.278 -22.945   5.925  1.00 28.90           O\nATOM   1648  CB  GLU A 212      44.126 -20.916   8.389  1.00 28.83           C\nATOM   1649  CG  GLU A 212      45.576 -20.737   8.777  1.00 32.00           C\nATOM   1650  CD  GLU A 212      45.821 -20.798  10.269  1.00 36.29           C\nATOM   1651  OE1 GLU A 212      44.870 -20.592  11.065  1.00 37.08           O\nATOM   1652  OE2 GLU A 212      46.994 -21.050  10.619  1.00 38.37           O\nATOM   1653  N   VAL A 213      45.864 -21.398   5.575  1.00 28.37           N\nATOM   1654  CA  VAL A 213      46.685 -22.329   4.853  1.00 30.34           C\nATOM   1655  C   VAL A 213      47.507 -23.074   5.893  1.00 32.13           C\nATOM   1656  O   VAL A 213      48.186 -22.459   6.715  1.00 32.70           O\nATOM   1657  CB  VAL A 213      47.612 -21.610   3.876  1.00 29.56           C\nATOM   1658  CG1 VAL A 213      48.610 -22.595   3.292  1.00 31.34           C\nATOM   1659  CG2 VAL A 213      46.773 -20.946   2.765  1.00 27.94           C\nATOM   1660  N   GLU A 214      47.425 -24.396   5.888  1.00 34.34           N\nATOM   1661  CA  GLU A 214      48.167 -25.166   6.890  1.00 36.09           C\nATOM   1662  C   GLU A 214      49.322 -25.926   6.250  1.00 37.21           C\nATOM   1663  O   GLU A 214      50.269 -25.321   5.741  1.00 39.17           O\nATOM   1664  CB  GLU A 214      47.235 -26.118   7.659  1.00 36.52           C\nTER    1665      GLU A 214                                                       \nEND   \n",
                    "binary": false
                  }
                ],
                "kwargs": {
                  "defaultRepresentation": true,
                  "ext": "pdb"
                }
              },
              {
                "target": "Widget",
                "type": "call_method",
                "methodName": "setSize",
                "reconstruc_color_scheme": false,
                "args": [
                  "400px",
                  "400px"
                ],
                "kwargs": {}
              }
            ],
            "_ngl_original_stage_parameters": {
              "impostor": true,
              "quality": "medium",
              "workerDefault": true,
              "sampleLevel": 0,
              "backgroundColor": "white",
              "rotateSpeed": 2,
              "zoomSpeed": 1.2,
              "panSpeed": 1,
              "clipNear": 0,
              "clipFar": 100,
              "clipDist": 10,
              "fogNear": 50,
              "fogFar": 100,
              "cameraFov": 40,
              "cameraEyeSep": 0.3,
              "cameraType": "perspective",
              "lightColor": 14540253,
              "lightIntensity": 1,
              "ambientColor": 14540253,
              "ambientIntensity": 0.2,
              "hoverTimeout": 0,
              "tooltip": true,
              "mousePreset": "default"
            },
            "_ngl_repr_dict": {
              "0": {
                "0": {
                  "type": "cartoon",
                  "params": {
                    "lazy": false,
                    "visible": true,
                    "quality": "high",
                    "aspectRatio": 5,
                    "subdiv": 6,
                    "radialSegments": 20,
                    "tension": null,
                    "capped": true,
                    "smoothSheet": false,
                    "radiusType": "sstruc",
                    "radiusData": {},
                    "radiusSize": 1,
                    "radiusScale": 0.7,
                    "assembly": "default",
                    "defaultAssembly": "",
                    "clipNear": 0,
                    "clipRadius": 0,
                    "clipCenter": {
                      "x": 0,
                      "y": 0,
                      "z": 0
                    },
                    "flatShaded": false,
                    "opacity": 1,
                    "depthWrite": true,
                    "side": "double",
                    "wireframe": false,
                    "colorScheme": "residueindex",
                    "colorScale": "spectral",
                    "colorReverse": true,
                    "colorValue": 9474192,
                    "colorMode": "hcl",
                    "roughness": 0.4,
                    "metalness": 0,
                    "diffuse": 16777215,
                    "diffuseInterior": false,
                    "useInteriorColor": true,
                    "interiorColor": 2236962,
                    "interiorDarkening": 0,
                    "matrix": {
                      "elements": [
                        1,
                        0,
                        0,
                        0,
                        0,
                        1,
                        0,
                        0,
                        0,
                        0,
                        1,
                        0,
                        0,
                        0,
                        0,
                        1
                      ]
                    },
                    "disablePicking": false,
                    "sele": ""
                  }
                },
                "1": {
                  "type": "base",
                  "params": {
                    "lazy": false,
                    "visible": true,
                    "quality": "high",
                    "sphereDetail": 2,
                    "radialSegments": 20,
                    "openEnded": true,
                    "disableImpostor": false,
                    "aspectRatio": 1,
                    "lineOnly": false,
                    "cylinderOnly": false,
                    "bondScale": 0.4,
                    "linewidth": 2,
                    "radiusType": "size",
                    "radiusData": {},
                    "radiusSize": 0.3,
                    "radiusScale": 1,
                    "assembly": "default",
                    "defaultAssembly": "",
                    "clipNear": 0,
                    "clipRadius": 0,
                    "clipCenter": {
                      "x": 0,
                      "y": 0,
                      "z": 0
                    },
                    "flatShaded": false,
                    "opacity": 1,
                    "depthWrite": true,
                    "side": "double",
                    "wireframe": false,
                    "colorScheme": "residueindex",
                    "colorScale": "spectral",
                    "colorReverse": true,
                    "colorValue": 9474192,
                    "colorMode": "hcl",
                    "roughness": 0.4,
                    "metalness": 0,
                    "diffuse": 16777215,
                    "diffuseInterior": false,
                    "useInteriorColor": true,
                    "interiorColor": 2236962,
                    "interiorDarkening": 0,
                    "matrix": {
                      "elements": [
                        1,
                        0,
                        0,
                        0,
                        0,
                        1,
                        0,
                        0,
                        0,
                        0,
                        1,
                        0,
                        0,
                        0,
                        0,
                        1
                      ]
                    },
                    "disablePicking": false,
                    "sele": ""
                  }
                },
                "2": {
                  "type": "ball+stick",
                  "params": {
                    "lazy": false,
                    "visible": true,
                    "quality": "high",
                    "sphereDetail": 2,
                    "radialSegments": 20,
                    "openEnded": true,
                    "disableImpostor": false,
                    "aspectRatio": 1.5,
                    "lineOnly": false,
                    "cylinderOnly": false,
                    "multipleBond": "off",
                    "bondScale": 0.3,
                    "bondSpacing": 0.75,
                    "linewidth": 2,
                    "radiusType": "size",
                    "radiusData": {},
                    "radiusSize": 0.15,
                    "radiusScale": 2,
                    "assembly": "default",
                    "defaultAssembly": "",
                    "clipNear": 0,
                    "clipRadius": 0,
                    "clipCenter": {
                      "x": 0,
                      "y": 0,
                      "z": 0
                    },
                    "flatShaded": false,
                    "opacity": 1,
                    "depthWrite": true,
                    "side": "double",
                    "wireframe": false,
                    "colorScheme": "element",
                    "colorScale": "",
                    "colorReverse": false,
                    "colorValue": 9474192,
                    "colorMode": "hcl",
                    "roughness": 0.4,
                    "metalness": 0,
                    "diffuse": 16777215,
                    "diffuseInterior": false,
                    "useInteriorColor": true,
                    "interiorColor": 2236962,
                    "interiorDarkening": 0,
                    "matrix": {
                      "elements": [
                        1,
                        0,
                        0,
                        0,
                        0,
                        1,
                        0,
                        0,
                        0,
                        0,
                        1,
                        0,
                        0,
                        0,
                        0,
                        1
                      ]
                    },
                    "disablePicking": false,
                    "sele": "ligand"
                  }
                }
              },
              "1": {
                "0": {
                  "type": "cartoon",
                  "params": {
                    "lazy": false,
                    "visible": true,
                    "quality": "high",
                    "aspectRatio": 5,
                    "subdiv": 6,
                    "radialSegments": 20,
                    "tension": null,
                    "capped": true,
                    "smoothSheet": false,
                    "radiusType": "sstruc",
                    "radiusData": {},
                    "radiusSize": 1,
                    "radiusScale": 0.7,
                    "assembly": "default",
                    "defaultAssembly": "",
                    "clipNear": 0,
                    "clipRadius": 0,
                    "clipCenter": {
                      "x": 0,
                      "y": 0,
                      "z": 0
                    },
                    "flatShaded": false,
                    "opacity": 1,
                    "depthWrite": true,
                    "side": "double",
                    "wireframe": false,
                    "colorScheme": "residueindex",
                    "colorScale": "spectral",
                    "colorReverse": true,
                    "colorValue": 9474192,
                    "colorMode": "hcl",
                    "roughness": 0.4,
                    "metalness": 0,
                    "diffuse": 16777215,
                    "diffuseInterior": false,
                    "useInteriorColor": true,
                    "interiorColor": 2236962,
                    "interiorDarkening": 0,
                    "matrix": {
                      "elements": [
                        1,
                        0,
                        0,
                        0,
                        0,
                        1,
                        0,
                        0,
                        0,
                        0,
                        1,
                        0,
                        0,
                        0,
                        0,
                        1
                      ]
                    },
                    "disablePicking": false,
                    "sele": ""
                  }
                },
                "1": {
                  "type": "base",
                  "params": {
                    "lazy": false,
                    "visible": true,
                    "quality": "high",
                    "sphereDetail": 2,
                    "radialSegments": 20,
                    "openEnded": true,
                    "disableImpostor": false,
                    "aspectRatio": 1,
                    "lineOnly": false,
                    "cylinderOnly": false,
                    "bondScale": 0.4,
                    "linewidth": 2,
                    "radiusType": "size",
                    "radiusData": {},
                    "radiusSize": 0.3,
                    "radiusScale": 1,
                    "assembly": "default",
                    "defaultAssembly": "",
                    "clipNear": 0,
                    "clipRadius": 0,
                    "clipCenter": {
                      "x": 0,
                      "y": 0,
                      "z": 0
                    },
                    "flatShaded": false,
                    "opacity": 1,
                    "depthWrite": true,
                    "side": "double",
                    "wireframe": false,
                    "colorScheme": "residueindex",
                    "colorScale": "spectral",
                    "colorReverse": true,
                    "colorValue": 9474192,
                    "colorMode": "hcl",
                    "roughness": 0.4,
                    "metalness": 0,
                    "diffuse": 16777215,
                    "diffuseInterior": false,
                    "useInteriorColor": true,
                    "interiorColor": 2236962,
                    "interiorDarkening": 0,
                    "matrix": {
                      "elements": [
                        1,
                        0,
                        0,
                        0,
                        0,
                        1,
                        0,
                        0,
                        0,
                        0,
                        1,
                        0,
                        0,
                        0,
                        0,
                        1
                      ]
                    },
                    "disablePicking": false,
                    "sele": ""
                  }
                },
                "2": {
                  "type": "ball+stick",
                  "params": {
                    "lazy": false,
                    "visible": true,
                    "quality": "high",
                    "sphereDetail": 2,
                    "radialSegments": 20,
                    "openEnded": true,
                    "disableImpostor": false,
                    "aspectRatio": 1.5,
                    "lineOnly": false,
                    "cylinderOnly": false,
                    "multipleBond": "off",
                    "bondScale": 0.3,
                    "bondSpacing": 0.75,
                    "linewidth": 2,
                    "radiusType": "size",
                    "radiusData": {},
                    "radiusSize": 0.15,
                    "radiusScale": 2,
                    "assembly": "default",
                    "defaultAssembly": "",
                    "clipNear": 0,
                    "clipRadius": 0,
                    "clipCenter": {
                      "x": 0,
                      "y": 0,
                      "z": 0
                    },
                    "flatShaded": false,
                    "opacity": 1,
                    "depthWrite": true,
                    "side": "double",
                    "wireframe": false,
                    "colorScheme": "element",
                    "colorScale": "",
                    "colorReverse": false,
                    "colorValue": 9474192,
                    "colorMode": "hcl",
                    "roughness": 0.4,
                    "metalness": 0,
                    "diffuse": 16777215,
                    "diffuseInterior": false,
                    "useInteriorColor": true,
                    "interiorColor": 2236962,
                    "interiorDarkening": 0,
                    "matrix": {
                      "elements": [
                        1,
                        0,
                        0,
                        0,
                        0,
                        1,
                        0,
                        0,
                        0,
                        0,
                        1,
                        0,
                        0,
                        0,
                        0,
                        1
                      ]
                    },
                    "disablePicking": false,
                    "sele": "ligand"
                  }
                }
              }
            },
            "_ngl_serialize": false,
            "_ngl_version": "2.0.0-dev.36",
            "_ngl_view_id": [
              "3F8CAD63-8383-4F87-8534-9BCD46F5FD8A"
            ],
            "_player_dict": {},
            "_scene_position": {},
            "_scene_rotation": {},
            "_synced_model_ids": [],
            "_synced_repr_model_ids": [],
            "_view_count": null,
            "_view_height": "",
            "_view_module": "nglview-js-widgets",
            "_view_module_version": "3.0.1",
            "_view_name": "NGLView",
            "_view_width": "",
            "background": "white",
            "frame": 0,
            "gui_style": null,
            "layout": "IPY_MODEL_e26019866cb64fa4ac5ed0f0365cf68a",
            "max_frame": 0,
            "n_components": 2,
            "picked": {}
          }
        },
        "e26019866cb64fa4ac5ed0f0365cf68a": {
          "model_module": "@jupyter-widgets/base",
          "model_name": "LayoutModel",
          "model_module_version": "1.0.0",
          "state": {
            "_model_module": "@jupyter-widgets/base",
            "_model_module_version": "1.0.0",
            "_model_name": "LayoutModel",
            "_view_count": null,
            "_view_module": "@jupyter-widgets/base",
            "_view_module_version": "1.0.0",
            "_view_name": "LayoutView",
            "align_content": null,
            "align_items": null,
            "align_self": null,
            "border": null,
            "bottom": null,
            "display": null,
            "flex": null,
            "flex_flow": null,
            "height": null,
            "justify_content": null,
            "left": null,
            "margin": null,
            "max_height": null,
            "max_width": null,
            "min_height": null,
            "min_width": null,
            "order": null,
            "overflow": null,
            "overflow_x": null,
            "overflow_y": null,
            "padding": null,
            "right": null,
            "top": null,
            "visibility": null,
            "width": null
          }
        },
        "67a2f1e815b842e6935234b3db87818c": {
          "model_module": "@jupyter-widgets/controls",
          "model_name": "ButtonModel",
          "model_module_version": "1.0.0",
          "state": {
            "_dom_classes": [],
            "_model_module": "@jupyter-widgets/controls",
            "_model_module_version": "1.0.0",
            "_model_name": "ButtonModel",
            "_view_count": null,
            "_view_module": "@jupyter-widgets/controls",
            "_view_module_version": "1.0.0",
            "_view_name": "ButtonView",
            "button_style": "",
            "description": "",
            "disabled": false,
            "icon": "compress",
            "layout": "IPY_MODEL_bf59374feb2542b481632a42ccb50966",
            "style": "IPY_MODEL_9d2c14836550495491676dc663eb2357",
            "tooltip": ""
          }
        },
        "24b22b658a5b4dd58eda771256a5daa5": {
          "model_module": "@jupyter-widgets/controls",
          "model_name": "HBoxModel",
          "model_module_version": "1.0.0",
          "state": {
            "_dom_classes": [],
            "_model_module": "@jupyter-widgets/controls",
            "_model_module_version": "1.0.0",
            "_model_name": "HBoxModel",
            "_view_count": null,
            "_view_module": "@jupyter-widgets/controls",
            "_view_module_version": "1.0.0",
            "_view_name": "HBoxView",
            "box_style": "",
            "children": [
              "IPY_MODEL_9c603cf5faa845529d601858b480cb76",
              "IPY_MODEL_ed0d830de32740739b17d7a5a2e800d4"
            ],
            "layout": "IPY_MODEL_cb43770eaf61461eb6490e63093622d5"
          }
        },
        "b3b7f6acc10a42f1aa0b2ceb8fcbeac9": {
          "model_module": "@jupyter-widgets/base",
          "model_name": "LayoutModel",
          "model_module_version": "1.0.0",
          "state": {
            "_model_module": "@jupyter-widgets/base",
            "_model_module_version": "1.0.0",
            "_model_name": "LayoutModel",
            "_view_count": null,
            "_view_module": "@jupyter-widgets/base",
            "_view_module_version": "1.0.0",
            "_view_name": "LayoutView",
            "align_content": null,
            "align_items": null,
            "align_self": null,
            "border": null,
            "bottom": null,
            "display": null,
            "flex": null,
            "flex_flow": null,
            "height": null,
            "justify_content": null,
            "left": null,
            "margin": null,
            "max_height": null,
            "max_width": null,
            "min_height": null,
            "min_width": null,
            "order": null,
            "overflow": null,
            "overflow_x": null,
            "overflow_y": null,
            "padding": null,
            "right": null,
            "top": null,
            "visibility": null,
            "width": null
          }
        },
        "3831b66ad7ea4b8fb4697cfb9726bb58": {
          "model_module": "@jupyter-widgets/controls",
          "model_name": "DescriptionStyleModel",
          "model_module_version": "1.0.0",
          "state": {
            "_model_module": "@jupyter-widgets/controls",
            "_model_module_version": "1.0.0",
            "_model_name": "DescriptionStyleModel",
            "_view_count": null,
            "_view_module": "@jupyter-widgets/base",
            "_view_module_version": "1.0.0",
            "_view_name": "StyleView",
            "description_width": ""
          }
        },
        "bde8be2ff79f4c4a83a8a68afb437440": {
          "model_module": "@jupyter-widgets/base",
          "model_name": "LayoutModel",
          "model_module_version": "1.0.0",
          "state": {
            "_model_module": "@jupyter-widgets/base",
            "_model_module_version": "1.0.0",
            "_model_name": "LayoutModel",
            "_view_count": null,
            "_view_module": "@jupyter-widgets/base",
            "_view_module_version": "1.0.0",
            "_view_name": "LayoutView",
            "align_content": null,
            "align_items": null,
            "align_self": null,
            "border": null,
            "bottom": null,
            "display": null,
            "flex": null,
            "flex_flow": null,
            "height": null,
            "justify_content": null,
            "left": null,
            "margin": null,
            "max_height": null,
            "max_width": null,
            "min_height": null,
            "min_width": null,
            "order": null,
            "overflow": null,
            "overflow_x": null,
            "overflow_y": null,
            "padding": null,
            "right": null,
            "top": null,
            "visibility": null,
            "width": null
          }
        },
        "0a84b46cd7af41f49c454541245d38aa": {
          "model_module": "@jupyter-widgets/controls",
          "model_name": "SliderStyleModel",
          "model_module_version": "1.0.0",
          "state": {
            "_model_module": "@jupyter-widgets/controls",
            "_model_module_version": "1.0.0",
            "_model_name": "SliderStyleModel",
            "_view_count": null,
            "_view_module": "@jupyter-widgets/base",
            "_view_module_version": "1.0.0",
            "_view_name": "StyleView",
            "description_width": "",
            "handle_color": null
          }
        },
        "9c603cf5faa845529d601858b480cb76": {
          "model_module": "@jupyter-widgets/controls",
          "model_name": "PlayModel",
          "model_module_version": "1.0.0",
          "state": {
            "_dom_classes": [],
            "_model_module": "@jupyter-widgets/controls",
            "_model_module_version": "1.0.0",
            "_model_name": "PlayModel",
            "_playing": false,
            "_repeat": false,
            "_view_count": null,
            "_view_module": "@jupyter-widgets/controls",
            "_view_module_version": "1.0.0",
            "_view_name": "PlayView",
            "description": "",
            "disabled": false,
            "interval": 100,
            "layout": "IPY_MODEL_b3b7f6acc10a42f1aa0b2ceb8fcbeac9",
            "max": 0,
            "min": 0,
            "show_repeat": true,
            "step": 1,
            "style": "IPY_MODEL_3831b66ad7ea4b8fb4697cfb9726bb58",
            "value": 0
          }
        },
        "ed0d830de32740739b17d7a5a2e800d4": {
          "model_module": "@jupyter-widgets/controls",
          "model_name": "IntSliderModel",
          "model_module_version": "1.0.0",
          "state": {
            "_dom_classes": [],
            "_model_module": "@jupyter-widgets/controls",
            "_model_module_version": "1.0.0",
            "_model_name": "IntSliderModel",
            "_view_count": null,
            "_view_module": "@jupyter-widgets/controls",
            "_view_module_version": "1.0.0",
            "_view_name": "IntSliderView",
            "continuous_update": true,
            "description": "",
            "disabled": false,
            "layout": "IPY_MODEL_bde8be2ff79f4c4a83a8a68afb437440",
            "max": 0,
            "min": 0,
            "orientation": "horizontal",
            "readout": true,
            "readout_format": "d",
            "step": 1,
            "style": "IPY_MODEL_0a84b46cd7af41f49c454541245d38aa",
            "value": 0
          }
        },
        "bf59374feb2542b481632a42ccb50966": {
          "model_module": "@jupyter-widgets/base",
          "model_name": "LayoutModel",
          "model_module_version": "1.0.0",
          "state": {
            "_model_module": "@jupyter-widgets/base",
            "_model_module_version": "1.0.0",
            "_model_name": "LayoutModel",
            "_view_count": null,
            "_view_module": "@jupyter-widgets/base",
            "_view_module_version": "1.0.0",
            "_view_name": "LayoutView",
            "align_content": null,
            "align_items": null,
            "align_self": null,
            "border": null,
            "bottom": null,
            "display": null,
            "flex": null,
            "flex_flow": null,
            "height": null,
            "justify_content": null,
            "left": null,
            "margin": null,
            "max_height": null,
            "max_width": null,
            "min_height": null,
            "min_width": null,
            "order": null,
            "overflow": null,
            "overflow_x": null,
            "overflow_y": null,
            "padding": null,
            "right": null,
            "top": null,
            "visibility": null,
            "width": "34px"
          }
        },
        "9d2c14836550495491676dc663eb2357": {
          "model_module": "@jupyter-widgets/controls",
          "model_name": "ButtonStyleModel",
          "model_module_version": "1.0.0",
          "state": {
            "_model_module": "@jupyter-widgets/controls",
            "_model_module_version": "1.0.0",
            "_model_name": "ButtonStyleModel",
            "_view_count": null,
            "_view_module": "@jupyter-widgets/base",
            "_view_module_version": "1.0.0",
            "_view_name": "StyleView",
            "button_color": null,
            "font_weight": ""
          }
        },
        "cb43770eaf61461eb6490e63093622d5": {
          "model_module": "@jupyter-widgets/base",
          "model_name": "LayoutModel",
          "model_module_version": "1.0.0",
          "state": {
            "_model_module": "@jupyter-widgets/base",
            "_model_module_version": "1.0.0",
            "_model_name": "LayoutModel",
            "_view_count": null,
            "_view_module": "@jupyter-widgets/base",
            "_view_module_version": "1.0.0",
            "_view_name": "LayoutView",
            "align_content": null,
            "align_items": null,
            "align_self": null,
            "border": null,
            "bottom": null,
            "display": null,
            "flex": null,
            "flex_flow": null,
            "height": null,
            "justify_content": null,
            "left": null,
            "margin": null,
            "max_height": null,
            "max_width": null,
            "min_height": null,
            "min_width": null,
            "order": null,
            "overflow": null,
            "overflow_x": null,
            "overflow_y": null,
            "padding": null,
            "right": null,
            "top": null,
            "visibility": null,
            "width": null
          }
        },
        "a6d0a0e015254830bfa33cdcdf435e54": {
          "model_module": "@jupyter-widgets/controls",
          "model_name": "DropdownModel",
          "model_module_version": "1.0.0",
          "state": {
            "_dom_classes": [],
            "_model_module": "@jupyter-widgets/controls",
            "_model_module_version": "1.0.0",
            "_model_name": "DropdownModel",
            "_options_labels": [
              "binding_site0"
            ],
            "_view_count": null,
            "_view_module": "@jupyter-widgets/controls",
            "_view_module_version": "1.0.0",
            "_view_name": "DropdownView",
            "description": "Binding Site:",
            "disabled": false,
            "index": 0,
            "layout": "IPY_MODEL_6072040842814192b6aafb67c396a32c",
            "style": "IPY_MODEL_0a916acd60fe4089886e8dc7a18e4498"
          }
        },
        "6072040842814192b6aafb67c396a32c": {
          "model_module": "@jupyter-widgets/base",
          "model_name": "LayoutModel",
          "model_module_version": "1.0.0",
          "state": {
            "_model_module": "@jupyter-widgets/base",
            "_model_module_version": "1.0.0",
            "_model_name": "LayoutModel",
            "_view_count": null,
            "_view_module": "@jupyter-widgets/base",
            "_view_module_version": "1.0.0",
            "_view_name": "LayoutView",
            "align_content": null,
            "align_items": null,
            "align_self": null,
            "border": null,
            "bottom": null,
            "display": null,
            "flex": null,
            "flex_flow": null,
            "height": null,
            "justify_content": null,
            "left": null,
            "margin": null,
            "max_height": null,
            "max_width": null,
            "min_height": null,
            "min_width": null,
            "order": null,
            "overflow": null,
            "overflow_x": null,
            "overflow_y": null,
            "padding": null,
            "right": null,
            "top": null,
            "visibility": null,
            "width": null
          }
        },
        "0a916acd60fe4089886e8dc7a18e4498": {
          "model_module": "@jupyter-widgets/controls",
          "model_name": "DescriptionStyleModel",
          "model_module_version": "1.0.0",
          "state": {
            "_model_module": "@jupyter-widgets/controls",
            "_model_module_version": "1.0.0",
            "_model_name": "DescriptionStyleModel",
            "_view_count": null,
            "_view_module": "@jupyter-widgets/base",
            "_view_module_version": "1.0.0",
            "_view_name": "StyleView",
            "description_width": ""
          }
        },
        "731d5c8e17c3478087ff298ab80923af": {
          "model_module": "nglview-js-widgets",
          "model_name": "NGLModel",
          "model_module_version": "3.0.1",
          "state": {
            "_camera_orientation": [
              64.11226369891297,
              0,
              0,
              0,
              0,
              64.11226369891297,
              0,
              0,
              0,
              0,
              64.11226369891297,
              0,
              -21.57200050354004,
              4.7960004806518555,
              3.7960004806518555,
              1
            ],
            "_camera_str": "orthographic",
            "_dom_classes": [],
            "_gui_theme": null,
            "_ibtn_fullscreen": "IPY_MODEL_d9400fd7245f4335b3cdb608fcb60099",
            "_igui": null,
            "_iplayer": "IPY_MODEL_ad436c0b8eab4185a7e079a9bdf46e01",
            "_model_module": "nglview-js-widgets",
            "_model_module_version": "3.0.1",
            "_model_name": "NGLModel",
            "_ngl_color_dict": {},
            "_ngl_coordinate_resource": {},
            "_ngl_full_stage_parameters": {
              "impostor": true,
              "quality": "medium",
              "workerDefault": true,
              "sampleLevel": 0,
              "backgroundColor": "white",
              "rotateSpeed": 2,
              "zoomSpeed": 1.2,
              "panSpeed": 1,
              "clipNear": 0,
              "clipFar": 100,
              "clipDist": 10,
              "fogNear": 50,
              "fogFar": 100,
              "cameraFov": 40,
              "cameraEyeSep": 0.3,
              "cameraType": "perspective",
              "lightColor": 14540253,
              "lightIntensity": 1,
              "ambientColor": 14540253,
              "ambientIntensity": 0.2,
              "hoverTimeout": 0,
              "tooltip": true,
              "mousePreset": "default"
            },
            "_ngl_msg_archive": [
              {
                "target": "Stage",
                "type": "call_method",
                "methodName": "loadFile",
                "reconstruc_color_scheme": false,
                "args": [
                  {
                    "type": "blob",
                    "data": "ATOM      1  N   MET A   1      33.050  12.973   3.916  1.00 39.39           N  \nATOM      2  CA  MET A   1      32.080  14.100   3.862  1.00 38.29           C  \nATOM      3  C   MET A   1      30.953  13.936   4.885  1.00 37.36           C  \nATOM      4  O   MET A   1      30.838  12.911   5.590  1.00 37.93           O  \nATOM      5  CB  MET A   1      31.526  14.308   2.438  1.00 38.85           C  \nATOM      6  N   ALA A   2      30.143  14.975   4.991  1.00 35.49           N  \nATOM      7  CA  ALA A   2      29.061  14.961   5.946  1.00 33.10           C  \nATOM      8  C   ALA A   2      27.916  14.113   5.410  1.00 31.03           C  \nATOM      9  O   ALA A   2      27.625  14.096   4.218  1.00 30.48           O  \nATOM     10  CB  ALA A   2      28.585  16.359   6.229  1.00 33.84           C  \nATOM     11  N   SER A   3      27.291  13.413   6.329  1.00 28.88           N  \nATOM     12  CA  SER A   3      26.114  12.628   6.050  1.00 26.78           C  \nATOM     13  C   SER A   3      24.897  13.548   6.013  1.00 25.46           C  \nATOM     14  O   SER A   3      24.903  14.616   6.635  1.00 27.72           O  \nATOM     15  CB  SER A   3      25.930  11.628   7.186  1.00 26.97           C  \nATOM     16  OG  SER A   3      27.070  10.778   7.297  1.00 29.95           O  \nATOM     17  N   GLU A   4      23.863  13.159   5.271  1.00 22.40           N  \nATOM     18  CA  GLU A   4      22.588  13.858   5.311  1.00 21.11           C  \nATOM     19  C   GLU A   4      21.595  12.891   5.949  1.00 20.34           C  \nATOM     20  O   GLU A   4      21.680  11.672   5.722  1.00 18.50           O  \nATOM     21  CB  GLU A   4      22.116  14.172   3.908  1.00 21.46           C  \nATOM     22  CG  GLU A   4      22.892  15.306   3.261  1.00 26.09           C  \nATOM     23  CD  GLU A   4      22.630  15.384   1.769  1.00 32.97           C  \nATOM     24  OE1 GLU A   4      21.465  15.617   1.387  1.00 38.16           O  \nATOM     25  OE2 GLU A   4      23.584  15.218   0.979  1.00 38.74           O  \nATOM     26  N   THR A   5      20.671  13.426   6.740  1.00 19.30           N  \nATOM     27  CA  THR A   5      19.715  12.600   7.462  1.00 19.48           C  \nATOM     28  C   THR A   5      18.312  12.789   6.889  1.00 19.54           C  \nATOM     29  O   THR A   5      17.901  13.921   6.561  1.00 20.44           O  \nATOM     30  CB  THR A   5      19.775  12.951   8.950  1.00 19.50           C  \nATOM     31  OG1 THR A   5      21.094  12.635   9.456  1.00 22.43           O  \nATOM     32  CG2 THR A   5      18.817  12.038   9.749  1.00 20.59           C  \nATOM     33  N   PHE A   6      17.570  11.685   6.771  1.00 17.16           N  \nATOM     34  CA  PHE A   6      16.219  11.691   6.196  1.00 18.00           C  \nATOM     35  C   PHE A   6      15.277  10.891   7.072  1.00 18.44           C  \nATOM     36  O   PHE A   6      15.706   9.976   7.751  1.00 19.31           O  \nATOM     37  CB  PHE A   6      16.222  11.038   4.820  1.00 18.96           C  \nATOM     38  CG  PHE A   6      17.102  11.720   3.856  1.00 18.53           C  \nATOM     39  CD1 PHE A   6      18.460  11.409   3.840  1.00 19.17           C  \nATOM     40  CD2 PHE A   6      16.606  12.683   2.970  1.00 20.58           C  \nATOM     41  CE1 PHE A   6      19.305  12.036   2.947  1.00 20.28           C  \nATOM     42  CE2 PHE A   6      17.477  13.329   2.083  1.00 20.49           C  \nATOM     43  CZ  PHE A   6      18.835  12.997   2.105  1.00 18.85           C  \nATOM     44  N   GLU A   7      14.000  11.235   7.054  1.00 19.84           N  \nATOM     45  CA  GLU A   7      13.026  10.478   7.815  1.00 20.66           C  \nATOM     46  C   GLU A   7      12.367   9.406   6.945  1.00 18.60           C  \nATOM     47  O   GLU A   7      11.979   9.660   5.773  1.00 19.08           O  \nATOM     48  CB  GLU A   7      11.936  11.421   8.358  1.00 22.17           C  \nATOM     49  CG  GLU A   7      11.461  11.020   9.746  1.00 31.05           C  \nATOM     50  CD  GLU A   7      10.354  11.905  10.307  1.00 38.00           C  \nATOM     51  OE1 GLU A   7      10.102  13.015   9.752  1.00 42.43           O  \nATOM     52  OE2 GLU A   7       9.709  11.470  11.301  1.00 42.74           O  \nATOM     53  N   PHE A   8      12.185   8.203   7.495  1.00 17.76           N  \nATOM     54  CA  PHE A   8      11.420   7.180   6.764  1.00 16.56           C  \nATOM     55  C   PHE A   8       9.939   7.518   6.766  1.00 16.37           C  \nATOM     56  O   PHE A   8       9.451   8.139   7.723  1.00 17.80           O  \nATOM     57  CB  PHE A   8      11.434   5.827   7.525  1.00 15.52           C  \nATOM     58  CG  PHE A   8      12.691   5.033   7.334  1.00 14.96           C  \nATOM     59  CD1 PHE A   8      13.717   5.136   8.248  1.00 15.44           C  \nATOM     60  CD2 PHE A   8      12.796   4.137   6.278  1.00 14.37           C  \nATOM     61  CE1 PHE A   8      14.905   4.424   8.076  1.00 15.27           C  \nATOM     62  CE2 PHE A   8      13.944   3.411   6.109  1.00 16.20           C  \nATOM     63  CZ  PHE A   8      14.987   3.529   7.018  1.00 14.18           C  \nATOM     64  N   GLN A   9       9.228   7.080   5.743  1.00 17.29           N  \nATOM     65  CA  GLN A   9       7.761   7.073   5.824  1.00 18.07           C  \nATOM     66  C   GLN A   9       7.390   6.260   7.074  1.00 18.98           C  \nATOM     67  O   GLN A   9       7.955   5.180   7.321  1.00 17.09           O  \nATOM     68  CB  GLN A   9       7.110   6.478   4.582  1.00 19.54           C  \nATOM     69  CG  GLN A   9       7.297   7.306   3.341  1.00 25.55           C  \nATOM     70  CD  GLN A   9       6.715   8.695   3.500  1.00 36.08           C  \nATOM     71  OE1 GLN A   9       5.859   8.919   4.358  1.00 40.04           O  \nATOM     72  NE2 GLN A   9       7.172   9.632   2.670  1.00 39.83           N  \nATOM     73  N   ALA A  10       6.427   6.741   7.875  1.00 18.03           N  \nATOM     74  CA  ALA A  10       6.229   6.140   9.195  1.00 18.26           C  \nATOM     75  C   ALA A  10       5.871   4.663   9.159  1.00 16.53           C  \nATOM     76  O   ALA A  10       6.261   3.930  10.041  1.00 15.94           O  \nATOM     77  CB  ALA A  10       5.146   6.919   9.974  1.00 18.39           C  \nATOM     78  N   GLU A  11       5.145   4.237   8.138  1.00 16.79           N  \nATOM     79  CA  GLU A  11       4.766   2.820   8.081  1.00 17.31           C  \nATOM     80  C   GLU A  11       5.978   1.910   7.879  1.00 16.34           C  \nATOM     81  O   GLU A  11       5.963   0.767   8.326  1.00 15.78           O  \nATOM     82  CB  GLU A  11       3.729   2.560   6.986  1.00 17.95           C  \nATOM     83  CG  GLU A  11       2.392   3.203   7.340  1.00 22.32           C  \nATOM     84  CD  GLU A  11       2.314   4.667   6.971  1.00 29.15           C  \nATOM     85  OE1 GLU A  11       3.332   5.274   6.491  1.00 28.32           O  \nATOM     86  OE2 GLU A  11       1.201   5.223   7.169  1.00 32.62           O  \nATOM     87  N   ILE A  12       7.024   2.412   7.229  1.00 16.67           N  \nATOM     88  CA  ILE A  12       8.258   1.607   7.104  1.00 15.50           C  \nATOM     89  C   ILE A  12       8.935   1.466   8.464  1.00 14.39           C  \nATOM     90  O   ILE A  12       9.411   0.400   8.826  1.00 14.97           O  \nATOM     91  CB  ILE A  12       9.201   2.230   6.076  1.00 15.30           C  \nATOM     92  CG1 ILE A  12       8.477   2.372   4.738  1.00 16.65           C  \nATOM     93  CG2 ILE A  12      10.476   1.327   5.877  1.00 16.74           C  \nATOM     94  CD1 ILE A  12       9.313   3.089   3.666  1.00 16.80           C  \nATOM     95  N   THR A  13       8.939   2.548   9.250  1.00 13.97           N  \nATOM     96  CA  THR A  13       9.480   2.509  10.589  1.00 14.12           C  \nATOM     97  C   THR A  13       8.682   1.506  11.448  1.00 14.40           C  \nATOM     98  O   THR A  13       9.270   0.766  12.236  1.00 14.26           O  \nATOM     99  CB  THR A  13       9.360   3.911  11.197  1.00 14.71           C  \nATOM    100  OG1 THR A  13      10.101   4.812  10.346  1.00 17.51           O  \nATOM    101  CG2 THR A  13      10.061   3.970  12.538  1.00 15.96           C  \nATOM    102  N   GLN A  14       7.369   1.489  11.288  1.00 14.19           N  \nATOM    103  CA  GLN A  14       6.547   0.490  11.976  1.00 14.43           C  \nATOM    104  C   GLN A  14       6.941  -0.922  11.575  1.00 14.53           C  \nATOM    105  O   GLN A  14       7.160  -1.773  12.431  1.00 14.71           O  \nATOM    106  CB  GLN A  14       5.073   0.698  11.679  1.00 14.06           C  \nATOM    107  CG  GLN A  14       4.571   2.042  12.200  1.00 16.56           C  \nATOM    108  CD  GLN A  14       3.131   2.332  11.834  1.00 20.58           C  \nATOM    109  OE1 GLN A  14       2.411   1.446  11.349  1.00 22.79           O  \nATOM    110  NE2 GLN A  14       2.693   3.561  12.081  1.00 21.20           N  \nATOM    111  N   LEU A  15       7.094  -1.151  10.275  1.00 15.20           N  \nATOM    112  CA  LEU A  15       7.469  -2.503   9.837  1.00 15.41           C  \nATOM    113  C   LEU A  15       8.837  -2.917  10.374  1.00 15.73           C  \nATOM    114  O   LEU A  15       9.035  -4.039  10.865  1.00 14.31           O  \nATOM    115  CB  LEU A  15       7.370  -2.639   8.311  1.00 16.07           C  \nATOM    116  CG  LEU A  15       7.710  -4.099   7.905  1.00 17.62           C  \nATOM    117  CD1 LEU A  15       6.805  -5.170   8.555  1.00 19.96           C  \nATOM    118  CD2 LEU A  15       7.693  -4.207   6.394  1.00 22.75           C  \nATOM    119  N   MET A  16       9.801  -2.009  10.301  1.00 14.02           N  \nATOM    120  CA  MET A  16      11.142  -2.365  10.806  1.00 14.70           C  \nATOM    121  C   MET A  16      11.125  -2.749  12.270  1.00 14.80           C  \nATOM    122  O   MET A  16      11.873  -3.626  12.697  1.00 16.45           O  \nATOM    123  CB  MET A  16      12.140  -1.228  10.586  1.00 15.72           C  \nATOM    124  CG  MET A  16      12.434  -1.027   9.103  1.00 15.71           C  \nATOM    125  SD  MET A  16      13.743   0.161   8.798  1.00 14.62           S  \nATOM    126  CE  MET A  16      13.037   1.668   9.384  1.00 17.53           C  \nATOM    127  N   SER A  17      10.343  -2.009  13.045  1.00 15.41           N  \nATOM    128  CA  SER A  17      10.215  -2.248  14.485  1.00 16.73           C  \nATOM    129  C   SER A  17       9.645  -3.639  14.738  1.00 16.08           C  \nATOM    130  O   SER A  17      10.178  -4.379  15.584  1.00 18.39           O  \nATOM    131  CB  SER A  17       9.303  -1.172  15.113  1.00 17.08           C  \nATOM    132  OG  SER A  17       9.231  -1.370  16.546  1.00 20.25           O  \nATOM    133  N   LEU A  18       8.603  -4.007  14.009  1.00 17.24           N  \nATOM    134  CA  LEU A  18       7.993  -5.343  14.145  1.00 17.40           C  \nATOM    135  C   LEU A  18       8.999  -6.439  13.809  1.00 17.57           C  \nATOM    136  O   LEU A  18       9.127  -7.436  14.524  1.00 19.19           O  \nATOM    137  CB  LEU A  18       6.757  -5.487  13.252  1.00 18.58           C  \nATOM    138  CG  LEU A  18       5.539  -4.634  13.612  1.00 21.34           C  \nATOM    139  CD1 LEU A  18       4.408  -4.815  12.618  1.00 23.10           C  \nATOM    140  CD2 LEU A  18       5.097  -5.086  15.037  1.00 23.09           C  \nATOM    141  N   ILE A  19       9.801  -6.213  12.768  1.00 16.55           N  \nATOM    142  CA  ILE A  19      10.680  -7.277  12.291  1.00 15.73           C  \nATOM    143  C   ILE A  19      11.904  -7.436  13.176  1.00 16.36           C  \nATOM    144  O   ILE A  19      12.377  -8.523  13.422  1.00 16.63           O  \nATOM    145  CB  ILE A  19      11.133  -6.976  10.845  1.00 14.90           C  \nATOM    146  CG1 ILE A  19       9.936  -7.046   9.942  1.00 14.03           C  \nATOM    147  CG2 ILE A  19      12.211  -7.997  10.371  1.00 16.14           C  \nATOM    148  CD1 ILE A  19      10.251  -6.792   8.496  1.00 19.55           C  \nATOM    149  N   ILE A  20      12.510  -6.307  13.585  1.00 16.30           N  \nATOM    150  CA  ILE A  20      13.705  -6.384  14.410  1.00 16.06           C  \nATOM    151  C   ILE A  20      13.364  -7.000  15.756  1.00 17.71           C  \nATOM    152  O   ILE A  20      14.210  -7.635  16.362  1.00 18.45           O  \nATOM    153  CB  ILE A  20      14.446  -5.021  14.561  1.00 17.18           C  \nATOM    154  CG1 ILE A  20      15.902  -5.254  14.988  1.00 16.16           C  \nATOM    155  CG2 ILE A  20      13.671  -4.065  15.543  1.00 18.19           C  \nATOM    156  CD1 ILE A  20      16.736  -3.966  15.023  1.00 19.08           C  \nATOM    157  N   ASN A  21      12.111  -6.837  16.183  1.00 18.15           N  \nATOM    158  CA  ASN A  21      11.735  -7.389  17.489  1.00 20.14           C  \nATOM    159  C   ASN A  21      11.055  -8.749  17.473  1.00 21.10           C  \nATOM    160  O   ASN A  21      10.930  -9.372  18.538  1.00 22.19           O  \nATOM    161  CB  ASN A  21      10.848  -6.376  18.245  1.00 19.88           C  \nATOM    162  CG  ASN A  21      11.635  -5.173  18.763  1.00 19.89           C  \nATOM    163  OD1 ASN A  21      12.554  -5.326  19.584  1.00 26.86           O  \nATOM    164  ND2 ASN A  21      11.325  -3.977  18.255  1.00 21.02           N  \nATOM    165  N   THR A  22      10.597  -9.236  16.315  1.00 20.09           N  \nATOM    166  CA  THR A  22       9.792 -10.438  16.337  1.00 20.83           C  \nATOM    167  C   THR A  22      10.554 -11.666  16.755  1.00 21.40           C  \nATOM    168  O   THR A  22      11.758 -11.820  16.475  1.00 20.89           O  \nATOM    169  CB  THR A  22       9.130 -10.655  15.002  1.00 21.58           C  \nATOM    170  OG1 THR A  22       8.375 -11.870  15.047  1.00 21.08           O  \nATOM    171  CG2 THR A  22      10.194 -10.923  13.921  1.00 20.57           C  \nATOM    172  N   VAL A  23       9.836 -12.584  17.401  1.00 21.53           N  \nATOM    173  CA  VAL A  23      10.480 -13.833  17.786  1.00 22.16           C  \nATOM    174  C   VAL A  23      10.234 -14.961  16.787  1.00 22.54           C  \nATOM    175  O   VAL A  23      10.479 -16.119  17.085  1.00 22.96           O  \nATOM    176  CB  VAL A  23      10.118 -14.284  19.247  1.00 22.59           C  \nATOM    177  CG1 VAL A  23      10.649 -13.294  20.267  1.00 23.39           C  \nATOM    178  CG2 VAL A  23       8.631 -14.518  19.381  1.00 24.37           C  \nATOM    179  N   TYR A  24       9.757 -14.616  15.591  1.00 21.82           N  \nATOM    180  CA  TYR A  24       9.594 -15.556  14.468  1.00 22.38           C  \nATOM    181  C   TYR A  24      10.749 -16.555  14.358  1.00 22.68           C  \nATOM    182  O   TYR A  24      11.929 -16.165  14.391  1.00 24.00           O  \nATOM    183  CB  TYR A  24       9.524 -14.715  13.173  1.00 22.24           C  \nATOM    184  CG  TYR A  24       9.316 -15.501  11.903  1.00 22.63           C  \nATOM    185  CD1 TYR A  24       8.089 -16.162  11.643  1.00 22.57           C  \nATOM    186  CD2 TYR A  24      10.332 -15.603  10.963  1.00 20.99           C  \nATOM    187  CE1 TYR A  24       7.899 -16.860  10.471  1.00 21.70           C  \nATOM    188  CE2 TYR A  24      10.157 -16.316   9.787  1.00 23.00           C  \nATOM    189  CZ  TYR A  24       8.944 -16.941   9.548  1.00 23.48           C  \nATOM    190  OH  TYR A  24       8.760 -17.642   8.390  1.00 23.07           O  \nATOM    191  N   SER A  25      10.431 -17.835  14.208  1.00 23.15           N  \nATOM    192  CA  SER A  25      11.454 -18.855  14.244  1.00 25.14           C  \nATOM    193  C   SER A  25      12.383 -18.922  13.024  1.00 24.97           C  \nATOM    194  O   SER A  25      13.599 -19.047  13.167  1.00 27.74           O  \nATOM    195  CB  SER A  25      10.823 -20.237  14.485  1.00 25.30           C  \nATOM    196  OG  SER A  25      10.036 -20.633  13.378  1.00 31.33           O  \nATOM    197  N   ASN A  26      11.798 -18.803  11.838  1.00 23.87           N  \nATOM    198  CA  ASN A  26      12.496 -19.085  10.593  1.00 22.96           C  \nATOM    199  C   ASN A  26      13.247 -17.877  10.025  1.00 21.23           C  \nATOM    200  O   ASN A  26      12.992 -17.475   8.889  1.00 21.66           O  \nATOM    201  CB  ASN A  26      11.544 -19.663   9.550  1.00 24.64           C  \nATOM    202  CG  ASN A  26      12.270 -20.539   8.497  1.00 28.78           C  \nATOM    203  OD1 ASN A  26      13.306 -21.164   8.787  1.00 38.08           O  \nATOM    204  ND2 ASN A  26      11.720 -20.593   7.290  1.00 36.26           N  \nATOM    205  N   LYS A  27      14.176 -17.357  10.812  1.00 20.46           N  \nATOM    206  CA  LYS A  27      14.887 -16.108  10.416  1.00 19.75           C  \nATOM    207  C   LYS A  27      15.671 -16.267   9.129  1.00 19.93           C  \nATOM    208  O   LYS A  27      15.891 -15.253   8.412  1.00 17.92           O  \nATOM    209  CB  LYS A  27      15.768 -15.579  11.552  1.00 19.28           C  \nATOM    210  CG  LYS A  27      14.969 -15.026  12.730  1.00 22.26           C  \nATOM    211  CD  LYS A  27      15.824 -14.970  13.974  1.00 27.88           C  \nATOM    212  CE  LYS A  27      15.074 -14.344  15.172  1.00 32.92           C  \nATOM    213  NZ  LYS A  27      15.235 -12.881  15.161  1.00 27.85           N  \nATOM    214  N   GLU A  28      16.016 -17.502   8.765  1.00 19.23           N  \nATOM    215  CA  GLU A  28      16.848 -17.692   7.578  1.00 18.59           C  \nATOM    216  C   GLU A  28      16.212 -17.196   6.255  1.00 19.16           C  \nATOM    217  O   GLU A  28      16.907 -17.053   5.241  1.00 18.42           O  \nATOM    218  CB  GLU A  28      17.256 -19.175   7.445  1.00 19.75           C  \nATOM    219  CG  GLU A  28      16.147 -20.029   6.898  1.00 21.64           C  \nATOM    220  CD  GLU A  28      16.495 -21.511   6.935  1.00 27.68           C  \nATOM    221  OE1 GLU A  28      17.064 -21.954   7.950  1.00 31.50           O  \nATOM    222  OE2 GLU A  28      16.189 -22.218   5.965  1.00 29.17           O  \nATOM    223  N   ILE A  29      14.903 -16.924   6.253  1.00 18.52           N  \nATOM    224  CA  ILE A  29      14.232 -16.474   5.048  1.00 19.25           C  \nATOM    225  C   ILE A  29      14.761 -15.121   4.554  1.00 16.72           C  \nATOM    226  O   ILE A  29      14.521 -14.730   3.416  1.00 17.64           O  \nATOM    227  CB  ILE A  29      12.685 -16.398   5.258  1.00 21.15           C  \nATOM    228  CG1 ILE A  29      12.322 -15.367   6.301  1.00 23.38           C  \nATOM    229  CG2 ILE A  29      12.130 -17.761   5.592  1.00 24.43           C  \nATOM    230  CD1 ILE A  29      11.831 -14.115   5.693  1.00 30.18           C  \nATOM    231  N   PHE A  30      15.473 -14.416   5.409  1.00 15.77           N  \nATOM    232  CA  PHE A  30      15.999 -13.123   4.971  1.00 15.38           C  \nATOM    233  C   PHE A  30      16.868 -13.300   3.733  1.00 14.93           C  \nATOM    234  O   PHE A  30      16.874 -12.453   2.841  1.00 14.87           O  \nATOM    235  CB  PHE A  30      16.804 -12.414   6.068  1.00 14.77           C  \nATOM    236  CG  PHE A  30      18.227 -12.889   6.186  1.00 15.59           C  \nATOM    237  CD1 PHE A  30      19.266 -12.200   5.563  1.00 15.68           C  \nATOM    238  CD2 PHE A  30      18.526 -14.040   6.899  1.00 16.71           C  \nATOM    239  CE1 PHE A  30      20.573 -12.675   5.658  1.00 15.08           C  \nATOM    240  CE2 PHE A  30      19.818 -14.529   6.997  1.00 17.37           C  \nATOM    241  CZ  PHE A  30      20.876 -13.831   6.366  1.00 16.40           C  \nATOM    242  N   LEU A  31      17.628 -14.392   3.701  1.00 14.51           N  \nATOM    243  CA  LEU A  31      18.619 -14.550   2.601  1.00 14.88           C  \nATOM    244  C   LEU A  31      17.935 -14.729   1.252  1.00 15.81           C  \nATOM    245  O   LEU A  31      18.366 -14.182   0.246  1.00 15.41           O  \nATOM    246  CB  LEU A  31      19.615 -15.677   2.935  1.00 14.46           C  \nATOM    247  CG  LEU A  31      20.798 -15.661   1.967  1.00 16.52           C  \nATOM    248  CD1 LEU A  31      21.592 -14.382   2.076  1.00 18.11           C  \nATOM    249  CD2 LEU A  31      21.707 -16.842   2.335  1.00 19.15           C  \nATOM    250  N   ARG A  32      16.866 -15.510   1.217  1.00 14.66           N  \nATOM    251  CA  ARG A  32      16.105 -15.591  -0.015  1.00 15.94           C  \nATOM    252  C   ARG A  32      15.599 -14.266  -0.527  1.00 15.08           C  \nATOM    253  O   ARG A  32      15.628 -13.961  -1.707  1.00 14.59           O  \nATOM    254  CB  ARG A  32      14.931 -16.544   0.192  1.00 17.02           C  \nATOM    255  CG  ARG A  32      14.060 -16.647  -1.006  1.00 21.60           C  \nATOM    256  N   GLU A  33      15.102 -13.432   0.375  1.00 14.07           N  \nATOM    257  CA  GLU A  33      14.563 -12.176  -0.092  1.00 13.86           C  \nATOM    258  C   GLU A  33      15.666 -11.268  -0.622  1.00 12.47           C  \nATOM    259  O   GLU A  33      15.479 -10.556  -1.570  1.00 14.44           O  \nATOM    260  CB  GLU A  33      13.825 -11.436   1.033  1.00 14.67           C  \nATOM    261  CG  GLU A  33      12.642 -12.229   1.563  1.00 17.13           C  \nATOM    262  CD  GLU A  33      11.572 -12.404   0.510  1.00 20.17           C  \nATOM    263  OE1 GLU A  33      11.467 -11.604  -0.413  1.00 20.09           O  \nATOM    264  OE2 GLU A  33      10.889 -13.467   0.567  1.00 24.99           O  \nATOM    265  N   LEU A  34      16.824 -11.287   0.015  1.00 13.39           N  \nATOM    266  CA  LEU A  34      17.891 -10.392  -0.456  1.00 12.89           C  \nATOM    267  C   LEU A  34      18.503 -10.935  -1.771  1.00 12.50           C  \nATOM    268  O   LEU A  34      18.916 -10.154  -2.649  1.00 12.65           O  \nATOM    269  CB  LEU A  34      18.940 -10.227   0.644  1.00 12.93           C  \nATOM    270  CG  LEU A  34      18.466  -9.646   1.990  1.00 12.89           C  \nATOM    271  CD1 LEU A  34      19.716  -9.397   2.845  1.00 14.02           C  \nATOM    272  CD2 LEU A  34      17.688  -8.346   1.788  1.00 13.51           C  \nATOM    273  N   ILE A  35      18.556 -12.262  -1.921  1.00 12.47           N  \nATOM    274  CA  ILE A  35      19.039 -12.848  -3.183  1.00 12.88           C  \nATOM    275  C   ILE A  35      18.034 -12.523  -4.304  1.00 13.04           C  \nATOM    276  O   ILE A  35      18.399 -12.159  -5.407  1.00 13.57           O  \nATOM    277  CB  ILE A  35      19.287 -14.370  -3.030  1.00 12.90           C  \nATOM    278  CG1 ILE A  35      20.522 -14.589  -2.177  1.00 13.18           C  \nATOM    279  CG2 ILE A  35      19.378 -15.023  -4.483  1.00 12.63           C  \nATOM    280  CD1 ILE A  35      20.810 -16.071  -1.854  1.00 16.31           C  \nATOM    281  N   SER A  36      16.764 -12.596  -3.974  1.00 14.35           N  \nATOM    282  CA  SER A  36      15.734 -12.221  -4.937  1.00 13.99           C  \nATOM    283  C   SER A  36      15.874 -10.755  -5.382  1.00 14.51           C  \nATOM    284  O   SER A  36      15.782 -10.423  -6.584  1.00 14.23           O  \nATOM    285  CB  SER A  36      14.358 -12.432  -4.293  1.00 16.17           C  \nATOM    286  OG  SER A  36      13.375 -12.084  -5.239  1.00 21.10           O  \nATOM    287  N   ASN A  37      16.092  -9.845  -4.422  1.00 13.05           N  \nATOM    288  CA  ASN A  37      16.265  -8.459  -4.810  1.00 12.99           C  \nATOM    289  C   ASN A  37      17.497  -8.223  -5.690  1.00 13.12           C  \nATOM    290  O   ASN A  37      17.456  -7.431  -6.621  1.00 13.24           O  \nATOM    291  CB  ASN A  37      16.388  -7.582  -3.559  1.00 13.52           C  \nATOM    292  CG  ASN A  37      15.069  -7.371  -2.840  1.00 17.86           C  \nATOM    293  OD1 ASN A  37      15.033  -6.613  -1.866  1.00 23.35           O  \nATOM    294  ND2 ASN A  37      14.028  -8.001  -3.271  1.00 16.49           N  \nATOM    295  N   ALA A  38      18.584  -8.907  -5.326  1.00 12.77           N  \nATOM    296  CA  ALA A  38      19.815  -8.876  -6.125  1.00 13.02           C  \nATOM    297  C   ALA A  38      19.535  -9.340  -7.553  1.00 12.05           C  \nATOM    298  O   ALA A  38      19.988  -8.695  -8.507  1.00 12.25           O  \nATOM    299  CB  ALA A  38      20.902  -9.742  -5.476  1.00 13.69           C  \nATOM    300  N   SER A  39      18.824 -10.448  -7.656  1.00 13.06           N  \nATOM    301  CA  SER A  39      18.500 -11.003  -8.988  1.00 12.93           C  \nATOM    302  C   SER A  39      17.668 -10.003  -9.769  1.00 13.20           C  \nATOM    303  O   SER A  39      17.896  -9.778 -10.955  1.00 13.96           O  \nATOM    304  CB  SER A  39      17.768 -12.340  -8.805  1.00 14.53           C  \nATOM    305  OG  SER A  39      17.439 -12.927 -10.093  1.00 17.61           O  \nATOM    306  N   ASP A  40      16.714  -9.364  -9.110  1.00 13.40           N  \nATOM    307  CA  ASP A  40      15.893  -8.381  -9.796  1.00 14.26           C  \nATOM    308  C   ASP A  40      16.747  -7.228 -10.322  1.00 14.50           C  \nATOM    309  O   ASP A  40      16.553  -6.715 -11.410  1.00 13.85           O  \nATOM    310  CB  ASP A  40      14.834  -7.840  -8.854  1.00 16.11           C  \nATOM    311  CG  ASP A  40      13.750  -8.871  -8.539  1.00 20.50           C  \nATOM    312  OD1 ASP A  40      13.700  -9.955  -9.196  1.00 26.06           O  \nATOM    313  OD2 ASP A  40      12.878  -8.665  -7.660  1.00 26.67           O  \nATOM    314  N   ALA A  41      17.719  -6.761  -9.513  1.00 12.23           N  \nATOM    315  CA  ALA A  41      18.537  -5.647  -9.954  1.00 11.86           C  \nATOM    316  C   ALA A  41      19.427  -6.029 -11.116  1.00 12.19           C  \nATOM    317  O   ALA A  41      19.742  -5.187 -11.971  1.00 12.46           O  \nATOM    318  CB  ALA A  41      19.432  -5.156  -8.748  1.00 13.68           C  \nATOM    319  N   LEU A  42      19.865  -7.290 -11.128  1.00 11.91           N  \nATOM    320  CA  LEU A  42      20.674  -7.797 -12.243  1.00 11.90           C  \nATOM    321  C   LEU A  42      19.749  -7.920 -13.504  1.00 11.89           C  \nATOM    322  O   LEU A  42      20.170  -7.626 -14.625  1.00 13.86           O  \nATOM    323  CB  LEU A  42      21.217  -9.177 -11.867  1.00 11.79           C  \nATOM    324  CG  LEU A  42      22.425  -9.047 -10.930  1.00 10.59           C  \nATOM    325  CD1 LEU A  42      22.603 -10.336 -10.157  1.00 10.82           C  \nATOM    326  CD2 LEU A  42      23.702  -8.749 -11.716  1.00 12.07           C  \nATOM    327  N   ASP A  43      18.505  -8.314 -13.300  1.00 12.39           N  \nATOM    328  CA  ASP A  43      17.550  -8.346 -14.413  1.00 14.12           C  \nATOM    329  C   ASP A  43      17.472  -6.988 -15.010  1.00 14.73           C  \nATOM    330  O   ASP A  43      17.430  -6.823 -16.223  1.00 14.72           O  \nATOM    331  CB  ASP A  43      16.183  -8.851 -13.984  1.00 14.76           C  \nATOM    332  CG  ASP A  43      16.116 -10.337 -13.724  1.00 15.12           C  \nATOM    333  OD1 ASP A  43      15.049 -10.695 -13.145  1.00 19.52           O  \nATOM    334  OD2 ASP A  43      17.016 -11.183 -14.007  1.00 16.95           O  \nATOM    335  N   LYS A  44      17.408  -5.979 -14.150  1.00 13.53           N  \nATOM    336  CA  LYS A  44      17.230  -4.615 -14.651  1.00 14.22           C  \nATOM    337  C   LYS A  44      18.400  -4.117 -15.496  1.00 14.37           C  \nATOM    338  O   LYS A  44      18.200  -3.518 -16.552  1.00 14.29           O  \nATOM    339  CB  LYS A  44      16.846  -3.598 -13.544  1.00 14.30           C  \nATOM    340  CG  LYS A  44      15.539  -3.893 -12.801  1.00 20.28           C  \nATOM    341  CD  LYS A  44      14.353  -4.070 -13.683  1.00 29.20           C  \nATOM    342  CE  LYS A  44      13.036  -3.998 -12.860  1.00 34.00           C  \nATOM    343  NZ  LYS A  44      12.369  -5.335 -12.692  1.00 35.02           N  \nATOM    344  N   ILE A  45      19.626  -4.362 -15.059  1.00 12.95           N  \nATOM    345  CA  ILE A  45      20.735  -3.896 -15.872  1.00 14.59           C  \nATOM    346  C   ILE A  45      20.852  -4.701 -17.175  1.00 14.56           C  \nATOM    347  O   ILE A  45      21.233  -4.101 -18.198  1.00 15.02           O  \nATOM    348  CB  ILE A  45      22.056  -3.855 -15.090  1.00 14.32           C  \nATOM    349  CG1 ILE A  45      23.162  -3.181 -15.927  1.00 15.55           C  \nATOM    350  CG2 ILE A  45      22.423  -5.236 -14.629  1.00 16.09           C  \nATOM    351  CD1 ILE A  45      22.910  -1.689 -16.070  1.00 18.20           C  \nATOM    352  N   ARG A  46      20.508  -5.989 -17.141  1.00 14.66           N  \nATOM    353  CA  ARG A  46      20.579  -6.808 -18.364  1.00 16.20           C  \nATOM    354  C   ARG A  46      19.556  -6.247 -19.347  1.00 15.98           C  \nATOM    355  O   ARG A  46      19.843  -6.064 -20.535  1.00 16.23           O  \nATOM    356  CB  ARG A  46      20.245  -8.253 -18.050  1.00 17.46           C  \nATOM    357  CG  ARG A  46      20.530  -9.253 -19.145  1.00 24.26           C  \nATOM    358  CD  ARG A  46      20.930 -10.638 -18.524  1.00 28.56           C  \nATOM    359  NE  ARG A  46      19.873 -11.086 -17.618  1.00 33.89           N  \nATOM    360  CZ  ARG A  46      18.778 -11.691 -18.032  1.00 33.07           C  \nATOM    361  NH1 ARG A  46      18.636 -11.951 -19.332  1.00 35.89           N  \nATOM    362  NH2 ARG A  46      17.837 -12.064 -17.170  1.00 33.67           N  \nATOM    363  N   TYR A  47      18.358  -5.990 -18.855  1.00 14.80           N  \nATOM    364  CA  TYR A  47      17.297  -5.490 -19.747  1.00 14.96           C  \nATOM    365  C   TYR A  47      17.651  -4.098 -20.298  1.00 14.96           C  \nATOM    366  O   TYR A  47      17.504  -3.809 -21.513  1.00 16.15           O  \nATOM    367  CB  TYR A  47      15.953  -5.448 -19.003  1.00 13.85           C  \nATOM    368  CG  TYR A  47      14.805  -5.177 -19.933  1.00 14.55           C  \nATOM    369  CD1 TYR A  47      14.095  -6.205 -20.490  1.00 17.13           C  \nATOM    370  CD2 TYR A  47      14.443  -3.880 -20.181  1.00 16.54           C  \nATOM    371  CE1 TYR A  47      13.040  -5.905 -21.377  1.00 20.17           C  \nATOM    372  CE2 TYR A  47      13.412  -3.580 -21.027  1.00 20.37           C  \nATOM    373  CZ  TYR A  47      12.735  -4.594 -21.596  1.00 19.46           C  \nATOM    374  OH  TYR A  47      11.705  -4.176 -22.427  1.00 27.15           O  \nATOM    375  N   LYS A  48      18.162  -3.216 -19.436  1.00 13.95           N  \nATOM    376  CA  LYS A  48      18.519  -1.879 -19.871  1.00 14.91           C  \nATOM    377  C   LYS A  48      19.582  -1.965 -20.949  1.00 15.86           C  \nATOM    378  O   LYS A  48      19.540  -1.200 -21.937  1.00 17.33           O  \nATOM    379  CB  LYS A  48      19.000  -1.017 -18.683  1.00 16.15           C  \nATOM    380  CG  LYS A  48      19.371   0.429 -19.050  1.00 17.06           C  \nATOM    381  CD  LYS A  48      19.813   1.160 -17.800  1.00 23.42           C  \nATOM    382  CE  LYS A  48      19.836   2.668 -17.965  1.00 28.37           C  \nATOM    383  NZ  LYS A  48      19.344   3.214 -16.637  1.00 30.37           N  \nATOM    384  N   SER A  49      20.498  -2.915 -20.810  1.00 15.95           N  \nATOM    385  CA  SER A  49      21.632  -3.040 -21.710  1.00 16.76           C  \nATOM    386  C   SER A  49      21.223  -3.556 -23.104  1.00 16.96           C  \nATOM    387  O   SER A  49      22.049  -3.487 -24.018  1.00 18.21           O  \nATOM    388  CB  SER A  49      22.712  -3.971 -21.115  1.00 19.00           C  \nATOM    389  OG  SER A  49      22.367  -5.349 -21.248  1.00 24.42           O  \nATOM    390  N   LEU A  50      20.009  -4.083 -23.243  1.00 17.32           N  \nATOM    391  CA  LEU A  50      19.537  -4.568 -24.555  1.00 17.68           C  \nATOM    392  C   LEU A  50      19.563  -3.447 -25.555  1.00 18.56           C  \nATOM    393  O   LEU A  50      19.818  -3.659 -26.718  1.00 19.54           O  \nATOM    394  CB  LEU A  50      18.087  -5.058 -24.466  1.00 17.57           C  \nATOM    395  CG  LEU A  50      17.910  -6.349 -23.712  1.00 17.37           C  \nATOM    396  CD1 LEU A  50      16.418  -6.638 -23.599  1.00 21.58           C  \nATOM    397  CD2 LEU A  50      18.650  -7.488 -24.415  1.00 22.19           C  \nATOM    398  N   SER A  51      19.301  -2.242 -25.088  1.00 18.17           N  \nATOM    399  CA  SER A  51      19.308  -1.058 -25.958  1.00 18.25           C  \nATOM    400  C   SER A  51      20.368  -0.026 -25.629  1.00 20.34           C  \nATOM    401  O   SER A  51      20.533   0.979 -26.326  1.00 21.20           O  \nATOM    402  CB  SER A  51      17.944  -0.380 -25.935  1.00 20.69           C  \nATOM    403  OG  SER A  51      16.959  -1.243 -26.460  1.00 22.34           O  \nATOM    404  N   ASP A  52      21.211  -0.319 -24.638  1.00 20.30           N  \nATOM    405  CA  ASP A  52      22.284   0.598 -24.236  1.00 20.67           C  \nATOM    406  C   ASP A  52      23.417  -0.314 -23.686  1.00 21.11           C  \nATOM    407  O   ASP A  52      23.678  -0.378 -22.482  1.00 20.46           O  \nATOM    408  CB  ASP A  52      21.731   1.542 -23.151  1.00 21.13           C  \nATOM    409  CG  ASP A  52      22.635   2.735 -22.863  1.00 21.46           C  \nATOM    410  OD1 ASP A  52      23.785   2.778 -23.330  1.00 23.40           O  \nATOM    411  OD2 ASP A  52      22.241   3.669 -22.139  1.00 26.89           O  \nATOM    412  N   PRO A  53      24.032  -1.080 -24.553  1.00 20.60           N  \nATOM    413  CA  PRO A  53      25.077  -2.043 -24.203  1.00 20.82           C  \nATOM    414  C   PRO A  53      26.261  -1.471 -23.397  1.00 21.27           C  \nATOM    415  O   PRO A  53      26.871  -2.219 -22.591  1.00 21.38           O  \nATOM    416  CB  PRO A  53      25.542  -2.563 -25.572  1.00 22.97           C  \nATOM    417  CG  PRO A  53      24.879  -1.646 -26.583  1.00 22.00           C  \nATOM    418  CD  PRO A  53      23.654  -1.169 -25.972  1.00 21.84           C  \nATOM    419  N   LYS A  54      26.569  -0.193 -23.565  1.00 21.87           N  \nATOM    420  CA  LYS A  54      27.712   0.367 -22.853  1.00 21.49           C  \nATOM    421  C   LYS A  54      27.440   0.332 -21.349  1.00 21.44           C  \nATOM    422  O   LYS A  54      28.371   0.388 -20.528  1.00 20.69           O  \nATOM    423  CB  LYS A  54      27.965   1.803 -23.276  1.00 22.79           C  \nATOM    424  CG  LYS A  54      29.345   2.276 -22.872  1.00 28.00           C  \nATOM    425  N   GLN A  55      26.180   0.202 -20.987  1.00 19.49           N  \nATOM    426  CA  GLN A  55      25.841   0.214 -19.554  1.00 18.45           C  \nATOM    427  C   GLN A  55      26.484  -0.922 -18.797  1.00 18.80           C  \nATOM    428  O   GLN A  55      26.635  -0.824 -17.555  1.00 17.82           O  \nATOM    429  CB  GLN A  55      24.329   0.202 -19.313  1.00 18.52           C  \nATOM    430  CG  GLN A  55      23.595   1.399 -19.882  1.00 19.34           C  \nATOM    431  CD  GLN A  55      23.429   2.547 -18.902  1.00 25.19           C  \nATOM    432  OE1 GLN A  55      23.674   2.392 -17.696  1.00 23.31           O  \nATOM    433  NE2 GLN A  55      22.977   3.692 -19.397  1.00 23.87           N  \nATOM    434  N   LEU A  56      26.775  -2.016 -19.475  1.00 17.43           N  \nATOM    435  CA  LEU A  56      27.393  -3.154 -18.815  1.00 17.45           C  \nATOM    436  C   LEU A  56      28.878  -2.947 -18.575  1.00 18.38           C  \nATOM    437  O   LEU A  56      29.459  -3.657 -17.754  1.00 19.36           O  \nATOM    438  CB  LEU A  56      27.215  -4.428 -19.654  1.00 18.46           C  \nATOM    439  CG  LEU A  56      25.807  -5.000 -19.689  1.00 18.40           C  \nATOM    440  CD1 LEU A  56      25.687  -6.068 -20.820  1.00 22.89           C  \nATOM    441  CD2 LEU A  56      25.490  -5.626 -18.309  1.00 22.83           C  \nATOM    442  N   GLU A  57      29.500  -2.003 -19.271  1.00 19.23           N  \nATOM    443  CA  GLU A  57      30.970  -1.890 -19.240  1.00 20.61           C  \nATOM    444  C   GLU A  57      31.592  -1.561 -17.889  1.00 20.46           C  \nATOM    445  O   GLU A  57      32.759  -1.873 -17.658  1.00 20.98           O  \nATOM    446  CB  GLU A  57      31.460  -0.893 -20.293  1.00 22.20           C  \nATOM    447  CG  GLU A  57      31.153  -1.356 -21.697  1.00 25.86           C  \nATOM    448  CD  GLU A  57      31.726  -0.397 -22.740  1.00 31.79           C  \nATOM    449  OE1 GLU A  57      32.596   0.426 -22.388  1.00 35.41           O  \nATOM    450  OE2 GLU A  57      31.303  -0.472 -23.912  1.00 36.24           O  \nATOM    451  N   THR A  58      30.803  -0.948 -17.009  1.00 18.87           N  \nATOM    452  CA  THR A  58      31.323  -0.612 -15.687  1.00 18.57           C  \nATOM    453  C   THR A  58      31.541  -1.826 -14.833  1.00 17.97           C  \nATOM    454  O   THR A  58      32.281  -1.768 -13.862  1.00 18.08           O  \nATOM    455  CB  THR A  58      30.380   0.313 -14.956  1.00 16.87           C  \nATOM    456  OG1 THR A  58      29.037  -0.104 -15.221  1.00 17.30           O  \nATOM    457  CG2 THR A  58      30.460   1.693 -15.554  1.00 19.24           C  \nATOM    458  N   GLU A  59      30.948  -2.952 -15.217  1.00 18.08           N  \nATOM    459  CA  GLU A  59      31.133  -4.223 -14.512  1.00 17.74           C  \nATOM    460  C   GLU A  59      30.465  -5.278 -15.358  1.00 18.87           C  \nATOM    461  O   GLU A  59      29.340  -5.693 -15.107  1.00 18.80           O  \nATOM    462  CB  GLU A  59      30.446  -4.174 -13.145  1.00 19.29           C  \nATOM    463  CG  GLU A  59      30.503  -5.516 -12.431  1.00 21.21           C  \nATOM    464  CD  GLU A  59      31.893  -6.104 -12.433  1.00 24.41           C  \nATOM    465  OE1 GLU A  59      32.645  -5.796 -11.480  1.00 29.01           O  \nATOM    466  OE2 GLU A  59      32.256  -6.862 -13.373  1.00 24.34           O  \nATOM    467  N   PRO A  60      31.236  -5.816 -16.300  1.00 18.63           N  \nATOM    468  CA  PRO A  60      30.693  -6.771 -17.261  1.00 19.32           C  \nATOM    469  C   PRO A  60      30.265  -8.084 -16.659  1.00 19.20           C  \nATOM    470  O   PRO A  60      29.477  -8.800 -17.276  1.00 21.25           O  \nATOM    471  CB  PRO A  60      31.862  -7.022 -18.236  1.00 19.50           C  \nATOM    472  CG  PRO A  60      32.881  -6.005 -17.936  1.00 21.70           C  \nATOM    473  CD  PRO A  60      32.672  -5.526 -16.503  1.00 19.71           C  \nATOM    474  N   ASP A  61      30.799  -8.435 -15.493  1.00 19.17           N  \nATOM    475  CA  ASP A  61      30.492  -9.706 -14.826  1.00 19.75           C  \nATOM    476  C   ASP A  61      29.175  -9.531 -14.026  1.00 19.06           C  \nATOM    477  O   ASP A  61      29.070  -8.618 -13.213  1.00 19.50           O  \nATOM    478  CB  ASP A  61      31.634 -10.065 -13.905  1.00 19.45           C  \nATOM    479  CG  ASP A  61      32.766 -10.796 -14.643  1.00 25.63           C  \nATOM    480  OD1 ASP A  61      32.480 -11.291 -15.752  1.00 32.09           O  \nATOM    481  OD2 ASP A  61      33.929 -10.846 -14.225  1.00 30.10           O  \nATOM    482  N   LEU A  62      28.200 -10.423 -14.281  1.00 17.71           N  \nATOM    483  CA  LEU A  62      26.872 -10.405 -13.599  1.00 16.84           C  \nATOM    484  C   LEU A  62      26.811 -11.503 -12.563  1.00 16.65           C  \nATOM    485  O   LEU A  62      26.804 -12.678 -12.901  1.00 17.45           O  \nATOM    486  CB  LEU A  62      25.729 -10.553 -14.595  1.00 17.76           C  \nATOM    487  CG  LEU A  62      25.738  -9.589 -15.774  1.00 19.97           C  \nATOM    488  CD1 LEU A  62      24.442  -9.721 -16.546  1.00 24.98           C  \nATOM    489  CD2 LEU A  62      25.902  -8.159 -15.283  1.00 24.27           C  \nATOM    490  N   PHE A  63      26.773 -11.121 -11.275  1.00 14.60           N  \nATOM    491  CA  PHE A  63      26.878 -12.095 -10.204  1.00 14.18           C  \nATOM    492  C   PHE A  63      26.203 -11.611  -8.922  1.00 12.23           C  \nATOM    493  O   PHE A  63      25.930 -10.413  -8.792  1.00 13.01           O  \nATOM    494  CB  PHE A  63      28.387 -12.375  -9.875  1.00 14.58           C  \nATOM    495  CG  PHE A  63      29.150 -11.134  -9.474  1.00 16.43           C  \nATOM    496  CD1 PHE A  63      29.164 -10.714  -8.140  1.00 17.33           C  \nATOM    497  CD2 PHE A  63      29.787 -10.349 -10.427  1.00 16.27           C  \nATOM    498  CE1 PHE A  63      29.830  -9.560  -7.740  1.00 16.94           C  \nATOM    499  CE2 PHE A  63      30.469  -9.164 -10.042  1.00 15.90           C  \nATOM    500  CZ  PHE A  63      30.486  -8.768  -8.681  1.00 17.80           C  \nATOM    501  N   ILE A  64      25.976 -12.569  -8.029  1.00 12.55           N  \nATOM    502  CA  ILE A  64      25.568 -12.290  -6.654  1.00 13.47           C  \nATOM    503  C   ILE A  64      26.701 -12.910  -5.817  1.00 14.61           C  \nATOM    504  O   ILE A  64      27.173 -14.025  -6.103  1.00 15.90           O  \nATOM    505  CB  ILE A  64      24.233 -12.954  -6.355  1.00 12.93           C  \nATOM    506  CG1 ILE A  64      23.179 -12.381  -7.293  1.00 12.51           C  \nATOM    507  CG2 ILE A  64      23.858 -12.751  -4.859  1.00 14.64           C  \nATOM    508  CD1 ILE A  64      21.821 -13.108  -7.196  1.00 14.58           C  \nATOM    509  N   ARG A  65      27.182 -12.171  -4.815  1.00 13.37           N  \nATOM    510  CA  ARG A  65      28.352 -12.627  -4.070  1.00 13.72           C  \nATOM    511  C   ARG A  65      28.104 -12.417  -2.594  1.00 12.95           C  \nATOM    512  O   ARG A  65      27.690 -11.334  -2.176  1.00 13.38           O  \nATOM    513  CB  ARG A  65      29.597 -11.853  -4.532  1.00 13.58           C  \nATOM    514  CG  ARG A  65      30.881 -12.267  -3.777  1.00 15.26           C  \nATOM    515  CD  ARG A  65      32.138 -11.550  -4.320  1.00 18.55           C  \nATOM    516  NE  ARG A  65      32.254 -11.791  -5.760  1.00 20.69           N  \nATOM    517  CZ  ARG A  65      32.780 -10.952  -6.642  1.00 21.46           C  \nATOM    518  NH1 ARG A  65      33.317  -9.790  -6.278  1.00 22.25           N  \nATOM    519  NH2 ARG A  65      32.767 -11.312  -7.921  1.00 22.58           N  \nATOM    520  N   ILE A  66      28.331 -13.455  -1.800  1.00 12.08           N  \nATOM    521  CA  ILE A  66      28.068 -13.377  -0.382  1.00 12.85           C  \nATOM    522  C   ILE A  66      29.415 -13.499   0.344  1.00 13.11           C  \nATOM    523  O   ILE A  66      30.131 -14.475   0.107  1.00 13.10           O  \nATOM    524  CB  ILE A  66      27.113 -14.529   0.018  1.00 12.84           C  \nATOM    525  CG1 ILE A  66      25.767 -14.304  -0.700  1.00 16.82           C  \nATOM    526  CG2 ILE A  66      26.908 -14.541   1.518  1.00 13.90           C  \nATOM    527  CD1 ILE A  66      24.900 -15.521  -0.616  1.00 20.38           C  \nATOM    528  N   THR A  67      29.736 -12.546   1.224  1.00 12.90           N  \nATOM    529  CA  THR A  67      31.015 -12.476   1.966  1.00 13.50           C  \nATOM    530  C   THR A  67      30.788 -12.327   3.447  1.00 14.05           C  \nATOM    531  O   THR A  67      30.462 -11.243   3.934  1.00 12.95           O  \nATOM    532  CB  THR A  67      31.841 -11.273   1.485  1.00 13.52           C  \nATOM    533  OG1 THR A  67      32.031 -11.340   0.065  1.00 14.65           O  \nATOM    534  CG2 THR A  67      33.251 -11.338   2.061  1.00 12.87           C  \nATOM    535  N   PRO A  68      31.000 -13.388   4.211  1.00 15.08           N  \nATOM    536  CA  PRO A  68      30.992 -13.205   5.656  1.00 15.99           C  \nATOM    537  C   PRO A  68      32.274 -12.530   6.125  1.00 16.99           C  \nATOM    538  O   PRO A  68      33.354 -12.809   5.583  1.00 17.28           O  \nATOM    539  CB  PRO A  68      30.926 -14.642   6.216  1.00 16.79           C  \nATOM    540  CG  PRO A  68      31.182 -15.510   5.112  1.00 18.04           C  \nATOM    541  CD  PRO A  68      31.165 -14.783   3.795  1.00 16.14           C  \nATOM    542  N   LYS A  69      32.144 -11.632   7.087  1.00 16.62           N  \nATOM    543  CA  LYS A  69      33.264 -10.931   7.705  1.00 17.18           C  \nATOM    544  C   LYS A  69      33.165 -11.130   9.206  1.00 18.71           C  \nATOM    545  O   LYS A  69      32.718 -10.229   9.930  1.00 16.77           O  \nATOM    546  CB  LYS A  69      33.216  -9.454   7.355  1.00 17.12           C  \nATOM    547  CG  LYS A  69      33.457  -9.194   5.847  1.00 17.38           C  \nATOM    548  CD  LYS A  69      33.436  -7.691   5.570  1.00 18.98           C  \nATOM    549  CE  LYS A  69      33.964  -7.347   4.160  1.00 21.71           C  \nATOM    550  NZ  LYS A  69      33.957  -5.867   3.919  1.00 22.59           N  \nATOM    551  N   PRO A  70      33.626 -12.297   9.650  1.00 20.56           N  \nATOM    552  CA  PRO A  70      33.454 -12.729  11.055  1.00 22.21           C  \nATOM    553  C   PRO A  70      33.941 -11.728  12.090  1.00 23.44           C  \nATOM    554  O   PRO A  70      33.165 -11.417  12.995  1.00 24.42           O  \nATOM    555  CB  PRO A  70      34.241 -14.041  11.107  1.00 22.44           C  \nATOM    556  CG  PRO A  70      34.290 -14.544   9.686  1.00 24.03           C  \nATOM    557  CD  PRO A  70      34.316 -13.311   8.836  1.00 20.93           C  \nATOM    558  N   GLU A  71      35.157 -11.201  11.950  1.00 24.87           N  \nATOM    559  CA  GLU A  71      35.680 -10.283  12.947  1.00 25.52           C  \nATOM    560  C   GLU A  71      34.784  -9.077  13.183  1.00 25.63           C  \nATOM    561  O   GLU A  71      34.666  -8.604  14.296  1.00 26.65           O  \nATOM    562  CB  GLU A  71      37.086  -9.778  12.558  1.00 27.14           C  \nATOM    563  N   GLN A  72      34.125  -8.588  12.137  1.00 22.63           N  \nATOM    564  CA  GLN A  72      33.201  -7.466  12.306  1.00 21.99           C  \nATOM    565  C   GLN A  72      31.739  -7.891  12.529  1.00 19.55           C  \nATOM    566  O   GLN A  72      30.891  -7.010  12.685  1.00 20.60           O  \nATOM    567  CB  GLN A  72      33.262  -6.507  11.115  1.00 22.56           C  \nATOM    568  CG  GLN A  72      34.685  -6.033  10.771  1.00 27.88           C  \nATOM    569  CD  GLN A  72      35.270  -6.873   9.650  1.00 33.64           C  \nATOM    570  OE1 GLN A  72      35.560  -8.056   9.850  1.00 35.29           O  \nATOM    571  NE2 GLN A  72      35.374  -6.292   8.447  1.00 34.20           N  \nATOM    572  N   LYS A  73      31.474  -9.193  12.551  1.00 18.63           N  \nATOM    573  CA  LYS A  73      30.120  -9.693  12.708  1.00 17.46           C  \nATOM    574  C   LYS A  73      29.261  -9.132  11.621  1.00 15.77           C  \nATOM    575  O   LYS A  73      28.131  -8.692  11.842  1.00 17.01           O  \nATOM    576  CB  LYS A  73      29.529  -9.379  14.083  1.00 18.93           C  \nATOM    577  CG  LYS A  73      30.306 -10.125  15.214  1.00 21.20           C  \nATOM    578  CD  LYS A  73      29.596  -9.904  16.541  1.00 27.87           C  \nATOM    579  CE  LYS A  73      29.704  -8.451  16.961  1.00 33.10           C  \nATOM    580  NZ  LYS A  73      29.351  -8.261  18.413  1.00 38.37           N  \nATOM    581  N   VAL A  74      29.816  -9.171  10.426  1.00 15.70           N  \nATOM    582  CA  VAL A  74      29.104  -8.638   9.257  1.00 14.28           C  \nATOM    583  C   VAL A  74      28.897  -9.686   8.201  1.00 14.18           C  \nATOM    584  O   VAL A  74      29.743 -10.550   7.976  1.00 15.18           O  \nATOM    585  CB  VAL A  74      29.954  -7.488   8.690  1.00 15.41           C  \nATOM    586  CG1 VAL A  74      29.681  -7.238   7.190  1.00 14.46           C  \nATOM    587  CG2 VAL A  74      29.709  -6.217   9.504  1.00 13.68           C  \nATOM    588  N   LEU A  75      27.742  -9.644   7.526  1.00 12.63           N  \nATOM    589  CA  LEU A  75      27.534 -10.477   6.340  1.00 12.81           C  \nATOM    590  C   LEU A  75      27.226  -9.524   5.179  1.00 12.09           C  \nATOM    591  O   LEU A  75      26.321  -8.725   5.299  1.00 12.18           O  \nATOM    592  CB  LEU A  75      26.348 -11.410   6.532  1.00 12.08           C  \nATOM    593  CG  LEU A  75      26.035 -12.323   5.357  1.00 12.97           C  \nATOM    594  CD1 LEU A  75      27.205 -13.294   5.066  1.00 14.11           C  \nATOM    595  CD2 LEU A  75      24.774 -13.090   5.660  1.00 13.64           C  \nATOM    596  N   GLU A  76      27.993  -9.614   4.078  1.00 11.33           N  \nATOM    597  CA  GLU A  76      27.719  -8.757   2.900  1.00 11.66           C  \nATOM    598  C   GLU A  76      27.086  -9.542   1.777  1.00 11.82           C  \nATOM    599  O   GLU A  76      27.482 -10.667   1.514  1.00 12.57           O  \nATOM    600  CB  GLU A  76      29.029  -8.139   2.386  1.00 10.43           C  \nATOM    601  CG  GLU A  76      29.507  -7.032   3.305  1.00 12.82           C  \nATOM    602  CD  GLU A  76      30.767  -6.341   2.855  1.00 15.10           C  \nATOM    603  OE1 GLU A  76      31.257  -6.634   1.744  1.00 15.58           O  \nATOM    604  OE2 GLU A  76      31.262  -5.480   3.620  1.00 15.13           O  \nATOM    605  N   ILE A  77      26.102  -8.948   1.095  1.00 11.91           N  \nATOM    606  CA  ILE A  77      25.461  -9.586  -0.071  1.00 13.41           C  \nATOM    607  C   ILE A  77      25.593  -8.533  -1.154  1.00 12.39           C  \nATOM    608  O   ILE A  77      24.977  -7.461  -1.093  1.00 12.40           O  \nATOM    609  CB  ILE A  77      23.993  -9.832   0.176  1.00 14.23           C  \nATOM    610  CG1 ILE A  77      23.820 -10.889   1.247  1.00 18.68           C  \nATOM    611  CG2 ILE A  77      23.364 -10.499  -1.037  1.00 16.45           C  \nATOM    612  CD1 ILE A  77      23.471 -10.294   2.495  1.00 22.52           C  \nATOM    613  N   ARG A  78      26.367  -8.886  -2.175  1.00 12.30           N  \nATOM    614  CA  ARG A  78      26.685  -7.951  -3.252  1.00 12.47           C  \nATOM    615  C   ARG A  78      26.074  -8.444  -4.548  1.00 12.07           C  \nATOM    616  O   ARG A  78      26.020  -9.640  -4.827  1.00 13.61           O  \nATOM    617  CB  ARG A  78      28.196  -7.931  -3.428  1.00 12.22           C  \nATOM    618  CG  ARG A  78      28.699  -7.121  -4.646  1.00 14.93           C  \nATOM    619  CD  ARG A  78      30.240  -6.831  -4.633  1.00 18.53           C  \nATOM    620  NE  ARG A  78      30.682  -6.055  -5.800  1.00 17.99           N  \nATOM    621  CZ  ARG A  78      31.898  -5.693  -5.988  1.00 20.83           C  \nATOM    622  NH1 ARG A  78      32.840  -6.079  -5.116  1.00 24.76           N  \nATOM    623  NH2 ARG A  78      32.205  -4.971  -7.055  1.00 25.64           N  \nATOM    624  N   ASP A  79      25.658  -7.498  -5.371  1.00 11.40           N  \nATOM    625  CA  ASP A  79      25.303  -7.872  -6.742  1.00 11.41           C  \nATOM    626  C   ASP A  79      25.909  -6.823  -7.659  1.00 11.19           C  \nATOM    627  O   ASP A  79      26.249  -5.694  -7.243  1.00 11.62           O  \nATOM    628  CB  ASP A  79      23.775  -7.954  -6.931  1.00 11.82           C  \nATOM    629  CG  ASP A  79      23.109  -6.650  -6.688  1.00 10.90           C  \nATOM    630  OD1 ASP A  79      22.421  -6.453  -5.650  1.00 13.93           O  \nATOM    631  OD2 ASP A  79      23.192  -5.712  -7.493  1.00 12.45           O  \nATOM    632  N   SER A  80      26.048  -7.197  -8.924  1.00 12.54           N  \nATOM    633  CA  SER A  80      26.479  -6.241  -9.949  1.00 12.23           C  \nATOM    634  C   SER A  80      25.266  -5.801 -10.803  1.00 12.15           C  \nATOM    635  O   SER A  80      25.356  -5.634 -12.038  1.00 12.77           O  \nATOM    636  CB  SER A  80      27.593  -6.810 -10.823  1.00 12.57           C  \nATOM    637  OG  SER A  80      27.229  -8.106 -11.306  1.00 13.60           O  \nATOM    638  N   GLY A  81      24.132  -5.628 -10.154  1.00 11.30           N  \nATOM    639  CA  GLY A  81      22.935  -5.097 -10.802  1.00 12.18           C  \nATOM    640  C   GLY A  81      22.996  -3.634 -11.141  1.00 10.98           C  \nATOM    641  O   GLY A  81      24.048  -3.016 -11.222  1.00 12.29           O  \nATOM    642  N   ILE A  82      21.803  -3.073 -11.371  1.00 11.99           N  \nATOM    643  CA  ILE A  82      21.710  -1.715 -11.871  1.00 13.69           C  \nATOM    644  C   ILE A  82      22.172  -0.663 -10.848  1.00 12.76           C  \nATOM    645  O   ILE A  82      22.531   0.450 -11.211  1.00 13.99           O  \nATOM    646  CB  ILE A  82      20.280  -1.455 -12.388  1.00 14.44           C  \nATOM    647  CG1 ILE A  82      20.207  -0.140 -13.137  1.00 17.06           C  \nATOM    648  CG2 ILE A  82      19.294  -1.463 -11.260  1.00 16.36           C  \nATOM    649  CD1 ILE A  82      19.110  -0.202 -14.201  1.00 19.33           C  \nATOM    650  N   GLY A  83      22.220  -1.032  -9.562  1.00 12.09           N  \nATOM    651  CA  GLY A  83      22.608  -0.020  -8.600  1.00 12.95           C  \nATOM    652  C   GLY A  83      21.503   1.008  -8.337  1.00 13.05           C  \nATOM    653  O   GLY A  83      20.432   1.031  -8.986  1.00 13.52           O  \nATOM    654  N   MET A  84      21.794   1.937  -7.424  1.00 11.90           N  \nATOM    655  CA  MET A  84      20.880   3.012  -7.072  1.00 11.82           C  \nATOM    656  C   MET A  84      21.658   4.320  -6.913  1.00 12.29           C  \nATOM    657  O   MET A  84      22.675   4.336  -6.238  1.00 12.49           O  \nATOM    658  CB  MET A  84      20.185   2.707  -5.728  1.00 12.94           C  \nATOM    659  CG  MET A  84      19.116   1.619  -5.855  1.00 13.41           C  \nATOM    660  SD  MET A  84      18.376   1.198  -4.277  1.00 15.75           S  \nATOM    661  CE  MET A  84      19.571   0.058  -3.679  1.00 17.75           C  \nATOM    662  N   THR A  85      21.196   5.401  -7.556  1.00 12.06           N  \nATOM    663  CA  THR A  85      21.726   6.740  -7.329  1.00 11.66           C  \nATOM    664  C   THR A  85      21.335   7.215  -5.919  1.00 11.75           C  \nATOM    665  O   THR A  85      20.554   6.575  -5.209  1.00 12.17           O  \nATOM    666  CB  THR A  85      21.088   7.735  -8.306  1.00 12.16           C  \nATOM    667  OG1 THR A  85      19.684   7.821  -8.029  1.00 15.14           O  \nATOM    668  CG2 THR A  85      21.197   7.186  -9.704  1.00 12.35           C  \nATOM    669  N   LYS A  86      21.916   8.341  -5.495  1.00 12.63           N  \nATOM    670  CA  LYS A  86      21.531   8.917  -4.213  1.00 13.17           C  \nATOM    671  C   LYS A  86      20.010   9.078  -4.105  1.00 13.42           C  \nATOM    672  O   LYS A  86      19.403   8.679  -3.101  1.00 12.88           O  \nATOM    673  CB  LYS A  86      22.205  10.281  -4.047  1.00 13.11           C  \nATOM    674  CG  LYS A  86      21.924  10.940  -2.716  1.00 14.52           C  \nATOM    675  CD  LYS A  86      22.523  12.340  -2.674  1.00 17.44           C  \nATOM    676  CE  LYS A  86      22.196  12.983  -1.370  1.00 21.81           C  \nATOM    677  NZ  LYS A  86      22.725  14.374  -1.345  1.00 25.44           N  \nATOM    678  N   ALA A  87      19.405   9.638  -5.167  1.00 13.68           N  \nATOM    679  CA  ALA A  87      17.965   9.847  -5.136  1.00 14.26           C  \nATOM    680  C   ALA A  87      17.188   8.540  -5.080  1.00 13.89           C  \nATOM    681  O   ALA A  87      16.185   8.484  -4.388  1.00 14.98           O  \nATOM    682  CB  ALA A  87      17.524  10.660  -6.369  1.00 14.72           C  \nATOM    683  N   GLU A  88      17.675   7.511  -5.759  1.00 13.78           N  \nATOM    684  CA  GLU A  88      16.993   6.213  -5.722  1.00 13.30           C  \nATOM    685  C   GLU A  88      17.121   5.568  -4.357  1.00 12.84           C  \nATOM    686  O   GLU A  88      16.201   4.899  -3.874  1.00 14.63           O  \nATOM    687  CB  GLU A  88      17.519   5.291  -6.806  1.00 14.68           C  \nATOM    688  CG  GLU A  88      17.055   5.749  -8.190  1.00 15.76           C  \nATOM    689  CD  GLU A  88      17.705   5.029  -9.319  1.00 21.27           C  \nATOM    690  OE1 GLU A  88      18.862   4.608  -9.227  1.00 15.60           O  \nATOM    691  OE2 GLU A  88      17.057   4.951 -10.380  1.00 26.24           O  \nATOM    692  N   LEU A  89      18.282   5.729  -3.719  1.00 12.80           N  \nATOM    693  CA  LEU A  89      18.410   5.165  -2.378  1.00 12.81           C  \nATOM    694  C   LEU A  89      17.393   5.780  -1.434  1.00 14.77           C  \nATOM    695  O   LEU A  89      16.708   5.071  -0.678  1.00 15.82           O  \nATOM    696  CB  LEU A  89      19.820   5.440  -1.810  1.00 13.17           C  \nATOM    697  CG  LEU A  89      20.905   4.582  -2.450  1.00 11.59           C  \nATOM    698  CD1 LEU A  89      22.276   5.147  -2.012  1.00 14.15           C  \nATOM    699  CD2 LEU A  89      20.828   3.120  -1.998  1.00 12.52           C  \nATOM    700  N   ILE A  90      17.310   7.104  -1.459  1.00 14.92           N  \nATOM    701  CA  ILE A  90      16.364   7.816  -0.592  1.00 16.06           C  \nATOM    702  C   ILE A  90      14.937   7.364  -0.896  1.00 17.30           C  \nATOM    703  O   ILE A  90      14.174   7.006   0.031  1.00 18.87           O  \nATOM    704  CB  ILE A  90      16.525   9.287  -0.817  1.00 13.89           C  \nATOM    705  CG1 ILE A  90      17.930   9.737  -0.379  1.00 16.63           C  \nATOM    706  CG2 ILE A  90      15.428  10.112  -0.047  1.00 17.66           C  \nATOM    707  CD1 ILE A  90      18.233  11.173  -0.798  1.00 16.56           C  \nATOM    708  N   ASN A  91      14.593   7.288  -2.176  1.00 17.39           N  \nATOM    709  CA  ASN A  91      13.230   6.926  -2.596  1.00 19.23           C  \nATOM    710  C   ASN A  91      12.907   5.447  -2.401  1.00 19.37           C  \nATOM    711  O   ASN A  91      11.871   5.096  -1.786  1.00 20.83           O  \nATOM    712  CB  ASN A  91      13.036   7.331  -4.075  1.00 19.87           C  \nATOM    713  CG  ASN A  91      11.552   7.244  -4.531  1.00 23.09           C  \nATOM    714  OD1 ASN A  91      10.662   7.733  -3.840  1.00 26.42           O  \nATOM    715  ND2 ASN A  91      11.309   6.615  -5.666  1.00 26.08           N  \nATOM    716  N   ASN A  92      13.749   4.572  -2.928  1.00 17.44           N  \nATOM    717  CA  ASN A  92      13.468   3.135  -2.893  1.00 18.15           C  \nATOM    718  C   ASN A  92      13.463   2.565  -1.493  1.00 18.04           C  \nATOM    719  O   ASN A  92      12.688   1.662  -1.191  1.00 19.98           O  \nATOM    720  CB  ASN A  92      14.475   2.342  -3.754  1.00 18.82           C  \nATOM    721  CG  ASN A  92      14.326   2.614  -5.242  1.00 20.94           C  \nATOM    722  OD1 ASN A  92      13.386   3.298  -5.674  1.00 25.18           O  \nATOM    723  ND2 ASN A  92      15.294   2.135  -6.029  1.00 20.73           N  \nATOM    724  N   LEU A  93      14.358   3.069  -0.643  1.00 16.10           N  \nATOM    725  CA  LEU A  93      14.523   2.480   0.680  1.00 15.44           C  \nATOM    726  C   LEU A  93      13.815   3.191   1.823  1.00 16.19           C  \nATOM    727  O   LEU A  93      13.507   2.587   2.866  1.00 16.86           O  \nATOM    728  CB  LEU A  93      16.009   2.280   0.982  1.00 14.08           C  \nATOM    729  CG  LEU A  93      16.784   1.547  -0.114  1.00 14.17           C  \nATOM    730  CD1 LEU A  93      18.242   1.424   0.293  1.00 14.27           C  \nATOM    731  CD2 LEU A  93      16.203   0.130  -0.341  1.00 17.07           C  \nATOM    732  N   GLY A  94      13.553   4.485   1.636  1.00 16.50           N  \nATOM    733  CA  GLY A  94      12.895   5.217   2.682  1.00 18.50           C  \nATOM    734  C   GLY A  94      11.469   5.677   2.398  1.00 21.34           C  \nATOM    735  O   GLY A  94      10.821   6.178   3.313  1.00 20.50           O  \nATOM    736  N   THR A  95      10.982   5.471   1.170  1.00 21.68           N  \nATOM    737  CA  THR A  95       9.665   5.967   0.745  1.00 24.08           C  \nATOM    738  C   THR A  95       8.658   4.978   0.095  1.00 23.36           C  \nATOM    739  O   THR A  95       7.529   4.846   0.561  1.00 23.74           O  \nATOM    740  CB  THR A  95       9.861   7.053  -0.280  1.00 24.87           C  \nATOM    741  OG1 THR A  95      10.420   8.204   0.346  1.00 30.63           O  \nATOM    742  CG2 THR A  95       8.485   7.512  -0.788  1.00 26.23           C  \nATOM    743  N   ILE A  96       9.057   4.351  -1.014  1.00 24.29           N  \nATOM    744  CA  ILE A  96       8.121   3.604  -1.874  1.00 24.83           C  \nATOM    745  C   ILE A  96       7.557   2.364  -1.232  1.00 25.04           C  \nATOM    746  O   ILE A  96       6.511   1.857  -1.681  1.00 25.75           O  \nATOM    747  CB  ILE A  96       8.725   3.262  -3.269  1.00 25.27           C  \nATOM    748  CG1 ILE A  96       9.824   2.200  -3.158  1.00 26.83           C  \nATOM    749  CG2 ILE A  96       9.204   4.513  -4.009  1.00 26.39           C  \nATOM    750  CD1 ILE A  96      10.302   1.661  -4.535  1.00 30.12           C  \nATOM    751  N   ALA A  97       8.227   1.871  -0.190  1.00 23.96           N  \nATOM    752  CA  ALA A  97       7.738   0.715   0.533  1.00 24.57           C  \nATOM    753  C   ALA A  97       6.566   0.990   1.471  1.00 24.96           C  \nATOM    754  O   ALA A  97       6.041   0.065   2.088  1.00 25.75           O  \nATOM    755  CB  ALA A  97       8.875   0.025   1.288  1.00 23.80           C  \nATOM    756  N   LYS A  98       6.154   2.247   1.582  1.00 25.53           N  \nATOM    757  CA  LYS A  98       5.032   2.582   2.445  1.00 26.29           C  \nATOM    758  C   LYS A  98       3.795   1.692   2.184  1.00 26.96           C  \nATOM    759  O   LYS A  98       3.263   1.080   3.130  1.00 29.61           O  \nATOM    760  CB  LYS A  98       4.677   4.065   2.235  1.00 26.01           C  \nATOM    761  N   SER A  99       3.384   1.544   0.930  1.00 27.94           N  \nATOM    762  CA  SER A  99       2.134   0.865   0.640  1.00 28.50           C  \nATOM    763  C   SER A  99       2.224  -0.628   0.967  1.00 27.30           C  \nATOM    764  O   SER A  99       1.362  -1.197   1.650  1.00 28.11           O  \nATOM    765  CB  SER A  99       1.751   1.076  -0.817  1.00 29.09           C  \nATOM    766  OG  SER A  99       2.634   0.326  -1.608  1.00 34.91           O  \nATOM    767  N   GLY A 100       3.261  -1.278   0.470  1.00 26.28           N  \nATOM    768  CA  GLY A 100       3.438  -2.686   0.797  1.00 24.97           C  \nATOM    769  C   GLY A 100       3.518  -2.942   2.296  1.00 23.62           C  \nATOM    770  O   GLY A 100       2.966  -3.956   2.758  1.00 21.30           O  \nATOM    771  N   THR A 101       4.247  -2.101   3.042  1.00 22.40           N  \nATOM    772  CA  THR A 101       4.452  -2.363   4.450  1.00 22.75           C  \nATOM    773  C   THR A 101       3.108  -2.308   5.168  1.00 22.69           C  \nATOM    774  O   THR A 101       2.848  -3.130   6.000  1.00 21.58           O  \nATOM    775  CB  THR A 101       5.524  -1.456   5.212  1.00 23.07           C  \nATOM    776  OG1 THR A 101       5.133  -0.081   5.240  1.00 25.02           O  \nATOM    777  CG2 THR A 101       6.892  -1.481   4.505  1.00 22.76           C  \nATOM    778  N   LYS A 102       2.266  -1.342   4.825  1.00 23.73           N  \nATOM    779  CA  LYS A 102       0.972  -1.252   5.501  1.00 24.00           C  \nATOM    780  C   LYS A 102       0.128  -2.505   5.307  1.00 23.10           C  \nATOM    781  O   LYS A 102      -0.338  -3.128   6.275  1.00 23.57           O  \nATOM    782  CB  LYS A 102       0.197   0.005   5.080  1.00 24.94           C  \nATOM    783  CG  LYS A 102      -0.912   0.322   6.059  1.00 27.73           C  \nATOM    784  N   ALA A 103      -0.038  -2.901   4.058  1.00 22.87           N  \nATOM    785  CA  ALA A 103      -0.783  -4.105   3.754  1.00 20.64           C  \nATOM    786  C   ALA A 103      -0.167  -5.351   4.402  1.00 19.07           C  \nATOM    787  O   ALA A 103      -0.866  -6.213   4.882  1.00 19.19           O  \nATOM    788  CB  ALA A 103      -0.895  -4.281   2.247  1.00 22.95           C  \nATOM    789  N   PHE A 104       1.152  -5.450   4.392  1.00 17.13           N  \nATOM    790  CA  PHE A 104       1.797  -6.616   5.017  1.00 15.24           C  \nATOM    791  C   PHE A 104       1.565  -6.636   6.531  1.00 15.56           C  \nATOM    792  O   PHE A 104       1.351  -7.710   7.101  1.00 15.96           O  \nATOM    793  CB  PHE A 104       3.307  -6.586   4.736  1.00 15.70           C  \nATOM    794  CG  PHE A 104       4.035  -7.726   5.317  1.00 12.43           C  \nATOM    795  CD1 PHE A 104       3.633  -9.044   5.046  1.00 16.27           C  \nATOM    796  CD2 PHE A 104       5.136  -7.515   6.126  1.00 14.81           C  \nATOM    797  CE1 PHE A 104       4.373 -10.105   5.622  1.00 15.60           C  \nATOM    798  CE2 PHE A 104       5.859  -8.562   6.662  1.00 17.55           C  \nATOM    799  CZ  PHE A 104       5.459  -9.848   6.421  1.00 15.62           C  \nATOM    800  N   MET A 105       1.636  -5.487   7.193  1.00 16.45           N  \nATOM    801  CA  MET A 105       1.397  -5.502   8.624  1.00 16.05           C  \nATOM    802  C   MET A 105      -0.005  -5.915   8.979  1.00 16.91           C  \nATOM    803  O   MET A 105      -0.195  -6.553  10.014  1.00 17.10           O  \nATOM    804  CB  MET A 105       1.674  -4.131   9.237  1.00 16.66           C  \nATOM    805  CG  MET A 105       3.154  -3.834   9.195  1.00 17.35           C  \nATOM    806  SD  MET A 105       3.589  -2.287  10.105  1.00 20.19           S  \nATOM    807  CE  MET A 105       3.020  -1.198   9.041  1.00 17.97           C  \nATOM    808  N   GLU A 106      -0.963  -5.543   8.153  1.00 16.85           N  \nATOM    809  CA  GLU A 106      -2.355  -5.959   8.400  1.00 18.32           C  \nATOM    810  C   GLU A 106      -2.448  -7.474   8.236  1.00 19.34           C  \nATOM    811  O   GLU A 106      -3.151  -8.162   9.011  1.00 20.11           O  \nATOM    812  CB  GLU A 106      -3.285  -5.248   7.461  1.00 20.07           C  \nATOM    813  CG  GLU A 106      -3.339  -3.746   7.749  1.00 24.58           C  \nATOM    814  CD  GLU A 106      -4.107  -2.973   6.697  1.00 33.23           C  \nATOM    815  OE1 GLU A 106      -4.212  -3.460   5.564  1.00 37.02           O  \nATOM    816  OE2 GLU A 106      -4.598  -1.863   7.009  1.00 40.23           O  \nATOM    817  N   ALA A 107      -1.752  -8.008   7.223  1.00 17.43           N  \nATOM    818  CA  ALA A 107      -1.713  -9.451   7.062  1.00 18.02           C  \nATOM    819  C   ALA A 107      -1.063 -10.143   8.263  1.00 18.06           C  \nATOM    820  O   ALA A 107      -1.566 -11.164   8.713  1.00 17.92           O  \nATOM    821  CB  ALA A 107      -1.043  -9.873   5.687  1.00 16.98           C  \nATOM    822  N   LEU A 108       0.048  -9.594   8.774  1.00 17.66           N  \nATOM    823  CA  LEU A 108       0.709 -10.140   9.943  1.00 18.18           C  \nATOM    824  C   LEU A 108      -0.296 -10.140  11.088  1.00 18.32           C  \nATOM    825  O   LEU A 108      -0.379 -11.116  11.836  1.00 19.56           O  \nATOM    826  CB  LEU A 108       1.927  -9.300  10.337  1.00 17.94           C  \nATOM    827  CG  LEU A 108       3.133  -9.495   9.400  1.00 18.20           C  \nATOM    828  CD1 LEU A 108       4.257  -8.547   9.875  1.00 18.57           C  \nATOM    829  CD2 LEU A 108       3.635 -10.934   9.401  1.00 18.81           C  \nATOM    830  N   SER A 109      -1.070  -9.074  11.216  1.00 20.01           N  \nATOM    831  CA  SER A 109      -2.043  -8.976  12.305  1.00 22.25           C  \nATOM    832  C   SER A 109      -2.966 -10.179  12.323  1.00 22.34           C  \nATOM    833  O   SER A 109      -3.370 -10.694  13.373  1.00 23.41           O  \nATOM    834  CB  SER A 109      -2.941  -7.764  12.101  1.00 22.88           C  \nATOM    835  OG  SER A 109      -2.353  -6.599  12.613  1.00 32.91           O  \nATOM    836  N   ALA A 110      -3.328 -10.606  11.125  1.00 20.39           N  \nATOM    837  CA  ALA A 110      -4.329 -11.661  10.944  1.00 19.69           C  \nATOM    838  C   ALA A 110      -3.761 -13.035  11.043  1.00 18.67           C  \nATOM    839  O   ALA A 110      -4.513 -14.000  11.115  1.00 18.31           O  \nATOM    840  CB  ALA A 110      -5.006 -11.482   9.605  1.00 19.26           C  \nATOM    841  N   GLY A 111      -2.439 -13.156  11.008  1.00 18.14           N  \nATOM    842  CA  GLY A 111      -1.787 -14.427  11.142  1.00 18.32           C  \nATOM    843  C   GLY A 111      -0.861 -14.850  10.012  1.00 18.35           C  \nATOM    844  O   GLY A 111      -0.348 -15.956  10.039  1.00 19.03           O  \nATOM    845  N   ALA A 112      -0.649 -13.979   9.030  1.00 18.07           N  \nATOM    846  CA  ALA A 112       0.240 -14.351   7.924  1.00 18.40           C  \nATOM    847  C   ALA A 112       1.625 -14.688   8.387  1.00 18.93           C  \nATOM    848  O   ALA A 112       2.150 -14.097   9.345  1.00 19.67           O  \nATOM    849  CB  ALA A 112       0.328 -13.200   6.897  1.00 17.74           C  \nATOM    850  N   ASP A 113       2.260 -15.618   7.687  1.00 18.09           N  \nATOM    851  CA  ASP A 113       3.626 -15.920   8.018  1.00 19.25           C  \nATOM    852  C   ASP A 113       4.546 -14.772   7.577  1.00 18.36           C  \nATOM    853  O   ASP A 113       4.378 -14.226   6.485  1.00 17.77           O  \nATOM    854  CB  ASP A 113       4.060 -17.172   7.310  1.00 19.74           C  \nATOM    855  CG  ASP A 113       5.240 -17.775   7.970  1.00 24.85           C  \nATOM    856  OD1 ASP A 113       6.346 -17.479   7.535  1.00 22.56           O  \nATOM    857  OD2 ASP A 113       5.156 -18.468   9.018  1.00 27.45           O  \nATOM    858  N   VAL A 114       5.518 -14.445   8.428  1.00 17.96           N  \nATOM    859  CA  VAL A 114       6.497 -13.414   8.090  1.00 17.23           C  \nATOM    860  C   VAL A 114       7.140 -13.722   6.733  1.00 17.60           C  \nATOM    861  O   VAL A 114       7.547 -12.806   6.010  1.00 18.67           O  \nATOM    862  CB  VAL A 114       7.578 -13.337   9.170  1.00 17.85           C  \nATOM    863  CG1 VAL A 114       8.697 -12.396   8.764  1.00 19.83           C  \nATOM    864  CG2 VAL A 114       6.941 -12.860  10.496  1.00 19.01           C  \nATOM    865  N   SER A 115       7.224 -15.001   6.374  1.00 18.40           N  \nATOM    866  CA  SER A 115       7.821 -15.348   5.085  1.00 17.85           C  \nATOM    867  C   SER A 115       7.079 -14.833   3.860  1.00 18.23           C  \nATOM    868  O   SER A 115       7.637 -14.828   2.753  1.00 18.81           O  \nATOM    869  CB  SER A 115       8.085 -16.864   4.966  1.00 20.01           C  \nATOM    870  OG  SER A 115       6.840 -17.553   4.814  1.00 21.84           O  \nATOM    871  N   MET A 116       5.851 -14.351   4.028  1.00 16.17           N  \nATOM    872  CA  MET A 116       5.127 -13.736   2.907  1.00 17.38           C  \nATOM    873  C   MET A 116       5.633 -12.347   2.526  1.00 16.07           C  \nATOM    874  O   MET A 116       5.161 -11.755   1.558  1.00 16.26           O  \nATOM    875  CB  MET A 116       3.609 -13.569   3.196  1.00 17.66           C  \nATOM    876  CG  MET A 116       2.908 -14.852   3.385  1.00 20.83           C  \nATOM    877  SD  MET A 116       1.111 -14.572   3.322  1.00 21.11           S  \nATOM    878  CE  MET A 116       0.900 -14.117   1.605  1.00 23.57           C  \nATOM    879  N   ILE A 117       6.594 -11.836   3.299  1.00 14.75           N  \nATOM    880  CA  ILE A 117       6.991 -10.440   3.148  1.00 14.73           C  \nATOM    881  C   ILE A 117       7.344 -10.075   1.707  1.00 14.23           C  \nATOM    882  O   ILE A 117       7.001  -8.990   1.254  1.00 14.16           O  \nATOM    883  CB  ILE A 117       8.138 -10.142   4.152  1.00 14.11           C  \nATOM    884  CG1 ILE A 117       8.460  -8.635   4.138  1.00 14.31           C  \nATOM    885  CG2 ILE A 117       9.387 -11.012   3.819  1.00 15.85           C  \nATOM    886  CD1 ILE A 117       9.432  -8.242   5.282  1.00 16.35           C  \nATOM    887  N   GLY A 118       7.994 -10.965   0.972  1.00 14.99           N  \nATOM    888  CA  GLY A 118       8.356 -10.665  -0.402  1.00 15.09           C  \nATOM    889  C   GLY A 118       7.184 -10.487  -1.349  1.00 14.91           C  \nATOM    890  O   GLY A 118       7.254  -9.725  -2.321  1.00 15.86           O  \nATOM    891  N   GLN A 119       6.104 -11.188  -1.064  1.00 15.37           N  \nATOM    892  CA  GLN A 119       4.913 -11.056  -1.874  1.00 14.86           C  \nATOM    893  C   GLN A 119       4.236  -9.711  -1.706  1.00 15.71           C  \nATOM    894  O   GLN A 119       3.385  -9.317  -2.511  1.00 15.27           O  \nATOM    895  CB  GLN A 119       3.965 -12.214  -1.563  1.00 16.40           C  \nATOM    896  CG  GLN A 119       4.536 -13.508  -2.118  1.00 19.15           C  \nATOM    897  CD  GLN A 119       3.744 -14.681  -1.658  1.00 21.60           C  \nATOM    898  OE1 GLN A 119       4.176 -15.431  -0.762  1.00 26.29           O  \nATOM    899  NE2 GLN A 119       2.591 -14.874  -2.271  1.00 22.22           N  \nATOM    900  N   PHE A 120       4.622  -8.987  -0.661  1.00 14.82           N  \nATOM    901  CA  PHE A 120       4.105  -7.645  -0.472  1.00 15.03           C  \nATOM    902  C   PHE A 120       5.119  -6.606  -0.940  1.00 14.90           C  \nATOM    903  O   PHE A 120       4.912  -5.405  -0.786  1.00 15.91           O  \nATOM    904  CB  PHE A 120       3.704  -7.373   0.980  1.00 15.26           C  \nATOM    905  CG  PHE A 120       2.469  -8.130   1.416  1.00 15.54           C  \nATOM    906  CD1 PHE A 120       2.506  -9.485   1.695  1.00 16.82           C  \nATOM    907  CD2 PHE A 120       1.266  -7.434   1.553  1.00 16.43           C  \nATOM    908  CE1 PHE A 120       1.359 -10.164   2.092  1.00 17.87           C  \nATOM    909  CE2 PHE A 120       0.118  -8.112   1.945  1.00 15.19           C  \nATOM    910  CZ  PHE A 120       0.164  -9.453   2.221  1.00 18.18           C  \nATOM    911  N   GLY A 121       6.227  -7.082  -1.502  1.00 15.65           N  \nATOM    912  CA  GLY A 121       7.189  -6.198  -2.151  1.00 15.90           C  \nATOM    913  C   GLY A 121       8.142  -5.481  -1.207  1.00 15.39           C  \nATOM    914  O   GLY A 121       8.834  -4.497  -1.597  1.00 17.26           O  \nATOM    915  N   VAL A 122       8.186  -5.963   0.027  1.00 14.54           N  \nATOM    916  CA  VAL A 122       8.973  -5.299   1.065  1.00 13.51           C  \nATOM    917  C   VAL A 122       9.974  -6.233   1.746  1.00 13.20           C  \nATOM    918  O   VAL A 122      10.370  -6.040   2.894  1.00 12.82           O  \nATOM    919  CB  VAL A 122       8.059  -4.558   2.102  1.00 12.77           C  \nATOM    920  CG1 VAL A 122       7.341  -3.384   1.451  1.00 16.38           C  \nATOM    921  CG2 VAL A 122       7.053  -5.538   2.781  1.00 12.77           C  \nATOM    922  N   GLY A 123      10.349  -7.302   1.037  1.00 13.26           N  \nATOM    923  CA  GLY A 123      11.315  -8.257   1.538  1.00 13.10           C  \nATOM    924  C   GLY A 123      12.658  -7.737   2.017  1.00 11.65           C  \nATOM    925  O   GLY A 123      13.277  -8.370   2.820  1.00 13.24           O  \nATOM    926  N   PHE A 124      13.051  -6.559   1.539  1.00 12.17           N  \nATOM    927  CA  PHE A 124      14.313  -5.977   1.938  1.00 11.79           C  \nATOM    928  C   PHE A 124      14.381  -5.876   3.451  1.00 12.06           C  \nATOM    929  O   PHE A 124      15.415  -6.195   4.081  1.00 12.37           O  \nATOM    930  CB  PHE A 124      14.441  -4.551   1.341  1.00 11.10           C  \nATOM    931  CG  PHE A 124      15.526  -3.714   1.954  1.00 12.28           C  \nATOM    932  CD1 PHE A 124      16.873  -3.983   1.732  1.00 13.16           C  \nATOM    933  CD2 PHE A 124      15.183  -2.635   2.731  1.00 14.28           C  \nATOM    934  CE1 PHE A 124      17.881  -3.184   2.290  1.00 14.04           C  \nATOM    935  CE2 PHE A 124      16.189  -1.782   3.271  1.00 15.55           C  \nATOM    936  CZ  PHE A 124      17.554  -2.078   3.048  1.00 14.12           C  \nATOM    937  N   TYR A 125      13.241  -5.521   4.070  1.00 12.61           N  \nATOM    938  CA  TYR A 125      13.256  -5.251   5.486  1.00 10.90           C  \nATOM    939  C   TYR A 125      13.344  -6.487   6.363  1.00 12.09           C  \nATOM    940  O   TYR A 125      13.611  -6.366   7.575  1.00 12.99           O  \nATOM    941  CB  TYR A 125      12.052  -4.369   5.856  1.00 11.74           C  \nATOM    942  CG  TYR A 125      12.054  -3.053   5.072  1.00 11.42           C  \nATOM    943  CD1 TYR A 125      11.284  -2.915   3.927  1.00 13.77           C  \nATOM    944  CD2 TYR A 125      12.844  -1.994   5.464  1.00 11.61           C  \nATOM    945  CE1 TYR A 125      11.302  -1.781   3.182  1.00 12.78           C  \nATOM    946  CE2 TYR A 125      12.876  -0.806   4.692  1.00 11.71           C  \nATOM    947  CZ  TYR A 125      12.093  -0.729   3.560  1.00 12.11           C  \nATOM    948  OH  TYR A 125      12.105   0.412   2.785  1.00 16.17           O  \nATOM    949  N   SER A 126      13.226  -7.650   5.716  1.00 12.39           N  \nATOM    950  CA  SER A 126      13.437  -8.907   6.426  1.00 12.52           C  \nATOM    951  C   SER A 126      14.868  -9.036   6.955  1.00 12.05           C  \nATOM    952  O   SER A 126      15.132  -9.859   7.804  1.00 12.66           O  \nATOM    953  CB  SER A 126      13.090 -10.110   5.533  1.00 13.27           C  \nATOM    954  OG  SER A 126      14.079 -10.320   4.527  1.00 14.42           O  \nATOM    955  N   LEU A 127      15.808  -8.214   6.478  1.00 11.81           N  \nATOM    956  CA  LEU A 127      17.153  -8.298   7.016  1.00 11.81           C  \nATOM    957  C   LEU A 127      17.170  -8.029   8.516  1.00 12.38           C  \nATOM    958  O   LEU A 127      18.076  -8.480   9.195  1.00 13.12           O  \nATOM    959  CB  LEU A 127      18.070  -7.336   6.229  1.00 12.61           C  \nATOM    960  CG  LEU A 127      17.792  -5.838   6.433  1.00 12.21           C  \nATOM    961  CD1 LEU A 127      18.592  -5.273   7.599  1.00 12.07           C  \nATOM    962  CD2 LEU A 127      18.305  -5.102   5.180  1.00 13.15           C  \nATOM    963  N   PHE A 128      16.174  -7.290   9.045  1.00 12.36           N  \nATOM    964  CA  PHE A 128      16.189  -7.023  10.467  1.00 13.30           C  \nATOM    965  C   PHE A 128      15.818  -8.205  11.353  1.00 14.18           C  \nATOM    966  O   PHE A 128      15.901  -8.110  12.577  1.00 16.00           O  \nATOM    967  CB  PHE A 128      15.291  -5.799  10.752  1.00 12.70           C  \nATOM    968  CG  PHE A 128      15.910  -4.506  10.274  1.00 14.40           C  \nATOM    969  CD1 PHE A 128      15.381  -3.822   9.178  1.00 13.24           C  \nATOM    970  CD2 PHE A 128      17.037  -4.005  10.899  1.00 13.66           C  \nATOM    971  CE1 PHE A 128      15.929  -2.609   8.757  1.00 14.00           C  \nATOM    972  CE2 PHE A 128      17.628  -2.792  10.480  1.00 14.46           C  \nATOM    973  CZ  PHE A 128      17.059  -2.093   9.404  1.00 13.48           C  \nATOM    974  N   LEU A 129      15.503  -9.334  10.708  1.00 14.40           N  \nATOM    975  CA  LEU A 129      15.371 -10.575  11.479  1.00 14.30           C  \nATOM    976  C   LEU A 129      16.734 -10.997  12.025  1.00 16.03           C  \nATOM    977  O   LEU A 129      16.825 -11.571  13.112  1.00 17.98           O  \nATOM    978  CB  LEU A 129      14.838 -11.708  10.624  1.00 14.56           C  \nATOM    979  CG  LEU A 129      13.440 -11.556  10.079  1.00 13.73           C  \nATOM    980  CD1 LEU A 129      13.081 -12.595   8.995  1.00 16.03           C  \nATOM    981  CD2 LEU A 129      12.412 -11.653  11.254  1.00 16.08           C  \nATOM    982  N   VAL A 130      17.792 -10.748  11.259  1.00 14.45           N  \nATOM    983  CA  VAL A 130      19.117 -11.184  11.691  1.00 14.98           C  \nATOM    984  C   VAL A 130      20.078 -10.100  11.985  1.00 14.24           C  \nATOM    985  O   VAL A 130      21.122 -10.342  12.599  1.00 15.26           O  \nATOM    986  CB  VAL A 130      19.730 -12.196  10.689  1.00 14.03           C  \nATOM    987  CG1 VAL A 130      18.851 -13.459  10.517  1.00 15.29           C  \nATOM    988  CG2 VAL A 130      19.945 -11.538   9.310  1.00 16.29           C  \nATOM    989  N   ALA A 131      19.784  -8.869  11.553  1.00 14.48           N  \nATOM    990  CA  ALA A 131      20.678  -7.757  11.702  1.00 14.40           C  \nATOM    991  C   ALA A 131      20.058  -6.614  12.477  1.00 14.37           C  \nATOM    992  O   ALA A 131      18.855  -6.380  12.392  1.00 15.60           O  \nATOM    993  CB  ALA A 131      21.130  -7.228  10.304  1.00 14.33           C  \nATOM    994  N   ASP A 132      20.884  -5.869  13.211  1.00 15.35           N  \nATOM    995  CA  ASP A 132      20.357  -4.683  13.865  1.00 17.16           C  \nATOM    996  C   ASP A 132      20.747  -3.398  13.209  1.00 16.38           C  \nATOM    997  O   ASP A 132      20.398  -2.334  13.681  1.00 17.74           O  \nATOM    998  CB  ASP A 132      20.656  -4.629  15.351  1.00 20.69           C  \nATOM    999  CG  ASP A 132      22.082  -4.697  15.644  1.00 23.97           C  \nATOM   1000  OD1 ASP A 132      22.409  -4.925  16.844  1.00 33.27           O  \nATOM   1001  OD2 ASP A 132      22.975  -4.567  14.804  1.00 28.92           O  \nATOM   1002  N   ARG A 133      21.471  -3.483  12.107  1.00 14.83           N  \nATOM   1003  CA  ARG A 133      21.932  -2.290  11.416  1.00 14.59           C  \nATOM   1004  C   ARG A 133      22.352  -2.758  10.026  1.00 13.64           C  \nATOM   1005  O   ARG A 133      22.753  -3.918   9.849  1.00 13.27           O  \nATOM   1006  CB  ARG A 133      23.117  -1.683  12.173  1.00 15.99           C  \nATOM   1007  CG  ARG A 133      23.981  -0.749  11.393  1.00 21.03           C  \nATOM   1008  CD  ARG A 133      24.930   0.025  12.311  1.00 27.88           C  \nATOM   1009  NE  ARG A 133      26.010   0.754  11.652  1.00 35.17           N  \nATOM   1010  CZ  ARG A 133      27.244   0.773  12.113  1.00 37.25           C  \nATOM   1011  NH1 ARG A 133      27.545   0.109  13.219  1.00 39.70           N  \nATOM   1012  NH2 ARG A 133      28.181   1.464  11.480  1.00 39.55           N  \nATOM   1013  N   VAL A 134      22.182  -1.876   9.043  1.00 12.91           N  \nATOM   1014  CA  VAL A 134      22.540  -2.210   7.654  1.00 12.96           C  \nATOM   1015  C   VAL A 134      23.084  -0.982   6.995  1.00 12.61           C  \nATOM   1016  O   VAL A 134      22.608   0.129   7.221  1.00 11.97           O  \nATOM   1017  CB  VAL A 134      21.305  -2.756   6.845  1.00 12.06           C  \nATOM   1018  CG1 VAL A 134      20.112  -1.829   6.944  1.00 13.31           C  \nATOM   1019  CG2 VAL A 134      21.725  -3.061   5.384  1.00 12.39           C  \nATOM   1020  N   GLN A 135      24.114  -1.191   6.170  1.00 11.84           N  \nATOM   1021  CA  GLN A 135      24.572  -0.158   5.228  1.00 11.12           C  \nATOM   1022  C   GLN A 135      24.289  -0.716   3.866  1.00 11.42           C  \nATOM   1023  O   GLN A 135      24.680  -1.862   3.558  1.00 12.71           O  \nATOM   1024  CB  GLN A 135      26.086   0.110   5.346  1.00 11.86           C  \nATOM   1025  CG  GLN A 135      26.399   0.850   6.631  1.00 11.99           C  \nATOM   1026  CD  GLN A 135      27.864   0.923   6.941  1.00 15.51           C  \nATOM   1027  OE1 GLN A 135      28.688   0.363   6.212  1.00 17.56           O  \nATOM   1028  NE2 GLN A 135      28.200   1.637   8.011  1.00 17.38           N  \nATOM   1029  N   VAL A 136      23.583   0.089   3.065  1.00 10.51           N  \nATOM   1030  CA  VAL A 136      23.412  -0.270   1.655  1.00 10.22           C  \nATOM   1031  C   VAL A 136      24.414   0.587   0.880  1.00 10.45           C  \nATOM   1032  O   VAL A 136      24.297   1.823   0.884  1.00 11.81           O  \nATOM   1033  CB  VAL A 136      21.988   0.028   1.175  1.00 10.63           C  \nATOM   1034  CG1 VAL A 136      21.855  -0.304  -0.316  1.00 11.56           C  \nATOM   1035  CG2 VAL A 136      21.066  -0.944   1.920  1.00 11.39           C  \nATOM   1036  N   ILE A 137      25.410  -0.025   0.237  1.00  9.29           N  \nATOM   1037  CA  ILE A 137      26.435   0.766  -0.476  1.00  9.26           C  \nATOM   1038  C   ILE A 137      26.097   0.576  -1.953  1.00  9.73           C  \nATOM   1039  O   ILE A 137      25.981  -0.547  -2.389  1.00 11.17           O  \nATOM   1040  CB  ILE A 137      27.815   0.161  -0.135  1.00 10.17           C  \nATOM   1041  CG1 ILE A 137      28.076   0.224   1.369  1.00 13.01           C  \nATOM   1042  CG2 ILE A 137      28.929   0.908  -0.892  1.00 12.24           C  \nATOM   1043  CD1 ILE A 137      29.027  -0.863   1.855  1.00 15.67           C  \nATOM   1044  N   SER A 138      25.924   1.656  -2.713  1.00 10.35           N  \nATOM   1045  CA  SER A 138      25.430   1.372  -4.067  1.00 10.59           C  \nATOM   1046  C   SER A 138      26.091   2.324  -5.063  1.00 10.49           C  \nATOM   1047  O   SER A 138      26.434   3.480  -4.747  1.00 11.13           O  \nATOM   1048  CB  SER A 138      23.906   1.535  -4.128  1.00 11.33           C  \nATOM   1049  OG  SER A 138      23.431   0.978  -5.364  1.00 11.76           O  \nATOM   1050  N   LYS A 139      26.282   1.795  -6.272  1.00 11.83           N  \nATOM   1051  CA  LYS A 139      26.852   2.592  -7.377  1.00 11.77           C  \nATOM   1052  C   LYS A 139      26.033   2.331  -8.623  1.00 11.53           C  \nATOM   1053  O   LYS A 139      26.058   1.231  -9.196  1.00 11.60           O  \nATOM   1054  CB  LYS A 139      28.299   2.160  -7.636  1.00 11.42           C  \nATOM   1055  CG  LYS A 139      28.970   2.869  -8.863  1.00 13.16           C  \nATOM   1056  CD  LYS A 139      29.260   4.337  -8.571  1.00 11.65           C  \nATOM   1057  CE  LYS A 139      30.021   4.999  -9.718  1.00 12.90           C  \nATOM   1058  NZ  LYS A 139      29.180   5.080 -10.968  1.00 13.92           N  \nATOM   1059  N   SER A 140      25.298   3.357  -9.007  1.00 12.77           N  \nATOM   1060  CA  SER A 140      24.576   3.311 -10.284  1.00 12.20           C  \nATOM   1061  C   SER A 140      25.507   3.928 -11.343  1.00 13.94           C  \nATOM   1062  O   SER A 140      26.323   4.784 -11.020  1.00 13.76           O  \nATOM   1063  CB  SER A 140      23.339   4.164 -10.150  1.00 12.31           C  \nATOM   1064  OG  SER A 140      22.818   4.522 -11.473  1.00 16.30           O  \nATOM   1065  N   ASN A 141      25.373   3.539 -12.620  1.00 14.28           N  \nATOM   1066  CA  ASN A 141      26.179   4.219 -13.636  1.00 15.29           C  \nATOM   1067  C   ASN A 141      25.876   5.715 -13.687  1.00 16.59           C  \nATOM   1068  O   ASN A 141      26.684   6.481 -14.234  1.00 18.54           O  \nATOM   1069  CB  ASN A 141      25.882   3.646 -15.030  1.00 15.40           C  \nATOM   1070  CG  ASN A 141      26.390   2.240 -15.203  1.00 16.22           C  \nATOM   1071  OD1 ASN A 141      27.303   1.803 -14.487  1.00 17.13           O  \nATOM   1072  ND2 ASN A 141      25.842   1.511 -16.171  1.00 15.29           N  \nATOM   1073  N   ASP A 142      24.763   6.132 -13.093  1.00 17.60           N  \nATOM   1074  CA  ASP A 142      24.325   7.522 -13.211  1.00 17.95           C  \nATOM   1075  C   ASP A 142      24.679   8.426 -12.040  1.00 17.82           C  \nATOM   1076  O   ASP A 142      24.252   9.565 -11.993  1.00 18.62           O  \nATOM   1077  CB  ASP A 142      22.829   7.560 -13.477  1.00 20.29           C  \nATOM   1078  CG  ASP A 142      22.469   6.840 -14.784  1.00 26.11           C  \nATOM   1079  OD1 ASP A 142      23.072   7.183 -15.817  1.00 34.44           O  \nATOM   1080  OD2 ASP A 142      21.614   5.935 -14.887  1.00 33.53           O  \nATOM   1081  N   ASP A 143      25.417   7.889 -11.068  1.00 15.65           N  \nATOM   1082  CA  ASP A 143      25.807   8.697  -9.911  1.00 14.48           C  \nATOM   1083  C   ASP A 143      27.077   8.146  -9.299  1.00 14.33           C  \nATOM   1084  O   ASP A 143      27.645   7.156  -9.754  1.00 15.08           O  \nATOM   1085  CB  ASP A 143      24.674   8.641  -8.885  1.00 15.37           C  \nATOM   1086  CG  ASP A 143      24.581   9.868  -7.993  1.00 14.41           C  \nATOM   1087  OD1 ASP A 143      25.488  10.753  -7.985  1.00 16.01           O  \nATOM   1088  OD2 ASP A 143      23.594  10.019  -7.219  1.00 16.07           O  \nATOM   1089  N   GLU A 144      27.556   8.870  -8.297  1.00 13.68           N  \nATOM   1090  CA  GLU A 144      28.674   8.448  -7.466  1.00 14.39           C  \nATOM   1091  C   GLU A 144      28.258   7.333  -6.531  1.00 12.46           C  \nATOM   1092  O   GLU A 144      27.065   7.035  -6.379  1.00 13.58           O  \nATOM   1093  CB  GLU A 144      29.190   9.620  -6.628  1.00 15.81           C  \nATOM   1094  CG  GLU A 144      29.552  10.823  -7.485  1.00 22.32           C  \nATOM   1095  CD  GLU A 144      30.789  10.614  -8.323  1.00 30.85           C  \nATOM   1096  OE1 GLU A 144      31.501   9.603  -8.147  1.00 32.36           O  \nATOM   1097  OE2 GLU A 144      31.083  11.505  -9.160  1.00 38.81           O  \nATOM   1098  N   GLN A 145      29.246   6.714  -5.872  1.00 12.73           N  \nATOM   1099  CA  GLN A 145      28.953   5.645  -4.893  1.00 11.60           C  \nATOM   1100  C   GLN A 145      28.484   6.288  -3.589  1.00 12.06           C  \nATOM   1101  O   GLN A 145      29.123   7.225  -3.105  1.00 12.85           O  \nATOM   1102  CB  GLN A 145      30.227   4.811  -4.637  1.00 10.86           C  \nATOM   1103  CG  GLN A 145      29.994   3.570  -3.770  1.00 10.90           C  \nATOM   1104  CD  GLN A 145      31.125   2.581  -3.915  1.00 12.71           C  \nATOM   1105  OE1 GLN A 145      31.530   2.220  -5.032  1.00 13.38           O  \nATOM   1106  NE2 GLN A 145      31.668   2.135  -2.759  1.00 11.17           N  \nATOM   1107  N   TYR A 146      27.371   5.777  -3.042  1.00 11.72           N  \nATOM   1108  CA  TYR A 146      26.768   6.315  -1.805  1.00 11.47           C  \nATOM   1109  C   TYR A 146      26.498   5.213  -0.797  1.00 10.96           C  \nATOM   1110  O   TYR A 146      26.359   4.049  -1.169  1.00 11.85           O  \nATOM   1111  CB  TYR A 146      25.430   7.045  -2.068  1.00 12.15           C  \nATOM   1112  CG  TYR A 146      25.624   8.444  -2.571  1.00 11.81           C  \nATOM   1113  CD1 TYR A 146      25.717   8.701  -3.943  1.00 13.56           C  \nATOM   1114  CD2 TYR A 146      25.748   9.498  -1.687  1.00 12.17           C  \nATOM   1115  CE1 TYR A 146      25.909   9.997  -4.386  1.00 14.07           C  \nATOM   1116  CE2 TYR A 146      25.889  10.808  -2.148  1.00 14.14           C  \nATOM   1117  CZ  TYR A 146      26.017  11.024  -3.482  1.00 14.57           C  \nATOM   1118  OH  TYR A 146      26.209  12.342  -3.940  1.00 16.70           O  \nATOM   1119  N   ILE A 147      26.404   5.620   0.483  1.00 10.75           N  \nATOM   1120  CA  ILE A 147      26.112   4.666   1.581  1.00 10.85           C  \nATOM   1121  C   ILE A 147      24.825   5.124   2.240  1.00 10.91           C  \nATOM   1122  O   ILE A 147      24.747   6.266   2.699  1.00 12.59           O  \nATOM   1123  CB  ILE A 147      27.201   4.733   2.678  1.00 11.55           C  \nATOM   1124  CG1 ILE A 147      28.568   4.449   2.052  1.00 13.08           C  \nATOM   1125  CG2 ILE A 147      26.865   3.691   3.790  1.00 13.23           C  \nATOM   1126  CD1 ILE A 147      29.722   5.081   2.853  1.00 11.89           C  \nATOM   1127  N   TRP A 148      23.819   4.246   2.266  1.00 10.85           N  \nATOM   1128  CA  TRP A 148      22.567   4.503   2.987  1.00 10.01           C  \nATOM   1129  C   TRP A 148      22.639   3.655   4.251  1.00 12.15           C  \nATOM   1130  O   TRP A 148      23.040   2.485   4.192  1.00 11.80           O  \nATOM   1131  CB  TRP A 148      21.439   4.044   2.061  1.00 11.26           C  \nATOM   1132  CG  TRP A 148      20.035   4.084   2.594  1.00 11.05           C  \nATOM   1133  CD1 TRP A 148      19.079   5.030   2.302  1.00 12.78           C  \nATOM   1134  CD2 TRP A 148      19.389   3.087   3.382  1.00 13.14           C  \nATOM   1135  NE1 TRP A 148      17.879   4.697   2.902  1.00 13.62           N  \nATOM   1136  CE2 TRP A 148      18.030   3.515   3.568  1.00 13.21           C  \nATOM   1137  CE3 TRP A 148      19.809   1.885   3.957  1.00 14.02           C  \nATOM   1138  CZ2 TRP A 148      17.093   2.764   4.324  1.00 14.97           C  \nATOM   1139  CZ3 TRP A 148      18.862   1.108   4.690  1.00 16.27           C  \nATOM   1140  CH2 TRP A 148      17.534   1.570   4.855  1.00 13.95           C  \nATOM   1141  N   GLU A 149      22.316   4.239   5.409  1.00 11.49           N  \nATOM   1142  CA  GLU A 149      22.456   3.448   6.657  1.00 11.80           C  \nATOM   1143  C   GLU A 149      21.238   3.566   7.521  1.00 12.07           C  \nATOM   1144  O   GLU A 149      20.712   4.673   7.697  1.00 13.43           O  \nATOM   1145  CB  GLU A 149      23.679   3.906   7.468  1.00 12.61           C  \nATOM   1146  CG  GLU A 149      23.980   3.014   8.681  1.00 13.31           C  \nATOM   1147  CD  GLU A 149      25.417   3.171   9.238  1.00 17.06           C  \nATOM   1148  OE1 GLU A 149      26.056   4.165   8.978  1.00 19.56           O  \nATOM   1149  OE2 GLU A 149      25.939   2.248   9.887  1.00 24.58           O  \nATOM   1150  N   SER A 150      20.855   2.434   8.107  1.00 11.79           N  \nATOM   1151  CA  SER A 150      19.683   2.397   9.000  1.00 11.73           C  \nATOM   1152  C   SER A 150      19.912   1.456  10.164  1.00 14.43           C  \nATOM   1153  O   SER A 150      20.557   0.428  10.018  1.00 14.24           O  \nATOM   1154  CB  SER A 150      18.456   1.874   8.203  1.00 14.27           C  \nATOM   1155  OG  SER A 150      17.334   1.617   9.059  1.00 15.27           O  \nATOM   1156  N   ASN A 151      19.350   1.824  11.319  1.00 15.32           N  \nATOM   1157  CA  ASN A 151      19.394   0.926  12.469  1.00 16.43           C  \nATOM   1158  C   ASN A 151      17.996   0.614  12.892  1.00 16.72           C  \nATOM   1159  O   ASN A 151      17.713   0.355  14.054  1.00 17.35           O  \nATOM   1160  CB  ASN A 151      20.169   1.632  13.586  1.00 16.64           C  \nATOM   1161  CG  ASN A 151      19.475   2.886  14.043  1.00 18.66           C  \nATOM   1162  OD1 ASN A 151      18.510   3.322  13.434  1.00 19.97           O  \nATOM   1163  ND2 ASN A 151      20.011   3.518  15.076  1.00 27.08           N  \nATOM   1164  N   ALA A 152      17.109   0.568  11.902  1.00 16.13           N  \nATOM   1165  CA  ALA A 152      15.677   0.252  12.091  1.00 16.92           C  \nATOM   1166  C   ALA A 152      14.937   1.362  12.836  1.00 17.67           C  \nATOM   1167  O   ALA A 152      13.762   1.180  13.188  1.00 20.28           O  \nATOM   1168  CB  ALA A 152      15.433  -1.157  12.754  1.00 17.38           C  \nATOM   1169  N   GLY A 153      15.597   2.482  13.078  1.00 18.99           N  \nATOM   1170  CA  GLY A 153      14.950   3.613  13.716  1.00 20.17           C  \nATOM   1171  C   GLY A 153      14.252   4.446  12.658  1.00 20.28           C  \nATOM   1172  O   GLY A 153      14.283   4.097  11.477  1.00 19.83           O  \nATOM   1173  N   GLY A 154      13.691   5.582  13.066  1.00 19.18           N  \nATOM   1174  CA  GLY A 154      12.881   6.401  12.178  1.00 19.18           C  \nATOM   1175  C   GLY A 154      13.606   7.260  11.163  1.00 17.89           C  \nATOM   1176  O   GLY A 154      12.979   7.863  10.295  1.00 18.61           O  \nATOM   1177  N   SER A 155      14.923   7.326  11.281  1.00 18.53           N  \nATOM   1178  CA  SER A 155      15.714   8.147  10.356  1.00 17.74           C  \nATOM   1179  C   SER A 155      16.843   7.321   9.748  1.00 17.16           C  \nATOM   1180  O   SER A 155      17.312   6.335  10.341  1.00 17.80           O  \nATOM   1181  CB  SER A 155      16.301   9.381  11.090  1.00 19.73           C  \nATOM   1182  OG  SER A 155      17.220   8.989  12.096  1.00 26.25           O  \nATOM   1183  N   PHE A 156      17.263   7.707   8.548  1.00 16.50           N  \nATOM   1184  CA  PHE A 156      18.406   7.039   7.922  1.00 14.54           C  \nATOM   1185  C   PHE A 156      19.360   8.113   7.395  1.00 14.23           C  \nATOM   1186  O   PHE A 156      18.989   9.286   7.256  1.00 15.84           O  \nATOM   1187  CB  PHE A 156      17.994   6.121   6.750  1.00 14.53           C  \nATOM   1188  CG  PHE A 156      17.229   6.805   5.645  1.00 14.03           C  \nATOM   1189  CD1 PHE A 156      17.904   7.315   4.530  1.00 14.63           C  \nATOM   1190  CD2 PHE A 156      15.831   6.897   5.681  1.00 15.75           C  \nATOM   1191  CE1 PHE A 156      17.222   7.896   3.458  1.00 14.51           C  \nATOM   1192  CE2 PHE A 156      15.130   7.472   4.614  1.00 15.57           C  \nATOM   1193  CZ  PHE A 156      15.834   7.980   3.480  1.00 16.38           C  \nATOM   1194  N   THR A 157      20.585   7.701   7.092  1.00 13.59           N  \nATOM   1195  CA  THR A 157      21.533   8.657   6.546  1.00 13.39           C  \nATOM   1196  C   THR A 157      21.964   8.215   5.171  1.00 12.77           C  \nATOM   1197  O   THR A 157      21.902   7.038   4.820  1.00 13.77           O  \nATOM   1198  CB  THR A 157      22.788   8.763   7.394  1.00 13.97           C  \nATOM   1199  OG1 THR A 157      23.420   7.478   7.555  1.00 14.77           O  \nATOM   1200  CG2 THR A 157      22.426   9.202   8.843  1.00 15.40           C  \nATOM   1201  N   VAL A 158      22.397   9.198   4.397  1.00 12.76           N  \nATOM   1202  CA  VAL A 158      22.982   8.906   3.100  1.00 13.30           C  \nATOM   1203  C   VAL A 158      24.266   9.727   3.048  1.00 14.50           C  \nATOM   1204  O   VAL A 158      24.234  10.945   3.324  1.00 15.25           O  \nATOM   1205  CB  VAL A 158      22.049   9.336   1.946  1.00 13.60           C  \nATOM   1206  CG1 VAL A 158      22.728   9.077   0.629  1.00 15.90           C  \nATOM   1207  CG2 VAL A 158      20.756   8.524   2.005  1.00 15.19           C  \nATOM   1208  N   THR A 159      25.366   9.082   2.669  1.00 13.56           N  \nATOM   1209  CA  THR A 159      26.714   9.700   2.705  1.00 13.32           C  \nATOM   1210  C   THR A 159      27.468   9.329   1.429  1.00 13.50           C  \nATOM   1211  O   THR A 159      27.459   8.186   0.997  1.00 11.95           O  \nATOM   1212  CB  THR A 159      27.484   9.155   3.914  1.00 14.44           C  \nATOM   1213  OG1 THR A 159      26.725   9.332   5.124  1.00 16.00           O  \nATOM   1214  CG2 THR A 159      28.812   9.900   4.154  1.00 15.59           C  \nATOM   1215  N   LEU A 160      28.080  10.342   0.799  1.00 13.14           N  \nATOM   1216  CA  LEU A 160      28.933  10.052  -0.350  1.00 13.06           C  \nATOM   1217  C   LEU A 160      30.040   9.131   0.158  1.00 13.41           C  \nATOM   1218  O   LEU A 160      30.606   9.347   1.227  1.00 13.08           O  \nATOM   1219  CB  LEU A 160      29.554  11.381  -0.849  1.00 14.42           C  \nATOM   1220  CG  LEU A 160      30.563  11.210  -1.972  1.00 15.27           C  \nATOM   1221  CD1 LEU A 160      29.835  10.755  -3.205  1.00 18.45           C  \nATOM   1222  CD2 LEU A 160      31.192  12.591  -2.210  1.00 20.38           C  \nATOM   1223  N   ASP A 161      30.320   8.068  -0.594  1.00 12.14           N  \nATOM   1224  CA  ASP A 161      31.235   6.991  -0.147  1.00 12.28           C  \nATOM   1225  C   ASP A 161      32.716   7.257  -0.422  1.00 13.61           C  \nATOM   1226  O   ASP A 161      33.150   7.198  -1.570  1.00 14.56           O  \nATOM   1227  CB  ASP A 161      30.827   5.679  -0.806  1.00 12.50           C  \nATOM   1228  CG  ASP A 161      31.481   4.498  -0.172  1.00 11.91           C  \nATOM   1229  OD1 ASP A 161      32.556   4.630   0.447  1.00 12.01           O  \nATOM   1230  OD2 ASP A 161      30.996   3.387  -0.266  1.00 10.42           O  \nATOM   1231  N   GLU A 162      33.467   7.572   0.623  1.00 13.84           N  \nATOM   1232  CA  GLU A 162      34.907   7.713   0.496  1.00 15.60           C  \nATOM   1233  C   GLU A 162      35.595   6.706   1.443  1.00 15.64           C  \nATOM   1234  O   GLU A 162      36.732   6.930   1.856  1.00 15.88           O  \nATOM   1235  CB  GLU A 162      35.338   9.151   0.834  1.00 17.66           C  \nATOM   1236  CG  GLU A 162      34.864  10.215  -0.154  1.00 21.53           C  \nATOM   1237  CD  GLU A 162      35.251  11.639   0.232  1.00 31.70           C  \nATOM   1238  OE1 GLU A 162      36.009  11.812   1.207  1.00 35.33           O  \nATOM   1239  OE2 GLU A 162      34.787  12.572  -0.456  1.00 37.57           O  \nATOM   1240  N   VAL A 163      34.903   5.632   1.807  1.00 13.23           N  \nATOM   1241  CA  VAL A 163      35.465   4.675   2.782  1.00 14.00           C  \nATOM   1242  C   VAL A 163      35.434   3.203   2.403  1.00 12.84           C  \nATOM   1243  O   VAL A 163      36.120   2.385   2.999  1.00 14.20           O  \nATOM   1244  CB  VAL A 163      34.849   4.852   4.184  1.00 13.34           C  \nATOM   1245  CG1 VAL A 163      35.147   6.283   4.697  1.00 15.53           C  \nATOM   1246  CG2 VAL A 163      33.311   4.619   4.158  1.00 15.01           C  \nATOM   1247  N   ASN A 164      34.603   2.831   1.433  1.00 11.93           N  \nATOM   1248  CA  ASN A 164      34.473   1.434   1.041  1.00 11.68           C  \nATOM   1249  C   ASN A 164      35.150   1.095  -0.281  1.00 12.42           C  \nATOM   1250  O   ASN A 164      35.438   2.006  -1.056  1.00 13.46           O  \nATOM   1251  CB  ASN A 164      32.991   1.030   0.979  1.00 11.52           C  \nATOM   1252  CG  ASN A 164      32.303   1.177   2.315  1.00 11.17           C  \nATOM   1253  OD1 ASN A 164      32.755   0.558   3.302  1.00 12.59           O  \nATOM   1254  ND2 ASN A 164      31.279   2.001   2.390  1.00 11.10           N  \nATOM   1255  N   GLU A 165      35.378  -0.185  -0.535  1.00 12.65           N  \nATOM   1256  CA  GLU A 165      35.922  -0.564  -1.852  1.00 14.49           C  \nATOM   1257  C   GLU A 165      35.026  -0.022  -2.962  1.00 14.69           C  \nATOM   1258  O   GLU A 165      33.784   0.100  -2.815  1.00 14.56           O  \nATOM   1259  CB  GLU A 165      36.016  -2.086  -1.955  1.00 14.62           C  \nATOM   1260  CG  GLU A 165      34.661  -2.790  -1.895  1.00 19.09           C  \nATOM   1261  CD  GLU A 165      34.767  -4.294  -2.020  1.00 26.46           C  \nATOM   1262  OE1 GLU A 165      35.596  -4.782  -2.843  1.00 27.35           O  \nATOM   1263  OE2 GLU A 165      34.048  -4.982  -1.257  1.00 30.42           O  \nATOM   1264  N   ARG A 166      35.611   0.358  -4.092  1.00 13.76           N  \nATOM   1265  CA  ARG A 166      34.794   0.756  -5.214  1.00 15.12           C  \nATOM   1266  C   ARG A 166      34.056  -0.443  -5.771  1.00 16.22           C  \nATOM   1267  O   ARG A 166      34.653  -1.516  -5.983  1.00 17.84           O  \nATOM   1268  CB  ARG A 166      35.672   1.287  -6.333  1.00 14.19           C  \nATOM   1269  CG  ARG A 166      36.437   2.527  -5.932  1.00 14.02           C  \nATOM   1270  CD  ARG A 166      35.583   3.665  -5.486  1.00 13.32           C  \nATOM   1271  NE  ARG A 166      35.368   3.615  -4.015  1.00 13.41           N  \nATOM   1272  CZ  ARG A 166      34.675   4.532  -3.350  1.00 14.51           C  \nATOM   1273  NH1 ARG A 166      34.109   5.520  -4.025  1.00 16.27           N  \nATOM   1274  NH2 ARG A 166      34.533   4.453  -2.013  1.00 15.62           N  \nATOM   1275  N   ILE A 167      32.768  -0.233  -6.044  1.00 15.59           N  \nATOM   1276  CA  ILE A 167      31.904  -1.211  -6.672  1.00 17.51           C  \nATOM   1277  C   ILE A 167      31.998  -0.699  -8.152  1.00 18.10           C  \nATOM   1278  O   ILE A 167      31.987   0.463  -8.412  1.00 20.54           O  \nATOM   1279  CB  ILE A 167      30.436  -0.982  -6.119  1.00 16.99           C  \nATOM   1280  CG1 ILE A 167      30.342  -1.274  -4.624  1.00 22.57           C  \nATOM   1281  CG2 ILE A 167      29.406  -1.786  -6.911  1.00 20.53           C  \nATOM   1282  CD1 ILE A 167      28.890  -1.036  -4.085  1.00 22.86           C  \nATOM   1283  N   GLY A 168      32.081  -1.548  -9.109  1.00 19.91           N  \nATOM   1284  CA  GLY A 168      32.107  -1.014 -10.448  1.00 16.64           C  \nATOM   1285  C   GLY A 168      30.708  -0.523 -10.758  1.00 16.02           C  \nATOM   1286  O   GLY A 168      30.507   0.574 -11.328  1.00 15.28           O  \nATOM   1287  N   ARG A 169      29.754  -1.385 -10.416  1.00 13.71           N  \nATOM   1288  CA  ARG A 169      28.323  -1.048 -10.529  1.00 12.75           C  \nATOM   1289  C   ARG A 169      27.601  -2.080  -9.695  1.00 13.29           C  \nATOM   1290  O   ARG A 169      27.993  -3.244  -9.685  1.00 14.68           O  \nATOM   1291  CB  ARG A 169      27.850  -1.254 -11.992  1.00 12.87           C  \nATOM   1292  CG  ARG A 169      26.416  -0.855 -12.240  1.00 12.66           C  \nATOM   1293  CD  ARG A 169      25.813  -1.448 -13.586  1.00 12.67           C  \nATOM   1294  NE  ARG A 169      25.899  -2.917 -13.623  1.00 12.81           N  \nATOM   1295  CZ  ARG A 169      26.759  -3.606 -14.391  1.00 13.50           C  \nATOM   1296  NH1 ARG A 169      27.574  -2.946 -15.201  1.00 15.22           N  \nATOM   1297  NH2 ARG A 169      26.787  -4.939 -14.358  1.00 14.88           N  \nATOM   1298  N   GLY A 170      26.533  -1.645  -8.999  1.00 11.60           N  \nATOM   1299  CA  GLY A 170      25.748  -2.580  -8.211  1.00 11.81           C  \nATOM   1300  C   GLY A 170      25.575  -2.142  -6.784  1.00 11.08           C  \nATOM   1301  O   GLY A 170      25.657  -0.960  -6.457  1.00 12.69           O  \nATOM   1302  N   THR A 171      25.315  -3.129  -5.929  1.00 10.25           N  \nATOM   1303  CA  THR A 171      24.936  -2.776  -4.565  1.00 11.12           C  \nATOM   1304  C   THR A 171      25.505  -3.827  -3.617  1.00 11.28           C  \nATOM   1305  O   THR A 171      25.513  -5.023  -3.915  1.00 12.20           O  \nATOM   1306  CB  THR A 171      23.393  -2.853  -4.494  1.00 12.08           C  \nATOM   1307  OG1 THR A 171      22.816  -1.800  -5.313  1.00 11.85           O  \nATOM   1308  CG2 THR A 171      22.878  -2.566  -3.082  1.00 13.21           C  \nATOM   1309  N   ILE A 172      25.927  -3.354  -2.439  1.00 10.31           N  \nATOM   1310  CA  ILE A 172      26.300  -4.243  -1.335  1.00 10.95           C  \nATOM   1311  C   ILE A 172      25.370  -3.966  -0.173  1.00 10.69           C  \nATOM   1312  O   ILE A 172      25.225  -2.813   0.247  1.00 11.91           O  \nATOM   1313  CB  ILE A 172      27.700  -3.917  -0.848  1.00 11.22           C  \nATOM   1314  CG1 ILE A 172      28.695  -4.250  -1.965  1.00 11.78           C  \nATOM   1315  CG2 ILE A 172      28.044  -4.796   0.398  1.00 12.79           C  \nATOM   1316  CD1 ILE A 172      30.176  -3.871  -1.634  1.00 15.37           C  \nATOM   1317  N   LEU A 173      24.756  -5.009   0.356  1.00 10.88           N  \nATOM   1318  CA  LEU A 173      24.007  -4.907   1.585  1.00 11.32           C  \nATOM   1319  C   LEU A 173      24.973  -5.427   2.638  1.00 10.85           C  \nATOM   1320  O   LEU A 173      25.332  -6.609   2.619  1.00 12.64           O  \nATOM   1321  CB  LEU A 173      22.755  -5.791   1.531  1.00 11.03           C  \nATOM   1322  CG  LEU A 173      21.487  -4.991   1.193  1.00 12.32           C  \nATOM   1323  CD1 LEU A 173      21.559  -4.418  -0.201  1.00 14.11           C  \nATOM   1324  CD2 LEU A 173      20.321  -5.971   1.309  1.00 13.62           C  \nATOM   1325  N   ARG A 174      25.363  -4.547   3.554  1.00 10.22           N  \nATOM   1326  CA  ARG A 174      26.299  -4.924   4.608  1.00 11.54           C  \nATOM   1327  C   ARG A 174      25.463  -5.038   5.887  1.00 10.89           C  \nATOM   1328  O   ARG A 174      25.007  -4.024   6.438  1.00 11.44           O  \nATOM   1329  CB  ARG A 174      27.417  -3.877   4.718  1.00 10.94           C  \nATOM   1330  CG  ARG A 174      28.383  -4.128   5.942  1.00 11.31           C  \nATOM   1331  CD  ARG A 174      29.438  -3.065   6.014  1.00 11.90           C  \nATOM   1332  NE  ARG A 174      30.352  -3.153   4.857  1.00 11.17           N  \nATOM   1333  CZ  ARG A 174      31.107  -2.146   4.433  1.00 11.79           C  \nATOM   1334  NH1 ARG A 174      30.986  -0.933   5.000  1.00 13.28           N  \nATOM   1335  NH2 ARG A 174      31.974  -2.390   3.420  1.00 11.72           N  \nATOM   1336  N   LEU A 175      25.268  -6.281   6.338  1.00 11.00           N  \nATOM   1337  CA  LEU A 175      24.378  -6.575   7.475  1.00 11.72           C  \nATOM   1338  C   LEU A 175      25.256  -6.706   8.709  1.00 11.91           C  \nATOM   1339  O   LEU A 175      26.235  -7.463   8.701  1.00 13.39           O  \nATOM   1340  CB  LEU A 175      23.653  -7.907   7.267  1.00 12.19           C  \nATOM   1341  CG  LEU A 175      22.823  -8.055   5.996  1.00 15.78           C  \nATOM   1342  CD1 LEU A 175      21.923  -9.283   6.271  1.00 16.90           C  \nATOM   1343  CD2 LEU A 175      21.992  -6.894   5.638  1.00 17.48           C  \nATOM   1344  N   PHE A 176      24.916  -5.927   9.736  1.00 12.89           N  \nATOM   1345  CA  PHE A 176      25.616  -6.076  11.026  1.00 13.38           C  \nATOM   1346  C   PHE A 176      24.753  -6.999  11.838  1.00 14.40           C  \nATOM   1347  O   PHE A 176      23.688  -6.629  12.339  1.00 14.72           O  \nATOM   1348  CB  PHE A 176      25.786  -4.719  11.687  1.00 14.28           C  \nATOM   1349  CG  PHE A 176      26.679  -3.787  10.905  1.00 15.59           C  \nATOM   1350  CD1 PHE A 176      26.176  -3.064   9.849  1.00 13.59           C  \nATOM   1351  CD2 PHE A 176      28.021  -3.643  11.241  1.00 16.41           C  \nATOM   1352  CE1 PHE A 176      27.004  -2.238   9.106  1.00 15.77           C  \nATOM   1353  CE2 PHE A 176      28.869  -2.805  10.525  1.00 18.31           C  \nATOM   1354  CZ  PHE A 176      28.342  -2.077   9.447  1.00 15.80           C  \nATOM   1355  N   LEU A 177      25.203  -8.238  11.920  1.00 14.60           N  \nATOM   1356  CA  LEU A 177      24.423  -9.300  12.531  1.00 14.77           C  \nATOM   1357  C   LEU A 177      24.225  -9.138  14.033  1.00 15.75           C  \nATOM   1358  O   LEU A 177      25.103  -8.676  14.760  1.00 16.26           O  \nATOM   1359  CB  LEU A 177      25.099 -10.631  12.234  1.00 15.17           C  \nATOM   1360  CG  LEU A 177      25.171 -11.070  10.771  1.00 15.43           C  \nATOM   1361  CD1 LEU A 177      25.866 -12.458  10.708  1.00 19.53           C  \nATOM   1362  CD2 LEU A 177      23.823 -11.186  10.067  1.00 16.38           C  \nATOM   1363  N   LYS A 178      23.037  -9.540  14.459  1.00 16.17           N  \nATOM   1364  CA  LYS A 178      22.733  -9.594  15.912  1.00 18.03           C  \nATOM   1365  C   LYS A 178      23.618 -10.647  16.571  1.00 19.55           C  \nATOM   1366  O   LYS A 178      23.992 -11.614  15.945  1.00 19.64           O  \nATOM   1367  CB  LYS A 178      21.282  -9.978  16.107  1.00 18.01           C  \nATOM   1368  CG  LYS A 178      20.278  -8.938  15.624  1.00 17.30           C  \nATOM   1369  CD  LYS A 178      18.885  -9.556  15.559  1.00 15.68           C  \nATOM   1370  CE  LYS A 178      17.796  -8.529  15.399  1.00 18.54           C  \nATOM   1371  NZ  LYS A 178      16.381  -9.113  15.295  1.00 17.82           N  \nATOM   1372  N   ASP A 179      23.871 -10.481  17.862  1.00 22.26           N  \nATOM   1373  CA  ASP A 179      24.811 -11.372  18.561  1.00 25.69           C  \nATOM   1374  C   ASP A 179      24.383 -12.833  18.593  1.00 26.32           C  \nATOM   1375  O   ASP A 179      25.235 -13.734  18.717  1.00 26.73           O  \nATOM   1376  CB  ASP A 179      25.031 -10.873  19.988  1.00 26.97           C  \nATOM   1377  CG  ASP A 179      26.019  -9.756  20.060  1.00 32.62           C  \nATOM   1378  OD1 ASP A 179      26.803  -9.622  19.099  1.00 34.82           O  \nATOM   1379  OD2 ASP A 179      26.091  -8.966  21.023  1.00 38.46           O  \nATOM   1380  N   ASP A 180      23.088 -13.095  18.464  1.00 26.82           N  \nATOM   1381  CA  ASP A 180      22.637 -14.471  18.489  1.00 27.71           C  \nATOM   1382  C   ASP A 180      22.365 -15.026  17.105  1.00 26.39           C  \nATOM   1383  O   ASP A 180      21.808 -16.111  16.951  1.00 25.25           O  \nATOM   1384  CB  ASP A 180      21.413 -14.618  19.394  1.00 29.28           C  \nATOM   1385  CG  ASP A 180      20.174 -14.010  18.804  1.00 33.69           C  \nATOM   1386  OD1 ASP A 180      20.268 -12.943  18.160  1.00 34.86           O  \nATOM   1387  OD2 ASP A 180      19.044 -14.525  18.948  1.00 40.63           O  \nATOM   1388  N   GLN A 181      22.789 -14.294  16.066  1.00 24.20           N  \nATOM   1389  CA  GLN A 181      22.552 -14.768  14.727  1.00 24.10           C  \nATOM   1390  C   GLN A 181      23.860 -14.949  13.965  1.00 24.09           C  \nATOM   1391  O   GLN A 181      23.862 -14.929  12.738  1.00 24.15           O  \nATOM   1392  CB  GLN A 181      21.621 -13.794  13.957  1.00 22.71           C  \nATOM   1393  CG  GLN A 181      20.299 -13.572  14.629  1.00 24.69           C  \nATOM   1394  CD  GLN A 181      19.468 -14.827  14.708  1.00 24.79           C  \nATOM   1395  OE1 GLN A 181      19.446 -15.638  13.789  1.00 25.92           O  \nATOM   1396  NE2 GLN A 181      18.741 -14.970  15.820  1.00 27.75           N  \nATOM   1397  N   LEU A 182      24.950 -15.203  14.688  1.00 24.19           N  \nATOM   1398  CA  LEU A 182      26.232 -15.342  14.021  1.00 23.90           C  \nATOM   1399  C   LEU A 182      26.367 -16.613  13.204  1.00 23.75           C  \nATOM   1400  O   LEU A 182      27.361 -16.808  12.512  1.00 23.12           O  \nATOM   1401  CB  LEU A 182      27.382 -15.186  15.012  1.00 24.53           C  \nATOM   1402  CG  LEU A 182      27.338 -13.899  15.822  1.00 25.60           C  \nATOM   1403  CD1 LEU A 182      28.549 -13.788  16.696  1.00 26.28           C  \nATOM   1404  CD2 LEU A 182      27.270 -12.683  14.827  1.00 26.82           C  \nATOM   1405  N   GLU A 183      25.369 -17.493  13.246  1.00 22.60           N  \nATOM   1406  CA  GLU A 183      25.490 -18.695  12.437  1.00 21.74           C  \nATOM   1407  C   GLU A 183      25.550 -18.346  10.951  1.00 21.94           C  \nATOM   1408  O   GLU A 183      25.972 -19.138  10.116  1.00 20.97           O  \nATOM   1409  CB  GLU A 183      24.284 -19.631  12.687  1.00 22.81           C  \nATOM   1410  CG  GLU A 183      22.952 -19.030  12.254  1.00 22.91           C  \nATOM   1411  CD  GLU A 183      21.726 -19.856  12.736  1.00 22.62           C  \nATOM   1412  OE1 GLU A 183      21.387 -19.653  13.921  1.00 27.68           O  \nATOM   1413  OE2 GLU A 183      21.136 -20.627  11.951  1.00 25.34           O  \nATOM   1414  N   TYR A 184      25.049 -17.158  10.616  1.00 20.91           N  \nATOM   1415  CA  TYR A 184      25.007 -16.803   9.208  1.00 21.03           C  \nATOM   1416  C   TYR A 184      26.342 -16.333   8.692  1.00 22.08           C  \nATOM   1417  O   TYR A 184      26.411 -15.858   7.557  1.00 22.28           O  \nATOM   1418  CB  TYR A 184      23.883 -15.778   8.920  1.00 19.57           C  \nATOM   1419  CG  TYR A 184      22.557 -16.401   9.264  1.00 18.59           C  \nATOM   1420  CD1 TYR A 184      21.855 -16.011  10.402  1.00 19.58           C  \nATOM   1421  CD2 TYR A 184      22.051 -17.436   8.500  1.00 17.34           C  \nATOM   1422  CE1 TYR A 184      20.643 -16.674  10.768  1.00 19.52           C  \nATOM   1423  CE2 TYR A 184      20.863 -18.093   8.828  1.00 19.74           C  \nATOM   1424  CZ  TYR A 184      20.156 -17.689   9.972  1.00 21.83           C  \nATOM   1425  OH  TYR A 184      18.989 -18.366  10.311  1.00 21.51           O  \nATOM   1426  N   LEU A 185      27.370 -16.428   9.522  1.00 21.86           N  \nATOM   1427  CA  LEU A 185      28.764 -16.187   9.101  1.00 22.26           C  \nATOM   1428  C   LEU A 185      29.407 -17.489   8.659  1.00 24.03           C  \nATOM   1429  O   LEU A 185      30.464 -17.500   8.037  1.00 24.03           O  \nATOM   1430  CB  LEU A 185      29.597 -15.607  10.242  1.00 23.19           C  \nATOM   1431  CG  LEU A 185      29.202 -14.242  10.801  1.00 22.47           C  \nATOM   1432  CD1 LEU A 185      29.972 -13.928  12.078  1.00 24.83           C  \nATOM   1433  CD2 LEU A 185      29.417 -13.144   9.753  1.00 23.98           C  \nATOM   1434  N   GLU A 186      28.779 -18.605   8.998  1.00 23.84           N  \nATOM   1435  CA  GLU A 186      29.375 -19.906   8.679  1.00 24.98           C  \nATOM   1436  C   GLU A 186      29.098 -20.443   7.268  1.00 23.62           C  \nATOM   1437  O   GLU A 186      27.959 -20.513   6.776  1.00 23.62           O  \nATOM   1438  CB  GLU A 186      28.893 -20.924   9.718  1.00 24.45           C  \nATOM   1439  CG  GLU A 186      29.200 -20.572  11.159  1.00 29.99           C  \nATOM   1440  CD  GLU A 186      28.417 -21.465  12.118  1.00 35.36           C  \nATOM   1441  OE1 GLU A 186      27.623 -22.327  11.661  1.00 37.91           O  \nATOM   1442  OE2 GLU A 186      28.605 -21.289  13.336  1.00 40.41           O  \nATOM   1443  N   GLU A 187      30.157 -20.911   6.606  1.00 24.73           N  \nATOM   1444  CA  GLU A 187      30.053 -21.429   5.264  1.00 23.89           C  \nATOM   1445  C   GLU A 187      28.987 -22.493   5.056  1.00 24.37           C  \nATOM   1446  O   GLU A 187      28.227 -22.447   4.110  1.00 24.09           O  \nATOM   1447  CB  GLU A 187      31.430 -22.006   4.829  1.00 24.81           C  \nATOM   1448  CG  GLU A 187      31.413 -22.699   3.486  1.00 26.69           C  \nATOM   1449  CD  GLU A 187      32.790 -23.256   3.073  1.00 24.13           C  \nATOM   1450  OE1 GLU A 187      33.662 -23.355   3.965  1.00 30.45           O  \nATOM   1451  OE2 GLU A 187      32.978 -23.572   1.881  1.00 28.81           O  \nATOM   1452  N   LYS A 188      28.968 -23.485   5.936  1.00 24.97           N  \nATOM   1453  CA  LYS A 188      28.039 -24.587   5.769  1.00 25.73           C  \nATOM   1454  C   LYS A 188      26.578 -24.114   5.898  1.00 24.13           C  \nATOM   1455  O   LYS A 188      25.727 -24.483   5.089  1.00 25.46           O  \nATOM   1456  CB  LYS A 188      28.363 -25.679   6.795  1.00 26.22           C  \nATOM   1457  CG  LYS A 188      27.519 -26.921   6.673  1.00 30.35           C  \nATOM   1458  N   ARG A 189      26.344 -23.246   6.872  1.00 24.94           N  \nATOM   1459  CA  ARG A 189      25.009 -22.692   7.104  1.00 24.59           C  \nATOM   1460  C   ARG A 189      24.530 -21.875   5.902  1.00 24.04           C  \nATOM   1461  O   ARG A 189      23.431 -22.067   5.378  1.00 24.27           O  \nATOM   1462  CB  ARG A 189      25.006 -21.834   8.356  1.00 24.34           C  \nATOM   1463  CG  ARG A 189      23.608 -21.322   8.694  1.00 23.56           C  \nATOM   1464  CD  ARG A 189      22.629 -22.427   9.164  1.00 25.79           C  \nATOM   1465  NE  ARG A 189      21.376 -21.808   9.644  1.00 23.93           N  \nATOM   1466  CZ  ARG A 189      20.168 -22.072   9.180  1.00 24.40           C  \nATOM   1467  NH1 ARG A 189      19.967 -22.969   8.221  1.00 26.80           N  \nATOM   1468  NH2 ARG A 189      19.132 -21.410   9.698  1.00 25.67           N  \nATOM   1469  N   ILE A 190      25.385 -20.968   5.434  1.00 24.14           N  \nATOM   1470  CA  ILE A 190      25.010 -20.194   4.249  1.00 23.19           C  \nATOM   1471  C   ILE A 190      24.672 -21.042   3.042  1.00 23.92           C  \nATOM   1472  O   ILE A 190      23.657 -20.851   2.393  1.00 22.40           O  \nATOM   1473  CB  ILE A 190      26.137 -19.188   3.884  1.00 23.13           C  \nATOM   1474  CG1 ILE A 190      26.387 -18.211   5.016  1.00 23.83           C  \nATOM   1475  CG2 ILE A 190      25.834 -18.506   2.535  1.00 22.53           C  \nATOM   1476  CD1 ILE A 190      27.700 -17.469   4.845  1.00 24.47           C  \nATOM   1477  N   LYS A 191      25.509 -22.046   2.723  1.00 24.16           N  \nATOM   1478  CA  LYS A 191      25.239 -22.839   1.552  1.00 25.09           C  \nATOM   1479  C   LYS A 191      23.919 -23.593   1.723  1.00 24.29           C  \nATOM   1480  O   LYS A 191      23.192 -23.820   0.752  1.00 24.93           O  \nATOM   1481  CB  LYS A 191      26.330 -23.920   1.353  1.00 24.97           C  \nATOM   1482  CG  LYS A 191      27.699 -23.336   1.042  1.00 28.60           C  \nATOM   1483  CD  LYS A 191      28.682 -24.431   0.591  1.00 35.41           C  \nATOM   1484  CE  LYS A 191      29.954 -23.737   0.171  1.00 39.40           C  \nATOM   1485  NZ  LYS A 191      31.007 -24.749  -0.092  1.00 45.73           N  \nATOM   1486  N   GLU A 192      23.634 -24.021   2.954  1.00 25.29           N  \nATOM   1487  CA  GLU A 192      22.424 -24.776   3.232  1.00 26.36           C  \nATOM   1488  C   GLU A 192      21.184 -23.917   3.007  1.00 25.26           C  \nATOM   1489  O   GLU A 192      20.188 -24.365   2.427  1.00 25.34           O  \nATOM   1490  CB  GLU A 192      22.462 -25.289   4.670  1.00 26.92           C  \nATOM   1491  CG  GLU A 192      21.098 -25.705   5.169  1.00 34.28           C  \nATOM   1492  CD  GLU A 192      21.158 -26.290   6.550  1.00 42.57           C  \nATOM   1493  OE1 GLU A 192      22.291 -26.373   7.108  1.00 47.52           O  \nATOM   1494  OE2 GLU A 192      20.074 -26.686   7.048  1.00 47.47           O  \nATOM   1495  N   VAL A 193      21.271 -22.659   3.435  1.00 24.16           N  \nATOM   1496  CA  VAL A 193      20.135 -21.741   3.257  1.00 23.42           C  \nATOM   1497  C   VAL A 193      19.855 -21.405   1.791  1.00 23.67           C  \nATOM   1498  O   VAL A 193      18.701 -21.387   1.361  1.00 23.95           O  \nATOM   1499  CB  VAL A 193      20.322 -20.475   4.141  1.00 23.01           C  \nATOM   1500  CG1 VAL A 193      19.213 -19.446   3.923  1.00 22.68           C  \nATOM   1501  CG2 VAL A 193      20.388 -20.877   5.612  1.00 22.76           C  \nATOM   1502  N   ILE A 194      20.917 -21.169   1.028  1.00 24.02           N  \nATOM   1503  CA  ILE A 194      20.809 -20.862  -0.398  1.00 26.36           C  \nATOM   1504  C   ILE A 194      20.224 -22.003  -1.163  1.00 26.80           C  \nATOM   1505  O   ILE A 194      19.315 -21.841  -1.947  1.00 27.19           O  \nATOM   1506  CB  ILE A 194      22.230 -20.559  -0.979  1.00 26.21           C  \nATOM   1507  CG1 ILE A 194      22.781 -19.267  -0.392  1.00 28.15           C  \nATOM   1508  CG2 ILE A 194      22.195 -20.516  -2.495  1.00 26.98           C  \nATOM   1509  CD1 ILE A 194      24.237 -19.040  -0.752  1.00 28.63           C  \nATOM   1510  N   LYS A 195      20.740 -23.205  -0.905  1.00 28.45           N  \nATOM   1511  CA  LYS A 195      20.309 -24.360  -1.661  1.00 29.81           C  \nATOM   1512  C   LYS A 195      18.847 -24.618  -1.424  1.00 29.82           C  \nATOM   1513  O   LYS A 195      18.135 -25.065  -2.305  1.00 31.00           O  \nATOM   1514  CB  LYS A 195      21.129 -25.609  -1.286  1.00 29.69           C  \nATOM   1515  CG  LYS A 195      22.578 -25.578  -1.770  1.00 32.97           C  \nATOM   1516  CD  LYS A 195      23.380 -26.742  -1.178  1.00 37.32           C  \nATOM   1517  N   ARG A 196      18.385 -24.267  -0.232  1.00 30.12           N  \nATOM   1518  CA  ARG A 196      17.006 -24.529   0.141  1.00 30.52           C  \nATOM   1519  C   ARG A 196      15.973 -23.621  -0.514  1.00 31.15           C  \nATOM   1520  O   ARG A 196      14.962 -24.078  -1.040  1.00 31.18           O  \nATOM   1521  CB  ARG A 196      16.852 -24.444   1.662  1.00 30.84           C  \nATOM   1522  N   HIS A 197      16.213 -22.320  -0.472  1.00 31.30           N  \nATOM   1523  CA  HIS A 197      15.170 -21.381  -0.865  1.00 32.02           C  \nATOM   1524  C   HIS A 197      15.467 -20.595  -2.109  1.00 31.68           C  \nATOM   1525  O   HIS A 197      14.626 -19.822  -2.533  1.00 33.03           O  \nATOM   1526  CB  HIS A 197      14.874 -20.378   0.267  1.00 32.30           C  \nATOM   1527  CG  HIS A 197      14.333 -20.999   1.516  1.00 34.55           C  \nATOM   1528  ND1 HIS A 197      13.022 -21.410   1.637  1.00 35.22           N  \nATOM   1529  CD2 HIS A 197      14.925 -21.278   2.702  1.00 36.14           C  \nATOM   1530  CE1 HIS A 197      12.831 -21.923   2.840  1.00 36.60           C  \nATOM   1531  NE2 HIS A 197      13.970 -21.860   3.505  1.00 36.96           N  \nATOM   1532  N   SER A 198      16.639 -20.770  -2.711  1.00 31.20           N  \nATOM   1533  CA  SER A 198      16.951 -20.003  -3.917  1.00 30.12           C  \nATOM   1534  C   SER A 198      17.495 -20.879  -5.031  1.00 31.02           C  \nATOM   1535  O   SER A 198      18.578 -20.606  -5.497  1.00 31.93           O  \nATOM   1536  CB  SER A 198      18.002 -18.890  -3.621  1.00 29.93           C  \nATOM   1537  OG  SER A 198      17.649 -18.037  -2.528  1.00 26.42           O  \nATOM   1538  N   GLU A 199      16.734 -21.883  -5.502  1.00 30.63           N  \nATOM   1539  CA  GLU A 199      17.214 -22.832  -6.546  1.00 30.48           C  \nATOM   1540  C   GLU A 199      17.195 -22.336  -8.020  1.00 29.62           C  \nATOM   1541  O   GLU A 199      17.976 -22.780  -8.886  1.00 31.63           O  \nATOM   1542  CB  GLU A 199      16.366 -24.121  -6.487  1.00 31.88           C  \nATOM   1543  CG  GLU A 199      16.629 -25.095  -7.643  1.00 34.43           C  \nATOM   1544  CD  GLU A 199      15.748 -26.356  -7.634  1.00 39.72           C  \nATOM   1545  OE1 GLU A 199      14.844 -26.482  -6.777  1.00 42.24           O  \nATOM   1546  OE2 GLU A 199      15.955 -27.232  -8.507  1.00 42.99           O  \nATOM   1547  N   PHE A 200      16.284 -21.437  -8.317  1.00 26.88           N  \nATOM   1548  CA  PHE A 200      16.134 -20.992  -9.694  1.00 23.59           C  \nATOM   1549  C   PHE A 200      16.568 -19.563  -9.844  1.00 22.93           C  \nATOM   1550  O   PHE A 200      15.766 -18.696 -10.127  1.00 23.77           O  \nATOM   1551  CB  PHE A 200      14.660 -21.137 -10.081  1.00 23.63           C  \nATOM   1552  CG  PHE A 200      14.217 -22.567 -10.135  1.00 22.76           C  \nATOM   1553  CD1 PHE A 200      13.454 -23.104  -9.134  1.00 23.96           C  \nATOM   1554  CD2 PHE A 200      14.618 -23.384 -11.182  1.00 24.90           C  \nATOM   1555  CE1 PHE A 200      13.069 -24.460  -9.192  1.00 25.09           C  \nATOM   1556  CE2 PHE A 200      14.240 -24.716 -11.235  1.00 26.56           C  \nATOM   1557  CZ  PHE A 200      13.465 -25.241 -10.249  1.00 25.49           C  \nATOM   1558  N   VAL A 201      17.860 -19.337  -9.700  1.00 21.72           N  \nATOM   1559  CA  VAL A 201      18.432 -18.003  -9.837  1.00 22.07           C  \nATOM   1560  C   VAL A 201      19.265 -18.052 -11.097  1.00 22.48           C  \nATOM   1561  O   VAL A 201      20.046 -18.978 -11.283  1.00 23.25           O  \nATOM   1562  CB  VAL A 201      19.287 -17.682  -8.578  1.00 22.22           C  \nATOM   1563  CG1 VAL A 201      20.004 -16.346  -8.707  1.00 21.83           C  \nATOM   1564  CG2 VAL A 201      18.408 -17.689  -7.341  1.00 22.06           C  \nATOM   1565  N   ALA A 202      19.106 -17.074 -11.972  1.00 20.94           N  \nATOM   1566  CA  ALA A 202      19.748 -17.091 -13.278  1.00 21.82           C  \nATOM   1567  C   ALA A 202      21.225 -16.709 -13.245  1.00 22.43           C  \nATOM   1568  O   ALA A 202      21.946 -16.934 -14.216  1.00 24.86           O  \nATOM   1569  CB  ALA A 202      18.992 -16.198 -14.251  1.00 21.73           C  \nATOM   1570  N   TYR A 203      21.686 -16.186 -12.110  1.00 20.88           N  \nATOM   1571  CA  TYR A 203      23.050 -15.656 -11.979  1.00 19.83           C  \nATOM   1572  C   TYR A 203      23.854 -16.507 -11.027  1.00 18.78           C  \nATOM   1573  O   TYR A 203      23.291 -17.098 -10.134  1.00 19.67           O  \nATOM   1574  CB  TYR A 203      22.945 -14.230 -11.410  1.00 19.91           C  \nATOM   1575  CG  TYR A 203      22.028 -13.380 -12.257  1.00 17.36           C  \nATOM   1576  CD1 TYR A 203      20.700 -13.152 -11.894  1.00 15.52           C  \nATOM   1577  CD2 TYR A 203      22.465 -12.864 -13.463  1.00 17.57           C  \nATOM   1578  CE1 TYR A 203      19.858 -12.405 -12.692  1.00 16.81           C  \nATOM   1579  CE2 TYR A 203      21.652 -12.163 -14.274  1.00 18.19           C  \nATOM   1580  CZ  TYR A 203      20.319 -11.887 -13.884  1.00 15.49           C  \nATOM   1581  OH  TYR A 203      19.496 -11.146 -14.692  1.00 18.93           O  \nATOM   1582  N   PRO A 204      25.181 -16.554 -11.169  1.00 18.13           N  \nATOM   1583  CA  PRO A 204      26.001 -17.326 -10.245  1.00 17.89           C  \nATOM   1584  C   PRO A 204      25.905 -16.718  -8.864  1.00 17.11           C  \nATOM   1585  O   PRO A 204      25.905 -15.480  -8.771  1.00 18.55           O  \nATOM   1586  CB  PRO A 204      27.440 -17.120 -10.766  1.00 19.77           C  \nATOM   1587  CG  PRO A 204      27.373 -16.070 -11.818  1.00 20.03           C  \nATOM   1588  CD  PRO A 204      25.961 -15.878 -12.211  1.00 17.78           C  \nATOM   1589  N   ILE A 205      25.792 -17.566  -7.855  1.00 17.36           N  \nATOM   1590  CA  ILE A 205      25.810 -17.109  -6.472  1.00 16.75           C  \nATOM   1591  C   ILE A 205      27.160 -17.562  -5.917  1.00 18.22           C  \nATOM   1592  O   ILE A 205      27.458 -18.775  -5.829  1.00 19.73           O  \nATOM   1593  CB  ILE A 205      24.634 -17.685  -5.663  1.00 17.09           C  \nATOM   1594  CG1 ILE A 205      23.309 -17.189  -6.240  1.00 18.02           C  \nATOM   1595  CG2 ILE A 205      24.783 -17.265  -4.190  1.00 19.57           C  \nATOM   1596  CD1 ILE A 205      22.083 -17.827  -5.600  1.00 17.84           C  \nATOM   1597  N   GLN A 206      28.023 -16.594  -5.648  1.00 16.15           N  \nATOM   1598  CA  GLN A 206      29.388 -16.853  -5.190  1.00 15.78           C  \nATOM   1599  C   GLN A 206      29.480 -16.696  -3.696  1.00 17.50           C  \nATOM   1600  O   GLN A 206      28.876 -15.790  -3.120  1.00 18.41           O  \nATOM   1601  CB  GLN A 206      30.333 -15.850  -5.867  1.00 15.65           C  \nATOM   1602  CG  GLN A 206      30.303 -15.987  -7.365  1.00 18.97           C  \nATOM   1603  CD  GLN A 206      31.011 -14.893  -8.094  1.00 23.00           C  \nATOM   1604  OE1 GLN A 206      31.338 -13.866  -7.526  1.00 22.61           O  \nATOM   1605  NE2 GLN A 206      31.241 -15.102  -9.390  1.00 27.66           N  \nATOM   1606  N   LEU A 207      30.228 -17.581  -3.041  1.00 16.00           N  \nATOM   1607  CA  LEU A 207      30.426 -17.500  -1.612  1.00 15.46           C  \nATOM   1608  C   LEU A 207      31.925 -17.327  -1.397  1.00 16.12           C  \nATOM   1609  O   LEU A 207      32.731 -18.086  -1.938  1.00 16.52           O  \nATOM   1610  CB  LEU A 207      29.940 -18.752  -0.873  1.00 16.44           C  \nATOM   1611  CG  LEU A 207      30.187 -18.793   0.630  1.00 18.88           C  \nATOM   1612  CD1 LEU A 207      29.480 -17.631   1.321  1.00 17.94           C  \nATOM   1613  CD2 LEU A 207      29.738 -20.133   1.215  1.00 23.10           C  \nATOM   1614  N   VAL A 208      32.280 -16.280  -0.662  1.00 14.72           N  \nATOM   1615  CA  VAL A 208      33.667 -15.925  -0.407  1.00 16.89           C  \nATOM   1616  C   VAL A 208      34.009 -16.453   0.958  1.00 18.46           C  \nATOM   1617  O   VAL A 208      33.405 -16.106   1.967  1.00 20.57           O  \nATOM   1618  CB  VAL A 208      33.865 -14.417  -0.420  1.00 16.76           C  \nATOM   1619  CG1 VAL A 208      35.337 -14.062  -0.102  1.00 18.10           C  \nATOM   1620  CG2 VAL A 208      33.439 -13.856  -1.742  1.00 16.87           C  \nATOM   1621  N   VAL A 209      34.938 -17.398   0.953  1.00 18.67           N  \nATOM   1622  CA  VAL A 209      35.324 -18.140   2.143  1.00 20.96           C  \nATOM   1623  C   VAL A 209      36.781 -17.880   2.423  1.00 20.78           C  \nATOM   1624  O   VAL A 209      37.614 -17.883   1.515  1.00 19.48           O  \nATOM   1625  CB  VAL A 209      35.129 -19.662   1.934  1.00 22.02           C  \nATOM   1626  CG1 VAL A 209      35.595 -20.457   3.151  1.00 24.99           C  \nATOM   1627  CG2 VAL A 209      33.678 -20.002   1.614  1.00 25.29           C  \nATOM   1628  N   THR A 210      37.087 -17.630   3.685  1.00 22.10           N  \nATOM   1629  CA  THR A 210      38.453 -17.347   4.073  1.00 24.71           C  \nATOM   1630  C   THR A 210      38.948 -18.522   4.879  1.00 26.51           C  \nATOM   1631  O   THR A 210      38.313 -18.890   5.881  1.00 28.31           O  \nATOM   1632  CB  THR A 210      38.465 -16.058   4.913  1.00 24.35           C  \nATOM   1633  OG1 THR A 210      38.021 -14.953   4.116  1.00 27.27           O  \nATOM   1634  CG2 THR A 210      39.896 -15.664   5.290  1.00 26.08           C  \nATOM   1635  N   LYS A 211      40.055 -19.127   4.459  1.00 27.01           N  \nATOM   1636  CA  LYS A 211      40.613 -20.247   5.212  1.00 28.91           C  \nATOM   1637  C   LYS A 211      42.111 -20.182   5.416  1.00 28.24           C  \nATOM   1638  O   LYS A 211      42.858 -19.699   4.576  1.00 25.93           O  \nATOM   1639  CB  LYS A 211      40.305 -21.563   4.536  1.00 29.59           C  \nATOM   1640  CG  LYS A 211      41.080 -21.771   3.281  1.00 34.09           C  \nATOM   1641  CD  LYS A 211      40.475 -22.924   2.489  1.00 40.10           C  \nATOM   1642  CE  LYS A 211      41.184 -23.109   1.171  1.00 41.95           C  \nATOM   1643  NZ  LYS A 211      41.722 -21.833   0.641  1.00 42.46           N  \nATOM   1644  N   GLU A 212      42.537 -20.773   6.526  1.00 28.21           N  \nATOM   1645  CA  GLU A 212      43.942 -20.751   6.879  1.00 28.49           C  \nATOM   1646  C   GLU A 212      44.720 -21.797   6.103  1.00 28.75           C  \nATOM   1647  O   GLU A 212      44.278 -22.945   5.925  1.00 28.90           O  \nATOM   1648  CB  GLU A 212      44.126 -20.916   8.389  1.00 28.83           C  \nATOM   1649  CG  GLU A 212      45.576 -20.737   8.777  1.00 32.00           C  \nATOM   1650  CD  GLU A 212      45.821 -20.798  10.269  1.00 36.29           C  \nATOM   1651  OE1 GLU A 212      44.870 -20.592  11.065  1.00 37.08           O  \nATOM   1652  OE2 GLU A 212      46.994 -21.050  10.619  1.00 38.37           O  \nATOM   1653  N   VAL A 213      45.864 -21.398   5.575  1.00 28.37           N  \nATOM   1654  CA  VAL A 213      46.685 -22.329   4.853  1.00 30.34           C  \nATOM   1655  C   VAL A 213      47.507 -23.074   5.893  1.00 32.13           C  \nATOM   1656  O   VAL A 213      48.186 -22.459   6.715  1.00 32.70           O  \nATOM   1657  CB  VAL A 213      47.612 -21.610   3.876  1.00 29.56           C  \nATOM   1658  CG1 VAL A 213      48.610 -22.595   3.292  1.00 31.34           C  \nATOM   1659  CG2 VAL A 213      46.773 -20.946   2.765  1.00 27.94           C  \nATOM   1660  N   GLU A 214      47.425 -24.396   5.888  1.00 34.34           N  \nATOM   1661  CA  GLU A 214      48.167 -25.166   6.890  1.00 36.09           C  \nATOM   1662  C   GLU A 214      49.322 -25.926   6.250  1.00 37.21           C  \nATOM   1663  O   GLU A 214      50.269 -25.321   5.741  1.00 39.17           O  \nATOM   1664  CB  GLU A 214      47.235 -26.118   7.659  1.00 36.52           C  \nHETATM 1666  C15 CT5 A1215      15.832  -3.998  -6.208  1.00 25.67           C  \nHETATM 1667  C12 CT5 A1215      14.587  -4.452  -5.763  1.00 28.05           C  \nHETATM 1668  O17 CT5 A1215      14.301  -5.791  -5.677  1.00 30.93           O  \nHETATM 1669  O18 CT5 A1215      12.319  -3.924  -4.962  1.00 29.97           O  \nHETATM 1670  C16 CT5 A1215      13.552  -3.469  -5.403  1.00 28.80           C  \nHETATM 1671  C22 CT5 A1215      13.860  -2.115  -5.505  1.00 27.01           C  \nHETATM 1672  C20 CT5 A1215      15.121  -1.683  -5.940  1.00 25.07           C  \nHETATM 1673  C8  CT5 A1215      16.106  -2.626  -6.272  1.00 22.65           C  \nHETATM 1674  C4  CT5 A1215      17.463  -2.201  -6.740  1.00 20.99           C  \nHETATM 1675  C1  CT5 A1215      17.793  -1.365  -7.889  1.00 20.01           C  \nHETATM 1676  C7  CT5 A1215      16.898  -0.697  -8.883  1.00 20.86           C  \nHETATM 1677  N5  CT5 A1215      19.135  -1.325  -7.892  1.00 20.33           N  \nHETATM 1678  C2  CT5 A1215      18.765  -2.576  -6.126  1.00 20.47           C  \nHETATM 1679  N3  CT5 A1215      19.722  -2.059  -6.829  1.00 17.62           N  \nHETATM 1680  C6  CT5 A1215      18.777  -3.426  -4.926  1.00 18.05           C  \nHETATM 1681  C10 CT5 A1215      17.894  -3.156  -3.904  1.00 20.49           C  \nHETATM 1682  C14 CT5 A1215      17.913  -3.976  -2.805  1.00 20.25           C  \nHETATM 1683  C26 CT5 A1215      16.971  -3.760  -1.648  1.00 22.59           C  \nHETATM 1684  C27 CT5 A1215      15.676  -3.093  -2.071  1.00 23.73           C  \nHETATM 1685  C13 CT5 A1215      18.858  -5.086  -2.726  1.00 18.94           C  \nHETATM 1686  C17 CT5 A1215      12.914  -6.160  -5.760  1.00 31.68           C  \nHETATM 1687  O25 CT5 A1215      18.763  -5.850  -1.608  1.00 19.94           O  \nHETATM 1688  C11 CT5 A1215      19.738  -5.362  -3.766  1.00 18.56           C  \nHETATM 1689  C18 CT5 A1215      12.153  -5.328  -4.722  1.00 31.36           C  \nHETATM 1690  C9  CT5 A1215      19.743  -4.525  -4.868  1.00 16.40           C  \nHETATM 1691  O24 CT5 A1215      20.591  -4.693  -5.899  1.00 16.05           O  \nHETATM 1692  O   HOH A2001      33.747  10.121   4.457  1.00 32.57           O  \nHETATM 1693  O   HOH A2002      33.709  14.705   5.205  1.00 49.78           O  \nHETATM 1694  O   HOH A2003      33.271   8.020   7.785  1.00 58.21           O  \nHETATM 1695  O   HOH A2004      27.559  13.039   1.851  1.00 20.69           O  \nHETATM 1696  O   HOH A2005      31.138   7.178   5.627  1.00 21.41           O  \nHETATM 1697  O   HOH A2006      28.574  13.706   9.058  1.00 46.07           O  \nHETATM 1698  O   HOH A2007      28.546   8.223   7.731  1.00 47.90           O  \nHETATM 1699  O   HOH A2008      27.013   8.881   9.642  1.00 55.69           O  \nHETATM 1700  O   HOH A2009      19.244  16.751   3.298  1.00 47.51           O  \nHETATM 1701  O   HOH A2010      23.223  17.640  -0.465  1.00 46.37           O  \nHETATM 1702  O   HOH A2011      24.682  12.764   1.192  1.00 20.03           O  \nHETATM 1703  O   HOH A2012      20.694  17.297  -0.738  1.00 45.18           O  \nHETATM 1704  O   HOH A2013      15.432  15.295   7.785  1.00 58.87           O  \nHETATM 1705  O   HOH A2014      21.025  16.212   7.526  1.00 30.86           O  \nHETATM 1706  O   HOH A2015      23.312  14.391   9.095  1.00 41.06           O  \nHETATM 1707  O   HOH A2016       9.815  12.964  14.033  1.00 44.20           O  \nHETATM 1708  O   HOH A2017      13.186  13.501   5.450  1.00 30.26           O  \nHETATM 1709  O   HOH A2018       9.626  10.848   4.388  1.00 43.10           O  \nHETATM 1710  O   HOH A2019       7.195  -5.599  18.415  1.00 29.96           O  \nHETATM 1711  O   HOH A2020       4.979  -2.964  18.647  1.00 43.44           O  \nHETATM 1712  O   HOH A2021       7.820  10.702   7.609  1.00 52.23           O  \nHETATM 1713  O   HOH A2022       9.742   7.666  10.456  1.00 32.28           O  \nHETATM 1714  O   HOH A2023      34.096  -7.584 -21.398  1.00 50.17           O  \nHETATM 1715  O   HOH A2024       5.386   9.408   7.348  1.00 29.55           O  \nHETATM 1716  O   HOH A2025      16.816 -21.086  12.638  1.00 44.99           O  \nHETATM 1717  O   HOH A2026      -0.724   3.653   8.584  1.00 40.42           O  \nHETATM 1718  O   HOH A2027       1.970   7.976   7.998  1.00 48.15           O  \nHETATM 1719  O   HOH A2028      10.724 -19.006  -0.420  1.00 44.13           O  \nHETATM 1720  O   HOH A2029       0.985   6.010  12.113  1.00 24.51           O  \nHETATM 1721  O   HOH A2030       0.022   1.730  10.264  1.00 39.49           O  \nHETATM 1722  O   HOH A2031       4.293   5.768  13.068  1.00 21.25           O  \nHETATM 1723  O   HOH A2032      -0.683   3.969  12.617  1.00 28.82           O  \nHETATM 1724  O   HOH A2033      14.080  -9.374 -17.331  1.00 50.80           O  \nHETATM 1725  O   HOH A2034      10.771 -10.592 -11.300  1.00 50.97           O  \nHETATM 1726  O   HOH A2035      11.590  -0.678  18.374  1.00 54.51           O  \nHETATM 1727  O   HOH A2036       7.359  -3.326  17.547  1.00 28.45           O  \nHETATM 1728  O   HOH A2037      15.774   2.096 -13.401  1.00 53.74           O  \nHETATM 1729  O   HOH A2038      34.291   3.925   7.869  1.00 35.99           O  \nHETATM 1730  O   HOH A2039       7.691  -7.873  16.784  1.00 29.87           O  \nHETATM 1731  O   HOH A2040      23.338  -9.568 -20.564  1.00 43.52           O  \nHETATM 1732  O   HOH A2041      13.676 -10.496  14.803  1.00 19.74           O  \nHETATM 1733  O   HOH A2042      10.247  -9.320  21.199  1.00 46.54           O  \nHETATM 1734  O   HOH A2043      29.672  -7.656 -21.175  1.00 33.76           O  \nHETATM 1735  O   HOH A2044      33.311  -4.878 -21.320  1.00 33.21           O  \nHETATM 1736  O   HOH A2045      14.148 -12.319  18.248  1.00 46.87           O  \nHETATM 1737  O   HOH A2046       5.842  -9.807  16.214  1.00 53.42           O  \nHETATM 1738  O   HOH A2047      26.047  -9.925 -20.577  1.00 44.12           O  \nHETATM 1739  O   HOH A2048      28.205 -11.828 -19.169  1.00 51.59           O  \nHETATM 1740  O   HOH A2049       7.018 -11.690  18.103  1.00 32.69           O  \nHETATM 1741  O   HOH A2050      13.171 -16.808  18.103  1.00 50.75           O  \nHETATM 1742  O   HOH A2051       7.630 -18.652  15.001  1.00 35.22           O  \nHETATM 1743  O   HOH A2052      36.591 -10.836  -1.292  1.00 25.85           O  \nHETATM 1744  O   HOH A2053      34.404  -0.608   6.743  1.00 35.57           O  \nHETATM 1745  O   HOH A2054       9.515 -19.777   6.620  1.00 44.50           O  \nHETATM 1746  O   HOH A2055      36.848 -10.426   6.341  1.00 47.63           O  \nHETATM 1747  O   HOH A2056      32.564  -3.096  10.771  1.00 35.13           O  \nHETATM 1748  O   HOH A2057      12.855 -13.652  14.741  1.00 52.07           O  \nHETATM 1749  O   HOH A2058      16.136 -11.184  17.442  1.00 28.92           O  \nHETATM 1750  O   HOH A2059      36.362  -8.361   1.620  1.00 47.82           O  \nHETATM 1751  O   HOH A2060      16.315 -17.988   2.804  1.00 22.44           O  \nHETATM 1752  O   HOH A2061      15.822 -20.072  10.246  1.00 27.61           O  \nHETATM 1753  O   HOH A2062      20.234  11.327  -9.762  1.00 40.85           O  \nHETATM 1754  O   HOH A2063      19.148  13.296  -3.775  1.00 29.51           O  \nHETATM 1755  O   HOH A2064      16.311  13.256  -3.672  1.00 36.26           O  \nHETATM 1756  O   HOH A2065      11.448 -16.597   0.466  1.00 44.29           O  \nHETATM 1757  O   HOH A2066       9.304 -13.992  -1.223  1.00 31.93           O  \nHETATM 1758  O   HOH A2067      12.407  -9.516  -1.443  1.00 23.52           O  \nHETATM 1759  O   HOH A2068      10.668 -12.597  -2.734  1.00 44.75           O  \nHETATM 1760  O   HOH A2069      12.596  -9.431  -5.073  1.00 27.46           O  \nHETATM 1761  O   HOH A2070       1.608  -8.482  14.147  1.00 48.32           O  \nHETATM 1762  O   HOH A2071      17.201 -15.025 -11.499  1.00 20.13           O  \nHETATM 1763  O   HOH A2072      13.549 -11.769  -8.192  1.00 39.83           O  \nHETATM 1764  O   HOH A2073       2.818 -18.261   3.819  1.00 31.04           O  \nHETATM 1765  O   HOH A2074       5.425 -14.277  14.059  1.00 48.07           O  \nHETATM 1766  O   HOH A2075       4.521 -19.472   2.688  1.00 51.72           O  \nHETATM 1767  O   HOH A2076      15.026 -11.956 -10.804  1.00 18.48           O  \nHETATM 1768  O   HOH A2077      16.542  -9.061 -17.872  1.00 24.53           O  \nHETATM 1769  O   HOH A2078      16.235 -13.882 -13.814  1.00 21.51           O  \nHETATM 1770  O   HOH A2079      12.907  -9.092 -12.533  1.00 32.28           O  \nHETATM 1771  O   HOH A2080      13.357 -13.438 -13.316  1.00 48.14           O  \nHETATM 1772  O   HOH A2081       6.007  -7.233  -5.401  1.00 38.88           O  \nHETATM 1773  O   HOH A2082      11.234  -4.797  -9.620  1.00 47.29           O  \nHETATM 1774  O   HOH A2083      12.365  -7.094 -14.089  1.00 39.72           O  \nHETATM 1775  O   HOH A2084      19.449 -10.326 -21.937  1.00 52.16           O  \nHETATM 1776  O   HOH A2085      16.931  -8.955 -20.507  1.00 32.52           O  \nHETATM 1777  O   HOH A2086      16.367  -1.783 -22.987  1.00 22.01           O  \nHETATM 1778  O   HOH A2087       9.857  -6.265 -22.362  1.00 44.47           O  \nHETATM 1779  O   HOH A2088      18.605  -2.743  18.020  1.00 42.52           O  \nHETATM 1780  O   HOH A2089      22.018  -0.385  16.840  1.00 52.01           O  \nHETATM 1781  O   HOH A2090      16.817   2.096 -16.069  1.00 44.15           O  \nHETATM 1782  O   HOH A2091      29.783   4.756   6.489  1.00 18.04           O  \nHETATM 1783  O   HOH A2092      32.753   1.754   6.853  1.00 30.74           O  \nHETATM 1784  O   HOH A2093      21.789  -7.514 -22.245  1.00 51.11           O  \nHETATM 1785  O   HOH A2094      17.713  -3.402 -28.791  1.00 23.17           O  \nHETATM 1786  O   HOH A2095      22.207   3.437 -26.628  1.00 34.75           O  \nHETATM 1787  O   HOH A2096      23.300  13.407  -9.476  1.00 49.06           O  \nHETATM 1788  O   HOH A2097      28.267  10.558 -11.801  1.00 47.12           O  \nHETATM 1789  O   HOH A2098      20.470  13.539  -6.157  1.00 31.00           O  \nHETATM 1790  O   HOH A2099      25.764   4.447 -22.312  1.00 50.74           O  \nHETATM 1791  O   HOH A2100      19.813   4.548 -22.413  1.00 34.72           O  \nHETATM 1792  O   HOH A2101      22.812   6.159 -22.746  1.00 43.07           O  \nHETATM 1793  O   HOH A2102      23.354  14.605  -5.862  1.00 41.52           O  \nHETATM 1794  O   HOH A2103      28.797  -4.073 -23.133  1.00 29.42           O  \nHETATM 1795  O   HOH A2104      29.444   2.561 -19.078  1.00 35.85           O  \nHETATM 1796  O   HOH A2105      25.471   1.632 -25.393  1.00 27.02           O  \nHETATM 1797  O   HOH A2106      10.464   2.869  16.169  1.00 36.03           O  \nHETATM 1798  O   HOH A2107      10.777   5.099  16.104  1.00 46.51           O  \nHETATM 1799  O   HOH A2108      24.228   7.807  12.189  1.00 37.70           O  \nHETATM 1800  O   HOH A2109      30.221  -2.262 -24.752  1.00 45.61           O  \nHETATM 1801  O   HOH A2110      34.608  -3.096 -19.352  1.00 31.03           O  \nHETATM 1802  O   HOH A2111      30.425  -4.992 -21.167  1.00 30.57           O  \nHETATM 1803  O   HOH A2112      38.033   7.670   6.586  1.00 45.05           O  \nHETATM 1804  O   HOH A2113      33.943   0.434 -13.436  1.00 30.07           O  \nHETATM 1805  O   HOH A2114      34.408  -7.884 -13.954  1.00 41.24           O  \nHETATM 1806  O   HOH A2115      34.588  -7.647 -10.005  1.00 49.62           O  \nHETATM 1807  O   HOH A2116      31.065  -4.292 -10.048  1.00 36.54           O  \nHETATM 1808  O   HOH A2117      34.993  -3.603 -12.266  1.00 61.19           O  \nHETATM 1809  O   HOH A2118      28.396  -8.597 -19.692  1.00 37.12           O  \nHETATM 1810  O   HOH A2119      35.488 -12.494 -15.453  1.00 49.36           O  \nHETATM 1811  O   HOH A2120      28.573 -12.382 -16.500  1.00 26.20           O  \nHETATM 1812  O   HOH A2121      28.107 -14.228 -14.841  1.00 34.66           O  \nHETATM 1813  O   HOH A2122      33.791  -8.680  -3.550  1.00 26.24           O  \nHETATM 1814  O   HOH A2123      33.175 -12.259 -11.103  1.00 49.68           O  \nHETATM 1815  O   HOH A2124      34.219  -9.996 -10.662  1.00 49.08           O  \nHETATM 1816  O   HOH A2125      33.931  -9.770  -1.084  1.00 18.44           O  \nHETATM 1817  O   HOH A2126      29.983 -10.073  -1.046  1.00 14.41           O  \nHETATM 1818  O   HOH A2127      34.283  -3.691   6.312  1.00 52.73           O  \nHETATM 1819  O   HOH A2128      35.538  -4.454   2.209  1.00 29.62           O  \nHETATM 1820  O   HOH A2129      36.664 -10.541   9.177  1.00 36.49           O  \nHETATM 1821  O   HOH A2130      31.256  -4.198  13.063  1.00 35.53           O  \nHETATM 1822  O   HOH A2131      27.222  -6.911  13.866  1.00 26.99           O  \nHETATM 1823  O   HOH A2132      37.101 -15.593   7.746  1.00 52.39           O  \nHETATM 1824  O   HOH A2133      30.500  -7.410  -0.778  1.00 13.69           O  \nHETATM 1825  O   HOH A2134      34.160  -7.429   0.825  1.00 33.98           O  \nHETATM 1826  O   HOH A2135      35.782  -6.720  -6.273  1.00 66.89           O  \nHETATM 1827  O   HOH A2136      29.267  -5.097  -7.639  1.00 29.60           O  \nHETATM 1828  O   HOH A2137      22.165  -3.147  -7.735  1.00 13.85           O  \nHETATM 1829  O   HOH A2138      22.769  -7.431  -3.061  1.00 13.68           O  \nHETATM 1830  O   HOH A2139      18.488   9.150  -9.990  1.00 25.35           O  \nHETATM 1831  O   HOH A2140      19.606  15.343  -1.375  1.00 52.39           O  \nHETATM 1832  O   HOH A2141      14.725  10.862  -3.931  1.00 31.08           O  \nHETATM 1833  O   HOH A2142      14.612   5.821 -10.892  1.00 55.31           O  \nHETATM 1834  O   HOH A2143      12.200  -1.654  -2.241  1.00 51.73           O  \nHETATM 1835  O   HOH A2144      10.959   2.029   0.664  1.00 25.94           O  \nHETATM 1836  O   HOH A2145      13.506   5.467  -7.080  1.00 29.28           O  \nHETATM 1837  O   HOH A2146      15.169   2.395  -8.938  1.00 31.22           O  \nHETATM 1838  O   HOH A2147       4.033   3.054  -1.673  1.00 34.89           O  \nHETATM 1839  O   HOH A2148       5.131   1.970  -4.088  1.00 56.69           O  \nHETATM 1840  O   HOH A2149       0.961   0.694   2.756  1.00 53.48           O  \nHETATM 1841  O   HOH A2150       0.208  -0.805   0.182  1.00 63.56           O  \nHETATM 1842  O   HOH A2151       4.955  -0.340  -1.556  1.00 27.21           O  \nHETATM 1843  O   HOH A2152       3.379  -1.312  -3.190  1.00 58.54           O  \nHETATM 1844  O   HOH A2153      -1.034  -1.615   1.915  1.00 51.43           O  \nHETATM 1845  O   HOH A2154      -3.224  -6.840   3.824  1.00 25.45           O  \nHETATM 1846  O   HOH A2155       1.254  -6.272  12.544  1.00 31.09           O  \nHETATM 1847  O   HOH A2156      -5.168  -5.239   4.613  1.00 37.32           O  \nHETATM 1848  O   HOH A2157      -0.546 -12.464  14.572  1.00 50.75           O  \nHETATM 1849  O   HOH A2158      -7.125 -13.907  11.515  1.00 27.06           O  \nHETATM 1850  O   HOH A2159       1.579 -13.312  11.846  1.00 24.93           O  \nHETATM 1851  O   HOH A2160       0.857 -17.223   5.449  1.00 21.33           O  \nHETATM 1852  O   HOH A2161       4.676 -15.628  11.148  1.00 25.06           O  \nHETATM 1853  O   HOH A2162       7.007 -14.064   0.040  1.00 31.41           O  \nHETATM 1854  O   HOH A2163       6.080 -17.938   1.677  1.00 39.12           O  \nHETATM 1855  O   HOH A2164      10.457 -15.572   2.671  1.00 33.56           O  \nHETATM 1856  O   HOH A2165      10.159 -10.251  -4.187  1.00 48.00           O  \nHETATM 1857  O   HOH A2166       9.429  -7.796  -4.315  1.00 37.01           O  \nHETATM 1858  O   HOH A2167       4.814  -2.958  -2.288  1.00 46.44           O  \nHETATM 1859  O   HOH A2168      11.047  -2.826  -0.349  1.00 34.82           O  \nHETATM 1860  O   HOH A2169       8.941  -3.737  -4.283  1.00 40.05           O  \nHETATM 1861  O   HOH A2170      10.451  -7.658  -1.890  1.00 19.13           O  \nHETATM 1862  O   HOH A2171      12.188  -5.430  -0.981  1.00 15.91           O  \nHETATM 1863  O   HOH A2172      19.161  -1.397  15.886  1.00 23.93           O  \nHETATM 1864  O   HOH A2173      26.999  -2.330  14.962  1.00 39.70           O  \nHETATM 1865  O   HOH A2174      23.099   3.514  12.298  1.00 37.26           O  \nHETATM 1866  O   HOH A2175      31.131   0.957   8.906  1.00 40.05           O  \nHETATM 1867  O   HOH A2176      30.373   2.342   5.102  1.00 15.11           O  \nHETATM 1868  O   HOH A2177      30.596   3.985   9.020  1.00 38.44           O  \nHETATM 1869  O   HOH A2178      31.666   4.877 -13.133  1.00 41.68           O  \nHETATM 1870  O   HOH A2179      30.494   6.983 -12.624  1.00 40.29           O  \nHETATM 1871  O   HOH A2180      20.451   3.128 -11.055  1.00 22.03           O  \nHETATM 1872  O   HOH A2181      29.108   5.672 -15.226  1.00 34.41           O  \nHETATM 1873  O   HOH A2182      28.703   2.516 -12.265  1.00 17.07           O  \nHETATM 1874  O   HOH A2183      23.535   1.628 -13.576  1.00 17.83           O  \nHETATM 1875  O   HOH A2184      21.273   5.907 -17.738  1.00 50.87           O  \nHETATM 1876  O   HOH A2185      21.984   3.072 -15.303  1.00 26.93           O  \nHETATM 1877  O   HOH A2186      22.711  11.305 -10.623  1.00 34.98           O  \nHETATM 1878  O   HOH A2187      20.971  11.101  -7.254  1.00 19.37           O  \nHETATM 1879  O   HOH A2188      26.666  12.423 -10.187  1.00 37.43           O  \nHETATM 1880  O   HOH A2189      24.958   5.597  -7.357  1.00 12.07           O  \nHETATM 1881  O   HOH A2190      31.900   7.765  -6.287  1.00 25.46           O  \nHETATM 1882  O   HOH A2191      32.348   3.335  -7.443  1.00 21.78           O  \nHETATM 1883  O   HOH A2192      25.775  12.889  -6.393  1.00 29.40           O  \nHETATM 1884  O   HOH A2193      25.495  14.528  -2.207  1.00 31.63           O  \nHETATM 1885  O   HOH A2194      27.071   5.432   6.808  1.00 21.07           O  \nHETATM 1886  O   HOH A2195      28.234   4.586  10.557  1.00 38.13           O  \nHETATM 1887  O   HOH A2196      21.641   4.911  11.307  1.00 40.19           O  \nHETATM 1888  O   HOH A2197      16.950   3.681  10.690  1.00 18.82           O  \nHETATM 1889  O   HOH A2198      11.383   1.203  14.010  1.00 27.48           O  \nHETATM 1890  O   HOH A2199      13.510   6.173  15.897  1.00 33.83           O  \nHETATM 1891  O   HOH A2200      17.171   5.986  13.164  1.00 26.84           O  \nHETATM 1892  O   HOH A2201      24.847   6.843   9.729  1.00 27.95           O  \nHETATM 1893  O   HOH A2202      25.207   7.006   5.386  1.00 13.78           O  \nHETATM 1894  O   HOH A2203      32.208   8.176   3.262  1.00 17.45           O  \nHETATM 1895  O   HOH A2204      31.820   8.099  -3.943  1.00 32.49           O  \nHETATM 1896  O   HOH A2205      38.053   8.694   3.624  1.00 24.83           O  \nHETATM 1897  O   HOH A2206      36.650  10.979   3.803  1.00 41.97           O  \nHETATM 1898  O   HOH A2207      32.772  -4.295   1.060  1.00 20.64           O  \nHETATM 1899  O   HOH A2208      32.714  -7.054  -2.270  1.00 24.05           O  \nHETATM 1900  O   HOH A2209      36.073  -7.326  -3.725  1.00 25.93           O  \nHETATM 1901  O   HOH A2210      34.655  -1.987   1.654  1.00 17.99           O  \nHETATM 1902  O   HOH A2211      38.523  -0.287  -4.324  1.00 20.07           O  \nHETATM 1903  O   HOH A2212      35.289  -4.075  -5.505  1.00 40.56           O  \nHETATM 1904  O   HOH A2213      33.693   5.876  -6.818  1.00 31.65           O  \nHETATM 1905  O   HOH A2214      32.365   2.462 -11.884  1.00 26.27           O  \nHETATM 1906  O   HOH A2215      34.595  -3.437  -8.655  1.00 46.95           O  \nHETATM 1907  O   HOH A2216      25.837  -5.742  15.288  1.00 48.15           O  \nHETATM 1908  O   HOH A2217      22.773  -8.138  19.038  1.00 35.22           O  \nHETATM 1909  O   HOH A2218      25.248 -16.127  17.483  1.00 27.88           O  \nHETATM 1910  O   HOH A2219      26.127  -7.988  17.249  1.00 36.17           O  \nHETATM 1911  O   HOH A2220      27.294 -13.974  20.654  1.00 48.98           O  \nHETATM 1912  O   HOH A2221      18.464 -11.345  18.841  1.00 40.89           O  \nHETATM 1913  O   HOH A2222      20.977 -11.020  19.860  1.00 49.66           O  \nHETATM 1914  O   HOH A2223      19.611 -18.444  17.688  1.00 58.45           O  \nHETATM 1915  O   HOH A2224      23.269 -17.967  15.359  1.00 24.84           O  \nHETATM 1916  O   HOH A2225      18.323 -17.877  13.008  1.00 26.68           O  \nHETATM 1917  O   HOH A2226      17.437 -17.544  16.599  1.00 51.77           O  \nHETATM 1918  O   HOH A2227      29.751 -17.749  13.287  1.00 34.64           O  \nHETATM 1919  O   HOH A2228      19.338 -19.666  15.402  1.00 42.64           O  \nHETATM 1920  O   HOH A2229      19.113 -22.387  13.068  1.00 39.64           O  \nHETATM 1921  O   HOH A2230      32.993 -16.812   8.503  1.00 44.59           O  \nHETATM 1922  O   HOH A2231      32.860 -18.513   6.403  1.00 46.34           O  \nHETATM 1923  O   HOH A2232      36.492 -24.040   3.357  1.00 52.41           O  \nHETATM 1924  O   HOH A2233      34.602 -21.972   6.289  1.00 39.49           O  \nHETATM 1925  O   HOH A2234      32.888 -20.956   7.919  1.00 43.01           O  \nHETATM 1926  O   HOH A2235      35.270 -24.422   1.034  1.00 49.99           O  \nHETATM 1927  O   HOH A2236      31.033 -23.956   8.011  1.00 31.63           O  \nHETATM 1928  O   HOH A2237      25.695 -27.043   3.447  1.00 40.30           O  \nHETATM 1929  O   HOH A2238      19.988 -27.212   2.120  1.00 39.11           O  \nHETATM 1930  O   HOH A2239      18.327 -26.462  -5.000  1.00 63.36           O  \nHETATM 1931  O   HOH A2240      13.601 -21.438   5.691  1.00 74.16           O  \nHETATM 1932  O   HOH A2241      16.123 -16.122  -3.584  1.00 22.16           O  \nHETATM 1933  O   HOH A2242      18.009 -18.650   0.335  1.00 23.06           O  \nHETATM 1934  O   HOH A2243      19.825 -21.212  -7.504  1.00 45.98           O  \nHETATM 1935  O   HOH A2244      14.921 -16.420 -11.269  1.00 25.34           O  \nHETATM 1936  O   HOH A2245      15.055 -20.293  -6.721  1.00 52.72           O  \nHETATM 1937  O   HOH A2246      21.697 -19.022 -16.150  1.00 45.59           O  \nHETATM 1938  O   HOH A2247      24.798 -18.394 -14.646  1.00 43.45           O  \nHETATM 1939  O   HOH A2248      22.656 -19.813  -9.663  1.00 30.78           O  \nHETATM 1940  O   HOH A2249      31.014 -17.921 -10.745  1.00 42.17           O  \nHETATM 1941  O   HOH A2250      31.584 -13.848 -12.033  1.00 55.19           O  \nHETATM 1942  O   HOH A2251      34.869 -14.722   3.970  1.00 25.72           O  \nHETATM 1943  O   HOH A2252      35.003 -17.198   5.681  1.00 38.13           O  \nHETATM 1944  O   HOH A2253      37.393 -12.101   4.512  1.00 52.80           O  \nHETATM 1945  O   HOH A2254      39.159 -20.600   1.562  1.00 41.31           O  \nHETATM 1946  O   HOH A2255      48.702 -20.387   8.539  1.00 30.44           O  \nHETATM 1947  O   HOH A2256      45.978 -25.641   3.122  1.00 39.05           O  \nHETATM 1948  O   HOH A2257      47.493 -26.980   4.869  1.00 60.05           O  \nHETATM 1949  O   HOH A2258      20.380  -7.911  -1.824  1.00 15.88           O  \n",
                    "binary": false
                  }
                ],
                "kwargs": {
                  "defaultRepresentation": false,
                  "ext": "pdb"
                }
              },
              {
                "component_index": 0,
                "target": "compList",
                "type": "call_method",
                "methodName": "addRepresentation",
                "reconstruc_color_scheme": false,
                "args": [
                  "cartoon"
                ],
                "kwargs": {
                  "sele": "not het",
                  "opacity": 0.2,
                  "color": "#cccccc"
                }
              },
              {
                "component_index": 0,
                "target": "compList",
                "type": "call_method",
                "methodName": "addRepresentation",
                "reconstruc_color_scheme": false,
                "args": [
                  "surface"
                ],
                "kwargs": {
                  "sele": "37, 40, 41, 79, 82, 83, 84, 173, 93, 124, 171, 2137, 2258",
                  "color": "pink",
                  "lowResolution": true,
                  "smooth": 1,
                  "useWorker": false
                }
              },
              {
                "target": "Widget",
                "type": "call_method",
                "methodName": "setSize",
                "reconstruc_color_scheme": false,
                "args": [
                  "",
                  "400px"
                ],
                "kwargs": {}
              }
            ],
            "_ngl_original_stage_parameters": {
              "impostor": true,
              "quality": "medium",
              "workerDefault": true,
              "sampleLevel": 0,
              "backgroundColor": "white",
              "rotateSpeed": 2,
              "zoomSpeed": 1.2,
              "panSpeed": 1,
              "clipNear": 0,
              "clipFar": 100,
              "clipDist": 10,
              "fogNear": 50,
              "fogFar": 100,
              "cameraFov": 40,
              "cameraEyeSep": 0.3,
              "cameraType": "perspective",
              "lightColor": 14540253,
              "lightIntensity": 1,
              "ambientColor": 14540253,
              "ambientIntensity": 0.2,
              "hoverTimeout": 0,
              "tooltip": true,
              "mousePreset": "default"
            },
            "_ngl_repr_dict": {
              "0": {
                "0": {
                  "type": "cartoon",
                  "params": {
                    "lazy": false,
                    "visible": true,
                    "quality": "medium",
                    "aspectRatio": 5,
                    "subdiv": 6,
                    "radialSegments": 10,
                    "tension": null,
                    "capped": true,
                    "smoothSheet": false,
                    "radiusType": "sstruc",
                    "radiusData": {},
                    "radiusSize": 1,
                    "radiusScale": 0.7,
                    "assembly": "default",
                    "defaultAssembly": "",
                    "clipNear": 0,
                    "clipRadius": 0,
                    "clipCenter": {
                      "x": 0,
                      "y": 0,
                      "z": 0
                    },
                    "flatShaded": false,
                    "opacity": 0.2,
                    "depthWrite": true,
                    "side": "double",
                    "wireframe": false,
                    "colorScheme": "uniform",
                    "colorScale": "RdYlBu",
                    "colorReverse": false,
                    "colorValue": 13421772,
                    "colorMode": "hcl",
                    "roughness": 0.4,
                    "metalness": 0,
                    "diffuse": 16777215,
                    "diffuseInterior": false,
                    "useInteriorColor": true,
                    "interiorColor": 2236962,
                    "interiorDarkening": 0,
                    "matrix": {
                      "elements": [
                        1,
                        0,
                        0,
                        0,
                        0,
                        1,
                        0,
                        0,
                        0,
                        0,
                        1,
                        0,
                        0,
                        0,
                        0,
                        1
                      ]
                    },
                    "disablePicking": false,
                    "sele": "not het"
                  }
                },
                "1": {
                  "type": "cartoon",
                  "params": {
                    "lazy": false,
                    "visible": true,
                    "quality": "medium",
                    "aspectRatio": 5,
                    "subdiv": 6,
                    "radialSegments": 10,
                    "tension": null,
                    "capped": true,
                    "smoothSheet": false,
                    "radiusType": "sstruc",
                    "radiusData": {},
                    "radiusSize": 1,
                    "radiusScale": 0.7,
                    "assembly": "default",
                    "defaultAssembly": "",
                    "clipNear": 0,
                    "clipRadius": 0,
                    "clipCenter": {
                      "x": 0,
                      "y": 0,
                      "z": 0
                    },
                    "flatShaded": false,
                    "opacity": 0.2,
                    "depthWrite": true,
                    "side": "double",
                    "wireframe": false,
                    "colorScheme": "uniform",
                    "colorScale": "RdYlBu",
                    "colorReverse": false,
                    "colorValue": 13421772,
                    "colorMode": "hcl",
                    "roughness": 0.4,
                    "metalness": 0,
                    "diffuse": 16777215,
                    "diffuseInterior": false,
                    "useInteriorColor": true,
                    "interiorColor": 2236962,
                    "interiorDarkening": 0,
                    "matrix": {
                      "elements": [
                        1,
                        0,
                        0,
                        0,
                        0,
                        1,
                        0,
                        0,
                        0,
                        0,
                        1,
                        0,
                        0,
                        0,
                        0,
                        1
                      ]
                    },
                    "disablePicking": false,
                    "sele": "not het"
                  }
                },
                "2": {
                  "type": "surface",
                  "params": {
                    "lazy": false,
                    "visible": true,
                    "quality": "medium",
                    "surfaceType": "ms",
                    "probeRadius": 1.4,
                    "smooth": 1,
                    "scaleFactor": 2,
                    "cutoff": 0,
                    "contour": false,
                    "background": false,
                    "opaqueBack": true,
                    "filterSele": "",
                    "useWorker": false,
                    "radiusType": "vdw",
                    "radiusData": {},
                    "radiusSize": 1,
                    "radiusScale": 1,
                    "assembly": "default",
                    "defaultAssembly": "",
                    "clipNear": 0,
                    "clipRadius": 0,
                    "clipCenter": {
                      "x": 0,
                      "y": 0,
                      "z": 0
                    },
                    "flatShaded": false,
                    "opacity": 1,
                    "depthWrite": true,
                    "side": "double",
                    "wireframe": false,
                    "colorScheme": "uniform",
                    "colorScale": "",
                    "colorReverse": false,
                    "colorValue": 16761035,
                    "colorMode": "hcl",
                    "roughness": 0.4,
                    "metalness": 0,
                    "diffuse": 16777215,
                    "diffuseInterior": false,
                    "useInteriorColor": false,
                    "interiorColor": 2236962,
                    "interiorDarkening": 0,
                    "matrix": {
                      "elements": [
                        1,
                        0,
                        0,
                        0,
                        0,
                        1,
                        0,
                        0,
                        0,
                        0,
                        1,
                        0,
                        0,
                        0,
                        0,
                        1
                      ]
                    },
                    "disablePicking": true,
                    "sele": "37, 40, 41, 79, 82, 83, 84, 173, 93, 124, 171, 2137, 2258"
                  }
                },
                "3": {
                  "type": "surface",
                  "params": {
                    "lazy": false,
                    "visible": true,
                    "quality": "medium",
                    "surfaceType": "ms",
                    "probeRadius": 1.4,
                    "smooth": 1,
                    "scaleFactor": 2,
                    "cutoff": 0,
                    "contour": false,
                    "background": false,
                    "opaqueBack": true,
                    "filterSele": "",
                    "useWorker": false,
                    "radiusType": "vdw",
                    "radiusData": {},
                    "radiusSize": 1,
                    "radiusScale": 1,
                    "assembly": "default",
                    "defaultAssembly": "",
                    "clipNear": 0,
                    "clipRadius": 0,
                    "clipCenter": {
                      "x": 0,
                      "y": 0,
                      "z": 0
                    },
                    "flatShaded": false,
                    "opacity": 1,
                    "depthWrite": true,
                    "side": "double",
                    "wireframe": false,
                    "colorScheme": "uniform",
                    "colorScale": "",
                    "colorReverse": false,
                    "colorValue": 16761035,
                    "colorMode": "hcl",
                    "roughness": 0.4,
                    "metalness": 0,
                    "diffuse": 16777215,
                    "diffuseInterior": false,
                    "useInteriorColor": false,
                    "interiorColor": 2236962,
                    "interiorDarkening": 0,
                    "matrix": {
                      "elements": [
                        1,
                        0,
                        0,
                        0,
                        0,
                        1,
                        0,
                        0,
                        0,
                        0,
                        1,
                        0,
                        0,
                        0,
                        0,
                        1
                      ]
                    },
                    "disablePicking": true,
                    "sele": "37, 40, 41, 79, 82, 83, 84, 173, 93, 124, 171, 2137, 2258"
                  }
                }
              },
              "1": {}
            },
            "_ngl_serialize": false,
            "_ngl_version": "2.0.0-dev.36",
            "_ngl_view_id": [
              "15DEA4C1-81C6-4AC0-BBC6-D10243B31755"
            ],
            "_player_dict": {},
            "_scene_position": {},
            "_scene_rotation": {},
            "_synced_model_ids": [],
            "_synced_repr_model_ids": [],
            "_view_count": null,
            "_view_height": "",
            "_view_module": "nglview-js-widgets",
            "_view_module_version": "3.0.1",
            "_view_name": "NGLView",
            "_view_width": "",
            "background": "white",
            "frame": 0,
            "gui_style": null,
            "layout": "IPY_MODEL_4bf629076ace4dd1b5ca72ad598a448a",
            "max_frame": 0,
            "n_components": 2,
            "picked": {}
          }
        },
        "4bf629076ace4dd1b5ca72ad598a448a": {
          "model_module": "@jupyter-widgets/base",
          "model_name": "LayoutModel",
          "model_module_version": "1.0.0",
          "state": {
            "_model_module": "@jupyter-widgets/base",
            "_model_module_version": "1.0.0",
            "_model_name": "LayoutModel",
            "_view_count": null,
            "_view_module": "@jupyter-widgets/base",
            "_view_module_version": "1.0.0",
            "_view_name": "LayoutView",
            "align_content": null,
            "align_items": null,
            "align_self": null,
            "border": null,
            "bottom": null,
            "display": null,
            "flex": null,
            "flex_flow": null,
            "height": null,
            "justify_content": null,
            "left": null,
            "margin": null,
            "max_height": null,
            "max_width": null,
            "min_height": null,
            "min_width": null,
            "order": null,
            "overflow": null,
            "overflow_x": null,
            "overflow_y": null,
            "padding": null,
            "right": null,
            "top": null,
            "visibility": null,
            "width": null
          }
        },
        "d9400fd7245f4335b3cdb608fcb60099": {
          "model_module": "@jupyter-widgets/controls",
          "model_name": "ButtonModel",
          "model_module_version": "1.0.0",
          "state": {
            "_dom_classes": [],
            "_model_module": "@jupyter-widgets/controls",
            "_model_module_version": "1.0.0",
            "_model_name": "ButtonModel",
            "_view_count": null,
            "_view_module": "@jupyter-widgets/controls",
            "_view_module_version": "1.0.0",
            "_view_name": "ButtonView",
            "button_style": "",
            "description": "",
            "disabled": false,
            "icon": "compress",
            "layout": "IPY_MODEL_7c0e5eb26e7b4fc6a7a0e1d7f51a7826",
            "style": "IPY_MODEL_b458b11dd2d440a1a8bce606ab71cb98",
            "tooltip": ""
          }
        },
        "ad436c0b8eab4185a7e079a9bdf46e01": {
          "model_module": "@jupyter-widgets/controls",
          "model_name": "HBoxModel",
          "model_module_version": "1.0.0",
          "state": {
            "_dom_classes": [],
            "_model_module": "@jupyter-widgets/controls",
            "_model_module_version": "1.0.0",
            "_model_name": "HBoxModel",
            "_view_count": null,
            "_view_module": "@jupyter-widgets/controls",
            "_view_module_version": "1.0.0",
            "_view_name": "HBoxView",
            "box_style": "",
            "children": [
              "IPY_MODEL_e0b09975a11c419482731fe17c5b5943",
              "IPY_MODEL_19978ece00b44dc3a468ed5510d3664b"
            ],
            "layout": "IPY_MODEL_3f6c4b073f884b32a88a3606b680ea94"
          }
        },
        "3333da27e6a54b80a47ed9d57434ce92": {
          "model_module": "@jupyter-widgets/base",
          "model_name": "LayoutModel",
          "model_module_version": "1.0.0",
          "state": {
            "_model_module": "@jupyter-widgets/base",
            "_model_module_version": "1.0.0",
            "_model_name": "LayoutModel",
            "_view_count": null,
            "_view_module": "@jupyter-widgets/base",
            "_view_module_version": "1.0.0",
            "_view_name": "LayoutView",
            "align_content": null,
            "align_items": null,
            "align_self": null,
            "border": null,
            "bottom": null,
            "display": null,
            "flex": null,
            "flex_flow": null,
            "height": null,
            "justify_content": null,
            "left": null,
            "margin": null,
            "max_height": null,
            "max_width": null,
            "min_height": null,
            "min_width": null,
            "order": null,
            "overflow": null,
            "overflow_x": null,
            "overflow_y": null,
            "padding": null,
            "right": null,
            "top": null,
            "visibility": null,
            "width": null
          }
        },
        "645e05834d534977a52eb9dbf5a575ce": {
          "model_module": "@jupyter-widgets/controls",
          "model_name": "DescriptionStyleModel",
          "model_module_version": "1.0.0",
          "state": {
            "_model_module": "@jupyter-widgets/controls",
            "_model_module_version": "1.0.0",
            "_model_name": "DescriptionStyleModel",
            "_view_count": null,
            "_view_module": "@jupyter-widgets/base",
            "_view_module_version": "1.0.0",
            "_view_name": "StyleView",
            "description_width": ""
          }
        },
        "e68676bb8af54cdc9a751c669f456710": {
          "model_module": "@jupyter-widgets/base",
          "model_name": "LayoutModel",
          "model_module_version": "1.0.0",
          "state": {
            "_model_module": "@jupyter-widgets/base",
            "_model_module_version": "1.0.0",
            "_model_name": "LayoutModel",
            "_view_count": null,
            "_view_module": "@jupyter-widgets/base",
            "_view_module_version": "1.0.0",
            "_view_name": "LayoutView",
            "align_content": null,
            "align_items": null,
            "align_self": null,
            "border": null,
            "bottom": null,
            "display": null,
            "flex": null,
            "flex_flow": null,
            "height": null,
            "justify_content": null,
            "left": null,
            "margin": null,
            "max_height": null,
            "max_width": null,
            "min_height": null,
            "min_width": null,
            "order": null,
            "overflow": null,
            "overflow_x": null,
            "overflow_y": null,
            "padding": null,
            "right": null,
            "top": null,
            "visibility": null,
            "width": null
          }
        },
        "ac72c15fb40a4495a9af3436a411eee3": {
          "model_module": "@jupyter-widgets/controls",
          "model_name": "SliderStyleModel",
          "model_module_version": "1.0.0",
          "state": {
            "_model_module": "@jupyter-widgets/controls",
            "_model_module_version": "1.0.0",
            "_model_name": "SliderStyleModel",
            "_view_count": null,
            "_view_module": "@jupyter-widgets/base",
            "_view_module_version": "1.0.0",
            "_view_name": "StyleView",
            "description_width": "",
            "handle_color": null
          }
        },
        "e0b09975a11c419482731fe17c5b5943": {
          "model_module": "@jupyter-widgets/controls",
          "model_name": "PlayModel",
          "model_module_version": "1.0.0",
          "state": {
            "_dom_classes": [],
            "_model_module": "@jupyter-widgets/controls",
            "_model_module_version": "1.0.0",
            "_model_name": "PlayModel",
            "_playing": false,
            "_repeat": false,
            "_view_count": null,
            "_view_module": "@jupyter-widgets/controls",
            "_view_module_version": "1.0.0",
            "_view_name": "PlayView",
            "description": "",
            "disabled": false,
            "interval": 100,
            "layout": "IPY_MODEL_3333da27e6a54b80a47ed9d57434ce92",
            "max": 0,
            "min": 0,
            "show_repeat": true,
            "step": 1,
            "style": "IPY_MODEL_645e05834d534977a52eb9dbf5a575ce",
            "value": 0
          }
        },
        "19978ece00b44dc3a468ed5510d3664b": {
          "model_module": "@jupyter-widgets/controls",
          "model_name": "IntSliderModel",
          "model_module_version": "1.0.0",
          "state": {
            "_dom_classes": [],
            "_model_module": "@jupyter-widgets/controls",
            "_model_module_version": "1.0.0",
            "_model_name": "IntSliderModel",
            "_view_count": null,
            "_view_module": "@jupyter-widgets/controls",
            "_view_module_version": "1.0.0",
            "_view_name": "IntSliderView",
            "continuous_update": true,
            "description": "",
            "disabled": false,
            "layout": "IPY_MODEL_e68676bb8af54cdc9a751c669f456710",
            "max": 0,
            "min": 0,
            "orientation": "horizontal",
            "readout": true,
            "readout_format": "d",
            "step": 1,
            "style": "IPY_MODEL_ac72c15fb40a4495a9af3436a411eee3",
            "value": 0
          }
        },
        "7c0e5eb26e7b4fc6a7a0e1d7f51a7826": {
          "model_module": "@jupyter-widgets/base",
          "model_name": "LayoutModel",
          "model_module_version": "1.0.0",
          "state": {
            "_model_module": "@jupyter-widgets/base",
            "_model_module_version": "1.0.0",
            "_model_name": "LayoutModel",
            "_view_count": null,
            "_view_module": "@jupyter-widgets/base",
            "_view_module_version": "1.0.0",
            "_view_name": "LayoutView",
            "align_content": null,
            "align_items": null,
            "align_self": null,
            "border": null,
            "bottom": null,
            "display": null,
            "flex": null,
            "flex_flow": null,
            "height": null,
            "justify_content": null,
            "left": null,
            "margin": null,
            "max_height": null,
            "max_width": null,
            "min_height": null,
            "min_width": null,
            "order": null,
            "overflow": null,
            "overflow_x": null,
            "overflow_y": null,
            "padding": null,
            "right": null,
            "top": null,
            "visibility": null,
            "width": "34px"
          }
        },
        "b458b11dd2d440a1a8bce606ab71cb98": {
          "model_module": "@jupyter-widgets/controls",
          "model_name": "ButtonStyleModel",
          "model_module_version": "1.0.0",
          "state": {
            "_model_module": "@jupyter-widgets/controls",
            "_model_module_version": "1.0.0",
            "_model_name": "ButtonStyleModel",
            "_view_count": null,
            "_view_module": "@jupyter-widgets/base",
            "_view_module_version": "1.0.0",
            "_view_name": "StyleView",
            "button_color": null,
            "font_weight": ""
          }
        },
        "3f6c4b073f884b32a88a3606b680ea94": {
          "model_module": "@jupyter-widgets/base",
          "model_name": "LayoutModel",
          "model_module_version": "1.0.0",
          "state": {
            "_model_module": "@jupyter-widgets/base",
            "_model_module_version": "1.0.0",
            "_model_name": "LayoutModel",
            "_view_count": null,
            "_view_module": "@jupyter-widgets/base",
            "_view_module_version": "1.0.0",
            "_view_name": "LayoutView",
            "align_content": null,
            "align_items": null,
            "align_self": null,
            "border": null,
            "bottom": null,
            "display": null,
            "flex": null,
            "flex_flow": null,
            "height": null,
            "justify_content": null,
            "left": null,
            "margin": null,
            "max_height": null,
            "max_width": null,
            "min_height": null,
            "min_width": null,
            "order": null,
            "overflow": null,
            "overflow_x": null,
            "overflow_y": null,
            "padding": null,
            "right": null,
            "top": null,
            "visibility": null,
            "width": null
          }
        },
        "b20b1785c7ab455e918ee85577751eba": {
          "model_module": "nglview-js-widgets",
          "model_name": "NGLModel",
          "model_module_version": "3.0.1",
          "state": {
            "_camera_orientation": [
              13.070107476738448,
              0,
              0,
              0,
              0,
              13.070107476738448,
              0,
              0,
              0,
              0,
              13.070107476738448,
              0,
              0,
              0,
              0,
              1
            ],
            "_camera_str": "orthographic",
            "_dom_classes": [],
            "_gui_theme": null,
            "_ibtn_fullscreen": "IPY_MODEL_c9e0e20a428f403ba911f1491429bbe7",
            "_igui": null,
            "_iplayer": "IPY_MODEL_b7af70acbf5042e98fcc89f2346f0f55",
            "_model_module": "nglview-js-widgets",
            "_model_module_version": "3.0.1",
            "_model_name": "NGLModel",
            "_ngl_color_dict": {},
            "_ngl_coordinate_resource": {},
            "_ngl_full_stage_parameters": {
              "impostor": true,
              "quality": "medium",
              "workerDefault": true,
              "sampleLevel": 0,
              "backgroundColor": "white",
              "rotateSpeed": 2,
              "zoomSpeed": 1.2,
              "panSpeed": 1,
              "clipNear": 0,
              "clipFar": 100,
              "clipDist": 10,
              "fogNear": 50,
              "fogFar": 100,
              "cameraFov": 40,
              "cameraEyeSep": 0.3,
              "cameraType": "perspective",
              "lightColor": 14540253,
              "lightIntensity": 1,
              "ambientColor": 14540253,
              "ambientIntensity": 0.2,
              "hoverTimeout": 0,
              "tooltip": true,
              "mousePreset": "default"
            },
            "_ngl_msg_archive": [
              {
                "target": "Stage",
                "type": "call_method",
                "methodName": "loadFile",
                "reconstruc_color_scheme": false,
                "args": [
                  {
                    "type": "path",
                    "data": "drive/MyDrive/MolDock4Colab/Output/download.pdb",
                    "binary": false
                  }
                ],
                "kwargs": {
                  "defaultRepresentation": true,
                  "ext": "pdb"
                }
              },
              {
                "target": "Stage",
                "type": "call_method",
                "methodName": "loadFile",
                "reconstruc_color_scheme": false,
                "args": [
                  {
                    "type": "path",
                    "data": "drive/MyDrive/MolDock4Colab/Output/box.pdb",
                    "binary": false
                  }
                ],
                "kwargs": {
                  "defaultRepresentation": true,
                  "ext": "pdb"
                }
              },
              {
                "component_index": 0,
                "target": "compList",
                "type": "call_method",
                "methodName": "addRepresentation",
                "reconstruc_color_scheme": false,
                "args": [
                  "cartoon"
                ],
                "kwargs": {
                  "sele": "not het",
                  "color": "#cccccc",
                  "opacity": 0.2
                }
              },
              {
                "component_index": 1,
                "target": "compList",
                "type": "call_method",
                "methodName": "addRepresentation",
                "reconstruc_color_scheme": false,
                "args": [
                  "ball+stick"
                ],
                "kwargs": {
                  "sele": "9999",
                  "color": "pink",
                  "aspectRatio": 8
                }
              },
              {
                "component_index": 1,
                "target": "compList",
                "type": "call_method",
                "methodName": "addRepresentation",
                "reconstruc_color_scheme": false,
                "args": [
                  "distance"
                ],
                "kwargs": {
                  "sele": "all",
                  "atomPair": [
                    [
                      "9999:Z.ZN1",
                      "9999:Z.ZN2"
                    ],
                    [
                      "9999:Z.ZN2",
                      "9999:Z.ZN4"
                    ],
                    [
                      "9999:Z.ZN4",
                      "9999:Z.ZN3"
                    ],
                    [
                      "9999:Z.ZN3",
                      "9999:Z.ZN1"
                    ],
                    [
                      "9999:Z.ZN5",
                      "9999:Z.ZN6"
                    ],
                    [
                      "9999:Z.ZN6",
                      "9999:Z.ZN8"
                    ],
                    [
                      "9999:Z.ZN8",
                      "9999:Z.ZN7"
                    ],
                    [
                      "9999:Z.ZN7",
                      "9999:Z.ZN5"
                    ],
                    [
                      "9999:Z.ZN1",
                      "9999:Z.ZN5"
                    ],
                    [
                      "9999:Z.ZN2",
                      "9999:Z.ZN6"
                    ],
                    [
                      "9999:Z.ZN3",
                      "9999:Z.ZN7"
                    ],
                    [
                      "9999:Z.ZN4",
                      "9999:Z.ZN8"
                    ]
                  ],
                  "labelVisible": false,
                  "color": "black"
                }
              },
              {
                "component_index": 0,
                "target": "compList",
                "type": "call_method",
                "methodName": "addRepresentation",
                "reconstruc_color_scheme": false,
                "args": [
                  "surface"
                ],
                "kwargs": {
                  "sele": "37, 40, 41, 79, 82, 83, 84, 173, 93, 124, 171, 2137, 2258",
                  "color": "skyblue",
                  "lowResolution": true,
                  "smooth": 2,
                  "surfaceType": "av",
                  "contour": true,
                  "opacity": 1,
                  "useWorker": true,
                  "wrap": true
                }
              },
              {
                "target": "Widget",
                "type": "call_method",
                "methodName": "setSize",
                "reconstruc_color_scheme": false,
                "args": [
                  "",
                  "400px"
                ],
                "kwargs": {}
              }
            ],
            "_ngl_original_stage_parameters": {
              "impostor": true,
              "quality": "medium",
              "workerDefault": true,
              "sampleLevel": 0,
              "backgroundColor": "white",
              "rotateSpeed": 2,
              "zoomSpeed": 1.2,
              "panSpeed": 1,
              "clipNear": 0,
              "clipFar": 100,
              "clipDist": 10,
              "fogNear": 50,
              "fogFar": 100,
              "cameraFov": 40,
              "cameraEyeSep": 0.3,
              "cameraType": "perspective",
              "lightColor": 14540253,
              "lightIntensity": 1,
              "ambientColor": 14540253,
              "ambientIntensity": 0.2,
              "hoverTimeout": 0,
              "tooltip": true,
              "mousePreset": "default"
            },
            "_ngl_repr_dict": {},
            "_ngl_serialize": false,
            "_ngl_version": "2.0.0-dev.36",
            "_ngl_view_id": [
              "5845B9BB-5A7A-4017-B4A0-0604B0F75221"
            ],
            "_player_dict": {},
            "_scene_position": {},
            "_scene_rotation": {},
            "_synced_model_ids": [],
            "_synced_repr_model_ids": [],
            "_view_count": null,
            "_view_height": "",
            "_view_module": "nglview-js-widgets",
            "_view_module_version": "3.0.1",
            "_view_name": "NGLView",
            "_view_width": "",
            "background": "white",
            "frame": 0,
            "gui_style": null,
            "layout": "IPY_MODEL_f0ccd08482f744b38a4ff330ae684049",
            "max_frame": 0,
            "n_components": 0,
            "picked": {}
          }
        },
        "f0ccd08482f744b38a4ff330ae684049": {
          "model_module": "@jupyter-widgets/base",
          "model_name": "LayoutModel",
          "model_module_version": "1.0.0",
          "state": {
            "_model_module": "@jupyter-widgets/base",
            "_model_module_version": "1.0.0",
            "_model_name": "LayoutModel",
            "_view_count": null,
            "_view_module": "@jupyter-widgets/base",
            "_view_module_version": "1.0.0",
            "_view_name": "LayoutView",
            "align_content": null,
            "align_items": null,
            "align_self": null,
            "border": null,
            "bottom": null,
            "display": null,
            "flex": null,
            "flex_flow": null,
            "height": null,
            "justify_content": null,
            "left": null,
            "margin": null,
            "max_height": null,
            "max_width": null,
            "min_height": null,
            "min_width": null,
            "order": null,
            "overflow": null,
            "overflow_x": null,
            "overflow_y": null,
            "padding": null,
            "right": null,
            "top": null,
            "visibility": null,
            "width": null
          }
        },
        "c9e0e20a428f403ba911f1491429bbe7": {
          "model_module": "@jupyter-widgets/controls",
          "model_name": "ButtonModel",
          "model_module_version": "1.0.0",
          "state": {
            "_dom_classes": [],
            "_model_module": "@jupyter-widgets/controls",
            "_model_module_version": "1.0.0",
            "_model_name": "ButtonModel",
            "_view_count": null,
            "_view_module": "@jupyter-widgets/controls",
            "_view_module_version": "1.0.0",
            "_view_name": "ButtonView",
            "button_style": "",
            "description": "",
            "disabled": false,
            "icon": "compress",
            "layout": "IPY_MODEL_513e962d737b483f867293860f7ecf1b",
            "style": "IPY_MODEL_17bf4839adc04bffad051c8358778cc0",
            "tooltip": ""
          }
        },
        "b7af70acbf5042e98fcc89f2346f0f55": {
          "model_module": "@jupyter-widgets/controls",
          "model_name": "HBoxModel",
          "model_module_version": "1.0.0",
          "state": {
            "_dom_classes": [],
            "_model_module": "@jupyter-widgets/controls",
            "_model_module_version": "1.0.0",
            "_model_name": "HBoxModel",
            "_view_count": null,
            "_view_module": "@jupyter-widgets/controls",
            "_view_module_version": "1.0.0",
            "_view_name": "HBoxView",
            "box_style": "",
            "children": [
              "IPY_MODEL_dde8212fb28c4e619fa21558c68b083f",
              "IPY_MODEL_c37a25da549241369734c29244273d25"
            ],
            "layout": "IPY_MODEL_e98b3578ef164b3aa93f71857246aad1"
          }
        },
        "38d6d47b283c46d7a7c90c41215b7bd3": {
          "model_module": "@jupyter-widgets/base",
          "model_name": "LayoutModel",
          "model_module_version": "1.0.0",
          "state": {
            "_model_module": "@jupyter-widgets/base",
            "_model_module_version": "1.0.0",
            "_model_name": "LayoutModel",
            "_view_count": null,
            "_view_module": "@jupyter-widgets/base",
            "_view_module_version": "1.0.0",
            "_view_name": "LayoutView",
            "align_content": null,
            "align_items": null,
            "align_self": null,
            "border": null,
            "bottom": null,
            "display": null,
            "flex": null,
            "flex_flow": null,
            "height": null,
            "justify_content": null,
            "left": null,
            "margin": null,
            "max_height": null,
            "max_width": null,
            "min_height": null,
            "min_width": null,
            "order": null,
            "overflow": null,
            "overflow_x": null,
            "overflow_y": null,
            "padding": null,
            "right": null,
            "top": null,
            "visibility": null,
            "width": null
          }
        },
        "c11dc4917f394c37a20c4bb427ddb74f": {
          "model_module": "@jupyter-widgets/controls",
          "model_name": "DescriptionStyleModel",
          "model_module_version": "1.0.0",
          "state": {
            "_model_module": "@jupyter-widgets/controls",
            "_model_module_version": "1.0.0",
            "_model_name": "DescriptionStyleModel",
            "_view_count": null,
            "_view_module": "@jupyter-widgets/base",
            "_view_module_version": "1.0.0",
            "_view_name": "StyleView",
            "description_width": ""
          }
        },
        "c23abca1451343c4a9fe974eed3e0cb5": {
          "model_module": "@jupyter-widgets/base",
          "model_name": "LayoutModel",
          "model_module_version": "1.0.0",
          "state": {
            "_model_module": "@jupyter-widgets/base",
            "_model_module_version": "1.0.0",
            "_model_name": "LayoutModel",
            "_view_count": null,
            "_view_module": "@jupyter-widgets/base",
            "_view_module_version": "1.0.0",
            "_view_name": "LayoutView",
            "align_content": null,
            "align_items": null,
            "align_self": null,
            "border": null,
            "bottom": null,
            "display": null,
            "flex": null,
            "flex_flow": null,
            "height": null,
            "justify_content": null,
            "left": null,
            "margin": null,
            "max_height": null,
            "max_width": null,
            "min_height": null,
            "min_width": null,
            "order": null,
            "overflow": null,
            "overflow_x": null,
            "overflow_y": null,
            "padding": null,
            "right": null,
            "top": null,
            "visibility": null,
            "width": null
          }
        },
        "fc32b4dc4c814c1fa355b856e69016b6": {
          "model_module": "@jupyter-widgets/controls",
          "model_name": "SliderStyleModel",
          "model_module_version": "1.0.0",
          "state": {
            "_model_module": "@jupyter-widgets/controls",
            "_model_module_version": "1.0.0",
            "_model_name": "SliderStyleModel",
            "_view_count": null,
            "_view_module": "@jupyter-widgets/base",
            "_view_module_version": "1.0.0",
            "_view_name": "StyleView",
            "description_width": "",
            "handle_color": null
          }
        },
        "dde8212fb28c4e619fa21558c68b083f": {
          "model_module": "@jupyter-widgets/controls",
          "model_name": "PlayModel",
          "model_module_version": "1.0.0",
          "state": {
            "_dom_classes": [],
            "_model_module": "@jupyter-widgets/controls",
            "_model_module_version": "1.0.0",
            "_model_name": "PlayModel",
            "_playing": false,
            "_repeat": false,
            "_view_count": null,
            "_view_module": "@jupyter-widgets/controls",
            "_view_module_version": "1.0.0",
            "_view_name": "PlayView",
            "description": "",
            "disabled": false,
            "interval": 100,
            "layout": "IPY_MODEL_38d6d47b283c46d7a7c90c41215b7bd3",
            "max": 0,
            "min": 0,
            "show_repeat": true,
            "step": 1,
            "style": "IPY_MODEL_c11dc4917f394c37a20c4bb427ddb74f",
            "value": 0
          }
        },
        "c37a25da549241369734c29244273d25": {
          "model_module": "@jupyter-widgets/controls",
          "model_name": "IntSliderModel",
          "model_module_version": "1.0.0",
          "state": {
            "_dom_classes": [],
            "_model_module": "@jupyter-widgets/controls",
            "_model_module_version": "1.0.0",
            "_model_name": "IntSliderModel",
            "_view_count": null,
            "_view_module": "@jupyter-widgets/controls",
            "_view_module_version": "1.0.0",
            "_view_name": "IntSliderView",
            "continuous_update": true,
            "description": "",
            "disabled": false,
            "layout": "IPY_MODEL_c23abca1451343c4a9fe974eed3e0cb5",
            "max": 0,
            "min": 0,
            "orientation": "horizontal",
            "readout": true,
            "readout_format": "d",
            "step": 1,
            "style": "IPY_MODEL_fc32b4dc4c814c1fa355b856e69016b6",
            "value": 0
          }
        },
        "513e962d737b483f867293860f7ecf1b": {
          "model_module": "@jupyter-widgets/base",
          "model_name": "LayoutModel",
          "model_module_version": "1.0.0",
          "state": {
            "_model_module": "@jupyter-widgets/base",
            "_model_module_version": "1.0.0",
            "_model_name": "LayoutModel",
            "_view_count": null,
            "_view_module": "@jupyter-widgets/base",
            "_view_module_version": "1.0.0",
            "_view_name": "LayoutView",
            "align_content": null,
            "align_items": null,
            "align_self": null,
            "border": null,
            "bottom": null,
            "display": null,
            "flex": null,
            "flex_flow": null,
            "height": null,
            "justify_content": null,
            "left": null,
            "margin": null,
            "max_height": null,
            "max_width": null,
            "min_height": null,
            "min_width": null,
            "order": null,
            "overflow": null,
            "overflow_x": null,
            "overflow_y": null,
            "padding": null,
            "right": null,
            "top": null,
            "visibility": null,
            "width": "34px"
          }
        },
        "17bf4839adc04bffad051c8358778cc0": {
          "model_module": "@jupyter-widgets/controls",
          "model_name": "ButtonStyleModel",
          "model_module_version": "1.0.0",
          "state": {
            "_model_module": "@jupyter-widgets/controls",
            "_model_module_version": "1.0.0",
            "_model_name": "ButtonStyleModel",
            "_view_count": null,
            "_view_module": "@jupyter-widgets/base",
            "_view_module_version": "1.0.0",
            "_view_name": "StyleView",
            "button_color": null,
            "font_weight": ""
          }
        },
        "e98b3578ef164b3aa93f71857246aad1": {
          "model_module": "@jupyter-widgets/base",
          "model_name": "LayoutModel",
          "model_module_version": "1.0.0",
          "state": {
            "_model_module": "@jupyter-widgets/base",
            "_model_module_version": "1.0.0",
            "_model_name": "LayoutModel",
            "_view_count": null,
            "_view_module": "@jupyter-widgets/base",
            "_view_module_version": "1.0.0",
            "_view_name": "LayoutView",
            "align_content": null,
            "align_items": null,
            "align_self": null,
            "border": null,
            "bottom": null,
            "display": null,
            "flex": null,
            "flex_flow": null,
            "height": null,
            "justify_content": null,
            "left": null,
            "margin": null,
            "max_height": null,
            "max_width": null,
            "min_height": null,
            "min_width": null,
            "order": null,
            "overflow": null,
            "overflow_x": null,
            "overflow_y": null,
            "padding": null,
            "right": null,
            "top": null,
            "visibility": null,
            "width": null
          }
        }
      }
    }
  },
  "nbformat": 4,
  "nbformat_minor": 5
}